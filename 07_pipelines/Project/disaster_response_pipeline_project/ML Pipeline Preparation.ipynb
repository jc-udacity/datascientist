{
 "cells": [
  {
   "cell_type": "markdown",
   "metadata": {},
   "source": [
    "# ML Pipeline Preparation\n",
    "Follow the instructions below to help you create your ML pipeline.\n",
    "### 1. Import libraries and load data from database.\n",
    "- Import Python libraries\n",
    "- Load dataset from database with [`read_sql_table`](https://pandas.pydata.org/pandas-docs/stable/generated/pandas.read_sql_table.html)\n",
    "- Define feature and target variables X and Y"
   ]
  },
  {
   "cell_type": "code",
   "execution_count": 55,
   "metadata": {},
   "outputs": [
    {
     "name": "stderr",
     "output_type": "stream",
     "text": [
      "[nltk_data] Downloading package punkt to /home/jc/nltk_data...\n",
      "[nltk_data]   Package punkt is already up-to-date!\n",
      "[nltk_data] Downloading package wordnet to /home/jc/nltk_data...\n",
      "[nltk_data]   Package wordnet is already up-to-date!\n",
      "[nltk_data] Downloading package stopwords to /home/jc/nltk_data...\n",
      "[nltk_data]   Package stopwords is already up-to-date!\n"
     ]
    }
   ],
   "source": [
    "# import libraries\n",
    "import pandas as pd\n",
    "import numpy as np\n",
    "from sqlalchemy import create_engine\n",
    "\n",
    "import nltk\n",
    "nltk.download('punkt')\n",
    "nltk.download('wordnet')\n",
    "from nltk.corpus import stopwords\n",
    "nltk.download('stopwords')\n",
    "from nltk.tokenize import word_tokenize\n",
    "from nltk.stem import WordNetLemmatizer\n",
    "\n",
    "from sklearn.multioutput import MultiOutputClassifier\n",
    "from sklearn.feature_extraction.text import CountVectorizer\n",
    "from sklearn.feature_extraction.text import TfidfTransformer\n",
    "from sklearn.ensemble import RandomForestClassifier\n",
    "from sklearn.pipeline import Pipeline\n",
    "from sklearn.model_selection import train_test_split\n",
    "from sklearn.metrics import classification_report\n",
    "from sklearn.model_selection import GridSearchCV\n",
    "\n",
    "import pickle"
   ]
  },
  {
   "cell_type": "code",
   "execution_count": 2,
   "metadata": {},
   "outputs": [],
   "source": [
    "# load data from database\n",
    "engine = create_engine('sqlite:///data/DisasterResponse.db')\n",
    "df = pd.read_sql_table('MessageTable', engine)\n",
    "X = df['message']\n",
    "Y = df.drop(columns=['id', 'message','original','genre' ])"
   ]
  },
  {
   "cell_type": "markdown",
   "metadata": {},
   "source": [
    "### 2. Write a tokenization function to process your text data"
   ]
  },
  {
   "cell_type": "code",
   "execution_count": 3,
   "metadata": {},
   "outputs": [],
   "source": [
    "def tokenize(text):\n",
    "    tokens = word_tokenize(text)\n",
    "    \n",
    "    # Remove Stopwords\n",
    "    tokens = [w for w in tokens if w not in stopwords.words('english')]\n",
    "    \n",
    "    lemmatizer = WordNetLemmatizer()\n",
    "\n",
    "    clean_tokens = []\n",
    "    for tok in tokens:\n",
    "        clean_tok = lemmatizer.lemmatize(tok).lower().strip()\n",
    "        clean_tokens.append(clean_tok)\n",
    "\n",
    "    return clean_tokens"
   ]
  },
  {
   "cell_type": "markdown",
   "metadata": {},
   "source": [
    "### 3. Build a machine learning pipeline\n",
    "This machine pipeline should take in the `message` column as input and output classification results on the other 36 categories in the dataset. You may find the [MultiOutputClassifier](http://scikit-learn.org/stable/modules/generated/sklearn.multioutput.MultiOutputClassifier.html) helpful for predicting multiple target variables."
   ]
  },
  {
   "cell_type": "code",
   "execution_count": 28,
   "metadata": {},
   "outputs": [],
   "source": [
    "pipeline = Pipeline([\n",
    "    ('vect', CountVectorizer(tokenizer = tokenize)),\n",
    "    ('tfidf', TfidfTransformer()),\n",
    "    ('clf', MultiOutputClassifier(RandomForestClassifier(n_estimators=10)))\n",
    "])"
   ]
  },
  {
   "cell_type": "markdown",
   "metadata": {},
   "source": [
    "### 4. Train pipeline\n",
    "- Split data into train and test sets\n",
    "- Train pipeline"
   ]
  },
  {
   "cell_type": "code",
   "execution_count": 29,
   "metadata": {},
   "outputs": [],
   "source": [
    "X_train, X_test, y_train, y_test = train_test_split(X, np.array(Y), random_state=42)"
   ]
  },
  {
   "cell_type": "code",
   "execution_count": 30,
   "metadata": {},
   "outputs": [
    {
     "data": {
      "text/plain": [
       "Pipeline(memory=None,\n",
       "         steps=[('vect',\n",
       "                 CountVectorizer(analyzer='word', binary=False,\n",
       "                                 decode_error='strict',\n",
       "                                 dtype=<class 'numpy.int64'>, encoding='utf-8',\n",
       "                                 input='content', lowercase=True, max_df=1.0,\n",
       "                                 max_features=None, min_df=1,\n",
       "                                 ngram_range=(1, 1), preprocessor=None,\n",
       "                                 stop_words=None, strip_accents=None,\n",
       "                                 token_pattern='(?u)\\\\b\\\\w\\\\w+\\\\b',\n",
       "                                 tokenizer=<function tokenize at...\n",
       "                 MultiOutputClassifier(estimator=RandomForestClassifier(bootstrap=True,\n",
       "                                                                        class_weight=None,\n",
       "                                                                        criterion='gini',\n",
       "                                                                        max_depth=None,\n",
       "                                                                        max_features='auto',\n",
       "                                                                        max_leaf_nodes=None,\n",
       "                                                                        min_impurity_decrease=0.0,\n",
       "                                                                        min_impurity_split=None,\n",
       "                                                                        min_samples_leaf=1,\n",
       "                                                                        min_samples_split=2,\n",
       "                                                                        min_weight_fraction_leaf=0.0,\n",
       "                                                                        n_estimators=10,\n",
       "                                                                        n_jobs=None,\n",
       "                                                                        oob_score=False,\n",
       "                                                                        random_state=None,\n",
       "                                                                        verbose=0,\n",
       "                                                                        warm_start=False),\n",
       "                                       n_jobs=None))],\n",
       "         verbose=False)"
      ]
     },
     "execution_count": 30,
     "metadata": {},
     "output_type": "execute_result"
    }
   ],
   "source": [
    "pipeline.fit(X_train, y_train)"
   ]
  },
  {
   "cell_type": "markdown",
   "metadata": {},
   "source": [
    "### 5. Test your model\n",
    "Report the f1 score, precision and recall for each output category of the dataset. You can do this by iterating through the columns and calling sklearn's `classification_report` on each."
   ]
  },
  {
   "cell_type": "code",
   "execution_count": 31,
   "metadata": {},
   "outputs": [
    {
     "data": {
      "text/plain": [
       "'0.21.2'"
      ]
     },
     "execution_count": 31,
     "metadata": {},
     "output_type": "execute_result"
    }
   ],
   "source": [
    "import sklearn\n",
    "sklearn.__version__"
   ]
  },
  {
   "cell_type": "code",
   "execution_count": 32,
   "metadata": {
    "scrolled": false
   },
   "outputs": [],
   "source": [
    "y_pred = pipeline.predict(X_test)"
   ]
  },
  {
   "cell_type": "code",
   "execution_count": 33,
   "metadata": {},
   "outputs": [
    {
     "data": {
      "text/plain": [
       "(6554, 36)"
      ]
     },
     "execution_count": 33,
     "metadata": {},
     "output_type": "execute_result"
    }
   ],
   "source": [
    "y_test.shape"
   ]
  },
  {
   "cell_type": "code",
   "execution_count": 34,
   "metadata": {},
   "outputs": [
    {
     "data": {
      "text/plain": [
       "(6554, 36)"
      ]
     },
     "execution_count": 34,
     "metadata": {},
     "output_type": "execute_result"
    }
   ],
   "source": [
    "y_pred.shape"
   ]
  },
  {
   "cell_type": "code",
   "execution_count": 35,
   "metadata": {},
   "outputs": [],
   "source": [
    "category_names = list(Y.columns.values)"
   ]
  },
  {
   "cell_type": "code",
   "execution_count": 36,
   "metadata": {},
   "outputs": [
    {
     "data": {
      "text/plain": [
       "['related',\n",
       " 'request',\n",
       " 'offer',\n",
       " 'aid_related',\n",
       " 'medical_help',\n",
       " 'medical_products',\n",
       " 'search_and_rescue',\n",
       " 'security',\n",
       " 'military',\n",
       " 'child_alone',\n",
       " 'water',\n",
       " 'food',\n",
       " 'shelter',\n",
       " 'clothing',\n",
       " 'money',\n",
       " 'missing_people',\n",
       " 'refugees',\n",
       " 'death',\n",
       " 'other_aid',\n",
       " 'infrastructure_related',\n",
       " 'transport',\n",
       " 'buildings',\n",
       " 'electricity',\n",
       " 'tools',\n",
       " 'hospitals',\n",
       " 'shops',\n",
       " 'aid_centers',\n",
       " 'other_infrastructure',\n",
       " 'weather_related',\n",
       " 'floods',\n",
       " 'storm',\n",
       " 'fire',\n",
       " 'earthquake',\n",
       " 'cold',\n",
       " 'other_weather',\n",
       " 'direct_report']"
      ]
     },
     "execution_count": 36,
     "metadata": {},
     "output_type": "execute_result"
    }
   ],
   "source": [
    "category_names"
   ]
  },
  {
   "cell_type": "code",
   "execution_count": 37,
   "metadata": {},
   "outputs": [
    {
     "data": {
      "text/plain": [
       "array([[1, 0, 0, ..., 0, 0, 0],\n",
       "       [1, 0, 0, ..., 0, 0, 0],\n",
       "       [1, 0, 0, ..., 1, 1, 0],\n",
       "       ...,\n",
       "       [1, 0, 0, ..., 0, 0, 0],\n",
       "       [0, 0, 0, ..., 0, 0, 0],\n",
       "       [1, 0, 0, ..., 0, 0, 0]])"
      ]
     },
     "execution_count": 37,
     "metadata": {},
     "output_type": "execute_result"
    }
   ],
   "source": [
    "y_test"
   ]
  },
  {
   "cell_type": "code",
   "execution_count": 38,
   "metadata": {},
   "outputs": [
    {
     "data": {
      "text/plain": [
       "array([[0, 1, 0, ..., 0, 0, 0],\n",
       "       [1, 0, 0, ..., 0, 0, 0],\n",
       "       [1, 0, 0, ..., 0, 0, 0],\n",
       "       ...,\n",
       "       [1, 0, 0, ..., 0, 0, 0],\n",
       "       [0, 0, 0, ..., 0, 0, 0],\n",
       "       [1, 0, 0, ..., 0, 0, 0]])"
      ]
     },
     "execution_count": 38,
     "metadata": {},
     "output_type": "execute_result"
    }
   ],
   "source": [
    "y_pred"
   ]
  },
  {
   "cell_type": "code",
   "execution_count": 39,
   "metadata": {},
   "outputs": [
    {
     "name": "stdout",
     "output_type": "stream",
     "text": [
      "category: related\n",
      "              precision    recall  f1-score   support\n",
      "\n",
      "           0       0.61      0.39      0.48      1563\n",
      "           1       0.82      0.92      0.87      4944\n",
      "           2       0.32      0.15      0.20        47\n",
      "\n",
      "    accuracy                           0.79      6554\n",
      "   macro avg       0.58      0.49      0.52      6554\n",
      "weighted avg       0.77      0.79      0.77      6554\n",
      "\n",
      "category: request\n",
      "              precision    recall  f1-score   support\n",
      "\n",
      "           0       0.89      0.98      0.93      5443\n",
      "           1       0.82      0.41      0.55      1111\n",
      "\n",
      "    accuracy                           0.88      6554\n",
      "   macro avg       0.86      0.70      0.74      6554\n",
      "weighted avg       0.88      0.88      0.87      6554\n",
      "\n",
      "category: offer\n",
      "              precision    recall  f1-score   support\n",
      "\n",
      "           0       0.99      1.00      1.00      6521\n",
      "           1       0.00      0.00      0.00        33\n",
      "\n",
      "    accuracy                           0.99      6554\n",
      "   macro avg       0.50      0.50      0.50      6554\n",
      "weighted avg       0.99      0.99      0.99      6554\n",
      "\n",
      "category: aid_related\n",
      "              precision    recall  f1-score   support\n",
      "\n",
      "           0       0.75      0.85      0.80      3884\n",
      "           1       0.73      0.59      0.66      2670\n",
      "\n",
      "    accuracy                           0.75      6554\n",
      "   macro avg       0.74      0.72      0.73      6554\n",
      "weighted avg       0.74      0.75      0.74      6554\n",
      "\n",
      "category: medical_help\n",
      "              precision    recall  f1-score   support\n",
      "\n",
      "           0       0.92      1.00      0.96      6019\n",
      "           1       0.61      0.08      0.14       535\n",
      "\n",
      "    accuracy                           0.92      6554\n",
      "   macro avg       0.77      0.54      0.55      6554\n",
      "weighted avg       0.90      0.92      0.89      6554\n",
      "\n",
      "category: medical_products\n",
      "              precision    recall  f1-score   support\n",
      "\n",
      "           0       0.95      1.00      0.97      6210\n",
      "           1       0.67      0.11      0.19       344\n",
      "\n",
      "    accuracy                           0.95      6554\n",
      "   macro avg       0.81      0.55      0.58      6554\n",
      "weighted avg       0.94      0.95      0.93      6554\n",
      "\n",
      "category: search_and_rescue\n",
      "              precision    recall  f1-score   support\n",
      "\n",
      "           0       0.98      1.00      0.99      6395\n",
      "           1       0.71      0.06      0.12       159\n",
      "\n",
      "    accuracy                           0.98      6554\n",
      "   macro avg       0.85      0.53      0.55      6554\n",
      "weighted avg       0.97      0.98      0.97      6554\n",
      "\n",
      "category: security\n",
      "              precision    recall  f1-score   support\n",
      "\n",
      "           0       0.98      1.00      0.99      6438\n",
      "           1       0.33      0.01      0.02       116\n",
      "\n",
      "    accuracy                           0.98      6554\n",
      "   macro avg       0.66      0.50      0.50      6554\n",
      "weighted avg       0.97      0.98      0.97      6554\n",
      "\n",
      "category: military\n",
      "              precision    recall  f1-score   support\n",
      "\n",
      "           0       0.97      1.00      0.98      6354\n",
      "           1       0.46      0.09      0.14       200\n",
      "\n",
      "    accuracy                           0.97      6554\n",
      "   macro avg       0.72      0.54      0.56      6554\n",
      "weighted avg       0.96      0.97      0.96      6554\n",
      "\n",
      "category: child_alone\n",
      "              precision    recall  f1-score   support\n",
      "\n",
      "           0       1.00      1.00      1.00      6554\n",
      "\n",
      "    accuracy                           1.00      6554\n",
      "   macro avg       1.00      1.00      1.00      6554\n",
      "weighted avg       1.00      1.00      1.00      6554\n",
      "\n",
      "category: water\n",
      "              precision    recall  f1-score   support\n",
      "\n",
      "           0       0.95      1.00      0.97      6136\n",
      "           1       0.89      0.23      0.37       418\n",
      "\n",
      "    accuracy                           0.95      6554\n",
      "   macro avg       0.92      0.62      0.67      6554\n",
      "weighted avg       0.95      0.95      0.93      6554\n",
      "\n",
      "category: food\n",
      "              precision    recall  f1-score   support\n",
      "\n",
      "           0       0.94      0.99      0.96      5809\n",
      "           1       0.82      0.51      0.63       745\n",
      "\n",
      "    accuracy                           0.93      6554\n",
      "   macro avg       0.88      0.75      0.79      6554\n",
      "weighted avg       0.93      0.93      0.92      6554\n",
      "\n",
      "category: shelter\n",
      "              precision    recall  f1-score   support\n",
      "\n",
      "           0       0.93      0.99      0.96      5973\n",
      "           1       0.80      0.24      0.36       581\n",
      "\n",
      "    accuracy                           0.93      6554\n",
      "   macro avg       0.87      0.62      0.66      6554\n",
      "weighted avg       0.92      0.93      0.91      6554\n",
      "\n",
      "category: clothing\n",
      "              precision    recall  f1-score   support\n",
      "\n",
      "           0       0.99      1.00      0.99      6456\n",
      "           1       0.67      0.08      0.15        98\n",
      "\n",
      "    accuracy                           0.99      6554\n",
      "   macro avg       0.83      0.54      0.57      6554\n",
      "weighted avg       0.98      0.99      0.98      6554\n",
      "\n",
      "category: money\n",
      "              precision    recall  f1-score   support\n",
      "\n",
      "           0       0.98      1.00      0.99      6421\n",
      "           1       0.57      0.06      0.11       133\n",
      "\n",
      "    accuracy                           0.98      6554\n",
      "   macro avg       0.78      0.53      0.55      6554\n",
      "weighted avg       0.97      0.98      0.97      6554\n",
      "\n",
      "category: missing_people\n",
      "              precision    recall  f1-score   support\n",
      "\n",
      "           0       0.99      1.00      0.99      6481\n",
      "           1       0.75      0.04      0.08        73\n",
      "\n",
      "    accuracy                           0.99      6554\n",
      "   macro avg       0.87      0.52      0.54      6554\n",
      "weighted avg       0.99      0.99      0.98      6554\n",
      "\n",
      "category: refugees\n",
      "              precision    recall  f1-score   support\n",
      "\n",
      "           0       0.97      1.00      0.98      6339\n",
      "           1       0.67      0.12      0.20       215\n",
      "\n",
      "    accuracy                           0.97      6554\n",
      "   macro avg       0.82      0.56      0.59      6554\n",
      "weighted avg       0.96      0.97      0.96      6554\n",
      "\n",
      "category: death\n",
      "              precision    recall  f1-score   support\n",
      "\n",
      "           0       0.96      1.00      0.98      6257\n",
      "           1       0.81      0.14      0.25       297\n",
      "\n",
      "    accuracy                           0.96      6554\n",
      "   macro avg       0.89      0.57      0.61      6554\n",
      "weighted avg       0.95      0.96      0.95      6554\n",
      "\n",
      "category: other_aid\n",
      "              precision    recall  f1-score   support\n",
      "\n",
      "           0       0.87      0.99      0.93      5690\n",
      "           1       0.53      0.04      0.08       864\n",
      "\n",
      "    accuracy                           0.87      6554\n",
      "   macro avg       0.70      0.52      0.50      6554\n",
      "weighted avg       0.83      0.87      0.82      6554\n",
      "\n",
      "category: infrastructure_related\n",
      "              precision    recall  f1-score   support\n",
      "\n",
      "           0       0.94      1.00      0.97      6143\n",
      "           1       0.25      0.00      0.01       411\n",
      "\n",
      "    accuracy                           0.94      6554\n",
      "   macro avg       0.59      0.50      0.49      6554\n",
      "weighted avg       0.89      0.94      0.91      6554\n",
      "\n",
      "category: transport\n",
      "              precision    recall  f1-score   support\n",
      "\n",
      "           0       0.96      1.00      0.98      6251\n",
      "           1       0.67      0.12      0.21       303\n",
      "\n",
      "    accuracy                           0.96      6554\n",
      "   macro avg       0.82      0.56      0.59      6554\n",
      "weighted avg       0.95      0.96      0.94      6554\n",
      "\n",
      "category: buildings\n",
      "              precision    recall  f1-score   support\n",
      "\n",
      "           0       0.95      1.00      0.98      6231\n",
      "           1       0.68      0.08      0.14       323\n",
      "\n",
      "    accuracy                           0.95      6554\n",
      "   macro avg       0.81      0.54      0.56      6554\n",
      "weighted avg       0.94      0.95      0.93      6554\n",
      "\n",
      "category: electricity\n",
      "              precision    recall  f1-score   support\n",
      "\n",
      "           0       0.98      1.00      0.99      6407\n",
      "           1       0.62      0.03      0.06       147\n",
      "\n",
      "    accuracy                           0.98      6554\n",
      "   macro avg       0.80      0.52      0.53      6554\n",
      "weighted avg       0.97      0.98      0.97      6554\n",
      "\n",
      "category: tools\n",
      "              precision    recall  f1-score   support\n",
      "\n",
      "           0       0.99      1.00      1.00      6511\n",
      "           1       1.00      0.02      0.05        43\n",
      "\n",
      "    accuracy                           0.99      6554\n",
      "   macro avg       1.00      0.51      0.52      6554\n",
      "weighted avg       0.99      0.99      0.99      6554\n",
      "\n",
      "category: hospitals\n",
      "              precision    recall  f1-score   support\n",
      "\n",
      "           0       0.99      1.00      1.00      6498\n",
      "           1       0.00      0.00      0.00        56\n",
      "\n",
      "    accuracy                           0.99      6554\n",
      "   macro avg       0.50      0.50      0.50      6554\n",
      "weighted avg       0.98      0.99      0.99      6554\n",
      "\n",
      "category: shops\n",
      "              precision    recall  f1-score   support\n",
      "\n",
      "           0       1.00      1.00      1.00      6530\n",
      "           1       0.00      0.00      0.00        24\n",
      "\n",
      "    accuracy                           1.00      6554\n",
      "   macro avg       0.50      0.50      0.50      6554\n",
      "weighted avg       0.99      1.00      0.99      6554\n",
      "\n",
      "category: aid_centers\n",
      "              precision    recall  f1-score   support\n",
      "\n",
      "           0       0.99      1.00      0.99      6473\n",
      "           1       0.00      0.00      0.00        81\n",
      "\n",
      "    accuracy                           0.99      6554\n",
      "   macro avg       0.49      0.50      0.50      6554\n",
      "weighted avg       0.98      0.99      0.98      6554\n",
      "\n",
      "category: other_infrastructure\n",
      "              precision    recall  f1-score   support\n",
      "\n",
      "           0       0.96      1.00      0.98      6271\n",
      "           1       0.00      0.00      0.00       283\n",
      "\n",
      "    accuracy                           0.96      6554\n",
      "   macro avg       0.48      0.50      0.49      6554\n",
      "weighted avg       0.92      0.96      0.94      6554\n",
      "\n",
      "category: weather_related\n",
      "              precision    recall  f1-score   support\n",
      "\n",
      "           0       0.86      0.95      0.91      4781\n",
      "           1       0.83      0.60      0.70      1773\n",
      "\n",
      "    accuracy                           0.86      6554\n",
      "   macro avg       0.85      0.78      0.80      6554\n",
      "weighted avg       0.86      0.86      0.85      6554\n",
      "\n",
      "category: floods\n",
      "              precision    recall  f1-score   support\n",
      "\n",
      "           0       0.95      0.99      0.97      6035\n",
      "           1       0.88      0.43      0.58       519\n",
      "\n",
      "    accuracy                           0.95      6554\n",
      "   macro avg       0.91      0.71      0.78      6554\n",
      "weighted avg       0.95      0.95      0.94      6554\n",
      "\n",
      "category: storm\n",
      "              precision    recall  f1-score   support\n",
      "\n",
      "           0       0.94      0.99      0.96      5949\n",
      "           1       0.72      0.36      0.48       605\n",
      "\n",
      "    accuracy                           0.93      6554\n",
      "   macro avg       0.83      0.67      0.72      6554\n",
      "weighted avg       0.92      0.93      0.92      6554\n",
      "\n",
      "category: fire\n",
      "              precision    recall  f1-score   support\n",
      "\n",
      "           0       0.99      1.00      0.99      6488\n",
      "           1       0.50      0.02      0.03        66\n",
      "\n",
      "    accuracy                           0.99      6554\n",
      "   macro avg       0.75      0.51      0.51      6554\n",
      "weighted avg       0.99      0.99      0.99      6554\n",
      "\n",
      "category: earthquake\n",
      "              precision    recall  f1-score   support\n",
      "\n",
      "           0       0.96      0.99      0.98      5964\n",
      "           1       0.89      0.63      0.73       590\n",
      "\n",
      "    accuracy                           0.96      6554\n",
      "   macro avg       0.93      0.81      0.86      6554\n",
      "weighted avg       0.96      0.96      0.96      6554\n",
      "\n",
      "category: cold\n",
      "              precision    recall  f1-score   support\n",
      "\n",
      "           0       0.98      1.00      0.99      6413\n",
      "           1       0.76      0.11      0.20       141\n",
      "\n",
      "    accuracy                           0.98      6554\n",
      "   macro avg       0.87      0.56      0.59      6554\n",
      "weighted avg       0.98      0.98      0.97      6554\n",
      "\n",
      "category: other_weather\n"
     ]
    },
    {
     "name": "stdout",
     "output_type": "stream",
     "text": [
      "              precision    recall  f1-score   support\n",
      "\n",
      "           0       0.95      1.00      0.97      6219\n",
      "           1       0.46      0.03      0.06       335\n",
      "\n",
      "    accuracy                           0.95      6554\n",
      "   macro avg       0.70      0.52      0.52      6554\n",
      "weighted avg       0.93      0.95      0.93      6554\n",
      "\n",
      "category: direct_report\n",
      "              precision    recall  f1-score   support\n",
      "\n",
      "           0       0.85      0.98      0.91      5282\n",
      "           1       0.73      0.26      0.39      1272\n",
      "\n",
      "    accuracy                           0.84      6554\n",
      "   macro avg       0.79      0.62      0.65      6554\n",
      "weighted avg       0.82      0.84      0.81      6554\n",
      "\n"
     ]
    },
    {
     "name": "stderr",
     "output_type": "stream",
     "text": [
      "/home/jc/.conda/envs/udacity/lib/python3.7/site-packages/sklearn/metrics/classification.py:1437: UndefinedMetricWarning: Precision and F-score are ill-defined and being set to 0.0 in labels with no predicted samples.\n",
      "  'precision', 'predicted', average, warn_for)\n"
     ]
    }
   ],
   "source": [
    "for category in range(len(category_names)):\n",
    "    print('category: {}'.format(category_names[category]))\n",
    "    print(classification_report(y_test[:, category], y_pred[:, category]))\n",
    "\n",
    "#print(classification_report(y_test.values, y_pred))\n",
    "#print(classification_report(y_test, y_pred, target_names=Y.columns.values))"
   ]
  },
  {
   "cell_type": "code",
   "execution_count": 40,
   "metadata": {},
   "outputs": [
    {
     "data": {
      "text/plain": [
       "array([1, 0, 2])"
      ]
     },
     "execution_count": 40,
     "metadata": {},
     "output_type": "execute_result"
    }
   ],
   "source": [
    "Y['related'].unique()"
   ]
  },
  {
   "cell_type": "code",
   "execution_count": 41,
   "metadata": {},
   "outputs": [
    {
     "name": "stdout",
     "output_type": "stream",
     "text": [
      "Accuracy: 0.9437451259620927\n"
     ]
    }
   ],
   "source": [
    "print('Accuracy: {}'.format(np.mean(y_test == y_pred)))"
   ]
  },
  {
   "cell_type": "markdown",
   "metadata": {},
   "source": [
    "### 6. Improve your model\n",
    "Use grid search to find better parameters. "
   ]
  },
  {
   "cell_type": "code",
   "execution_count": 44,
   "metadata": {},
   "outputs": [],
   "source": [
    "parameters = {\n",
    "    'tfidf__use_idf':[True, False],\n",
    "    'clf__estimator__n_estimators': [10,20,30,40],\n",
    "    'clf__estimator__max_depth': [3, None],\n",
    "    'clf__estimator__min_samples_split': [2,3,10],\n",
    "    'clf__estimator__criterion' : ['gini', 'entropy']\n",
    "}\n",
    "\n",
    "cv = GridSearchCV(pipeline, param_grid=parameters, cv=3, verbose=10)"
   ]
  },
  {
   "cell_type": "markdown",
   "metadata": {},
   "source": [
    "### 7. Test your model\n",
    "Show the accuracy, precision, and recall of the tuned model.  \n",
    "\n",
    "Since this project focuses on code quality, process, and  pipelines, there is no minimum performance metric needed to pass. However, make sure to fine tune your models for accuracy, precision and recall to make your project stand out - especially for your portfolio!"
   ]
  },
  {
   "cell_type": "code",
   "execution_count": 45,
   "metadata": {},
   "outputs": [
    {
     "name": "stdout",
     "output_type": "stream",
     "text": [
      "Fitting 3 folds for each of 48 candidates, totalling 144 fits\n",
      "[CV] clf__estimator__criterion=gini, clf__estimator__max_depth=3, clf__estimator__min_samples_split=2, clf__estimator__n_estimators=10 \n"
     ]
    },
    {
     "name": "stderr",
     "output_type": "stream",
     "text": [
      "[Parallel(n_jobs=1)]: Using backend SequentialBackend with 1 concurrent workers.\n"
     ]
    },
    {
     "name": "stdout",
     "output_type": "stream",
     "text": [
      "[CV]  clf__estimator__criterion=gini, clf__estimator__max_depth=3, clf__estimator__min_samples_split=2, clf__estimator__n_estimators=10, score=0.189, total=  37.0s\n",
      "[CV] clf__estimator__criterion=gini, clf__estimator__max_depth=3, clf__estimator__min_samples_split=2, clf__estimator__n_estimators=10 \n"
     ]
    },
    {
     "name": "stderr",
     "output_type": "stream",
     "text": [
      "[Parallel(n_jobs=1)]: Done   1 out of   1 | elapsed:   37.0s remaining:    0.0s\n"
     ]
    },
    {
     "name": "stdout",
     "output_type": "stream",
     "text": [
      "[CV]  clf__estimator__criterion=gini, clf__estimator__max_depth=3, clf__estimator__min_samples_split=2, clf__estimator__n_estimators=10, score=0.193, total=  37.5s\n",
      "[CV] clf__estimator__criterion=gini, clf__estimator__max_depth=3, clf__estimator__min_samples_split=2, clf__estimator__n_estimators=10 \n"
     ]
    },
    {
     "name": "stderr",
     "output_type": "stream",
     "text": [
      "[Parallel(n_jobs=1)]: Done   2 out of   2 | elapsed:  1.2min remaining:    0.0s\n"
     ]
    },
    {
     "name": "stdout",
     "output_type": "stream",
     "text": [
      "[CV]  clf__estimator__criterion=gini, clf__estimator__max_depth=3, clf__estimator__min_samples_split=2, clf__estimator__n_estimators=10, score=0.201, total=  37.1s\n",
      "[CV] clf__estimator__criterion=gini, clf__estimator__max_depth=3, clf__estimator__min_samples_split=2, clf__estimator__n_estimators=20 \n"
     ]
    },
    {
     "name": "stderr",
     "output_type": "stream",
     "text": [
      "[Parallel(n_jobs=1)]: Done   3 out of   3 | elapsed:  1.9min remaining:    0.0s\n"
     ]
    },
    {
     "name": "stdout",
     "output_type": "stream",
     "text": [
      "[CV]  clf__estimator__criterion=gini, clf__estimator__max_depth=3, clf__estimator__min_samples_split=2, clf__estimator__n_estimators=20, score=0.188, total=  37.6s\n",
      "[CV] clf__estimator__criterion=gini, clf__estimator__max_depth=3, clf__estimator__min_samples_split=2, clf__estimator__n_estimators=20 \n"
     ]
    },
    {
     "name": "stderr",
     "output_type": "stream",
     "text": [
      "[Parallel(n_jobs=1)]: Done   4 out of   4 | elapsed:  2.5min remaining:    0.0s\n"
     ]
    },
    {
     "name": "stdout",
     "output_type": "stream",
     "text": [
      "[CV]  clf__estimator__criterion=gini, clf__estimator__max_depth=3, clf__estimator__min_samples_split=2, clf__estimator__n_estimators=20, score=0.193, total=  37.5s\n",
      "[CV] clf__estimator__criterion=gini, clf__estimator__max_depth=3, clf__estimator__min_samples_split=2, clf__estimator__n_estimators=20 \n"
     ]
    },
    {
     "name": "stderr",
     "output_type": "stream",
     "text": [
      "[Parallel(n_jobs=1)]: Done   5 out of   5 | elapsed:  3.1min remaining:    0.0s\n"
     ]
    },
    {
     "name": "stdout",
     "output_type": "stream",
     "text": [
      "[CV]  clf__estimator__criterion=gini, clf__estimator__max_depth=3, clf__estimator__min_samples_split=2, clf__estimator__n_estimators=20, score=0.201, total=  37.6s\n",
      "[CV] clf__estimator__criterion=gini, clf__estimator__max_depth=3, clf__estimator__min_samples_split=2, clf__estimator__n_estimators=30 \n"
     ]
    },
    {
     "name": "stderr",
     "output_type": "stream",
     "text": [
      "[Parallel(n_jobs=1)]: Done   6 out of   6 | elapsed:  3.7min remaining:    0.0s\n"
     ]
    },
    {
     "name": "stdout",
     "output_type": "stream",
     "text": [
      "[CV]  clf__estimator__criterion=gini, clf__estimator__max_depth=3, clf__estimator__min_samples_split=2, clf__estimator__n_estimators=30, score=0.189, total=  38.5s\n",
      "[CV] clf__estimator__criterion=gini, clf__estimator__max_depth=3, clf__estimator__min_samples_split=2, clf__estimator__n_estimators=30 \n"
     ]
    },
    {
     "name": "stderr",
     "output_type": "stream",
     "text": [
      "[Parallel(n_jobs=1)]: Done   7 out of   7 | elapsed:  4.4min remaining:    0.0s\n"
     ]
    },
    {
     "name": "stdout",
     "output_type": "stream",
     "text": [
      "[CV]  clf__estimator__criterion=gini, clf__estimator__max_depth=3, clf__estimator__min_samples_split=2, clf__estimator__n_estimators=30, score=0.193, total=  38.3s\n",
      "[CV] clf__estimator__criterion=gini, clf__estimator__max_depth=3, clf__estimator__min_samples_split=2, clf__estimator__n_estimators=30 \n"
     ]
    },
    {
     "name": "stderr",
     "output_type": "stream",
     "text": [
      "[Parallel(n_jobs=1)]: Done   8 out of   8 | elapsed:  5.0min remaining:    0.0s\n"
     ]
    },
    {
     "name": "stdout",
     "output_type": "stream",
     "text": [
      "[CV]  clf__estimator__criterion=gini, clf__estimator__max_depth=3, clf__estimator__min_samples_split=2, clf__estimator__n_estimators=30, score=0.201, total=  38.6s\n",
      "[CV] clf__estimator__criterion=gini, clf__estimator__max_depth=3, clf__estimator__min_samples_split=2, clf__estimator__n_estimators=40 \n"
     ]
    },
    {
     "name": "stderr",
     "output_type": "stream",
     "text": [
      "[Parallel(n_jobs=1)]: Done   9 out of   9 | elapsed:  5.7min remaining:    0.0s\n"
     ]
    },
    {
     "name": "stdout",
     "output_type": "stream",
     "text": [
      "[CV]  clf__estimator__criterion=gini, clf__estimator__max_depth=3, clf__estimator__min_samples_split=2, clf__estimator__n_estimators=40, score=0.189, total=  38.9s\n",
      "[CV] clf__estimator__criterion=gini, clf__estimator__max_depth=3, clf__estimator__min_samples_split=2, clf__estimator__n_estimators=40 \n",
      "[CV]  clf__estimator__criterion=gini, clf__estimator__max_depth=3, clf__estimator__min_samples_split=2, clf__estimator__n_estimators=40, score=0.193, total=  39.0s\n",
      "[CV] clf__estimator__criterion=gini, clf__estimator__max_depth=3, clf__estimator__min_samples_split=2, clf__estimator__n_estimators=40 \n",
      "[CV]  clf__estimator__criterion=gini, clf__estimator__max_depth=3, clf__estimator__min_samples_split=2, clf__estimator__n_estimators=40, score=0.201, total=  39.2s\n",
      "[CV] clf__estimator__criterion=gini, clf__estimator__max_depth=3, clf__estimator__min_samples_split=3, clf__estimator__n_estimators=10 \n",
      "[CV]  clf__estimator__criterion=gini, clf__estimator__max_depth=3, clf__estimator__min_samples_split=3, clf__estimator__n_estimators=10, score=0.189, total=  37.6s\n",
      "[CV] clf__estimator__criterion=gini, clf__estimator__max_depth=3, clf__estimator__min_samples_split=3, clf__estimator__n_estimators=10 \n",
      "[CV]  clf__estimator__criterion=gini, clf__estimator__max_depth=3, clf__estimator__min_samples_split=3, clf__estimator__n_estimators=10, score=0.193, total=  36.9s\n",
      "[CV] clf__estimator__criterion=gini, clf__estimator__max_depth=3, clf__estimator__min_samples_split=3, clf__estimator__n_estimators=10 \n",
      "[CV]  clf__estimator__criterion=gini, clf__estimator__max_depth=3, clf__estimator__min_samples_split=3, clf__estimator__n_estimators=10, score=0.199, total=  36.9s\n",
      "[CV] clf__estimator__criterion=gini, clf__estimator__max_depth=3, clf__estimator__min_samples_split=3, clf__estimator__n_estimators=20 \n",
      "[CV]  clf__estimator__criterion=gini, clf__estimator__max_depth=3, clf__estimator__min_samples_split=3, clf__estimator__n_estimators=20, score=0.189, total=  37.5s\n",
      "[CV] clf__estimator__criterion=gini, clf__estimator__max_depth=3, clf__estimator__min_samples_split=3, clf__estimator__n_estimators=20 \n",
      "[CV]  clf__estimator__criterion=gini, clf__estimator__max_depth=3, clf__estimator__min_samples_split=3, clf__estimator__n_estimators=20, score=0.193, total=  37.5s\n",
      "[CV] clf__estimator__criterion=gini, clf__estimator__max_depth=3, clf__estimator__min_samples_split=3, clf__estimator__n_estimators=20 \n",
      "[CV]  clf__estimator__criterion=gini, clf__estimator__max_depth=3, clf__estimator__min_samples_split=3, clf__estimator__n_estimators=20, score=0.201, total=  37.6s\n",
      "[CV] clf__estimator__criterion=gini, clf__estimator__max_depth=3, clf__estimator__min_samples_split=3, clf__estimator__n_estimators=30 \n",
      "[CV]  clf__estimator__criterion=gini, clf__estimator__max_depth=3, clf__estimator__min_samples_split=3, clf__estimator__n_estimators=30, score=0.189, total=  38.1s\n",
      "[CV] clf__estimator__criterion=gini, clf__estimator__max_depth=3, clf__estimator__min_samples_split=3, clf__estimator__n_estimators=30 \n",
      "[CV]  clf__estimator__criterion=gini, clf__estimator__max_depth=3, clf__estimator__min_samples_split=3, clf__estimator__n_estimators=30, score=0.193, total=  38.2s\n",
      "[CV] clf__estimator__criterion=gini, clf__estimator__max_depth=3, clf__estimator__min_samples_split=3, clf__estimator__n_estimators=30 \n",
      "[CV]  clf__estimator__criterion=gini, clf__estimator__max_depth=3, clf__estimator__min_samples_split=3, clf__estimator__n_estimators=30, score=0.201, total=  38.2s\n",
      "[CV] clf__estimator__criterion=gini, clf__estimator__max_depth=3, clf__estimator__min_samples_split=3, clf__estimator__n_estimators=40 \n",
      "[CV]  clf__estimator__criterion=gini, clf__estimator__max_depth=3, clf__estimator__min_samples_split=3, clf__estimator__n_estimators=40, score=0.189, total=  38.7s\n",
      "[CV] clf__estimator__criterion=gini, clf__estimator__max_depth=3, clf__estimator__min_samples_split=3, clf__estimator__n_estimators=40 \n",
      "[CV]  clf__estimator__criterion=gini, clf__estimator__max_depth=3, clf__estimator__min_samples_split=3, clf__estimator__n_estimators=40, score=0.193, total=  38.9s\n",
      "[CV] clf__estimator__criterion=gini, clf__estimator__max_depth=3, clf__estimator__min_samples_split=3, clf__estimator__n_estimators=40 \n",
      "[CV]  clf__estimator__criterion=gini, clf__estimator__max_depth=3, clf__estimator__min_samples_split=3, clf__estimator__n_estimators=40, score=0.201, total=  38.8s\n",
      "[CV] clf__estimator__criterion=gini, clf__estimator__max_depth=3, clf__estimator__min_samples_split=10, clf__estimator__n_estimators=10 \n",
      "[CV]  clf__estimator__criterion=gini, clf__estimator__max_depth=3, clf__estimator__min_samples_split=10, clf__estimator__n_estimators=10, score=0.188, total=  37.0s\n",
      "[CV] clf__estimator__criterion=gini, clf__estimator__max_depth=3, clf__estimator__min_samples_split=10, clf__estimator__n_estimators=10 \n",
      "[CV]  clf__estimator__criterion=gini, clf__estimator__max_depth=3, clf__estimator__min_samples_split=10, clf__estimator__n_estimators=10, score=0.193, total=  37.0s\n",
      "[CV] clf__estimator__criterion=gini, clf__estimator__max_depth=3, clf__estimator__min_samples_split=10, clf__estimator__n_estimators=10 \n",
      "[CV]  clf__estimator__criterion=gini, clf__estimator__max_depth=3, clf__estimator__min_samples_split=10, clf__estimator__n_estimators=10, score=0.201, total=  36.9s\n",
      "[CV] clf__estimator__criterion=gini, clf__estimator__max_depth=3, clf__estimator__min_samples_split=10, clf__estimator__n_estimators=20 \n",
      "[CV]  clf__estimator__criterion=gini, clf__estimator__max_depth=3, clf__estimator__min_samples_split=10, clf__estimator__n_estimators=20, score=0.189, total=  37.6s\n",
      "[CV] clf__estimator__criterion=gini, clf__estimator__max_depth=3, clf__estimator__min_samples_split=10, clf__estimator__n_estimators=20 \n",
      "[CV]  clf__estimator__criterion=gini, clf__estimator__max_depth=3, clf__estimator__min_samples_split=10, clf__estimator__n_estimators=20, score=0.193, total=  37.7s\n",
      "[CV] clf__estimator__criterion=gini, clf__estimator__max_depth=3, clf__estimator__min_samples_split=10, clf__estimator__n_estimators=20 \n",
      "[CV]  clf__estimator__criterion=gini, clf__estimator__max_depth=3, clf__estimator__min_samples_split=10, clf__estimator__n_estimators=20, score=0.201, total=  37.6s\n",
      "[CV] clf__estimator__criterion=gini, clf__estimator__max_depth=3, clf__estimator__min_samples_split=10, clf__estimator__n_estimators=30 \n",
      "[CV]  clf__estimator__criterion=gini, clf__estimator__max_depth=3, clf__estimator__min_samples_split=10, clf__estimator__n_estimators=30, score=0.189, total=  38.2s\n",
      "[CV] clf__estimator__criterion=gini, clf__estimator__max_depth=3, clf__estimator__min_samples_split=10, clf__estimator__n_estimators=30 \n",
      "[CV]  clf__estimator__criterion=gini, clf__estimator__max_depth=3, clf__estimator__min_samples_split=10, clf__estimator__n_estimators=30, score=0.193, total=  38.3s\n",
      "[CV] clf__estimator__criterion=gini, clf__estimator__max_depth=3, clf__estimator__min_samples_split=10, clf__estimator__n_estimators=30 \n",
      "[CV]  clf__estimator__criterion=gini, clf__estimator__max_depth=3, clf__estimator__min_samples_split=10, clf__estimator__n_estimators=30, score=0.201, total=  38.1s\n",
      "[CV] clf__estimator__criterion=gini, clf__estimator__max_depth=3, clf__estimator__min_samples_split=10, clf__estimator__n_estimators=40 \n",
      "[CV]  clf__estimator__criterion=gini, clf__estimator__max_depth=3, clf__estimator__min_samples_split=10, clf__estimator__n_estimators=40, score=0.189, total=  38.8s\n",
      "[CV] clf__estimator__criterion=gini, clf__estimator__max_depth=3, clf__estimator__min_samples_split=10, clf__estimator__n_estimators=40 \n",
      "[CV]  clf__estimator__criterion=gini, clf__estimator__max_depth=3, clf__estimator__min_samples_split=10, clf__estimator__n_estimators=40, score=0.193, total=  38.8s\n",
      "[CV] clf__estimator__criterion=gini, clf__estimator__max_depth=3, clf__estimator__min_samples_split=10, clf__estimator__n_estimators=40 \n",
      "[CV]  clf__estimator__criterion=gini, clf__estimator__max_depth=3, clf__estimator__min_samples_split=10, clf__estimator__n_estimators=40, score=0.201, total=  38.8s\n",
      "[CV] clf__estimator__criterion=gini, clf__estimator__max_depth=None, clf__estimator__min_samples_split=2, clf__estimator__n_estimators=10 \n",
      "[CV]  clf__estimator__criterion=gini, clf__estimator__max_depth=None, clf__estimator__min_samples_split=2, clf__estimator__n_estimators=10, score=0.218, total=  51.7s\n",
      "[CV] clf__estimator__criterion=gini, clf__estimator__max_depth=None, clf__estimator__min_samples_split=2, clf__estimator__n_estimators=10 \n"
     ]
    },
    {
     "name": "stdout",
     "output_type": "stream",
     "text": [
      "[CV]  clf__estimator__criterion=gini, clf__estimator__max_depth=None, clf__estimator__min_samples_split=2, clf__estimator__n_estimators=10, score=0.231, total=  51.7s\n",
      "[CV] clf__estimator__criterion=gini, clf__estimator__max_depth=None, clf__estimator__min_samples_split=2, clf__estimator__n_estimators=10 \n",
      "[CV]  clf__estimator__criterion=gini, clf__estimator__max_depth=None, clf__estimator__min_samples_split=2, clf__estimator__n_estimators=10, score=0.237, total=  51.7s\n",
      "[CV] clf__estimator__criterion=gini, clf__estimator__max_depth=None, clf__estimator__min_samples_split=2, clf__estimator__n_estimators=20 \n",
      "[CV]  clf__estimator__criterion=gini, clf__estimator__max_depth=None, clf__estimator__min_samples_split=2, clf__estimator__n_estimators=20, score=0.232, total= 1.1min\n",
      "[CV] clf__estimator__criterion=gini, clf__estimator__max_depth=None, clf__estimator__min_samples_split=2, clf__estimator__n_estimators=20 \n",
      "[CV]  clf__estimator__criterion=gini, clf__estimator__max_depth=None, clf__estimator__min_samples_split=2, clf__estimator__n_estimators=20, score=0.236, total= 1.1min\n",
      "[CV] clf__estimator__criterion=gini, clf__estimator__max_depth=None, clf__estimator__min_samples_split=2, clf__estimator__n_estimators=20 \n",
      "[CV]  clf__estimator__criterion=gini, clf__estimator__max_depth=None, clf__estimator__min_samples_split=2, clf__estimator__n_estimators=20, score=0.242, total= 1.1min\n",
      "[CV] clf__estimator__criterion=gini, clf__estimator__max_depth=None, clf__estimator__min_samples_split=2, clf__estimator__n_estimators=30 \n",
      "[CV]  clf__estimator__criterion=gini, clf__estimator__max_depth=None, clf__estimator__min_samples_split=2, clf__estimator__n_estimators=30, score=0.244, total= 1.4min\n",
      "[CV] clf__estimator__criterion=gini, clf__estimator__max_depth=None, clf__estimator__min_samples_split=2, clf__estimator__n_estimators=30 \n",
      "[CV]  clf__estimator__criterion=gini, clf__estimator__max_depth=None, clf__estimator__min_samples_split=2, clf__estimator__n_estimators=30, score=0.236, total= 1.4min\n",
      "[CV] clf__estimator__criterion=gini, clf__estimator__max_depth=None, clf__estimator__min_samples_split=2, clf__estimator__n_estimators=30 \n",
      "[CV]  clf__estimator__criterion=gini, clf__estimator__max_depth=None, clf__estimator__min_samples_split=2, clf__estimator__n_estimators=30, score=0.245, total= 1.4min\n",
      "[CV] clf__estimator__criterion=gini, clf__estimator__max_depth=None, clf__estimator__min_samples_split=2, clf__estimator__n_estimators=40 \n",
      "[CV]  clf__estimator__criterion=gini, clf__estimator__max_depth=None, clf__estimator__min_samples_split=2, clf__estimator__n_estimators=40, score=0.239, total= 1.6min\n",
      "[CV] clf__estimator__criterion=gini, clf__estimator__max_depth=None, clf__estimator__min_samples_split=2, clf__estimator__n_estimators=40 \n",
      "[CV]  clf__estimator__criterion=gini, clf__estimator__max_depth=None, clf__estimator__min_samples_split=2, clf__estimator__n_estimators=40, score=0.245, total= 1.6min\n",
      "[CV] clf__estimator__criterion=gini, clf__estimator__max_depth=None, clf__estimator__min_samples_split=2, clf__estimator__n_estimators=40 \n",
      "[CV]  clf__estimator__criterion=gini, clf__estimator__max_depth=None, clf__estimator__min_samples_split=2, clf__estimator__n_estimators=40, score=0.244, total= 1.6min\n",
      "[CV] clf__estimator__criterion=gini, clf__estimator__max_depth=None, clf__estimator__min_samples_split=3, clf__estimator__n_estimators=10 \n",
      "[CV]  clf__estimator__criterion=gini, clf__estimator__max_depth=None, clf__estimator__min_samples_split=3, clf__estimator__n_estimators=10, score=0.212, total=  49.9s\n",
      "[CV] clf__estimator__criterion=gini, clf__estimator__max_depth=None, clf__estimator__min_samples_split=3, clf__estimator__n_estimators=10 \n",
      "[CV]  clf__estimator__criterion=gini, clf__estimator__max_depth=None, clf__estimator__min_samples_split=3, clf__estimator__n_estimators=10, score=0.217, total=  49.8s\n",
      "[CV] clf__estimator__criterion=gini, clf__estimator__max_depth=None, clf__estimator__min_samples_split=3, clf__estimator__n_estimators=10 \n",
      "[CV]  clf__estimator__criterion=gini, clf__estimator__max_depth=None, clf__estimator__min_samples_split=3, clf__estimator__n_estimators=10, score=0.231, total=  49.9s\n",
      "[CV] clf__estimator__criterion=gini, clf__estimator__max_depth=None, clf__estimator__min_samples_split=3, clf__estimator__n_estimators=20 \n",
      "[CV]  clf__estimator__criterion=gini, clf__estimator__max_depth=None, clf__estimator__min_samples_split=3, clf__estimator__n_estimators=20, score=0.225, total= 1.1min\n",
      "[CV] clf__estimator__criterion=gini, clf__estimator__max_depth=None, clf__estimator__min_samples_split=3, clf__estimator__n_estimators=20 \n",
      "[CV]  clf__estimator__criterion=gini, clf__estimator__max_depth=None, clf__estimator__min_samples_split=3, clf__estimator__n_estimators=20, score=0.230, total= 1.1min\n",
      "[CV] clf__estimator__criterion=gini, clf__estimator__max_depth=None, clf__estimator__min_samples_split=3, clf__estimator__n_estimators=20 \n",
      "[CV]  clf__estimator__criterion=gini, clf__estimator__max_depth=None, clf__estimator__min_samples_split=3, clf__estimator__n_estimators=20, score=0.241, total= 1.1min\n",
      "[CV] clf__estimator__criterion=gini, clf__estimator__max_depth=None, clf__estimator__min_samples_split=3, clf__estimator__n_estimators=30 \n",
      "[CV]  clf__estimator__criterion=gini, clf__estimator__max_depth=None, clf__estimator__min_samples_split=3, clf__estimator__n_estimators=30, score=0.234, total= 1.3min\n",
      "[CV] clf__estimator__criterion=gini, clf__estimator__max_depth=None, clf__estimator__min_samples_split=3, clf__estimator__n_estimators=30 \n",
      "[CV]  clf__estimator__criterion=gini, clf__estimator__max_depth=None, clf__estimator__min_samples_split=3, clf__estimator__n_estimators=30, score=0.233, total= 1.3min\n",
      "[CV] clf__estimator__criterion=gini, clf__estimator__max_depth=None, clf__estimator__min_samples_split=3, clf__estimator__n_estimators=30 \n",
      "[CV]  clf__estimator__criterion=gini, clf__estimator__max_depth=None, clf__estimator__min_samples_split=3, clf__estimator__n_estimators=30, score=0.239, total= 1.3min\n",
      "[CV] clf__estimator__criterion=gini, clf__estimator__max_depth=None, clf__estimator__min_samples_split=3, clf__estimator__n_estimators=40 \n",
      "[CV]  clf__estimator__criterion=gini, clf__estimator__max_depth=None, clf__estimator__min_samples_split=3, clf__estimator__n_estimators=40, score=0.243, total= 1.5min\n",
      "[CV] clf__estimator__criterion=gini, clf__estimator__max_depth=None, clf__estimator__min_samples_split=3, clf__estimator__n_estimators=40 \n",
      "[CV]  clf__estimator__criterion=gini, clf__estimator__max_depth=None, clf__estimator__min_samples_split=3, clf__estimator__n_estimators=40, score=0.246, total= 1.5min\n",
      "[CV] clf__estimator__criterion=gini, clf__estimator__max_depth=None, clf__estimator__min_samples_split=3, clf__estimator__n_estimators=40 \n",
      "[CV]  clf__estimator__criterion=gini, clf__estimator__max_depth=None, clf__estimator__min_samples_split=3, clf__estimator__n_estimators=40, score=0.247, total= 1.5min\n",
      "[CV] clf__estimator__criterion=gini, clf__estimator__max_depth=None, clf__estimator__min_samples_split=10, clf__estimator__n_estimators=10 \n",
      "[CV]  clf__estimator__criterion=gini, clf__estimator__max_depth=None, clf__estimator__min_samples_split=10, clf__estimator__n_estimators=10, score=0.217, total=  47.0s\n",
      "[CV] clf__estimator__criterion=gini, clf__estimator__max_depth=None, clf__estimator__min_samples_split=10, clf__estimator__n_estimators=10 \n",
      "[CV]  clf__estimator__criterion=gini, clf__estimator__max_depth=None, clf__estimator__min_samples_split=10, clf__estimator__n_estimators=10, score=0.212, total=  46.8s\n",
      "[CV] clf__estimator__criterion=gini, clf__estimator__max_depth=None, clf__estimator__min_samples_split=10, clf__estimator__n_estimators=10 \n",
      "[CV]  clf__estimator__criterion=gini, clf__estimator__max_depth=None, clf__estimator__min_samples_split=10, clf__estimator__n_estimators=10, score=0.224, total=  46.8s\n",
      "[CV] clf__estimator__criterion=gini, clf__estimator__max_depth=None, clf__estimator__min_samples_split=10, clf__estimator__n_estimators=20 \n",
      "[CV]  clf__estimator__criterion=gini, clf__estimator__max_depth=None, clf__estimator__min_samples_split=10, clf__estimator__n_estimators=20, score=0.229, total=  57.3s\n",
      "[CV] clf__estimator__criterion=gini, clf__estimator__max_depth=None, clf__estimator__min_samples_split=10, clf__estimator__n_estimators=20 \n"
     ]
    },
    {
     "name": "stdout",
     "output_type": "stream",
     "text": [
      "[CV]  clf__estimator__criterion=gini, clf__estimator__max_depth=None, clf__estimator__min_samples_split=10, clf__estimator__n_estimators=20, score=0.240, total=  57.3s\n",
      "[CV] clf__estimator__criterion=gini, clf__estimator__max_depth=None, clf__estimator__min_samples_split=10, clf__estimator__n_estimators=20 \n",
      "[CV]  clf__estimator__criterion=gini, clf__estimator__max_depth=None, clf__estimator__min_samples_split=10, clf__estimator__n_estimators=20, score=0.237, total=  57.5s\n",
      "[CV] clf__estimator__criterion=gini, clf__estimator__max_depth=None, clf__estimator__min_samples_split=10, clf__estimator__n_estimators=30 \n",
      "[CV]  clf__estimator__criterion=gini, clf__estimator__max_depth=None, clf__estimator__min_samples_split=10, clf__estimator__n_estimators=30, score=0.233, total= 1.1min\n",
      "[CV] clf__estimator__criterion=gini, clf__estimator__max_depth=None, clf__estimator__min_samples_split=10, clf__estimator__n_estimators=30 \n",
      "[CV]  clf__estimator__criterion=gini, clf__estimator__max_depth=None, clf__estimator__min_samples_split=10, clf__estimator__n_estimators=30, score=0.233, total= 1.1min\n",
      "[CV] clf__estimator__criterion=gini, clf__estimator__max_depth=None, clf__estimator__min_samples_split=10, clf__estimator__n_estimators=30 \n",
      "[CV]  clf__estimator__criterion=gini, clf__estimator__max_depth=None, clf__estimator__min_samples_split=10, clf__estimator__n_estimators=30, score=0.242, total= 1.1min\n",
      "[CV] clf__estimator__criterion=gini, clf__estimator__max_depth=None, clf__estimator__min_samples_split=10, clf__estimator__n_estimators=40 \n",
      "[CV]  clf__estimator__criterion=gini, clf__estimator__max_depth=None, clf__estimator__min_samples_split=10, clf__estimator__n_estimators=40, score=0.235, total= 1.3min\n",
      "[CV] clf__estimator__criterion=gini, clf__estimator__max_depth=None, clf__estimator__min_samples_split=10, clf__estimator__n_estimators=40 \n",
      "[CV]  clf__estimator__criterion=gini, clf__estimator__max_depth=None, clf__estimator__min_samples_split=10, clf__estimator__n_estimators=40, score=0.236, total= 1.3min\n",
      "[CV] clf__estimator__criterion=gini, clf__estimator__max_depth=None, clf__estimator__min_samples_split=10, clf__estimator__n_estimators=40 \n",
      "[CV]  clf__estimator__criterion=gini, clf__estimator__max_depth=None, clf__estimator__min_samples_split=10, clf__estimator__n_estimators=40, score=0.243, total= 1.3min\n",
      "[CV] clf__estimator__criterion=entropy, clf__estimator__max_depth=3, clf__estimator__min_samples_split=2, clf__estimator__n_estimators=10 \n",
      "[CV]  clf__estimator__criterion=entropy, clf__estimator__max_depth=3, clf__estimator__min_samples_split=2, clf__estimator__n_estimators=10, score=0.189, total=  37.0s\n",
      "[CV] clf__estimator__criterion=entropy, clf__estimator__max_depth=3, clf__estimator__min_samples_split=2, clf__estimator__n_estimators=10 \n",
      "[CV]  clf__estimator__criterion=entropy, clf__estimator__max_depth=3, clf__estimator__min_samples_split=2, clf__estimator__n_estimators=10, score=0.193, total=  36.9s\n",
      "[CV] clf__estimator__criterion=entropy, clf__estimator__max_depth=3, clf__estimator__min_samples_split=2, clf__estimator__n_estimators=10 \n",
      "[CV]  clf__estimator__criterion=entropy, clf__estimator__max_depth=3, clf__estimator__min_samples_split=2, clf__estimator__n_estimators=10, score=0.200, total=  37.0s\n",
      "[CV] clf__estimator__criterion=entropy, clf__estimator__max_depth=3, clf__estimator__min_samples_split=2, clf__estimator__n_estimators=20 \n",
      "[CV]  clf__estimator__criterion=entropy, clf__estimator__max_depth=3, clf__estimator__min_samples_split=2, clf__estimator__n_estimators=20, score=0.188, total=  37.7s\n",
      "[CV] clf__estimator__criterion=entropy, clf__estimator__max_depth=3, clf__estimator__min_samples_split=2, clf__estimator__n_estimators=20 \n",
      "[CV]  clf__estimator__criterion=entropy, clf__estimator__max_depth=3, clf__estimator__min_samples_split=2, clf__estimator__n_estimators=20, score=0.193, total=  37.8s\n",
      "[CV] clf__estimator__criterion=entropy, clf__estimator__max_depth=3, clf__estimator__min_samples_split=2, clf__estimator__n_estimators=20 \n",
      "[CV]  clf__estimator__criterion=entropy, clf__estimator__max_depth=3, clf__estimator__min_samples_split=2, clf__estimator__n_estimators=20, score=0.200, total=  37.6s\n",
      "[CV] clf__estimator__criterion=entropy, clf__estimator__max_depth=3, clf__estimator__min_samples_split=2, clf__estimator__n_estimators=30 \n",
      "[CV]  clf__estimator__criterion=entropy, clf__estimator__max_depth=3, clf__estimator__min_samples_split=2, clf__estimator__n_estimators=30, score=0.189, total=  38.4s\n",
      "[CV] clf__estimator__criterion=entropy, clf__estimator__max_depth=3, clf__estimator__min_samples_split=2, clf__estimator__n_estimators=30 \n",
      "[CV]  clf__estimator__criterion=entropy, clf__estimator__max_depth=3, clf__estimator__min_samples_split=2, clf__estimator__n_estimators=30, score=0.193, total=  38.6s\n",
      "[CV] clf__estimator__criterion=entropy, clf__estimator__max_depth=3, clf__estimator__min_samples_split=2, clf__estimator__n_estimators=30 \n",
      "[CV]  clf__estimator__criterion=entropy, clf__estimator__max_depth=3, clf__estimator__min_samples_split=2, clf__estimator__n_estimators=30, score=0.201, total=  38.4s\n",
      "[CV] clf__estimator__criterion=entropy, clf__estimator__max_depth=3, clf__estimator__min_samples_split=2, clf__estimator__n_estimators=40 \n",
      "[CV]  clf__estimator__criterion=entropy, clf__estimator__max_depth=3, clf__estimator__min_samples_split=2, clf__estimator__n_estimators=40, score=0.189, total=  39.2s\n",
      "[CV] clf__estimator__criterion=entropy, clf__estimator__max_depth=3, clf__estimator__min_samples_split=2, clf__estimator__n_estimators=40 \n",
      "[CV]  clf__estimator__criterion=entropy, clf__estimator__max_depth=3, clf__estimator__min_samples_split=2, clf__estimator__n_estimators=40, score=0.193, total=  39.2s\n",
      "[CV] clf__estimator__criterion=entropy, clf__estimator__max_depth=3, clf__estimator__min_samples_split=2, clf__estimator__n_estimators=40 \n",
      "[CV]  clf__estimator__criterion=entropy, clf__estimator__max_depth=3, clf__estimator__min_samples_split=2, clf__estimator__n_estimators=40, score=0.201, total=  39.1s\n",
      "[CV] clf__estimator__criterion=entropy, clf__estimator__max_depth=3, clf__estimator__min_samples_split=3, clf__estimator__n_estimators=10 \n",
      "[CV]  clf__estimator__criterion=entropy, clf__estimator__max_depth=3, clf__estimator__min_samples_split=3, clf__estimator__n_estimators=10, score=0.189, total=  36.9s\n",
      "[CV] clf__estimator__criterion=entropy, clf__estimator__max_depth=3, clf__estimator__min_samples_split=3, clf__estimator__n_estimators=10 \n",
      "[CV]  clf__estimator__criterion=entropy, clf__estimator__max_depth=3, clf__estimator__min_samples_split=3, clf__estimator__n_estimators=10, score=0.193, total=  37.0s\n",
      "[CV] clf__estimator__criterion=entropy, clf__estimator__max_depth=3, clf__estimator__min_samples_split=3, clf__estimator__n_estimators=10 \n",
      "[CV]  clf__estimator__criterion=entropy, clf__estimator__max_depth=3, clf__estimator__min_samples_split=3, clf__estimator__n_estimators=10, score=0.200, total=  37.0s\n",
      "[CV] clf__estimator__criterion=entropy, clf__estimator__max_depth=3, clf__estimator__min_samples_split=3, clf__estimator__n_estimators=20 \n",
      "[CV]  clf__estimator__criterion=entropy, clf__estimator__max_depth=3, clf__estimator__min_samples_split=3, clf__estimator__n_estimators=20, score=0.189, total=  37.8s\n",
      "[CV] clf__estimator__criterion=entropy, clf__estimator__max_depth=3, clf__estimator__min_samples_split=3, clf__estimator__n_estimators=20 \n",
      "[CV]  clf__estimator__criterion=entropy, clf__estimator__max_depth=3, clf__estimator__min_samples_split=3, clf__estimator__n_estimators=20, score=0.193, total=  37.8s\n",
      "[CV] clf__estimator__criterion=entropy, clf__estimator__max_depth=3, clf__estimator__min_samples_split=3, clf__estimator__n_estimators=20 \n",
      "[CV]  clf__estimator__criterion=entropy, clf__estimator__max_depth=3, clf__estimator__min_samples_split=3, clf__estimator__n_estimators=20, score=0.201, total=  37.8s\n",
      "[CV] clf__estimator__criterion=entropy, clf__estimator__max_depth=3, clf__estimator__min_samples_split=3, clf__estimator__n_estimators=30 \n",
      "[CV]  clf__estimator__criterion=entropy, clf__estimator__max_depth=3, clf__estimator__min_samples_split=3, clf__estimator__n_estimators=30, score=0.189, total=  38.5s\n",
      "[CV] clf__estimator__criterion=entropy, clf__estimator__max_depth=3, clf__estimator__min_samples_split=3, clf__estimator__n_estimators=30 \n"
     ]
    },
    {
     "name": "stdout",
     "output_type": "stream",
     "text": [
      "[CV]  clf__estimator__criterion=entropy, clf__estimator__max_depth=3, clf__estimator__min_samples_split=3, clf__estimator__n_estimators=30, score=0.193, total=  38.5s\n",
      "[CV] clf__estimator__criterion=entropy, clf__estimator__max_depth=3, clf__estimator__min_samples_split=3, clf__estimator__n_estimators=30 \n",
      "[CV]  clf__estimator__criterion=entropy, clf__estimator__max_depth=3, clf__estimator__min_samples_split=3, clf__estimator__n_estimators=30, score=0.201, total=  38.5s\n",
      "[CV] clf__estimator__criterion=entropy, clf__estimator__max_depth=3, clf__estimator__min_samples_split=3, clf__estimator__n_estimators=40 \n",
      "[CV]  clf__estimator__criterion=entropy, clf__estimator__max_depth=3, clf__estimator__min_samples_split=3, clf__estimator__n_estimators=40, score=0.189, total=  39.1s\n",
      "[CV] clf__estimator__criterion=entropy, clf__estimator__max_depth=3, clf__estimator__min_samples_split=3, clf__estimator__n_estimators=40 \n",
      "[CV]  clf__estimator__criterion=entropy, clf__estimator__max_depth=3, clf__estimator__min_samples_split=3, clf__estimator__n_estimators=40, score=0.193, total=  39.7s\n",
      "[CV] clf__estimator__criterion=entropy, clf__estimator__max_depth=3, clf__estimator__min_samples_split=3, clf__estimator__n_estimators=40 \n",
      "[CV]  clf__estimator__criterion=entropy, clf__estimator__max_depth=3, clf__estimator__min_samples_split=3, clf__estimator__n_estimators=40, score=0.201, total=  39.1s\n",
      "[CV] clf__estimator__criterion=entropy, clf__estimator__max_depth=3, clf__estimator__min_samples_split=10, clf__estimator__n_estimators=10 \n",
      "[CV]  clf__estimator__criterion=entropy, clf__estimator__max_depth=3, clf__estimator__min_samples_split=10, clf__estimator__n_estimators=10, score=0.188, total=  37.0s\n",
      "[CV] clf__estimator__criterion=entropy, clf__estimator__max_depth=3, clf__estimator__min_samples_split=10, clf__estimator__n_estimators=10 \n",
      "[CV]  clf__estimator__criterion=entropy, clf__estimator__max_depth=3, clf__estimator__min_samples_split=10, clf__estimator__n_estimators=10, score=0.193, total=  36.9s\n",
      "[CV] clf__estimator__criterion=entropy, clf__estimator__max_depth=3, clf__estimator__min_samples_split=10, clf__estimator__n_estimators=10 \n",
      "[CV]  clf__estimator__criterion=entropy, clf__estimator__max_depth=3, clf__estimator__min_samples_split=10, clf__estimator__n_estimators=10, score=0.200, total=  37.0s\n",
      "[CV] clf__estimator__criterion=entropy, clf__estimator__max_depth=3, clf__estimator__min_samples_split=10, clf__estimator__n_estimators=20 \n",
      "[CV]  clf__estimator__criterion=entropy, clf__estimator__max_depth=3, clf__estimator__min_samples_split=10, clf__estimator__n_estimators=20, score=0.189, total=  37.7s\n",
      "[CV] clf__estimator__criterion=entropy, clf__estimator__max_depth=3, clf__estimator__min_samples_split=10, clf__estimator__n_estimators=20 \n",
      "[CV]  clf__estimator__criterion=entropy, clf__estimator__max_depth=3, clf__estimator__min_samples_split=10, clf__estimator__n_estimators=20, score=0.193, total=  37.8s\n",
      "[CV] clf__estimator__criterion=entropy, clf__estimator__max_depth=3, clf__estimator__min_samples_split=10, clf__estimator__n_estimators=20 \n",
      "[CV]  clf__estimator__criterion=entropy, clf__estimator__max_depth=3, clf__estimator__min_samples_split=10, clf__estimator__n_estimators=20, score=0.201, total=  37.7s\n",
      "[CV] clf__estimator__criterion=entropy, clf__estimator__max_depth=3, clf__estimator__min_samples_split=10, clf__estimator__n_estimators=30 \n",
      "[CV]  clf__estimator__criterion=entropy, clf__estimator__max_depth=3, clf__estimator__min_samples_split=10, clf__estimator__n_estimators=30, score=0.189, total=  38.3s\n",
      "[CV] clf__estimator__criterion=entropy, clf__estimator__max_depth=3, clf__estimator__min_samples_split=10, clf__estimator__n_estimators=30 \n",
      "[CV]  clf__estimator__criterion=entropy, clf__estimator__max_depth=3, clf__estimator__min_samples_split=10, clf__estimator__n_estimators=30, score=0.193, total=  38.3s\n",
      "[CV] clf__estimator__criterion=entropy, clf__estimator__max_depth=3, clf__estimator__min_samples_split=10, clf__estimator__n_estimators=30 \n",
      "[CV]  clf__estimator__criterion=entropy, clf__estimator__max_depth=3, clf__estimator__min_samples_split=10, clf__estimator__n_estimators=30, score=0.201, total=  38.5s\n",
      "[CV] clf__estimator__criterion=entropy, clf__estimator__max_depth=3, clf__estimator__min_samples_split=10, clf__estimator__n_estimators=40 \n",
      "[CV]  clf__estimator__criterion=entropy, clf__estimator__max_depth=3, clf__estimator__min_samples_split=10, clf__estimator__n_estimators=40, score=0.189, total=  39.0s\n",
      "[CV] clf__estimator__criterion=entropy, clf__estimator__max_depth=3, clf__estimator__min_samples_split=10, clf__estimator__n_estimators=40 \n",
      "[CV]  clf__estimator__criterion=entropy, clf__estimator__max_depth=3, clf__estimator__min_samples_split=10, clf__estimator__n_estimators=40, score=0.193, total=  39.1s\n",
      "[CV] clf__estimator__criterion=entropy, clf__estimator__max_depth=3, clf__estimator__min_samples_split=10, clf__estimator__n_estimators=40 \n",
      "[CV]  clf__estimator__criterion=entropy, clf__estimator__max_depth=3, clf__estimator__min_samples_split=10, clf__estimator__n_estimators=40, score=0.201, total=  39.1s\n",
      "[CV] clf__estimator__criterion=entropy, clf__estimator__max_depth=None, clf__estimator__min_samples_split=2, clf__estimator__n_estimators=10 \n",
      "[CV]  clf__estimator__criterion=entropy, clf__estimator__max_depth=None, clf__estimator__min_samples_split=2, clf__estimator__n_estimators=10, score=0.222, total=  53.0s\n",
      "[CV] clf__estimator__criterion=entropy, clf__estimator__max_depth=None, clf__estimator__min_samples_split=2, clf__estimator__n_estimators=10 \n",
      "[CV]  clf__estimator__criterion=entropy, clf__estimator__max_depth=None, clf__estimator__min_samples_split=2, clf__estimator__n_estimators=10, score=0.224, total=  52.9s\n",
      "[CV] clf__estimator__criterion=entropy, clf__estimator__max_depth=None, clf__estimator__min_samples_split=2, clf__estimator__n_estimators=10 \n",
      "[CV]  clf__estimator__criterion=entropy, clf__estimator__max_depth=None, clf__estimator__min_samples_split=2, clf__estimator__n_estimators=10, score=0.228, total=  53.2s\n",
      "[CV] clf__estimator__criterion=entropy, clf__estimator__max_depth=None, clf__estimator__min_samples_split=2, clf__estimator__n_estimators=20 \n",
      "[CV]  clf__estimator__criterion=entropy, clf__estimator__max_depth=None, clf__estimator__min_samples_split=2, clf__estimator__n_estimators=20, score=0.224, total= 1.2min\n",
      "[CV] clf__estimator__criterion=entropy, clf__estimator__max_depth=None, clf__estimator__min_samples_split=2, clf__estimator__n_estimators=20 \n",
      "[CV]  clf__estimator__criterion=entropy, clf__estimator__max_depth=None, clf__estimator__min_samples_split=2, clf__estimator__n_estimators=20, score=0.244, total= 1.2min\n",
      "[CV] clf__estimator__criterion=entropy, clf__estimator__max_depth=None, clf__estimator__min_samples_split=2, clf__estimator__n_estimators=20 \n",
      "[CV]  clf__estimator__criterion=entropy, clf__estimator__max_depth=None, clf__estimator__min_samples_split=2, clf__estimator__n_estimators=20, score=0.236, total= 1.2min\n",
      "[CV] clf__estimator__criterion=entropy, clf__estimator__max_depth=None, clf__estimator__min_samples_split=2, clf__estimator__n_estimators=30 \n",
      "[CV]  clf__estimator__criterion=entropy, clf__estimator__max_depth=None, clf__estimator__min_samples_split=2, clf__estimator__n_estimators=30, score=0.236, total= 1.4min\n",
      "[CV] clf__estimator__criterion=entropy, clf__estimator__max_depth=None, clf__estimator__min_samples_split=2, clf__estimator__n_estimators=30 \n",
      "[CV]  clf__estimator__criterion=entropy, clf__estimator__max_depth=None, clf__estimator__min_samples_split=2, clf__estimator__n_estimators=30, score=0.239, total= 1.4min\n",
      "[CV] clf__estimator__criterion=entropy, clf__estimator__max_depth=None, clf__estimator__min_samples_split=2, clf__estimator__n_estimators=30 \n",
      "[CV]  clf__estimator__criterion=entropy, clf__estimator__max_depth=None, clf__estimator__min_samples_split=2, clf__estimator__n_estimators=30, score=0.236, total= 1.4min\n",
      "[CV] clf__estimator__criterion=entropy, clf__estimator__max_depth=None, clf__estimator__min_samples_split=2, clf__estimator__n_estimators=40 \n",
      "[CV]  clf__estimator__criterion=entropy, clf__estimator__max_depth=None, clf__estimator__min_samples_split=2, clf__estimator__n_estimators=40, score=0.230, total= 1.7min\n",
      "[CV] clf__estimator__criterion=entropy, clf__estimator__max_depth=None, clf__estimator__min_samples_split=2, clf__estimator__n_estimators=40 \n"
     ]
    },
    {
     "name": "stdout",
     "output_type": "stream",
     "text": [
      "[CV]  clf__estimator__criterion=entropy, clf__estimator__max_depth=None, clf__estimator__min_samples_split=2, clf__estimator__n_estimators=40, score=0.243, total= 1.7min\n",
      "[CV] clf__estimator__criterion=entropy, clf__estimator__max_depth=None, clf__estimator__min_samples_split=2, clf__estimator__n_estimators=40 \n",
      "[CV]  clf__estimator__criterion=entropy, clf__estimator__max_depth=None, clf__estimator__min_samples_split=2, clf__estimator__n_estimators=40, score=0.235, total= 1.7min\n",
      "[CV] clf__estimator__criterion=entropy, clf__estimator__max_depth=None, clf__estimator__min_samples_split=3, clf__estimator__n_estimators=10 \n",
      "[CV]  clf__estimator__criterion=entropy, clf__estimator__max_depth=None, clf__estimator__min_samples_split=3, clf__estimator__n_estimators=10, score=0.219, total=  51.2s\n",
      "[CV] clf__estimator__criterion=entropy, clf__estimator__max_depth=None, clf__estimator__min_samples_split=3, clf__estimator__n_estimators=10 \n",
      "[CV]  clf__estimator__criterion=entropy, clf__estimator__max_depth=None, clf__estimator__min_samples_split=3, clf__estimator__n_estimators=10, score=0.221, total=  51.2s\n",
      "[CV] clf__estimator__criterion=entropy, clf__estimator__max_depth=None, clf__estimator__min_samples_split=3, clf__estimator__n_estimators=10 \n",
      "[CV]  clf__estimator__criterion=entropy, clf__estimator__max_depth=None, clf__estimator__min_samples_split=3, clf__estimator__n_estimators=10, score=0.224, total=  51.3s\n",
      "[CV] clf__estimator__criterion=entropy, clf__estimator__max_depth=None, clf__estimator__min_samples_split=3, clf__estimator__n_estimators=20 \n",
      "[CV]  clf__estimator__criterion=entropy, clf__estimator__max_depth=None, clf__estimator__min_samples_split=3, clf__estimator__n_estimators=20, score=0.223, total= 1.1min\n",
      "[CV] clf__estimator__criterion=entropy, clf__estimator__max_depth=None, clf__estimator__min_samples_split=3, clf__estimator__n_estimators=20 \n",
      "[CV]  clf__estimator__criterion=entropy, clf__estimator__max_depth=None, clf__estimator__min_samples_split=3, clf__estimator__n_estimators=20, score=0.220, total= 1.1min\n",
      "[CV] clf__estimator__criterion=entropy, clf__estimator__max_depth=None, clf__estimator__min_samples_split=3, clf__estimator__n_estimators=20 \n",
      "[CV]  clf__estimator__criterion=entropy, clf__estimator__max_depth=None, clf__estimator__min_samples_split=3, clf__estimator__n_estimators=20, score=0.239, total= 1.1min\n",
      "[CV] clf__estimator__criterion=entropy, clf__estimator__max_depth=None, clf__estimator__min_samples_split=3, clf__estimator__n_estimators=30 \n",
      "[CV]  clf__estimator__criterion=entropy, clf__estimator__max_depth=None, clf__estimator__min_samples_split=3, clf__estimator__n_estimators=30, score=0.231, total= 1.3min\n",
      "[CV] clf__estimator__criterion=entropy, clf__estimator__max_depth=None, clf__estimator__min_samples_split=3, clf__estimator__n_estimators=30 \n",
      "[CV]  clf__estimator__criterion=entropy, clf__estimator__max_depth=None, clf__estimator__min_samples_split=3, clf__estimator__n_estimators=30, score=0.232, total= 1.3min\n",
      "[CV] clf__estimator__criterion=entropy, clf__estimator__max_depth=None, clf__estimator__min_samples_split=3, clf__estimator__n_estimators=30 \n",
      "[CV]  clf__estimator__criterion=entropy, clf__estimator__max_depth=None, clf__estimator__min_samples_split=3, clf__estimator__n_estimators=30, score=0.244, total= 1.4min\n",
      "[CV] clf__estimator__criterion=entropy, clf__estimator__max_depth=None, clf__estimator__min_samples_split=3, clf__estimator__n_estimators=40 \n",
      "[CV]  clf__estimator__criterion=entropy, clf__estimator__max_depth=None, clf__estimator__min_samples_split=3, clf__estimator__n_estimators=40, score=0.235, total= 1.6min\n",
      "[CV] clf__estimator__criterion=entropy, clf__estimator__max_depth=None, clf__estimator__min_samples_split=3, clf__estimator__n_estimators=40 \n",
      "[CV]  clf__estimator__criterion=entropy, clf__estimator__max_depth=None, clf__estimator__min_samples_split=3, clf__estimator__n_estimators=40, score=0.231, total= 1.6min\n",
      "[CV] clf__estimator__criterion=entropy, clf__estimator__max_depth=None, clf__estimator__min_samples_split=3, clf__estimator__n_estimators=40 \n",
      "[CV]  clf__estimator__criterion=entropy, clf__estimator__max_depth=None, clf__estimator__min_samples_split=3, clf__estimator__n_estimators=40, score=0.240, total= 1.6min\n",
      "[CV] clf__estimator__criterion=entropy, clf__estimator__max_depth=None, clf__estimator__min_samples_split=10, clf__estimator__n_estimators=10 \n",
      "[CV]  clf__estimator__criterion=entropy, clf__estimator__max_depth=None, clf__estimator__min_samples_split=10, clf__estimator__n_estimators=10, score=0.217, total=  47.8s\n",
      "[CV] clf__estimator__criterion=entropy, clf__estimator__max_depth=None, clf__estimator__min_samples_split=10, clf__estimator__n_estimators=10 \n",
      "[CV]  clf__estimator__criterion=entropy, clf__estimator__max_depth=None, clf__estimator__min_samples_split=10, clf__estimator__n_estimators=10, score=0.222, total=  47.9s\n",
      "[CV] clf__estimator__criterion=entropy, clf__estimator__max_depth=None, clf__estimator__min_samples_split=10, clf__estimator__n_estimators=10 \n",
      "[CV]  clf__estimator__criterion=entropy, clf__estimator__max_depth=None, clf__estimator__min_samples_split=10, clf__estimator__n_estimators=10, score=0.224, total=  48.0s\n",
      "[CV] clf__estimator__criterion=entropy, clf__estimator__max_depth=None, clf__estimator__min_samples_split=10, clf__estimator__n_estimators=20 \n",
      "[CV]  clf__estimator__criterion=entropy, clf__estimator__max_depth=None, clf__estimator__min_samples_split=10, clf__estimator__n_estimators=20, score=0.223, total=  59.4s\n",
      "[CV] clf__estimator__criterion=entropy, clf__estimator__max_depth=None, clf__estimator__min_samples_split=10, clf__estimator__n_estimators=20 \n",
      "[CV]  clf__estimator__criterion=entropy, clf__estimator__max_depth=None, clf__estimator__min_samples_split=10, clf__estimator__n_estimators=20, score=0.229, total=  59.7s\n",
      "[CV] clf__estimator__criterion=entropy, clf__estimator__max_depth=None, clf__estimator__min_samples_split=10, clf__estimator__n_estimators=20 \n",
      "[CV]  clf__estimator__criterion=entropy, clf__estimator__max_depth=None, clf__estimator__min_samples_split=10, clf__estimator__n_estimators=20, score=0.232, total=  59.7s\n",
      "[CV] clf__estimator__criterion=entropy, clf__estimator__max_depth=None, clf__estimator__min_samples_split=10, clf__estimator__n_estimators=30 \n",
      "[CV]  clf__estimator__criterion=entropy, clf__estimator__max_depth=None, clf__estimator__min_samples_split=10, clf__estimator__n_estimators=30, score=0.224, total= 1.2min\n",
      "[CV] clf__estimator__criterion=entropy, clf__estimator__max_depth=None, clf__estimator__min_samples_split=10, clf__estimator__n_estimators=30 \n",
      "[CV]  clf__estimator__criterion=entropy, clf__estimator__max_depth=None, clf__estimator__min_samples_split=10, clf__estimator__n_estimators=30, score=0.231, total= 1.2min\n",
      "[CV] clf__estimator__criterion=entropy, clf__estimator__max_depth=None, clf__estimator__min_samples_split=10, clf__estimator__n_estimators=30 \n",
      "[CV]  clf__estimator__criterion=entropy, clf__estimator__max_depth=None, clf__estimator__min_samples_split=10, clf__estimator__n_estimators=30, score=0.238, total= 1.2min\n",
      "[CV] clf__estimator__criterion=entropy, clf__estimator__max_depth=None, clf__estimator__min_samples_split=10, clf__estimator__n_estimators=40 \n",
      "[CV]  clf__estimator__criterion=entropy, clf__estimator__max_depth=None, clf__estimator__min_samples_split=10, clf__estimator__n_estimators=40, score=0.236, total= 1.4min\n",
      "[CV] clf__estimator__criterion=entropy, clf__estimator__max_depth=None, clf__estimator__min_samples_split=10, clf__estimator__n_estimators=40 \n",
      "[CV]  clf__estimator__criterion=entropy, clf__estimator__max_depth=None, clf__estimator__min_samples_split=10, clf__estimator__n_estimators=40, score=0.229, total= 1.4min\n",
      "[CV] clf__estimator__criterion=entropy, clf__estimator__max_depth=None, clf__estimator__min_samples_split=10, clf__estimator__n_estimators=40 \n",
      "[CV]  clf__estimator__criterion=entropy, clf__estimator__max_depth=None, clf__estimator__min_samples_split=10, clf__estimator__n_estimators=40, score=0.235, total= 1.4min\n"
     ]
    },
    {
     "name": "stderr",
     "output_type": "stream",
     "text": [
      "[Parallel(n_jobs=1)]: Done 144 out of 144 | elapsed: 130.4min finished\n"
     ]
    }
   ],
   "source": [
    "tuned_model = cv.fit(X_train, y_train)"
   ]
  },
  {
   "cell_type": "code",
   "execution_count": 46,
   "metadata": {},
   "outputs": [
    {
     "data": {
      "text/plain": [
       "{'clf__estimator__criterion': 'gini',\n",
       " 'clf__estimator__max_depth': None,\n",
       " 'clf__estimator__min_samples_split': 3,\n",
       " 'clf__estimator__n_estimators': 40}"
      ]
     },
     "execution_count": 46,
     "metadata": {},
     "output_type": "execute_result"
    }
   ],
   "source": [
    "tuned_model.best_params_"
   ]
  },
  {
   "cell_type": "code",
   "execution_count": 52,
   "metadata": {},
   "outputs": [
    {
     "data": {
      "text/plain": [
       "Pipeline(memory=None,\n",
       "         steps=[('vect',\n",
       "                 CountVectorizer(analyzer='word', binary=False,\n",
       "                                 decode_error='strict',\n",
       "                                 dtype=<class 'numpy.int64'>, encoding='utf-8',\n",
       "                                 input='content', lowercase=True, max_df=1.0,\n",
       "                                 max_features=None, min_df=1,\n",
       "                                 ngram_range=(1, 1), preprocessor=None,\n",
       "                                 stop_words=None, strip_accents=None,\n",
       "                                 token_pattern='(?u)\\\\b\\\\w\\\\w+\\\\b',\n",
       "                                 tokenizer=<function tokenize at...\n",
       "                 MultiOutputClassifier(estimator=RandomForestClassifier(bootstrap=True,\n",
       "                                                                        class_weight=None,\n",
       "                                                                        criterion='gini',\n",
       "                                                                        max_depth=None,\n",
       "                                                                        max_features='auto',\n",
       "                                                                        max_leaf_nodes=None,\n",
       "                                                                        min_impurity_decrease=0.0,\n",
       "                                                                        min_impurity_split=None,\n",
       "                                                                        min_samples_leaf=1,\n",
       "                                                                        min_samples_split=3,\n",
       "                                                                        min_weight_fraction_leaf=0.0,\n",
       "                                                                        n_estimators=40,\n",
       "                                                                        n_jobs=None,\n",
       "                                                                        oob_score=False,\n",
       "                                                                        random_state=None,\n",
       "                                                                        verbose=0,\n",
       "                                                                        warm_start=False),\n",
       "                                       n_jobs=None))],\n",
       "         verbose=False)"
      ]
     },
     "execution_count": 52,
     "metadata": {},
     "output_type": "execute_result"
    }
   ],
   "source": [
    "tuned_model.best_estimator_"
   ]
  },
  {
   "cell_type": "code",
   "execution_count": 50,
   "metadata": {},
   "outputs": [],
   "source": [
    "y_pred_tuned = tuned_model.predict(X_test)"
   ]
  },
  {
   "cell_type": "code",
   "execution_count": 51,
   "metadata": {},
   "outputs": [
    {
     "name": "stdout",
     "output_type": "stream",
     "text": [
      "Accuracy: 0.9473222459566677\n"
     ]
    }
   ],
   "source": [
    "print('Accuracy: {}'.format(np.mean(y_test == y_pred_tuned)))"
   ]
  },
  {
   "cell_type": "markdown",
   "metadata": {},
   "source": [
    "### 8. Try improving your model further. Here are a few ideas:\n",
    "* try other machine learning algorithms\n",
    "* add other features besides the TF-IDF"
   ]
  },
  {
   "cell_type": "code",
   "execution_count": null,
   "metadata": {},
   "outputs": [],
   "source": []
  },
  {
   "cell_type": "markdown",
   "metadata": {},
   "source": [
    "### 9. Export your model as a pickle file"
   ]
  },
  {
   "cell_type": "code",
   "execution_count": 58,
   "metadata": {},
   "outputs": [],
   "source": [
    "pickle.dump(tuned_model.best_estimator_, open('./model.pickle', 'wb'))"
   ]
  },
  {
   "cell_type": "markdown",
   "metadata": {},
   "source": [
    "### 10. Use this notebook to complete `train.py`\n",
    "Use the template file attached in the Resources folder to write a script that runs the steps above to create a database and export a model based on a new dataset specified by the user."
   ]
  },
  {
   "cell_type": "code",
   "execution_count": null,
   "metadata": {},
   "outputs": [],
   "source": []
  }
 ],
 "metadata": {
  "kernelspec": {
   "display_name": "Python 3",
   "language": "python",
   "name": "python3"
  },
  "language_info": {
   "codemirror_mode": {
    "name": "ipython",
    "version": 3
   },
   "file_extension": ".py",
   "mimetype": "text/x-python",
   "name": "python",
   "nbconvert_exporter": "python",
   "pygments_lexer": "ipython3",
   "version": "3.7.4"
  }
 },
 "nbformat": 4,
 "nbformat_minor": 2
}
