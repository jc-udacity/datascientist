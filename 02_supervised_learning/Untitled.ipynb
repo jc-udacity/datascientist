{
 "cells": [
  {
   "cell_type": "code",
   "execution_count": 60,
   "metadata": {},
   "outputs": [],
   "source": [
    "data = np.loadtxt('data.csv', delimiter = ',')"
   ]
  },
  {
   "cell_type": "code",
   "execution_count": 78,
   "metadata": {},
   "outputs": [
    {
     "data": {
      "text/plain": [
       "(100, 2)"
      ]
     },
     "execution_count": 78,
     "metadata": {},
     "output_type": "execute_result"
    }
   ],
   "source": [
    "np.shape(data)"
   ]
  },
  {
   "cell_type": "code",
   "execution_count": 81,
   "metadata": {},
   "outputs": [
    {
     "data": {
      "text/plain": [
       "(100,)"
      ]
     },
     "execution_count": 81,
     "metadata": {},
     "output_type": "execute_result"
    }
   ],
   "source": [
    "np.shape(data[:,-1])"
   ]
  },
  {
   "cell_type": "code",
   "execution_count": 80,
   "metadata": {},
   "outputs": [
    {
     "data": {
      "text/plain": [
       "(100, 1)"
      ]
     },
     "execution_count": 80,
     "metadata": {},
     "output_type": "execute_result"
    }
   ],
   "source": [
    "np.shape(data[:,:-1])"
   ]
  },
  {
   "cell_type": "code",
   "execution_count": 105,
   "metadata": {},
   "outputs": [],
   "source": [
    "X = data[:,:-1]\n",
    "y = data[:,-1]\n",
    "\n",
    "n_points = X.shape[0]\n",
    "W = np.zeros(X.shape[1])\n",
    "b=0\n",
    "\n",
    "regression_coef = [np.hstack((W,b))]"
   ]
  },
  {
   "cell_type": "code",
   "execution_count": 97,
   "metadata": {},
   "outputs": [
    {
     "data": {
      "text/plain": [
       "array([96, 19, 28, 89, 99, 88, 39, 47, 57, 80, 95, 65, 40, 10, 14,  7,  8,\n",
       "       31, 51, 88, 61, 51, 83, 94, 30])"
      ]
     },
     "execution_count": 97,
     "metadata": {},
     "output_type": "execute_result"
    }
   ],
   "source": [
    "np.random.choice(range(n_points), 25)"
   ]
  },
  {
   "cell_type": "code",
   "execution_count": 98,
   "metadata": {},
   "outputs": [
    {
     "data": {
      "text/plain": [
       "array([[ 0.79862],\n",
       "       [-0.9829 ],\n",
       "       [-0.75463],\n",
       "       [ 0.89583],\n",
       "       [ 0.32924],\n",
       "       [ 0.24625],\n",
       "       [ 0.4552 ],\n",
       "       [-1.36115],\n",
       "       [-0.95409],\n",
       "       [ 0.49594],\n",
       "       [-0.44442],\n",
       "       [ 0.62822],\n",
       "       [ 0.67312],\n",
       "       [-1.34999],\n",
       "       [ 2.64837],\n",
       "       [ 1.30499],\n",
       "       [ 0.10883],\n",
       "       [ 0.74678],\n",
       "       [ 0.15835],\n",
       "       [ 0.01763],\n",
       "       [-2.40724],\n",
       "       [-0.60116],\n",
       "       [-0.00604],\n",
       "       [-3.02296],\n",
       "       [ 0.03283]])"
      ]
     },
     "execution_count": 98,
     "metadata": {},
     "output_type": "execute_result"
    }
   ],
   "source": [
    "batch = np.random.choice(range(n_points), 25)\n",
    "X[batch,:]"
   ]
  },
  {
   "cell_type": "code",
   "execution_count": 99,
   "metadata": {},
   "outputs": [
    {
     "data": {
      "text/plain": [
       "array([ 3.44953e+00,  2.30455e+00,  2.30161e+00,  3.04041e+00,\n",
       "        1.91416e+00,  2.33029e+00,  2.31938e+00,  1.70969e+00,\n",
       "        1.86155e+00,  1.96178e+00,  2.06623e+00,  1.71526e+00,\n",
       "        2.05950e+00,  1.59958e+00,  3.01665e+00,  2.42824e+00,\n",
       "        6.31900e-01,  2.92253e+00,  2.28231e+00,  1.87838e+00,\n",
       "       -1.56000e-03,  1.54254e+00,  1.78802e+00,  1.09255e+00,\n",
       "        1.55730e+00])"
      ]
     },
     "execution_count": 99,
     "metadata": {},
     "output_type": "execute_result"
    }
   ],
   "source": [
    "y[batch]"
   ]
  },
  {
   "cell_type": "code",
   "execution_count": 100,
   "metadata": {},
   "outputs": [],
   "source": [
    "X_batch = X[batch,:]\n",
    "y_batch = y[batch]"
   ]
  },
  {
   "cell_type": "code",
   "execution_count": 101,
   "metadata": {},
   "outputs": [],
   "source": [
    "W, b = 0,0 #MSEStep(X_batch, y_batch, W, b, learn_rate)\n",
    "\n",
    "regression_coef.append(np.hstack((W,b)))"
   ]
  },
  {
   "cell_type": "code",
   "execution_count": 102,
   "metadata": {},
   "outputs": [
    {
     "data": {
      "text/plain": [
       "[array([0., 0.]), array([0, 0])]"
      ]
     },
     "execution_count": 102,
     "metadata": {},
     "output_type": "execute_result"
    }
   ],
   "source": [
    "regression_coef"
   ]
  },
  {
   "cell_type": "code",
   "execution_count": 106,
   "metadata": {},
   "outputs": [
    {
     "data": {
      "text/plain": [
       "array([0.])"
      ]
     },
     "execution_count": 106,
     "metadata": {},
     "output_type": "execute_result"
    }
   ],
   "source": [
    "W"
   ]
  },
  {
   "cell_type": "code",
   "execution_count": 109,
   "metadata": {},
   "outputs": [
    {
     "data": {
      "text/plain": [
       "array([0., 0., 0., 0., 0., 0., 0., 0., 0., 0., 0., 0., 0., 0., 0., 0., 0.,\n",
       "       0., 0., 0., 0., 0., 0., 0., 0., 0., 0., 0., 0., 0., 0., 0., 0., 0.,\n",
       "       0., 0., 0., 0., 0., 0., 0., 0., 0., 0., 0., 0., 0., 0., 0., 0., 0.,\n",
       "       0., 0., 0., 0., 0., 0., 0., 0., 0., 0., 0., 0., 0., 0., 0., 0., 0.,\n",
       "       0., 0., 0., 0., 0., 0., 0., 0., 0., 0., 0., 0., 0., 0., 0., 0., 0.,\n",
       "       0., 0., 0., 0., 0., 0., 0., 0., 0., 0., 0., 0., 0., 0., 0.])"
      ]
     },
     "execution_count": 109,
     "metadata": {},
     "output_type": "execute_result"
    }
   ],
   "source": [
    "np.matmul(X,W)"
   ]
  },
  {
   "cell_type": "code",
   "execution_count": null,
   "metadata": {},
   "outputs": [],
   "source": []
  }
 ],
 "metadata": {
  "kernelspec": {
   "display_name": "Python 3",
   "language": "python",
   "name": "python3"
  },
  "language_info": {
   "codemirror_mode": {
    "name": "ipython",
    "version": 3
   },
   "file_extension": ".py",
   "mimetype": "text/x-python",
   "name": "python",
   "nbconvert_exporter": "python",
   "pygments_lexer": "ipython3",
   "version": "3.7.0"
  }
 },
 "nbformat": 4,
 "nbformat_minor": 2
}
