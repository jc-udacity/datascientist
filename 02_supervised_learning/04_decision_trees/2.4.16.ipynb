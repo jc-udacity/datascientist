{
 "cells": [
  {
   "cell_type": "code",
   "execution_count": 8,
   "metadata": {},
   "outputs": [
    {
     "name": "stdout",
     "output_type": "stream",
     "text": [
      "Index(['Blue', 'Green', 'Brown'], dtype='object')\n",
      "Blue 10\n",
      "Green 8\n",
      "Brown 6\n"
     ]
    }
   ],
   "source": [
    "import pandas as pd\n",
    "\n",
    "data = pd.read_csv(\"ml-bugs.csv\")\n",
    "#print(data)\n",
    "\n",
    "# determine entropy of child Color\n",
    "# count nb occurence of each Color\n",
    "nb_colors = data.Color.value_counts()\n",
    "\n",
    "print(nb_colors.index)\n",
    "\n",
    "for color in nb_colors.index:\n",
    "    print(color, nb_colors[color])"
   ]
  },
  {
   "cell_type": "code",
   "execution_count": null,
   "metadata": {},
   "outputs": [],
   "source": []
  }
 ],
 "metadata": {
  "kernelspec": {
   "display_name": "Python 3",
   "language": "python",
   "name": "python3"
  },
  "language_info": {
   "codemirror_mode": {
    "name": "ipython",
    "version": 3
   },
   "file_extension": ".py",
   "mimetype": "text/x-python",
   "name": "python",
   "nbconvert_exporter": "python",
   "pygments_lexer": "ipython3",
   "version": "3.7.0"
  }
 },
 "nbformat": 4,
 "nbformat_minor": 2
}
