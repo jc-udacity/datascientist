{
 "cells": [
  {
   "cell_type": "code",
   "execution_count": 45,
   "metadata": {},
   "outputs": [],
   "source": [
    "import pandas as pd\n",
    "import numpy as np\n",
    "\n",
    "data = pd.read_csv(\"2.2.25_data.csv\")\n",
    "\n",
    "x_values = data[[\"Var_X\"]]\n",
    "y_values = data[[\"Var_Y\"]]"
   ]
  },
  {
   "cell_type": "code",
   "execution_count": 152,
   "metadata": {},
   "outputs": [],
   "source": [
    "from sklearn.preprocessing import PolynomialFeatures\n",
    "poly_feature2 = PolynomialFeatures(degree = 2)\n",
    "x_poly2 = poly_feature2.fit_transform(x_values)\n",
    "\n",
    "poly_feature3 = PolynomialFeatures(degree = 3)\n",
    "x_poly3 = poly_feature3.fit_transform(x_values)"
   ]
  },
  {
   "cell_type": "code",
   "execution_count": 153,
   "metadata": {},
   "outputs": [
    {
     "data": {
      "text/plain": [
       "LinearRegression(copy_X=True, fit_intercept=True, n_jobs=1, normalize=False)"
      ]
     },
     "execution_count": 153,
     "metadata": {},
     "output_type": "execute_result"
    }
   ],
   "source": [
    "from sklearn.linear_model import LinearRegression\n",
    "poly_model2 = LinearRegression()\n",
    "poly_model2.fit(x_poly2, y_values)\n",
    "\n",
    "poly_model3 = LinearRegression()\n",
    "poly_model3.fit(x_poly3, y_values)"
   ]
  },
  {
   "cell_type": "code",
   "execution_count": 154,
   "metadata": {},
   "outputs": [
    {
     "data": {
      "text/plain": [
       "<matplotlib.legend.Legend at 0xd41ff60>"
      ]
     },
     "execution_count": 154,
     "metadata": {},
     "output_type": "execute_result"
    },
    {
     "data": {
      "image/png": "[encoded data removed]",
      "text/plain": [
       "<Figure size 432x288 with 1 Axes>"
      ]
     },
     "metadata": {
      "needs_background": "light"
     },
     "output_type": "display_data"
    }
   ],
   "source": [
    "import matplotlib.pyplot as plt\n",
    "plt.figure()\n",
    "\n",
    "a2 = poly_model2.coef_\n",
    "b2 = poly_model2.intercept_\n",
    "\n",
    "a3 = poly_model3.coef_\n",
    "b3 = poly_model3.intercept_\n",
    "\n",
    "predictions2 = a2 @ x_poly2.T + b2\n",
    "predictions3 = a3 @ x_poly3.T + b3\n",
    "\n",
    "plt.scatter(x_values, y_values, lw=5, label=\"data\")\n",
    "plt.scatter(x_values, predictions2.reshape(20,1), color='red', label=\"Poly2 Reg model\")\n",
    "plt.scatter(x_values, predictions3.reshape(20,1), color='green', label=\"Poly3 Reg model\")\n",
    "\n",
    "plt.legend()"
   ]
  },
  {
   "cell_type": "code",
   "execution_count": null,
   "metadata": {},
   "outputs": [],
   "source": []
  }
 ],
 "metadata": {
  "kernelspec": {
   "display_name": "Python 3",
   "language": "python",
   "name": "python3"
  },
  "language_info": {
   "codemirror_mode": {
    "name": "ipython",
    "version": 3
   },
   "file_extension": ".py",
   "mimetype": "text/x-python",
   "name": "python",
   "nbconvert_exporter": "python",
   "pygments_lexer": "ipython3",
   "version": "3.7.0"
  }
 },
 "nbformat": 4,
 "nbformat_minor": 2
}
