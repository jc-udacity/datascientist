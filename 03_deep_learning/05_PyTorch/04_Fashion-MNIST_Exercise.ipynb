{
 "cells": [
  {
   "cell_type": "markdown",
   "metadata": {},
   "source": [
    "# Classifying Fashion-MNIST\n",
    "\n",
    "Now it's your turn to build and train a neural network. You'll be using the [Fashion-MNIST dataset](https://github.com/zalandoresearch/fashion-mnist), a drop-in replacement for the MNIST dataset. MNIST is actually quite trivial with neural networks where you can easily achieve better than 97% accuracy. Fashion-MNIST is a set of 28x28 greyscale images of clothes. It's more complex than MNIST, so it's a better representation of the actual performance of your network, and a better representation of datasets you'll use in the real world.\n",
    "\n",
    "<img src='assets/fashion-mnist-sprite.png' width=500px>\n",
    "\n",
    "In this notebook, you'll build your own neural network. For the most part, you could just copy and paste the code from Part 3, but you wouldn't be learning. It's important for you to write the code yourself and get it to work. Feel free to consult the previous notebook though as you work through this.\n",
    "\n",
    "First off, let's load the dataset through torchvision."
   ]
  },
  {
   "cell_type": "code",
   "execution_count": 2,
   "metadata": {},
   "outputs": [
    {
     "name": "stdout",
     "output_type": "stream",
     "text": [
      "Downloading http://fashion-mnist.s3-website.eu-central-1.amazonaws.com/train-images-idx3-ubyte.gz\n",
      "Downloading http://fashion-mnist.s3-website.eu-central-1.amazonaws.com/train-labels-idx1-ubyte.gz\n",
      "Downloading http://fashion-mnist.s3-website.eu-central-1.amazonaws.com/t10k-images-idx3-ubyte.gz\n",
      "Downloading http://fashion-mnist.s3-website.eu-central-1.amazonaws.com/t10k-labels-idx1-ubyte.gz\n",
      "Processing...\n",
      "Done!\n"
     ]
    }
   ],
   "source": [
    "import torch\n",
    "from torchvision import datasets, transforms\n",
    "import helper\n",
    "\n",
    "# Define a transform to normalize the data\n",
    "transform = transforms.Compose([transforms.ToTensor(),\n",
    "                                transforms.Normalize((0.5, 0.5, 0.5), (0.5, 0.5, 0.5))])\n",
    "# Download and load the training data\n",
    "trainset = datasets.FashionMNIST('F_MNIST_data/', download=True, train=True, transform=transform)\n",
    "trainloader = torch.utils.data.DataLoader(trainset, batch_size=64, shuffle=True)\n",
    "\n",
    "# Download and load the test data\n",
    "testset = datasets.FashionMNIST('F_MNIST_data/', download=True, train=False, transform=transform)\n",
    "testloader = torch.utils.data.DataLoader(testset, batch_size=64, shuffle=True)"
   ]
  },
  {
   "cell_type": "markdown",
   "metadata": {},
   "source": [
    "Here we can see one of the images."
   ]
  },
  {
   "cell_type": "code",
   "execution_count": 20,
   "metadata": {},
   "outputs": [
    {
     "data": {
      "image/png": "[encoded data removed]",
      "text/plain": [
       "<Figure size 432x288 with 1 Axes>"
      ]
     },
     "metadata": {
      "image/png": {
       "height": 233,
       "width": 233
      },
      "needs_background": "light"
     },
     "output_type": "display_data"
    }
   ],
   "source": [
    "image, label = next(iter(trainloader))\n",
    "helper.imshow(image[0,:]);"
   ]
  },
  {
   "cell_type": "markdown",
   "metadata": {},
   "source": [
    "With the data loaded, it's time to import the necessary packages."
   ]
  },
  {
   "cell_type": "code",
   "execution_count": 12,
   "metadata": {},
   "outputs": [],
   "source": [
    "%matplotlib inline\n",
    "%config InlineBackend.figure_format = 'retina'\n",
    "\n",
    "import matplotlib.pyplot as plt\n",
    "import numpy as np\n",
    "import time\n",
    "\n",
    "import torch\n",
    "from torch import nn\n",
    "from torch import optim\n",
    "import torch.nn.functional as F\n",
    "from torchvision import datasets, transforms\n",
    "\n",
    "import helper"
   ]
  },
  {
   "cell_type": "markdown",
   "metadata": {},
   "source": [
    "## Building the network\n",
    "\n",
    "Here you should define your network. As with MNIST, each image is 28x28 which is a total of 784 pixels, and there are 10 classes. You should include at least one hidden layer. We suggest you use ReLU activations for the layers and to return the logits from the forward pass. It's up to you how many layers you add and the size of those layers."
   ]
  },
  {
   "cell_type": "code",
   "execution_count": 32,
   "metadata": {},
   "outputs": [],
   "source": [
    "# TODO: Define your network architecture here\n",
    "from collections import OrderedDict\n",
    "\n",
    "# need to define number of inputs, intermediate layers and output size\n",
    "input_size = 28*28\n",
    "hidden_layers = [64, 32]\n",
    "output_size = 10\n",
    "\n",
    "# suggested to use the ReLU activations\n",
    "model = nn.Sequential(OrderedDict([\n",
    "                      ('fc1', nn.Linear(input_size, hidden_layers[0])),\n",
    "                      ('relu1', nn.ReLU()),\n",
    "                      ('fc2', nn.Linear(hidden_layers[0], hidden_layers[1])),\n",
    "                      ('relu2', nn.ReLU()),\n",
    "                      ('logits', nn.Linear(hidden_layers[1], output_size))]))"
   ]
  },
  {
   "cell_type": "markdown",
   "metadata": {},
   "source": [
    "# Train the network\n",
    "\n",
    "Now you should create your network and train it. First you'll want to define [the criterion](http://pytorch.org/docs/master/nn.html#loss-functions) ( something like `nn.CrossEntropyLoss`) and [the optimizer](http://pytorch.org/docs/master/optim.html) (typically `optim.SGD` or `optim.Adam`).\n",
    "\n",
    "Then write the training code. Remember the training pass is a fairly straightforward process:\n",
    "\n",
    "* Make a forward pass through the network to get the logits \n",
    "* Use the logits to calculate the loss\n",
    "* Perform a backward pass through the network with `loss.backward()` to calculate the gradients\n",
    "* Take a step with the optimizer to update the weights\n",
    "\n",
    "By adjusting the hyperparameters (hidden units, learning rate, etc), you should be able to get the training loss below 0.4."
   ]
  },
  {
   "cell_type": "code",
   "execution_count": 33,
   "metadata": {},
   "outputs": [],
   "source": [
    "# TODO: Create the network, define the criterion and optimizer\n",
    "criterion = nn.CrossEntropyLoss()\n",
    "optimizer = optim.SGD(model.parameters(), lr=0.25)"
   ]
  },
  {
   "cell_type": "code",
   "execution_count": 34,
   "metadata": {},
   "outputs": [
    {
     "name": "stdout",
     "output_type": "stream",
     "text": [
      "Epoch: 1/3...  Loss: 1.5538\n",
      "Epoch: 1/3...  Loss: 0.9784\n",
      "Epoch: 1/3...  Loss: 0.7593\n",
      "Epoch: 1/3...  Loss: 0.7925\n",
      "Epoch: 1/3...  Loss: 0.6373\n",
      "Epoch: 1/3...  Loss: 0.6605\n",
      "Epoch: 1/3...  Loss: 0.5746\n",
      "Epoch: 1/3...  Loss: 0.5774\n",
      "Epoch: 1/3...  Loss: 0.5864\n",
      "Epoch: 1/3...  Loss: 0.5291\n",
      "Epoch: 1/3...  Loss: 0.5076\n",
      "Epoch: 1/3...  Loss: 0.5192\n",
      "Epoch: 1/3...  Loss: 0.5204\n",
      "Epoch: 1/3...  Loss: 0.4980\n",
      "Epoch: 1/3...  Loss: 0.5197\n",
      "Epoch: 1/3...  Loss: 0.5025\n",
      "Epoch: 1/3...  Loss: 0.4864\n",
      "Epoch: 1/3...  Loss: 0.5065\n",
      "Epoch: 1/3...  Loss: 0.4448\n",
      "Epoch: 1/3...  Loss: 0.4501\n",
      "Epoch: 1/3...  Loss: 0.4277\n",
      "Epoch: 1/3...  Loss: 0.4466\n",
      "Epoch: 1/3...  Loss: 0.5345\n",
      "Epoch: 2/3...  Loss: 0.2401\n",
      "Epoch: 2/3...  Loss: 0.4218\n",
      "Epoch: 2/3...  Loss: 0.4672\n",
      "Epoch: 2/3...  Loss: 0.4378\n",
      "Epoch: 2/3...  Loss: 0.4530\n",
      "Epoch: 2/3...  Loss: 0.4192\n",
      "Epoch: 2/3...  Loss: 0.4211\n",
      "Epoch: 2/3...  Loss: 0.4283\n",
      "Epoch: 2/3...  Loss: 0.4276\n",
      "Epoch: 2/3...  Loss: 0.4112\n",
      "Epoch: 2/3...  Loss: 0.3932\n",
      "Epoch: 2/3...  Loss: 0.4156\n",
      "Epoch: 2/3...  Loss: 0.4158\n",
      "Epoch: 2/3...  Loss: 0.4252\n",
      "Epoch: 2/3...  Loss: 0.4085\n",
      "Epoch: 2/3...  Loss: 0.4461\n",
      "Epoch: 2/3...  Loss: 0.4219\n",
      "Epoch: 2/3...  Loss: 0.3908\n",
      "Epoch: 2/3...  Loss: 0.3994\n",
      "Epoch: 2/3...  Loss: 0.4036\n",
      "Epoch: 2/3...  Loss: 0.3964\n",
      "Epoch: 2/3...  Loss: 0.4523\n",
      "Epoch: 2/3...  Loss: 0.3888\n",
      "Epoch: 3/3...  Loss: 0.0398\n",
      "Epoch: 3/3...  Loss: 0.3675\n",
      "Epoch: 3/3...  Loss: 0.3965\n",
      "Epoch: 3/3...  Loss: 0.3763\n",
      "Epoch: 3/3...  Loss: 0.3698\n",
      "Epoch: 3/3...  Loss: 0.3708\n",
      "Epoch: 3/3...  Loss: 0.4042\n",
      "Epoch: 3/3...  Loss: 0.3694\n",
      "Epoch: 3/3...  Loss: 0.3783\n",
      "Epoch: 3/3...  Loss: 0.4043\n",
      "Epoch: 3/3...  Loss: 0.3879\n",
      "Epoch: 3/3...  Loss: 0.3632\n",
      "Epoch: 3/3...  Loss: 0.3674\n",
      "Epoch: 3/3...  Loss: 0.3663\n",
      "Epoch: 3/3...  Loss: 0.3726\n",
      "Epoch: 3/3...  Loss: 0.3599\n",
      "Epoch: 3/3...  Loss: 0.3720\n",
      "Epoch: 3/3...  Loss: 0.3540\n",
      "Epoch: 3/3...  Loss: 0.3823\n",
      "Epoch: 3/3...  Loss: 0.3623\n",
      "Epoch: 3/3...  Loss: 0.3699\n",
      "Epoch: 3/3...  Loss: 0.3521\n",
      "Epoch: 3/3...  Loss: 0.3888\n",
      "Epoch: 3/3...  Loss: 0.3794\n"
     ]
    }
   ],
   "source": [
    "# TODO: Train the network here\n",
    "epochs = 3\n",
    "print_every = 40\n",
    "steps = 0\n",
    "for e in range(epochs):\n",
    "    running_loss = 0\n",
    "    for images, labels in iter(trainloader):\n",
    "        steps += 1\n",
    "        \n",
    "        images.resize_(images.size()[0], 784)\n",
    "        \n",
    "        optimizer.zero_grad()\n",
    "        \n",
    "        # Forward and backward passes\n",
    "        output = model.forward(images)\n",
    "        loss = criterion(output, labels)\n",
    "        loss.backward()\n",
    "        optimizer.step()\n",
    "        \n",
    "        running_loss += loss.item()\n",
    "        \n",
    "        if steps % print_every == 0:\n",
    "            print(\"Epoch: {}/{}... \".format(e+1, epochs),\n",
    "                  \"Loss: {:.4f}\".format(running_loss/print_every))\n",
    "            \n",
    "            running_loss = 0"
   ]
  },
  {
   "cell_type": "code",
   "execution_count": 59,
   "metadata": {},
   "outputs": [
    {
     "data": {
      "image/png": "[encoded data removed]",
      "text/plain": [
       "<Figure size 432x648 with 2 Axes>"
      ]
     },
     "metadata": {
      "image/png": {
       "height": 206,
       "width": 423
      },
      "needs_background": "light"
     },
     "output_type": "display_data"
    }
   ],
   "source": [
    "# Test out your network!\n",
    "\n",
    "dataiter = iter(testloader)\n",
    "images, labels = dataiter.next()\n",
    "img = images[0]\n",
    "# Convert 2D image to 1D vector\n",
    "img = img.resize_(1, 784)\n",
    "\n",
    "# TODO: Calculate the class probabilities (softmax) for img\n",
    "ps = F.softmax(model.forward(img), dim=1)\n",
    "\n",
    "# Plot the image and probabilities\n",
    "helper.view_classify(img.resize_(1, 28, 28), ps, version='Fashion')"
   ]
  },
  {
   "cell_type": "markdown",
   "metadata": {},
   "source": [
    "Now that your network is trained, you'll want to save it to disk so you can load it later instead of training it again. Obviously, it's impractical to train a network every time you need one. In practice, you'll train it once, save the model, then reload it for further training or making predictions. In the next part, I'll show you how to save and load trained models."
   ]
  },
  {
   "cell_type": "code",
   "execution_count": null,
   "metadata": {},
   "outputs": [],
   "source": []
  }
 ],
 "metadata": {
  "kernelspec": {
   "display_name": "Python 3",
   "language": "python",
   "name": "python3"
  },
  "language_info": {
   "codemirror_mode": {
    "name": "ipython",
    "version": 3
   },
   "file_extension": ".py",
   "mimetype": "text/x-python",
   "name": "python",
   "nbconvert_exporter": "python",
   "pygments_lexer": "ipython3",
   "version": "3.6.8"
  }
 },
 "nbformat": 4,
 "nbformat_minor": 2
}
