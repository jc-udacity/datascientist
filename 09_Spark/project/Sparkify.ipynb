{
 "cells": [
  {
   "cell_type": "markdown",
   "metadata": {},
   "source": [
    "# Sparkify Project Workspace\n",
    "This workspace contains a tiny subset (128MB) of the full dataset available (12GB). Feel free to use this workspace to build your project, or to explore a smaller subset with Spark before deploying your cluster on the cloud. Instructions for setting up your Spark cluster is included in the last lesson of the Extracurricular Spark Course content.\n",
    "\n",
    "You can follow the steps below to guide your data analysis and model building portion of this project."
   ]
  },
  {
   "cell_type": "code",
   "execution_count": 1,
   "metadata": {},
   "outputs": [
    {
     "name": "stdout",
     "output_type": "stream",
     "text": [
      "Python 3.6.3\r\n"
     ]
    }
   ],
   "source": [
    "! python --version"
   ]
  },
  {
   "cell_type": "code",
   "execution_count": 2,
   "metadata": {},
   "outputs": [],
   "source": [
    "# import libraries\n",
    "from pyspark.sql import SparkSession\n",
    "from pyspark.sql.functions import udf\n",
    "from pyspark.sql.types import StringType, IntegerType\n"
   ]
  },
  {
   "cell_type": "code",
   "execution_count": 3,
   "metadata": {},
   "outputs": [],
   "source": [
    "# create a Spark session\n",
    "spark = SparkSession.builder \\\n",
    "    .master(\"local\") \\\n",
    "    .appName(\"Sparkify\") \\\n",
    "    .getOrCreate()"
   ]
  },
  {
   "cell_type": "code",
   "execution_count": 4,
   "metadata": {},
   "outputs": [
    {
     "data": {
      "text/plain": [
       "[('spark.master', 'local'),\n",
       " ('spark.app.id', 'local-1571844451087'),\n",
       " ('spark.rdd.compress', 'True'),\n",
       " ('spark.app.name', 'Sparkify'),\n",
       " ('spark.serializer.objectStreamReset', '100'),\n",
       " ('spark.executor.id', 'driver'),\n",
       " ('spark.submit.deployMode', 'client'),\n",
       " ('spark.driver.port', '43225'),\n",
       " ('spark.driver.host', '4a13605e1578'),\n",
       " ('spark.ui.showConsoleProgress', 'true')]"
      ]
     },
     "execution_count": 4,
     "metadata": {},
     "output_type": "execute_result"
    }
   ],
   "source": [
    "spark.sparkContext.getConf().getAll()"
   ]
  },
  {
   "cell_type": "markdown",
   "metadata": {},
   "source": [
    "# Load and Clean Dataset\n",
    "In this workspace, the mini-dataset file is `mini_sparkify_event_data.json`. Load and clean the dataset, checking for invalid or missing data - for example, records without userids or sessionids. "
   ]
  },
  {
   "cell_type": "code",
   "execution_count": 5,
   "metadata": {},
   "outputs": [
    {
     "data": {
      "text/plain": [
       "DataFrame[artist: string, auth: string, firstName: string, gender: string, itemInSession: bigint, lastName: string, length: double, level: string, location: string, method: string, page: string, registration: bigint, sessionId: bigint, song: string, status: bigint, ts: bigint, userAgent: string, userId: string]"
      ]
     },
     "execution_count": 5,
     "metadata": {},
     "output_type": "execute_result"
    }
   ],
   "source": [
    "sparkify_data_file = \"./mini_sparkify_event_data.json\"\n",
    "event_data = spark.read.json(sparkify_data_file)\n",
    "event_data.persist()"
   ]
  },
  {
   "cell_type": "code",
   "execution_count": 6,
   "metadata": {},
   "outputs": [
    {
     "data": {
      "text/plain": [
       "Row(artist='Martha Tilston', auth='Logged In', firstName='Colin', gender='M', itemInSession=50, lastName='Freeman', length=277.89016, level='paid', location='Bakersfield, CA', method='PUT', page='NextSong', registration=1538173362000, sessionId=29, song='Rockpools', status=200, ts=1538352117000, userAgent='Mozilla/5.0 (Windows NT 6.1; WOW64; rv:31.0) Gecko/20100101 Firefox/31.0', userId='30')"
      ]
     },
     "execution_count": 6,
     "metadata": {},
     "output_type": "execute_result"
    }
   ],
   "source": [
    "event_data.head()"
   ]
  },
  {
   "cell_type": "code",
   "execution_count": 7,
   "metadata": {},
   "outputs": [
    {
     "name": "stdout",
     "output_type": "stream",
     "text": [
      "root\n",
      " |-- artist: string (nullable = true)\n",
      " |-- auth: string (nullable = true)\n",
      " |-- firstName: string (nullable = true)\n",
      " |-- gender: string (nullable = true)\n",
      " |-- itemInSession: long (nullable = true)\n",
      " |-- lastName: string (nullable = true)\n",
      " |-- length: double (nullable = true)\n",
      " |-- level: string (nullable = true)\n",
      " |-- location: string (nullable = true)\n",
      " |-- method: string (nullable = true)\n",
      " |-- page: string (nullable = true)\n",
      " |-- registration: long (nullable = true)\n",
      " |-- sessionId: long (nullable = true)\n",
      " |-- song: string (nullable = true)\n",
      " |-- status: long (nullable = true)\n",
      " |-- ts: long (nullable = true)\n",
      " |-- userAgent: string (nullable = true)\n",
      " |-- userId: string (nullable = true)\n",
      "\n"
     ]
    }
   ],
   "source": [
    "event_data.printSchema()"
   ]
  },
  {
   "cell_type": "code",
   "execution_count": 8,
   "metadata": {},
   "outputs": [
    {
     "name": "stdout",
     "output_type": "stream",
     "text": [
      "+------+\n",
      "|userId|\n",
      "+------+\n",
      "|      |\n",
      "|    10|\n",
      "|   100|\n",
      "|100001|\n",
      "|100002|\n",
      "|100003|\n",
      "|100004|\n",
      "|100005|\n",
      "|100006|\n",
      "|100007|\n",
      "|100008|\n",
      "|100009|\n",
      "|100010|\n",
      "|100011|\n",
      "|100012|\n",
      "|100013|\n",
      "|100014|\n",
      "|100015|\n",
      "|100016|\n",
      "|100017|\n",
      "+------+\n",
      "only showing top 20 rows\n",
      "\n"
     ]
    }
   ],
   "source": [
    "event_data.select(\"userId\").dropDuplicates().sort(\"userId\").show()"
   ]
  },
  {
   "cell_type": "code",
   "execution_count": 9,
   "metadata": {},
   "outputs": [
    {
     "name": "stdout",
     "output_type": "stream",
     "text": [
      "+---------+\n",
      "|sessionID|\n",
      "+---------+\n",
      "|        1|\n",
      "|        2|\n",
      "|        3|\n",
      "|        4|\n",
      "|        5|\n",
      "|        6|\n",
      "|        7|\n",
      "|        8|\n",
      "|        9|\n",
      "|       10|\n",
      "|       11|\n",
      "|       12|\n",
      "|       13|\n",
      "|       15|\n",
      "|       16|\n",
      "|       17|\n",
      "|       18|\n",
      "|       19|\n",
      "|       20|\n",
      "|       21|\n",
      "+---------+\n",
      "only showing top 20 rows\n",
      "\n"
     ]
    }
   ],
   "source": [
    "event_data.select(\"sessionID\").dropDuplicates().sort(\"sessionID\").show()"
   ]
  },
  {
   "cell_type": "code",
   "execution_count": 10,
   "metadata": {},
   "outputs": [
    {
     "data": {
      "text/plain": [
       "8346"
      ]
     },
     "execution_count": 10,
     "metadata": {},
     "output_type": "execute_result"
    }
   ],
   "source": [
    "event_data.filter(event_data[\"userId\"] == \"\").count()"
   ]
  },
  {
   "cell_type": "code",
   "execution_count": 11,
   "metadata": {},
   "outputs": [
    {
     "data": {
      "text/plain": [
       "0"
      ]
     },
     "execution_count": 11,
     "metadata": {},
     "output_type": "execute_result"
    }
   ],
   "source": [
    "event_data.filter(event_data[\"sessionId\"] == \"\").count()"
   ]
  },
  {
   "cell_type": "code",
   "execution_count": 12,
   "metadata": {},
   "outputs": [],
   "source": [
    "user_log_valid = event_data.dropna(how = \"any\", subset = [\"userId\", \"sessionId\"])"
   ]
  },
  {
   "cell_type": "code",
   "execution_count": 13,
   "metadata": {},
   "outputs": [
    {
     "data": {
      "text/plain": [
       "286500"
      ]
     },
     "execution_count": 13,
     "metadata": {},
     "output_type": "execute_result"
    }
   ],
   "source": [
    "user_log_valid.count()"
   ]
  },
  {
   "cell_type": "code",
   "execution_count": 14,
   "metadata": {},
   "outputs": [],
   "source": [
    "user_log_valid = user_log_valid.filter(user_log_valid[\"userId\"] != \"\")"
   ]
  },
  {
   "cell_type": "code",
   "execution_count": 15,
   "metadata": {},
   "outputs": [
    {
     "data": {
      "text/plain": [
       "278154"
      ]
     },
     "execution_count": 15,
     "metadata": {},
     "output_type": "execute_result"
    }
   ],
   "source": [
    "user_log_valid.count()"
   ]
  },
  {
   "cell_type": "code",
   "execution_count": 16,
   "metadata": {},
   "outputs": [
    {
     "data": {
      "text/plain": [
       "8346"
      ]
     },
     "execution_count": 16,
     "metadata": {},
     "output_type": "execute_result"
    }
   ],
   "source": [
    "286500-278154"
   ]
  },
  {
   "cell_type": "code",
   "execution_count": null,
   "metadata": {},
   "outputs": [],
   "source": []
  },
  {
   "cell_type": "code",
   "execution_count": null,
   "metadata": {},
   "outputs": [],
   "source": []
  },
  {
   "cell_type": "code",
   "execution_count": null,
   "metadata": {},
   "outputs": [],
   "source": []
  },
  {
   "cell_type": "code",
   "execution_count": null,
   "metadata": {},
   "outputs": [],
   "source": []
  },
  {
   "cell_type": "markdown",
   "metadata": {},
   "source": [
    "# Exploratory Data Analysis\n",
    "When you're working with the full dataset, perform EDA by loading a small subset of the data and doing basic manipulations within Spark. In this workspace, you are already provided a small subset of data you can explore.\n",
    "\n",
    "### Define Churn\n",
    "\n",
    "Once you've done some preliminary analysis, create a column `Churn` to use as the label for your model. I suggest using the `Cancellation Confirmation` events to define your churn, which happen for both paid and free users. As a bonus task, you can also look into the `Downgrade` events.\n",
    "\n",
    "### Explore Data\n",
    "Once you've defined churn, perform some exploratory data analysis to observe the behavior for users who stayed vs users who churned. You can start by exploring aggregates on these two groups of users, observing how much of a specific action they experienced per a certain time unit or number of songs played."
   ]
  },
  {
   "cell_type": "code",
   "execution_count": 17,
   "metadata": {},
   "outputs": [],
   "source": [
    "# define churn looking at 'cancellation confirmation' event\n"
   ]
  },
  {
   "cell_type": "code",
   "execution_count": 18,
   "metadata": {},
   "outputs": [
    {
     "data": {
      "text/plain": [
       "[Row(page='Cancel'),\n",
       " Row(page='Submit Downgrade'),\n",
       " Row(page='Thumbs Down'),\n",
       " Row(page='Home'),\n",
       " Row(page='Downgrade'),\n",
       " Row(page='Roll Advert'),\n",
       " Row(page='Logout'),\n",
       " Row(page='Save Settings'),\n",
       " Row(page='Cancellation Confirmation'),\n",
       " Row(page='About'),\n",
       " Row(page='Settings'),\n",
       " Row(page='Add to Playlist'),\n",
       " Row(page='Add Friend'),\n",
       " Row(page='NextSong'),\n",
       " Row(page='Thumbs Up'),\n",
       " Row(page='Help'),\n",
       " Row(page='Upgrade'),\n",
       " Row(page='Error'),\n",
       " Row(page='Submit Upgrade')]"
      ]
     },
     "execution_count": 18,
     "metadata": {},
     "output_type": "execute_result"
    }
   ],
   "source": [
    "user_log_valid.select(\"page\").dropDuplicates().collect()"
   ]
  },
  {
   "cell_type": "code",
   "execution_count": 19,
   "metadata": {},
   "outputs": [
    {
     "data": {
      "text/plain": [
       "[Row(userId='18', sessionId=514, firstname='Adriel', page='Cancellation Confirmation', song=None),\n",
       " Row(userId='32', sessionId=540, firstname='Diego', page='Cancellation Confirmation', song=None),\n",
       " Row(userId='125', sessionId=174, firstname='Mason', page='Cancellation Confirmation', song=None),\n",
       " Row(userId='105', sessionId=508, firstname='Alexander', page='Cancellation Confirmation', song=None),\n",
       " Row(userId='17', sessionId=797, firstname='Kayla', page='Cancellation Confirmation', song=None),\n",
       " Row(userId='143', sessionId=843, firstname='Molly', page='Cancellation Confirmation', song=None),\n",
       " Row(userId='101', sessionId=842, firstname='Alex', page='Cancellation Confirmation', song=None),\n",
       " Row(userId='129', sessionId=802, firstname='Davis', page='Cancellation Confirmation', song=None),\n",
       " Row(userId='121', sessionId=881, firstname='Nikolas', page='Cancellation Confirmation', song=None),\n",
       " Row(userId='51', sessionId=934, firstname='Ethan', page='Cancellation Confirmation', song=None),\n",
       " Row(userId='87', sessionId=1092, firstname='Christian', page='Cancellation Confirmation', song=None),\n",
       " Row(userId='122', sessionId=1029, firstname='Molly', page='Cancellation Confirmation', song=None),\n",
       " Row(userId='12', sessionId=1072, firstname='Sophia', page='Cancellation Confirmation', song=None),\n",
       " Row(userId='58', sessionId=1112, firstname='Erick', page='Cancellation Confirmation', song=None),\n",
       " Row(userId='73', sessionId=1059, firstname='Rachel', page='Cancellation Confirmation', song=None),\n",
       " Row(userId='3', sessionId=1324, firstname='Jeffery', page='Cancellation Confirmation', song=None),\n",
       " Row(userId='106', sessionId=1383, firstname='Sophia', page='Cancellation Confirmation', song=None),\n",
       " Row(userId='103', sessionId=1583, firstname='Piper', page='Cancellation Confirmation', song=None),\n",
       " Row(userId='28', sessionId=1519, firstname='Teagan', page='Cancellation Confirmation', song=None),\n",
       " Row(userId='54', sessionId=1819, firstname='Alexi', page='Cancellation Confirmation', song=None),\n",
       " Row(userId='29', sessionId=1864, firstname='Kaleb', page='Cancellation Confirmation', song=None),\n",
       " Row(userId='70', sessionId=1940, firstname='Chayse', page='Cancellation Confirmation', song=None),\n",
       " Row(userId='53', sessionId=2003, firstname='Sebastian', page='Cancellation Confirmation', song=None),\n",
       " Row(userId='100011', sessionId=40, firstname='Sebastian', page='Cancellation Confirmation', song=None),\n",
       " Row(userId='100001', sessionId=53, firstname='Delaney', page='Cancellation Confirmation', song=None),\n",
       " Row(userId='100024', sessionId=42, firstname='Jonathon', page='Cancellation Confirmation', song=None),\n",
       " Row(userId='100006', sessionId=6, firstname='Leyla', page='Cancellation Confirmation', song=None),\n",
       " Row(userId='100019', sessionId=71, firstname='Angel', page='Cancellation Confirmation', song=None),\n",
       " Row(userId='100003', sessionId=86, firstname='Nevaeh', page='Cancellation Confirmation', song=None),\n",
       " Row(userId='100023', sessionId=109, firstname='Sawyer', page='Cancellation Confirmation', song=None),\n",
       " Row(userId='100005', sessionId=115, firstname='Cason', page='Cancellation Confirmation', song=None),\n",
       " Row(userId='100017', sessionId=17, firstname='James', page='Cancellation Confirmation', song=None),\n",
       " Row(userId='100025', sessionId=129, firstname='London', page='Cancellation Confirmation', song=None),\n",
       " Row(userId='100009', sessionId=145, firstname='Troy', page='Cancellation Confirmation', song=None),\n",
       " Row(userId='100012', sessionId=156, firstname='Daniel', page='Cancellation Confirmation', song=None),\n",
       " Row(userId='100013', sessionId=165, firstname='Cali', page='Cancellation Confirmation', song=None),\n",
       " Row(userId='100022', sessionId=191, firstname='Mahi', page='Cancellation Confirmation', song=None),\n",
       " Row(userId='100014', sessionId=185, firstname='Rodrigo', page='Cancellation Confirmation', song=None),\n",
       " Row(userId='100015', sessionId=188, firstname='Tina', page='Cancellation Confirmation', song=None),\n",
       " Row(userId='100021', sessionId=172, firstname='Rayden', page='Cancellation Confirmation', song=None),\n",
       " Row(userId='100007', sessionId=205, firstname='Piper', page='Cancellation Confirmation', song=None),\n",
       " Row(userId='200001', sessionId=136, firstname='Reece', page='Cancellation Confirmation', song=None),\n",
       " Row(userId='200024', sessionId=208, firstname='Isaiah', page='Cancellation Confirmation', song=None),\n",
       " Row(userId='200011', sessionId=267, firstname='Charles', page='Cancellation Confirmation', song=None),\n",
       " Row(userId='200021', sessionId=276, firstname='Liliana', page='Cancellation Confirmation', song=None),\n",
       " Row(userId='200018', sessionId=268, firstname='Saulo', page='Cancellation Confirmation', song=None),\n",
       " Row(userId='200015', sessionId=270, firstname='Connor', page='Cancellation Confirmation', song=None),\n",
       " Row(userId='200017', sessionId=301, firstname='James', page='Cancellation Confirmation', song=None),\n",
       " Row(userId='200016', sessionId=347, firstname='Charlotte', page='Cancellation Confirmation', song=None),\n",
       " Row(userId='200020', sessionId=351, firstname='Keegan', page='Cancellation Confirmation', song=None),\n",
       " Row(userId='300007', sessionId=44, firstname='Lucas', page='Cancellation Confirmation', song=None),\n",
       " Row(userId='300001', sessionId=397, firstname='Antonina', page='Cancellation Confirmation', song=None)]"
      ]
     },
     "execution_count": 19,
     "metadata": {},
     "output_type": "execute_result"
    }
   ],
   "source": [
    "user_log_valid \\\n",
    ".select([\"userId\", \"sessionId\", \"firstname\", \"page\", \"song\"]) \\\n",
    ".where(user_log_valid.page == \"Cancellation Confirmation\") \\\n",
    ".collect()"
   ]
  },
  {
   "cell_type": "code",
   "execution_count": 37,
   "metadata": {},
   "outputs": [
    {
     "data": {
      "text/plain": [
       "[Row(userId='131', sessionId=249, firstname='Kael', page='Submit Downgrade', song=None),\n",
       " Row(userId='38', sessionId=313, firstname='Calvin', page='Submit Downgrade', song=None),\n",
       " Row(userId='141', sessionId=479, firstname='Kaylenn', page='Submit Downgrade', song=None),\n",
       " Row(userId='30', sessionId=532, firstname='Colin', page='Submit Downgrade', song=None),\n",
       " Row(userId='20', sessionId=378, firstname='Destiny', page='Submit Downgrade', song=None),\n",
       " Row(userId='12', sessionId=632, firstname='Sophia', page='Submit Downgrade', song=None),\n",
       " Row(userId='11', sessionId=487, firstname='Zoe', page='Submit Downgrade', song=None),\n",
       " Row(userId='61', sessionId=529, firstname='Parker', page='Submit Downgrade', song=None),\n",
       " Row(userId='81', sessionId=725, firstname='Oliver', page='Submit Downgrade', song=None),\n",
       " Row(userId='85', sessionId=734, firstname='Brayden', page='Submit Downgrade', song=None),\n",
       " Row(userId='140', sessionId=753, firstname='Lucero', page='Submit Downgrade', song=None),\n",
       " Row(userId='35', sessionId=812, firstname='Lily', page='Submit Downgrade', song=None),\n",
       " Row(userId='54', sessionId=859, firstname='Alexi', page='Submit Downgrade', song=None),\n",
       " Row(userId='77', sessionId=688, firstname='Autumn', page='Submit Downgrade', song=None),\n",
       " Row(userId='59', sessionId=510, firstname='Jaleel', page='Submit Downgrade', song=None),\n",
       " Row(userId='103', sessionId=865, firstname='Piper', page='Submit Downgrade', song=None),\n",
       " Row(userId='95', sessionId=826, firstname='Faigy', page='Submit Downgrade', song=None),\n",
       " Row(userId='74', sessionId=1101, firstname='Ashlynn', page='Submit Downgrade', song=None),\n",
       " Row(userId='85', sessionId=1183, firstname='Brayden', page='Submit Downgrade', song=None),\n",
       " Row(userId='9', sessionId=1276, firstname='Micah', page='Submit Downgrade', song=None),\n",
       " Row(userId='24', sessionId=1317, firstname='Garrett', page='Submit Downgrade', song=None),\n",
       " Row(userId='39', sessionId=1546, firstname='Payton', page='Submit Downgrade', song=None),\n",
       " Row(userId='39', sessionId=1609, firstname='Payton', page='Submit Downgrade', song=None),\n",
       " Row(userId='100', sessionId=1590, firstname='Colin', page='Submit Downgrade', song=None),\n",
       " Row(userId='140', sessionId=1643, firstname='Lucero', page='Submit Downgrade', song=None),\n",
       " Row(userId='35', sessionId=1704, firstname='Lily', page='Submit Downgrade', song=None),\n",
       " Row(userId='13', sessionId=1695, firstname='Anika', page='Submit Downgrade', song=None),\n",
       " Row(userId='13', sessionId=1695, firstname='Anika', page='Submit Downgrade', song=None),\n",
       " Row(userId='96', sessionId=1689, firstname='Alexandria', page='Submit Downgrade', song=None),\n",
       " Row(userId='25', sessionId=1718, firstname='Madison', page='Submit Downgrade', song=None),\n",
       " Row(userId='109', sessionId=1705, firstname='Casey', page='Submit Downgrade', song=None),\n",
       " Row(userId='49', sessionId=1744, firstname='Christan', page='Submit Downgrade', song=None),\n",
       " Row(userId='20', sessionId=1875, firstname='Destiny', page='Submit Downgrade', song=None),\n",
       " Row(userId='140', sessionId=1918, firstname='Lucero', page='Submit Downgrade', song=None),\n",
       " Row(userId='39', sessionId=1985, firstname='Payton', page='Submit Downgrade', song=None),\n",
       " Row(userId='131', sessionId=2041, firstname='Kael', page='Submit Downgrade', song=None),\n",
       " Row(userId='92', sessionId=2125, firstname='Riley', page='Submit Downgrade', song=None),\n",
       " Row(userId='61', sessionId=2345, firstname='Parker', page='Submit Downgrade', song=None),\n",
       " Row(userId='100018', sessionId=67, firstname='Jayden', page='Submit Downgrade', song=None),\n",
       " Row(userId='100015', sessionId=121, firstname='Tina', page='Submit Downgrade', song=None),\n",
       " Row(userId='100004', sessionId=112, firstname='Emily', page='Submit Downgrade', song=None),\n",
       " Row(userId='100025', sessionId=123, firstname='London', page='Submit Downgrade', song=None),\n",
       " Row(userId='100012', sessionId=94, firstname='Daniel', page='Submit Downgrade', song=None),\n",
       " Row(userId='100009', sessionId=126, firstname='Troy', page='Submit Downgrade', song=None),\n",
       " Row(userId='100004', sessionId=147, firstname='Emily', page='Submit Downgrade', song=None),\n",
       " Row(userId='100008', sessionId=132, firstname='Bryanna', page='Submit Downgrade', song=None),\n",
       " Row(userId='100016', sessionId=190, firstname='Landon', page='Submit Downgrade', song=None),\n",
       " Row(userId='100018', sessionId=202, firstname='Jayden', page='Submit Downgrade', song=None),\n",
       " Row(userId='200003', sessionId=28, firstname='Zoey', page='Submit Downgrade', song=None),\n",
       " Row(userId='200023', sessionId=69, firstname='Katiana', page='Submit Downgrade', song=None),\n",
       " Row(userId='200025', sessionId=115, firstname='Elias', page='Submit Downgrade', song=None),\n",
       " Row(userId='200019', sessionId=148, firstname='Conley', page='Submit Downgrade', song=None),\n",
       " Row(userId='200020', sessionId=222, firstname='Keegan', page='Submit Downgrade', song=None),\n",
       " Row(userId='200009', sessionId=251, firstname='Benjamin', page='Submit Downgrade', song=None),\n",
       " Row(userId='200011', sessionId=238, firstname='Charles', page='Submit Downgrade', song=None),\n",
       " Row(userId='200003', sessionId=283, firstname='Zoey', page='Submit Downgrade', song=None),\n",
       " Row(userId='200023', sessionId=295, firstname='Katiana', page='Submit Downgrade', song=None),\n",
       " Row(userId='300015', sessionId=69, firstname='Joshua', page='Submit Downgrade', song=None),\n",
       " Row(userId='300021', sessionId=144, firstname='Emma', page='Submit Downgrade', song=None),\n",
       " Row(userId='300002', sessionId=220, firstname='Lindyn', page='Submit Downgrade', song=None),\n",
       " Row(userId='300011', sessionId=362, firstname='Emilia', page='Submit Downgrade', song=None),\n",
       " Row(userId='300004', sessionId=267, firstname='Peyton', page='Submit Downgrade', song=None),\n",
       " Row(userId='300023', sessionId=459, firstname='Chloe', page='Submit Downgrade', song=None)]"
      ]
     },
     "execution_count": 37,
     "metadata": {},
     "output_type": "execute_result"
    }
   ],
   "source": [
    "user_log_valid \\\n",
    ".select([\"userId\", \"sessionId\", \"firstname\", \"page\", \"song\"]) \\\n",
    ".where(user_log_valid.page == \"Submit Downgrade\") \\\n",
    ".collect()"
   ]
  },
  {
   "cell_type": "code",
   "execution_count": 26,
   "metadata": {},
   "outputs": [],
   "source": [
    "flag_downgrade_event = udf(lambda x: 1 if x == \"Submit Downgrade\" else 0, IntegerType())\n",
    "flag_cancellation_event = udf(lambda x: 1 if x == \"Cancellation Confirmation\" else 0, IntegerType())"
   ]
  },
  {
   "cell_type": "code",
   "execution_count": 27,
   "metadata": {},
   "outputs": [],
   "source": [
    "user_log_valid = user_log_valid.withColumn(\"downgrade\", flag_downgrade_event(\"page\"))\n",
    "user_log_valid = user_log_valid.withColumn(\"churn\", flag_cancellation_event(\"page\"))"
   ]
  },
  {
   "cell_type": "code",
   "execution_count": 28,
   "metadata": {},
   "outputs": [
    {
     "data": {
      "text/plain": [
       "[Row(artist='Martha Tilston', auth='Logged In', firstName='Colin', gender='M', itemInSession=50, lastName='Freeman', length=277.89016, level='paid', location='Bakersfield, CA', method='PUT', page='NextSong', registration=1538173362000, sessionId=29, song='Rockpools', status=200, ts=1538352117000, userAgent='Mozilla/5.0 (Windows NT 6.1; WOW64; rv:31.0) Gecko/20100101 Firefox/31.0', userId='30', churn=0, downgrade=0)]"
      ]
     },
     "execution_count": 28,
     "metadata": {},
     "output_type": "execute_result"
    }
   ],
   "source": [
    "user_log_valid.head(1)"
   ]
  },
  {
   "cell_type": "code",
   "execution_count": 33,
   "metadata": {},
   "outputs": [
    {
     "data": {
      "text/plain": [
       "[Row(userId='18', ts=1538943990000, page='Cancellation Confirmation', level='paid', churn=1, downgrade=0)]"
      ]
     },
     "execution_count": 33,
     "metadata": {},
     "output_type": "execute_result"
    }
   ],
   "source": [
    "user_log_valid \\\n",
    ".select([\"userId\", \"ts\", \"page\", \"level\", \"churn\", \"downgrade\"]) \\\n",
    ".filter(user_log_valid.userId == \"18\").filter(user_log_valid.churn == \"1\") \\\n",
    ".sort(\"ts\") \\\n",
    ".collect()"
   ]
  },
  {
   "cell_type": "code",
   "execution_count": 41,
   "metadata": {},
   "outputs": [
    {
     "name": "stdout",
     "output_type": "stream",
     "text": [
      "+------+-------------+----------------+-----+-----+---------+\n",
      "|userId|ts           |page            |level|churn|downgrade|\n",
      "+------+-------------+----------------+-----+-----+---------+\n",
      "|131   |1538393619000|Submit Downgrade|paid |0    |1        |\n",
      "|38    |1538516445000|Submit Downgrade|paid |0    |1        |\n",
      "|200003|1538744281000|Submit Downgrade|paid |0    |1        |\n",
      "|200023|1538753821000|Submit Downgrade|paid |0    |1        |\n",
      "|141   |1538835479000|Submit Downgrade|paid |0    |1        |\n",
      "|30    |1538995454000|Submit Downgrade|paid |0    |1        |\n",
      "|20    |1538997356000|Submit Downgrade|paid |0    |1        |\n",
      "|300015|1539027805000|Submit Downgrade|paid |0    |1        |\n",
      "|100018|1539106390000|Submit Downgrade|paid |0    |1        |\n",
      "|12    |1539144047000|Submit Downgrade|paid |0    |1        |\n",
      "|11    |1539239742000|Submit Downgrade|paid |0    |1        |\n",
      "|61    |1539244188000|Submit Downgrade|paid |0    |1        |\n",
      "|81    |1539264337000|Submit Downgrade|paid |0    |1        |\n",
      "|200025|1539330539000|Submit Downgrade|paid |0    |1        |\n",
      "|85    |1539335599000|Submit Downgrade|paid |0    |1        |\n",
      "|140   |1539337383000|Submit Downgrade|paid |0    |1        |\n",
      "|35    |1539467798000|Submit Downgrade|paid |0    |1        |\n",
      "|300021|1539515511000|Submit Downgrade|paid |0    |1        |\n",
      "|54    |1539608060000|Submit Downgrade|paid |0    |1        |\n",
      "|77    |1539608338000|Submit Downgrade|paid |0    |1        |\n",
      "|59    |1539633167000|Submit Downgrade|paid |0    |1        |\n",
      "|103   |1539647785000|Submit Downgrade|paid |0    |1        |\n",
      "|95    |1539675894000|Submit Downgrade|paid |0    |1        |\n",
      "|100015|1539834859000|Submit Downgrade|paid |0    |1        |\n",
      "|100004|1539868732000|Submit Downgrade|paid |0    |1        |\n",
      "|100025|1539968728000|Submit Downgrade|paid |0    |1        |\n",
      "|100012|1539975063000|Submit Downgrade|paid |0    |1        |\n",
      "|100009|1540126703000|Submit Downgrade|paid |0    |1        |\n",
      "|74    |1540235073000|Submit Downgrade|paid |0    |1        |\n",
      "|300002|1540236417000|Submit Downgrade|paid |0    |1        |\n",
      "|85    |1540383285000|Submit Downgrade|paid |0    |1        |\n",
      "|200019|1540471188000|Submit Downgrade|paid |0    |1        |\n",
      "|200020|1540567296000|Submit Downgrade|paid |0    |1        |\n",
      "|9     |1540706007000|Submit Downgrade|paid |0    |1        |\n",
      "|24    |1540738746000|Submit Downgrade|paid |0    |1        |\n",
      "|200009|1540873341000|Submit Downgrade|paid |0    |1        |\n",
      "|100004|1540975222000|Submit Downgrade|paid |0    |1        |\n",
      "|200011|1541006360000|Submit Downgrade|paid |0    |1        |\n",
      "|39    |1541255372000|Submit Downgrade|paid |0    |1        |\n",
      "|39    |1541357937000|Submit Downgrade|paid |0    |1        |\n",
      "|100   |1541367880000|Submit Downgrade|paid |0    |1        |\n",
      "|200003|1541511869000|Submit Downgrade|paid |0    |1        |\n",
      "|140   |1541523845000|Submit Downgrade|paid |0    |1        |\n",
      "|200023|1541541339000|Submit Downgrade|paid |0    |1        |\n",
      "|35    |1541619996000|Submit Downgrade|paid |0    |1        |\n",
      "|13    |1541654303000|Submit Downgrade|paid |0    |1        |\n",
      "|13    |1541663041000|Submit Downgrade|paid |0    |1        |\n",
      "|96    |1541722970000|Submit Downgrade|paid |0    |1        |\n",
      "|25    |1541736251000|Submit Downgrade|paid |0    |1        |\n",
      "|109   |1542044488000|Submit Downgrade|paid |0    |1        |\n",
      "|49    |1542091077000|Submit Downgrade|paid |0    |1        |\n",
      "|300011|1542193612000|Submit Downgrade|paid |0    |1        |\n",
      "|300004|1542224966000|Submit Downgrade|paid |0    |1        |\n",
      "|20    |1542235795000|Submit Downgrade|paid |0    |1        |\n",
      "|140   |1542290890000|Submit Downgrade|paid |0    |1        |\n",
      "|39    |1542419388000|Submit Downgrade|paid |0    |1        |\n",
      "|131   |1542671497000|Submit Downgrade|paid |0    |1        |\n",
      "|100008|1542748901000|Submit Downgrade|paid |0    |1        |\n",
      "|92    |1542789622000|Submit Downgrade|paid |0    |1        |\n",
      "|100016|1542989412000|Submit Downgrade|paid |0    |1        |\n",
      "|100018|1543249878000|Submit Downgrade|paid |0    |1        |\n",
      "|300023|1543354844000|Submit Downgrade|paid |0    |1        |\n",
      "|61    |1543427572000|Submit Downgrade|paid |0    |1        |\n",
      "+------+-------------+----------------+-----+-----+---------+\n",
      "\n"
     ]
    }
   ],
   "source": [
    "user_log_valid \\\n",
    ".select([\"userId\", \"ts\", \"page\", \"level\", \"churn\", \"downgrade\"]) \\\n",
    ".filter(user_log_valid.downgrade == \"1\") \\\n",
    ".sort(\"ts\") \\\n",
    ".show(user_log_valid.count(),False)"
   ]
  },
  {
   "cell_type": "code",
   "execution_count": null,
   "metadata": {},
   "outputs": [],
   "source": [
    "# find the users who have churn and downgraded\n"
   ]
  },
  {
   "cell_type": "code",
   "execution_count": 42,
   "metadata": {},
   "outputs": [
    {
     "name": "stdout",
     "output_type": "stream",
     "text": [
      "+------+----------------+---------+--------+-------------+---------+\n",
      "|userID|page            |firstName|lastName|ts           |auth     |\n",
      "+------+----------------+---------+--------+-------------+---------+\n",
      "|131   |Submit Downgrade|Kael     |Baker   |1538393619000|Logged In|\n",
      "|38    |Submit Downgrade|Calvin   |Marshall|1538516445000|Logged In|\n",
      "|141   |Submit Downgrade|Kaylenn  |Jenkins |1538835479000|Logged In|\n",
      "|30    |Submit Downgrade|Colin    |Freeman |1538995454000|Logged In|\n",
      "|20    |Submit Downgrade|Destiny  |Herring |1538997356000|Logged In|\n",
      "+------+----------------+---------+--------+-------------+---------+\n",
      "only showing top 5 rows\n",
      "\n"
     ]
    }
   ],
   "source": [
    "downgrade_logs = user_log_valid.filter(user_log_valid.downgrade == \"1\")\n",
    "downgrade_logs.select(['userID','page', 'firstName', 'lastName','ts', 'auth']).show(5, False)"
   ]
  },
  {
   "cell_type": "code",
   "execution_count": 46,
   "metadata": {},
   "outputs": [
    {
     "name": "stdout",
     "output_type": "stream",
     "text": [
      "+------+-------------------------+---------+--------+-------------+---------+\n",
      "|userID|page                     |firstName|lastName|ts           |auth     |\n",
      "+------+-------------------------+---------+--------+-------------+---------+\n",
      "|18    |Cancellation Confirmation|Adriel   |Mendoza |1538943990000|Cancelled|\n",
      "|32    |Cancellation Confirmation|Diego    |Mckee   |1539033046000|Cancelled|\n",
      "|125   |Cancellation Confirmation|Mason    |Hart    |1539318918000|Cancelled|\n",
      "|105   |Cancellation Confirmation|Alexander|Garcia  |1539375441000|Cancelled|\n",
      "|17    |Cancellation Confirmation|Kayla    |Johnson |1539465584000|Cancelled|\n",
      "+------+-------------------------+---------+--------+-------------+---------+\n",
      "only showing top 5 rows\n",
      "\n"
     ]
    }
   ],
   "source": [
    "churn_logs = user_log_valid.filter(user_log_valid.churn == \"1\")\n",
    "churn_logs.select(['userID','page', 'firstName', 'lastName','ts', 'auth']).show(5, False)"
   ]
  },
  {
   "cell_type": "code",
   "execution_count": 62,
   "metadata": {},
   "outputs": [],
   "source": [
    "user_ids_who_churn = [user_ids['userID'] for user_ids in churn_logs.select('userID').distinct().collect()]"
   ]
  },
  {
   "cell_type": "code",
   "execution_count": 80,
   "metadata": {},
   "outputs": [],
   "source": [
    "user_ids_who_downgraded = [user_ids['userID'] for user_ids in downgrade_logs.select('userID').distinct().collect()]"
   ]
  },
  {
   "cell_type": "code",
   "execution_count": 63,
   "metadata": {},
   "outputs": [
    {
     "data": {
      "text/plain": [
       "52"
      ]
     },
     "execution_count": 63,
     "metadata": {},
     "output_type": "execute_result"
    }
   ],
   "source": [
    "len(user_ids_who_churn)"
   ]
  },
  {
   "cell_type": "code",
   "execution_count": 68,
   "metadata": {},
   "outputs": [
    {
     "data": {
      "text/plain": [
       "63"
      ]
     },
     "execution_count": 68,
     "metadata": {},
     "output_type": "execute_result"
    }
   ],
   "source": [
    "len(user_ids_who_downgraded)"
   ]
  },
  {
   "cell_type": "code",
   "execution_count": 82,
   "metadata": {},
   "outputs": [],
   "source": [
    "user_ids_who_did_both = [x for x in user_ids_who_churn if x in user_ids_who_downgraded]"
   ]
  },
  {
   "cell_type": "code",
   "execution_count": 83,
   "metadata": {},
   "outputs": [
    {
     "data": {
      "text/plain": [
       "['12', '103', '54', '100025', '100009', '100012', '100015', '200011', '200020']"
      ]
     },
     "execution_count": 83,
     "metadata": {},
     "output_type": "execute_result"
    }
   ],
   "source": [
    "user_ids_who_did_both"
   ]
  },
  {
   "cell_type": "code",
   "execution_count": null,
   "metadata": {},
   "outputs": [],
   "source": []
  },
  {
   "cell_type": "code",
   "execution_count": null,
   "metadata": {},
   "outputs": [],
   "source": []
  },
  {
   "cell_type": "code",
   "execution_count": null,
   "metadata": {},
   "outputs": [],
   "source": []
  },
  {
   "cell_type": "code",
   "execution_count": null,
   "metadata": {},
   "outputs": [],
   "source": []
  },
  {
   "cell_type": "code",
   "execution_count": null,
   "metadata": {},
   "outputs": [],
   "source": []
  },
  {
   "cell_type": "code",
   "execution_count": null,
   "metadata": {},
   "outputs": [],
   "source": []
  },
  {
   "cell_type": "markdown",
   "metadata": {},
   "source": [
    "# Feature Engineering\n",
    "Once you've familiarized yourself with the data, build out the features you find promising to train your model on. To work with the full dataset, you can follow the following steps.\n",
    "- Write a script to extract the necessary features from the smaller subset of data\n",
    "- Ensure that your script is scalable, using the best practices discussed in Lesson 3\n",
    "- Try your script on the full data set, debugging your script if necessary\n",
    "\n",
    "If you are working in the classroom workspace, you can just extract features based on the small subset of data contained here. Be sure to transfer over this work to the larger dataset when you work on your Spark cluster."
   ]
  },
  {
   "cell_type": "code",
   "execution_count": null,
   "metadata": {},
   "outputs": [],
   "source": []
  },
  {
   "cell_type": "markdown",
   "metadata": {},
   "source": [
    "# Modeling\n",
    "Split the full dataset into train, test, and validation sets. Test out several of the machine learning methods you learned. Evaluate the accuracy of the various models, tuning parameters as necessary. Determine your winning model based on test accuracy and report results on the validation set. Since the churned users are a fairly small subset, I suggest using F1 score as the metric to optimize."
   ]
  },
  {
   "cell_type": "code",
   "execution_count": null,
   "metadata": {},
   "outputs": [],
   "source": []
  },
  {
   "cell_type": "markdown",
   "metadata": {},
   "source": [
    "# Final Steps\n",
    "Clean up your code, adding comments and renaming variables to make the code easier to read and maintain. Refer to the Spark Project Overview page and Data Scientist Capstone Project Rubric to make sure you are including all components of the capstone project and meet all expectations. Remember, this includes thorough documentation in a README file in a Github repository, as well as a web app or blog post."
   ]
  },
  {
   "cell_type": "code",
   "execution_count": null,
   "metadata": {},
   "outputs": [],
   "source": []
  }
 ],
 "metadata": {
  "kernelspec": {
   "display_name": "Python 3",
   "language": "python",
   "name": "python3"
  },
  "language_info": {
   "codemirror_mode": {
    "name": "ipython",
    "version": 3
   },
   "file_extension": ".py",
   "mimetype": "text/x-python",
   "name": "python",
   "nbconvert_exporter": "python",
   "pygments_lexer": "ipython3",
   "version": "3.6.3"
  }
 },
 "nbformat": 4,
 "nbformat_minor": 2
}
