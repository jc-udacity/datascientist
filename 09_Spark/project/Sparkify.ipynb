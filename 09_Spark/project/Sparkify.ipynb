{
 "cells": [
  {
   "cell_type": "markdown",
   "metadata": {},
   "source": [
    "# Sparkify Project Workspace\n",
    "This workspace contains a tiny subset (128MB) of the full dataset available (12GB). Feel free to use this workspace to build your project, or to explore a smaller subset with Spark before deploying your cluster on the cloud. Instructions for setting up your Spark cluster is included in the last lesson of the Extracurricular Spark Course content.\n",
    "\n",
    "You can follow the steps below to guide your data analysis and model building portion of this project."
   ]
  },
  {
   "cell_type": "markdown",
   "metadata": {},
   "source": [
    "# Overview of the project\n",
    "This project aims to work on a data set coming from a fictive company offering music listening service. This company is called Sparkify. Users of that service can listen music from their devices and are offered to either a free service or a paid service. The data set we will use is a server log file containing details of each user session.\n",
    "Sparkify would like to understand who are the user who leave the service and recognize them based on their behaviour. For that purpose we will do the following:\n",
    "1. clean the data that are provided to us (server log file)\n",
    "2. explore those data to familiarize with what info are available to us and how churned user are represented in the overall user population\n",
    "3. build few machine learning algo that we will train to recognize who are the user who churn.\n",
    "\n",
    "In a final step we will conclude on this exercice, with a summary of our findings."
   ]
  },
  {
   "cell_type": "markdown",
   "metadata": {},
   "source": [
    "## let's start with the spark initialization + couple of imports"
   ]
  },
  {
   "cell_type": "code",
   "execution_count": 415,
   "metadata": {},
   "outputs": [
    {
     "name": "stdout",
     "output_type": "stream",
     "text": [
      "Python 3.6.3\r\n"
     ]
    }
   ],
   "source": [
    "! python --version"
   ]
  },
  {
   "cell_type": "code",
   "execution_count": 416,
   "metadata": {},
   "outputs": [],
   "source": [
    "# import libraries\n",
    "from pyspark.sql import SparkSession\n",
    "from pyspark.sql.functions import udf\n",
    "from pyspark.sql.types import StringType, IntegerType, FloatType\n",
    "from pyspark.sql import Window\n",
    "\n",
    "from pyspark.sql.functions import desc\n",
    "from pyspark.sql.functions import asc\n",
    "#from pyspark.sql.functions import sum as Fsum\n",
    "from pyspark.sql import functions as F\n",
    "\n",
    "import datetime\n",
    "import re\n",
    "import numpy as np\n",
    "import seaborn as sns\n",
    "import pandas as pd\n",
    "import matplotlib.pyplot as plt\n",
    "%matplotlib inline"
   ]
  },
  {
   "cell_type": "code",
   "execution_count": 417,
   "metadata": {},
   "outputs": [],
   "source": [
    "# create a Spark session\n",
    "spark = SparkSession.builder \\\n",
    "    .master(\"local\") \\\n",
    "    .appName(\"Sparkify\") \\\n",
    "    .getOrCreate()"
   ]
  },
  {
   "cell_type": "code",
   "execution_count": 418,
   "metadata": {},
   "outputs": [
    {
     "data": {
      "text/plain": [
       "[('spark.master', 'local'),\n",
       " ('spark.driver.host', '09f668244dcb'),\n",
       " ('spark.app.id', 'local-1572709878775'),\n",
       " ('spark.rdd.compress', 'True'),\n",
       " ('spark.app.name', 'Sparkify'),\n",
       " ('spark.serializer.objectStreamReset', '100'),\n",
       " ('spark.executor.id', 'driver'),\n",
       " ('spark.submit.deployMode', 'client'),\n",
       " ('spark.driver.port', '37875'),\n",
       " ('spark.ui.showConsoleProgress', 'true')]"
      ]
     },
     "execution_count": 418,
     "metadata": {},
     "output_type": "execute_result"
    }
   ],
   "source": [
    "spark.sparkContext.getConf().getAll()"
   ]
  },
  {
   "cell_type": "markdown",
   "metadata": {},
   "source": [
    "# Load and Clean Dataset\n",
    "In this workspace, the mini-dataset file is `mini_sparkify_event_data.json`. Load and clean the dataset, checking for invalid or missing data - for example, records without userids or sessionids. "
   ]
  },
  {
   "cell_type": "code",
   "execution_count": 419,
   "metadata": {},
   "outputs": [],
   "source": [
    "# load data from the json file\n",
    "sparkify_data_file = \"./mini_sparkify_event_data.json\"\n",
    "event_data = spark.read.json(sparkify_data_file)\n",
    "#event_data.persist()"
   ]
  },
  {
   "cell_type": "markdown",
   "metadata": {},
   "source": [
    "## Let's perform some basic exploration of the data set"
   ]
  },
  {
   "cell_type": "code",
   "execution_count": 420,
   "metadata": {},
   "outputs": [
    {
     "data": {
      "text/plain": [
       "Row(artist='Martha Tilston', auth='Logged In', firstName='Colin', gender='M', itemInSession=50, lastName='Freeman', length=277.89016, level='paid', location='Bakersfield, CA', method='PUT', page='NextSong', registration=1538173362000, sessionId=29, song='Rockpools', status=200, ts=1538352117000, userAgent='Mozilla/5.0 (Windows NT 6.1; WOW64; rv:31.0) Gecko/20100101 Firefox/31.0', userId='30')"
      ]
     },
     "execution_count": 420,
     "metadata": {},
     "output_type": "execute_result"
    }
   ],
   "source": [
    "event_data.head()"
   ]
  },
  {
   "cell_type": "code",
   "execution_count": 421,
   "metadata": {},
   "outputs": [
    {
     "name": "stdout",
     "output_type": "stream",
     "text": [
      "root\n",
      " |-- artist: string (nullable = true)\n",
      " |-- auth: string (nullable = true)\n",
      " |-- firstName: string (nullable = true)\n",
      " |-- gender: string (nullable = true)\n",
      " |-- itemInSession: long (nullable = true)\n",
      " |-- lastName: string (nullable = true)\n",
      " |-- length: double (nullable = true)\n",
      " |-- level: string (nullable = true)\n",
      " |-- location: string (nullable = true)\n",
      " |-- method: string (nullable = true)\n",
      " |-- page: string (nullable = true)\n",
      " |-- registration: long (nullable = true)\n",
      " |-- sessionId: long (nullable = true)\n",
      " |-- song: string (nullable = true)\n",
      " |-- status: long (nullable = true)\n",
      " |-- ts: long (nullable = true)\n",
      " |-- userAgent: string (nullable = true)\n",
      " |-- userId: string (nullable = true)\n",
      "\n"
     ]
    }
   ],
   "source": [
    "event_data.printSchema()"
   ]
  },
  {
   "cell_type": "code",
   "execution_count": 422,
   "metadata": {},
   "outputs": [
    {
     "data": {
      "text/plain": [
       "286500"
      ]
     },
     "execution_count": 422,
     "metadata": {},
     "output_type": "execute_result"
    }
   ],
   "source": [
    "# number of events in the log file\n",
    "event_data.count()"
   ]
  },
  {
   "cell_type": "markdown",
   "metadata": {},
   "source": [
    "### Check user Id and session Id.\n",
    "It is sugguested to look at them since it might be required to do some cleaning here"
   ]
  },
  {
   "cell_type": "code",
   "execution_count": 423,
   "metadata": {},
   "outputs": [
    {
     "name": "stdout",
     "output_type": "stream",
     "text": [
      "+------+\n",
      "|userId|\n",
      "+------+\n",
      "|      |\n",
      "|    10|\n",
      "|   100|\n",
      "+------+\n",
      "only showing top 3 rows\n",
      "\n"
     ]
    }
   ],
   "source": [
    "event_data.select(\"userId\").dropDuplicates().sort(\"userId\").show(3)"
   ]
  },
  {
   "cell_type": "code",
   "execution_count": 424,
   "metadata": {},
   "outputs": [
    {
     "data": {
      "text/plain": [
       "8346"
      ]
     },
     "execution_count": 424,
     "metadata": {},
     "output_type": "execute_result"
    }
   ],
   "source": [
    "event_data.filter(event_data[\"userId\"] == \"\").count()"
   ]
  },
  {
   "cell_type": "code",
   "execution_count": 425,
   "metadata": {},
   "outputs": [
    {
     "data": {
      "text/plain": [
       "0"
      ]
     },
     "execution_count": 425,
     "metadata": {},
     "output_type": "execute_result"
    }
   ],
   "source": [
    "event_data.filter(event_data[\"sessionId\"] == \"\").count()"
   ]
  },
  {
   "cell_type": "code",
   "execution_count": 426,
   "metadata": {},
   "outputs": [],
   "source": [
    "# As suggested, let's remove any row with missing data in the userId and sessionId columns\n",
    "user_log_valid = event_data.dropna(how = \"any\", subset = [\"userId\", \"sessionId\"])"
   ]
  },
  {
   "cell_type": "code",
   "execution_count": 427,
   "metadata": {},
   "outputs": [
    {
     "data": {
      "text/plain": [
       "286500"
      ]
     },
     "execution_count": 427,
     "metadata": {},
     "output_type": "execute_result"
    }
   ],
   "source": [
    "user_log_valid.count()"
   ]
  },
  {
   "cell_type": "markdown",
   "metadata": {},
   "source": [
    "We see that we have not dropped any data. Indeed there were no missing sessionId, and the missing userId is not really a \"na\" data. This is an empty string !!!\n",
    "To remove this empty string I propose to \"filter\" for them.\n",
    "ATTENTION: I'm working with the small dataset here. It might be the case that in the large dataset, there will be some NA for those columns."
   ]
  },
  {
   "cell_type": "code",
   "execution_count": 428,
   "metadata": {},
   "outputs": [
    {
     "data": {
      "text/plain": [
       "8346"
      ]
     },
     "execution_count": 428,
     "metadata": {},
     "output_type": "execute_result"
    }
   ],
   "source": [
    "user_log_valid.filter(user_log_valid[\"userId\"] == \"\").count()"
   ]
  },
  {
   "cell_type": "code",
   "execution_count": 429,
   "metadata": {},
   "outputs": [],
   "source": [
    "user_log_valid = user_log_valid.filter(user_log_valid[\"userId\"] != \"\")"
   ]
  },
  {
   "cell_type": "code",
   "execution_count": 430,
   "metadata": {},
   "outputs": [
    {
     "data": {
      "text/plain": [
       "278154"
      ]
     },
     "execution_count": 430,
     "metadata": {},
     "output_type": "execute_result"
    }
   ],
   "source": [
    "user_log_valid.count()"
   ]
  },
  {
   "cell_type": "code",
   "execution_count": 431,
   "metadata": {},
   "outputs": [
    {
     "data": {
      "text/plain": [
       "8346"
      ]
     },
     "execution_count": 431,
     "metadata": {},
     "output_type": "execute_result"
    }
   ],
   "source": [
    "286500-278154"
   ]
  },
  {
   "cell_type": "code",
   "execution_count": 432,
   "metadata": {},
   "outputs": [],
   "source": [
    "# display function to help loop over columns\n",
    "def display_column(col_name, nb_row=5):\n",
    "    user_log_valid.select(col_name).distinct().show(nb_row)"
   ]
  },
  {
   "cell_type": "code",
   "execution_count": 433,
   "metadata": {},
   "outputs": [
    {
     "name": "stdout",
     "output_type": "stream",
     "text": [
      "+----------------+\n",
      "|          artist|\n",
      "+----------------+\n",
      "|  The Black Keys|\n",
      "|     Silverstein|\n",
      "|       Kate Nash|\n",
      "|    Yann Tiersen|\n",
      "|Jane's Addiction|\n",
      "+----------------+\n",
      "only showing top 5 rows\n",
      "\n",
      "+---------+\n",
      "|     auth|\n",
      "+---------+\n",
      "|Cancelled|\n",
      "|Logged In|\n",
      "+---------+\n",
      "\n",
      "+---------+\n",
      "|firstName|\n",
      "+---------+\n",
      "|   Maddox|\n",
      "|   Karter|\n",
      "|    Lucas|\n",
      "|    Grace|\n",
      "| Antonina|\n",
      "+---------+\n",
      "only showing top 5 rows\n",
      "\n",
      "+------+\n",
      "|gender|\n",
      "+------+\n",
      "|     F|\n",
      "|     M|\n",
      "+------+\n",
      "\n",
      "+-------------+\n",
      "|itemInSession|\n",
      "+-------------+\n",
      "|           26|\n",
      "|           29|\n",
      "|          474|\n",
      "|          964|\n",
      "|           65|\n",
      "+-------------+\n",
      "only showing top 5 rows\n",
      "\n",
      "+--------+\n",
      "|lastName|\n",
      "+--------+\n",
      "|Harrison|\n",
      "|Thornton|\n",
      "|    Pena|\n",
      "|   Jones|\n",
      "|  Santos|\n",
      "+--------+\n",
      "only showing top 5 rows\n",
      "\n",
      "+---------+\n",
      "|   length|\n",
      "+---------+\n",
      "|200.75057|\n",
      "|317.30893|\n",
      "|260.28363|\n",
      "|241.94567|\n",
      "|262.79138|\n",
      "+---------+\n",
      "only showing top 5 rows\n",
      "\n",
      "+-----+\n",
      "|level|\n",
      "+-----+\n",
      "| free|\n",
      "| paid|\n",
      "+-----+\n",
      "\n",
      "+--------------------+\n",
      "|            location|\n",
      "+--------------------+\n",
      "|     Gainesville, FL|\n",
      "|Atlantic City-Ham...|\n",
      "|Deltona-Daytona B...|\n",
      "|San Diego-Carlsba...|\n",
      "|Cleveland-Elyria, OH|\n",
      "+--------------------+\n",
      "only showing top 5 rows\n",
      "\n",
      "+------+\n",
      "|method|\n",
      "+------+\n",
      "|   PUT|\n",
      "|   GET|\n",
      "+------+\n",
      "\n",
      "+----------------+\n",
      "|            page|\n",
      "+----------------+\n",
      "|          Cancel|\n",
      "|Submit Downgrade|\n",
      "|     Thumbs Down|\n",
      "|            Home|\n",
      "|       Downgrade|\n",
      "+----------------+\n",
      "only showing top 5 rows\n",
      "\n",
      "+-------------+\n",
      "| registration|\n",
      "+-------------+\n",
      "|1529027541000|\n",
      "|1533192032000|\n",
      "|1537779419000|\n",
      "|1534627466000|\n",
      "|1535389443000|\n",
      "+-------------+\n",
      "only showing top 5 rows\n",
      "\n",
      "+---------+\n",
      "|sessionId|\n",
      "+---------+\n",
      "|       29|\n",
      "|       26|\n",
      "|      474|\n",
      "|      964|\n",
      "|     1697|\n",
      "+---------+\n",
      "only showing top 5 rows\n",
      "\n",
      "+--------------------+\n",
      "|                song|\n",
      "+--------------------+\n",
      "|Never Gonna Be Al...|\n",
      "|         TULENLIEKKI|\n",
      "|      Underwaterboys|\n",
      "|Saor (Free)/News ...|\n",
      "|               New E|\n",
      "+--------------------+\n",
      "only showing top 5 rows\n",
      "\n",
      "+------+\n",
      "|status|\n",
      "+------+\n",
      "|   307|\n",
      "|   404|\n",
      "|   200|\n",
      "+------+\n",
      "\n",
      "+-------------+\n",
      "|           ts|\n",
      "+-------------+\n",
      "|1538360520000|\n",
      "|1538368903000|\n",
      "|1538380099000|\n",
      "|1538380879000|\n",
      "|1538390386000|\n",
      "+-------------+\n",
      "only showing top 5 rows\n",
      "\n",
      "+--------------------+\n",
      "|           userAgent|\n",
      "+--------------------+\n",
      "|\"Mozilla/5.0 (Mac...|\n",
      "|\"Mozilla/5.0 (Win...|\n",
      "|Mozilla/5.0 (X11;...|\n",
      "|\"Mozilla/5.0 (Mac...|\n",
      "|\"Mozilla/5.0 (Mac...|\n",
      "+--------------------+\n",
      "only showing top 5 rows\n",
      "\n",
      "+------+\n",
      "|userId|\n",
      "+------+\n",
      "|100010|\n",
      "|200002|\n",
      "|   125|\n",
      "|    51|\n",
      "|   124|\n",
      "+------+\n",
      "only showing top 5 rows\n",
      "\n"
     ]
    }
   ],
   "source": [
    "for col in user_log_valid.schema.names: display_column(col)"
   ]
  },
  {
   "cell_type": "code",
   "execution_count": null,
   "metadata": {},
   "outputs": [],
   "source": []
  },
  {
   "cell_type": "markdown",
   "metadata": {},
   "source": [
    "So far I understand the following:\n",
    "\n",
    "Each line of the spark dataframe is a record which is related to a user requesting a page with a PUT or GET method.\n",
    "User is repsented by userId and each session has an id as well. There is even a itemInSession column that provide the sequence of all pages the users visited within a session. ts column provide a timestamp of the \"event\" in those logs.\n",
    "UserAgent tells us about the operating system and browser used. Status is the return code of the server. Level is telling us if the user is using the free version or if he is under paid contract.\n",
    "Other field are pretty obvious and their name is pretty explanatory.\n",
    "The only one I don't understand is about the lenght. Let's explore a little bit this one."
   ]
  },
  {
   "cell_type": "code",
   "execution_count": 434,
   "metadata": {},
   "outputs": [
    {
     "name": "stdout",
     "output_type": "stream",
     "text": [
      "[Row(page='Cancel', length=None)]\n",
      "[Row(page='Submit Downgrade', length=None)]\n",
      "[Row(page='Thumbs Down', length=None)]\n",
      "[Row(page='Home', length=None)]\n",
      "[Row(page='Downgrade', length=None)]\n",
      "[Row(page='Roll Advert', length=None)]\n",
      "[Row(page='Logout', length=None)]\n",
      "[Row(page='Save Settings', length=None)]\n",
      "[Row(page='Cancellation Confirmation', length=None)]\n",
      "[Row(page='About', length=None)]\n",
      "[Row(page='Settings', length=None)]\n",
      "[Row(page='Add to Playlist', length=None)]\n",
      "[Row(page='Add Friend', length=None)]\n",
      "[Row(page='NextSong', length=515.21261), Row(page='NextSong', length=268.5122), Row(page='NextSong', length=201.79546), Row(page='NextSong', length=141.47873), Row(page='NextSong', length=259.68281), Row(page='NextSong', length=181.75955), Row(page='NextSong', length=273.42322), Row(page='NextSong', length=304.43057), Row(page='NextSong', length=185.41669), Row(page='NextSong', length=333.94893), Row(page='NextSong', length=171.33669), Row(page='NextSong', length=485.85098), Row(page='NextSong', length=358.81751), Row(page='NextSong', length=233.58649), Row(page='NextSong', length=238.8371), Row(page='NextSong', length=125.49179), Row(page='NextSong', length=265.29914), Row(page='NextSong', length=187.61098), Row(page='NextSong', length=166.5824), Row(page='NextSong', length=293.3024), Row(page='NextSong', length=275.09506), Row(page='NextSong', length=508.62975), Row(page='NextSong', length=316.73424), Row(page='NextSong', length=195.23873), Row(page='NextSong', length=300.17261), Row(page='NextSong', length=249.80853), Row(page='NextSong', length=366.99383), Row(page='NextSong', length=437.15873), Row(page='NextSong', length=238.07955), Row(page='NextSong', length=151.09179), Row(page='NextSong', length=360.4371), Row(page='NextSong', length=165.90322), Row(page='NextSong', length=130.37669), Row(page='NextSong', length=850.80771), Row(page='NextSong', length=395.4673), Row(page='NextSong', length=244.32281), Row(page='NextSong', length=336.40444), Row(page='NextSong', length=178.57261), Row(page='NextSong', length=52.47955), Row(page='NextSong', length=700.39465), Row(page='NextSong', length=137.29914), Row(page='NextSong', length=125.93587), Row(page='NextSong', length=422.79138), Row(page='NextSong', length=528.45669), Row(page='NextSong', length=406.83057), Row(page='NextSong', length=295.94077), Row(page='NextSong', length=441.10322), Row(page='NextSong', length=470.88281), Row(page='NextSong', length=418.69016), Row(page='NextSong', length=48.61342), Row(page='NextSong', length=323.83955), Row(page='NextSong', length=100.07465), Row(page='NextSong', length=141.97506), Row(page='NextSong', length=95.39873), Row(page='NextSong', length=239.28118), Row(page='NextSong', length=576.23465), Row(page='NextSong', length=589.68771), Row(page='NextSong', length=553.69098), Row(page='NextSong', length=120.52853), Row(page='NextSong', length=87.17016), Row(page='NextSong', length=108.32934), Row(page='NextSong', length=344.37179), Row(page='NextSong', length=308.84526), Row(page='NextSong', length=297.1424), Row(page='NextSong', length=378.48771), Row(page='NextSong', length=146.12853), Row(page='NextSong', length=471.09179), Row(page='NextSong', length=332.79955), Row(page='NextSong', length=389.17179), Row(page='NextSong', length=603.402), Row(page='NextSong', length=476.57751), Row(page='NextSong', length=130.69016), Row(page='NextSong', length=344.08444), Row(page='NextSong', length=18.15465), Row(page='NextSong', length=554.73587), Row(page='NextSong', length=435.61751), Row(page='NextSong', length=354.71628), Row(page='NextSong', length=111.43791), Row(page='NextSong', length=338.93832), Row(page='NextSong', length=40.64608), Row(page='NextSong', length=771.02975), Row(page='NextSong', length=433.94567), Row(page='NextSong', length=268.38159), Row(page='NextSong', length=235.78077), Row(page='NextSong', length=237.42649), Row(page='NextSong', length=99.16036), Row(page='NextSong', length=146.02404), Row(page='NextSong', length=223.52934), Row(page='NextSong', length=234.57914), Row(page='NextSong', length=192.54812), Row(page='NextSong', length=215.40526), Row(page='NextSong', length=203.62404), Row(page='NextSong', length=45.63546), Row(page='NextSong', length=312.0322), Row(page='NextSong', length=271.33342), Row(page='NextSong', length=122.69669), Row(page='NextSong', length=615.23546), Row(page='NextSong', length=201.1424), Row(page='NextSong', length=160.83546), Row(page='NextSong', length=473.46893), Row(page='NextSong', length=421.61587), Row(page='NextSong', length=205.53098), Row(page='NextSong', length=283.8722), Row(page='NextSong', length=276.76689), Row(page='NextSong', length=150.69995), Row(page='NextSong', length=189.962), Row(page='NextSong', length=325.17179), Row(page='NextSong', length=166.71302), Row(page='NextSong', length=456.59383), Row(page='NextSong', length=380.39465), Row(page='NextSong', length=57.57342), Row(page='NextSong', length=250.77506), Row(page='NextSong', length=283.27138), Row(page='NextSong', length=197.98159), Row(page='NextSong', length=599.71873), Row(page='NextSong', length=254.24934), Row(page='NextSong', length=149.99465), Row(page='NextSong', length=33.27955), Row(page='NextSong', length=447.92118), Row(page='NextSong', length=103.75791), Row(page='NextSong', length=148.29669), Row(page='NextSong', length=505.10322), Row(page='NextSong', length=2520.99873), Row(page='NextSong', length=96.28689), Row(page='NextSong', length=424.12363), Row(page='NextSong', length=326.73914), Row(page='NextSong', length=389.43302), Row(page='NextSong', length=258.2722), Row(page='NextSong', length=354.40281), Row(page='NextSong', length=368.71791), Row(page='NextSong', length=336.69179), Row(page='NextSong', length=182.56934), Row(page='NextSong', length=464.90077), Row(page='NextSong', length=429.11302), Row(page='NextSong', length=336.50893), Row(page='NextSong', length=108.7473), Row(page='NextSong', length=85.41995), Row(page='NextSong', length=664.31955), Row(page='NextSong', length=138.73587), Row(page='NextSong', length=104.04526), Row(page='NextSong', length=377.70404), Row(page='NextSong', length=444.49914), Row(page='NextSong', length=473.57342), Row(page='NextSong', length=371.722), Row(page='NextSong', length=535.43138), Row(page='NextSong', length=449.90649), Row(page='NextSong', length=55.19628), Row(page='NextSong', length=395.28444), Row(page='NextSong', length=446.24934), Row(page='NextSong', length=340.68853), Row(page='NextSong', length=307.98322), Row(page='NextSong', length=49.50159), Row(page='NextSong', length=408.47628), Row(page='NextSong', length=277.05424), Row(page='NextSong', length=210.33751), Row(page='NextSong', length=255.99955), Row(page='NextSong', length=289.82812), Row(page='NextSong', length=182.38649), Row(page='NextSong', length=276.58404), Row(page='NextSong', length=187.24526), Row(page='NextSong', length=694.282), Row(page='NextSong', length=501.10649), Row(page='NextSong', length=209.31873), Row(page='NextSong', length=213.26322), Row(page='NextSong', length=259.76118), Row(page='NextSong', length=226.84689), Row(page='NextSong', length=330.60526), Row(page='NextSong', length=359.54893), Row(page='NextSong', length=190.30159), Row(page='NextSong', length=178.78159), Row(page='NextSong', length=105.42975), Row(page='NextSong', length=38.3473), Row(page='NextSong', length=559.12444), Row(page='NextSong', length=203.49342), Row(page='NextSong', length=188.65587), Row(page='NextSong', length=121.02485), Row(page='NextSong', length=248.63302), Row(page='NextSong', length=236.2771), Row(page='NextSong', length=233.97832), Row(page='NextSong', length=430.602), Row(page='NextSong', length=202.26567), Row(page='NextSong', length=482.71628), Row(page='NextSong', length=167.28771), Row(page='NextSong', length=209.26649), Row(page='NextSong', length=452.23138), Row(page='NextSong', length=168.95955), Row(page='NextSong', length=406.25587), Row(page='NextSong', length=268.82567), Row(page='NextSong', length=441.46893), Row(page='NextSong', length=96.23465), Row(page='NextSong', length=299.41506), Row(page='NextSong', length=597.2371), Row(page='NextSong', length=269.50485), Row(page='NextSong', length=308.50567), Row(page='NextSong', length=337.78893), Row(page='NextSong', length=292.20526), Row(page='NextSong', length=164.67546), Row(page='NextSong', length=442.3571), Row(page='NextSong', length=249.7824), Row(page='NextSong', length=933.43302), Row(page='NextSong', length=137.92608), Row(page='NextSong', length=316.02893), Row(page='NextSong', length=316.29016), Row(page='NextSong', length=173.16526), Row(page='NextSong', length=80.84853), Row(page='NextSong', length=463.69914), Row(page='NextSong', length=383.58159), Row(page='NextSong', length=602.38322), Row(page='NextSong', length=242.80771), Row(page='NextSong', length=339.80036), Row(page='NextSong', length=117.41995), Row(page='NextSong', length=541.80526), Row(page='NextSong', length=448.1824), Row(page='NextSong', length=84.27057), Row(page='NextSong', length=78.44526), Row(page='NextSong', length=379.21914), Row(page='NextSong', length=353.20118), Row(page='NextSong', length=519.28771), Row(page='NextSong', length=392.14975), Row(page='NextSong', length=406.46485), Row(page='NextSong', length=133.17179), Row(page='NextSong', length=350.14485), Row(page='NextSong', length=335.15057), Row(page='NextSong', length=152.37179), Row(page='NextSong', length=501.7073), Row(page='NextSong', length=273.62358), Row(page='NextSong', length=88.65914), Row(page='NextSong', length=83.74812), Row(page='NextSong', length=119.03955), Row(page='NextSong', length=793.80853), Row(page='NextSong', length=76.09424), Row(page='NextSong', length=454.66077), Row(page='NextSong', length=487.33995), Row(page='NextSong', length=389.90322), Row(page='NextSong', length=607.50322), Row(page='NextSong', length=809.53424), Row(page='NextSong', length=443.68934), Row(page='NextSong', length=720.03873), Row(page='NextSong', length=154.40934), Row(page='NextSong', length=299.44118), Row(page='NextSong', length=244.81914), Row(page='NextSong', length=301.87057), Row(page='NextSong', length=237.76608), Row(page='NextSong', length=75.07546), Row(page='NextSong', length=461.89669), Row(page='NextSong', length=137.37751), Row(page='NextSong', length=206.62812), Row(page='NextSong', length=288.7571), Row(page='NextSong', length=326.39955), Row(page='NextSong', length=276.1922), Row(page='NextSong', length=332.85179), Row(page='NextSong', length=357.61587), Row(page='NextSong', length=295.65342), Row(page='NextSong', length=312.842), Row(page='NextSong', length=243.56526), Row(page='NextSong', length=414.95465), Row(page='NextSong', length=266.91873), Row(page='NextSong', length=267.25832), Row(page='NextSong', length=377.57342), Row(page='NextSong', length=264.56771), Row(page='NextSong', length=354.58567), Row(page='NextSong', length=256.73098), Row(page='NextSong', length=548.88444), Row(page='NextSong', length=165.8771), Row(page='NextSong', length=192.70485), Row(page='NextSong', length=152.60689), Row(page='NextSong', length=323.89179), Row(page='NextSong', length=136.82893), Row(page='NextSong', length=557.89669), Row(page='NextSong', length=468.84526), Row(page='NextSong', length=214.9873), Row(page='NextSong', length=341.52444), Row(page='NextSong', length=273.91955), Row(page='NextSong', length=302.78485), Row(page='NextSong', length=152.68526), Row(page='NextSong', length=129.56689), Row(page='NextSong', length=210.02404), Row(page='NextSong', length=150.77832), Row(page='NextSong', length=284.70812), Row(page='NextSong', length=500.68853), Row(page='NextSong', length=503.82322), Row(page='NextSong', length=353.17506), Row(page='NextSong', length=274.52036), Row(page='NextSong', length=432.40444), Row(page='NextSong', length=517.3024), Row(page='NextSong', length=615.8624), Row(page='NextSong', length=81.162), Row(page='NextSong', length=562.70322), Row(page='NextSong', length=436.1922), Row(page='NextSong', length=399.72526), Row(page='NextSong', length=1062.97424), Row(page='NextSong', length=480.05179), Row(page='NextSong', length=350.4322), Row(page='NextSong', length=472.65914), Row(page='NextSong', length=411.84608), Row(page='NextSong', length=535.69261), Row(page='NextSong', length=102.53016), Row(page='NextSong', length=138.55302), Row(page='NextSong', length=774.79138), Row(page='NextSong', length=476.18567), Row(page='NextSong', length=470.77832), Row(page='NextSong', length=376.11057), Row(page='NextSong', length=122.64444), Row(page='NextSong', length=59.27138), Row(page='NextSong', length=292.04853), Row(page='NextSong', length=287.9473), Row(page='NextSong', length=403.9571), Row(page='NextSong', length=63.60771), Row(page='NextSong', length=35.5522), Row(page='NextSong', length=387.05587), Row(page='NextSong', length=15.56853), Row(page='NextSong', length=85.91628), Row(page='NextSong', length=395.36281), Row(page='NextSong', length=360.9073), Row(page='NextSong', length=49.00526), Row(page='NextSong', length=411.48036), Row(page='NextSong', length=112.5873), Row(page='NextSong', length=415.13751), Row(page='NextSong', length=151.40526), Row(page='NextSong', length=285.54404), Row(page='NextSong', length=171.36281), Row(page='NextSong', length=411.42812), Row(page='NextSong', length=213.99465), Row(page='NextSong', length=237.53098), Row(page='NextSong', length=387.91791), Row(page='NextSong', length=220.99546), Row(page='NextSong', length=271.09832), Row(page='NextSong', length=232.22812), Row(page='NextSong', length=239.22893), Row(page='NextSong', length=308.94975), Row(page='NextSong', length=212.00934), Row(page='NextSong', length=136.202), Row(page='NextSong', length=141.60934), Row(page='NextSong', length=494.05342), Row(page='NextSong', length=329.24689), Row(page='NextSong', length=320.15628), Row(page='NextSong', length=192.36526), Row(page='NextSong', length=83.1473), Row(page='NextSong', length=148.97587), Row(page='NextSong', length=243.25179), Row(page='NextSong', length=190.17098), Row(page='NextSong', length=170.10893), Row(page='NextSong', length=657.73669), Row(page='NextSong', length=281.80853), Row(page='NextSong', length=149.4722), Row(page='NextSong', length=145.29261), Row(page='NextSong', length=263.44444), Row(page='NextSong', length=384.86159), Row(page='NextSong', length=186.09587), Row(page='NextSong', length=316.08118), Row(page='NextSong', length=106.31791), Row(page='NextSong', length=333.60934), Row(page='NextSong', length=312.58077), Row(page='NextSong', length=277.96853), Row(page='NextSong', length=473.49506), Row(page='NextSong', length=139.88526), Row(page='NextSong', length=195.52608), Row(page='NextSong', length=190.53669), Row(page='NextSong', length=301.34812), Row(page='NextSong', length=139.36281), Row(page='NextSong', length=173.37424), Row(page='NextSong', length=327.49669), Row(page='NextSong', length=335.59465), Row(page='NextSong', length=280.29342), Row(page='NextSong', length=342.69995), Row(page='NextSong', length=434.25914), Row(page='NextSong', length=94.01424), Row(page='NextSong', length=273.6322), Row(page='NextSong', length=228.362), Row(page='NextSong', length=488.202), Row(page='NextSong', length=367.33342), Row(page='NextSong', length=398.44526), Row(page='NextSong', length=148.68853), Row(page='NextSong', length=293.92934), Row(page='NextSong', length=440.24118), Row(page='NextSong', length=397.84444), Row(page='NextSong', length=252.78649), Row(page='NextSong', length=145.05751), Row(page='NextSong', length=495.72526), Row(page='NextSong', length=310.282), Row(page='NextSong', length=321.01832), Row(page='NextSong', length=361.87383), Row(page='NextSong', length=158.82404), Row(page='NextSong', length=119.06567), Row(page='NextSong', length=57.44281), Row(page='NextSong', length=456.09751), Row(page='NextSong', length=378.43546), Row(page='NextSong', length=93.46567), Row(page='NextSong', length=516.5971), Row(page='NextSong', length=132.17914), Row(page='NextSong', length=586.52689), Row(page='NextSong', length=111.85587), Row(page='NextSong', length=453.61587), Row(page='NextSong', length=514.40281), Row(page='NextSong', length=170.26567), Row(page='NextSong', length=588.042), Row(page='NextSong', length=476.60363), Row(page='NextSong', length=533.002), Row(page='NextSong', length=119.2224), Row(page='NextSong', length=236.32934), Row(page='NextSong', length=236.69506), Row(page='NextSong', length=183.27465), Row(page='NextSong', length=176.53506), Row(page='NextSong', length=243.35628), Row(page='NextSong', length=277.13261), Row(page='NextSong', length=228.0224), Row(page='NextSong', length=211.53914), Row(page='NextSong', length=280.0322), Row(page='NextSong', length=154.8273), Row(page='NextSong', length=231.73179), Row(page='NextSong', length=280.94649), Row(page='NextSong', length=255.16363), Row(page='NextSong', length=166.66077), Row(page='NextSong', length=455.33995), Row(page='NextSong', length=362.60526), Row(page='NextSong', length=246.72608), Row(page='NextSong', length=304.79628), Row(page='NextSong', length=30.58893), Row(page='NextSong', length=410.56608), Row(page='NextSong', length=157.59628), Row(page='NextSong', length=246.282), Row(page='NextSong', length=295.33995), Row(page='NextSong', length=305.68444), Row(page='NextSong', length=288.33914), Row(page='NextSong', length=250.33098), Row(page='NextSong', length=273.18812), Row(page='NextSong', length=260.04853), Row(page='NextSong', length=305.3971), Row(page='NextSong', length=201.11628), Row(page='NextSong', length=240.16934), Row(page='NextSong', length=289.07057), Row(page='NextSong', length=281.65179), Row(page='NextSong', length=402.93832), Row(page='NextSong', length=203.04934), Row(page='NextSong', length=151.45751), Row(page='NextSong', length=279.01342), Row(page='NextSong', length=296.35873), Row(page='NextSong', length=279.61424), Row(page='NextSong', length=184.39791), Row(page='NextSong', length=95.11138), Row(page='NextSong', length=239.5424), Row(page='NextSong', length=283.79383), Row(page='NextSong', length=460.17261), Row(page='NextSong', length=700.62975), Row(page='NextSong', length=427.88526), Row(page='NextSong', length=337.34485), Row(page='NextSong', length=182.15138), Row(page='NextSong', length=562.93832), Row(page='NextSong', length=171.57179), Row(page='NextSong', length=289.72363), Row(page='NextSong', length=356.25751), Row(page='NextSong', length=319.21587), Row(page='NextSong', length=142.10567), Row(page='NextSong', length=115.48689), Row(page='NextSong', length=148.76689), Row(page='NextSong', length=177.78893), Row(page='NextSong', length=33.4624), Row(page='NextSong', length=282.77506), Row(page='NextSong', length=115.12118), Row(page='NextSong', length=71.52281), Row(page='NextSong', length=113.99791), Row(page='NextSong', length=177.37098), Row(page='NextSong', length=248.71138), Row(page='NextSong', length=284.89098), Row(page='NextSong', length=418.45506), Row(page='NextSong', length=382.22322), Row(page='NextSong', length=347.19302), Row(page='NextSong', length=171.51955), Row(page='NextSong', length=122.122), Row(page='NextSong', length=80.24771), Row(page='NextSong', length=396.25098), Row(page='NextSong', length=498.52036), Row(page='NextSong', length=13.92281), Row(page='NextSong', length=416.02567), Row(page='NextSong', length=1197.06077), Row(page='NextSong', length=377.75628), Row(page='NextSong', length=526.15791), Row(page='NextSong', length=461.45261), Row(page='NextSong', length=365.87057), Row(page='NextSong', length=415.73832), Row(page='NextSong', length=311.27465), Row(page='NextSong', length=12.64281), Row(page='NextSong', length=286.32771), Row(page='NextSong', length=257.01832), Row(page='NextSong', length=273.94567), Row(page='NextSong', length=366.39302), Row(page='NextSong', length=162.16771), Row(page='NextSong', length=181.26322), Row(page='NextSong', length=233.87383), Row(page='NextSong', length=295.00036), Row(page='NextSong', length=277.2371), Row(page='NextSong', length=210.65098), Row(page='NextSong', length=247.64036), Row(page='NextSong', length=296.85506), Row(page='NextSong', length=309.10649), Row(page='NextSong', length=168.56771), Row(page='NextSong', length=303.33342), Row(page='NextSong', length=382.09261), Row(page='NextSong', length=347.01016), Row(page='NextSong', length=245.81179), Row(page='NextSong', length=245.15873), Row(page='NextSong', length=185.59955), Row(page='NextSong', length=362.86649), Row(page='NextSong', length=223.13751), Row(page='NextSong', length=301.29587), Row(page='NextSong', length=167.23546), Row(page='NextSong', length=220.21179), Row(page='NextSong', length=499.40853), Row(page='NextSong', length=226.37669), Row(page='NextSong', length=424.75057), Row(page='NextSong', length=336.24771), Row(page='NextSong', length=197.69424), Row(page='NextSong', length=527.17669), Row(page='NextSong', length=306.442), Row(page='NextSong', length=311.95383), Row(page='NextSong', length=284.99546), Row(page='NextSong', length=410.38322), Row(page='NextSong', length=193.17506), Row(page='NextSong', length=335.67302), Row(page='NextSong', length=462.99383), Row(page='NextSong', length=112.79628), Row(page='NextSong', length=45.29587), Row(page='NextSong', length=501.52444), Row(page='NextSong', length=358.42567), Row(page='NextSong', length=291.7873), Row(page='NextSong', length=419.97016), Row(page='NextSong', length=126.95465), Row(page='NextSong', length=174.49751), Row(page='NextSong', length=482.2722), Row(page='NextSong', length=82.96444), Row(page='NextSong', length=193.35791), Row(page='NextSong', length=60.08118), Row(page='NextSong', length=141.84444), Row(page='NextSong', length=481.74975), Row(page='NextSong', length=629.99465), Row(page='NextSong', length=25.67791), Row(page='NextSong', length=475.71546), Row(page='NextSong', length=394.70975), Row(page='NextSong', length=323.91791), Row(page='NextSong', length=538.85342), Row(page='NextSong', length=10.03057), Row(page='NextSong', length=538.72281), Row(page='NextSong', length=426.08281), Row(page='NextSong', length=128.88771), Row(page='NextSong', length=80.77016), Row(page='NextSong', length=361.45587), Row(page='NextSong', length=53.78567), Row(page='NextSong', length=358.922), Row(page='NextSong', length=72.88118), Row(page='NextSong', length=433.57995), Row(page='NextSong', length=342.7522), Row(page='NextSong', length=197.3024), Row(page='NextSong', length=274.18077), Row(page='NextSong', length=299.12771), Row(page='NextSong', length=143.49016), Row(page='NextSong', length=177.52771), Row(page='NextSong', length=203.72853), Row(page='NextSong', length=253.02159), Row(page='NextSong', length=204.12036), Row(page='NextSong', length=426.52689), Row(page='NextSong', length=238.00118), Row(page='NextSong', length=210.23302), Row(page='NextSong', length=132.80608), Row(page='NextSong', length=206.96771), Row(page='NextSong', length=210.59873), Row(page='NextSong', length=291.36934), Row(page='NextSong', length=163.3171), Row(page='NextSong', length=211.85261), Row(page='NextSong', length=207.15057), Row(page='NextSong', length=297.19465), Row(page='NextSong', length=208.71791), Row(page='NextSong', length=286.37995), Row(page='NextSong', length=233.29914), Row(page='NextSong', length=330.13506), Row(page='NextSong', length=361.92608), Row(page='NextSong', length=270.44526), Row(page='NextSong', length=241.13587), Row(page='NextSong', length=561.18812), Row(page='NextSong', length=246.33424), Row(page='NextSong', length=159.18975), Row(page='NextSong', length=64.83546), Row(page='NextSong', length=159.29424), Row(page='NextSong', length=242.93832), Row(page='NextSong', length=345.88689), Row(page='NextSong', length=361.7171), Row(page='NextSong', length=313.33832), Row(page='NextSong', length=287.18975), Row(page='NextSong', length=266.57914), Row(page='NextSong', length=143.41179), Row(page='NextSong', length=589.94893), Row(page='NextSong', length=180.45342), Row(page='NextSong', length=141.21751), Row(page='NextSong', length=422.19057), Row(page='NextSong', length=61.72689), Row(page='NextSong', length=169.40363), Row(page='NextSong', length=332.2771), Row(page='NextSong', length=526.36689), Row(page='NextSong', length=71.75791), Row(page='NextSong', length=284.57751), Row(page='NextSong', length=467.27791), Row(page='NextSong', length=320.36526), Row(page='NextSong', length=492.95628), Row(page='NextSong', length=71.33995), Row(page='NextSong', length=109.03465), Row(page='NextSong', length=156.02893), Row(page='NextSong', length=161.30567), Row(page='NextSong', length=109.60934), Row(page='NextSong', length=459.85914), Row(page='NextSong', length=338.70322), Row(page='NextSong', length=283.97669), Row(page='NextSong', length=333.322), Row(page='NextSong', length=465.21424), Row(page='NextSong', length=418.14159), Row(page='NextSong', length=1285.32853), Row(page='NextSong', length=355.00363), Row(page='NextSong', length=346.5922), Row(page='NextSong', length=463.93424), Row(page='NextSong', length=355.26485), Row(page='NextSong', length=468.97587), Row(page='NextSong', length=412.23791), Row(page='NextSong', length=130.5073), Row(page='NextSong', length=640.44363), Row(page='NextSong', length=489.7171), Row(page='NextSong', length=502.41261), Row(page='NextSong', length=555.88526), Row(page='NextSong', length=680.59383), Row(page='NextSong', length=335.49016), Row(page='NextSong', length=428.22485), Row(page='NextSong', length=241.89342), Row(page='NextSong', length=194.11546), Row(page='NextSong', length=191.7122), Row(page='NextSong', length=203.33669), Row(page='NextSong', length=194.87302), Row(page='NextSong', length=204.32934), Row(page='NextSong', length=234.70975), Row(page='NextSong', length=237.66159), Row(page='NextSong', length=253.36118), Row(page='NextSong', length=212.50567), Row(page='NextSong', length=304.06485), Row(page='NextSong', length=260.0224), Row(page='NextSong', length=203.2322), Row(page='NextSong', length=390.68689), Row(page='NextSong', length=117.34159), Row(page='NextSong', length=202.57914), Row(page='NextSong', length=153.65179), Row(page='NextSong', length=208.03873), Row(page='NextSong', length=384.522), Row(page='NextSong', length=314.72281), Row(page='NextSong', length=612.0224), Row(page='NextSong', length=270.13179), Row(page='NextSong', length=419.26485), Row(page='NextSong', length=165.19791), Row(page='NextSong', length=444.682), Row(page='NextSong', length=171.2322), Row(page='NextSong', length=157.6224), Row(page='NextSong', length=178.80771), Row(page='NextSong', length=396.35546), Row(page='NextSong', length=138.34404), Row(page='NextSong', length=369.55383), Row(page='NextSong', length=246.09914), Row(page='NextSong', length=303.77751), Row(page='NextSong', length=135.31383), Row(page='NextSong', length=132.77995), Row(page='NextSong', length=362.00444), Row(page='NextSong', length=260.70159), Row(page='NextSong', length=255.39873), Row(page='NextSong', length=359.83628), Row(page='NextSong', length=356.15302), Row(page='NextSong', length=348.00281), Row(page='NextSong', length=389.642), Row(page='NextSong', length=126.01424), Row(page='NextSong', length=114.31138), Row(page='NextSong', length=341.99465), Row(page='NextSong', length=344.78975), Row(page='NextSong', length=265.06404), Row(page='NextSong', length=574.95465), Row(page='NextSong', length=281.88689), Row(page='NextSong', length=230.60853), Row(page='NextSong', length=321.30567), Row(page='NextSong', length=139.25832), Row(page='NextSong', length=326.55628), Row(page='NextSong', length=543.242), Row(page='NextSong', length=496.37832), Row(page='NextSong', length=431.62077), Row(page='NextSong', length=416.46975), Row(page='NextSong', length=673.4624), Row(page='NextSong', length=92.86485), Row(page='NextSong', length=332.09424), Row(page='NextSong', length=331.4673), Row(page='NextSong', length=639.42485), Row(page='NextSong', length=70.21669), Row(page='NextSong', length=378.64444), Row(page='NextSong', length=81.13587), Row(page='NextSong', length=434.442), Row(page='NextSong', length=722.20689), Row(page='NextSong', length=554.10893), Row(page='NextSong', length=245.36771), Row(page='NextSong', length=225.77587), Row(page='NextSong', length=242.18077), Row(page='NextSong', length=197.32853), Row(page='NextSong', length=265.63873), Row(page='NextSong', length=373.44608), Row(page='NextSong', length=226.01098), Row(page='NextSong', length=375.03955), Row(page='NextSong', length=238.99383), Row(page='NextSong', length=216.05832), Row(page='NextSong', length=252.9171), Row(page='NextSong', length=334.65424), Row(page='NextSong', length=93.04771), Row(page='NextSong', length=240.1171), Row(page='NextSong', length=136.38485), Row(page='NextSong', length=1177.33832), Row(page='NextSong', length=182.43873), Row(page='NextSong', length=286.56281), Row(page='NextSong', length=313.59955), Row(page='NextSong', length=276.16608), Row(page='NextSong', length=191.13751), Row(page='NextSong', length=414.11873), Row(page='NextSong', length=272.63955), Row(page='NextSong', length=242.65098), Row(page='NextSong', length=311.37914), Row(page='NextSong', length=336.22159), Row(page='NextSong', length=277.49832), Row(page='NextSong', length=370.88608), Row(page='NextSong', length=271.96036), Row(page='NextSong', length=123.74159), Row(page='NextSong', length=161.69751), Row(page='NextSong', length=313.83465), Row(page='NextSong', length=670.35383), Row(page='NextSong', length=64.60036), Row(page='NextSong', length=159.4771), Row(page='NextSong', length=385.93261), Row(page='NextSong', length=121.20771), Row(page='NextSong', length=315.74159), Row(page='NextSong', length=375.01342), Row(page='NextSong', length=295.78404), Row(page='NextSong', length=420.46649), Row(page='NextSong', length=275.46077), Row(page='NextSong', length=270.10567), Row(page='NextSong', length=354.08934), Row(page='NextSong', length=34.08934), Row(page='NextSong', length=84.29669), Row(page='NextSong', length=656.14322), Row(page='NextSong', length=147.35628), Row(page='NextSong', length=137.58649), Row(page='NextSong', length=362.52689), Row(page='NextSong', length=91.53261), Row(page='NextSong', length=578.69016), Row(page='NextSong', length=1370.122), Row(page='NextSong', length=305.55383), Row(page='NextSong', length=1392.16934), Row(page='NextSong', length=65.61914), Row(page='NextSong', length=447.21587), Row(page='NextSong', length=411.16689), Row(page='NextSong', length=76.22485), Row(page='NextSong', length=211.12118), Row(page='NextSong', length=246.12526), Row(page='NextSong', length=260.93669), Row(page='NextSong', length=186.04363), Row(page='NextSong', length=472.68526), Row(page='NextSong', length=301.13914), Row(page='NextSong', length=119.45751), Row(page='NextSong', length=249.02485), Row(page='NextSong', length=249.3122), Row(page='NextSong', length=249.33832), Row(page='NextSong', length=207.20281), Row(page='NextSong', length=328.93342), Row(page='NextSong', length=220.86485), Row(page='NextSong', length=211.33016), Row(page='NextSong', length=348.65587), Row(page='NextSong', length=206.91546), Row(page='NextSong', length=240.24771), Row(page='NextSong', length=133.27628), Row(page='NextSong', length=291.60444), Row(page='NextSong', length=152.78975), Row(page='NextSong', length=387.86567), Row(page='NextSong', length=215.77098), Row(page='NextSong', length=202.78812), Row(page='NextSong', length=225.14893), Row(page='NextSong', length=207.72526), Row(page='NextSong', length=194.5073), Row(page='NextSong', length=418.55955), Row(page='NextSong', length=166.922), Row(page='NextSong', length=200.41098), Row(page='NextSong', length=281.62567), Row(page='NextSong', length=319.81669), Row(page='NextSong', length=371.30404), Row(page='NextSong', length=90.67057), Row(page='NextSong', length=372.71465), Row(page='NextSong', length=191.86893), Row(page='NextSong', length=203.07546), Row(page='NextSong', length=428.56444), Row(page='NextSong', length=277.78567), Row(page='NextSong', length=452.12689), Row(page='NextSong', length=144.8224), Row(page='NextSong', length=145.21424), Row(page='NextSong', length=565.96853), Row(page='NextSong', length=400.79628), Row(page='NextSong', length=325.56363), Row(page='NextSong', length=365.71383), Row(page='NextSong', length=150.5171), Row(page='NextSong', length=135.75791), Row(page='NextSong', length=114.70322), Row(page='NextSong', length=272.16934), Row(page='NextSong', length=413.88363), Row(page='NextSong', length=316.13342), Row(page='NextSong', length=384.73098), Row(page='NextSong', length=120.65914), Row(page='NextSong', length=36.96281), Row(page='NextSong', length=409.02485), Row(page='NextSong', length=343.30077), Row(page='NextSong', length=634.33098), Row(page='NextSong', length=356.54485), Row(page='NextSong', length=540.65587), Row(page='NextSong', length=366.07955), Row(page='NextSong', length=487.49669), Row(page='NextSong', length=108.56444), Row(page='NextSong', length=448.78322), Row(page='NextSong', length=132.75383), Row(page='NextSong', length=396.09424), Row(page='NextSong', length=85.96853), Row(page='NextSong', length=740.46649), Row(page='NextSong', length=90.38322), Row(page='NextSong', length=415.65995), Row(page='NextSong', length=405.02812), Row(page='NextSong', length=379.34975), Row(page='NextSong', length=532.79302), Row(page='NextSong', length=958.27546), Row(page='NextSong', length=287.4771), Row(page='NextSong', length=267.49342), Row(page='NextSong', length=167.49669), Row(page='NextSong', length=220.83873), Row(page='NextSong', length=266.05669), Row(page='NextSong', length=237.94893), Row(page='NextSong', length=236.64281), Row(page='NextSong', length=67.44771), Row(page='NextSong', length=197.27628), Row(page='NextSong', length=225.35791), Row(page='NextSong', length=371.1473), Row(page='NextSong', length=299.75465), Row(page='NextSong', length=240.56118), Row(page='NextSong', length=318.6673), Row(page='NextSong', length=209.97179), Row(page='NextSong', length=285.93587), Row(page='NextSong', length=204.19873), Row(page='NextSong', length=396.12036), Row(page='NextSong', length=179.12118), Row(page='NextSong', length=199.83628), Row(page='NextSong', length=213.78567), Row(page='NextSong', length=302.62812), Row(page='NextSong', length=322.14159), Row(page='NextSong', length=98.92526), Row(page='NextSong', length=559.82975), Row(page='NextSong', length=518.63465), Row(page='NextSong', length=159.13751), Row(page='NextSong', length=109.94893), Row(page='NextSong', length=149.05424), Row(page='NextSong', length=278.282), Row(page='NextSong', length=159.58159), Row(page='NextSong', length=247.19628), Row(page='NextSong', length=193.93261), Row(page='NextSong', length=194.97751), Row(page='NextSong', length=138.89261), Row(page='NextSong', length=198.45179), Row(page='NextSong', length=118.15138), Row(page='NextSong', length=278.67383), Row(page='NextSong', length=118.9873), Row(page='NextSong', length=293.22404), Row(page='NextSong', length=77.94893), Row(page='NextSong', length=80.01261), Row(page='NextSong', length=329.40363), Row(page='NextSong', length=750.18404), Row(page='NextSong', length=324.04853), Row(page='NextSong', length=35.10812), Row(page='NextSong', length=241.97179), Row(page='NextSong', length=428.59057), Row(page='NextSong', length=475.50649), Row(page='NextSong', length=449.88036), Row(page='NextSong', length=451.81342), Row(page='NextSong', length=329.27302), Row(page='NextSong', length=296.54159), Row(page='NextSong', length=215.95383), Row(page='NextSong', length=508.52526), Row(page='NextSong', length=322.11546), Row(page='NextSong', length=186.95791), Row(page='NextSong', length=589.63546), Row(page='NextSong', length=602.30485), Row(page='NextSong', length=465.81506), Row(page='NextSong', length=548.362), Row(page='NextSong', length=481.07057), Row(page='NextSong', length=395.49342), Row(page='NextSong', length=150.09914), Row(page='NextSong', length=340.89751), Row(page='NextSong', length=383.84281), Row(page='NextSong', length=121.39057), Row(page='NextSong', length=85.21098), Row(page='NextSong', length=454.05995), Row(page='NextSong', length=693.68118), Row(page='NextSong', length=111.41179), Row(page='NextSong', length=58.27873), Row(page='NextSong', length=100.51873), Row(page='NextSong', length=110.68036), Row(page='NextSong', length=360.93342), Row(page='NextSong', length=381.85751), Row(page='NextSong', length=17.97179), Row(page='NextSong', length=547.00363), Row(page='NextSong', length=923.76771), Row(page='NextSong', length=74.21342), Row(page='NextSong', length=320.83546), Row(page='NextSong', length=246.9873), Row(page='NextSong', length=205.76608), Row(page='NextSong', length=260.25751), Row(page='NextSong', length=182.02077), Row(page='NextSong', length=184.60689), Row(page='NextSong', length=115.35628), Row(page='NextSong', length=263.36608), Row(page='NextSong', length=283.01016), Row(page='NextSong', length=224.54812), Row(page='NextSong', length=179.30404), Row(page='NextSong', length=323.5522), Row(page='NextSong', length=340.16608), Row(page='NextSong', length=144.43057), Row(page='NextSong', length=318.64118), Row(page='NextSong', length=267.38893), Row(page='NextSong', length=192.78322), Row(page='NextSong', length=168.54159), Row(page='NextSong', length=597.55057), Row(page='NextSong', length=375.84934), Row(page='NextSong', length=189.04771), Row(page='NextSong', length=217.44281), Row(page='NextSong', length=74.52689), Row(page='NextSong', length=241.10975), Row(page='NextSong', length=365.50485), Row(page='NextSong', length=219.14077), Row(page='NextSong', length=133.79873), Row(page='NextSong', length=180.76689), Row(page='NextSong', length=227.29098), Row(page='NextSong', length=251.24526), Row(page='NextSong', length=261.61587), Row(page='NextSong', length=132.30975), Row(page='NextSong', length=266.68363), Row(page='NextSong', length=411.27138), Row(page='NextSong', length=177.18812), Row(page='NextSong', length=295.44444), Row(page='NextSong', length=413.17832), Row(page='NextSong', length=170.9971), Row(page='NextSong', length=343.2224), Row(page='NextSong', length=275.98322), Row(page='NextSong', length=212.47955), Row(page='NextSong', length=426.10893), Row(page='NextSong', length=169.11628), Row(page='NextSong', length=285.23057), Row(page='NextSong', length=312.94649), Row(page='NextSong', length=322.84689), Row(page='NextSong', length=342.62159), Row(page='NextSong', length=422.45179), Row(page='NextSong', length=726.20363), Row(page='NextSong', length=355.44771), Row(page='NextSong', length=97.4624), Row(page='NextSong', length=170.44853), Row(page='NextSong', length=321.90649), Row(page='NextSong', length=512.36526), Row(page='NextSong', length=308.74077), Row(page='NextSong', length=498.23302), Row(page='NextSong', length=73.37751), Row(page='NextSong', length=93.33506), Row(page='NextSong', length=355.29098), Row(page='NextSong', length=584.9073), Row(page='NextSong', length=153.49506), Row(page='NextSong', length=338.15465), Row(page='NextSong', length=615.41832), Row(page='NextSong', length=369.21424), Row(page='NextSong', length=47.56853), Row(page='NextSong', length=451.23873), Row(page='NextSong', length=421.0673), Row(page='NextSong', length=342.07302), Row(page='NextSong', length=491.04934), Row(page='NextSong', length=793.15546), Row(page='NextSong', length=581.95546), Row(page='NextSong', length=10.52689), Row(page='NextSong', length=320.57424), Row(page='NextSong', length=274.88608), Row(page='NextSong', length=230.81751), Row(page='NextSong', length=1400.2673), Row(page='NextSong', length=297.89995), Row(page='NextSong', length=263.8624), Row(page='NextSong', length=490.60526), Row(page='NextSong', length=350.01424), Row(page='NextSong', length=206.99383), Row(page='NextSong', length=251.27138), Row(page='NextSong', length=232.75057), Row(page='NextSong', length=157.962), Row(page='NextSong', length=199.67955), Row(page='NextSong', length=330.762), Row(page='NextSong', length=270.2624), Row(page='NextSong', length=229.58975), Row(page='NextSong', length=246.30812), Row(page='NextSong', length=201.9522), Row(page='NextSong', length=214.5171), Row(page='NextSong', length=208.43057), Row(page='NextSong', length=185.62567), Row(page='NextSong', length=228.49261), Row(page='NextSong', length=78.88934), Row(page='NextSong', length=234.65751), Row(page='NextSong', length=215.92771), Row(page='NextSong', length=218.09587), Row(page='NextSong', length=241.47546), Row(page='NextSong', length=217.83465), Row(page='NextSong', length=303.93424), Row(page='NextSong', length=189.54404), Row(page='NextSong', length=59.68934), Row(page='NextSong', length=389.48526), Row(page='NextSong', length=302.10567), Row(page='NextSong', length=131.44771), Row(page='NextSong', length=248.81587), Row(page='NextSong', length=134.86975), Row(page='NextSong', length=157.25669), Row(page='NextSong', length=371.06893), Row(page='NextSong', length=366.44526), Row(page='NextSong', length=262.16444), Row(page='NextSong', length=380.99546), Row(page='NextSong', length=352.522), Row(page='NextSong', length=178.83383), Row(page='NextSong', length=323.52608), Row(page='NextSong', length=104.12363), Row(page='NextSong', length=416.44363), Row(page='NextSong', length=207.96036), Row(page='NextSong', length=321.77587), Row(page='NextSong', length=555.75465), Row(page='NextSong', length=214.59546), Row(page='NextSong', length=195.36934), Row(page='NextSong', length=137.56036), Row(page='NextSong', length=302.81098), Row(page='NextSong', length=163.26485), Row(page='NextSong', length=525.26975), Row(page='NextSong', length=207.43791), Row(page='NextSong', length=96.13016), Row(page='NextSong', length=256.54812), Row(page='NextSong', length=252.42077), Row(page='NextSong', length=282.17424), Row(page='NextSong', length=306.9122), Row(page='NextSong', length=153.18159), Row(page='NextSong', length=252.65587), Row(page='NextSong', length=146.33751), Row(page='NextSong', length=313.18159), Row(page='NextSong', length=1058.89914), Row(page='NextSong', length=155.24526), Row(page='NextSong', length=284.96934), Row(page='NextSong', length=458.31791), Row(page='NextSong', length=100.15302), Row(page='NextSong', length=225.43628), Row(page='NextSong', length=356.04853), Row(page='NextSong', length=325.19791), Row(page='NextSong', length=790.282), Row(page='NextSong', length=77.16526), Row(page='NextSong', length=151.14404), Row(page='NextSong', length=113.91955), Row(page='NextSong', length=337.81506), Row(page='NextSong', length=13.42649), Row(page='NextSong', length=350.71955), Row(page='NextSong', length=319.45098), Row(page='NextSong', length=539.66322), Row(page='NextSong', length=637.3873), Row(page='NextSong', length=381.88363), Row(page='NextSong', length=586.70975), Row(page='NextSong', length=459.10159), Row(page='NextSong', length=418.79465), Row(page='NextSong', length=453.58975), Row(page='NextSong', length=449.98485), Row(page='NextSong', length=86.54322), Row(page='NextSong', length=201.06404), Row(page='NextSong', length=311.84934), Row(page='NextSong', length=153.80853), Row(page='NextSong', length=267.98975), Row(page='NextSong', length=437.31546), Row(page='NextSong', length=162.97751), Row(page='NextSong', length=139.65016), Row(page='NextSong', length=256.83546), Row(page='NextSong', length=157.02159), Row(page='NextSong', length=149.21098), Row(page='NextSong', length=298.68363), Row(page='NextSong', length=349.54404), Row(page='NextSong', length=235.7024), Row(page='NextSong', length=255.26812), Row(page='NextSong', length=294.97424), Row(page='NextSong', length=193.67138), Row(page='NextSong', length=275.30404), Row(page='NextSong', length=250.61832), Row(page='NextSong', length=285.30893), Row(page='NextSong', length=189.3873), Row(page='NextSong', length=376.65914), Row(page='NextSong', length=356.49261), Row(page='NextSong', length=184.58077), Row(page='NextSong', length=209.94567), Row(page='NextSong', length=286.58893), Row(page='NextSong', length=214.96118), Row(page='NextSong', length=295.73179), Row(page='NextSong', length=170.03057), Row(page='NextSong', length=136.98567), Row(page='NextSong', length=399.20281), Row(page='NextSong', length=148.21832), Row(page='NextSong', length=447.81669), Row(page='NextSong', length=356.72771), Row(page='NextSong', length=91.84608), Row(page='NextSong', length=162.08934), Row(page='NextSong', length=227.86567), Row(page='NextSong', length=269.81832), Row(page='NextSong', length=94.58893), Row(page='NextSong', length=84.1922), Row(page='NextSong', length=217.59955), Row(page='NextSong', length=94.95465), Row(page='NextSong', length=271.17669), Row(page='NextSong', length=65.01832), Row(page='NextSong', length=67.47383), Row(page='NextSong', length=359.10485), Row(page='NextSong', length=306.62485), Row(page='NextSong', length=394.52689), Row(page='NextSong', length=1026.5073), Row(page='NextSong', length=32.78322), Row(page='NextSong', length=133.11955), Row(page='NextSong', length=81.97179), Row(page='NextSong', length=418.66404), Row(page='NextSong', length=109.97506), Row(page='NextSong', length=94.56281), Row(page='NextSong', length=509.59628), Row(page='NextSong', length=528.40444), Row(page='NextSong', length=432.5873), Row(page='NextSong', length=401.60608), Row(page='NextSong', length=81.05751), Row(page='NextSong', length=410.77506), Row(page='NextSong', length=384.88771), Row(page='NextSong', length=18.99057), Row(page='NextSong', length=343.64036), Row(page='NextSong', length=438.38649), Row(page='NextSong', length=41.84771), Row(page='NextSong', length=88.89424), Row(page='NextSong', length=367.67302), Row(page='NextSong', length=91.11465), Row(page='NextSong', length=63.89506), Row(page='NextSong', length=249.18159), Row(page='NextSong', length=408.60689), Row(page='NextSong', length=289.43628), Row(page='NextSong', length=233.89995), Row(page='NextSong', length=298.762), Row(page='NextSong', length=216.60689), Row(page='NextSong', length=167.41832), Row(page='NextSong', length=147.74812), Row(page='NextSong', length=335.0722), Row(page='NextSong', length=207.80363), Row(page='NextSong', length=238.15791), Row(page='NextSong', length=237.71383), Row(page='NextSong', length=212.58404), Row(page='NextSong', length=207.49016), Row(page='NextSong', length=231.91465), Row(page='NextSong', length=188.47302), Row(page='NextSong', length=222.32771), Row(page='NextSong', length=590.81098), Row(page='NextSong', length=186.5922), Row(page='NextSong', length=225.69751), Row(page='NextSong', length=194.7424), Row(page='NextSong', length=411.53261), Row(page='NextSong', length=184.47628), Row(page='NextSong', length=93.67465), Row(page='NextSong', length=376.73751), Row(page='NextSong', length=272.48281), Row(page='NextSong', length=459.98975), Row(page='NextSong', length=207.28118), Row(page='NextSong', length=350.40608), Row(page='NextSong', length=161.17506), Row(page='NextSong', length=127.34649), Row(page='NextSong', length=493.21751), Row(page='NextSong', length=221.51791), Row(page='NextSong', length=297.61261), Row(page='NextSong', length=88.13669), Row(page='NextSong', length=457.35138), Row(page='NextSong', length=283.34975), Row(page='NextSong', length=91.01016), Row(page='NextSong', length=367.09832), Row(page='NextSong', length=141.89669), Row(page='NextSong', length=533.39383), Row(page='NextSong', length=430.07955), Row(page='NextSong', length=440.05832), Row(page='NextSong', length=157.90975), Row(page='NextSong', length=124.60363), Row(page='NextSong', length=185.86077), Row(page='NextSong', length=552.64608), Row(page='NextSong', length=190.01424), Row(page='NextSong', length=172.61669), Row(page='NextSong', length=328.51546), Row(page='NextSong', length=522.762), Row(page='NextSong', length=513.67138), Row(page='NextSong', length=251.68934), Row(page='NextSong', length=331.04934), Row(page='NextSong', length=53.60281), Row(page='NextSong', length=247.03955), Row(page='NextSong', length=12.30322), Row(page='NextSong', length=99.73506), Row(page='NextSong', length=342.25587), Row(page='NextSong', length=521.56036), Row(page='NextSong', length=471.03955), Row(page='NextSong', length=262.86975), Row(page='NextSong', length=380.13342), Row(page='NextSong', length=483.44771), Row(page='NextSong', length=79.75138), Row(page='NextSong', length=571.19302), Row(page='NextSong', length=54.282), Row(page='NextSong', length=370.05016), Row(page='NextSong', length=376.76363), Row(page='NextSong', length=2732.2771), Row(page='NextSong', length=383.50322), Row(page='NextSong', length=154.06975), Row(page='NextSong', length=568.16281), Row(page='NextSong', length=369.91955), Row(page='NextSong', length=418.97751), Row(page='NextSong', length=213.52444), Row(page='NextSong', length=783.25506), Row(page='NextSong', length=303.96036), Row(page='NextSong', length=281.59955), Row(page='NextSong', length=265.61261), Row(page='NextSong', length=215.562), Row(page='NextSong', length=96.522), Row(page='NextSong', length=357.27628), Row(page='NextSong', length=248.0322), Row(page='NextSong', length=229.3024), Row(page='NextSong', length=464.32608), Row(page='NextSong', length=288.20853), Row(page='NextSong', length=186.40934), Row(page='NextSong', length=212.68853), Row(page='NextSong', length=266.26567), Row(page='NextSong', length=265.482), Row(page='NextSong', length=506.5922), Row(page='NextSong', length=260.72771), Row(page='NextSong', length=201.22077), Row(page='NextSong', length=213.34159), Row(page='NextSong', length=228.54485), Row(page='NextSong', length=193.04444), Row(page='NextSong', length=206.78485), Row(page='NextSong', length=161.56689), Row(page='NextSong', length=282.30485), Row(page='NextSong', length=213.02812), Row(page='NextSong', length=355.5522), Row(page='NextSong', length=254.14485), Row(page='NextSong', length=329.87383), Row(page='NextSong', length=242.57261), Row(page='NextSong', length=143.96036), Row(page='NextSong', length=191.26812), Row(page='NextSong', length=297.29914), Row(page='NextSong', length=223.29424), Row(page='NextSong', length=368.50893), Row(page='NextSong', length=138.86649), Row(page='NextSong', length=244.76689), Row(page='NextSong', length=329.74322), Row(page='NextSong', length=457.42975), Row(page='NextSong', length=242.442), Row(page='NextSong', length=275.19955), Row(page='NextSong', length=178.54649), Row(page='NextSong', length=86.25587), Row(page='NextSong', length=255.03302), Row(page='NextSong', length=40.72444), Row(page='NextSong', length=18.49424), Row(page='NextSong', length=321.35791), Row(page='NextSong', length=74.57914), Row(page='NextSong', length=169.97832), Row(page='NextSong', length=699.89832), Row(page='NextSong', length=120.37179), Row(page='NextSong', length=110.54975), Row(page='NextSong', length=302.36689), Row(page='NextSong', length=84.11383), Row(page='NextSong', length=412.39465), Row(page='NextSong', length=141.68771), Row(page='NextSong', length=644.23138), Row(page='NextSong', length=369.37098), Row(page='NextSong', length=32.88771), Row(page='NextSong', length=166.08608), Row(page='NextSong', length=201.61261), Row(page='NextSong', length=463.20281), Row(page='NextSong', length=386.35057), Row(page='NextSong', length=293.90322), Row(page='NextSong', length=39.28771), Row(page='NextSong', length=56.842), Row(page='NextSong', length=455.10485), Row(page='NextSong', length=621.97506), Row(page='NextSong', length=493.89669), Row(page='NextSong', length=101.90322), Row(page='NextSong', length=55.48363), Row(page='NextSong', length=111.17669), Row(page='NextSong', length=426.84036), Row(page='NextSong', length=377.67791), Row(page='NextSong', length=333.29587), Row(page='NextSong', length=93.3873), Row(page='NextSong', length=218.5922), Row(page='NextSong', length=238.49751), Row(page='NextSong', length=71.70567), Row(page='NextSong', length=246.56934), Row(page='NextSong', length=191.03302), Row(page='NextSong', length=243.12118), Row(page='NextSong', length=158.92853), Row(page='NextSong', length=181.83791), Row(page='NextSong', length=288.83546), Row(page='NextSong', length=252.49914), Row(page='NextSong', length=182.59546), Row(page='NextSong', length=217.0771), Row(page='NextSong', length=203.67628), Row(page='NextSong', length=226.19383), Row(page='NextSong', length=300.93016), Row(page='NextSong', length=227.36934), Row(page='NextSong', length=136.35873), Row(page='NextSong', length=231.20934), Row(page='NextSong', length=399.15057), Row(page='NextSong', length=319.84281), Row(page='NextSong', length=295.54893), Row(page='NextSong', length=287.00689), Row(page='NextSong', length=424.69832), Row(page='NextSong', length=300.69506), Row(page='NextSong', length=333.50485), Row(page='NextSong', length=258.71628), Row(page='NextSong', length=188.89098), Row(page='NextSong', length=265.40363), Row(page='NextSong', length=610.01098), Row(page='NextSong', length=452.57098), Row(page='NextSong', length=123.53261), Row(page='NextSong', length=142.07955), Row(page='NextSong', length=373.78567), Row(page='NextSong', length=396.64281), Row(page='NextSong', length=436.79302), Row(page='NextSong', length=81.94567), Row(page='NextSong', length=325.98159), Row(page='NextSong', length=328.69832), Row(page='NextSong', length=519.47057), Row(page='NextSong', length=561.97179), Row(page='NextSong', length=355.76118), Row(page='NextSong', length=214.41261), Row(page='NextSong', length=153.62567), Row(page='NextSong', length=327.33995), Row(page='NextSong', length=126.79791), Row(page='NextSong', length=572.29016), Row(page='NextSong', length=1314.48118), Row(page='NextSong', length=361.9522), Row(page='NextSong', length=265.69098), Row(page='NextSong', length=328.30649), Row(page='NextSong', length=113.162), Row(page='NextSong', length=366.2624), Row(page='NextSong', length=387.36934), Row(page='NextSong', length=58.48771), Row(page='NextSong', length=417.27955), Row(page='NextSong', length=407.09179), Row(page='NextSong', length=484.25751), Row(page='NextSong', length=128.67873), Row(page='NextSong', length=333.19138), Row(page='NextSong', length=282.87955), Row(page='NextSong', length=58.64444), Row(page='NextSong', length=56.94649), Row(page='NextSong', length=519.96689), Row(page='NextSong', length=299.59791), Row(page='NextSong', length=421.17179), Row(page='NextSong', length=116.03546), Row(page='NextSong', length=522.00444), Row(page='NextSong', length=488.69832), Row(page='NextSong', length=207.93424), Row(page='NextSong', length=551.6273), Row(page='NextSong', length=211.722), Row(page='NextSong', length=457.482), Row(page='NextSong', length=385.85424), Row(page='NextSong', length=260.5971), Row(page='NextSong', length=271.59465), Row(page='NextSong', length=240.79628), Row(page='NextSong', length=245.41995), Row(page='NextSong', length=169.66485), Row(page='NextSong', length=187.95057), Row(page='NextSong', length=274.28526), Row(page='NextSong', length=180.63628), Row(page='NextSong', length=233.35138), Row(page='NextSong', length=489.74322), Row(page='NextSong', length=263.96689), Row(page='NextSong', length=152.73751), Row(page='NextSong', length=205.71383), Row(page='NextSong', length=307.25179), Row(page='NextSong', length=306.31138), Row(page='NextSong', length=381.36118), Row(page='NextSong', length=163.13424), Row(page='NextSong', length=367.15057), Row(page='NextSong', length=185.12934), Row(page='NextSong', length=48.90077), Row(page='NextSong', length=823.64036), Row(page='NextSong', length=167.07873), Row(page='NextSong', length=455.44444), Row(page='NextSong', length=273.8673), Row(page='NextSong', length=291.65669), Row(page='NextSong', length=104.80281), Row(page='NextSong', length=106.05669), Row(page='NextSong', length=1373.6224), Row(page='NextSong', length=326.16444), Row(page='NextSong', length=142.65424), Row(page='NextSong', length=308.29669), Row(page='NextSong', length=117.08036), Row(page='NextSong', length=348.42077), Row(page='NextSong', length=397.40036), Row(page='NextSong', length=332.042), Row(page='NextSong', length=111.56853), Row(page='NextSong', length=142.88934), Row(page='NextSong', length=251.74159), Row(page='NextSong', length=599.69261), Row(page='NextSong', length=1131.4673), Row(page='NextSong', length=452.04853), Row(page='NextSong', length=667.0624), Row(page='NextSong', length=347.32363), Row(page='NextSong', length=348.78649), Row(page='NextSong', length=342.72608), Row(page='NextSong', length=472.39791), Row(page='NextSong', length=162.40281), Row(page='NextSong', length=543.08526), Row(page='NextSong', length=404.40118), Row(page='NextSong', length=383.65995), Row(page='NextSong', length=401.44934), Row(page='NextSong', length=348.21179), Row(page='NextSong', length=456.80281), Row(page='NextSong', length=420.49261), Row(page='NextSong', length=373.002), Row(page='NextSong', length=655.51628), Row(page='NextSong', length=75.75465), Row(page='NextSong', length=26.04363), Row(page='NextSong', length=185.18159), Row(page='NextSong', length=314.33098), Row(page='NextSong', length=488.54159), Row(page='NextSong', length=664.92036), Row(page='NextSong', length=15.22893), Row(page='NextSong', length=402.442), Row(page='NextSong', length=464.43057), Row(page='NextSong', length=138.10893), Row(page='NextSong', length=429.37424), Row(page='NextSong', length=156.76036), Row(page='NextSong', length=50.15465), Row(page='NextSong', length=379.42812), Row(page='NextSong', length=53.002), Row(page='NextSong', length=262.71302), Row(page='NextSong', length=141.322), Row(page='NextSong', length=267.67628), Row(page='NextSong', length=203.12771), Row(page='NextSong', length=221.85751), Row(page='NextSong', length=380.89098), Row(page='NextSong', length=175.15057), Row(page='NextSong', length=241.78893), Row(page='NextSong', length=276.06159), Row(page='NextSong', length=75.7024), Row(page='NextSong', length=214.72608), Row(page='NextSong', length=237.40036), Row(page='NextSong', length=527.41179), Row(page='NextSong', length=217.3122), Row(page='NextSong', length=391.8624), Row(page='NextSong', length=138.00444), Row(page='NextSong', length=253.51791), Row(page='NextSong', length=470.72608), Row(page='NextSong', length=286.22322), Row(page='NextSong', length=314.20036), Row(page='NextSong', length=202.50077), Row(page='NextSong', length=872.51546), Row(page='NextSong', length=365.00853), Row(page='NextSong', length=242.31138), Row(page='NextSong', length=309.21098), Row(page='NextSong', length=90.64444), Row(page='NextSong', length=286.48444), Row(page='NextSong', length=160.88771), Row(page='NextSong', length=234.68363), Row(page='NextSong', length=221.57016), Row(page='NextSong', length=101.92934), Row(page='NextSong', length=151.30077), Row(page='NextSong', length=229.61587), Row(page='NextSong', length=294.32118), Row(page='NextSong', length=470.5171), Row(page='NextSong', length=284.55138), Row(page='NextSong', length=221.3873), Row(page='NextSong', length=337.05751), Row(page='NextSong', length=478.61506), Row(page='NextSong', length=137.87383), Row(page='NextSong', length=254.87628), Row(page='NextSong', length=185.36444), Row(page='NextSong', length=383.9473), Row(page='NextSong', length=152.89424), Row(page='NextSong', length=276.71465), Row(page='NextSong', length=278.80444), Row(page='NextSong', length=383.68608), Row(page='NextSong', length=105.45587), Row(page='NextSong', length=59.66322), Row(page='NextSong', length=130.92526), Row(page='NextSong', length=287.79057), Row(page='NextSong', length=446.27546), Row(page='NextSong', length=135.18322), Row(page='NextSong', length=316.55138), Row(page='NextSong', length=117.65506), Row(page='NextSong', length=411.45424), Row(page='NextSong', length=171.12771), Row(page='NextSong', length=411.92444), Row(page='NextSong', length=361.03791), Row(page='NextSong', length=348.1073), Row(page='NextSong', length=397.37424), Row(page='NextSong', length=112.92689), Row(page='NextSong', length=475.14077), Row(page='NextSong', length=547.47383), Row(page='NextSong', length=177.47546), Row(page='NextSong', length=261.38077), Row(page='NextSong', length=360.14975), Row(page='NextSong', length=680.25424), Row(page='NextSong', length=116.13995), Row(page='NextSong', length=101.8771), Row(page='NextSong', length=465.13587), Row(page='NextSong', length=436.76689), Row(page='NextSong', length=434.54649), Row(page='NextSong', length=839.00036), Row(page='NextSong', length=312.71138), Row(page='NextSong', length=505.44281), Row(page='NextSong', length=59.19302), Row(page='NextSong', length=329.32526), Row(page='NextSong', length=220.96934), Row(page='NextSong', length=188.55138), Row(page='NextSong', length=199.78404), Row(page='NextSong', length=264.01914), Row(page='NextSong', length=196.41424), Row(page='NextSong', length=290.24608), Row(page='NextSong', length=256.60036), Row(page='NextSong', length=190.27546), Row(page='NextSong', length=304.03873), Row(page='NextSong', length=205.00853), Row(page='NextSong', length=263.41832), Row(page='NextSong', length=148.87138), Row(page='NextSong', length=203.57179), Row(page='NextSong', length=275.01669), Row(page='NextSong', length=186.77506), Row(page='NextSong', length=128.54812), Row(page='NextSong', length=222.27546), Row(page='NextSong', length=172.17261), Row(page='NextSong', length=162.37669), Row(page='NextSong', length=270.81098), Row(page='NextSong', length=365.94893), Row(page='NextSong', length=169.89995), Row(page='NextSong', length=328.80281), Row(page='NextSong', length=211.3824), Row(page='NextSong', length=308.81914), Row(page='NextSong', length=275.35628), Row(page='NextSong', length=328.4371), Row(page='NextSong', length=292.67546), Row(page='NextSong', length=202.70975), Row(page='NextSong', length=170.73587), Row(page='NextSong', length=279.87546), Row(page='NextSong', length=611.89179), Row(page='NextSong', length=224.02567), Row(page='NextSong', length=97.802), Row(page='NextSong', length=233.66485), Row(page='NextSong', length=459.91138), Row(page='NextSong', length=434.9122), Row(page='NextSong', length=356.77995), Row(page='NextSong', length=322.06322), Row(page='NextSong', length=286.98077), Row(page='NextSong', length=256.57424), Row(page='NextSong', length=480.46975), Row(page='NextSong', length=200.14975), Row(page='NextSong', length=307.33016), Row(page='NextSong', length=294.21669), Row(page='NextSong', length=121.93914), Row(page='NextSong', length=351.7122), Row(page='NextSong', length=182.96118), Row(page='NextSong', length=153.02485), Row(page='NextSong', length=378.85342), Row(page='NextSong', length=401.91955), Row(page='NextSong', length=410.72281), Row(page='NextSong', length=584.25424), Row(page='NextSong', length=276.27057), Row(page='NextSong', length=398.21016), Row(page='NextSong', length=658.96444), Row(page='NextSong', length=551.00036), Row(page='NextSong', length=449.67138), Row(page='NextSong', length=483.21261), Row(page='NextSong', length=105.63873), Row(page='NextSong', length=405.13261), Row(page='NextSong', length=395.20608), Row(page='NextSong', length=546.97751), Row(page='NextSong', length=645.61587), Row(page='NextSong', length=64.46975), Row(page='NextSong', length=476.08118), Row(page='NextSong', length=445.57016), Row(page='NextSong', length=469.05424), Row(page='NextSong', length=527.56853), Row(page='NextSong', length=114.25914), Row(page='NextSong', length=448.54812), Row(page='NextSong', length=585.24689), Row(page='NextSong', length=294.19057), Row(page='NextSong', length=335.41179), Row(page='NextSong', length=279.2224), Row(page='NextSong', length=269.24363), Row(page='NextSong', length=365.42649), Row(page='NextSong', length=442.09587), Row(page='NextSong', length=372.61016), Row(page='NextSong', length=18.02404), Row(page='NextSong', length=23.11791), Row(page='NextSong', length=194.01098), Row(page='NextSong', length=259.49995), Row(page='NextSong', length=323.34322), Row(page='NextSong', length=234.52689), Row(page='NextSong', length=166.89587), Row(page='NextSong', length=347.37587), Row(page='NextSong', length=278.46485), Row(page='NextSong', length=141.26975), Row(page='NextSong', length=415.58159), Row(page='NextSong', length=243.90485), Row(page='NextSong', length=23.2224), Row(page='NextSong', length=190.35383), Row(page='NextSong', length=257.12281), Row(page='NextSong', length=226.24608), Row(page='NextSong', length=474.04363), Row(page='NextSong', length=273.10975), Row(page='NextSong', length=232.6722), Row(page='NextSong', length=132.96281), Row(page='NextSong', length=525.16526), Row(page='NextSong', length=171.04934), Row(page='NextSong', length=112.53506), Row(page='NextSong', length=248.05832), Row(page='NextSong', length=246.49098), Row(page='NextSong', length=130.58567), Row(page='NextSong', length=257.20118), Row(page='NextSong', length=197.56363), Row(page='NextSong', length=278.90893), Row(page='NextSong', length=248.42404), Row(page='NextSong', length=230.55628), Row(page='NextSong', length=175.59465), Row(page='NextSong', length=238.57587), Row(page='NextSong', length=364.64281), Row(page='NextSong', length=194.35057), Row(page='NextSong', length=194.16771), Row(page='NextSong', length=143.72526), Row(page='NextSong', length=190.6673), Row(page='NextSong', length=177.57995), Row(page='NextSong', length=155.79383), Row(page='NextSong', length=272.92689), Row(page='NextSong', length=422.32118), Row(page='NextSong', length=332.90404), Row(page='NextSong', length=342.282), Row(page='NextSong', length=362.762), Row(page='NextSong', length=176.40444), Row(page='NextSong', length=101.56363), Row(page='NextSong', length=335.62077), Row(page='NextSong', length=178.59873), Row(page='NextSong', length=375.562), Row(page='NextSong', length=145.18812), Row(page='NextSong', length=134.5824), Row(page='NextSong', length=483.47383), Row(page='NextSong', length=625.73669), Row(page='NextSong', length=392.93342), Row(page='NextSong', length=359.94077), Row(page='NextSong', length=515.18649), Row(page='NextSong', length=164.28363), Row(page='NextSong', length=93.90975), Row(page='NextSong', length=60.05506), Row(page='NextSong', length=131.91791), Row(page='NextSong', length=414.56281), Row(page='NextSong', length=149.41995), Row(page='NextSong', length=28.52526), Row(page='NextSong', length=357.11955), Row(page='NextSong', length=524.17261), Row(page='NextSong', length=722.96444), Row(page='NextSong', length=313.3122), Row(page='NextSong', length=523.10159), Row(page='NextSong', length=325.43302), Row(page='NextSong', length=307.46077), Row(page='NextSong', length=333.13914), Row(page='NextSong', length=312.11057), Row(page='NextSong', length=425.1424), Row(page='NextSong', length=237.81832), Row(page='NextSong', length=230.24281), Row(page='NextSong', length=493.5571), Row(page='NextSong', length=191.242), Row(page='NextSong', length=197.72036), Row(page='NextSong', length=280.18893), Row(page='NextSong', length=190.87628), Row(page='NextSong', length=234.91873), Row(page='NextSong', length=259.86567), Row(page='NextSong', length=182.12526), Row(page='NextSong', length=292.5971), Row(page='NextSong', length=235.25832), Row(page='NextSong', length=188.08118), Row(page='NextSong', length=190.64118), Row(page='NextSong', length=211.56526), Row(page='NextSong', length=421.48526), Row(page='NextSong', length=157.36118), Row(page='NextSong', length=255.73832), Row(page='NextSong', length=273.71057), Row(page='NextSong', length=229.09342), Row(page='NextSong', length=150.12526), Row(page='NextSong', length=464.40444), Row(page='NextSong', length=462.81098), Row(page='NextSong', length=244.47955), Row(page='NextSong', length=130.35057), Row(page='NextSong', length=375.69261), Row(page='NextSong', length=115.01669), Row(page='NextSong', length=168.30649), Row(page='NextSong', length=362.57914), Row(page='NextSong', length=388.51873), Row(page='NextSong', length=352.44363), Row(page='NextSong', length=355.91791), Row(page='NextSong', length=594.15465), Row(page='NextSong', length=189.17832), Row(page='NextSong', length=336.32608), Row(page='NextSong', length=155.55873), Row(page='NextSong', length=45.84444), Row(page='NextSong', length=95.34649), Row(page='NextSong', length=218.14812), Row(page='NextSong', length=308.4273), Row(page='NextSong', length=246.20363), Row(page='NextSong', length=167.26159), Row(page='NextSong', length=589.66159), Row(page='NextSong', length=121.52118), Row(page='NextSong', length=370.46812), Row(page='NextSong', length=309.05424), Row(page='NextSong', length=160.57424), Row(page='NextSong', length=296.33261), Row(page='NextSong', length=292.38812), Row(page='NextSong', length=452.25751), Row(page='NextSong', length=1605.79873), Row(page='NextSong', length=546.53342), Row(page='NextSong', length=365.19138), Row(page='NextSong', length=41.7171), Row(page='NextSong', length=523.75465), Row(page='NextSong', length=144.97914), Row(page='NextSong', length=62.69342), Row(page='NextSong', length=115.06893), Row(page='NextSong', length=413.1522), Row(page='NextSong', length=451.7873), Row(page='NextSong', length=394.26567), Row(page='NextSong', length=58.77506), Row(page='NextSong', length=124.42077), Row(page='NextSong', length=33.82812), Row(page='NextSong', length=79.04608), Row(page='NextSong', length=369.44934), Row(page='NextSong', length=101.72036), Row(page='NextSong', length=59.42812), Row(page='NextSong', length=387.18649), Row(page='NextSong', length=471.87546), Row(page='NextSong', length=349.07383), Row(page='NextSong', length=323.7873), Row(page='NextSong', length=488.56771), Row(page='NextSong', length=341.44608), Row(page='NextSong', length=25.23383), Row(page='NextSong', length=134.47791), Row(page='NextSong', length=346.3571), Row(page='NextSong', length=278.04689), Row(page='NextSong', length=161.72363), Row(page='NextSong', length=423.41832), Row(page='NextSong', length=193.82812), Row(page='NextSong', length=229.56363), Row(page='NextSong', length=469.31546), Row(page='NextSong', length=186.87955), Row(page='NextSong', length=409.5473), Row(page='NextSong', length=237.92281), Row(page='NextSong', length=200.85506), Row(page='NextSong', length=204.45995), Row(page='NextSong', length=322.71628), Row(page='NextSong', length=254.58893), Row(page='NextSong', length=263.13098), Row(page='NextSong', length=221.07383), Row(page='NextSong', length=391.26159), Row(page='NextSong', length=356.8322), Row(page='NextSong', length=199.60118), Row(page='NextSong', length=135.13098), Row(page='NextSong', length=349.77914), Row(page='NextSong', length=268.40771), Row(page='NextSong', length=405.78567), Row(page='NextSong', length=205.87057), Row(page='NextSong', length=658.31138), Row(page='NextSong', length=156.60363), Row(page='NextSong', length=400.01261), Row(page='NextSong', length=265.22077), Row(page='NextSong', length=172.30322), Row(page='NextSong', length=213.96853), Row(page='NextSong', length=177.99791), Row(page='NextSong', length=400.24771), Row(page='NextSong', length=213.36771), Row(page='NextSong', length=153.96526), Row(page='NextSong', length=218.25261), Row(page='NextSong', length=343.48363), Row(page='NextSong', length=392.07138), Row(page='NextSong', length=400.14322), Row(page='NextSong', length=412.73424), Row(page='NextSong', length=419.60444), Row(page='NextSong', length=314.3571), Row(page='NextSong', length=70.29506), Row(page='NextSong', length=292.46649), Row(page='NextSong', length=267.7024), Row(page='NextSong', length=430.73261), Row(page='NextSong', length=123.66322), Row(page='NextSong', length=167.75791), Row(page='NextSong', length=339.01669), Row(page='NextSong', length=385.20118), Row(page='NextSong', length=378.04363), Row(page='NextSong', length=61.83138), Row(page='NextSong', length=487.67955), Row(page='NextSong', length=368.63955), Row(page='NextSong', length=429.97506), Row(page='NextSong', length=127.63383), Row(page='NextSong', length=35.44771), Row(page='NextSong', length=532.55791), Row(page='NextSong', length=318.27546), Row(page='NextSong', length=434.05016), Row(page='NextSong', length=345.5473), Row(page='NextSong', length=154.77506), Row(page='NextSong', length=385.14893), Row(page='NextSong', length=384.80934), Row(page='NextSong', length=347.14077), Row(page='NextSong', length=389.32853), Row(page='NextSong', length=486.922), Row(page='NextSong', length=706.89914), Row(page='NextSong', length=349.64853), Row(page='NextSong', length=394.31791), Row(page='NextSong', length=458.03057), Row(page='NextSong', length=98.45506), Row(page='NextSong', length=371.64363), Row(page='NextSong', length=329.482), Row(page='NextSong', length=395.80689), Row(page='NextSong', length=441.7824), Row(page='NextSong', length=252.70812), Row(page='NextSong', length=217.52118), Row(page='NextSong', length=471.97995), Row(page='NextSong', length=208.1171), Row(page='NextSong', length=265.82159), Row(page='NextSong', length=158.30159), Row(page='NextSong', length=164.49261), Row(page='NextSong', length=277.83791), Row(page='NextSong', length=238.65424), Row(page='NextSong', length=222.06649), Row(page='NextSong', length=364.90404), Row(page='NextSong', length=141.73995), Row(page='NextSong', length=815.5424), Row(page='NextSong', length=174.78485), Row(page='NextSong', length=309.28934), Row(page='NextSong', length=148.47955), Row(page='NextSong', length=225.07057), Row(page='NextSong', length=349.57016), Row(page='NextSong', length=239.17669), Row(page='NextSong', length=429.47873), Row(page='NextSong', length=259.42159), Row(page='NextSong', length=452.91057), Row(page='NextSong', length=146.41587), Row(page='NextSong', length=322.24608), Row(page='NextSong', length=360.25424), Row(page='NextSong', length=233.53424), Row(page='NextSong', length=283.50649), Row(page='NextSong', length=171.72853), Row(page='NextSong', length=409.39057), Row(page='NextSong', length=196.77995), Row(page='NextSong', length=213.39383), Row(page='NextSong', length=165.61587), Row(page='NextSong', length=254.32771), Row(page='NextSong', length=358.32118), Row(page='NextSong', length=455.47057), Row(page='NextSong', length=212.06159), Row(page='NextSong', length=175.3073), Row(page='NextSong', length=161.61914), Row(page='NextSong', length=434.78159), Row(page='NextSong', length=373.99465), Row(page='NextSong', length=310.83057), Row(page='NextSong', length=330.57914), Row(page='NextSong', length=126.30159), Row(page='NextSong', length=148.89751), Row(page='NextSong', length=434.02404), Row(page='NextSong', length=226.79465), Row(page='NextSong', length=396.69506), Row(page='NextSong', length=285.59628), Row(page='NextSong', length=270.07955), Row(page='NextSong', length=509.12608), Row(page='NextSong', length=799.86893), Row(page='NextSong', length=108.61669), Row(page='NextSong', length=74.03057), Row(page='NextSong', length=340.55791), Row(page='NextSong', length=110.73261), Row(page='NextSong', length=331.75465), Row(page='NextSong', length=113.78893), Row(page='NextSong', length=116.94975), Row(page='NextSong', length=386.06322), Row(page='NextSong', length=446.87628), Row(page='NextSong', length=355.89179), Row(page='NextSong', length=332.7473), Row(page='NextSong', length=275.77424), Row(page='NextSong', length=399.25506), Row(page='NextSong', length=95.68608), Row(page='NextSong', length=504.99873), Row(page='NextSong', length=320.9922), Row(page='NextSong', length=525.47873), Row(page='NextSong', length=395.17995), Row(page='NextSong', length=90.77506), Row(page='NextSong', length=103.23546), Row(page='NextSong', length=47.3073), Row(page='NextSong', length=4.8322), Row(page='NextSong', length=47.09832), Row(page='NextSong', length=198.21669), Row(page='NextSong', length=261.69424), Row(page='NextSong', length=234.1873), Row(page='NextSong', length=225.85424), Row(page='NextSong', length=221.28281), Row(page='NextSong', length=346.04363), Row(page='NextSong', length=189.93587), Row(page='NextSong', length=303.46404), Row(page='NextSong', length=232.48934), Row(page='NextSong', length=252.3424), Row(page='NextSong', length=232.85506), Row(page='NextSong', length=107.15383), Row(page='NextSong', length=300.2771), Row(page='NextSong', length=272.32608), Row(page='NextSong', length=203.98975), Row(page='NextSong', length=389.22404), Row(page='NextSong', length=297.56036), Row(page='NextSong', length=291.83955), Row(page='NextSong', length=223.26812), Row(page='NextSong', length=153.46893), Row(page='NextSong', length=244.4273), Row(page='NextSong', length=273.81506), Row(page='NextSong', length=185.80853), Row(page='NextSong', length=164.51873), Row(page='NextSong', length=274.62485), Row(page='NextSong', length=291.91791), Row(page='NextSong', length=139.72853), Row(page='NextSong', length=203.51955), Row(page='NextSong', length=285.07383), Row(page='NextSong', length=303.09832), Row(page='NextSong', length=241.24036), Row(page='NextSong', length=169.58649), Row(page='NextSong', length=430.81098), Row(page='NextSong', length=152.18893), Row(page='NextSong', length=220.44689), Row(page='NextSong', length=198.5824), Row(page='NextSong', length=173.89669), Row(page='NextSong', length=295.31383), Row(page='NextSong', length=169.92608), Row(page='NextSong', length=129.41016), Row(page='NextSong', length=506.3571), Row(page='NextSong', length=520.54159), Row(page='NextSong', length=146.49424), Row(page='NextSong', length=503.74485), Row(page='NextSong', length=636.02893), Row(page='NextSong', length=162.69016), Row(page='NextSong', length=306.49424), Row(page='NextSong', length=165.92934), Row(page='NextSong', length=426.1873), Row(page='NextSong', length=420.98893), Row(page='NextSong', length=219.16689), Row(page='NextSong', length=151.17016), Row(page='NextSong', length=357.04118), Row(page='NextSong', length=131.60444), Row(page='NextSong', length=12.22485), Row(page='NextSong', length=184.52853), Row(page='NextSong', length=755.35628), Row(page='NextSong', length=116.47955), Row(page='NextSong', length=398.54975), Row(page='NextSong', length=595.56526), Row(page='NextSong', length=319.79057), Row(page='NextSong', length=296.9073), Row(page='NextSong', length=789.55057), Row(page='NextSong', length=323.00363), Row(page='NextSong', length=121.91302), Row(page='NextSong', length=512.78322), Row(page='NextSong', length=441.52118), Row(page='NextSong', length=127.13751), Row(page='NextSong', length=75.2322), Row(page='NextSong', length=167.96689), Row(page='NextSong', length=34.84689), Row(page='NextSong', length=75.4673), Row(page='NextSong', length=458.94485), Row(page='NextSong', length=167.33995), Row(page='NextSong', length=676.41424), Row(page='NextSong', length=428.19873), Row(page='NextSong', length=131.76118), Row(page='NextSong', length=435.90485), Row(page='NextSong', length=704.96608), Row(page='NextSong', length=543.7122), Row(page='NextSong', length=392.22812), Row(page='NextSong', length=471.19628), Row(page='NextSong', length=496.19546), Row(page='NextSong', length=72.98567), Row(page='NextSong', length=366.96771), Row(page='NextSong', length=401.71057), Row(page='NextSong', length=484.8322), Row(page='NextSong', length=607.81669), Row(page='NextSong', length=283.74159), Row(page='NextSong', length=208.5873), Row(page='NextSong', length=223.81669), Row(page='NextSong', length=314.67057), Row(page='NextSong', length=224.13016), Row(page='NextSong', length=342.49098), Row(page='NextSong', length=224.23465), Row(page='NextSong', length=210.83383), Row(page='NextSong', length=383.73832), Row(page='NextSong', length=285.17832), Row(page='NextSong', length=294.84363), Row(page='NextSong', length=351.37261), Row(page='NextSong', length=365.58322), Row(page='NextSong', length=242.46812), Row(page='NextSong', length=310.88281), Row(page='NextSong', length=262.19057), Row(page='NextSong', length=87.58812), Row(page='NextSong', length=211.27791), Row(page='NextSong', length=383.21587), Row(page='NextSong', length=63.26812), Row(page='NextSong', length=172.01587), Row(page='NextSong', length=252.60363), Row(page='NextSong', length=228.93669), Row(page='NextSong', length=288.522), Row(page='NextSong', length=243.80036), Row(page='NextSong', length=118.64771), Row(page='NextSong', length=279.35302), Row(page='NextSong', length=182.17751), Row(page='NextSong', length=225.33179), Row(page='NextSong', length=359.75791), Row(page='NextSong', length=120.18893), Row(page='NextSong', length=314.69669), Row(page='NextSong', length=312.5024), Row(page='NextSong', length=381.07383), Row(page='NextSong', length=389.74649), Row(page='NextSong', length=324.07465), Row(page='NextSong', length=173.50485), Row(page='NextSong', length=246.36036), Row(page='NextSong', length=295.36608), Row(page='NextSong', length=147.17342), Row(page='NextSong', length=153.28608), Row(page='NextSong', length=423.52281), Row(page='NextSong', length=173.47873), Row(page='NextSong', length=412.96934), Row(page='NextSong', length=385.56689), Row(page='NextSong', length=333.08689), Row(page='NextSong', length=448.9922), Row(page='NextSong', length=7.83628), Row(page='NextSong', length=83.64363), Row(page='NextSong', length=140.90404), Row(page='NextSong', length=1163.10159), Row(page='NextSong', length=73.58649), Row(page='NextSong', length=397.53098), Row(page='NextSong', length=106.81424), Row(page='NextSong', length=93.09995), Row(page='NextSong', length=431.22893), Row(page='NextSong', length=316.96934), Row(page='NextSong', length=58.22649), Row(page='NextSong', length=120.73751), Row(page='NextSong', length=86.5171), Row(page='NextSong', length=339.74812), Row(page='NextSong', length=306.6771), Row(page='NextSong', length=165.95546), Row(page='NextSong', length=321.88036), Row(page='NextSong', length=211.35628), Row(page='NextSong', length=251.55873), Row(page='NextSong', length=240.03873), Row(page='NextSong', length=261.17179), Row(page='NextSong', length=197.77261), Row(page='NextSong', length=734.77179), Row(page='NextSong', length=227.082), Row(page='NextSong', length=302.31465), Row(page='NextSong', length=634.38322), Row(page='NextSong', length=275.53914), Row(page='NextSong', length=138.37016), Row(page='NextSong', length=229.69424), Row(page='NextSong', length=196.15302), Row(page='NextSong', length=177.73669), Row(page='NextSong', length=167.6273), Row(page='NextSong', length=195.42159), Row(page='NextSong', length=171.25832), Row(page='NextSong', length=78.99383), Row(page='NextSong', length=479.81669), Row(page='NextSong', length=230.5824), Row(page='NextSong', length=116.71465), Row(page='NextSong', length=267.20608), Row(page='NextSong', length=168.77669), Row(page='NextSong', length=236.40771), Row(page='NextSong', length=261.51138), Row(page='NextSong', length=258.45506), Row(page='NextSong', length=305.89342), Row(page='NextSong', length=95.50322), Row(page='NextSong', length=373.55057), Row(page='NextSong', length=165.0673), Row(page='NextSong', length=135.81016), Row(page='NextSong', length=101.43302), Row(page='NextSong', length=221.77914), Row(page='NextSong', length=606.58893), Row(page='NextSong', length=306.18077), Row(page='NextSong', length=393.87383), Row(page='NextSong', length=316.18567), Row(page='NextSong', length=381.3873), Row(page='NextSong', length=209.89342), Row(page='NextSong', length=341.002), Row(page='NextSong', length=400.03873), Row(page='NextSong', length=618.29179), Row(page='NextSong', length=418.92526), Row(page='NextSong', length=546.2722), Row(page='NextSong', length=464.03873), Row(page='NextSong', length=430.94159), Row(page='NextSong', length=34.35057), Row(page='NextSong', length=78.73261), Row(page='NextSong', length=347.0624), Row(page='NextSong', length=81.99791), Row(page='NextSong', length=130.66404), Row(page='NextSong', length=66.55955), Row(page='NextSong', length=399.93424), Row(page='NextSong', length=142.44526), Row(page='NextSong', length=342.77832), Row(page='NextSong', length=437.44608), Row(page='NextSong', length=509.30893), Row(page='NextSong', length=422.86975), Row(page='NextSong', length=536.11057), Row(page='NextSong', length=107.04934), Row(page='NextSong', length=334.86322), Row(page='NextSong', length=132.10077), Row(page='NextSong', length=354.06322), Row(page='NextSong', length=455.73179), Row(page='NextSong', length=533.05424), Row(page='NextSong', length=133.66812), Row(page='NextSong', length=113.34485), Row(page='NextSong', length=574.56281), Row(page='NextSong', length=120.0322), Row(page='NextSong', length=486.63465), Row(page='NextSong', length=567.7971), Row(page='NextSong', length=511.39873), Row(page='NextSong', length=57.36444), Row(page='NextSong', length=178.15465), Row(page='NextSong', length=210.88608), Row(page='NextSong', length=334.13179), Row(page='NextSong', length=167.3922), Row(page='NextSong', length=159.03302), Row(page='NextSong', length=149.78567), Row(page='NextSong', length=341.26322), Row(page='NextSong', length=230.63465), Row(page='NextSong', length=180.11383), Row(page='NextSong', length=362.70975), Row(page='NextSong', length=167.91465), Row(page='NextSong', length=242.75546), Row(page='NextSong', length=220.00281), Row(page='NextSong', length=239.80363), Row(page='NextSong', length=182.77832), Row(page='NextSong', length=300.12036), Row(page='NextSong', length=352.9922), Row(page='NextSong', length=82.15465), Row(page='NextSong', length=316.36853), Row(page='NextSong', length=356.20526), Row(page='NextSong', length=158.58893), Row(page='NextSong', length=76.38159), Row(page='NextSong', length=147.46077), Row(page='NextSong', length=443.08853), Row(page='NextSong', length=266.4224), Row(page='NextSong', length=247.50975), Row(page='NextSong', length=486.97424), Row(page='NextSong', length=297.32526), Row(page='NextSong', length=337.18812), Row(page='NextSong', length=285.12608), Row(page='NextSong', length=281.39057), Row(page='NextSong', length=320.86159), Row(page='NextSong', length=175.77751), Row(page='NextSong', length=371.59138), Row(page='NextSong', length=417.98485), Row(page='NextSong', length=223.08526), Row(page='NextSong', length=376.99873), Row(page='NextSong', length=65.85424), Row(page='NextSong', length=444.23791), Row(page='NextSong', length=381.20444), Row(page='NextSong', length=299.57179), Row(page='NextSong', length=189.49179), Row(page='NextSong', length=116.4273), Row(page='NextSong', length=462.10567), Row(page='NextSong', length=153.25995), Row(page='NextSong', length=546.21995), Row(page='NextSong', length=447.50322), Row(page='NextSong', length=372.1922), Row(page='NextSong', length=258.21995), Row(page='NextSong', length=409.7824), Row(page='NextSong', length=218.51383), Row(page='NextSong', length=281.44281), Row(page='NextSong', length=67.00363), Row(page='NextSong', length=209.84118), Row(page='NextSong', length=101.19791), Row(page='NextSong', length=408.52853), Row(page='NextSong', length=384.49587), Row(page='NextSong', length=338.85995), Row(page='NextSong', length=570.61832), Row(page='NextSong', length=906.57914), Row(page='NextSong', length=289.38404), Row(page='NextSong', length=358.89587), Row(page='NextSong', length=368.14322), Row(page='NextSong', length=564.63628), Row(page='NextSong', length=305.03138), Row(page='NextSong', length=344.0322), Row(page='NextSong', length=447.63383), Row(page='NextSong', length=432.79628), Row(page='NextSong', length=302.73261), Row(page='NextSong', length=518.37342), Row(page='NextSong', length=128.44363), Row(page='NextSong', length=946.02404), Row(page='NextSong', length=342.15138), Row(page='NextSong', length=332.93016), Row(page='NextSong', length=464.37832), Row(page='NextSong', length=368.29995), Row(page='NextSong', length=89.96526), Row(page='NextSong', length=537.80853), Row(page='NextSong', length=99.99628), Row(page='NextSong', length=547.99628), Row(page='NextSong', length=484.51873), Row(page='NextSong', length=351.65995), Row(page='NextSong', length=83.04281), Row(page='NextSong', length=102.47791), Row(page='NextSong', length=581.77261), Row(page='NextSong', length=411.08853), Row(page='NextSong', length=513.01832), Row(page='NextSong', length=447.97342), Row(page='NextSong', length=532.76689), Row(page='NextSong', length=227.05587), Row(page='NextSong', length=168.59383), Row(page='NextSong', length=146.83383), Row(page='NextSong', length=329.19465), Row(page='NextSong', length=313.88689), Row(page='NextSong', length=237.11302), Row(page='NextSong', length=180.16608), Row(page='NextSong', length=200.64608), Row(page='NextSong', length=123.48036), Row(page='NextSong', length=97.33179), Row(page='NextSong', length=302.47138), Row(page='NextSong', length=396.5122), Row(page='NextSong', length=297.50812), Row(page='NextSong', length=337.71057), Row(page='NextSong', length=281.0771), Row(page='NextSong', length=423.60118), Row(page='NextSong', length=224.20853), Row(page='NextSong', length=106.26567), Row(page='NextSong', length=251.29751), Row(page='NextSong', length=200.35873), Row(page='NextSong', length=233.56036), Row(page='NextSong', length=276.21832), Row(page='NextSong', length=171.10159), Row(page='NextSong', length=176.87465), Row(page='NextSong', length=172.38159), Row(page='NextSong', length=173.13914), Row(page='NextSong', length=279.69261), Row(page='NextSong', length=307.43465), Row(page='NextSong', length=320.26077), Row(page='NextSong', length=321.33179), Row(page='NextSong', length=183.01342), Row(page='NextSong', length=553.61261), Row(page='NextSong', length=378.61832), Row(page='NextSong', length=4.04853), Row(page='NextSong', length=120.21506), Row(page='NextSong', length=242.85995), Row(page='NextSong', length=194.08934), Row(page='NextSong', length=117.39383), Row(page='NextSong', length=288.88771), Row(page='NextSong', length=68.362), Row(page='NextSong', length=145.00526), Row(page='NextSong', length=250.5922), Row(page='NextSong', length=181.78567), Row(page='NextSong', length=386.21995), Row(page='NextSong', length=512.44363), Row(page='NextSong', length=391.13098), Row(page='NextSong', length=161.54077), Row(page='NextSong', length=312.13669), Row(page='NextSong', length=409.3122), Row(page='NextSong', length=64.73098), Row(page='NextSong', length=404.08771), Row(page='NextSong', length=563.01669), Row(page='NextSong', length=436.37506), Row(page='NextSong', length=425.69098), Row(page='NextSong', length=476.21179), Row(page='NextSong', length=325.25016), Row(page='NextSong', length=333.81832), Row(page='NextSong', length=889.20771), Row(page='NextSong', length=383.16363), Row(page='NextSong', length=403.25179), Row(page='NextSong', length=607.7122), Row(page='NextSong', length=339.69587), Row(page='NextSong', length=400.27383), Row(page='NextSong', length=513.82812), Row(page='NextSong', length=428.9824), Row(page='NextSong', length=432.45669), Row(page='NextSong', length=349.75302), Row(page='NextSong', length=522.57914), Row(page='NextSong', length=509.54404), Row(page='NextSong', length=321.25342), Row(page='NextSong', length=446.06649), Row(page='NextSong', length=83.22567), Row(page='NextSong', length=461.03465), Row(page='NextSong', length=342.96118), Row(page='NextSong', length=350.69342), Row(page='NextSong', length=273.47546), Row(page='NextSong', length=172.66893), Row(page='NextSong', length=236.48608), Row(page='NextSong', length=212.29669), Row(page='NextSong', length=357.58975), Row(page='NextSong', length=150.9873), Row(page='NextSong', length=413.02159), Row(page='NextSong', length=177.71057), Row(page='NextSong', length=396.45995), Row(page='NextSong', length=263.83628), Row(page='NextSong', length=202.21342), Row(page='NextSong', length=248.97261), Row(page='NextSong', length=210.52036), Row(page='NextSong', length=386.76853), Row(page='NextSong', length=235.15383), Row(page='NextSong', length=215.87546), Row(page='NextSong', length=205.13914), Row(page='NextSong', length=202.65751), Row(page='NextSong', length=379.32363), Row(page='NextSong', length=281.70404), Row(page='NextSong', length=310.72608), Row(page='NextSong', length=272.3522), Row(page='NextSong', length=250.09587), Row(page='NextSong', length=206.602), Row(page='NextSong', length=267.41506), Row(page='NextSong', length=128.7571), Row(page='NextSong', length=157.77914), Row(page='NextSong', length=212.24444), Row(page='NextSong', length=247.35302), Row(page='NextSong', length=187.8722), Row(page='NextSong', length=219.08853), Row(page='NextSong', length=447.18975), Row(page='NextSong', length=122.98404), Row(page='NextSong', length=280.65914), Row(page='NextSong', length=176.8224), Row(page='NextSong', length=234.31791), Row(page='NextSong', length=144.22159), Row(page='NextSong', length=298.50077), Row(page='NextSong', length=114.59873), Row(page='NextSong', length=278.77832), Row(page='NextSong', length=644.70159), Row(page='NextSong', length=316.83873), Row(page='NextSong', length=481.67138), Row(page='NextSong', length=402.46812), Row(page='NextSong', length=298.34404), Row(page='NextSong', length=355.21261), Row(page='NextSong', length=271.28118), Row(page='NextSong', length=271.41179), Row(page='NextSong', length=332.38159), Row(page='NextSong', length=349.04771), Row(page='NextSong', length=354.42893), Row(page='NextSong', length=943.96036), Row(page='NextSong', length=76.69506), Row(page='NextSong', length=383.242), Row(page='NextSong', length=513.48853), Row(page='NextSong', length=119.24853), Row(page='NextSong', length=85.36771), Row(page='NextSong', length=522.68363), Row(page='NextSong', length=18.41587), Row(page='NextSong', length=439.87546), Row(page='NextSong', length=365.63546), Row(page='NextSong', length=394.68363), Row(page='NextSong', length=37.19791), Row(page='NextSong', length=366.49751), Row(page='NextSong', length=558.91546), Row(page='NextSong', length=346.25261), Row(page='NextSong', length=363.2322), Row(page='NextSong', length=486.39955), Row(page='NextSong', length=456.30649), Row(page='NextSong', length=726.41261), Row(page='NextSong', length=415.9473), Row(page='NextSong', length=394.03057), Row(page='NextSong', length=441.5473), Row(page='NextSong', length=113.55383), Row(page='NextSong', length=43.15383), Row(page='NextSong', length=222.56281), Row(page='NextSong', length=532.84526), Row(page='NextSong', length=280.68526), Row(page='NextSong', length=144.32608), Row(page='NextSong', length=191.84281), Row(page='NextSong', length=248.52853), Row(page='NextSong', length=280.21506), Row(page='NextSong', length=298.03057), Row(page='NextSong', length=135.49669), Row(page='NextSong', length=142.13179), Row(page='NextSong', length=269.21751), Row(page='NextSong', length=434.83383), Row(page='NextSong', length=269.37424), Row(page='NextSong', length=230.19057), Row(page='NextSong', length=280.76363), Row(page='NextSong', length=175.41179), Row(page='NextSong', length=178.02404), Row(page='NextSong', length=226.82077), Row(page='NextSong', length=228.38812), Row(page='NextSong', length=143.98649), Row(page='NextSong', length=290.11546), Row(page='NextSong', length=196.57098), Row(page='NextSong', length=234.60526), Row(page='NextSong', length=208.19546), Row(page='NextSong', length=159.92118), Row(page='NextSong', length=434.88608), Row(page='NextSong', length=210.25914), Row(page='NextSong', length=155.66322), Row(page='NextSong', length=170.78812), Row(page='NextSong', length=136.80281), Row(page='NextSong', length=199.36608), Row(page='NextSong', length=336.79628), Row(page='NextSong', length=243.82649), Row(page='NextSong', length=288.05179), Row(page='NextSong', length=236.77342), Row(page='NextSong', length=64.49587), Row(page='NextSong', length=190.79791), Row(page='NextSong', length=315.29751), Row(page='NextSong', length=288.02567), Row(page='NextSong', length=246.43873), Row(page='NextSong', length=206.41914), Row(page='NextSong', length=244.08771), Row(page='NextSong', length=425.58649), Row(page='NextSong', length=172.79955), Row(page='NextSong', length=284.08118), Row(page='NextSong', length=95.81669), Row(page='NextSong', length=192.31302), Row(page='NextSong', length=268.12036), Row(page='NextSong', length=126.56281), Row(page='NextSong', length=341.21098), Row(page='NextSong', length=402.07628), Row(page='NextSong', length=187.16689), Row(page='NextSong', length=400.37832), Row(page='NextSong', length=428.61669), Row(page='NextSong', length=205.97506), Row(page='NextSong', length=377.33832), Row(page='NextSong', length=157.3873), Row(page='NextSong', length=224.93995), Row(page='NextSong', length=57.3122), Row(page='NextSong', length=142.602), Row(page='NextSong', length=330.00444), Row(page='NextSong', length=285.90975), Row(page='NextSong', length=336.61342), Row(page='NextSong', length=384.41751), Row(page='NextSong', length=530.99057), Row(page='NextSong', length=256.44363), Row(page='NextSong', length=428.85179), Row(page='NextSong', length=432.66567), Row(page='NextSong', length=316.31628), Row(page='NextSong', length=352.65261), Row(page='NextSong', length=558.2624), Row(page='NextSong', length=371.51302), Row(page='NextSong', length=574.64118), Row(page='NextSong', length=70.79138), Row(page='NextSong', length=2144.44363), Row(page='NextSong', length=60.70812), Row(page='NextSong', length=765.17832), Row(page='NextSong', length=508.96934), Row(page='NextSong', length=410.01751), Row(page='NextSong', length=101.642), Row(page='NextSong', length=464.29995), Row(page='NextSong', length=417.61914), Row(page='NextSong', length=677.92934), Row(page='NextSong', length=196.12689), Row(page='NextSong', length=357.72036), Row(page='NextSong', length=871.31383), Row(page='NextSong', length=304.84853), Row(page='NextSong', length=370.52036), Row(page='NextSong', length=275.61751), Row(page='NextSong', length=238.75873), Row(page='NextSong', length=257.54077), Row(page='NextSong', length=185.46893), Row(page='NextSong', length=94.74567), Row(page='NextSong', length=217.93914), Row(page='NextSong', length=235.20608), Row(page='NextSong', length=257.14893), Row(page='NextSong', length=304.16934), Row(page='NextSong', length=282.69669), Row(page='NextSong', length=281.12934), Row(page='NextSong', length=272.27383), Row(page='NextSong', length=229.48526), Row(page='NextSong', length=249.5473), Row(page='NextSong', length=183.95383), Row(page='NextSong', length=318.95465), Row(page='NextSong', length=227.63057), Row(page='NextSong', length=303.67302), Row(page='NextSong', length=614.00771), Row(page='NextSong', length=281.10322), Row(page='NextSong', length=247.27465), Row(page='NextSong', length=186.122), Row(page='NextSong', length=285.88363), Row(page='NextSong', length=277.002), Row(page='NextSong', length=123.84608), Row(page='NextSong', length=183.48363), Row(page='NextSong', length=286.17098), Row(page='NextSong', length=566.85669), Row(page='NextSong', length=126.9024), Row(page='NextSong', length=475.84608), Row(page='NextSong', length=251.53261), Row(page='NextSong', length=176.77016), Row(page='NextSong', length=316.47302), Row(page='NextSong', length=233.76934), Row(page='NextSong', length=375.2224), Row(page='NextSong', length=218.56608), Row(page='NextSong', length=295.26159), Row(page='NextSong', length=223.63383), Row(page='NextSong', length=356.38812), Row(page='NextSong', length=179.01669), Row(page='NextSong', length=96.49587), Row(page='NextSong', length=87.43138), Row(page='NextSong', length=95.00689), Row(page='NextSong', length=470.15138), Row(page='NextSong', length=273.03138), Row(page='NextSong', length=457.89995), Row(page='NextSong', length=296.59383), Row(page='NextSong', length=359.60118), Row(page='NextSong', length=147.77424), Row(page='NextSong', length=127.37261), Row(page='NextSong', length=460.87791), Row(page='NextSong', length=163.49995), Row(page='NextSong', length=144.29995), Row(page='NextSong', length=325.69424), Row(page='NextSong', length=79.69914), Row(page='NextSong', length=283.08853), Row(page='NextSong', length=460.93016), Row(page='NextSong', length=304.01261), Row(page='NextSong', length=139.80689), Row(page='NextSong', length=410.46159), Row(page='NextSong', length=535.7971), Row(page='NextSong', length=134.24281), Row(page='NextSong', length=421.79873), Row(page='NextSong', length=499.01669), Row(page='NextSong', length=332.82567), Row(page='NextSong', length=148.34893), Row(page='NextSong', length=504.60689), Row(page='NextSong', length=134.00771), Row(page='NextSong', length=572.62975), Row(page='NextSong', length=100.5971), Row(page='NextSong', length=386.89914), Row(page='NextSong', length=70.84363), Row(page='NextSong', length=114.62485), Row(page='NextSong', length=503.58812), Row(page='NextSong', length=450.0371), Row(page='NextSong', length=86.9873), Row(page='NextSong', length=508.13342), Row(page='NextSong', length=400.16934), Row(page='NextSong', length=303.5424), Row(page='NextSong', length=260.80608), Row(page='NextSong', length=269.63546), Row(page='NextSong', length=153.20771), Row(page='NextSong', length=270.75873), Row(page='NextSong', length=166.50404), Row(page='NextSong', length=200.51546), Row(page='NextSong', length=258.53342), Row(page='NextSong', length=127.86893), Row(page='NextSong', length=267.17995), Row(page='NextSong', length=203.59791), Row(page='NextSong', length=149.81179), Row(page='NextSong', length=426.78812), Row(page='NextSong', length=189.30893), Row(page='NextSong', length=303.69914), Row(page='NextSong', length=178.31138), Row(page='NextSong', length=386.71628), Row(page='NextSong', length=253.93587), Row(page='NextSong', length=216.86812), Row(page='NextSong', length=132.67546), Row(page='NextSong', length=257.69751), Row(page='NextSong', length=157.98812), Row(page='NextSong', length=230.42567), Row(page='NextSong', length=472.00608), Row(page='NextSong', length=384.67873), Row(page='NextSong', length=429.63546), Row(page='NextSong', length=241.73669), Row(page='NextSong', length=134.89587), Row(page='NextSong', length=340.08771), Row(page='NextSong', length=210.18077), Row(page='NextSong', length=131.42159), Row(page='NextSong', length=325.85098), Row(page='NextSong', length=159.42485), Row(page='NextSong', length=142.78485), Row(page='NextSong', length=137.22077), Row(page='NextSong', length=692.29669), Row(page='NextSong', length=158.9024), Row(page='NextSong', length=66.42893), Row(page='NextSong', length=285.64853), Row(page='NextSong', length=358.53016), Row(page='NextSong', length=263.02649), Row(page='NextSong', length=418.40281), Row(page='NextSong', length=59.58485), Row(page='NextSong', length=368.69179), Row(page='NextSong', length=432.14322), Row(page='NextSong', length=447.86893), Row(page='NextSong', length=287.55546), Row(page='NextSong', length=583.94077), Row(page='NextSong', length=99.5522), Row(page='NextSong', length=450.11546), Row(page='NextSong', length=113.60608), Row(page='NextSong', length=158.27546), Row(page='NextSong', length=126.92853), Row(page='NextSong', length=312.16281), Row(page='NextSong', length=328.04526), Row(page='NextSong', length=321.56689), Row(page='NextSong', length=176.1171), Row(page='NextSong', length=196.20526), Row(page='NextSong', length=177.81506), Row(page='NextSong', length=247.40526), Row(page='NextSong', length=163.23873), Row(page='NextSong', length=522.31791), Row(page='NextSong', length=158.98077), Row(page='NextSong', length=304.56118), Row(page='NextSong', length=251.79383), Row(page='NextSong', length=175.43791), Row(page='NextSong', length=341.89016), Row(page='NextSong', length=155.42812), Row(page='NextSong', length=326.1122), Row(page='NextSong', length=275.25179), Row(page='NextSong', length=191.79057), Row(page='NextSong', length=151.06567), Row(page='NextSong', length=398.52363), Row(page='NextSong', length=236.042), Row(page='NextSong', length=215.2224), Row(page='NextSong', length=243.3824), Row(page='NextSong', length=632.71138), Row(page='NextSong', length=194.69016), Row(page='NextSong', length=331.72853), Row(page='NextSong', length=290.08934), Row(page='NextSong', length=215.45751), Row(page='NextSong', length=291.3171), Row(page='NextSong', length=45.97506), Row(page='NextSong', length=578.89914), Row(page='NextSong', length=274.38975), Row(page='NextSong', length=641.41016), Row(page='NextSong', length=294.5824), Row(page='NextSong', length=321.64526), Row(page='NextSong', length=469.10649), Row(page='NextSong', length=394.91873), Row(page='NextSong', length=244.03546), Row(page='NextSong', length=103.81016), Row(page='NextSong', length=299.25832), Row(page='NextSong', length=332.48608), Row(page='NextSong', length=376.71138), Row(page='NextSong', length=964.23138), Row(page='NextSong', length=130.06322), Row(page='NextSong', length=355.97016), Row(page='NextSong', length=100.93669), Row(page='NextSong', length=368.74404), Row(page='NextSong', length=257.30567), Row(page='NextSong', length=227.21261), Row(page='NextSong', length=427.44118), Row(page='NextSong', length=188.1073), Row(page='NextSong', length=443.84608), Row(page='NextSong', length=92.42077), Row(page='NextSong', length=547.13424), Row(page='NextSong', length=571.402), Row(page='NextSong', length=437.26322), Row(page='NextSong', length=84.37506), Row(page='NextSong', length=469.83791), Row(page='NextSong', length=439.92771), Row(page='NextSong', length=637.77914), Row(page='NextSong', length=401.08363), Row(page='NextSong', length=42.762), Row(page='NextSong', length=348.29016), Row(page='NextSong', length=348.3424), Row(page='NextSong', length=182.49098), Row(page='NextSong', length=149.57669), Row(page='NextSong', length=196.17914), Row(page='NextSong', length=247.77098), Row(page='NextSong', length=134.1122), Row(page='NextSong', length=168.82893), Row(page='NextSong', length=126.40608), Row(page='NextSong', length=260.98893), Row(page='NextSong', length=360.59383), Row(page='NextSong', length=178.07628), Row(page='NextSong', length=256.36526), Row(page='NextSong', length=275.66975), Row(page='NextSong', length=409.41669), Row(page='NextSong', length=257.67138), Row(page='NextSong', length=271.75138), Row(page='NextSong', length=162.95138), Row(page='NextSong', length=337.94567), Row(page='NextSong', length=248.11057), Row(page='NextSong', length=300.40771), Row(page='NextSong', length=87.53587), Row(page='NextSong', length=268.042), Row(page='NextSong', length=188.44689), Row(page='NextSong', length=507.14077), Row(page='NextSong', length=355.34322), Row(page='NextSong', length=442.85342), Row(page='NextSong', length=211.43465), Row(page='NextSong', length=147.51302), Row(page='NextSong', length=373.34159), Row(page='NextSong', length=388.20526), Row(page='NextSong', length=268.45995), Row(page='NextSong', length=304.92689), Row(page='NextSong', length=117.31546), Row(page='NextSong', length=198.24281), Row(page='NextSong', length=214.02077), Row(page='NextSong', length=291.082), Row(page='NextSong', length=68.41424), Row(page='NextSong', length=322.61179), Row(page='NextSong', length=347.6371), Row(page='NextSong', length=319.52934), Row(page='NextSong', length=279.17016), Row(page='NextSong', length=264.77669), Row(page='NextSong', length=255.45098), Row(page='NextSong', length=662.83057), Row(page='NextSong', length=621.45261), Row(page='NextSong', length=318.69342), Row(page='NextSong', length=319.99955), Row(page='NextSong', length=468.94975), Row(page='NextSong', length=463.80363), Row(page='NextSong', length=156.21179), Row(page='NextSong', length=359.8624), Row(page='NextSong', length=465.29261), Row(page='NextSong', length=240.77016), Row(page='NextSong', length=188.99546), Row(page='NextSong', length=252.89098), Row(page='NextSong', length=451.34322), Row(page='NextSong', length=140.85179), Row(page='NextSong', length=288.26077), Row(page='NextSong', length=331.36281), Row(page='NextSong', length=433.10975), Row(page='NextSong', length=104.48934), Row(page='NextSong', length=491.93751), Row(page='NextSong', length=399.01995), Row(page='NextSong', length=303.82975), Row(page='NextSong', length=515.99628), Row(page='NextSong', length=1818.46159), Row(page='NextSong', length=466.33751), Row(page='NextSong', length=829.20444), Row(page='NextSong', length=429.89669), Row(page='NextSong', length=110.2624), Row(page='NextSong', length=398.10567), Row(page='NextSong', length=399.28118), Row(page='NextSong', length=473.36444), Row(page='NextSong', length=48.37832), Row(page='NextSong', length=438.85669), Row(page='NextSong', length=381.02159), Row(page='NextSong', length=598.07302), Row(page='NextSong', length=99.70893), Row(page='NextSong', length=241.63156), Row(page='NextSong', length=337.8673), Row(page='NextSong', length=156.62975), Row(page='NextSong', length=250.72281), Row(page='NextSong', length=237.16526), Row(page='NextSong', length=212.76689), Row(page='NextSong', length=88.34567), Row(page='NextSong', length=248.842), Row(page='NextSong', length=252.94322), Row(page='NextSong', length=166.3473), Row(page='NextSong', length=293.72036), Row(page='NextSong', length=172.25098), Row(page='NextSong', length=183.87546), Row(page='NextSong', length=182.9873), Row(page='NextSong', length=190.85016), Row(page='NextSong', length=168.88118), Row(page='NextSong', length=230.86975), Row(page='NextSong', length=302.49751), Row(page='NextSong', length=147.59138), Row(page='NextSong', length=359.23546), Row(page='NextSong', length=327.57506), Row(page='NextSong', length=220.08118), Row(page='NextSong', length=255.21587), Row(page='NextSong', length=478.92853), Row(page='NextSong', length=374.17751), Row(page='NextSong', length=412.65587), Row(page='NextSong', length=431.20281), Row(page='NextSong', length=252.13342), Row(page='NextSong', length=214.04689), Row(page='NextSong', length=353.64526), Row(page='NextSong', length=208.63955), Row(page='NextSong', length=458.81424), Row(page='NextSong', length=282.14812), Row(page='NextSong', length=322.01098), Row(page='NextSong', length=156.57751), Row(page='NextSong', length=172.95628), Row(page='NextSong', length=169.482), Row(page='NextSong', length=251.92444), Row(page='NextSong', length=292.51873), Row(page='NextSong', length=196.70159), Row(page='NextSong', length=177.84118), Row(page='NextSong', length=249.15546), Row(page='NextSong', length=501.49832), Row(page='NextSong', length=569.15546), Row(page='NextSong', length=77.73995), Row(page='NextSong', length=322.37669), Row(page='NextSong', length=351.32036), Row(page='NextSong', length=154.01751), Row(page='NextSong', length=321.48853), Row(page='NextSong', length=54.62159), Row(page='NextSong', length=349.51791), Row(page='NextSong', length=335.38567), Row(page='NextSong', length=314.43546), Row(page='NextSong', length=164.62322), Row(page='NextSong', length=118.17751), Row(page='NextSong', length=61.02159), Row(page='NextSong', length=146.38975), Row(page='NextSong', length=371.17342), Row(page='NextSong', length=754.72934), Row(page='NextSong', length=366.62812), Row(page='NextSong', length=98.48118), Row(page='NextSong', length=147.27791), Row(page='NextSong', length=68.15302), Row(page='NextSong', length=662.93506), Row(page='NextSong', length=531.82649), Row(page='NextSong', length=427.04934), Row(page='NextSong', length=120.5024), Row(page='NextSong', length=468.50567), Row(page='NextSong', length=441.15546), Row(page='NextSong', length=421.22404), Row(page='NextSong', length=458.26567), Row(page='NextSong', length=394.4224), Row(page='NextSong', length=422.68689), Row(page='NextSong', length=826.48771), Row(page='NextSong', length=89.57342), Row(page='NextSong', length=148.74077), Row(page='NextSong', length=184.13669), Row(page='NextSong', length=420.88444), Row(page='NextSong', length=277.99465), Row(page='NextSong', length=166.55628), Row(page='NextSong', length=115.90485), Row(page='NextSong', length=256.26077), Row(page='NextSong', length=184.76363), Row(page='NextSong', length=264.17587), Row(page='NextSong', length=324.85832), Row(page='NextSong', length=240.66567), Row(page='NextSong', length=293.40689), Row(page='NextSong', length=254.06649), Row(page='NextSong', length=173.06077), Row(page='NextSong', length=235.10159), Row(page='NextSong', length=190.22322), Row(page='NextSong', length=208.40444), Row(page='NextSong', length=355.73506), Row(page='NextSong', length=136.69832), Row(page='NextSong', length=334.36689), Row(page='NextSong', length=285.51791), Row(page='NextSong', length=136.04526), Row(page='NextSong', length=212.1922), Row(page='NextSong', length=158.61506), Row(page='NextSong', length=373.52444), Row(page='NextSong', length=213.4722), Row(page='NextSong', length=301.73995), Row(page='NextSong', length=180.4273), Row(page='NextSong', length=156.70812), Row(page='NextSong', length=236.61669), Row(page='NextSong', length=299.07546), Row(page='NextSong', length=363.12771), Row(page='NextSong', length=140.17261), Row(page='NextSong', length=476.26404), Row(page='NextSong', length=387.7873), Row(page='NextSong', length=223.9473), Row(page='NextSong', length=172.5122), Row(page='NextSong', length=595.722), Row(page='NextSong', length=432.84853), Row(page='NextSong', length=229.43302), Row(page='NextSong', length=255.76444), Row(page='NextSong', length=214.49098), Row(page='NextSong', length=225.74975), Row(page='NextSong', length=58.90567), Row(page='NextSong', length=340.71465), Row(page='NextSong', length=625.08363), Row(page='NextSong', length=137.482), Row(page='NextSong', length=279.64036), Row(page='NextSong', length=84.53179), Row(page='NextSong', length=55.562), Row(page='NextSong', length=352.33914), Row(page='NextSong', length=357.69424), Row(page='NextSong', length=309.81179), Row(page='NextSong', length=532.53179), Row(page='NextSong', length=534.54322), Row(page='NextSong', length=351.26812), Row(page='NextSong', length=164.75383), Row(page='NextSong', length=87.2224), Row(page='NextSong', length=412.70812), Row(page='NextSong', length=410.69669), Row(page='NextSong', length=128.10404), Row(page='NextSong', length=362.37016), Row(page='NextSong', length=471.17016), Row(page='NextSong', length=284.65587), Row(page='NextSong', length=98.42893), Row(page='NextSong', length=11.98975), Row(page='NextSong', length=513.25342), Row(page='NextSong', length=420.362), Row(page='NextSong', length=156.05506), Row(page='NextSong', length=94.64118), Row(page='NextSong', length=383.45098), Row(page='NextSong', length=313.73016), Row(page='NextSong', length=116.27057), Row(page='NextSong', length=422.42567), Row(page='NextSong', length=543.50322), Row(page='NextSong', length=484.70159), Row(page='NextSong', length=423.00036), Row(page='NextSong', length=277.9424), Row(page='NextSong', length=233.16853), Row(page='NextSong', length=267.36281), Row(page='NextSong', length=187.32363), Row(page='NextSong', length=239.85587), Row(page='NextSong', length=193.51465), Row(page='NextSong', length=237.73995), Row(page='NextSong', length=354.97751), Row(page='NextSong', length=276.00934), Row(page='NextSong', length=389.19791), Row(page='NextSong', length=337.08363), Row(page='NextSong', length=297.01179), Row(page='NextSong', length=133.74649), Row(page='NextSong', length=118.02077), Row(page='NextSong', length=331.10159), Row(page='NextSong', length=214.46485), Row(page='NextSong', length=165.14567), Row(page='NextSong', length=84.97587), Row(page='NextSong', length=394.1873), Row(page='NextSong', length=173.97506), Row(page='NextSong', length=222.87628), Row(page='NextSong', length=440.76363), Row(page='NextSong', length=279.92771), Row(page='NextSong', length=307.17342), Row(page='NextSong', length=291.70893), Row(page='NextSong', length=393.84771), Row(page='NextSong', length=163.68281), Row(page='NextSong', length=207.17669), Row(page='NextSong', length=323.71156), Row(page='NextSong', length=2015.79057), Row(page='NextSong', length=280.63302), Row(page='NextSong', length=251.01016), Row(page='NextSong', length=112.8224), Row(page='NextSong', length=249.05098), Row(page='NextSong', length=374.36036), Row(page='NextSong', length=239.43791), Row(page='NextSong', length=214.7522), Row(page='NextSong', length=304.61342), Row(page='NextSong', length=326.42567), Row(page='NextSong', length=342.46485), Row(page='NextSong', length=273.13587), Row(page='NextSong', length=130.29832), Row(page='NextSong', length=274.25914), Row(page='NextSong', length=489.482), Row(page='NextSong', length=416.13016), Row(page='NextSong', length=313.05098), Row(page='NextSong', length=226.40281), Row(page='NextSong', length=274.07628), Row(page='NextSong', length=351.13751), Row(page='NextSong', length=210.75546), Row(page='NextSong', length=55.32689), Row(page='NextSong', length=283.402), Row(page='NextSong', length=421.01506), Row(page='NextSong', length=429.24363), Row(page='NextSong', length=357.95546), Row(page='NextSong', length=363.93751), Row(page='NextSong', length=363.44118), Row(page='NextSong', length=382.14485), Row(page='NextSong', length=59.0624), Row(page='NextSong', length=151.27465), Row(page='NextSong', length=103.1571), Row(page='NextSong', length=403.19955), Row(page='NextSong', length=107.25832), Row(page='NextSong', length=364.85179), Row(page='NextSong', length=75.83302), Row(page='NextSong', length=1112.89424), Row(page='NextSong', length=292.0224), Row(page='NextSong', length=124.49914), Row(page='NextSong', length=105.01179), Row(page='NextSong', length=354.82077), Row(page='NextSong', length=450.97751), Row(page='NextSong', length=327.00036), Row(page='NextSong', length=122.20036), Row(page='NextSong', length=72.85506), Row(page='NextSong', length=316.1073), Row(page='NextSong', length=408.31955), Row(page='NextSong', length=349.72689), Row(page='NextSong', length=377.49506), Row(page='NextSong', length=647.33995), Row(page='NextSong', length=169.35138), Row(page='NextSong', length=1892.57098), Row(page='NextSong', length=102.21669), Row(page='NextSong', length=258.37669), Row(page='NextSong', length=222.45832), Row(page='NextSong', length=246.46485), Row(page='NextSong', length=220.89098), Row(page='NextSong', length=234.05669), Row(page='NextSong', length=415.16363), Row(page='NextSong', length=238.36689), Row(page='NextSong', length=205.37424), Row(page='NextSong', length=256.9922), Row(page='NextSong', length=287.84281), Row(page='NextSong', length=272.61342), Row(page='NextSong', length=191.11138), Row(page='NextSong', length=203.85914), Row(page='NextSong', length=145.24036), Row(page='NextSong', length=291.97016), Row(page='NextSong', length=230.29506), Row(page='NextSong', length=245.52444), Row(page='NextSong', length=287.34649), Row(page='NextSong', length=186.8273), Row(page='NextSong', length=197.90322), Row(page='NextSong', length=255.13751), Row(page='NextSong', length=298.31791), Row(page='NextSong', length=265.16853), Row(page='NextSong', length=255.58159), Row(page='NextSong', length=405.99465), Row(page='NextSong', length=419.65669), Row(page='NextSong', length=591.67302), Row(page='NextSong', length=131.7873), Row(page='NextSong', length=300.30322), Row(page='NextSong', length=266.89261), Row(page='NextSong', length=137.11628), Row(page='NextSong', length=156.39465), Row(page='NextSong', length=245.62893), Row(page='NextSong', length=266.73587), Row(page='NextSong', length=112.63955), Row(page='NextSong', length=469.52444), Row(page='NextSong', length=433.44934), Row(page='NextSong', length=83.01669), Row(page='NextSong', length=577.74975), Row(page='NextSong', length=135.70567), Row(page='NextSong', length=652.59057), Row(page='NextSong', length=621.322), Row(page='NextSong', length=197.17179), Row(page='NextSong', length=343.7971), Row(page='NextSong', length=550.68689), Row(page='NextSong', length=155.74159), Row(page='NextSong', length=121.96526), Row(page='NextSong', length=161.4624), Row(page='NextSong', length=101.35465), Row(page='NextSong', length=396.56444), Row(page='NextSong', length=341.34159), Row(page='NextSong', length=306.25914), Row(page='NextSong', length=334.8371), Row(page='NextSong', length=134.73914), Row(page='NextSong', length=172.32934), Row(page='NextSong', length=374.85669), Row(page='NextSong', length=515.60444), Row(page='NextSong', length=421.85098), Row(page='NextSong', length=394.29179), Row(page='NextSong', length=121.23383), Row(page='NextSong', length=107.07546), Row(page='NextSong', length=150.20363), Row(page='NextSong', length=339.27791), Row(page='NextSong', length=439.40526), Row(page='NextSong', length=736.57424), Row(page='NextSong', length=488.30649), Row(page='NextSong', length=457.53424), Row(page='NextSong', length=385.17506), Row(page='NextSong', length=380.1073), Row(page='NextSong', length=389.45914), Row(page='NextSong', length=369.73669), Row(page='NextSong', length=395.72853), Row(page='NextSong', length=386.79465), Row(page='NextSong', length=206.05342), Row(page='NextSong', length=268.90404), Row(page='NextSong', length=402.05016), Row(page='NextSong', length=307.01669), Row(page='NextSong', length=270.39302), Row(page='NextSong', length=352.83546), Row(page='NextSong', length=297.87383), Row(page='NextSong', length=239.20281), Row(page='NextSong', length=246.77832), Row(page='NextSong', length=84.03546), Row(page='NextSong', length=268.95628), Row(page='NextSong', length=293.95546), Row(page='NextSong', length=397.08689), Row(page='NextSong', length=189.46567), Row(page='NextSong', length=334.47138), Row(page='NextSong', length=152.71138), Row(page='NextSong', length=366.70649), Row(page='NextSong', length=178.52036), Row(page='NextSong', length=534.33424), Row(page='NextSong', length=385.95873), Row(page='NextSong', length=324.41424), Row(page='NextSong', length=37.04118), Row(page='NextSong', length=309.89016), Row(page='NextSong', length=328.77669), Row(page='NextSong', length=268.77342), Row(page='NextSong', length=335.46404), Row(page='NextSong', length=105.16853), Row(page='NextSong', length=115.1473), Row(page='NextSong', length=209.29261), Row(page='NextSong', length=69.40689), Row(page='NextSong', length=120.29342), Row(page='NextSong', length=700.81261), Row(page='NextSong', length=206.86322), Row(page='NextSong', length=406.85669), Row(page='NextSong', length=479.03302), Row(page='NextSong', length=387.42159), Row(page='NextSong', length=363.07546), Row(page='NextSong', length=155.92444), Row(page='NextSong', length=80.53506), Row(page='NextSong', length=284.42077), Row(page='NextSong', length=308.08771), Row(page='NextSong', length=146.46812), Row(page='NextSong', length=378.90567), Row(page='NextSong', length=397.45261), Row(page='NextSong', length=318.1971), Row(page='NextSong', length=397.68771), Row(page='NextSong', length=340.40118), Row(page='NextSong', length=341.86404), Row(page='NextSong', length=158.22322), Row(page='NextSong', length=131.26485), Row(page='NextSong', length=122.51383), Row(page='NextSong', length=367.80363), Row(page='NextSong', length=431.56853), Row(page='NextSong', length=153.36444), Row(page='NextSong', length=125.54404), Row(page='NextSong', length=507.34975), Row(page='NextSong', length=552.9073), Row(page='NextSong', length=8.30649), Row(page='NextSong', length=449.43628), Row(page='NextSong', length=472.92036), Row(page='NextSong', length=468.81914), Row(page='NextSong', length=501.60281), Row(page='NextSong', length=125.70077), Row(page='NextSong', length=561.13587), Row(page='NextSong', length=350.24934), Row(page='NextSong', length=327.67955), Row(page='NextSong', length=63.81669), Row(page='NextSong', length=503.53587), Row(page='NextSong', length=478.79791), Row(page='NextSong', length=390.47791), Row(page='NextSong', length=171.98975), Row(page='NextSong', length=21.49832), Row(page='NextSong', length=388.8322), Row(page='NextSong', length=679.65342), Row(page='NextSong', length=226.61179), Row(page='NextSong', length=460.43383), Row(page='NextSong', length=259.29098), Row(page='NextSong', length=256.13016), Row(page='NextSong', length=228.17914), Row(page='NextSong', length=311.32689), Row(page='NextSong', length=319.7122), Row(page='NextSong', length=354.61179), Row(page='NextSong', length=246.02077), Row(page='NextSong', length=305.76281), Row(page='NextSong', length=216.45016), Row(page='NextSong', length=84.08771), Row(page='NextSong', length=133.01506), Row(page='NextSong', length=168.07138), Row(page='NextSong', length=245.55057), Row(page='NextSong', length=235.72853), Row(page='NextSong', length=189.57016), Row(page='NextSong', length=145.97179), Row(page='NextSong', length=253.67465), Row(page='NextSong', length=180.34893), Row(page='NextSong', length=192.26077), Row(page='NextSong', length=180.08771), Row(page='NextSong', length=147.82649), Row(page='NextSong', length=79.43791), Row(page='NextSong', length=151.82322), Row(page='NextSong', length=291.99628), Row(page='NextSong', length=149.91628), Row(page='NextSong', length=516.70159), Row(page='NextSong', length=152.34567), Row(page='NextSong', length=159.00689), Row(page='NextSong', length=318.30159), Row(page='NextSong', length=315.19302), Row(page='NextSong', length=316.9171), Row(page='NextSong', length=314.95791), Row(page='NextSong', length=475.11465), Row(page='NextSong', length=436.47955), Row(page='NextSong', length=523.07546), Row(page='NextSong', length=368.43057), Row(page='NextSong', length=467.82649), Row(page='NextSong', length=157.64853), Row(page='NextSong', length=392.75057), Row(page='NextSong', length=381.09995), Row(page='NextSong', length=496.24771), Row(page='NextSong', length=113.18812), Row(page='NextSong', length=130.53342), Row(page='NextSong', length=351.39873), Row(page='NextSong', length=537.59955), Row(page='NextSong', length=99.86567), Row(page='NextSong', length=62.14485), Row(page='NextSong', length=346.43546), Row(page='NextSong', length=51.19955), Row(page='NextSong', length=368.09098), Row(page='NextSong', length=439.84934), Row(page='NextSong', length=76.93016), Row(page='NextSong', length=340.45342), Row(page='NextSong', length=102.08608), Row(page='NextSong', length=206.31465), Row(page='NextSong', length=83.17342), Row(page='NextSong', length=94.87628), Row(page='NextSong', length=374.07302), Row(page='NextSong', length=305.31873), Row(page='NextSong', length=90.33098), Row(page='NextSong', length=467.33016), Row(page='NextSong', length=259.13424), Row(page='NextSong', length=370.75546), Row(page='NextSong', length=449.93261), Row(page='NextSong', length=397.73995), Row(page='NextSong', length=222.85016), Row(page='NextSong', length=95.92118), Row(page='NextSong', length=250.17424), Row(page='NextSong', length=144.74404), Row(page='NextSong', length=202.00444), Row(page='NextSong', length=120.92036), Row(page='NextSong', length=172.82567), Row(page='NextSong', length=167.70567), Row(page='NextSong', length=295.91465), Row(page='NextSong', length=190.69342), Row(page='NextSong', length=212.63628), Row(page='NextSong', length=390.45179), Row(page='NextSong', length=544.36526), Row(page='NextSong', length=44.19873), Row(page='NextSong', length=261.72036), Row(page='NextSong', length=307.90485), Row(page='NextSong', length=312.45016), Row(page='NextSong', length=303.90812), Row(page='NextSong', length=378.87955), Row(page='NextSong', length=176.16934), Row(page='NextSong', length=326.76526), Row(page='NextSong', length=745.74322), Row(page='NextSong', length=192.23465), Row(page='NextSong', length=300.9824), Row(page='NextSong', length=316.44689), Row(page='NextSong', length=351.97342), Row(page='NextSong', length=204.06812), Row(page='NextSong', length=208.95302), Row(page='NextSong', length=109.84444), Row(page='NextSong', length=298.63138), Row(page='NextSong', length=278.83057), Row(page='NextSong', length=143.3073), Row(page='NextSong', length=484.54485), Row(page='NextSong', length=384.78322), Row(page='NextSong', length=305.52771), Row(page='NextSong', length=271.90812), Row(page='NextSong', length=375.35302), Row(page='NextSong', length=107.49342), Row(page='NextSong', length=362.13506), Row(page='NextSong', length=347.03628), Row(page='NextSong', length=151.58812), Row(page='NextSong', length=177.89342), Row(page='NextSong', length=191.34649), Row(page='NextSong', length=167.20934), Row(page='NextSong', length=550.63465), Row(page='NextSong', length=353.72363), Row(page='NextSong', length=270.68036), Row(page='NextSong', length=440.39791), Row(page='NextSong', length=438.80444), Row(page='NextSong', length=168.48934), Row(page='NextSong', length=110.52363), Row(page='NextSong', length=38.63465), Row(page='NextSong', length=122.87955), Row(page='NextSong', length=365.76608), Row(page='NextSong', length=460.64281), Row(page='NextSong', length=54.93506), Row(page='NextSong', length=122.67057), Row(page='NextSong', length=520.82893), Row(page='NextSong', length=124.99546), Row(page='NextSong', length=112.69179), Row(page='NextSong', length=440.60689), Row(page='NextSong', length=402.33751), Row(page='NextSong', length=379.29751), Row(page='NextSong', length=390.50404), Row(page='NextSong', length=299.65016), Row(page='NextSong', length=182.88281), Row(page='NextSong', length=254.30159), Row(page='NextSong', length=229.25016), Row(page='NextSong', length=188.02893), Row(page='NextSong', length=306.36363), Row(page='NextSong', length=271.49016), Row(page='NextSong', length=150.30812), Row(page='NextSong', length=166.47791), Row(page='NextSong', length=188.21179), Row(page='NextSong', length=203.44118), Row(page='NextSong', length=443.42812), Row(page='NextSong', length=471.11791), Row(page='NextSong', length=190.11873), Row(page='NextSong', length=160.54812), Row(page='NextSong', length=146.70322), Row(page='NextSong', length=301.47873), Row(page='NextSong', length=317.20444), Row(page='NextSong', length=234.84036), Row(page='NextSong', length=143.64689), Row(page='NextSong', length=326.19057), Row(page='NextSong', length=225.01832), Row(page='NextSong', length=322.45506), Row(page='NextSong', length=169.03791), Row(page='NextSong', length=68.75383), Row(page='NextSong', length=141.40036), Row(page='NextSong', length=350.64118), Row(page='NextSong', length=233.84771), Row(page='NextSong', length=476.3424), Row(page='NextSong', length=400.45669), Row(page='NextSong', length=153.44281), Row(page='NextSong', length=328.09751), Row(page='NextSong', length=619.12771), Row(page='NextSong', length=384.54812), Row(page='NextSong', length=130.16771), Row(page='NextSong', length=309.78567), Row(page='NextSong', length=347.08853), Row(page='NextSong', length=383.13751), Row(page='NextSong', length=494.23628), Row(page='NextSong', length=356.362), Row(page='NextSong', length=95.16363), Row(page='NextSong', length=913.44934), Row(page='NextSong', length=484.44036), Row(page='NextSong', length=610.35057), Row(page='NextSong', length=443.89832), Row(page='NextSong', length=438.67383), Row(page='NextSong', length=319.11138), Row(page='NextSong', length=78.10567), Row(page='NextSong', length=139.78077), Row(page='NextSong', length=65.35791), Row(page='NextSong', length=385.12281), Row(page='NextSong', length=93.1522), Row(page='NextSong', length=408.5024), Row(page='NextSong', length=566.43873), Row(page='NextSong', length=756.00934), Row(page='NextSong', length=643.34322), Row(page='NextSong', length=501.78567), Row(page='NextSong', length=746.23955), Row(page='NextSong', length=35.97016), Row(page='NextSong', length=390.66077), Row(page='NextSong', length=225.90649), Row(page='NextSong', length=262.81751), Row(page='NextSong', length=174.47138), Row(page='NextSong', length=191.76444), Row(page='NextSong', length=264.202), Row(page='NextSong', length=302.13179), Row(page='NextSong', length=87.30077), Row(page='NextSong', length=268.32934), Row(page='NextSong', length=229.45914), Row(page='NextSong', length=195.97016), Row(page='NextSong', length=167.88853), Row(page='NextSong', length=139.51955), Row(page='NextSong', length=254.17098), Row(page='NextSong', length=329.35138), Row(page='NextSong', length=314.01751), Row(page='NextSong', length=223.99955), Row(page='NextSong', length=231.49669), Row(page='NextSong', length=141.50485), Row(page='NextSong', length=583.54893), Row(page='NextSong', length=285.33506), Row(page='NextSong', length=192.10404), Row(page='NextSong', length=161.2273), Row(page='NextSong', length=157.09995), Row(page='NextSong', length=221.83138), Row(page='NextSong', length=152.97261), Row(page='NextSong', length=185.99138), Row(page='NextSong', length=180.89751), Row(page='NextSong', length=455.52281), Row(page='NextSong', length=236.19873), Row(page='NextSong', length=179.56526), Row(page='NextSong', length=214.17751), Row(page='NextSong', length=111.72526), Row(page='NextSong', length=294.16444), Row(page='NextSong', length=159.37261), Row(page='NextSong', length=442.30485), Row(page='NextSong', length=367.3073), Row(page='NextSong', length=660.34893), Row(page='NextSong', length=307.48689), Row(page='NextSong', length=288.1824), Row(page='NextSong', length=67.89179), Row(page='NextSong', length=295.05261), Row(page='NextSong', length=417.56689), Row(page='NextSong', length=338.49424), Row(page='NextSong', length=161.95873), Row(page='NextSong', length=274.75546), Row(page='NextSong', length=132.70159), Row(page='NextSong', length=303.64689), Row(page='NextSong', length=360.85506), Row(page='NextSong', length=409.99138), Row(page='NextSong', length=162.42893), Row(page='NextSong', length=302.44526), Row(page='NextSong', length=137.45587), Row(page='NextSong', length=287.242), Row(page='NextSong', length=419.99628), Row(page='NextSong', length=306.15465), Row(page='NextSong', length=127.05914), Row(page='NextSong', length=124.15955), Row(page='NextSong', length=13.68771), Row(page='NextSong', length=662.77832), Row(page='NextSong', length=529.65832), Row(page='NextSong', length=343.53587), Row(page='NextSong', length=63.63383), Row(page='NextSong', length=175.75138), Row(page='NextSong', length=272.8224), Row(page='NextSong', length=413.80526), Row(page='NextSong', length=391.99302), Row(page='NextSong', length=425.84771), Row(page='NextSong', length=74.97098), Row(page='NextSong', length=33.33179), Row(page='NextSong', length=472.5024), Row(page='NextSong', length=502.25587), Row(page='NextSong', length=216.842), Row(page='NextSong', length=250.38322), Row(page='NextSong', length=248.5024), Row(page='NextSong', length=256.96608), Row(page='NextSong', length=205.322), Row(page='NextSong', length=163.5522), Row(page='NextSong', length=187.50649), Row(page='NextSong', length=253.30893), Row(page='NextSong', length=201.56036), Row(page='NextSong', length=272.79628), Row(page='NextSong', length=246.07302), Row(page='NextSong', length=200.202), Row(page='NextSong', length=231.05261), Row(page='NextSong', length=260.15302), Row(page='NextSong', length=207.59465), Row(page='NextSong', length=174.31465), Row(page='NextSong', length=172.22485), Row(page='NextSong', length=142.75873), Row(page='NextSong', length=367.35955), Row(page='NextSong', length=118.04689), Row(page='NextSong', length=114.52036), Row(page='NextSong', length=117.002), Row(page='NextSong', length=234.26567), Row(page='NextSong', length=396.66893), Row(page='NextSong', length=188.39465), Row(page='NextSong', length=334.78485), Row(page='NextSong', length=176.69179), Row(page='NextSong', length=237.03465), Row(page='NextSong', length=377.46893), Row(page='NextSong', length=639.58159), Row(page='NextSong', length=286.14485), Row(page='NextSong', length=149.83791), Row(page='NextSong', length=203.54567), Row(page='NextSong', length=317.17832), Row(page='NextSong', length=444.99546), Row(page='NextSong', length=247.2224), Row(page='NextSong', length=113.00526), Row(page='NextSong', length=161.41016), Row(page='NextSong', length=172.7473), Row(page='NextSong', length=325.95546), Row(page='NextSong', length=83.722), Row(page='NextSong', length=341.73342), Row(page='NextSong', length=164.20526), Row(page='NextSong', length=66.97751), Row(page='NextSong', length=118.12526), Row(page='NextSong', length=334.10567), Row(page='NextSong', length=324.51873), Row(page='NextSong', length=120.78975), Row(page='NextSong', length=342.20363), Row(page='NextSong', length=128.13016), Row(page='NextSong', length=113.10975), Row(page='NextSong', length=339.40853), Row(page='NextSong', length=136.46322), Row(page='NextSong', length=90.20036), Row(page='NextSong', length=440.31955), Row(page='NextSong', length=340.24444), Row(page='NextSong', length=185.0771), Row(page='NextSong', length=117.21098), Row(page='NextSong', length=310.12526), Row(page='NextSong', length=376.08444), Row(page='NextSong', length=400.63955), Row(page='NextSong', length=517.14567), Row(page='NextSong', length=449.85424), Row(page='NextSong', length=425.9522), Row(page='NextSong', length=34.7424), Row(page='NextSong', length=87.45751), Row(page='NextSong', length=307.64363), Row(page='NextSong', length=62.6673), Row(page='NextSong', length=24.5024), Row(page='NextSong', length=544.46975), Row(page='NextSong', length=337.24036), Row(page='NextSong', length=533.78567), Row(page='NextSong', length=429.50485), Row(page='NextSong', length=238.70649), Row(page='NextSong', length=221.1522), Row(page='NextSong', length=153.05098), Row(page='NextSong', length=234.37016), Row(page='NextSong', length=201.58649), Row(page='NextSong', length=789.52444), Row(page='NextSong', length=136.93342), Row(page='NextSong', length=213.65506), Row(page='NextSong', length=263.31383), Row(page='NextSong', length=207.62077), Row(page='NextSong', length=185.33832), Row(page='NextSong', length=360.51546), Row(page='NextSong', length=168.72444), Row(page='NextSong', length=194.19383), Row(page='NextSong', length=159.63383), Row(page='NextSong', length=275.12118), Row(page='NextSong', length=231.13098), Row(page='NextSong', length=346.40934), Row(page='NextSong', length=202.31791), Row(page='NextSong', length=305.42322), Row(page='NextSong', length=296.25424), Row(page='NextSong', length=300.14649), Row(page='NextSong', length=255.50322), Row(page='NextSong', length=191.68608), Row(page='NextSong', length=181.39383), Row(page='NextSong', length=133.82485), Row(page='NextSong', length=183.37914), Row(page='NextSong', length=301.26975), Row(page='NextSong', length=364.56444), Row(page='NextSong', length=289.41016), Row(page='NextSong', length=302.86322), Row(page='NextSong', length=127.29424), Row(page='NextSong', length=270.91546), Row(page='NextSong', length=326.32118), Row(page='NextSong', length=231.36608), Row(page='NextSong', length=319.42485), Row(page='NextSong', length=141.94893), Row(page='NextSong', length=310.5171), Row(page='NextSong', length=495.77751), Row(page='NextSong', length=571.01016), Row(page='NextSong', length=736.44363), Row(page='NextSong', length=147.19955), Row(page='NextSong', length=230.76526), Row(page='NextSong', length=179.74812), Row(page='NextSong', length=245.002), Row(page='NextSong', length=473.10322), Row(page='NextSong', length=166.42567), Row(page='NextSong', length=298.55302), Row(page='NextSong', length=368.56118), Row(page='NextSong', length=146.28526), Row(page='NextSong', length=529.60608), Row(page='NextSong', length=379.95057), Row(page='NextSong', length=549.77261), Row(page='NextSong', length=434.96444), Row(page='NextSong', length=129.01832), Row(page='NextSong', length=627.64363), Row(page='NextSong', length=89.7824), Row(page='NextSong', length=300.48608), Row(page='NextSong', length=319.242), Row(page='NextSong', length=371.46077), Row(page='NextSong', length=130.48118), Row(page='NextSong', length=66.08934), Row(page='NextSong', length=153.99138), Row(page='NextSong', length=442.04363), Row(page='NextSong', length=816.27383), Row(page='NextSong', length=354.5073), Row(page='NextSong', length=46.23628), Row(page='NextSong', length=112.74404), Row(page='NextSong', length=334.57587), Row(page='NextSong', length=82.20689), Row(page='NextSong', length=121.88689), Row(page='NextSong', length=110.62812), Row(page='NextSong', length=103.57506), Row(page='NextSong', length=260.07465), Row(page='NextSong', length=222.30159), Row(page='NextSong', length=248.94649), Row(page='NextSong', length=244.92363), Row(page='NextSong', length=240.53506), Row(page='NextSong', length=209.00526), Row(page='NextSong', length=522.86649), Row(page='NextSong', length=282.67057), Row(page='NextSong', length=213.86404), Row(page='NextSong', length=175.72526), Row(page='NextSong', length=239.98649), Row(page='NextSong', length=360.09751), Row(page='NextSong', length=240.19546), Row(page='NextSong', length=220.1073), Row(page='NextSong', length=209.6322), Row(page='NextSong', length=216.52853), Row(page='NextSong', length=288.13016), Row(page='NextSong', length=178.33751), Row(page='NextSong', length=178.36363), Row(page='NextSong', length=241.68444), Row(page='NextSong', length=202.68363), Row(page='NextSong', length=435.43465), Row(page='NextSong', length=160.65261), Row(page='NextSong', length=243.85261), Row(page='NextSong', length=218.43546), Row(page='NextSong', length=170.00444), Row(page='NextSong', length=341.91628), Row(page='NextSong', length=273.29261), Row(page='NextSong', length=300.64281), Row(page='NextSong', length=312.18893), Row(page='NextSong', length=184.63302), Row(page='NextSong', length=240.3522), Row(page='NextSong', length=415.50322), Row(page='NextSong', length=321.74975), Row(page='NextSong', length=129.95873), Row(page='NextSong', length=351.92118), Row(page='NextSong', length=145.71057), Row(page='NextSong', length=85.26322), Row(page='NextSong', length=88.78975), Row(page='NextSong', length=160.13016), Row(page='NextSong', length=404.34893), Row(page='NextSong', length=309.44608), Row(page='NextSong', length=323.05587), Row(page='NextSong', length=625.05751), Row(page='NextSong', length=322.82077), Row(page='NextSong', length=476.9171), Row(page='NextSong', length=145.6322), Row(page='NextSong', length=319.97342), Row(page='NextSong', length=335.72526), Row(page='NextSong', length=559.25506), Row(page='NextSong', length=405.55057), Row(page='NextSong', length=614.08608), Row(page='NextSong', length=520.9073), Row(page='NextSong', length=414.24934), Row(page='NextSong', length=326.89587), Row(page='NextSong', length=679.00036), Row(page='NextSong', length=138.31791), Row(page='NextSong', length=100.23138), Row(page='NextSong', length=68.80608), Row(page='NextSong', length=375.92771), Row(page='NextSong', length=365.29587), Row(page='NextSong', length=339.1473), Row(page='NextSong', length=119.77098), Row(page='NextSong', length=382.98077), Row(page='NextSong', length=659.85261), Row(page='NextSong', length=606.74567), Row(page='NextSong', length=420.38812), Row(page='NextSong', length=694.67383), Row(page='NextSong', length=147.87873), Row(page='NextSong', length=85.15873), Row(page='NextSong', length=371.04281), Row(page='NextSong', length=2297.39057), Row(page='NextSong', length=485.98159), Row(page='NextSong', length=453.95546), Row(page='NextSong', length=150.96118), Row(page='NextSong', length=307.04281), Row(page='NextSong', length=226.08934), Row(page='NextSong', length=278.02077), Row(page='NextSong', length=314.53995), Row(page='NextSong', length=177.31873), Row(page='NextSong', length=184.99873), Row(page='NextSong', length=119.11791), Row(page='NextSong', length=318.48444), Row(page='NextSong', length=168.80281), Row(page='NextSong', length=154.122), Row(page='NextSong', length=251.11465), Row(page='NextSong', length=370.15465), Row(page='NextSong', length=224.1824), Row(page='NextSong', length=380.86485), Row(page='NextSong', length=138.84036), Row(page='NextSong', length=333.5571), Row(page='NextSong', length=338.54649), Row(page='NextSong', length=379.14077), Row(page='NextSong', length=93.70077), Row(page='NextSong', length=219.55873), Row(page='NextSong', length=189.1522), Row(page='NextSong', length=423.13098), Row(page='NextSong', length=429.7922), Row(page='NextSong', length=213.83791), Row(page='NextSong', length=280.99873), Row(page='NextSong', length=236.79955), Row(page='NextSong', length=417.93261), Row(page='NextSong', length=442.40934), Row(page='NextSong', length=352.23465), Row(page='NextSong', length=583.70567), Row(page='NextSong', length=185.49506), Row(page='NextSong', length=268.87791), Row(page='NextSong', length=331.7024), Row(page='NextSong', length=366.78485), Row(page='NextSong', length=264.82893), Row(page='NextSong', length=149.73342), Row(page='NextSong', length=165.56363), Row(page='NextSong', length=463.62077), Row(page='NextSong', length=159.39873), Row(page='NextSong', length=126.48444), Row(page='NextSong', length=110.86322), Row(page='NextSong', length=144.37832), Row(page='NextSong', length=316.86485), Row(page='NextSong', length=323.082), Row(page='NextSong', length=378.40934), Row(page='NextSong', length=485.79873), Row(page='NextSong', length=475.21914), Row(page='NextSong', length=30.37995), Row(page='NextSong', length=107.91138), Row(page='NextSong', length=484.91057), Row(page='NextSong', length=484.5971), Row(page='NextSong', length=528.84853), Row(page='NextSong', length=113.05751), Row(page='NextSong', length=494.62812), Row(page='NextSong', length=564.61016), Row(page='NextSong', length=485.3024), Row(page='NextSong', length=246.25587), Row(page='NextSong', length=260.75383), Row(page='NextSong', length=236.12036), Row(page='NextSong', length=281.23383), Row(page='NextSong', length=168.61995), Row(page='NextSong', length=144.06485), Row(page='NextSong', length=194.14159), Row(page='NextSong', length=258.24608), Row(page='NextSong', length=224.91383), Row(page='NextSong', length=203.7024), Row(page='NextSong', length=463.04608), Row(page='NextSong', length=172.48608), Row(page='NextSong', length=218.122), Row(page='NextSong', length=341.05424), Row(page='NextSong', length=155.37587), Row(page='NextSong', length=259.94404), Row(page='NextSong', length=156.36853), Row(page='NextSong', length=242.33751), Row(page='NextSong', length=210.93832), Row(page='NextSong', length=239.72526), Row(page='NextSong', length=295.57506), Row(page='NextSong', length=284.26404), Row(page='NextSong', length=249.28608), Row(page='NextSong', length=258.35057), Row(page='NextSong', length=314.38322), Row(page='NextSong', length=280.58077), Row(page='NextSong', length=152.31955), Row(page='NextSong', length=145.03138), Row(page='NextSong', length=300.01587), Row(page='NextSong', length=273.65832), Row(page='NextSong', length=146.6771), Row(page='NextSong', length=451.63057), Row(page='NextSong', length=317.51791), Row(page='NextSong', length=154.64444), Row(page='NextSong', length=261.642), Row(page='NextSong', length=147.40853), Row(page='NextSong', length=237.68771), Row(page='NextSong', length=402.28526), Row(page='NextSong', length=163.21261), Row(page='NextSong', length=283.37587), Row(page='NextSong', length=449.14893), Row(page='NextSong', length=409.70404), Row(page='NextSong', length=383.4771), Row(page='NextSong', length=124.76036), Row(page='NextSong', length=310.41261), Row(page='NextSong', length=198.71302), Row(page='NextSong', length=1137.50159), Row(page='NextSong', length=404.58404), Row(page='NextSong', length=319.16363), Row(page='NextSong', length=120.76363), Row(page='NextSong', length=71.60118), Row(page='NextSong', length=442.53995), Row(page='NextSong', length=384.60036), Row(page='NextSong', length=126.32771), Row(page='NextSong', length=145.44934), Row(page='NextSong', length=147.48689), Row(page='NextSong', length=416.93995), Row(page='NextSong', length=345.93914), Row(page='NextSong', length=348.44689), Row(page='NextSong', length=190.32771), Row(page='NextSong', length=378.09587), Row(page='NextSong', length=128.9922), Row(page='NextSong', length=358.71302), Row(page='NextSong', length=476.94322), Row(page='NextSong', length=547.57832), Row(page='NextSong', length=327.13098), Row(page='NextSong', length=344.76363), Row(page='NextSong', length=58.09587), Row(page='NextSong', length=82.9122), Row(page='NextSong', length=446.37995), Row(page='NextSong', length=121.65179), Row(page='NextSong', length=467.43465), Row(page='NextSong', length=361.84771), Row(page='NextSong', length=310.20363), Row(page='NextSong', length=79.17669), Row(page='NextSong', length=106.60526), Row(page='NextSong', length=151.11791), Row(page='NextSong', length=126.1971), Row(page='NextSong', length=50.83383), Row(page='NextSong', length=765.12608), Row(page='NextSong', length=251.14077), Row(page='NextSong', length=350.32771), Row(page='NextSong', length=235.65016), Row(page='NextSong', length=220.73424), Row(page='NextSong', length=502.85669), Row(page='NextSong', length=184.842), Row(page='NextSong', length=264.88118), Row(page='NextSong', length=196.88444), Row(page='NextSong', length=412.47302), Row(page='NextSong', length=281.75628), Row(page='NextSong', length=374.62159), Row(page='NextSong', length=207.35955), Row(page='NextSong', length=229.32853), Row(page='NextSong', length=358.21669), Row(page='NextSong', length=327.47057), Row(page='NextSong', length=232.82893), Row(page='NextSong', length=278.85669), Row(page='NextSong', length=227.13424), Row(page='NextSong', length=169.32526), Row(page='NextSong', length=141.58322), Row(page='NextSong', length=423.96689), Row(page='NextSong', length=233.50812), Row(page='NextSong', length=211.17342), Row(page='NextSong', length=209.10975), Row(page='NextSong', length=283.24526), Row(page='NextSong', length=342.02077), Row(page='NextSong', length=266.65751), Row(page='NextSong', length=322.92526), Row(page='NextSong', length=233.42975), Row(page='NextSong', length=167.1571), Row(page='NextSong', length=140.66893), Row(page='NextSong', length=275.1473), Row(page='NextSong', length=343.14404), Row(page='NextSong', length=449.30567), Row(page='NextSong', length=216.37179), Row(page='NextSong', length=272.90077), Row(page='NextSong', length=144.45669), Row(page='NextSong', length=300.06812), Row(page='NextSong', length=391.83628), Row(page='NextSong', length=148.40118), Row(page='NextSong', length=281.3122), Row(page='NextSong', length=214.90893), Row(page='NextSong', length=118.69995), Row(page='NextSong', length=397.322), Row(page='NextSong', length=230.97424), Row(page='NextSong', length=168.85506), Row(page='NextSong', length=324.54485), Row(page='NextSong', length=31.00689), Row(page='NextSong', length=367.5424), Row(page='NextSong', length=67.83955), Row(page='NextSong', length=275.33016), Row(page='NextSong', length=109.24363), Row(page='NextSong', length=153.91302), Row(page='NextSong', length=346.20036), Row(page='NextSong', length=326.63465), Row(page='NextSong', length=422.13832), Row(page='NextSong', length=161.64526), Row(page='NextSong', length=324.23138), Row(page='NextSong', length=335.43791), Row(page='NextSong', length=377.73016), Row(page='NextSong', length=848.27383), Row(page='NextSong', length=140.93016), Row(page='NextSong', length=482.42893), Row(page='NextSong', length=172.06812), Row(page='NextSong', length=152.5024), Row(page='NextSong', length=97.43628), Row(page='NextSong', length=135.02649), Row(page='NextSong', length=323.47383), Row(page='NextSong', length=70.39955), Row(page='NextSong', length=359.81016), Row(page='NextSong', length=339.46077), Row(page='NextSong', length=136.95955), Row(page='NextSong', length=367.85587), Row(page='NextSong', length=594.57261), Row(page='NextSong', length=456.88118), Row(page='NextSong', length=419.02975), Row(page='NextSong', length=462.18404), Row(page='NextSong', length=341.18485), Row(page='NextSong', length=442.22649), Row(page='NextSong', length=341.68118), Row(page='NextSong', length=462.21016), Row(page='NextSong', length=107.98975), Row(page='NextSong', length=166.1122), Row(page='NextSong', length=250.93179), Row(page='NextSong', length=282.95791), Row(page='NextSong', length=423.75791), Row(page='NextSong', length=792.52853), Row(page='NextSong', length=235.98975), Row(page='NextSong', length=299.83302), Row(page='NextSong', length=187.76771), Row(page='NextSong', length=291.42159), Row(page='NextSong', length=285.25669), Row(page='NextSong', length=1467.79383), Row(page='NextSong', length=62.35383), Row(page='NextSong', length=207.64689), Row(page='NextSong', length=260.41424), Row(page='NextSong', length=299.62404), Row(page='NextSong', length=159.05914), Row(page='NextSong', length=301.5571), Row(page='NextSong', length=99.36934), Row(page='NextSong', length=258.79465), Row(page='NextSong', length=254.53669), Row(page='NextSong', length=228.12689), Row(page='NextSong', length=376.47628), Row(page='NextSong', length=308.27057), Row(page='NextSong', length=221.04771), Row(page='NextSong', length=627.82649), Row(page='NextSong', length=154.17424), Row(page='NextSong', length=135.94077), Row(page='NextSong', length=128.07791), Row(page='NextSong', length=50.78159), Row(page='NextSong', length=370.23302), Row(page='NextSong', length=342.38649), Row(page='NextSong', length=228.75383), Row(page='NextSong', length=237.45261), Row(page='NextSong', length=371.69587), Row(page='NextSong', length=431.93424), Row(page='NextSong', length=405.81179), Row(page='NextSong', length=174.15791), Row(page='NextSong', length=183.06567), Row(page='NextSong', length=17.162), Row(page='NextSong', length=201.19465), Row(page='NextSong', length=113.26649), Row(page='NextSong', length=318.45832), Row(page='NextSong', length=255.84281), Row(page='NextSong', length=278.59546), Row(page='NextSong', length=254.69342), Row(page='NextSong', length=276.55791), Row(page='NextSong', length=133.40689), Row(page='NextSong', length=296.75057), Row(page='NextSong', length=189.02159), Row(page='NextSong', length=147.53914), Row(page='NextSong', length=111.62077), Row(page='NextSong', length=295.07873), Row(page='NextSong', length=344.58077), Row(page='NextSong', length=65.14893), Row(page='NextSong', length=420.07465), Row(page='NextSong', length=465.3971), Row(page='NextSong', length=300.95628), Row(page='NextSong', length=63.52934), Row(page='NextSong', length=280.16281), Row(page='NextSong', length=424.82893), Row(page='NextSong', length=116.00934), Row(page='NextSong', length=92.21179), Row(page='NextSong', length=405.52444), Row(page='NextSong', length=602.17424), Row(page='NextSong', length=326.81751), Row(page='NextSong', length=407.7971), Row(page='NextSong', length=92.52526), Row(page='NextSong', length=308.06159), Row(page='NextSong', length=352.57424), Row(page='NextSong', length=35.89179), Row(page='NextSong', length=355.94404), Row(page='NextSong', length=303.49016), Row(page='NextSong', length=341.36771), Row(page='NextSong', length=98.79465), Row(page='NextSong', length=399.80363), Row(page='NextSong', length=379.19302), Row(page='NextSong', length=68.28363), Row(page='NextSong', length=127.21587), Row(page='NextSong', length=327.18322), Row(page='NextSong', length=317.77914), Row(page='NextSong', length=501.39383), Row(page='NextSong', length=127.97342), Row(page='NextSong', length=512.20853), Row(page='NextSong', length=239.90812), Row(page='NextSong', length=169.45587), Row(page='NextSong', length=172.90404), Row(page='NextSong', length=215.66649), Row(page='NextSong', length=276.13995), Row(page='NextSong', length=167.00036), Row(page='NextSong', length=203.41506), Row(page='NextSong', length=198.03383), Row(page='NextSong', length=238.62812), Row(page='NextSong', length=483.60444), Row(page='NextSong', length=342.41261), Row(page='NextSong', length=191.05914), Row(page='NextSong', length=233.22077), Row(page='NextSong', length=398.47138), Row(page='NextSong', length=309.57669), Row(page='NextSong', length=221.30893), Row(page='NextSong', length=178.12853), Row(page='NextSong', length=231.52281), Row(page='NextSong', length=318.32771), Row(page='NextSong', length=213.2371), Row(page='NextSong', length=241.8673), Row(page='NextSong', length=289.64526), Row(page='NextSong', length=168.33261), Row(page='NextSong', length=364.45995), Row(page='NextSong', length=209.162), Row(page='NextSong', length=259.34322), Row(page='NextSong', length=244.06159), Row(page='NextSong', length=352.86159), Row(page='NextSong', length=341.13261), Row(page='NextSong', length=160.10404), Row(page='NextSong', length=334.54975), Row(page='NextSong', length=136.72444), Row(page='NextSong', length=261.14567), Row(page='NextSong', length=328.01914), Row(page='NextSong', length=625.99791), Row(page='NextSong', length=347.89832), Row(page='NextSong', length=127.4771), Row(page='NextSong', length=294.29506), Row(page='NextSong', length=293.11955), Row(page='NextSong', length=420.57098), Row(page='NextSong', length=430.75873), Row(page='NextSong', length=138.94485), Row(page='NextSong', length=44.30322), Row(page='NextSong', length=156.682), Row(page='NextSong', length=112.84853), Row(page='NextSong', length=327.20934), Row(page='NextSong', length=413.77914), Row(page='NextSong', length=399.62077), Row(page='NextSong', length=366.0273), Row(page='NextSong', length=338.59873), Row(page='NextSong', length=95.84281), Row(page='NextSong', length=477.77914), Row(page='NextSong', length=373.75955), Row(page='NextSong', length=301.63546), Row(page='NextSong', length=676.28363), Row(page='NextSong', length=394.44853), Row(page='NextSong', length=408.58077), Row(page='NextSong', length=78.75873), Row(page='NextSong', length=353.25342), Row(page='NextSong', length=474.98404), Row(page='NextSong', length=450.37669), Row(page='NextSong', length=289.12281), Row(page='NextSong', length=290.2722), Row(page='NextSong', length=200.9073), Row(page='NextSong', length=203.4673), Row(page='NextSong', length=190.77179), Row(page='NextSong', length=266.34404), Row(page='NextSong', length=112.37832), Row(page='NextSong', length=233.1424), Row(page='NextSong', length=504.92036), Row(page='NextSong', length=291.00363), Row(page='NextSong', length=305.6322), Row(page='NextSong', length=141.19138), Row(page='NextSong', length=230.1122), Row(page='NextSong', length=177.21424), Row(page='NextSong', length=240.37832), Row(page='NextSong', length=195.13424), Row(page='NextSong', length=166.63465), Row(page='NextSong', length=292.98893), Row(page='NextSong', length=213.57669), Row(page='NextSong', length=266.44853), Row(page='NextSong', length=199.99302), Row(page='NextSong', length=270.21016), Row(page='NextSong', length=222.53669), Row(page='NextSong', length=561.08363), Row(page='NextSong', length=350.37995), Row(page='NextSong', length=151.32689), Row(page='NextSong', length=162.2722), Row(page='NextSong', length=413.23057), Row(page='NextSong', length=359.67955), Row(page='NextSong', length=312.08444), Row(page='NextSong', length=136.48934), Row(page='NextSong', length=332.59057), Row(page='NextSong', length=165.66812), Row(page='NextSong', length=257.85424), Row(page='NextSong', length=625.03138), Row(page='NextSong', length=478.14485), Row(page='NextSong', length=467.17342), Row(page='NextSong', length=190.37995), Row(page='NextSong', length=217.65179), Row(page='NextSong', length=302.00118), Row(page='NextSong', length=362.39628), Row(page='NextSong', length=225.802), Row(page='NextSong', length=551.23546), Row(page='NextSong', length=314.64444), Row(page='NextSong', length=332.45995), Row(page='NextSong', length=379.6371), Row(page='NextSong', length=481.93261), Row(page='NextSong', length=312.68526), Row(page='NextSong', length=273.97179), Row(page='NextSong', length=277.68118), Row(page='NextSong', length=300.35546), Row(page='NextSong', length=298.84036), Row(page='NextSong', length=142.57587), Row(page='NextSong', length=483.68281), Row(page='NextSong', length=296.98567), Row(page='NextSong', length=69.0673), Row(page='NextSong', length=425.11628), Row(page='NextSong', length=112.61342), Row(page='NextSong', length=405.31546), Row(page='NextSong', length=523.51955), Row(page='NextSong', length=466.88608), Row(page='NextSong', length=78.81098), Row(page='NextSong', length=92.3424), Row(page='NextSong', length=53.13261), Row(page='NextSong', length=127.92118), Row(page='NextSong', length=427.54567), Row(page='NextSong', length=362.91873), Row(page='NextSong', length=356.80608), Row(page='NextSong', length=118.88281), Row(page='NextSong', length=452.362), Row(page='NextSong', length=496.45669), Row(page='NextSong', length=337.21424), Row(page='NextSong', length=403.40853), Row(page='NextSong', length=199.81016), Row(page='NextSong', length=183.43138), Row(page='NextSong', length=232.64608), Row(page='NextSong', length=179.33016), Row(page='NextSong', length=458.762), Row(page='NextSong', length=207.75138), Row(page='NextSong', length=196.96281), Row(page='NextSong', length=207.69914), Row(page='NextSong', length=148.81914), Row(page='NextSong', length=486.68689), Row(page='NextSong', length=114.93832), Row(page='NextSong', length=218.72281), Row(page='NextSong', length=330.1873), Row(page='NextSong', length=400.90077), Row(page='NextSong', length=378.5922), Row(page='NextSong', length=270.23628), Row(page='NextSong', length=486.19057), Row(page='NextSong', length=241.65832), Row(page='NextSong', length=359.96689), Row(page='NextSong', length=183.45751), Row(page='NextSong', length=229.40689), Row(page='NextSong', length=149.89016), Row(page='NextSong', length=302.94159), Row(page='NextSong', length=311.06567), Row(page='NextSong', length=229.17179), Row(page='NextSong', length=256.522), Row(page='NextSong', length=357.35465), Row(page='NextSong', length=133.19791), Row(page='NextSong', length=186.53995), Row(page='NextSong', length=339.98322), Row(page='NextSong', length=91.45424), Row(page='NextSong', length=241.84118), Row(page='NextSong', length=147.66975), Row(page='NextSong', length=235.49342), Row(page='NextSong', length=86.49098), Row(page='NextSong', length=90.40934), Row(page='NextSong', length=439.50975), Row(page='NextSong', length=393.32526), Row(page='NextSong', length=158.06649), Row(page='NextSong', length=449.54077), Row(page='NextSong', length=181.57669), Row(page='NextSong', length=137.74322), Row(page='NextSong', length=140.01587), Row(page='NextSong', length=277.7073), Row(page='NextSong', length=348.96934), Row(page='NextSong', length=433.162), Row(page='NextSong', length=286.53669), Row(page='NextSong', length=428.77342), Row(page='NextSong', length=337.68444), Row(page='NextSong', length=232.98567), Row(page='NextSong', length=160.60036), Row(page='NextSong', length=313.52118), Row(page='NextSong', length=72.38485), Row(page='NextSong', length=397.16526), Row(page='NextSong', length=59.89832), Row(page='NextSong', length=574.87628), Row(page='NextSong', length=386.2722), Row(page='NextSong', length=120.58077), Row(page='NextSong', length=379.92444), Row(page='NextSong', length=69.56363), Row(page='NextSong', length=869.8771), Row(page='NextSong', length=148.03546), Row(page='NextSong', length=120.55465), Row(page='NextSong', length=422.60853), Row(page='NextSong', length=820.89751), Row(page='NextSong', length=194.42893), Row(page='NextSong', length=531.3824), Row(page='NextSong', length=549.09342), Row(page='NextSong', length=373.86404), Row(page='NextSong', length=546.42893), Row(page='NextSong', length=476.31628), Row(page='NextSong', length=65.17506), Row(page='NextSong', length=60.36853), Row(page='NextSong', length=450.5073), Row(page='NextSong', length=61.57016), Row(page='NextSong', length=204.5122), Row(page='NextSong', length=216.00608), Row(page='NextSong', length=141.87057), Row(page='NextSong', length=249.88689), Row(page='NextSong', length=157.04771), Row(page='NextSong', length=258.76853), Row(page='NextSong', length=330.9971), Row(page='NextSong', length=239.56853), Row(page='NextSong', length=217.02485), Row(page='NextSong', length=94.04036), Row(page='NextSong', length=201.09016), Row(page='NextSong', length=311.30077), Row(page='NextSong', length=306.23302), Row(page='NextSong', length=1180.89098), Row(page='NextSong', length=228.33587), Row(page='NextSong', length=345.70404), Row(page='NextSong', length=174.91546), Row(page='NextSong', length=311.90159), Row(page='NextSong', length=223.55546), Row(page='NextSong', length=317.93587), Row(page='NextSong', length=282.3571), Row(page='NextSong', length=285.43955), Row(page='NextSong', length=346.85342), Row(page='NextSong', length=303.59465), Row(page='NextSong', length=291.89179), Row(page='NextSong', length=578.16771), Row(page='NextSong', length=277.02812), Row(page='NextSong', length=271.72526), Row(page='NextSong', length=405.2371), Row(page='NextSong', length=74.34404), Row(page='NextSong', length=27.402), Row(page='NextSong', length=191.99955), Row(page='NextSong', length=206.07955), Row(page='NextSong', length=433.08363), Row(page='NextSong', length=86.96118), Row(page='NextSong', length=135.57506), Row(page='NextSong', length=357.79873), Row(page='NextSong', length=236.06812), Row(page='NextSong', length=136.77669), Row(page='NextSong', length=325.58975), Row(page='NextSong', length=369.10975), Row(page='NextSong', length=479.08526), Row(page='NextSong', length=263.65342), Row(page='NextSong', length=95.13751), Row(page='NextSong', length=187.79383), Row(page='NextSong', length=312.39791), Row(page='NextSong', length=502.59546), Row(page='NextSong', length=476.42077), Row(page='NextSong', length=147.22567), Row(page='NextSong', length=187.84608), Row(page='NextSong', length=443.8722), Row(page='NextSong', length=653.60934), Row(page='NextSong', length=407.77098), Row(page='NextSong', length=540.44689), Row(page='NextSong', length=302.21016), Row(page='NextSong', length=366.41914), Row(page='NextSong', length=358.3473), Row(page='NextSong', length=500.16608), Row(page='NextSong', length=74.1873), Row(page='NextSong', length=144.92689), Row(page='NextSong', length=476.65587), Row(page='NextSong', length=365.5571), Row(page='NextSong', length=124.23791), Row(page='NextSong', length=106.762), Row(page='NextSong', length=559.35955), Row(page='NextSong', length=110.28853), Row(page='NextSong', length=335.5424), Row(page='NextSong', length=79.3073), Row(page='NextSong', length=236.7473), Row(page='NextSong', length=116.76689), Row(page='NextSong', length=248.08444), Row(page='NextSong', length=487.81016), Row(page='NextSong', length=173.53098), Row(page='NextSong', length=202.08281), Row(page='NextSong', length=135.6273), Row(page='NextSong', length=232.54159), Row(page='NextSong', length=224.26077), Row(page='NextSong', length=395.85914), Row(page='NextSong', length=267.59791), Row(page='NextSong', length=190.56281), Row(page='NextSong', length=206.28853), Row(page='NextSong', length=178.46812), Row(page='NextSong', length=211.1473), Row(page='NextSong', length=299.38893), Row(page='NextSong', length=339.87873), Row(page='NextSong', length=350.6673), Row(page='NextSong', length=447.58159), Row(page='NextSong', length=161.27955), Row(page='NextSong', length=330.84036), Row(page='NextSong', length=524.30322), Row(page='NextSong', length=97.72363), Row(page='NextSong', length=200.04526), Row(page='NextSong', length=243.17342), Row(page='NextSong', length=195.34322), Row(page='NextSong', length=136.01914), Row(page='NextSong', length=391.3922), Row(page='NextSong', length=106.91873), Row(page='NextSong', length=245.7073), Row(page='NextSong', length=256.80934), Row(page='NextSong', length=72.64608), Row(page='NextSong', length=431.38567), Row(page='NextSong', length=307.06893), Row(page='NextSong', length=155.84608), Row(page='NextSong', length=195.73506), Row(page='NextSong', length=169.22077), Row(page='NextSong', length=254.74567), Row(page='NextSong', length=342.04689), Row(page='NextSong', length=149.9424), Row(page='NextSong', length=401.8673), Row(page='NextSong', length=302.41914), Row(page='NextSong', length=264.04526), Row(page='NextSong', length=420.10077), Row(page='NextSong', length=129.74975), Row(page='NextSong', length=147.01669), Row(page='NextSong', length=347.8722), Row(page='NextSong', length=174.13179), Row(page='NextSong', length=149.86404), Row(page='NextSong', length=33.2273), Row(page='NextSong', length=381.64853), Row(page='NextSong', length=126.51057), Row(page='NextSong', length=168.41098), Row(page='NextSong', length=332.53832), Row(page='NextSong', length=472.78975), Row(page='NextSong', length=117.68118), Row(page='NextSong', length=345.49506), Row(page='NextSong', length=384.26077), Row(page='NextSong', length=282.56608), Row(page='NextSong', length=482.0371), Row(page='NextSong', length=164.64934), Row(page='NextSong', length=517.56363), Row(page='NextSong', length=410.40934), Row(page='NextSong', length=497.34485), Row(page='NextSong', length=502.07302), Row(page='NextSong', length=449.25342), Row(page='NextSong', length=193.95873), Row(page='NextSong', length=549.74649), Row(page='NextSong', length=350.04036), Row(page='NextSong', length=46.00118), Row(page='NextSong', length=334.15791), Row(page='NextSong', length=395.7024), Row(page='NextSong', length=81.52771), Row(page='NextSong', length=243.04281), Row(page='NextSong', length=302.8371), Row(page='NextSong', length=181.99465), Row(page='NextSong', length=216.99873), Row(page='NextSong', length=168.35873), Row(page='NextSong', length=431.15057), Row(page='NextSong', length=233.24689), Row(page='NextSong', length=252.39465), Row(page='NextSong', length=185.15546), Row(page='NextSong', length=108.25098), Row(page='NextSong', length=188.05506), Row(page='NextSong', length=304.1171), Row(page='NextSong', length=244.74077), Row(page='NextSong', length=418.19383), Row(page='NextSong', length=207.98649), Row(page='NextSong', length=224.96608), Row(page='NextSong', length=270.70649), Row(page='NextSong', length=295.88853), Row(page='NextSong', length=255.11138), Row(page='NextSong', length=333.26975), Row(page='NextSong', length=243.48689), Row(page='NextSong', length=289.88036), Row(page='NextSong', length=342.22975), Row(page='NextSong', length=253.07383), Row(page='NextSong', length=167.05261), Row(page='NextSong', length=1959.00036), Row(page='NextSong', length=151.50975), Row(page='NextSong', length=235.85914), Row(page='NextSong', length=296.04526), Row(page='NextSong', length=261.01506), Row(page='NextSong', length=230.50404), Row(page='NextSong', length=249.91302), Row(page='NextSong', length=178.28526), Row(page='NextSong', length=277.62893), Row(page='NextSong', length=187.89832), Row(page='NextSong', length=515.16036), Row(page='NextSong', length=153.86077), Row(page='NextSong', length=251.6371), Row(page='NextSong', length=276.74077), Row(page='NextSong', length=330.78812), Row(page='NextSong', length=155.16689), Row(page='NextSong', length=316.3424), Row(page='NextSong', length=106.68363), Row(page='NextSong', length=12.69506), Row(page='NextSong', length=200.88118), Row(page='NextSong', length=177.60608), Row(page='NextSong', length=286.06649), Row(page='NextSong', length=138.97098), Row(page='NextSong', length=429.29587), Row(page='NextSong', length=1117.04771), Row(page='NextSong', length=107.93751), Row(page='NextSong', length=77.06077), Row(page='NextSong', length=455.54893), Row(page='NextSong', length=837.66812), Row(page='NextSong', length=308.16608), Row(page='NextSong', length=130.61179), Row(page='NextSong', length=468.1922), Row(page='NextSong', length=1731.00363), Row(page='NextSong', length=168.04526), Row(page='NextSong', length=443.29751), Row(page='NextSong', length=367.72526), Row(page='NextSong', length=327.94077), Row(page='NextSong', length=112.43057), Row(page='NextSong', length=538.67057), Row(page='NextSong', length=546.58567), Row(page='NextSong', length=442.67057), Row(page='NextSong', length=478.58893), Row(page='NextSong', length=542.22322), Row(page='NextSong', length=271.51628), Row(page='NextSong', length=318.92853), Row(page='NextSong', length=217.15546), Row(page='NextSong', length=158.01424), Row(page='NextSong', length=210.9122), Row(page='NextSong', length=228.64934), Row(page='NextSong', length=333.53098), Row(page='NextSong', length=25.7824), Row(page='NextSong', length=299.98975), Row(page='NextSong', length=159.76444), Row(page='NextSong', length=154.14812), Row(page='NextSong', length=306.80771), Row(page='NextSong', length=260.33587), Row(page='NextSong', length=222.9024), Row(page='NextSong', length=439.14404), Row(page='NextSong', length=133.95546), Row(page='NextSong', length=317.98812), Row(page='NextSong', length=164.17914), Row(page='NextSong', length=433.34485), Row(page='NextSong', length=336.97914), Row(page='NextSong', length=281.96526), Row(page='NextSong', length=299.67628), Row(page='NextSong', length=282.48771), Row(page='NextSong', length=279.06567), Row(page='NextSong', length=417.74975), Row(page='NextSong', length=475.37587), Row(page='NextSong', length=141.08689), Row(page='NextSong', length=397.63546), Row(page='NextSong', length=360.69832), Row(page='NextSong', length=163.70893), Row(page='NextSong', length=245.57669), Row(page='NextSong', length=254.1971), Row(page='NextSong', length=217.7824), Row(page='NextSong', length=407.82322), Row(page='NextSong', length=370.96444), Row(page='NextSong', length=120.89424), Row(page='NextSong', length=250.25261), Row(page='NextSong', length=327.8624), Row(page='NextSong', length=374.59546), Row(page='NextSong', length=100.85832), Row(page='NextSong', length=351.60771), Row(page='NextSong', length=317.46567), Row(page='NextSong', length=181.96853), Row(page='NextSong', length=263.28771), Row(page='NextSong', length=382.17098), Row(page='NextSong', length=625.26649), Row(page='NextSong', length=386.01098), Row(page='NextSong', length=419.3171), Row(page='NextSong', length=102.26893), Row(page='NextSong', length=93.80526), Row(page='NextSong', length=297.03791), Row(page='NextSong', length=245.49832), Row(page='NextSong', length=1037.81832), Row(page='NextSong', length=458.44853), Row(page='NextSong', length=503.95383), Row(page='NextSong', length=469.55057), Row(page='NextSong', length=283.42812), Row(page='NextSong', length=137.9522), Row(page='NextSong', length=439.19628), Row(page='NextSong', length=457.24689), Row(page='NextSong', length=132.28363), Row(page='NextSong', length=350.74567), Row(page='NextSong', length=105.74322), Row(page='NextSong', length=477.90975), Row(page='NextSong', length=445.72689), Row(page='NextSong', length=406.43873), Row(page='NextSong', length=620.93016), Row(page='NextSong', length=103.52281), Row(page='NextSong', length=117.81179), Row(page='NextSong', length=294.89587), Row(page='NextSong', length=396.43383), Row(page='NextSong', length=480.62649), Row(page='NextSong', length=118.25587), Row(page='NextSong', length=901.32853), Row(page='NextSong', length=87.77098), Row(page='NextSong', length=213.81179), Row(page='NextSong', length=295.23546), Row(page='NextSong', length=257.07057), Row(page='NextSong', length=330.10893), Row(page='NextSong', length=201.482), Row(page='NextSong', length=271.5424), Row(page='NextSong', length=184.11057), Row(page='NextSong', length=99.57832), Row(page='NextSong', length=217.28608), Row(page='NextSong', length=240.27383), Row(page='NextSong', length=462.13179), Row(page='NextSong', length=254.61506), Row(page='NextSong', length=190.71955), Row(page='NextSong', length=173.29587), Row(page='NextSong', length=203.88526), Row(page='NextSong', length=248.99873), Row(page='NextSong', length=231.00036), Row(page='NextSong', length=62.9024), Row(page='NextSong', length=252.86485), Row(page='NextSong', length=162.01098), Row(page='NextSong', length=248.78975), Row(page='NextSong', length=424.41098), Row(page='NextSong', length=279.50975), Row(page='NextSong', length=379.61098), Row(page='NextSong', length=62.48444), Row(page='NextSong', length=228.70159), Row(page='NextSong', length=128.62649), Row(page='NextSong', length=314.40934), Row(page='NextSong', length=239.15057), Row(page='NextSong', length=175.0722), Row(page='NextSong', length=285.49179), Row(page='NextSong', length=224.07791), Row(page='NextSong', length=306.93832), Row(page='NextSong', length=357.45914), Row(page='NextSong', length=505.25995), Row(page='NextSong', length=238.68036), Row(page='NextSong', length=105.61261), Row(page='NextSong', length=60.78649), Row(page='NextSong', length=279.74485), Row(page='NextSong', length=784.09098), Row(page='NextSong', length=319.65995), Row(page='NextSong', length=226.2722), Row(page='NextSong', length=326.66077), Row(page='NextSong', length=178.25914), Row(page='NextSong', length=94.51057), Row(page='NextSong', length=407.03955), Row(page='NextSong', length=103.88853), Row(page='NextSong', length=585.74322), Row(page='NextSong', length=332.25098), Row(page='NextSong', length=80.50893), Row(page='NextSong', length=279.40526), Row(page='NextSong', length=372.16608), Row(page='NextSong', length=322.97751), Row(page='NextSong', length=104.22812), Row(page='NextSong', length=697.25995), Row(page='NextSong', length=43.78077), Row(page='NextSong', length=846.15791), Row(page='NextSong', length=808.33261), Row(page='NextSong', length=398.36689), Row(page='NextSong', length=25.0771), Row(page='NextSong', length=63.99955), Row(page='NextSong', length=394.94485), Row(page='NextSong', length=481.25342), Row(page='NextSong', length=509.02159), Row(page='NextSong', length=748.7473), Row(page='NextSong', length=271.67302), Row(page='NextSong', length=311.87546), Row(page='NextSong', length=223.79057), Row(page='NextSong', length=213.18485), Row(page='NextSong', length=576.83546), Row(page='NextSong', length=258.0371), Row(page='NextSong', length=150.67383), Row(page='NextSong', length=440.2673), Row(page='NextSong', length=264.46322), Row(page='NextSong', length=214.38649), Row(page='NextSong', length=174.39302), Row(page='NextSong', length=230.03383), Row(page='NextSong', length=299.7024), Row(page='NextSong', length=159.45098), Row(page='NextSong', length=247.32689), Row(page='NextSong', length=256.67873), Row(page='NextSong', length=177.34485), Row(page='NextSong', length=250.06975), Row(page='NextSong', length=1388.5122), Row(page='NextSong', length=266.10893), Row(page='NextSong', length=293.01506), Row(page='NextSong', length=292.72771), Row(page='NextSong', length=129.67138), Row(page='NextSong', length=200.6722), Row(page='NextSong', length=319.68608), Row(page='NextSong', length=304.74404), Row(page='NextSong', length=385.82812), Row(page='NextSong', length=154.93179), Row(page='NextSong', length=189.59628), Row(page='NextSong', length=339.25179), Row(page='NextSong', length=182.25587), Row(page='NextSong', length=187.58485), Row(page='NextSong', length=647.49669), Row(page='NextSong', length=80.97914), Row(page='NextSong', length=286.82404), Row(page='NextSong', length=258.01098), Row(page='NextSong', length=355.39546), Row(page='NextSong', length=155.97669), Row(page='NextSong', length=220.76036), Row(page='NextSong', length=161.98485), Row(page='NextSong', length=333.47873), Row(page='NextSong', length=260.57098), Row(page='NextSong', length=165.77261), Row(page='NextSong', length=559.3073), Row(page='NextSong', length=173.11302), Row(page='NextSong', length=486.53016), Row(page='NextSong', length=296.93342), Row(page='NextSong', length=2560.7571), Row(page='NextSong', length=264.64608), Row(page='NextSong', length=397.89669), Row(page='NextSong', length=183.03955), Row(page='NextSong', length=296.09751), Row(page='NextSong', length=359.36608), Row(page='NextSong', length=481.98485), Row(page='NextSong', length=135.88853), Row(page='NextSong', length=321.72363), Row(page='NextSong', length=307.30404), Row(page='NextSong', length=182.54322), Row(page='NextSong', length=68.72771), Row(page='NextSong', length=323.65669), Row(page='NextSong', length=269.94893), Row(page='NextSong', length=386.95138), Row(page='NextSong', length=422.05995), Row(page='NextSong', length=274.59873), Row(page='NextSong', length=294.68689), Row(page='NextSong', length=153.75628), Row(page='NextSong', length=476.15955), Row(page='NextSong', length=153.5473), Row(page='NextSong', length=474.20036), Row(page='NextSong', length=507.16689), Row(page='NextSong', length=406.80444), Row(page='NextSong', length=440.45016), Row(page='NextSong', length=389.0673), Row(page='NextSong', length=501.41995), Row(page='NextSong', length=110.41914), Row(page='NextSong', length=86.41261), Row(page='NextSong', length=303.22893), Row(page='NextSong', length=13.16526), Row(page='NextSong', length=393.82159), Row(page='NextSong', length=32.41751), Row(page='NextSong', length=399.85587), Row(page='NextSong', length=78.68036), Row(page='NextSong', length=77.97506), Row(page='NextSong', length=158.64118), Row(page='NextSong', length=229.0673), Row(page='NextSong', length=323.44771), Row(page='NextSong', length=642.42893), Row(page='NextSong', length=256.93995), Row(page='NextSong', length=204.61669), Row(page='NextSong', length=260.20526), Row(page='NextSong', length=251.81995), Row(page='NextSong', length=251.84608), Row(page='NextSong', length=203.83302), Row(page='NextSong', length=235.75465), Row(page='NextSong', length=227.97016), Row(page='NextSong', length=255.81669), Row(page='NextSong', length=210.72934), Row(page='NextSong', length=287.03302), Row(page='NextSong', length=224.15628), Row(page='NextSong', length=373.9424), Row(page='NextSong', length=1055.4771), Row(page='NextSong', length=246.88281), Row(page='NextSong', length=475.74159), Row(page='NextSong', length=205.73995), Row(page='NextSong', length=311.61424), Row(page='NextSong', length=276.29669), Row(page='NextSong', length=123.14077), Row(page='NextSong', length=280.86812), Row(page='NextSong', length=149.7073), Row(page='NextSong', length=192.522), Row(page='NextSong', length=299.10159), Row(page='NextSong', length=323.3171), Row(page='NextSong', length=302.23628), Row(page='NextSong', length=163.36934), Row(page='NextSong', length=174.10567), Row(page='NextSong', length=244.11383), Row(page='NextSong', length=166.13832), Row(page='NextSong', length=136.6722), Row(page='NextSong', length=148.63628), Row(page='NextSong', length=145.89342), Row(page='NextSong', length=334.07955), Row(page='NextSong', length=172.042), Row(page='NextSong', length=300.87791), Row(page='NextSong', length=82.85995), Row(page='NextSong', length=373.81179), Row(page='NextSong', length=413.28281), Row(page='NextSong', length=445.25669), Row(page='NextSong', length=596.1922), Row(page='NextSong', length=386.58567), Row(page='NextSong', length=330.05669), Row(page='NextSong', length=436.97587), Row(page='NextSong', length=117.91628), Row(page='NextSong', length=149.34159), Row(page='NextSong', length=608.26077), Row(page='NextSong', length=175.93424), Row(page='NextSong', length=132.54485), Row(page='NextSong', length=325.79873), Row(page='NextSong', length=448.39138), Row(page='NextSong', length=600.76363), Row(page='NextSong', length=104.54159), Row(page='NextSong', length=447.00689), Row(page='NextSong', length=420.80608), Row(page='NextSong', length=432.92689), Row(page='NextSong', length=113.03138), Row(page='NextSong', length=368.03873), Row(page='NextSong', length=968.07138), Row(page='NextSong', length=465.91955), Row(page='NextSong', length=504.37179), Row(page='NextSong', length=490.9971), Row(page='NextSong', length=140.14649), Row(page='NextSong', length=212.81914), Row(page='NextSong', length=170.68363), Row(page='NextSong', length=111.22893), Row(page='NextSong', length=2136.24118), Row(page='NextSong', length=377.39057), Row(page='NextSong', length=326.05995), Row(page='NextSong', length=508.21179), Row(page='NextSong', length=768.9922), Row(page='NextSong', length=48.06485), Row(page='NextSong', length=555.33669), Row(page='NextSong', length=362.73587), Row(page='NextSong', length=392.6722), Row(page='NextSong', length=553.09016), Row(page='NextSong', length=292.49261), Row(page='NextSong', length=222.22322), Row(page='NextSong', length=404.94975), Row(page='NextSong', length=280.89424), Row(page='NextSong', length=243.22567), Row(page='NextSong', length=212.84526), Row(page='NextSong', length=106.73587), Row(page='NextSong', length=296.14975), Row(page='NextSong', length=221.20444), Row(page='NextSong', length=208.50893), Row(page='NextSong', length=226.55955), Row(page='NextSong', length=236.85179), Row(page='NextSong', length=292.362), Row(page='NextSong', length=244.45342), Row(page='NextSong', length=295.8624), Row(page='NextSong', length=310.96118), Row(page='NextSong', length=101.51138), Row(page='NextSong', length=491.38893), Row(page='NextSong', length=215.53587), Row(page='NextSong', length=332.87791), Row(page='NextSong', length=270.65424), Row(page='NextSong', length=253.59628), Row(page='NextSong', length=247.09179), Row(page='NextSong', length=221.36118), Row(page='NextSong', length=339.06893), Row(page='NextSong', length=113.44934), Row(page='NextSong', length=287.99955), Row(page='NextSong', length=284.76036), Row(page='NextSong', length=234.63138), Row(page='NextSong', length=120.45016), Row(page='NextSong', length=265.87383), Row(page='NextSong', length=435.59138), Row(page='NextSong', length=146.23302), Row(page='NextSong', length=129.27955), Row(page='NextSong', length=167.44444), Row(page='NextSong', length=82.88608), Row(page='NextSong', length=95.58159), Row(page='NextSong', length=500.71465), Row(page='NextSong', length=304.95302), Row(page='NextSong', length=171.28444), Row(page='NextSong', length=257.90649), Row(page='NextSong', length=173.58322), Row(page='NextSong', length=394.73587), Row(page='NextSong', length=340.63628), Row(page='NextSong', length=343.90159), Row(page='NextSong', length=346.72281), Row(page='NextSong', length=506.93179), Row(page='NextSong', length=319.13751), Row(page='NextSong', length=115.33016), Row(page='NextSong', length=279.66649), Row(page='NextSong', length=448.86159), Row(page='NextSong', length=549.22404), Row(page='NextSong', length=127.89506), Row(page='NextSong', length=344.92036), Row(page='NextSong', length=433.05751), Row(page='NextSong', length=361.50812), Row(page='NextSong', length=420.41424), Row(page='NextSong', length=458.84036), Row(page='NextSong', length=430.49751), Row(page='NextSong', length=1282.48118), Row(page='NextSong', length=648.202), Row(page='NextSong', length=404.84526), Row(page='NextSong', length=92.47302), Row(page='NextSong', length=77.68771), Row(page='NextSong', length=394.23955), Row(page='NextSong', length=346.8273), Row(page='NextSong', length=377.7824), Row(page='NextSong', length=29.80526), Row(page='NextSong', length=348.9171), Row(page='NextSong', length=349.67465), Row(page='NextSong', length=370.41587), Row(page='NextSong', length=219.66322), Row(page='NextSong', length=222.92853), Row(page='NextSong', length=192.13016), Row(page='NextSong', length=199.13098), Row(page='NextSong', length=344.34567), Row(page='NextSong', length=174.88934), Row(page='NextSong', length=207.12444), Row(page='NextSong', length=237.19138), Row(page='NextSong', length=399.882), Row(page='NextSong', length=317.6224), Row(page='NextSong', length=204.79955), Row(page='NextSong', length=245.13261), Row(page='NextSong', length=496.43057), Row(page='NextSong', length=276.87138), Row(page='NextSong', length=260.8322), Row(page='NextSong', length=244.79302), Row(page='NextSong', length=242.15465), Row(page='NextSong', length=107.12771), Row(page='NextSong', length=158.04036), Row(page='NextSong', length=127.99955), Row(page='NextSong', length=48.19546), Row(page='NextSong', length=126.74567), Row(page='NextSong', length=305.8673), Row(page='NextSong', length=229.35465), Row(page='NextSong', length=177.162), Row(page='NextSong', length=208.37832), Row(page='NextSong', length=179.82649), Row(page='NextSong', length=313.75628), Row(page='NextSong', length=268.59057), Row(page='NextSong', length=120.63302), Row(page='NextSong', length=160.15628), Row(page='NextSong', length=309.15873), Row(page='NextSong', length=544.10404), Row(page='NextSong', length=212.37506), Row(page='NextSong', length=288.86159), Row(page='NextSong', length=254.95465), Row(page='NextSong', length=286.95465), Row(page='NextSong', length=107.33669), Row(page='NextSong', length=276.79302), Row(page='NextSong', length=101.61587), Row(page='NextSong', length=285.77914), Row(page='NextSong', length=303.12444), Row(page='NextSong', length=374.38649), Row(page='NextSong', length=193.77587), Row(page='NextSong', length=213.91628), Row(page='NextSong', length=417.802), Row(page='NextSong', length=293.85098), Row(page='NextSong', length=163.00363), Row(page='NextSong', length=281.15546), Row(page='NextSong', length=472.2673), Row(page='NextSong', length=435.74812), Row(page='NextSong', length=271.20281), Row(page='NextSong', length=315.58485), Row(page='NextSong', length=958.30159), Row(page='NextSong', length=430.39302), Row(page='NextSong', length=90.30485), Row(page='NextSong', length=443.03628), Row(page='NextSong', length=111.49016), Row(page='NextSong', length=256.88771), Row(page='NextSong', length=450.40281), Row(page='NextSong', length=357.32853), Row(page='NextSong', length=134.81751), Row(page='NextSong', length=355.57832), Row(page='NextSong', length=422.73914), Row(page='NextSong', length=135.96689), Row(page='NextSong', length=642.92526), Row(page='NextSong', length=476.89098), Row(page='NextSong', length=474.17424), Row(page='NextSong', length=336.77016), Row(page='NextSong', length=488.28036), Row(page='NextSong', length=440.92036), Row(page='NextSong', length=419.00363), Row(page='NextSong', length=81.71057), Row(page='NextSong', length=133.90322), Row(page='NextSong', length=386.63791), Row(page='NextSong', length=357.90322), Row(page='NextSong', length=338.78159), Row(page='NextSong', length=134.60853), Row(page='NextSong', length=548.17914), Row(page='NextSong', length=388.15302), Row(page='NextSong', length=437.10649), Row(page='NextSong', length=352.96608), Row(page='NextSong', length=502.67383), Row(page='NextSong', length=359.18322), Row(page='NextSong', length=77.03465), Row(page='NextSong', length=32.36526), Row(page='NextSong', length=229.77261), Row(page='NextSong', length=272.43057), Row(page='NextSong', length=120.81587), Row(page='NextSong', length=338.46812), Row(page='NextSong', length=239.51628), Row(page='NextSong', length=326.08608), Row(page='NextSong', length=262.29506), Row(page='NextSong', length=434.57261), Row(page='NextSong', length=237.29587), Row(page='NextSong', length=258.92526), Row(page='NextSong', length=238.54975), Row(page='NextSong', length=167.54893), Row(page='NextSong', length=180.97587), Row(page='NextSong', length=185.96526), Row(page='NextSong', length=177.00526), Row(page='NextSong', length=352.88771), Row(page='NextSong', length=154.87955), Row(page='NextSong', length=331.02322), Row(page='NextSong', length=317.07383), Row(page='NextSong', length=224.83546), Row(page='NextSong', length=558.86322), Row(page='NextSong', length=211.64363), Row(page='NextSong', length=200.82893), Row(page='NextSong', length=180.87138), Row(page='NextSong', length=199.6273), Row(page='NextSong', length=337.89342), Row(page='NextSong', length=163.29098), Row(page='NextSong', length=218.67057), Row(page='NextSong', length=149.10649), Row(page='NextSong', length=106.94485), Row(page='NextSong', length=350.22322), Row(page='NextSong', length=136.30649), Row(page='NextSong', length=297.22077), Row(page='NextSong', length=249.96526), Row(page='NextSong', length=332.12036), Row(page='NextSong', length=400.74404), Row(page='NextSong', length=180.68853), Row(page='NextSong', length=313.49506), Row(page='NextSong', length=346.87955), Row(page='NextSong', length=309.13261), Row(page='NextSong', length=41.76934), Row(page='NextSong', length=197.43302), Row(page='NextSong', length=184.78975), Row(page='NextSong', length=123.29751), Row(page='NextSong', length=79.41179), Row(page='NextSong', length=208.06485), Row(page='NextSong', length=271.77751), Row(page='NextSong', length=481.33179), Row(page='NextSong', length=310.93506), Row(page='NextSong', length=223.11138), Row(page='NextSong', length=554.762), Row(page='NextSong', length=111.90812), Row(page='NextSong', length=149.2371), Row(page='NextSong', length=437.62893), Row(page='NextSong', length=316.05506), Row(page='NextSong', length=124.73424), Row(page='NextSong', length=444.9171), Row(page='NextSong', length=496.90077), Row(page='NextSong', length=445.04771), Row(page='NextSong', length=338.33751), Row(page='NextSong', length=263.75791), Row(page='NextSong', length=317.25669), Row(page='NextSong', length=498.12853), Row(page='NextSong', length=394.39628), Row(page='NextSong', length=59.92444), Row(page='NextSong', length=477.93587), Row(page='NextSong', length=143.80363), Row(page='NextSong', length=353.2273), Row(page='NextSong', length=170.05669), Row(page='NextSong', length=77.50485), Row(page='NextSong', length=434.80771), Row(page='NextSong', length=64.33914), Row(page='NextSong', length=426.50077), Row(page='NextSong', length=131.29098), Row(page='NextSong', length=116.63628), Row(page='NextSong', length=591.0722), Row(page='NextSong', length=143.33342), Row(page='NextSong', length=500.74077), Row(page='NextSong', length=93.12608), Row(page='NextSong', length=36.72771), Row(page='NextSong', length=189.41342), Row(page='NextSong', length=450.32444), Row(page='NextSong', length=554.47465), Row(page='NextSong', length=552.6722), Row(page='NextSong', length=646.89587), Row(page='NextSong', length=151.87546), Row(page='NextSong', length=428.5122), Row(page='NextSong', length=36.88444), Row(page='NextSong', length=598.33424), Row(page='NextSong', length=469.86404), Row(page='NextSong', length=148.61016), Row(page='NextSong', length=197.04118), Row(page='NextSong', length=129.09669), Row(page='NextSong', length=156.96934), Row(page='NextSong', length=343.69261), Row(page='NextSong', length=199.18322), Row(page='NextSong', length=119.82322), Row(page='NextSong', length=365.81832), Row(page='NextSong', length=538.22649), Row(page='NextSong', length=238.18404), Row(page='NextSong', length=229.51138), Row(page='NextSong', length=215.01342), Row(page='NextSong', length=225.56689), Row(page='NextSong', length=252.00281), Row(page='NextSong', length=110.49751), Row(page='NextSong', length=185.70404), Row(page='NextSong', length=241.37098), Row(page='NextSong', length=140.72118), Row(page='NextSong', length=202.16118), Row(page='NextSong', length=287.26812), Row(page='NextSong', length=173.03465), Row(page='NextSong', length=290.19383), Row(page='NextSong', length=112.14322), Row(page='NextSong', length=201.27302), Row(page='NextSong', length=254.51057), Row(page='NextSong', length=185.05098), Row(page='NextSong', length=412.15955), Row(page='NextSong', length=148.27057), Row(page='NextSong', length=308.45342), Row(page='NextSong', length=332.32934), Row(page='NextSong', length=413.75302), Row(page='NextSong', length=312.34567), Row(page='NextSong', length=347.76771), Row(page='NextSong', length=39.02649), Row(page='NextSong', length=80.87465), Row(page='NextSong', length=373.28934), Row(page='NextSong', length=213.49832), Row(page='NextSong', length=446.1971), Row(page='NextSong', length=31.68608), Row(page='NextSong', length=507.76771), Row(page='NextSong', length=290.53342), Row(page='NextSong', length=410.33098), Row(page='NextSong', length=403.1473), Row(page='NextSong', length=424.14975), Row(page='NextSong', length=124.62975), Row(page='NextSong', length=170.60526), Row(page='NextSong', length=117.10649), Row(page='NextSong', length=66.71628), Row(page='NextSong', length=121.10322), Row(page='NextSong', length=336.45669), Row(page='NextSong', length=314.14812), Row(page='NextSong', length=125.09995), Row(page='NextSong', length=125.77914), Row(page='NextSong', length=384.57424), Row(page='NextSong', length=116.58404), Row(page='NextSong', length=108.9824), Row(page='NextSong', length=1636.98893), Row(page='NextSong', length=74.50077), Row(page='NextSong', length=352.02567), Row(page='NextSong', length=440.68526), Row(page='NextSong', length=364.69506), Row(page='NextSong', length=87.32689), Row(page='NextSong', length=647.83628), Row(page='NextSong', length=978.54649), Row(page='NextSong', length=373.62893), Row(page='NextSong', length=35.86567), Row(page='NextSong', length=486.71302), Row(page='NextSong', length=357.77261), Row(page='NextSong', length=99.26485), Row(page='NextSong', length=386.48118), Row(page='NextSong', length=152.21506), Row(page='NextSong', length=566.5171), Row(page='NextSong', length=521.87383), Row(page='NextSong', length=851.59138), Row(page='NextSong', length=168.98567), Row(page='NextSong', length=271.0722), Row(page='NextSong', length=396.59057), Row(page='NextSong', length=332.43383), Row(page='NextSong', length=242.25914), Row(page='NextSong', length=321.51465), Row(page='NextSong', length=118.41261), Row(page='NextSong', length=186.43546), Row(page='NextSong', length=250.01751), Row(page='NextSong', length=220.9171), Row(page='NextSong', length=194.71628), Row(page='NextSong', length=266.03057), Row(page='NextSong', length=383.00689), Row(page='NextSong', length=284.05506), Row(page='NextSong', length=193.90649), Row(page='NextSong', length=231.65342), Row(page='NextSong', length=118.43873), Row(page='NextSong', length=277.28934), Row(page='NextSong', length=369.99791), Row(page='NextSong', length=154.80118), Row(page='NextSong', length=279.37914), Row(page='NextSong', length=268.09424), Row(page='NextSong', length=191.4771), Row(page='NextSong', length=309.41995), Row(page='NextSong', length=255.9473), Row(page='NextSong', length=147.04281), Row(page='NextSong', length=174.28853), Row(page='NextSong', length=213.55057), Row(page='NextSong', length=144.40444), Row(page='NextSong', length=245.68118), Row(page='NextSong', length=298.39628), Row(page='NextSong', length=387.52608), Row(page='NextSong', length=215.03955), Row(page='NextSong', length=182.20363), Row(page='NextSong', length=143.75138), Row(page='NextSong', length=329.42975), Row(page='NextSong', length=251.19302), Row(page='NextSong', length=258.87302), Row(page='NextSong', length=226.7424), Row(page='NextSong', length=130.84689), Row(page='NextSong', length=259.10812), Row(page='NextSong', length=312.00608), Row(page='NextSong', length=267.78077), Row(page='NextSong', length=501.9424), Row(page='NextSong', length=384.46975), Row(page='NextSong', length=490.21342), Row(page='NextSong', length=536.13669), Row(page='NextSong', length=131.47383), Row(page='NextSong', length=43.2322), Row(page='NextSong', length=131.02975), Row(page='NextSong', length=430.23628), Row(page='NextSong', length=577.12281), Row(page='NextSong', length=475.58485), Row(page='NextSong', length=282.04363), Row(page='NextSong', length=58.25261), Row(page='NextSong', length=484.20526), Row(page='NextSong', length=360.54159), Row(page='NextSong', length=327.1571), Row(page='NextSong', length=768.91383), Row(page='NextSong', length=325.14567), Row(page='NextSong', length=312.52853), Row(page='NextSong', length=421.19791), Row(page='NextSong', length=450.53342), Row(page='NextSong', length=391.6273), Row(page='NextSong', length=259.60444), Row(page='NextSong', length=105.79546), Row(page='NextSong', length=549.56363), Row(page='NextSong', length=381.23057), Row(page='NextSong', length=354.0371), Row(page='NextSong', length=388.46649), Row(page='NextSong', length=575.52934), Row(page='NextSong', length=53.55057), Row(page='NextSong', length=524.90404), Row(page='NextSong', length=568.05832), Row(page='NextSong', length=422.03383), Row(page='NextSong', length=355.42159), Row(page='NextSong', length=52.08771), Row(page='NextSong', length=143.90812), Row(page='NextSong', length=337.29261), Row(page='NextSong', length=109.00853), Row(page='NextSong', length=51.22567), Row(page='NextSong', length=151.61424), Row(page='NextSong', length=215.35302), Row(page='NextSong', length=372.87138), Row(page='NextSong', length=472.05832), Row(page='NextSong', length=204.25098), Row(page='NextSong', length=278.9873), Row(page='NextSong', length=162.71628), Row(page='NextSong', length=148.84526), Row(page='NextSong', length=286.24934), Row(page='NextSong', length=190.24934), Row(page='NextSong', length=208.32608), Row(page='NextSong', length=168.69832), Row(page='NextSong', length=202.05669), Row(page='NextSong', length=269.97506), Row(page='NextSong', length=181.41995), Row(page='NextSong', length=199.26159), Row(page='NextSong', length=204.64281), Row(page='NextSong', length=125.25669), Row(page='NextSong', length=92.18567), Row(page='NextSong', length=205.42649), Row(page='NextSong', length=320.33914), Row(page='NextSong', length=327.99302), Row(page='NextSong', length=309.9424), Row(page='NextSong', length=359.91465), Row(page='NextSong', length=71.49669), Row(page='NextSong', length=131.89179), Row(page='NextSong', length=183.30077), Row(page='NextSong', length=297.09016), Row(page='NextSong', length=159.21587), Row(page='NextSong', length=289.51465), Row(page='NextSong', length=281.86077), Row(page='NextSong', length=505.73016), Row(page='NextSong', length=395.57179), Row(page='NextSong', length=176.37832), Row(page='NextSong', length=158.45832), Row(page='NextSong', length=563.9571), Row(page='NextSong', length=275.9571), Row(page='NextSong', length=265.97832), Row(page='NextSong', length=110.94159), Row(page='NextSong', length=767.55546), Row(page='NextSong', length=253.85751), Row(page='NextSong', length=417.67138), Row(page='NextSong', length=196.89556), Row(page='NextSong', length=235.02322), Row(page='NextSong', length=271.22893), Row(page='NextSong', length=306.88608), Row(page='NextSong', length=204.042), Row(page='NextSong', length=390.922), Row(page='NextSong', length=357.82485), Row(page='NextSong', length=156.9171), Row(page='NextSong', length=181.4722), Row(page='NextSong', length=668.94322), Row(page='NextSong', length=310.22975), Row(page='NextSong', length=114.78159), Row(page='NextSong', length=310.17751), Row(page='NextSong', length=623.77751), Row(page='NextSong', length=421.09342), Row(page='NextSong', length=413.30893), Row(page='NextSong', length=81.8673), Row(page='NextSong', length=479.05914), Row(page='NextSong', length=301.16526), Row(page='NextSong', length=398.23628), Row(page='NextSong', length=43.80689), Row(page='NextSong', length=683.15383), Row(page='NextSong', length=353.56689), Row(page='NextSong', length=134.84363), Row(page='NextSong', length=419.18649), Row(page='NextSong', length=119.19628), Row(page='NextSong', length=611.76118), Row(page='NextSong', length=519.20934), Row(page='NextSong', length=425.89995), Row(page='NextSong', length=231.10485), Row(page='NextSong', length=215.09179), Row(page='NextSong', length=175.12444), Row(page='NextSong', length=187.14077), Row(page='NextSong', length=968.30649), Row(page='NextSong', length=322.79465), Row(page='NextSong', length=168.4371), Row(page='NextSong', length=171.62404), Row(page='NextSong', length=219.97669), Row(page='NextSong', length=199.41832), Row(page='NextSong', length=341.9424), Row(page='NextSong', length=344.73751), Row(page='NextSong', length=184.71138), Row(page='NextSong', length=205.26975), Row(page='NextSong', length=154.30485), Row(page='NextSong', length=224.57424), Row(page='NextSong', length=513.90649), Row(page='NextSong', length=311.01342), Row(page='NextSong', length=294.47791), Row(page='NextSong', length=319.18975), Row(page='NextSong', length=328.14975), Row(page='NextSong', length=267.72853), Row(page='NextSong', length=165.27628), Row(page='NextSong', length=314.77506), Row(page='NextSong', length=235.96363), Row(page='NextSong', length=166.94812), Row(page='NextSong', length=450.71628), Row(page='NextSong', length=396.87791), Row(page='NextSong', length=253.88363), Row(page='NextSong', length=246.41261), Row(page='NextSong', length=42.65751), Row(page='NextSong', length=444.00281), Row(page='NextSong', length=293.74649), Row(page='NextSong', length=280.92036), Row(page='NextSong', length=235.57179), Row(page='NextSong', length=83.3824), Row(page='NextSong', length=431.51628), Row(page='NextSong', length=314.48771), Row(page='NextSong', length=67.91791), Row(page='NextSong', length=417.01832), Row(page='NextSong', length=114.75546), Row(page='NextSong', length=251.402), Row(page='NextSong', length=294.26893), Row(page='NextSong', length=393.09016), Row(page='NextSong', length=260.54485), Row(page='NextSong', length=375.71873), Row(page='NextSong', length=128.23465), Row(page='NextSong', length=280.842), Row(page='NextSong', length=110.13179), Row(page='NextSong', length=667.21914), Row(page='NextSong', length=301.89669), Row(page='NextSong', length=155.89832), Row(page='NextSong', length=24.16281), Row(page='NextSong', length=53.91628), Row(page='NextSong', length=250.48771), Row(page='NextSong', length=515.52608), Row(page='NextSong', length=316.57751), Row(page='NextSong', length=30.51057), Row(page='NextSong', length=580.30975), Row(page='NextSong', length=347.50649), Row(page='NextSong', length=87.7971), Row(page='NextSong', length=370.38975), Row(page='NextSong', length=144.27383), Row(page='NextSong', length=198.922), Row(page='NextSong', length=276.94975), Row(page='NextSong', length=247.01342), Row(page='NextSong', length=251.71546), Row(page='NextSong', length=125.04771), Row(page='NextSong', length=302.91546), Row(page='NextSong', length=283.61098), Row(page='NextSong', length=239.41179), Row(page='NextSong', length=354.95138), Row(page='NextSong', length=204.9824), Row(page='NextSong', length=301.45261), Row(page='NextSong', length=215.27465), Row(page='NextSong', length=309.002), Row(page='NextSong', length=184.0322), Row(page='NextSong', length=222.35383), Row(page='NextSong', length=218.22649), Row(page='NextSong', length=137.97832), Row(page='NextSong', length=202.39628), Row(page='NextSong', length=152.00608), Row(page='NextSong', length=276.61016), Row(page='NextSong', length=282.09587), Row(page='NextSong', length=202.4224), Row(page='NextSong', length=124.78649), Row(page='NextSong', length=246.22975), Row(page='NextSong', length=280.55465), Row(page='NextSong', length=243.01669), Row(page='NextSong', length=204.38159), Row(page='NextSong', length=291.34322), Row(page='NextSong', length=140.7473), Row(page='NextSong', length=360.6722), Row(page='NextSong', length=134.08608), Row(page='NextSong', length=90.8273), Row(page='NextSong', length=261.8771), Row(page='NextSong', length=423.49669), Row(page='NextSong', length=235.44118), Row(page='NextSong', length=232.38485), Row(page='NextSong', length=145.60608), Row(page='NextSong', length=249.39057), Row(page='NextSong', length=185.67791), Row(page='NextSong', length=121.86077), Row(page='NextSong', length=100.41424), Row(page='NextSong', length=415.29424), Row(page='NextSong', length=403.53914), Row(page='NextSong', length=132.51873), Row(page='NextSong', length=358.26893), Row(page='NextSong', length=366.54975), Row(page='NextSong', length=200.48934), Row(page='NextSong', length=303.3073), Row(page='NextSong', length=130.32444), Row(page='NextSong', length=315.24526), Row(page='NextSong', length=148.13995), Row(page='NextSong', length=259.97016), Row(page='NextSong', length=250.43546), Row(page='NextSong', length=154.3571), Row(page='NextSong', length=379.45424), Row(page='NextSong', length=115.46077), Row(page='NextSong', length=69.3024), Row(page='NextSong', length=489.01179), Row(page='NextSong', length=499.04281), Row(page='NextSong', length=28.76036), Row(page='NextSong', length=425.56036), Row(page='NextSong', length=159.11138), Row(page='NextSong', length=313.57342), Row(page='NextSong', length=441.49506), Row(page='NextSong', length=108.93016), Row(page='NextSong', length=373.41995), Row(page='NextSong', length=179.19955), Row(page='NextSong', length=275.17342), Row(page='NextSong', length=99.97016), Row(page='NextSong', length=372.21832), Row(page='NextSong', length=540.86485), Row(page='NextSong', length=95.60771), Row(page='NextSong', length=452.77995), Row(page='NextSong', length=134.79138), Row(page='NextSong', length=684.35546), Row(page='NextSong', length=179.43465), Row(page='NextSong', length=1449.11628), Row(page='NextSong', length=419.57832), Row(page='NextSong', length=650.762), Row(page='NextSong', length=348.18567), Row(page='NextSong', length=373.96853), Row(page='NextSong', length=537.44281), Row(page='NextSong', length=407.66649), Row(page='NextSong', length=199.05261), Row(page='NextSong', length=218.69669), Row(page='NextSong', length=195.94404), Row(page='NextSong', length=263.33995), Row(page='NextSong', length=273.89342), Row(page='NextSong', length=437.41995), Row(page='NextSong', length=265.27302), Row(page='NextSong', length=302.34077), Row(page='NextSong', length=187.402), Row(page='NextSong', length=170.47465), Row(page='NextSong', length=238.21016), Row(page='NextSong', length=537.36444), Row(page='NextSong', length=180.40118), Row(page='NextSong', length=370.442), Row(page='NextSong', length=228.62322), Row(page='NextSong', length=217.49506), Row(page='NextSong', length=76.59057), Row(page='NextSong', length=196.07465), Row(page='NextSong', length=427.49342), Row(page='NextSong', length=185.93914), Row(page='NextSong', length=264.14975), Row(page='NextSong', length=338.18077), Row(page='NextSong', length=288.46975), Row(page='NextSong', length=240.97914), Row(page='NextSong', length=233.92608), Row(page='NextSong', length=298.47465), Row(page='NextSong', length=326.29506), Row(page='NextSong', length=583.28771), Row(page='NextSong', length=258.11546), Row(page='NextSong', length=341.62893), Row(page='NextSong', length=176.84853), Row(page='NextSong', length=181.28934), Row(page='NextSong', length=803.86567), Row(page='NextSong', length=349.46567), Row(page='NextSong', length=645.27628), Row(page='NextSong', length=89.80853), Row(page='NextSong', length=136.14975), Row(page='NextSong', length=135.73179), Row(page='NextSong', length=156.55138), Row(page='NextSong', length=138.39628), Row(page='NextSong', length=466.05016), Row(page='NextSong', length=178.9122), Row(page='NextSong', length=408.73751), Row(page='NextSong', length=367.25506), Row(page='NextSong', length=366.05342), Row(page='NextSong', length=65.802), Row(page='NextSong', length=716.64281), Row(page='NextSong', length=402.1024), Row(page='NextSong', length=87.40526), Row(page='NextSong', length=72.77669), Row(page='NextSong', length=345.52118), Row(page='NextSong', length=504.42404), Row(page='NextSong', length=754.93832), Row(page='NextSong', length=419.05587), Row(page='NextSong', length=607.55546), Row(page='NextSong', length=336.87465), Row(page='NextSong', length=142.70649), Row(page='NextSong', length=86.282), Row(page='NextSong', length=41.482), Row(page='NextSong', length=330.65751), Row(page='NextSong', length=514.01098), Row(page='NextSong', length=96.36526), Row(page='NextSong', length=25.41669), Row(page='NextSong', length=487.99302), Row(page='NextSong', length=426.81424), Row(page='NextSong', length=261.25016), Row(page='NextSong', length=463.12444), Row(page='NextSong', length=177.76281), Row(page='NextSong', length=328.75057), Row(page='NextSong', length=316.81261), Row(page='NextSong', length=156.47302), Row(page='NextSong', length=245.10649), Row(page='NextSong', length=184.89424), Row(page='NextSong', length=350.56281), Row(page='NextSong', length=211.46077), Row(page='NextSong', length=177.6322), Row(page='NextSong', length=264.80281), Row(page='NextSong', length=261.35465), Row(page='NextSong', length=249.0771), Row(page='NextSong', length=326.00771), Row(page='NextSong', length=184.55465), Row(page='NextSong', length=236.87791), Row(page='NextSong', length=210.07628), Row(page='NextSong', length=523.96363), Row(page='NextSong', length=426.68363), Row(page='NextSong', length=228.44036), Row(page='NextSong', length=181.65506), Row(page='NextSong', length=308.03546), Row(page='NextSong', length=107.65016), Row(page='NextSong', length=313.20771), Row(page='NextSong', length=240.50893), Row(page='NextSong', length=351.11138), Row(page='NextSong', length=345.18159), Row(page='NextSong', length=221.88363), Row(page='NextSong', length=378.77506), Row(page='NextSong', length=301.71383), Row(page='NextSong', length=157.75302), Row(page='NextSong', length=103.00036), Row(page='NextSong', length=464.1171), Row(page='NextSong', length=532.16608), Row(page='NextSong', length=98.29832), Row(page='NextSong', length=224.44363), Row(page='NextSong', length=270.36689), Row(page='NextSong', length=116.61016), Row(page='NextSong', length=510.45832), Row(page='NextSong', length=377.96526), Row(page='NextSong', length=164.96281), Row(page='NextSong', length=356.57098), Row(page='NextSong', length=316.00281), Row(page='NextSong', length=282.72281), Row(page='NextSong', length=270.62812), Row(page='NextSong', length=345.65179), Row(page='NextSong', length=466.20689), Row(page='NextSong', length=134.68689), Row(page='NextSong', length=127.73832), Row(page='NextSong', length=356.5971), Row(page='NextSong', length=308.55791), Row(page='NextSong', length=123.45424), Row(page='NextSong', length=120.08444), Row(page='NextSong', length=286.01424), Row(page='NextSong', length=132.85832), Row(page='NextSong', length=310.62159), Row(page='NextSong', length=370.02404), Row(page='NextSong', length=67.65669), Row(page='NextSong', length=557.53098), Row(page='NextSong', length=379.01016), Row(page='NextSong', length=111.67302), Row(page='NextSong', length=357.53751), Row(page='NextSong', length=442.14812), Row(page='NextSong', length=406.49098), Row(page='NextSong', length=409.86077), Row(page='NextSong', length=51.43465), Row(page='NextSong', length=70.97424), Row(page='NextSong', length=414.51057), Row(page='NextSong', length=45.94893), Row(page='NextSong', length=544.65261), Row(page='NextSong', length=812.2771), Row(page='NextSong', length=318.53669), Row(page='NextSong', length=552.17587), Row(page='NextSong', length=112.22159), Row(page='NextSong', length=107.83302), Row(page='NextSong', length=385.09669), Row(page='NextSong', length=450.29832), Row(page='NextSong', length=59.8722), Row(page='NextSong', length=406.07302), Row(page='NextSong', length=211.01669), Row(page='NextSong', length=142.0273), Row(page='NextSong', length=193.14893), Row(page='NextSong', length=188.23791), Row(page='NextSong', length=185.7824), Row(page='NextSong', length=209.37098), Row(page='NextSong', length=239.46404), Row(page='NextSong', length=284.29016), Row(page='NextSong', length=269.76608), Row(page='NextSong', length=199.31383), Row(page='NextSong', length=307.3824), Row(page='NextSong', length=250.40934), Row(page='NextSong', length=215.19628), Row(page='NextSong', length=107.59791), Row(page='NextSong', length=26.46159), Row(page='NextSong', length=178.6771), Row(page='NextSong', length=312.60689), Row(page='NextSong', length=263.18322), Row(page='NextSong', length=211.40853), Row(page='NextSong', length=268.72118), Row(page='NextSong', length=314.90567), Row(page='NextSong', length=227.60444), Row(page='NextSong', length=293.09342), Row(page='NextSong', length=442.69669), Row(page='NextSong', length=332.77342), Row(page='NextSong', length=499.1473), Row(page='NextSong', length=320.88771), Row(page='NextSong', length=295.10485), Row(page='NextSong', length=783.33342), Row(page='NextSong', length=315.45424), Row(page='NextSong', length=217.46893), Row(page='NextSong', length=374.41261), Row(page='NextSong', length=359.41832), Row(page='NextSong', length=127.58159), Row(page='NextSong', length=64.39138), Row(page='NextSong', length=406.54322), Row(page='NextSong', length=453.17179), Row(page='NextSong', length=320.05179), Row(page='NextSong', length=403.46077), Row(page='NextSong', length=329.16853), Row(page='NextSong', length=644.80608), Row(page='NextSong', length=354.48118), Row(page='NextSong', length=519.3922), Row(page='NextSong', length=441.3122), Row(page='NextSong', length=94.32771), Row(page='NextSong', length=502.38649), Row(page='NextSong', length=97.07057), Row(page='NextSong', length=475.34975), Row(page='NextSong', length=370.07628), Row(page='NextSong', length=443.21914), Row(page='NextSong', length=580.362), Row(page='NextSong', length=479.7122), Row(page='NextSong', length=382.30159), Row(page='NextSong', length=475.45424), Row(page='NextSong', length=491.12771), Row(page='NextSong', length=133.09342), Row(page='NextSong', length=693.21098), Row(page='NextSong', length=392.12363), Row(page='NextSong', length=119.64036), Row(page='NextSong', length=224.9922), Row(page='NextSong', length=253.33506), Row(page='NextSong', length=245.65506), Row(page='NextSong', length=294.86975), Row(page='NextSong', length=193.30567), Row(page='NextSong', length=227.26485), Row(page='NextSong', length=320.7571), Row(page='NextSong', length=281.28608), Row(page='NextSong', length=264.59383), Row(page='NextSong', length=88.5024), Row(page='NextSong', length=255.92118), Row(page='NextSong', length=368.32608), Row(page='NextSong', length=130.01098), Row(page='NextSong', length=254.77179), Row(page='NextSong', length=121.44281), Row(page='NextSong', length=239.67302), Row(page='NextSong', length=256.86159), Row(page='NextSong', length=206.23628), Row(page='NextSong', length=173.26975), Row(page='NextSong', length=235.38893), Row(page='NextSong', length=338.28526), Row(page='NextSong', length=249.65179), Row(page='NextSong', length=377.41669), Row(page='NextSong', length=200.54159), Row(page='NextSong', length=153.39057), Row(page='NextSong', length=440.16281), Row(page='NextSong', length=66.40281), Row(page='NextSong', length=274.99057), Row(page='NextSong', length=284.49914), Row(page='NextSong', length=405.28934), Row(page='NextSong', length=76.82567), Row(page='NextSong', length=226.42893), Row(page='NextSong', length=312.81587), Row(page='NextSong', length=170.1873), Row(page='NextSong', length=90.25261), Row(page='NextSong', length=399.5424), Row(page='NextSong', length=185.52118), Row(page='NextSong', length=306.72934), Row(page='NextSong', length=272.53506), Row(page='NextSong', length=265.32526), Row(page='NextSong', length=462.36689), Row(page='NextSong', length=247.92771), Row(page='NextSong', length=325.40689), Row(page='NextSong', length=122.80118), Row(page='NextSong', length=154.43546), Row(page='NextSong', length=147.56526), Row(page='NextSong', length=568.58077), Row(page='NextSong', length=341.02812), Row(page='NextSong', length=320.07791), Row(page='NextSong', length=432.95302), Row(page='NextSong', length=233.79546), Row(page='NextSong', length=146.20689), Row(page='NextSong', length=274.80771), Row(page='NextSong', length=342.67383), Row(page='NextSong', length=164.41424), Row(page='NextSong', length=236.17261), Row(page='NextSong', length=349.6224), Row(page='NextSong', length=483.52608), Row(page='NextSong', length=423.91465), Row(page='NextSong', length=114.72934), Row(page='NextSong', length=66.01098), Row(page='NextSong', length=82.23302), Row(page='NextSong', length=364.95628), Row(page='NextSong', length=391.47057), Row(page='NextSong', length=406.04689), Row(page='NextSong', length=485.35465), Row(page='NextSong', length=465.47546), Row(page='NextSong', length=374.83057), Row(page='NextSong', length=165.09342), Row(page='NextSong', length=66.79465), Row(page='NextSong', length=100.77995), Row(page='NextSong', length=348.47302), Row(page='NextSong', length=370.33751), Row(page='NextSong', length=391.33995), Row(page='NextSong', length=494.99383), Row(page='NextSong', length=258.89914), Row(page='NextSong', length=390.21669), Row(page='NextSong', length=195.86567), Row(page='NextSong', length=220.47302), Row(page='NextSong', length=303.72526), Row(page='NextSong', length=152.13669), Row(page='NextSong', length=242.20689), Row(page='NextSong', length=403.33016), Row(page='NextSong', length=223.18975), Row(page='NextSong', length=124.52526), Row(page='NextSong', length=241.55383), Row(page='NextSong', length=308.37506), Row(page='NextSong', length=229.27628), Row(page='NextSong', length=2238.74567), Row(page='NextSong', length=188.73424), Row(page='NextSong', length=276.37506), Row(page='NextSong', length=128.26077), Row(page='NextSong', length=268.93016), Row(page='NextSong', length=301.322), Row(page='NextSong', length=521.19465), Row(page='NextSong', length=272.03873), Row(page='NextSong', length=230.94812), Row(page='NextSong', length=301.94893), Row(page='NextSong', length=175.96036), Row(page='NextSong', length=206.73261), Row(page='NextSong', length=336.19546), Row(page='NextSong', length=165.25016), Row(page='NextSong', length=247.37914), Row(page='NextSong', length=119.48363), Row(page='NextSong', length=239.882), Row(page='NextSong', length=224.28689), Row(page='NextSong', length=144.5873), Row(page='NextSong', length=259.47383), Row(page='NextSong', length=293.25016), Row(page='NextSong', length=186.74893), Row(page='NextSong', length=87.64036), Row(page='NextSong', length=188.78649), Row(page='NextSong', length=112.48281), Row(page='NextSong', length=183.32689), Row(page='NextSong', length=271.98649), Row(page='NextSong', length=177.24036), Row(page='NextSong', length=265.79546), Row(page='NextSong', length=522.97098), Row(page='NextSong', length=116.37506), Row(page='NextSong', length=22.5171), Row(page='NextSong', length=460.56444), Row(page='NextSong', length=104.17587), Row(page='NextSong', length=409.18159), Row(page='NextSong', length=314.04363), Row(page='NextSong', length=111.01995), Row(page='NextSong', length=533.26322), Row(page='NextSong', length=458.57914), Row(page='NextSong', length=121.46893), Row(page='NextSong', length=427.25832), Row(page='NextSong', length=441.67791), Row(page='NextSong', length=159.242), Row(page='NextSong', length=281.36444), Row(page='NextSong', length=359.28771), Row(page='NextSong', length=652.43383), Row(page='NextSong', length=138.52689), Row(page='NextSong', length=45.34812), Row(page='NextSong', length=330.86649), Row(page='NextSong', length=545.12281), Row(page='NextSong', length=493.94893), Row(page='NextSong', length=1242.77506), Row(page='NextSong', length=479.86893), Row(page='NextSong', length=123.402), Row(page='NextSong', length=259.75156), Row(page='NextSong', length=506.46159), Row(page='NextSong', length=93.85751), Row(page='NextSong', length=192.65261), Row(page='NextSong', length=255.60771), Row(page='NextSong', length=104.56771), Row(page='NextSong', length=54.22975), Row(page='NextSong', length=244.00934), Row(page='NextSong', length=267.85914), Row(page='NextSong', length=161.25342), Row(page='NextSong', length=148.08771), Row(page='NextSong', length=158.14485), Row(page='NextSong', length=205.92281), Row(page='NextSong', length=125.46567), Row(page='NextSong', length=117.55057), Row(page='NextSong', length=230.37342), Row(page='NextSong', length=252.99546), Row(page='NextSong', length=445.43955), Row(page='NextSong', length=262.47791), Row(page='NextSong', length=156.42077), Row(page='NextSong', length=518.21669), Row(page='NextSong', length=441.88689), Row(page='NextSong', length=188.52526), Row(page='NextSong', length=9.01179), Row(page='NextSong', length=303.51628), Row(page='NextSong', length=317.23057), Row(page='NextSong', length=356.07465), Row(page='NextSong', length=358.47791), Row(page='NextSong', length=246.83057), Row(page='NextSong', length=174.2624), Row(page='NextSong', length=124.81261), Row(page='NextSong', length=219.76771), Row(page='NextSong', length=274.31138), Row(page='NextSong', length=512.86159), Row(page='NextSong', length=368.16934), Row(page='NextSong', length=500.92363), Row(page='NextSong', length=127.45098), Row(page='NextSong', length=531.43465), Row(page='NextSong', length=353.67138), Row(page='NextSong', length=245.75955), Row(page='NextSong', length=140.59057), Row(page='NextSong', length=362.31791), Row(page='NextSong', length=484.38812), Row(page='NextSong', length=376.89424), Row(page='NextSong', length=470.62159), Row(page='NextSong', length=291.10812), Row(page='NextSong', length=181.91628), Row(page='NextSong', length=314.06975), Row(page='NextSong', length=430.78485), Row(page='NextSong', length=461.21751), Row(page='NextSong', length=274.442), Row(page='NextSong', length=379.8722), Row(page='NextSong', length=366.15791), Row(page='NextSong', length=344.31955), Row(page='NextSong', length=292.15302), Row(page='NextSong', length=98.08934), Row(page='NextSong', length=430.0273), Row(page='NextSong', length=633.86077), Row(page='NextSong', length=332.61669), Row(page='NextSong', length=461.73995), Row(page='NextSong', length=563.82649), Row(page='NextSong', length=54.49098), Row(page='NextSong', length=464.8224), Row(page='NextSong', length=600.60689), Row(page='NextSong', length=301.60934), Row(page='NextSong', length=107.38893), Row(page='NextSong', length=372.06159), Row(page='NextSong', length=89.73016), Row(page='NextSong', length=492.7473), Row(page='NextSong', length=344.71138), Row(page='NextSong', length=43.59791), Row(page='NextSong', length=60.00281), Row(page='NextSong', length=393.63873), Row(page='NextSong', length=97.27955), Row(page='NextSong', length=139.04934), Row(page='NextSong', length=236.38159), Row(page='NextSong', length=210.54649), Row(page='NextSong', length=141.71383), Row(page='NextSong', length=309.18485), Row(page='NextSong', length=333.66159), Row(page='NextSong', length=296.6722), Row(page='NextSong', length=159.9473), Row(page='NextSong', length=258.08934), Row(page='NextSong', length=178.20689), Row(page='NextSong', length=212.61016), Row(page='NextSong', length=323.49995), Row(page='NextSong', length=382.61506), Row(page='NextSong', length=254.92853), Row(page='NextSong', length=441.02485), Row(page='NextSong', length=209.99791), Row(page='NextSong', length=253.57016), Row(page='NextSong', length=432.19546), Row(page='NextSong', length=251.48036), Row(page='NextSong', length=172.35546), Row(page='NextSong', length=585.1424), Row(page='NextSong', length=282.51383), Row(page='NextSong', length=237.322), Row(page='NextSong', length=174.70649), Row(page='NextSong', length=424.33261), Row(page='NextSong', length=156.1073), Row(page='NextSong', length=77.24363), Row(page='NextSong', length=481.38404), Row(page='NextSong', length=275.93098), Row(page='NextSong', length=62.37995), Row(page='NextSong', length=257.56689), Row(page='NextSong', length=443.81995), Row(page='NextSong', length=165.72036), Row(page='NextSong', length=231.44444), Row(page='NextSong', length=82.93832), Row(page='NextSong', length=345.05098), Row(page='NextSong', length=434.70322), Row(page='NextSong', length=350.79791), Row(page='NextSong', length=284.00281), Row(page='NextSong', length=352.31302), Row(page='NextSong', length=332.40771), Row(page='NextSong', length=134.26893), Row(page='NextSong', length=107.36281), Row(page='NextSong', length=311.45751), Row(page='NextSong', length=448.96608), Row(page='NextSong', length=288.31302), Row(page='NextSong', length=352.49587), Row(page='NextSong', length=129.93261), Row(page='NextSong', length=113.52771), Row(page='NextSong', length=308.6624), Row(page='NextSong', length=184.21506), Row(page='NextSong', length=63.76444), Row(page='NextSong', length=364.59057), Row(page='NextSong', length=152.81587), Row(page='NextSong', length=465.50159), Row(page='NextSong', length=391.07873), Row(page='NextSong', length=301.58322), Row(page='NextSong', length=122.38322), Row(page='NextSong', length=422.1122), Row(page='NextSong', length=372.4273), Row(page='NextSong', length=132.20526), Row(page='NextSong', length=445.17832), Row(page='NextSong', length=386.92526), Row(page='NextSong', length=398.13179), Row(page='NextSong', length=173.00853), Row(page='NextSong', length=313.99138), Row(page='NextSong', length=369.3971), Row(page='NextSong', length=642.97751), Row(page='NextSong', length=107.62404), Row(page='NextSong', length=482.82077), Row(page='NextSong', length=99.3171), Row(page='NextSong', length=1160.09751), Row(page='NextSong', length=368.61342), Row(page='NextSong', length=122.04363), Row(page='NextSong', length=405.002), Row(page='NextSong', length=284.52526), Row(page='NextSong', length=321.14893), Row(page='NextSong', length=243.69587), Row(page='NextSong', length=216.81587), Row(page='NextSong', length=180.27057), Row(page='NextSong', length=459.62404), Row(page='NextSong', length=220.57751), Row(page='NextSong', length=334.81098), Row(page='NextSong', length=182.46485), Row(page='NextSong', length=417.77587), Row(page='NextSong', length=203.93751), Row(page='NextSong', length=198.26893), Row(page='NextSong', length=273.55383), Row(page='NextSong', length=139.67628), Row(page='NextSong', length=181.86404), Row(page='NextSong', length=86.43873), Row(page='NextSong', length=113.65832), Row(page='NextSong', length=403.64363), Row(page='NextSong', length=108.30322), Row(page='NextSong', length=486.50404), Row(page='NextSong', length=254.48444), Row(page='NextSong', length=227.44771), Row(page='NextSong', length=113.50159), Row(page='NextSong', length=338.99057), Row(page='NextSong', length=269.84444), Row(page='NextSong', length=176.71791), Row(page='NextSong', length=289.54077), Row(page='NextSong', length=121.62567), Row(page='NextSong', length=214.20363), Row(page='NextSong', length=343.09179), Row(page='NextSong', length=302.57587), Row(page='NextSong', length=65.93261), Row(page='NextSong', length=247.7971), Row(page='NextSong', length=355.05587), Row(page='NextSong', length=50.442), Row(page='NextSong', length=59.6371), Row(page='NextSong', length=251.03628), Row(page='NextSong', length=198.81751), Row(page='NextSong', length=294.55628), Row(page='NextSong', length=500.79302), Row(page='NextSong', length=356.17914), Row(page='NextSong', length=979.33016), Row(page='NextSong', length=125.83138), Row(page='NextSong', length=295.60118), Row(page='NextSong', length=526.62812), Row(page='NextSong', length=327.41832), Row(page='NextSong', length=112.90077), Row(page='NextSong', length=398.0273), Row(page='NextSong', length=273.52771), Row(page='NextSong', length=339.90485), Row(page='NextSong', length=310.38649), Row(page='NextSong', length=489.24689), Row(page='NextSong', length=900.04853), Row(page='NextSong', length=55.27465), Row(page='NextSong', length=409.67791), Row(page='NextSong', length=378.25261), Row(page='NextSong', length=452.51873), Row(page='NextSong', length=441.75628), Row(page='NextSong', length=40.88118), Row(page='NextSong', length=380.94322), Row(page='NextSong', length=47.43791), Row(page='NextSong', length=760.42404), Row(page='NextSong', length=400.84853), Row(page='NextSong', length=129.14893), Row(page='NextSong', length=50.28526), Row(page='NextSong', length=435.56526), Row(page='NextSong', length=530.57261), Row(page='NextSong', length=101.66812), Row(page='NextSong', length=370.9122), Row(page='NextSong', length=183.19628), Row(page='NextSong', length=201.82159), Row(page='NextSong', length=284.86485), Row(page='NextSong', length=203.78077), Row(page='NextSong', length=210.1024), Row(page='NextSong', length=140.48608), Row(page='NextSong', length=446.14485), Row(page='NextSong', length=231.07873), Row(page='NextSong', length=338.05016), Row(page='NextSong', length=191.52934), Row(page='NextSong', length=402.18077), Row(page='NextSong', length=231.94077), Row(page='NextSong', length=218.93179), Row(page='NextSong', length=364.40771), Row(page='NextSong', length=264.38485), Row(page='NextSong', length=494.34077), Row(page='NextSong', length=211.98322), Row(page='NextSong', length=388.33587), Row(page='NextSong', length=148.92363), Row(page='NextSong', length=345.33832), Row(page='NextSong', length=133.642), Row(page='NextSong', length=241.05751), Row(page='NextSong', length=138.29179), Row(page='NextSong', length=262.73914), Row(page='NextSong', length=338.88608), Row(page='NextSong', length=258.19383), Row(page='NextSong', length=225.38404), Row(page='NextSong', length=134.32118), Row(page='NextSong', length=279.562), Row(page='NextSong', length=190.1971), Row(page='NextSong', length=154.48771), Row(page='NextSong', length=1356.90404), Row(page='NextSong', length=221.59628), Row(page='NextSong', length=85.4722), Row(page='NextSong', length=293.8771), Row(page='NextSong', length=311.69261), Row(page='NextSong', length=271.35955), Row(page='NextSong', length=364.79955), Row(page='NextSong', length=533.08036), Row(page='NextSong', length=176.27383), Row(page='NextSong', length=259.91791), Row(page='NextSong', length=346.22649), Row(page='NextSong', length=366.47138), Row(page='NextSong', length=453.48526), Row(page='NextSong', length=246.64771), Row(page='NextSong', length=274.70322), Row(page='NextSong', length=137.53424), Row(page='NextSong', length=373.73342), Row(page='NextSong', length=383.86893), Row(page='NextSong', length=291.73506), Row(page='NextSong', length=525.68771), Row(page='NextSong', length=323.94404), Row(page='NextSong', length=524.01587), Row(page='NextSong', length=141.7922), Row(page='NextSong', length=254.71955), Row(page='NextSong', length=151.90159), Row(page='NextSong', length=356.41424), Row(page='NextSong', length=160.96608), Row(page='NextSong', length=501.75955), Row(page='NextSong', length=113.57995), Row(page='NextSong', length=95.42485), Row(page='NextSong', length=507.89832), Row(page='NextSong', length=403.722), Row(page='NextSong', length=474.30485), Row(page='NextSong', length=347.11465), Row(page='NextSong', length=377.20771), Row(page='NextSong', length=539.42812), Row(page='NextSong', length=75.38893), Row(page='NextSong', length=352.41751), Row(page='NextSong', length=14.96771), Row(page='NextSong', length=685.76608), Row(page='NextSong', length=167.83628), Row(page='NextSong', length=224.67873), Row(page='NextSong', length=134.03383), Row(page='NextSong', length=257.48853), Row(page='NextSong', length=159.89506), Row(page='NextSong', length=185.75628), Row(page='NextSong', length=359.73179), Row(page='NextSong', length=257.95873), Row(page='NextSong', length=210.85995), Row(page='NextSong', length=198.97424), Row(page='NextSong', length=226.0371), Row(page='NextSong', length=316.39465), Row(page='NextSong', length=615.26159), Row(page='NextSong', length=170.34404), Row(page='NextSong', length=254.09261), Row(page='NextSong', length=129.30567), Row(page='NextSong', length=232.12363), Row(page='NextSong', length=455.78404), Row(page='NextSong', length=254.9024), Row(page='NextSong', length=320.49587), Row(page='NextSong', length=141.37424), Row(page='NextSong', length=380.81261), Row(page='NextSong', length=218.06975), Row(page='NextSong', length=183.66649), Row(page='NextSong', length=315.84608), Row(page='NextSong', length=318.11873), Row(page='NextSong', length=115.40853), Row(page='NextSong', length=155.34975), Row(page='NextSong', length=208.27383), Row(page='NextSong', length=296.4371), Row(page='NextSong', length=318.22322), Row(page='NextSong', length=535.82322), Row(page='NextSong', length=197.61587), Row(page='NextSong', length=175.25506), Row(page='NextSong', length=273.162), Row(page='NextSong', length=454.19057), Row(page='NextSong', length=229.11955), Row(page='NextSong', length=155.50649), Row(page='NextSong', length=170.29179), Row(page='NextSong', length=458.16118), Row(page='NextSong', length=305.73669), Row(page='NextSong', length=297.76934), Row(page='NextSong', length=395.96363), Row(page='NextSong', length=376.45016), Row(page='NextSong', length=110.23628), Row(page='NextSong', length=358.86975), Row(page='NextSong', length=128.60036), Row(page='NextSong', length=423.1571), Row(page='NextSong', length=325.04118), Row(page='NextSong', length=27.45424), Row(page='NextSong', length=40.25424), Row(page='NextSong', length=177.91955), Row(page='NextSong', length=445.33506), Row(page='NextSong', length=63.79057), Row(page='NextSong', length=575.05914), Row(page='NextSong', length=198.13832), Row(page='NextSong', length=564.34893), Row(page='NextSong', length=508.89098), Row(page='NextSong', length=883.722), Row(page='NextSong', length=135.54893), Row(page='NextSong', length=370.70322), Row(page='NextSong', length=382.6673), Row(page='NextSong', length=37.72036), Row(page='NextSong', length=370.59873), Row(page='NextSong', length=425.19465), Row(page='NextSong', length=461.322), Row(page='NextSong', length=92.70812), Row(page='NextSong', length=377.02485), Row(page='NextSong', length=95.9473), Row(page='NextSong', length=132.362), Row(page='NextSong', length=97.51465), Row(page='NextSong', length=662.36036), Row(page='NextSong', length=520.35873), Row(page='NextSong', length=489.76934), Row(page='NextSong', length=26.77506), Row(page='NextSong', length=419.47383), Row(page='NextSong', length=249.46893), Row(page='NextSong', length=201.24689), Row(page='NextSong', length=252.44689), Row(page='NextSong', length=235.41506), Row(page='NextSong', length=103.05261), Row(page='NextSong', length=165.51138), Row(page='NextSong', length=176.01261), Row(page='NextSong', length=175.85587), Row(page='NextSong', length=296.64608), Row(page='NextSong', length=361.19465), Row(page='NextSong', length=363.49342), Row(page='NextSong', length=275.43465), Row(page='NextSong', length=202.23955), Row(page='NextSong', length=244.55791), Row(page='NextSong', length=212.53179), Row(page='NextSong', length=210.62485), Row(page='NextSong', length=309.83791), Row(page='NextSong', length=175.80363), Row(page='NextSong', length=306.02404), Row(page='NextSong', length=278.69995), Row(page='NextSong', length=197.82485), Row(page='NextSong', length=394.50077), Row(page='NextSong', length=319.50322), Row(page='NextSong', length=415.55546), Row(page='NextSong', length=193.25342), Row(page='NextSong', length=204.56444), Row(page='NextSong', length=196.10077), Row(page='NextSong', length=184.81587), Row(page='NextSong', length=220.18567), Row(page='NextSong', length=302.70649), Row(page='NextSong', length=336.43057), Row(page='NextSong', length=293.04118), Row(page='NextSong', length=271.85587), Row(page='NextSong', length=591.96036), Row(page='NextSong', length=262.45179), Row(page='NextSong', length=264.51546), Row(page='NextSong', length=313.93914), Row(page='NextSong', length=220.05506), Row(page='NextSong', length=283.11465), Row(page='NextSong', length=94.45832), Row(page='NextSong', length=386.66404), Row(page='NextSong', length=110.602), Row(page='NextSong', length=141.92281), Row(page='NextSong', length=375.82322), Row(page='NextSong', length=298.4224), Row(page='NextSong', length=230.45179), Row(page='NextSong', length=105.32526), Row(page='NextSong', length=477.30893), Row(page='NextSong', length=468.29669), Row(page='NextSong', length=216.55465), Row(page='NextSong', length=204.77342), Row(page='NextSong', length=254.85016), Row(page='NextSong', length=32.93995), Row(page='NextSong', length=322.76853), Row(page='NextSong', length=381.6224), Row(page='NextSong', length=126.85016), Row(page='NextSong', length=461.53098), Row(page='NextSong', length=251.21914), Row(page='NextSong', length=81.76281), Row(page='NextSong', length=102.1122), Row(page='NextSong', length=513.59302), Row(page='NextSong', length=85.49832), Row(page='NextSong', length=396.06812), Row(page='NextSong', length=132.72771), Row(page='NextSong', length=694.90893), Row(page='NextSong', length=321.38404), Row(page='NextSong', length=426.13506), Row(page='NextSong', length=111.96036), Row(page='NextSong', length=359.20934), Row(page='NextSong', length=100.54485), Row(page='NextSong', length=132.44036), Row(page='NextSong', length=552.59383), Row(page='NextSong', length=550.71302), Row(page='NextSong', length=473.67791), Row(page='NextSong', length=399.38567), Row(page='NextSong', length=501.55057), Row(page='NextSong', length=324.5971), Row(page='NextSong', length=635.84608), Row(page='NextSong', length=494.31465), Row(page='NextSong', length=299.17995), Row(page='NextSong', length=529.00526), Row(page='NextSong', length=42.84036), Row(page='NextSong', length=372.58404), Row(page='NextSong', length=291.68281), Row(page='NextSong', length=245.44608), Row(page='NextSong', length=289.61914), Row(page='NextSong', length=518.81751), Row(page='NextSong', length=190.95465), Row(page='NextSong', length=159.60771), Row(page='NextSong', length=271.15057), Row(page='NextSong', length=205.50485), Row(page='NextSong', length=217.23383), Row(page='NextSong', length=290.87302), Row(page='NextSong', length=217.62567), Row(page='NextSong', length=535.19628), Row(page='NextSong', length=133.58975), Row(page='NextSong', length=147.69587), Row(page='NextSong', length=257.802), Row(page='NextSong', length=287.50322), Row(page='NextSong', length=293.38077), Row(page='NextSong', length=181.62893), Row(page='NextSong', length=242.41587), Row(page='NextSong', length=268.06812), Row(page='NextSong', length=257.17506), Row(page='NextSong', length=237.00853), Row(page='NextSong', length=277.4722), Row(page='NextSong', length=183.71873), Row(page='NextSong', length=150.54322), Row(page='NextSong', length=234.03057), Row(page='NextSong', length=1670.45179), Row(page='NextSong', length=171.7024), Row(page='NextSong', length=137.50812), Row(page='NextSong', length=442.5922), Row(page='NextSong', length=227.76118), Row(page='NextSong', length=334.602), Row(page='NextSong', length=315.71546), Row(page='NextSong', length=219.11465), Row(page='NextSong', length=470.56934), Row(page='NextSong', length=373.65506), Row(page='NextSong', length=121.36444), Row(page='NextSong', length=188.81261), Row(page='NextSong', length=541.54404), Row(page='NextSong', length=303.38567), Row(page='NextSong', length=226.45506), Row(page='NextSong', length=111.33342), Row(page='NextSong', length=265.03791), Row(page='NextSong', length=100.25751), Row(page='NextSong', length=153.10322), Row(page='NextSong', length=143.51628), Row(page='NextSong', length=327.31383), Row(page='NextSong', length=724.50567), Row(page='NextSong', length=283.6371), Row(page='NextSong', length=480.522), Row(page='NextSong', length=356.93669), Row(page='NextSong', length=326.13832), Row(page='NextSong', length=298.44853), Row(page='NextSong', length=93.23057), Row(page='NextSong', length=374.69995), Row(page='NextSong', length=324.57098), Row(page='NextSong', length=65.2273), Row(page='NextSong', length=554.84036), Row(page='NextSong', length=363.54567), Row(page='NextSong', length=173.94893), Row(page='NextSong', length=434.31138), Row(page='NextSong', length=161.38404), Row(page='NextSong', length=324.62322), Row(page='NextSong', length=41.58649), Row(page='NextSong', length=154.53995), Row(page='NextSong', length=461.81832), Row(page='NextSong', length=334.21016), Row(page='NextSong', length=465.31873), Row(page='NextSong', length=309.02812), Row(page='NextSong', length=359.99302), Row(page='NextSong', length=46.86322), Row(page='NextSong', length=62.04036), Row(page='NextSong', length=76.25098), Row(page='NextSong', length=225.09669), Row(page='NextSong', length=216.76363), Row(page='NextSong', length=278.49098), Row(page='NextSong', length=192.33914), Row(page='NextSong', length=242.62485), Row(page='NextSong', length=392.59383), Row(page='NextSong', length=570.80118), Row(page='NextSong', length=197.38077), Row(page='NextSong', length=178.96444), Row(page='NextSong', length=105.58649), Row(page='NextSong', length=129.85424), Row(page='NextSong', length=129.77587), Row(page='NextSong', length=652.14649), Row(page='NextSong', length=152.63302), Row(page='NextSong', length=290.40281), Row(page='NextSong', length=566.83057), Row(page='NextSong', length=73.97832), Row(page='NextSong', length=133.35465), Row(page='NextSong', length=301.11302), Row(page='NextSong', length=334.39302), Row(page='NextSong', length=352.93995), Row(page='NextSong', length=271.04608), Row(page='NextSong', length=315.27138), Row(page='NextSong', length=138.762), Row(page='NextSong', length=221.6224), Row(page='NextSong', length=289.25342), Row(page='NextSong', length=264.41098), Row(page='NextSong', length=114.88608), Row(page='NextSong', length=268.14649), Row(page='NextSong', length=262.84363), Row(page='NextSong', length=77.322), Row(page='NextSong', length=174.0273), Row(page='NextSong', length=328.6722), Row(page='NextSong', length=399.59465), Row(page='NextSong', length=224.60036), Row(page='NextSong', length=239.77751), Row(page='NextSong', length=145.162), Row(page='NextSong', length=464.24771), Row(page='NextSong', length=351.55546), Row(page='NextSong', length=389.82485), Row(page='NextSong', length=259.52608), Row(page='NextSong', length=512.1824), Row(page='NextSong', length=121.59955), Row(page='NextSong', length=494.91546), Row(page='NextSong', length=273.24036), Row(page='NextSong', length=57.18159), Row(page='NextSong', length=333.42649), Row(page='NextSong', length=285.28281), Row(page='NextSong', length=134.13832), Row(page='NextSong', length=403.69587), Row(page='NextSong', length=360.56771), Row(page='NextSong', length=421.45914), Row(page='NextSong', length=466.31138), Row(page='NextSong', length=414.74567), Row(page='NextSong', length=355.18649), Row(page='NextSong', length=127.11138), Row(page='NextSong', length=490.13506), Row(page='NextSong', length=512.96608), Row(page='NextSong', length=476.36853), Row(page='NextSong', length=53.39383), Row(page='NextSong', length=100.8322), Row(page='NextSong', length=126.06649), Row(page='NextSong', length=139.83302), Row(page='NextSong', length=483.65669), Row(page='NextSong', length=217.73016), Row(page='NextSong', length=195.65669), Row(page='NextSong', length=241.91955), Row(page='NextSong', length=300.53832), Row(page='NextSong', length=262.42567), Row(page='NextSong', length=180.00934), Row(page='NextSong', length=239.25506), Row(page='NextSong', length=318.09261), Row(page='NextSong', length=295.81016), Row(page='NextSong', length=207.51628), Row(page='NextSong', length=184.86812), Row(page='NextSong', length=125.67465), Row(page='NextSong', length=293.98159), Row(page='NextSong', length=259.70893), Row(page='NextSong', length=254.01424), Row(page='NextSong', length=253.3873), Row(page='NextSong', length=311.43138), Row(page='NextSong', length=472.76363), Row(page='NextSong', length=216.71138), Row(page='NextSong', length=127.79057), Row(page='NextSong', length=292.64934), Row(page='NextSong', length=258.63791), Row(page='NextSong', length=188.94322), Row(page='NextSong', length=240.61342), Row(page='NextSong', length=253.98812), Row(page='NextSong', length=234.94485), Row(page='NextSong', length=323.63057), Row(page='NextSong', length=301.24363), Row(page='NextSong', length=307.93098), Row(page='NextSong', length=288.70485), Row(page='NextSong', length=170.23955), Row(page='NextSong', length=297.42975), Row(page='NextSong', length=150.38649), Row(page='NextSong', length=59.61098), Row(page='NextSong', length=448.57424), Row(page='NextSong', length=100.46649), Row(page='NextSong', length=314.80118), Row(page='NextSong', length=378.67057), Row(page='NextSong', length=187.74159), Row(page='NextSong', length=203.38893), Row(page='NextSong', length=93.962), Row(page='NextSong', length=298.1873), Row(page='NextSong', length=439.35302), Row(page='NextSong', length=283.19302), Row(page='NextSong', length=82.18077), Row(page='NextSong', length=116.32281), Row(page='NextSong', length=136.33261), Row(page='NextSong', length=471.32689), Row(page='NextSong', length=1211.27138), Row(page='NextSong', length=107.78077), Row(page='NextSong', length=131.73506), Row(page='NextSong', length=39.10485), Row(page='NextSong', length=320.62649), Row(page='NextSong', length=45.42649), Row(page='NextSong', length=101.3024), Row(page='NextSong', length=425.7171), Row(page='NextSong', length=51.04281), Row(page='NextSong', length=142.52363), Row(page='NextSong', length=392.46322), Row(page='NextSong', length=560.84853), Row(page='NextSong', length=52.24444), Row(page='NextSong', length=333.11302), Row(page='NextSong', length=378.51383), Row(page='NextSong', length=92.05506), Row(page='NextSong', length=635.79383), Row(page='NextSong', length=40.41098), Row(page='NextSong', length=438.282), Row(page='NextSong', length=475.66322), Row(page='NextSong', length=568.0322), Row(page='NextSong', length=444.60363), Row(page='NextSong', length=81.73669), Row(page='NextSong', length=431.28118), Row(page='NextSong', length=401.13587), Row(page='NextSong', length=192.73098), Row(page='NextSong', length=369.47546), Row(page='NextSong', length=298.91873), Row(page='NextSong', length=237.60934), Row(page='NextSong', length=254.37995), Row(page='NextSong', length=197.51138), Row(page='NextSong', length=275.64363), Row(page='NextSong', length=158.32771), Row(page='NextSong', length=194.76853), Row(page='NextSong', length=154.09587), Row(page='NextSong', length=643.29098), Row(page='NextSong', length=142.68036), Row(page='NextSong', length=238.78485), Row(page='NextSong', length=252.18567), Row(page='NextSong', length=130.2722), Row(page='NextSong', length=404.87138), Row(page='NextSong', length=231.23546), Row(page='NextSong', length=143.46404), Row(page='NextSong', length=385.802), Row(page='NextSong', length=218.20036), Row(page='NextSong', length=235.07546), Row(page='NextSong', length=112.97914), Row(page='NextSong', length=375.95383), Row(page='NextSong', length=179.35628), Row(page='NextSong', length=337.91955), Row(page='NextSong', length=202.44853), Row(page='NextSong', length=260.17914), Row(page='NextSong', length=215.7971), Row(page='NextSong', length=489.50812), Row(page='NextSong', length=187.42812), Row(page='NextSong', length=171.93751), Row(page='NextSong', length=292.77995), Row(page='NextSong', length=286.09261), Row(page='NextSong', length=123.0624), Row(page='NextSong', length=144.61342), Row(page='NextSong', length=362.50077), Row(page='NextSong', length=259.5522), Row(page='NextSong', length=209.03138), Row(page='NextSong', length=344.97261), Row(page='NextSong', length=363.15383), Row(page='NextSong', length=211.51302), Row(page='NextSong', length=227.89179), Row(page='NextSong', length=1169.81506), Row(page='NextSong', length=383.99955), Row(page='NextSong', length=361.79546), Row(page='NextSong', length=616.51546), Row(page='NextSong', length=121.57342), Row(page='NextSong', length=158.69342), Row(page='NextSong', length=468.58404), Row(page='NextSong', length=497.26649), Row(page='NextSong', length=284.47302), Row(page='NextSong', length=494.07955), Row(page='NextSong', length=407.14404), Row(page='NextSong', length=417.30567), Row(page='NextSong', length=188.3424), Row(page='NextSong', length=73.27302), Row(page='NextSong', length=115.53914), Row(page='NextSong', length=447.29424), Row(page='NextSong', length=685.5571), Row(page='NextSong', length=322.58567), Row(page='NextSong', length=318.74567), Row(page='NextSong', length=118.96118), Row(page='NextSong', length=427.20608), Row(page='NextSong', length=309.96853), Row(page='NextSong', length=586.91873), Row(page='NextSong', length=557.66159), Row(page='NextSong', length=336.95302), Row(page='NextSong', length=154.98404), Row(page='NextSong', length=139.75465), Row(page='NextSong', length=527.35955), Row(page='NextSong', length=141.81832), Row(page='NextSong', length=332.14649), Row(page='NextSong', length=139.96363), Row(page='NextSong', length=267.75465), Row(page='NextSong', length=17.76281), Row(page='NextSong', length=368.53506), Row(page='NextSong', length=333.24363), Row(page='NextSong', length=1139.59138), Row(page='NextSong', length=209.05751), Row(page='NextSong', length=444.70812), Row(page='NextSong', length=276.40118), Row(page='NextSong', length=235.93751), Row(page='NextSong', length=194.55955), Row(page='NextSong', length=299.02322), Row(page='NextSong', length=290.37669), Row(page='NextSong', length=189.07383), Row(page='NextSong', length=186.93179), Row(page='NextSong', length=323.86567), Row(page='NextSong', length=216.24118), Row(page='NextSong', length=293.0673), Row(page='NextSong', length=232.41098), Row(page='NextSong', length=228.25751), Row(page='NextSong', length=180.94975), Row(page='NextSong', length=226.14159), Row(page='NextSong', length=212.45342), Row(page='NextSong', length=237.58322), Row(page='NextSong', length=289.93261), Row(page='NextSong', length=199.73179), Row(page='NextSong', length=204.85179), Row(page='NextSong', length=158.4322), Row(page='NextSong', length=268.56444), Row(page='NextSong', length=302.602), Row(page='NextSong', length=98.95138), Row(page='NextSong', length=559.09832), Row(page='NextSong', length=248.92036), Row(page='NextSong', length=288.78322), Row(page='NextSong', length=188.57751), Row(page='NextSong', length=203.80689), Row(page='NextSong', length=262.13832), Row(page='NextSong', length=144.3522), Row(page='NextSong', length=331.62404), Row(page='NextSong', length=183.69261), Row(page='NextSong', length=190.04036), Row(page='NextSong', length=393.66485), Row(page='NextSong', length=58.69669), Row(page='NextSong', length=217.57342), Row(page='NextSong', length=557.06077), Row(page='NextSong', length=369.94567), Row(page='NextSong', length=164.30975), Row(page='NextSong', length=158.71955), Row(page='NextSong', length=199.44444), Row(page='NextSong', length=326.50404), Row(page='NextSong', length=269.89669), Row(page='NextSong', length=424.95955), Row(page='NextSong', length=198.79138), Row(page='NextSong', length=276.84526), Row(page='NextSong', length=151.97995), Row(page='NextSong', length=119.53587), Row(page='NextSong', length=387.97016), Row(page='NextSong', length=347.58485), Row(page='NextSong', length=22.46485), Row(page='NextSong', length=140.82567), Row(page='NextSong', length=411.74159), Row(page='NextSong', length=129.25342), Row(page='NextSong', length=475.08853), Row(page='NextSong', length=1298.78159), Row(page='NextSong', length=450.48118), Row(page='NextSong', length=301.53098), Row(page='NextSong', length=290.69016), Row(page='NextSong', length=409.12934), Row(page='NextSong', length=568.89424), Row(page='NextSong', length=503.06567), Row(page='NextSong', length=475.81995), Row(page='NextSong', length=443.0624), Row(page='NextSong', length=390.3473), Row(page='NextSong', length=383.37261), Row(page='NextSong', length=60.3424), Row(page='NextSong', length=62.58893), Row(page='NextSong', length=276.34893), Row(page='NextSong', length=1071.25506), Row(page='NextSong', length=495.35955), Row(page='NextSong', length=106.00444), Row(page='NextSong', length=400.32608), Row(page='NextSong', length=194.58567), Row(page='NextSong', length=450.19383), Row(page='NextSong', length=294.1122), Row(page='NextSong', length=420.8322), Row(page='NextSong', length=290.66404), Row(page='NextSong', length=179.17342), Row(page='NextSong', length=166.60853), Row(page='NextSong', length=223.68608), Row(page='NextSong', length=274.41587), Row(page='NextSong', length=156.26404), Row(page='NextSong', length=210.12853), Row(page='NextSong', length=369.34485), Row(page='NextSong', length=143.22893), Row(page='NextSong', length=532.94975), Row(page='NextSong', length=429.16526), Row(page='NextSong', length=189.43955), Row(page='NextSong', length=137.7171), Row(page='NextSong', length=294.05995), Row(page='NextSong', length=220.49914), Row(page='NextSong', length=215.61424), Row(page='NextSong', length=223.21587), Row(page='NextSong', length=607.63383), Row(page='NextSong', length=357.14567), Row(page='NextSong', length=270.0273), Row(page='NextSong', length=199.49669), Row(page='NextSong', length=335.51628), Row(page='NextSong', length=253.12608), Row(page='NextSong', length=156.00281), Row(page='NextSong', length=313.36444), Row(page='NextSong', length=271.69914), Row(page='NextSong', length=304.5873), Row(page='NextSong', length=393.50812), Row(page='NextSong', length=61.41342), Row(page='NextSong', length=323.29098), Row(page='NextSong', length=438.62159), Row(page='NextSong', length=508.3424), Row(page='NextSong', length=301.08689), Row(page='NextSong', length=316.23791), Row(page='NextSong', length=482.97751), Row(page='NextSong', length=232.35873), Row(page='NextSong', length=133.69424), Row(page='NextSong', length=292.62322), Row(page='NextSong', length=145.08363), Row(page='NextSong', length=364.12036), Row(page='NextSong', length=320.67873), Row(page='NextSong', length=406.56934), Row(page='NextSong', length=341.28934), Row(page='NextSong', length=126.53669), Row(page='NextSong', length=338.20689), Row(page='NextSong', length=390.5824), Row(page='NextSong', length=61.962), Row(page='NextSong', length=383.81669), Row(page='NextSong', length=630.9873), Row(page='NextSong', length=61.88363), Row(page='NextSong', length=300.7473), Row(page='NextSong', length=169.01179), Row(page='NextSong', length=75.78077), Row(page='NextSong', length=121.80853), Row(page='NextSong', length=464.16934), Row(page='NextSong', length=604.26404), Row(page='NextSong', length=140.09424), Row(page='NextSong', length=329.89995), Row(page='NextSong', length=11.54567), Row(page='NextSong', length=446.45832), Row(page='NextSong', length=327.60118), Row(page='NextSong', length=534.43873), Row(page='NextSong', length=510.01424), Row(page='NextSong', length=324.80608), Row(page='NextSong', length=524.95628), Row(page='NextSong', length=103.99302), Row(page='NextSong', length=997.85098), Row(page='NextSong', length=71.1571), Row(page='NextSong', length=446.85016), Row(page='NextSong', length=480.49587), Row(page='NextSong', length=572.94322), Row(page='NextSong', length=336.71791), Row(page='NextSong', length=221.67465), Row(page='NextSong', length=227.49995), Row(page='NextSong', length=374.20363), Row(page='NextSong', length=122.43546), Row(page='NextSong', length=192.02567), Row(page='NextSong', length=249.10322), Row(page='NextSong', length=381.72689), Row(page='NextSong', length=205.11302), Row(page='NextSong', length=407.27465), Row(page='NextSong', length=150.36036), Row(page='NextSong', length=222.51057), Row(page='NextSong', length=345.7824), Row(page='NextSong', length=213.7073), Row(page='NextSong', length=196.33587), Row(page='NextSong', length=264.85506), Row(page='NextSong', length=259.73506), Row(page='NextSong', length=233.37751), Row(page='NextSong', length=770.11546), Row(page='NextSong', length=346.51383), Row(page='NextSong', length=152.58077), Row(page='NextSong', length=487.8624), Row(page='NextSong', length=505.49506), Row(page='NextSong', length=192.80934), Row(page='NextSong', length=47.64689), Row(page='NextSong', length=94.27546), Row(page='NextSong', length=224.73098), Row(page='NextSong', length=318.01424), Row(page='NextSong', length=177.26649), Row(page='NextSong', length=422.24281), Row(page='NextSong', length=248.24118), Row(page='NextSong', length=156.31628), Row(page='NextSong', length=392.4371), Row(page='NextSong', length=284.73424), Row(page='NextSong', length=149.96853), Row(page='NextSong', length=431.75138), Row(page='NextSong', length=708.38812), Row(page='NextSong', length=373.89016), Row(page='NextSong', length=321.802), Row(page='NextSong', length=149.002), Row(page='NextSong', length=263.05261), Row(page='NextSong', length=374.77832), Row(page='NextSong', length=278.33424), Row(page='NextSong', length=210.49424), Row(page='NextSong', length=429.58322), Row(page='NextSong', length=325.3024), Row(page='NextSong', length=421.77261), Row(page='NextSong', length=267.31057), Row(page='NextSong', length=250.56608), Row(page='NextSong', length=434.59873), Row(page='NextSong', length=371.19955), Row(page='NextSong', length=340.87138), Row(page='NextSong', length=64.67873), Row(page='NextSong', length=391.73179), Row(page='NextSong', length=1316.51873), Row(page='NextSong', length=89.28608), Row(page='NextSong', length=501.26322), Row(page='NextSong', length=92.76036), Row(page='NextSong', length=419.73506), Row(page='NextSong', length=410.67057), Row(page='NextSong', length=395.91138), Row(page='NextSong', length=131.81342), Row(page='NextSong', length=416.20853), Row(page='NextSong', length=335.28118), Row(page='NextSong', length=40.77669), Row(page='NextSong', length=258.61179), Row(page='NextSong', length=557.21751), Row(page='NextSong', length=659.30404), Row(page='NextSong', length=355.49995), Row(page='NextSong', length=461.97506), Row(page='NextSong', length=449.17506), Row(page='NextSong', length=580.15302), Row(page='NextSong', length=494.65424), Row(page='NextSong', length=131.68281), Row(page='NextSong', length=471.69261), Row(page='NextSong', length=110.0273), Row(page='NextSong', length=46.10567), Row(page='NextSong', length=496.50893), Row(page='NextSong', length=341.65506), Row(page='NextSong', length=429.06077), Row(page='NextSong', length=225.12281), Row(page='NextSong', length=280.00608), Row(page='NextSong', length=167.02649), Row(page='NextSong', length=296.51546), Row(page='NextSong', length=213.08036), Row(page='NextSong', length=714.37016), Row(page='NextSong', length=204.59057), Row(page='NextSong', length=155.8722), Row(page='NextSong', length=481.48853), Row(page='NextSong', length=294.922), Row(page='NextSong', length=279.24853), Row(page='NextSong', length=227.91791), Row(page='NextSong', length=291.49995), Row(page='NextSong', length=162.48118), Row(page='NextSong', length=202.81424), Row(page='NextSong', length=333.63546), Row(page='NextSong', length=192.49587), Row(page='NextSong', length=266.63138), Row(page='NextSong', length=355.86567), Row(page='NextSong', length=221.25669), Row(page='NextSong', length=163.73506), Row(page='NextSong', length=166.29506), Row(page='NextSong', length=267.02322), Row(page='NextSong', length=277.34159), Row(page='NextSong', length=237.24363), Row(page='NextSong', length=183.61424), Row(page='NextSong', length=117.4722), Row(page='NextSong', length=148.00934), Row(page='NextSong', length=137.79546), Row(page='NextSong', length=270.41914), Row(page='NextSong', length=311.24853), Row(page='NextSong', length=347.53261), Row(page='NextSong', length=230.32118), Row(page='NextSong', length=218.46159), Row(page='NextSong', length=93.17832), Row(page='NextSong', length=380.3424), Row(page='NextSong', length=386.97751), Row(page='NextSong', length=415.81669), Row(page='NextSong', length=410.14812), Row(page='NextSong', length=384.62649), Row(page='NextSong', length=368.95302), Row(page='NextSong', length=95.79057), Row(page='NextSong', length=35.00363), Row(page='NextSong', length=103.33995), Row(page='NextSong', length=550.32118), Row(page='NextSong', length=221.54404), Row(page='NextSong', length=108.59057), Row(page='NextSong', length=196.5971), Row(page='NextSong', length=121.25995), Row(page='NextSong', length=171.91138), Row(page='NextSong', length=80.27383), Row(page='NextSong', length=305.21424), Row(page='NextSong', length=102.922), Row(page='NextSong', length=114.20689), Row(page='NextSong', length=77.45261), Row(page='NextSong', length=124.55138), Row(page='NextSong', length=511.26812), Row(page='NextSong', length=354.76853), Row(page='NextSong', length=20.37506), Row(page='NextSong', length=808.09751), Row(page='NextSong', length=282.43546), Row(page='NextSong', length=84.24444), Row(page='NextSong', length=408.21506), Row(page='NextSong', length=137.32526), Row(page='NextSong', length=390.26893), Row(page='NextSong', length=46.31465), Row(page='NextSong', length=142.96771), Row(page='NextSong', length=636.78649), Row(page='NextSong', length=441.96526), Row(page='NextSong', length=339.09506), Row(page='NextSong', length=182.67383), Row(page='NextSong', length=99.49995), Row(page='NextSong', length=395.02322), Row(page='NextSong', length=314.74893), Row(page='NextSong', length=461.94893), Row(page='NextSong', length=354.84689), Row(page='NextSong', length=416.88771), Row(page='NextSong', length=266.70975), Row(page='NextSong', length=402.59873), Row(page='NextSong', length=123.27138), Row(page='NextSong', length=244.34893), Row(page='NextSong', length=54.09914), Row(page='NextSong', length=340.81914), Row(page='NextSong', length=215.50975), Row(page='NextSong', length=167.65342), Row(page='NextSong', length=122.27873), Row(page='NextSong', length=133.04118), Row(page='NextSong', length=185.5473), Row(page='NextSong', length=180.71465), Row(page='NextSong', length=157.30893), Row(page='NextSong', length=117.28934), Row(page='NextSong', length=426.63138), Row(page='NextSong', length=381.04771), Row(page='NextSong', length=198.29506), Row(page='NextSong', length=339.43465), Row(page='NextSong', length=170.97098), Row(page='NextSong', length=291.02975), Row(page='NextSong', length=283.16689), Row(page='NextSong', length=357.3024), Row(page='NextSong', length=121.41669), Row(page='NextSong', length=169.7171), Row(page='NextSong', length=90.01751), Row(page='NextSong', length=209.71057), Row(page='NextSong', length=282.64444), Row(page='NextSong', length=178.442), Row(page='NextSong', length=392.48934), Row(page='NextSong', length=175.28118), Row(page='NextSong', length=700.31628), Row(page='NextSong', length=145.84118), Row(page='NextSong', length=208.16934), Row(page='NextSong', length=203.15383), Row(page='NextSong', length=235.67628), Row(page='NextSong', length=505.18159), Row(page='NextSong', length=653.13914), Row(page='NextSong', length=54.77832), Row(page='NextSong', length=116.11383), Row(page='NextSong', length=223.76444), Row(page='NextSong', length=157.57016), Row(page='NextSong', length=289.33179), Row(page='NextSong', length=416.60036), Row(page='NextSong', length=296.88118), Row(page='NextSong', length=363.04934), Row(page='NextSong', length=112.56118), Row(page='NextSong', length=125.23057), Row(page='NextSong', length=412.02893), Row(page='NextSong', length=412.83873), Row(page='NextSong', length=448.46975), Row(page='NextSong', length=376.37179), Row(page='NextSong', length=439.45751), Row(page='NextSong', length=36.33587), Row(page='NextSong', length=49.44934), Row(page='NextSong', length=386.37669), Row(page='NextSong', length=521.01179), Row(page='NextSong', length=172.59057), Row(page='NextSong', length=52.50567), Row(page='NextSong', length=477.1522), Row(page='NextSong', length=354.19383), Row(page='NextSong', length=349.88363), Row(page='NextSong', length=228.85832), Row(page='NextSong', length=463.17669), Row(page='NextSong', length=145.50159), Row(page='NextSong', length=163.86567), Row(page='NextSong', length=246.96118), Row(page='NextSong', length=238.81098), Row(page='NextSong', length=132.23138), Row(page='NextSong', length=466.15465), Row(page='NextSong', length=190.09261), Row(page='NextSong', length=486.37342), Row(page='NextSong', length=235.88526), Row(page='NextSong', length=253.04771), Row(page='NextSong', length=344.2673), Row(page='NextSong', length=325.90322), Row(page='NextSong', length=267.96363), Row(page='NextSong', length=445.90975), Row(page='NextSong', length=135.78404), Row(page='NextSong', length=275.04281), Row(page='NextSong', length=228.5971), Row(page='NextSong', length=118.80444), Row(page='NextSong', length=182.85669), Row(page='NextSong', length=321.07057), Row(page='NextSong', length=171.17995), Row(page='NextSong', length=310.09914), Row(page='NextSong', length=979.1473), Row(page='NextSong', length=262.97424), Row(page='NextSong', length=245.08036), Row(page='NextSong', length=1087.18975), Row(page='NextSong', length=143.5424), Row(page='NextSong', length=464.97914), Row(page='NextSong', length=303.75138), Row(page='NextSong', length=331.07546), Row(page='NextSong', length=313.12934), Row(page='NextSong', length=46.75873), Row(page='NextSong', length=419.86567), Row(page='NextSong', length=339.19955), Row(page='NextSong', length=185.39057), Row(page='NextSong', length=359.33995), Row(page='NextSong', length=379.37587), Row(page='NextSong', length=128.46975), Row(page='NextSong', length=359.88853), Row(page='NextSong', length=220.60363), Row(page='NextSong', length=269.08689), Row(page='NextSong', length=108.17261), Row(page='NextSong', length=307.87873), Row(page='NextSong', length=67.63057), Row(page='NextSong', length=128.36526), Row(page='NextSong', length=115.59138), Row(page='NextSong', length=281.57342), Row(page='NextSong', length=341.81179), Row(page='NextSong', length=431.43791), Row(page='NextSong', length=57.65179), Row(page='NextSong', length=429.19138), Row(page='NextSong', length=526.13179), Row(page='NextSong', length=434.46812), Row(page='NextSong', length=69.53751), Row(page='NextSong', length=380.52526), Row(page='NextSong', length=473.75628), Row(page='NextSong', length=432.09098), Row(page='NextSong', length=1349.45914), Row(page='NextSong', length=168.64608), Row(page='NextSong', length=197.14567), Row(page='NextSong', length=290.84689), Row(page='NextSong', length=274.78159), Row(page='NextSong', length=137.66485), Row(page='NextSong', length=105.69098), Row(page='NextSong', length=273.76281), Row(page='NextSong', length=204.17261), Row(page='NextSong', length=300.45995), Row(page='NextSong', length=256.31302), Row(page='NextSong', length=531.85261), Row(page='NextSong', length=200.09751), Row(page='NextSong', length=137.1424), Row(page='NextSong', length=315.34975), Row(page='NextSong', length=418.48118), Row(page='NextSong', length=301.06077), Row(page='NextSong', length=205.58322), Row(page='NextSong', length=341.7073), Row(page='NextSong', length=274.85995), Row(page='NextSong', length=131.86567), Row(page='NextSong', length=260.96281), Row(page='NextSong', length=201.66485), Row(page='NextSong', length=286.61506), Row(page='NextSong', length=106.65751), Row(page='NextSong', length=313.62567), Row(page='NextSong', length=431.77751), Row(page='NextSong', length=307.74812), Row(page='NextSong', length=225.93261), Row(page='NextSong', length=196.67546), Row(page='NextSong', length=166.05556), Row(page='NextSong', length=230.922), Row(page='NextSong', length=580.85832), Row(page='NextSong', length=365.7922), Row(page='NextSong', length=613.74649), Row(page='NextSong', length=395.54567), Row(page='NextSong', length=137.16853), Row(page='NextSong', length=382.37995), Row(page='NextSong', length=505.52118), Row(page='NextSong', length=311.97995), Row(page='NextSong', length=562.12853), Row(page='NextSong', length=380.36853), Row(page='NextSong', length=381.962), Row(page='NextSong', length=418.08934), Row(page='NextSong', length=28.31628), Row(page='NextSong', length=84.58404), Row(page='NextSong', length=225.30567), Row(page='NextSong', length=145.31873), Row(page='NextSong', length=346.64444), Row(page='NextSong', length=490.50077), Row(page='NextSong', length=60.49914), Row(page='NextSong', length=649.58649), Row(page='NextSong', length=459.88526), Row(page='NextSong', length=112.29995), Row(page='NextSong', length=432.29995), Row(page='NextSong', length=292.96281), Row(page='NextSong', length=446.51057), Row(page='NextSong', length=414.58893), Row(page='NextSong', length=127.03302), Row(page='NextSong', length=505.46893), Row(page='NextSong', length=470.49098), Row(page='NextSong', length=70.76526), Row(page='NextSong', length=439.09179), Row(page='NextSong', length=339.22567), Row(page='NextSong', length=747.85914), Row(page='NextSong', length=242.59873), Row(page='NextSong', length=243.30404), Row(page='NextSong', length=270.78485), Row(page='NextSong', length=351.63383), Row(page='NextSong', length=262.05995), Row(page='NextSong', length=231.83628), Row(page='NextSong', length=165.11955), Row(page='NextSong', length=305.10975), Row(page='NextSong', length=223.34649), Row(page='NextSong', length=228.20526), Row(page='NextSong', length=338.38975), Row(page='NextSong', length=267.62404), Row(page='NextSong', length=341.55057), Row(page='NextSong', length=235.12771), Row(page='NextSong', length=354.66404), Row(page='NextSong', length=317.75302), Row(page='NextSong', length=232.59383), Row(page='NextSong', length=207.90812), Row(page='NextSong', length=182.7522), Row(page='NextSong', length=318.06649), Row(page='NextSong', length=265.01179), Row(page='NextSong', length=253.23057), Row(page='NextSong', length=293.56363), Row(page='NextSong', length=259.65669), Row(page='NextSong', length=198.05995), Row(page='NextSong', length=230.21669), Row(page='NextSong', length=198.63465), Row(page='NextSong', length=408.00608), Row(page='NextSong', length=179.51302), Row(page='NextSong', length=187.81995), Row(page='NextSong', length=405.60281), Row(page='NextSong', length=131.49995), Row(page='NextSong', length=91.92444), Row(page='NextSong', length=168.14975), Row(page='NextSong', length=292.12689), Row(page='NextSong', length=153.59955), Row(page='NextSong', length=421.8771), Row(page='NextSong', length=267.07546), Row(page='NextSong', length=347.42812), Row(page='NextSong', length=206.81098), Row(page='NextSong', length=639.05914), Row(page='NextSong', length=393.7171), Row(page='NextSong', length=358.00771), Row(page='NextSong', length=343.562), Row(page='NextSong', length=226.48118), Row(page='NextSong', length=325.22404), Row(page='NextSong', length=344.11057), Row(page='NextSong', length=520.30649), Row(page='NextSong', length=879.25506), Row(page='NextSong', length=141.03465), Row(page='NextSong', length=431.85587), Row(page='NextSong', length=332.22485), Row(page='NextSong', length=526.21016), Row(page='NextSong', length=146.54649), Row(page='NextSong', length=180.32281), Row(page='NextSong', length=49.13587), Row(page='NextSong', length=439.7971), Row(page='NextSong', length=328.35873), Row(page='NextSong', length=393.97832), Row(page='NextSong', length=243.61751), Row(page='NextSong', length=330.39628), Row(page='NextSong', length=425.27302), Row(page='NextSong', length=52.81914), Row(page='NextSong', length=479.52934), Row(page='NextSong', length=345.15546), Row(page='NextSong', length=665.20771), Row(page='NextSong', length=411.61098), Row(page='NextSong', length=78.34077), Row(page='NextSong', length=111.5424), Row(page='NextSong', length=445.93587), Row(page='NextSong', length=341.31546), Row(page='NextSong', length=458.73587), Row(page='NextSong', length=998.42567), Row(page='NextSong', length=351.50322), Row(page='NextSong', length=342.9873), Row(page='NextSong', length=435.06893), Row(page='NextSong', length=124.31628), Row(page='NextSong', length=652.01587), Row(page='NextSong', length=273.57995), Row(page='NextSong', length=241.60608), Row(page='NextSong', length=368.8224), Row(page='NextSong', length=181.21098), Row(page='NextSong', length=278.41261), Row(page='NextSong', length=283.89832), Row(page='NextSong', length=311.66649), Row(page='NextSong', length=243.40853), Row(page='NextSong', length=157.43955), Row(page='NextSong', length=181.9424), Row(page='NextSong', length=206.39302), Row(page='NextSong', length=253.962), Row(page='NextSong', length=347.34975), Row(page='NextSong', length=141.42649), Row(page='NextSong', length=233.482), Row(page='NextSong', length=315.42812), Row(page='NextSong', length=406.15138), Row(page='NextSong', length=270.28853), Row(page='NextSong', length=191.00689), Row(page='NextSong', length=189.75302), Row(page='NextSong', length=345.67791), Row(page='NextSong', length=103.26159), Row(page='NextSong', length=240.71791), Row(page='NextSong', length=127.76444), Row(page='NextSong', length=230.68689), Row(page='NextSong', length=319.86893), Row(page='NextSong', length=274.83383), Row(page='NextSong', length=449.82812), Row(page='NextSong', length=53.86404), Row(page='NextSong', length=334.0273), Row(page='NextSong', length=278.96118), Row(page='NextSong', length=424.04526), Row(page='NextSong', length=88.86812), Row(page='NextSong', length=45.7922), Row(page='NextSong', length=389.53751), Row(page='NextSong', length=1343.50322), Row(page='NextSong', length=1380.20526), Row(page='NextSong', length=396.40771), Row(page='NextSong', length=176.66567), Row(page='NextSong', length=400.50893), Row(page='NextSong', length=488.35873), Row(page='NextSong', length=141.29587), Row(page='NextSong', length=499.69587), Row(page='NextSong', length=495.15057), Row(page='NextSong', length=67.18649), Row(page='NextSong', length=111.80363), Row(page='NextSong', length=75.10159), Row(page='NextSong', length=652.40771), Row(page='NextSong', length=48.43057), Row(page='NextSong', length=138.4224), Row(page='NextSong', length=474.14812), Row(page='NextSong', length=305.60608), Row(page='NextSong', length=47.82975), Row(page='NextSong', length=149.02812), Row(page='NextSong', length=36.70159), Row(page='NextSong', length=136.4371), Row(page='NextSong', length=44.87791), Row(page='NextSong', length=128.80934), Row(page='NextSong', length=310.90893), Row(page='NextSong', length=80.92689), Row(page='NextSong', length=331.2322), Row(page='NextSong', length=100.12689), Row(page='NextSong', length=405.57669), Row(page='NextSong', length=56.05832), Row(page='NextSong', length=1472.88771), Row(page='NextSong', length=586.16118), Row(page='NextSong', length=277.89016), Row(page='NextSong', length=255.242), Row(page='NextSong', length=239.62077), Row(page='NextSong', length=173.24363), Row(page='NextSong', length=245.39383), Row(page='NextSong', length=135.33995), Row(page='NextSong', length=282.85342), Row(page='NextSong', length=576.13016), Row(page='NextSong', length=372.03546), Row(page='NextSong', length=350.11873), Row(page='NextSong', length=246.38649), Row(page='NextSong', length=276.63628), Row(page='NextSong', length=231.18322), Row(page='NextSong', length=189.67465), Row(page='NextSong', length=222.64118), Row(page='NextSong', length=205.40036), Row(page='NextSong', length=320.10404), Row(page='NextSong', length=486.05995), Row(page='NextSong', length=200.72444), Row(page='NextSong', length=401.18812), Row(page='NextSong', length=134.94812), Row(page='NextSong', length=320.65261), Row(page='NextSong', length=335.75138), Row(page='NextSong', length=175.51628), Row(page='NextSong', length=289.2273), Row(page='NextSong', length=305.18812), Row(page='NextSong', length=307.77424), Row(page='NextSong', length=213.31546), Row(page='NextSong', length=284.31628), Row(page='NextSong', length=91.16689), Row(page='NextSong', length=351.00689), Row(page='NextSong', length=173.34812), Row(page='NextSong', length=182.93506), Row(page='NextSong', length=86.46485), Row(page='NextSong', length=115.9571), Row(page='NextSong', length=333.84444), Row(page='NextSong', length=317.36118), Row(page='NextSong', length=272.84853), Row(page='NextSong', length=122.01751), Row(page='NextSong', length=288.67873), Row(page='NextSong', length=104.9073), Row(page='NextSong', length=152.45016), Row(page='NextSong', length=172.72118), Row(page='NextSong', length=199.02649), Row(page='NextSong', length=300.56444), Row(page='NextSong', length=107.44118), Row(page='NextSong', length=330.08281), Row(page='NextSong', length=217.80853), Row(page='NextSong', length=67.99628), Row(page='NextSong', length=26.38322), Row(page='NextSong', length=320.02567), Row(page='NextSong', length=163.76118), Row(page='NextSong', length=305.71057), Row(page='NextSong', length=319.34649), Row(page='NextSong', length=125.07383), Row(page='NextSong', length=178.85995), Row(page='NextSong', length=330.34404), Row(page='NextSong', length=128.31302), Row(page='NextSong', length=424.64608), Row(page='NextSong', length=377.93914), Row(page='NextSong', length=330.37016), Row(page='NextSong', length=98.24608), Row(page='NextSong', length=78.36689), Row(page='NextSong', length=357.74649), Row(page='NextSong', length=459.28444), Row(page='NextSong', length=311.35302), Row(page='NextSong', length=150.56934), Row(page='NextSong', length=36.51873), Row(page='NextSong', length=833.48853), Row(page='NextSong', length=66.95138), Row(page='NextSong', length=989.51791), Row(page='NextSong', length=309.26322), Row(page='NextSong', length=45.47873), Row(page='NextSong', length=118.282), Row(page='NextSong', length=429.92281), Row(page='NextSong', length=55.69261), Row(page='NextSong', length=351.03302), Row(page='NextSong', length=638.14485), Row(page='NextSong', length=462.602), Row(page='NextSong', length=217.36444), Row(page='NextSong', length=202.84036), Row(page='NextSong', length=127.242), Row(page='NextSong', length=252.05506), Row(page='NextSong', length=212.4273), Row(page='NextSong', length=217.75628), Row(page='NextSong', length=167.81016), Row(page='NextSong', length=148.94975), Row(page='NextSong', length=389.69424), Row(page='NextSong', length=226.71628), Row(page='NextSong', length=207.85587), Row(page='NextSong', length=195.60444), Row(page='NextSong', length=362.26567), Row(page='NextSong', length=264.93342), Row(page='NextSong', length=268.30322), Row(page='NextSong', length=301.97506), Row(page='NextSong', length=210.70322), Row(page='NextSong', length=194.2722), Row(page='NextSong', length=216.13669), Row(page='NextSong', length=324.15302), Row(page='NextSong', length=207.56853), Row(page='NextSong', length=331.93751), Row(page='NextSong', length=195.91791), Row(page='NextSong', length=301.00853), Row(page='NextSong', length=198.39955), Row(page='NextSong', length=469.78567), Row(page='NextSong', length=169.74322), Row(page='NextSong', length=312.55465), Row(page='NextSong', length=175.5424), Row(page='NextSong', length=269.45261), Row(page='NextSong', length=322.66404), Row(page='NextSong', length=427.91138), Row(page='NextSong', length=173.08689), Row(page='NextSong', length=155.68934), Row(page='NextSong', length=247.84934), Row(page='NextSong', length=311.48363), Row(page='NextSong', length=311.71873), Row(page='NextSong', length=140.61669), Row(page='NextSong', length=129.2273), Row(page='NextSong', length=125.85751), Row(page='NextSong', length=42.39628), Row(page='NextSong', length=161.09669), Row(page='NextSong', length=486.00771), Row(page='NextSong', length=537.83465), Row(page='NextSong', length=365.40036), Row(page='NextSong', length=117.7073), Row(page='NextSong', length=797.72689), Row(page='NextSong', length=370.62485), Row(page='NextSong', length=319.63383), Row(page='NextSong', length=92.08118), Row(page='NextSong', length=85.002), Row(page='NextSong', length=301.21751), Row(page='NextSong', length=319.58159), Row(page='NextSong', length=500.89751), Row(page='NextSong', length=406.22975), Row(page='NextSong', length=443.37587), Row(page='NextSong', length=427.33669), Row(page='NextSong', length=148.32281), Row(page='NextSong', length=97.90649), Row(page='NextSong', length=369.65832), Row(page='NextSong', length=142.21016), Row(page='NextSong', length=219.50649), Row(page='NextSong', length=261.45914), Row(page='NextSong', length=269.53098), Row(page='NextSong', length=228.91057), Row(page='NextSong', length=247.24853), Row(page='NextSong', length=84.94975), Row(page='NextSong', length=430.62812), Row(page='NextSong', length=252.73424), Row(page='NextSong', length=217.39057), Row(page='NextSong', length=248.65914), Row(page='NextSong', length=300.66893), Row(page='NextSong', length=290.71628), Row(page='NextSong', length=306.20689), Row(page='NextSong', length=102.50404), Row(page='NextSong', length=53.02812), Row(page='NextSong', length=626.99057), Row(page='NextSong', length=301.76608), Row(page='NextSong', length=266.78812), Row(page='NextSong', length=368.84853), Row(page='NextSong', length=377.18159), Row(page='NextSong', length=261.22404), Row(page='NextSong', length=346.80118), Row(page='NextSong', length=325.642), Row(page='NextSong', length=372.92363), Row(page='NextSong', length=383.7122), Row(page='NextSong', length=356.75383), Row(page='NextSong', length=148.16608), Row(page='NextSong', length=305.08363), Row(page='NextSong', length=262.21669), Row(page='NextSong', length=374.72608), Row(page='NextSong', length=418.01098), Row(page='NextSong', length=108.35546), Row(page='NextSong', length=370.12853), Row(page='NextSong', length=360.64608), Row(page='NextSong', length=254.22322), Row(page='NextSong', length=252.47302), Row(page='NextSong', length=403.3824), Row(page='NextSong', length=470.93506), Row(page='NextSong', length=327.3922), Row(page='NextSong', length=300.32934), Row(page='NextSong', length=145.68444), Row(page='NextSong', length=340.50567), Row(page='NextSong', length=105.40363), Row(page='NextSong', length=279.77098), Row(page='NextSong', length=102.81751), Row(page='NextSong', length=587.80689), Row(page='NextSong', length=107.41506), Row(page='NextSong', length=398.99383), Row(page='NextSong', length=135.67955), Row(page='NextSong', length=487.28771), Row(page='NextSong', length=366.52363), Row(page='NextSong', length=100.28363), Row(page='NextSong', length=212.71465), Row(page='NextSong', length=403.04281), Row(page='NextSong', length=434.62485), Row(page='NextSong', length=390.39955), Row(page='NextSong', length=609.54077), Row(page='NextSong', length=487.02649), Row(page='NextSong', length=71.94077), Row(page='NextSong', length=715.7024), Row(page='NextSong', length=353.01832), Row(page='NextSong', length=492.66893), Row(page='NextSong', length=102.71302), Row(page='NextSong', length=416.73098), Row(page='NextSong', length=964.33587), Row(page='NextSong', length=663.50975), Row(page='NextSong', length=163.34322), Row(page='NextSong', length=36.25751), Row(page='NextSong', length=102.84363), Row(page='NextSong', length=235.28444), Row(page='NextSong', length=256.7571), Row(page='NextSong', length=266.84036), Row(page='NextSong', length=418.58567), Row(page='NextSong', length=307.61751), Row(page='NextSong', length=239.59465), Row(page='NextSong', length=324.30975), Row(page='NextSong', length=170.81424), Row(page='NextSong', length=551.41832), Row(page='NextSong', length=187.55873), Row(page='NextSong', length=209.50159), Row(page='NextSong', length=138.70975), Row(page='NextSong', length=142.99383), Row(page='NextSong', length=188.49914), Row(page='NextSong', length=286.69342), Row(page='NextSong', length=191.29424), Row(page='NextSong', length=279.7971), Row(page='NextSong', length=292.80608), Row(page='NextSong', length=193.2273), Row(page='NextSong', length=261.90322), Row(page='NextSong', length=211.06893), Row(page='NextSong', length=111.38567), Row(page='NextSong', length=200.38485), Row(page='NextSong', length=164.54485), Row(page='NextSong', length=228.96281), Row(page='NextSong', length=133.72036), Row(page='NextSong', length=302.2624), Row(page='NextSong', length=518.45179), Row(page='NextSong', length=155.29751), Row(page='NextSong', length=19.51302), Row(page='NextSong', length=164.72771), Row(page='NextSong', length=64.44363), Row(page='NextSong', length=298.37016), Row(page='NextSong', length=1928.64608), Row(page='NextSong', length=357.09342), Row(page='NextSong', length=175.09832), Row(page='NextSong', length=343.06567), Row(page='NextSong', length=163.83955), Row(page='NextSong', length=614.73914), Row(page='NextSong', length=268.53832), Row(page='NextSong', length=338.25914), Row(page='NextSong', length=277.91628), Row(page='NextSong', length=170.89261), Row(page='NextSong', length=303.43791), Row(page='NextSong', length=252.29016), Row(page='NextSong', length=398.78485), Row(page='NextSong', length=389.61587), Row(page='NextSong', length=156.08118), Row(page='NextSong', length=132.5971), Row(page='NextSong', length=368.27383), Row(page='NextSong', length=376.2673), Row(page='NextSong', length=340.1922), Row(page='NextSong', length=494.41914), Row(page='NextSong', length=174.57587), Row(page='NextSong', length=330.91873), Row(page='NextSong', length=32.26077), Row(page='NextSong', length=422.84363), Row(page='NextSong', length=269.322), Row(page='NextSong', length=384.9922), Row(page='NextSong', length=475.27138), Row(page='NextSong', length=139.15383), Row(page='NextSong', length=98.63791), Row(page='NextSong', length=135.07873), Row(page='NextSong', length=379.79383), Row(page='NextSong', length=836.5971), Row(page='NextSong', length=496.61342), Row(page='NextSong', length=425.45587), Row(page='NextSong', length=484.57098), Row(page='NextSong', length=388.57098), Row(page='NextSong', length=225.98485), Row(page='NextSong', length=174.62812), Row(page='NextSong', length=168.6722), Row(page='NextSong', length=226.06322), Row(page='NextSong', length=195.39546), Row(page='NextSong', length=223.16363), Row(page='NextSong', length=200.95955), Row(page='NextSong', length=232.95955), Row(page='NextSong', length=324.64934), Row(page='NextSong', length=274.6771), Row(page='NextSong', length=227.99628), Row(page='NextSong', length=299.78077), Row(page='NextSong', length=222.71955), Row(page='NextSong', length=520.41098), Row(page='NextSong', length=203.75465), Row(page='NextSong', length=176.56118), Row(page='NextSong', length=279.11791), Row(page='NextSong', length=176.22159), Row(page='NextSong', length=217.70404), Row(page='NextSong', length=250.85342), Row(page='NextSong', length=219.95057), Row(page='NextSong', length=243.09506), Row(page='NextSong', length=455.05261), Row(page='NextSong', length=617.11628), Row(page='NextSong', length=349.93587), Row(page='NextSong', length=294.3473), Row(page='NextSong', length=305.65832), Row(page='NextSong', length=291.57832), Row(page='NextSong', length=231.88853), Row(page='NextSong', length=233.11628), Row(page='NextSong', length=263.26159), Row(page='NextSong', length=164.0224), Row(page='NextSong', length=393.35138), Row(page='NextSong', length=172.87791), Row(page='NextSong', length=206.0273), Row(page='NextSong', length=469.2371), Row(page='NextSong', length=442.93179), Row(page='NextSong', length=173.87057), Row(page='NextSong', length=379.68934), Row(page='NextSong', length=429.94893), Row(page='NextSong', length=997.77261), Row(page='NextSong', length=181.002), Row(page='NextSong', length=215.71873), Row(page='NextSong', length=314.87955), Row(page='NextSong', length=177.44934), Row(page='NextSong', length=513.07057), Row(page='NextSong', length=322.40281), Row(page='NextSong', length=481.77587), Row(page='NextSong', length=109.87057), Row(page='NextSong', length=48.27383), Row(page='NextSong', length=292.75383), Row(page='NextSong', length=186.85342), Row(page='NextSong', length=465.18812), Row(page='NextSong', length=372.47955), Row(page='NextSong', length=154.95791), Row(page='NextSong', length=197.79873), Row(page='NextSong', length=36.15302), Row(page='NextSong', length=226.92526), Row(page='NextSong', length=304.19546), Row(page='NextSong', length=58.04363), Row(page='NextSong', length=155.48036), Row(page='NextSong', length=124.36853), Row(page='NextSong', length=258.97751), Row(page='NextSong', length=159.08526), Row(page='NextSong', length=266.13506), Row(page='NextSong', length=280.71138), Row(page='NextSong', length=72.30649), Row(page='NextSong', length=130.0371), Row(page='NextSong', length=125.962), Row(page='NextSong', length=144.01261), Row(page='NextSong', length=523.15383), Row(page='NextSong', length=432.74404), Row(page='NextSong', length=77.00853), Row(page='NextSong', length=724.27057), Row(page='NextSong', length=83.61751), Row(page='NextSong', length=87.09179), Row(page='NextSong', length=102.32118), Row(page='NextSong', length=109.13914), Row(page='NextSong', length=445.07383), Row(page='NextSong', length=384.20853), Row(page='NextSong', length=170.37016), Row(page='NextSong', length=338.1024), Row(page='NextSong', length=364.9824), Row(page='NextSong', length=488.22812), Row(page='NextSong', length=134.55628), Row(page='NextSong', length=287.11138), Row(page='NextSong', length=185.83465), Row(page='NextSong', length=252.81261), Row(page='NextSong', length=200.93342), Row(page='NextSong', length=142.39302), Row(page='NextSong', length=500.00934), Row(page='NextSong', length=237.97506), Row(page='NextSong', length=145.65832), Row(page='NextSong', length=329.09016), Row(page='NextSong', length=166.00771), Row(page='NextSong', length=201.03791), Row(page='NextSong', length=336.92689), Row(page='NextSong', length=333.7922), Row(page='NextSong', length=167.57506), Row(page='NextSong', length=410.122), Row(page='NextSong', length=387.16036), Row(page='NextSong', length=327.26159), Row(page='NextSong', length=285.67465), Row(page='NextSong', length=335.80363), Row(page='NextSong', length=265.1424), Row(page='NextSong', length=313.44281), Row(page='NextSong', length=332.17261), Row(page='NextSong', length=228.51873), Row(page='NextSong', length=306.52036), Row(page='NextSong', length=110.65424), Row(page='NextSong', length=319.00689), Row(page='NextSong', length=155.0624), Row(page='NextSong', length=280.34567), Row(page='NextSong', length=228.28363), Row(page='NextSong', length=247.48363), Row(page='NextSong', length=87.50975), Row(page='NextSong', length=294.81751), Row(page='NextSong', length=106.29179), Row(page='NextSong', length=381.70077), Row(page='NextSong', length=181.08036), Row(page='NextSong', length=143.882), Row(page='NextSong', length=512.05179), Row(page='NextSong', length=307.66975), Row(page='NextSong', length=158.95465), Row(page='NextSong', length=436.27057), Row(page='NextSong', length=160.20853), Row(page='NextSong', length=42.37016), Row(page='NextSong', length=309.55057), Row(page='NextSong', length=130.19383), Row(page='NextSong', length=176.74404), Row(page='NextSong', length=318.58893), Row(page='NextSong', length=416.10404), Row(page='NextSong', length=83.80036), Row(page='NextSong', length=122.40934), Row(page='NextSong', length=412.42077), Row(page='NextSong', length=336.03873), Row(page='NextSong', length=426.21342), Row(page='NextSong', length=111.28118), Row(page='NextSong', length=79.93424), Row(page='NextSong', length=596.6624), Row(page='NextSong', length=118.85669), Row(page='NextSong', length=346.74893), Row(page='NextSong', length=94.9024), Row(page='NextSong', length=296.61995), Row(page='NextSong', length=93.98812), Row(page='NextSong', length=380.47302), Row(page='NextSong', length=512.31302), Row(page='NextSong', length=329.69098), Row(page='NextSong', length=83.90485), Row(page='NextSong', length=400.31955), Row(page='NextSong', length=726.46485), Row(page='NextSong', length=569.99138), Row(page='NextSong', length=526.99383), Row(page='NextSong', length=689.31873), Row(page='NextSong', length=393.06404), Row(page='NextSong', length=215.97995), Row(page='NextSong', length=267.51955), Row(page='NextSong', length=216.65914), Row(page='NextSong', length=255.42485), Row(page='NextSong', length=193.54077), Row(page='NextSong', length=236.90404), Row(page='NextSong', length=225.25342), Row(page='NextSong', length=427.80689), Row(page='NextSong', length=89.67791), Row(page='NextSong', length=256.62649), Row(page='NextSong', length=357.22404), Row(page='NextSong', length=132.64934), Row(page='NextSong', length=212.34893), Row(page='NextSong', length=239.35955), Row(page='NextSong', length=197.58975), Row(page='NextSong', length=202.10893), Row(page='NextSong', length=284.682), Row(page='NextSong', length=128.91383), Row(page='NextSong', length=201.76934), Row(page='NextSong', length=223.4771), Row(page='NextSong', length=182.41261), Row(page='NextSong', length=426.16118), Row(page='NextSong', length=169.19465), Row(page='NextSong', length=441.23383), Row(page='NextSong', length=300.09424), Row(page='NextSong', length=163.05587), Row(page='NextSong', length=159.99955), Row(page='NextSong', length=123.61098), Row(page='NextSong', length=272.77016), Row(page='NextSong', length=295.70567), Row(page='NextSong', length=219.24526), Row(page='NextSong', length=262.68689), Row(page='NextSong', length=223.45098), Row(page='NextSong', length=349.1522), Row(page='NextSong', length=145.47546), Row(page='NextSong', length=518.60853), Row(page='NextSong', length=506.90567), Row(page='NextSong', length=159.32036), Row(page='NextSong', length=286.92853), Row(page='NextSong', length=153.57342), Row(page='NextSong', length=63.32036), Row(page='NextSong', length=345.23383), Row(page='NextSong', length=304.37832), Row(page='NextSong', length=146.15465), Row(page='NextSong', length=312.97261), Row(page='NextSong', length=557.97506), Row(page='NextSong', length=365.11302), Row(page='NextSong', length=450.45506), Row(page='NextSong', length=340.32281), Row(page='NextSong', length=243.46077), Row(page='NextSong', length=380.65587), Row(page='NextSong', length=267.83302), Row(page='NextSong', length=303.28118), Row(page='NextSong', length=340.00934), Row(page='NextSong', length=101.14567), Row(page='NextSong', length=1506.21995), Row(page='NextSong', length=466.442), Row(page='NextSong', length=396.77342), Row(page='NextSong', length=732.39465), Row(page='NextSong', length=126.27546), Row(page='NextSong', length=597.86404), Row(page='NextSong', length=562.28526), Row(page='NextSong', length=435.33016), Row(page='NextSong', length=150.15138), Row(page='NextSong', length=506.56608), Row(page='NextSong', length=339.04281), Row(page='NextSong', length=105.97832), Row(page='NextSong', length=425.482), Row(page='NextSong', length=112.95302), Row(page='NextSong', length=251.37587), Row(page='NextSong', length=289.85424), Row(page='NextSong', length=144.14322), Row(page='NextSong', length=245.05424), Row(page='NextSong', length=180.37506), Row(page='NextSong', length=209.3971), Row(page='NextSong', length=188.9171), Row(page='NextSong', length=161.77587), Row(page='NextSong', length=309.4722), Row(page='NextSong', length=241.57995), Row(page='NextSong', length=234.9971), Row(page='NextSong', length=323.13424), Row(page='NextSong', length=541.962), Row(page='NextSong', length=326.94812), Row(page='NextSong', length=304.87465), Row(page='NextSong', length=284.39465), Row(page='NextSong', length=214.22975), Row(page='NextSong', length=375.09179), Row(page='NextSong', length=183.82322), Row(page='NextSong', length=257.35791), Row(page='NextSong', length=314.85342), Row(page='NextSong', length=247.14404), Row(page='NextSong', length=207.46404), Row(page='NextSong', length=287.68608), Row(page='NextSong', length=189.20444), Row(page='NextSong', length=294.42567), Row(page='NextSong', length=218.3571), Row(page='NextSong', length=249.75628), Row(page='NextSong', length=185.57342), Row(page='NextSong', length=139.44118), Row(page='NextSong', length=257.61914), Row(page='NextSong', length=342.54322), Row(page='NextSong', length=441.65179), Row(page='NextSong', length=109.16526), Row(page='NextSong', length=332.19873), Row(page='NextSong', length=149.31546), Row(page='NextSong', length=399.41179), Row(page='NextSong', length=385.67138), Row(page='NextSong', length=213.9424), Row(page='NextSong', length=120.86812), Row(page='NextSong', length=229.72036), Row(page='NextSong', length=186.30485), Row(page='NextSong', length=119.09179), Row(page='NextSong', length=300.042), Row(page='NextSong', length=171.85914), Row(page='NextSong', length=84.34893), Row(page='NextSong', length=182.04689), Row(page='NextSong', length=20.45342), Row(page='NextSong', length=296.28036), Row(page='NextSong', length=358.1122), Row(page='NextSong', length=348.62975), Row(page='NextSong', length=248.68526), Row(page='NextSong', length=742.29506), Row(page='NextSong', length=450.55955), Row(page='NextSong', length=99.89179), Row(page='NextSong', length=170.4224), Row(page='NextSong', length=356.67546), Row(page='NextSong', length=378.06975), Row(page='NextSong', length=194.37669), Row(page='NextSong', length=362.68363), Row(page='NextSong', length=317.88363), Row(page='NextSong', length=671.45098), Row(page='NextSong', length=168.93342), Row(page='NextSong', length=428.30322), Row(page='NextSong', length=337.52771), Row(page='NextSong', length=144.16934), Row(page='NextSong', length=108.40771), Row(page='NextSong', length=163.91791), Row(page='NextSong', length=351.84281), Row(page='NextSong', length=508.23791), Row(page='NextSong', length=462.0273), Row(page='NextSong', length=1105.99791), Row(page='NextSong', length=74.37016), Row(page='NextSong', length=598.9873), Row(page='NextSong', length=274.12853), Row(page='NextSong', length=3024.66567), Row(page='NextSong', length=305.37098), Row(page='NextSong', length=249.57342), Row(page='NextSong', length=187.45424), Row(page='NextSong', length=214.85669), Row(page='NextSong', length=230.71302), Row(page='NextSong', length=297.40363), Row(page='NextSong', length=212.55791), Row(page='NextSong', length=289.30567), Row(page='NextSong', length=189.98812), Row(page='NextSong', length=132.0224), Row(page='NextSong', length=244.27057), Row(page='NextSong', length=388.41424), Row(page='NextSong', length=163.02975), Row(page='NextSong', length=119.92771), Row(page='NextSong', length=244.61016), Row(page='NextSong', length=266.47465), Row(page='NextSong', length=187.08853), Row(page='NextSong', length=140.43383), Row(page='NextSong', length=394.08281), Row(page='NextSong', length=159.79057), Row(page='NextSong', length=196.04853), Row(page='NextSong', length=207.3073), Row(page='NextSong', length=289.67138), Row(page='NextSong', length=181.36771), Row(page='NextSong', length=198.3473), Row(page='NextSong', length=316.15955), Row(page='NextSong', length=453.01506), Row(page='NextSong', length=476.1073), Row(page='NextSong', length=56.92036), Row(page='NextSong', length=162.84689), Row(page='NextSong', length=427.15383), Row(page='NextSong', length=193.802), Row(page='NextSong', length=100.44036), Row(page='NextSong', length=283.29751), Row(page='NextSong', length=402.99057), Row(page='NextSong', length=48.01261), Row(page='NextSong', length=162.79465), Row(page='NextSong', length=171.4673), Row(page='NextSong', length=306.59873), Row(page='NextSong', length=198.50404), Row(page='NextSong', length=121.83465), Row(page='NextSong', length=161.93261), Row(page='NextSong', length=160.36526), Row(page='NextSong', length=172.12036), Row(page='NextSong', length=337.47546), Row(page='NextSong', length=266.37016), Row(page='NextSong', length=278.88281), Row(page='NextSong', length=407.17016), Row(page='NextSong', length=560.79628), Row(page='NextSong', length=356.46649), Row(page='NextSong', length=103.91465), Row(page='NextSong', length=104.69832), Row(page='NextSong', length=125.64853), Row(page='NextSong', length=180.61016), Row(page='NextSong', length=389.95546), Row(page='NextSong', length=278.36036), Row(page='NextSong', length=221.17832), Row(page='NextSong', length=342.83057), Row(page='NextSong', length=335.85587), Row(page='NextSong', length=196.23138), Row(page='NextSong', length=361.16853), Row(page='NextSong', length=68.33587), Row(page='NextSong', length=125.02159), Row(page='NextSong', length=34.32444), Row(page='NextSong', length=1179.32363), Row(page='NextSong', length=172.2771), Row(page='NextSong', length=385.35791), Row(page='NextSong', length=111.69914), Row(page='NextSong', length=621.19138), Row(page='NextSong', length=565.13261), Row(page='NextSong', length=362.23955), Row(page='NextSong', length=94.09261), Row(page='NextSong', length=373.08036), Row(page='NextSong', length=219.84608), Row(page='NextSong', length=401.29261), Row(page='NextSong', length=163.99628), Row(page='NextSong', length=162.45506), Row(page='NextSong', length=243.51302), Row(page='NextSong', length=143.56853), Row(page='NextSong', length=294.66077), Row(page='NextSong', length=334.88934), Row(page='NextSong', length=158.48444), Row(page='NextSong', length=392.35873), Row(page='NextSong', length=226.69016), Row(page='NextSong', length=189.80526), Row(page='NextSong', length=143.93424), Row(page='NextSong', length=109.06077), Row(page='NextSong', length=452.17914), Row(page='NextSong', length=147.85261), Row(page='NextSong', length=219.81995), Row(page='NextSong', length=162.19383), Row(page='NextSong', length=238.52363), Row(page='NextSong', length=237.63546), Row(page='NextSong', length=292.23138), Row(page='NextSong', length=331.28444), Row(page='NextSong', length=230.00771), Row(page='NextSong', length=172.9824), Row(page='NextSong', length=186.3571), Row(page='NextSong', length=303.04608), Row(page='NextSong', length=202.47465), Row(page='NextSong', length=291.05587), Row(page='NextSong', length=294.60853), Row(page='NextSong', length=524.06812), Row(page='NextSong', length=372.37506), Row(page='NextSong', length=190.9024), Row(page='NextSong', length=314.122), Row(page='NextSong', length=238.34077), Row(page='NextSong', length=216.94649), Row(page='NextSong', length=57.33832), Row(page='NextSong', length=125.88363), Row(page='NextSong', length=343.35302), Row(page='NextSong', length=179.87873), Row(page='NextSong', length=268.22485), Row(page='NextSong', length=287.32036), Row(page='NextSong', length=182.64771), Row(page='NextSong', length=203.31057), Row(page='NextSong', length=476.78649), Row(page='NextSong', length=60.55138), Row(page='NextSong', length=544.88771), Row(page='NextSong', length=340.13995), Row(page='NextSong', length=436.92363), Row(page='NextSong', length=208.48281), Row(page='NextSong', length=372.40118), Row(page='NextSong', length=81.18812), Row(page='NextSong', length=157.80526), Row(page='NextSong', length=336.48281), Row(page='NextSong', length=62.79791), Row(page='NextSong', length=300.59057), Row(page='NextSong', length=257.51465), Row(page='NextSong', length=332.06812), Row(page='NextSong', length=361.58649), Row(page='NextSong', length=133.32853), Row(page='NextSong', length=513.09669), Row(page='NextSong', length=338.52036), Row(page='NextSong', length=73.79546), Row(page='NextSong', length=134.19057), Row(page='NextSong', length=415.99955), Row(page='NextSong', length=143.17669), Row(page='NextSong', length=315.8722), Row(page='NextSong', length=460.79955), Row(page='NextSong', length=383.63383), Row(page='NextSong', length=335.04608), Row(page='NextSong', length=518.73914), Row(page='NextSong', length=467.04281), Row(page='NextSong', length=108.43383), Row(page='NextSong', length=123.08853), Row(page='NextSong', length=404.71465), Row(page='NextSong', length=535.50975), Row(page='NextSong', length=324.28363), Row(page='NextSong', length=234.29179), Row(page='NextSong', length=204.95628), Row(page='NextSong', length=361.29914), Row(page='NextSong', length=155.01016), Row(page='NextSong', length=201.40363), Row(page='NextSong', length=259.7873), Row(page='NextSong', length=249.20771), Row(page='NextSong', length=186.01751), Row(page='NextSong', length=196.30975), Row(page='NextSong', length=173.45261), Row(page='NextSong', length=255.97342), Row(page='NextSong', length=169.42975), Row(page='NextSong', length=321.69751), Row(page='NextSong', length=240.63955), Row(page='NextSong', length=187.29751), Row(page='NextSong', length=128.1824), Row(page='NextSong', length=232.72444), Row(page='NextSong', length=261.77261), Row(page='NextSong', length=186.06975), Row(page='NextSong', length=260.64934), Row(page='NextSong', length=175.69914), Row(page='NextSong', length=227.83955), Row(page='NextSong', length=193.64526), Row(page='NextSong', length=337.99791), Row(page='NextSong', length=174.00118), Row(page='NextSong', length=301.42649), Row(page='NextSong', length=231.67955), Row(page='NextSong', length=248.34567), Row(page='NextSong', length=278.30812), Row(page='NextSong', length=105.37751), Row(page='NextSong', length=146.57261), Row(page='NextSong', length=97.64526), Row(page='NextSong', length=155.76771), Row(page='NextSong', length=312.2673), Row(page='NextSong', length=100.96281), Row(page='NextSong', length=530.05016), Row(page='NextSong', length=211.87873), Row(page='NextSong', length=460.53832), Row(page='NextSong', length=608.10404), Row(page='NextSong', length=151.19628), Row(page='NextSong', length=179.22567), Row(page='NextSong', length=291.23873), Row(page='NextSong', length=288.07791), Row(page='NextSong', length=385.2273), Row(page='NextSong', length=130.79465), Row(page='NextSong', length=244.94975), Row(page='NextSong', length=364.06812), Row(page='NextSong', length=139.59791), Row(page='NextSong', length=164.91057), Row(page='NextSong', length=282.20036), Row(page='NextSong', length=441.12934), Row(page='NextSong', length=428.17261), Row(page='NextSong', length=127.39873), Row(page='NextSong', length=283.48036), Row(page='NextSong', length=405.39383), Row(page='NextSong', length=126.09261), Row(page='NextSong', length=31.79057), Row(page='NextSong', length=92.23791), Row(page='NextSong', length=439.48363), Row(page='NextSong', length=1059.082), Row(page='NextSong', length=78.21016), Row(page='NextSong', length=400.29995), Row(page='NextSong', length=474.51383), Row(page='NextSong', length=149.65506), Row(page='NextSong', length=41.63873), Row(page='NextSong', length=71.96689), Row(page='NextSong', length=73.03791), Row(page='NextSong', length=433.3971), Row(page='NextSong', length=175.98649), Row(page='NextSong', length=573.57016), Row(page='NextSong', length=410.8273), Row(page='NextSong', length=493.06077), Row(page='NextSong', length=395.67628), Row(page='NextSong', length=370.54649), Row(page='NextSong', length=139.57179), Row(page='NextSong', length=511.60771), Row(page='NextSong', length=53.62893), Row(page='NextSong', length=427.02322), Row(page='NextSong', length=491.07546), Row(page='NextSong', length=111.3073), Row(page='NextSong', length=552.4371), Row(page='NextSong', length=526.602), Row(page='NextSong', length=109.37424), Row(page='NextSong', length=789.002), Row(page='NextSong', length=442.90567), Row(page='NextSong', length=406.96118), Row(page='NextSong', length=43.57179), Row(page='NextSong', length=198.76526), Row(page='NextSong', length=202.73587), Row(page='NextSong', length=267.10159), Row(page='NextSong', length=201.45587), Row(page='NextSong', length=307.82649), Row(page='NextSong', length=204.90404), Row(page='NextSong', length=205.68771), Row(page='NextSong', length=299.51955), Row(page='NextSong', length=268.01587), Row(page='NextSong', length=263.91465), Row(page='NextSong', length=178.70322), Row(page='NextSong', length=286.85016), Row(page='NextSong', length=270.73261), Row(page='NextSong', length=458.50077), Row(page='NextSong', length=381.77914), Row(page='NextSong', length=424.28036), Row(page='NextSong', length=376.86812), Row(page='NextSong', length=319.60771), Row(page='NextSong', length=204.01587), Row(page='NextSong', length=191.65995), Row(page='NextSong', length=163.65669), Row(page='NextSong', length=301.03465), Row(page='NextSong', length=357.17179), Row(page='NextSong', length=321.59302), Row(page='NextSong', length=53.08036), Row(page='NextSong', length=258.5073), Row(page='NextSong', length=514.89914), Row(page='NextSong', length=352.05179), Row(page='NextSong', length=337.76281), Row(page='NextSong', length=238.602), Row(page='NextSong', length=76.79955), Row(page='NextSong', length=192.05179), Row(page='NextSong', length=277.73342), Row(page='NextSong', length=218.98404), Row(page='NextSong', length=157.17832), Row(page='NextSong', length=543.52934), Row(page='NextSong', length=160.80934), Row(page='NextSong', length=366.13179), Row(page='NextSong', length=373.10649), Row(page='NextSong', length=586.34404), Row(page='NextSong', length=187.27138), Row(page='NextSong', length=299.28444), Row(page='NextSong', length=624.97914), Row(page='NextSong', length=146.72934), Row(page='NextSong', length=261.95546), Row(page='NextSong', length=134.66077), Row(page='NextSong', length=329.03791), Row(page='NextSong', length=66.5073), Row(page='NextSong', length=399.0722), Row(page='NextSong', length=378.93179), Row(page='NextSong', length=315.79383), Row(page='NextSong', length=594.1024), Row(page='NextSong', length=559.62077), Row(page='NextSong', length=243.64363), Row(page='NextSong', length=878.602), Row(page='NextSong', length=211.82649), Row(page='NextSong', length=24.39791), Row(page='NextSong', length=1457.37098), Row(page='NextSong', length=48.92689), Row(page='NextSong', length=45.26975), Row(page='NextSong', length=345.02485), Row(page='NextSong', length=285.20444), Row(page='NextSong', length=692.97587), Row(page='NextSong', length=421.11955), Row(page='NextSong', length=729.36444), Row(page='NextSong', length=764.62975), Row(page='NextSong', length=51.59138), Row(page='NextSong', length=152.94649), Row(page='NextSong', length=382.87628), Row(page='NextSong', length=441.25995), Row(page='NextSong', length=127.81669), Row(page='NextSong', length=297.11628), Row(page='NextSong', length=381.67465), Row(page='NextSong', length=425.66485), Row(page='NextSong', length=569.36444), Row(page='NextSong', length=451.5522), Row(page='NextSong', length=58.122), Row(page='NextSong', length=233.69098), Row(page='NextSong', length=247.06567), Row(page='NextSong', length=220.62975), Row(page='NextSong', length=164.25751), Row(page='NextSong', length=210.36363), Row(page='NextSong', length=227.42159), Row(page='NextSong', length=180.13995), Row(page='NextSong', length=303.0722), Row(page='NextSong', length=227.81342), Row(page='NextSong', length=328.82893), Row(page='NextSong', length=261.04118), Row(page='NextSong', length=142.41914), Row(page='NextSong', length=151.43138), Row(page='NextSong', length=224.49587), Row(page='NextSong', length=279.32689), Row(page='NextSong', length=410.90567), Row(page='NextSong', length=297.69098), Row(page='NextSong', length=186.80118), Row(page='NextSong', length=144.90077), Row(page='NextSong', length=214.56934), Row(page='NextSong', length=476.62975), Row(page='NextSong', length=362.94485), Row(page='NextSong', length=37.35465), Row(page='NextSong', length=284.36853), Row(page='NextSong', length=321.4624), Row(page='NextSong', length=176.45669), Row(page='NextSong', length=161.82812), Row(page='NextSong', length=218.27873), Row(page='NextSong', length=231.99302), Row(page='NextSong', length=375.19628), Row(page='NextSong', length=510.87628), Row(page='NextSong', length=483.13424), Row(page='NextSong', length=212.13995), Row(page='NextSong', length=403.35628), Row(page='NextSong', length=276.89751), Row(page='NextSong', length=137.69098), Row(page='NextSong', length=355.81342), Row(page='NextSong', length=263.57506), Row(page='NextSong', length=201.16853), Row(page='NextSong', length=165.48526), Row(page='NextSong', length=195.5522), Row(page='NextSong', length=228.04853), Row(page='NextSong', length=403.93098), Row(page='NextSong', length=145.55383), Row(page='NextSong', length=174.99383), Row(page='NextSong', length=275.87873), Row(page='NextSong', length=261.43302), Row(page='NextSong', length=612.04853), Row(page='NextSong', length=341.08036), Row(page='NextSong', length=572.1073), Row(page='NextSong', length=343.77098), Row(page='NextSong', length=310.67383), Row(page='NextSong', length=535.77098), Row(page='NextSong', length=271.46404), Row(page='NextSong', length=320.73098), Row(page='NextSong', length=349.59628), Row(page='NextSong', length=416.91383), Row(page='NextSong', length=68.38812), Row(page='NextSong', length=344.63302), Row(page='NextSong', length=550.39955), Row(page='NextSong', length=139.33669), Row(page='NextSong', length=399.35955), Row(page='NextSong', length=269.60934), Row(page='NextSong', length=90.95791), Row(page='NextSong', length=373.2371), Row(page='NextSong', length=191.32036), Row(page='NextSong', length=198.08608), Row(page='NextSong', length=297.24689), Row(page='NextSong', length=215.17016), Row(page='NextSong', length=315.61098), Row(page='NextSong', length=220.55138), Row(page='NextSong', length=232.28036), Row(page='NextSong', length=223.242), Row(page='NextSong', length=184.45016), Row(page='NextSong', length=139.12771), Row(page='NextSong', length=152.52853), Row(page='NextSong', length=252.96934), Row(page='NextSong', length=249.73016), Row(page='NextSong', length=380.02893), Row(page='NextSong', length=166.03383), Row(page='NextSong', length=232.33261), Row(page='NextSong', length=166.53016), Row(page='NextSong', length=372.74077), Row(page='NextSong', length=326.79138), Row(page='NextSong', length=197.74649), Row(page='NextSong', length=283.21914), Row(page='NextSong', length=144.03873), Row(page='NextSong', length=253.90975), Row(page='NextSong', length=120.05832), Row(page='NextSong', length=190.51057), Row(page='NextSong', length=324.77995), Row(page='NextSong', length=277.21098), Row(page='NextSong', length=299.72853), Row(page='NextSong', length=333.92281), Row(page='NextSong', length=290.5073), Row(page='NextSong', length=165.40689), Row(page='NextSong', length=256.41751), Row(page='NextSong', length=213.15873), Row(page='NextSong', length=196.80608), Row(page='NextSong', length=169.06404), Row(page='NextSong', length=216.78975), Row(page='NextSong', length=15.17669), Row(page='NextSong', length=202.9971), Row(page='NextSong', length=177.08363), Row(page='NextSong', length=387.83955), Row(page='NextSong', length=46.41914), Row(page='NextSong', length=304.32608), Row(page='NextSong', length=56.71138), Row(page='NextSong', length=375.48363), Row(page='NextSong', length=441.18159), Row(page='NextSong', length=231.1571), Row(page='NextSong', length=340.21832), Row(page='NextSong', length=598.96118), Row(page='NextSong', length=308.71465), Row(page='NextSong', length=277.75955), Row(page='NextSong', length=293.19791), Row(page='NextSong', length=297.16853), Row(page='NextSong', length=166.45179), Row(page='NextSong', length=331.91138), Row(page='NextSong', length=631.01342), Row(page='NextSong', length=469.60281), Row(page='NextSong', length=353.09669), Row(page='NextSong', length=143.69914), Row(page='NextSong', length=69.66812), Row(page='NextSong', length=829.59628), Row(page='NextSong', length=1933.11302), Row(page='NextSong', length=701.33506), Row(page='NextSong', length=454.922), Row(page='NextSong', length=382.92853), Row(page='NextSong', length=534.38649), Row(page='NextSong', length=371.80036), Row(page='NextSong', length=162.21995), Row(page='NextSong', length=134.50404), Row(page='NextSong', length=127.84281), Row(page='NextSong', length=174.07955), Row(page='NextSong', length=426.00444), Row(page='NextSong', length=115.69587), Row(page='NextSong', length=83.40853), Row(page='NextSong', length=600.37179), Row(page='NextSong', length=860.94322), Row(page='NextSong', length=231.31383), Row(page='NextSong', length=210.57261), Row(page='NextSong', length=330.68363), Row(page='NextSong', length=224.7571), Row(page='NextSong', length=250.14812), Row(page='NextSong', length=237.13914), Row(page='NextSong', length=159.84281), Row(page='NextSong', length=260.38812), Row(page='NextSong', length=261.0673), Row(page='NextSong', length=142.81098), Row(page='NextSong', length=201.84771), Row(page='NextSong', length=228.72771), Row(page='NextSong', length=124.57751), Row(page='NextSong', length=298.29179), Row(page='NextSong', length=193.43628), Row(page='NextSong', length=341.83791), Row(page='NextSong', length=363.91138), Row(page='NextSong', length=249.70404), Row(page='NextSong', length=236.56444), Row(page='NextSong', length=203.10159), Row(page='NextSong', length=202.34404), Row(page='NextSong', length=157.85751), Row(page='NextSong', length=214.07302), Row(page='NextSong', length=126.77179), Row(page='NextSong', length=343.40526), Row(page='NextSong', length=176.63955), Row(page='NextSong', length=282.22649), Row(page='NextSong', length=72.25424), Row(page='NextSong', length=416.31302), Row(page='NextSong', length=514.63791), Row(page='NextSong', length=458.65751), Row(page='NextSong', length=353.04444), Row(page='NextSong', length=327.36608), Row(page='NextSong', length=326.37342), Row(page='NextSong', length=456.17587), Row(page='NextSong', length=291.21261), Row(page='NextSong', length=1485.97506), Row(page='NextSong', length=138.05669), Row(page='NextSong', length=109.47873), Row(page='NextSong', length=364.66893), Row(page='NextSong', length=413.51791), Row(page='NextSong', length=308.68853), Row(page='NextSong', length=131.10812), Row(page='NextSong', length=306.70322), Row(page='NextSong', length=122.22649), Row(page='NextSong', length=393.92608), Row(page='NextSong', length=398.81098), Row(page='NextSong', length=590.52363), Row(page='NextSong', length=324.12689), Row(page='NextSong', length=627.40853), Row(page='NextSong', length=397.87057), Row(page='NextSong', length=713.06404), Row(page='NextSong', length=545.69751), Row(page='NextSong', length=1097.79546), Row(page='NextSong', length=89.46893), Row(page='NextSong', length=448.73098), Row(page='NextSong', length=491.80689), Row(page='NextSong', length=91.29751), Row(page='NextSong', length=765.46567), Row(page='NextSong', length=429.322), Row(page='NextSong', length=476.44689), Row(page='NextSong', length=295.02649), Row(page='NextSong', length=286.9024), Row(page='NextSong', length=240.14322), Row(page='NextSong', length=204.66893), Row(page='NextSong', length=271.64689), Row(page='NextSong', length=287.60771), Row(page='NextSong', length=424.59383), Row(page='NextSong', length=43.7024), Row(page='NextSong', length=250.04363), Row(page='NextSong', length=183.74485), Row(page='NextSong', length=343.01342), Row(page='NextSong', length=212.74077), Row(page='NextSong', length=391.44444), Row(page='NextSong', length=198.53016), Row(page='NextSong', length=104.93342), Row(page='NextSong', length=278.07302), Row(page='NextSong', length=345.25995), Row(page='NextSong', length=265.50812), Row(page='NextSong', length=254.4322), Row(page='NextSong', length=246.67383), Row(page='NextSong', length=236.72118), Row(page='NextSong', length=164.8322), Row(page='NextSong', length=242.23302), Row(page='NextSong', length=221.75302), Row(page='NextSong', length=352.54812), Row(page='NextSong', length=337.3971), Row(page='NextSong', length=228.77995), Row(page='NextSong', length=104.6722), Row(page='NextSong', length=215.48363), Row(page='NextSong', length=220.29016), Row(page='NextSong', length=185.91302), Row(page='NextSong', length=335.64689), Row(page='NextSong', length=88.97261), Row(page='NextSong', length=284.13342), Row(page='NextSong', length=240.92689), Row(page='NextSong', length=224.46975), Row(page='NextSong', length=417.17506), Row(page='NextSong', length=139.10159), Row(page='NextSong', length=248.45016), Row(page='NextSong', length=157.20444), Row(page='NextSong', length=315.03628), Row(page='NextSong', length=116.45342), Row(page='NextSong', length=240.29995), Row(page='NextSong', length=312.47628), Row(page='NextSong', length=236.53832), Row(page='NextSong', length=193.48853), Row(page='NextSong', length=393.89995), Row(page='NextSong', length=642.66404), Row(page='NextSong', length=400.40444), Row(page='NextSong', length=514.16771), Row(page='NextSong', length=380.55138), Row(page='NextSong', length=1052.62975), Row(page='NextSong', length=104.4371), Row(page='NextSong', length=48.40444), Row(page='NextSong', length=412.76036), Row(page='NextSong', length=487.65342), Row(page='NextSong', length=384.65261), Row(page='NextSong', length=481.59302), Row(page='NextSong', length=56.16281), Row(page='NextSong', length=362.21342), Row(page='NextSong', length=519.10485), Row(page='NextSong', length=333.97506), Row(page='NextSong', length=81.60608), Row(page='NextSong', length=662.96118), Row(page='NextSong', length=438.20363), Row(page='NextSong', length=364.30322), Row(page='NextSong', length=229.82485), Row(page='NextSong', length=203.96363), Row(page='NextSong', length=295.67955), Row(page='NextSong', length=189.36118), Row(page='NextSong', length=405.96853), Row(page='NextSong', length=434.28526), Row(page='NextSong', length=237.89669), Row(page='NextSong', length=289.98485), Row(page='NextSong', length=169.29914), Row(page='NextSong', length=185.25995), Row(page='NextSong', length=293.17179), Row(page='NextSong', length=621.24363), Row(page='NextSong', length=217.10322), Row(page='NextSong', length=972.06812), Row(page='NextSong', length=565.41995), Row(page='NextSong', length=166.39955), Row(page='NextSong', length=276.68853), Row(page='NextSong', length=329.97832), Row(page='NextSong', length=184.2673), Row(page='NextSong', length=360.202), Row(page='NextSong', length=223.03302), Row(page='NextSong', length=211.19955), Row(page='NextSong', length=175.04608), Row(page='NextSong', length=219.37587), Row(page='NextSong', length=268.2771), Row(page='NextSong', length=361.40363), Row(page='NextSong', length=255.08526), Row(page='NextSong', length=339.53914), Row(page='NextSong', length=380.96934), Row(page='NextSong', length=138.65751), Row(page='NextSong', length=137.27302), Row(page='NextSong', length=672.96608), Row(page='NextSong', length=229.22404), Row(page='NextSong', length=257.27955), Row(page='NextSong', length=345.12934), Row(page='NextSong', length=119.17016), Row(page='NextSong', length=154.38322), Row(page='NextSong', length=492.53832), Row(page='NextSong', length=362.84036), Row(page='NextSong', length=527.09832), Row(page='NextSong', length=295.18322), Row(page='NextSong', length=110.15791), Row(page='NextSong', length=181.18485), Row(page='NextSong', length=42.52689), Row(page='NextSong', length=348.60363), Row(page='NextSong', length=395.10159), Row(page='NextSong', length=153.0771), Row(page='NextSong', length=327.6273), Row(page='NextSong', length=451.49995), Row(page='NextSong', length=357.48526), Row(page='NextSong', length=99.02975), Row(page='NextSong', length=440.29342), Row(page='NextSong', length=312.65914), Row(page='NextSong', length=112.45669), Row(page='NextSong', length=507.68934), Row(page='NextSong', length=327.70567), Row(page='NextSong', length=308.53179), Row(page='NextSong', length=75.54567), Row(page='NextSong', length=150.04689), Row(page='NextSong', length=358.84363), Row(page='NextSong', length=300.61669), Row(page='NextSong', length=708.62322), Row(page='NextSong', length=528.79628), Row(page='NextSong', length=461.71383), Row(page='NextSong', length=594.96444), Row(page='NextSong', length=437.13261), Row(page='NextSong', length=367.04608), Row(page='NextSong', length=128.28689), Row(page='NextSong', length=122.14812), Row(page='NextSong', length=137.76934), Row(page='NextSong', length=69.69424), Row(page='NextSong', length=239.69914), Row(page='NextSong', length=391.00036), Row(page='NextSong', length=198.89587), Row(page='NextSong', length=250.8273), Row(page='NextSong', length=313.86077), Row(page='NextSong', length=262.03383), Row(page='NextSong', length=159.81669), Row(page='NextSong', length=264.61995), Row(page='NextSong', length=284.18567), Row(page='NextSong', length=442.72281), Row(page='NextSong', length=796.78649), Row(page='NextSong', length=191.21587), Row(page='NextSong', length=230.26893), Row(page='NextSong', length=269.73995), Row(page='NextSong', length=268.25098), Row(page='NextSong', length=173.19138), Row(page='NextSong', length=173.63546), Row(page='NextSong', length=116.34893), Row(page='NextSong', length=235.2322), Row(page='NextSong', length=135.36608), Row(page='NextSong', length=257.04444), Row(page='NextSong', length=220.36853), Row(page='NextSong', length=219.19302), Row(page='NextSong', length=257.33179), Row(page='NextSong', length=236.59057), Row(page='NextSong', length=316.62975), Row(page='NextSong', length=170.94485), Row(page='NextSong', length=320.39138), Row(page='NextSong', length=181.10649), Row(page='NextSong', length=324.362), Row(page='NextSong', length=194.61179), Row(page='NextSong', length=98.14159), Row(page='NextSong', length=22.04689), Row(page='NextSong', length=372.97587), Row(page='NextSong', length=290.95138), Row(page='NextSong', length=315.21914), Row(page='NextSong', length=343.45751), Row(page='NextSong', length=79.33342), Row(page='NextSong', length=314.25261), Row(page='NextSong', length=170.39628), Row(page='NextSong', length=285.85751), Row(page='NextSong', length=399.67302), Row(page='NextSong', length=104.28036), Row(page='NextSong', length=418.71628), Row(page='NextSong', length=40.22812), Row(page='NextSong', length=266.00444), Row(page='NextSong', length=193.27955), Row(page='NextSong', length=368.77016), Row(page='NextSong', length=164.93669), Row(page='NextSong', length=442.20036), Row(page='NextSong', length=341.96853), Row(page='NextSong', length=431.12444), Row(page='NextSong', length=116.06159), Row(page='NextSong', length=322.53342), Row(page='NextSong', length=617.27302), Row(page='NextSong', length=335.93424), Row(page='NextSong', length=440.81587), Row(page='NextSong', length=365.47873), Row(page='NextSong', length=77.87057), Row(page='NextSong', length=117.02812), Row(page='NextSong', length=571.29751), Row(page='NextSong', length=157.54404), Row(page='NextSong', length=321.20118), Row(page='NextSong', length=337.50159), Row(page='NextSong', length=544.54812), Row(page='NextSong', length=69.25016), Row(page='NextSong', length=333.68771), Row(page='NextSong', length=135.20934), Row(page='NextSong', length=143.15057), Row(page='NextSong', length=2002.57261), Row(page='NextSong', length=423.18322), Row(page='NextSong', length=36.91057), Row(page='NextSong', length=568.42404), Row(page='NextSong', length=507.81995), Row(page='NextSong', length=215.58812), Row(page='NextSong', length=215.37914), Row(page='NextSong', length=238.39302), Row(page='NextSong', length=184.29342), Row(page='NextSong', length=206.94159), Row(page='NextSong', length=143.38567), Row(page='NextSong', length=329.61261), Row(page='NextSong', length=175.64689), Row(page='NextSong', length=344.52853), Row(page='NextSong', length=207.0722), Row(page='NextSong', length=143.04608), Row(page='NextSong', length=226.53342), Row(page='NextSong', length=267.2322), Row(page='NextSong', length=384.10404), Row(page='NextSong', length=516.8322), Row(page='NextSong', length=265.92608), Row(page='NextSong', length=157.72689), Row(page='NextSong', length=226.35057), Row(page='NextSong', length=302.65424), Row(page='NextSong', length=216.11057), Row(page='NextSong', length=104.61995), Row(page='NextSong', length=293.77261), Row(page='NextSong', length=350.92853), Row(page='NextSong', length=179.9571), Row(page='NextSong', length=89.83465), Row(page='NextSong', length=818.80771), Row(page='NextSong', length=115.98322), Row(page='NextSong', length=340.58404), Row(page='NextSong', length=156.13342), Row(page='NextSong', length=153.67791), Row(page='NextSong', length=356.30975), Row(page='NextSong', length=138.63138), Row(page='NextSong', length=422.922), Row(page='NextSong', length=173.42649), Row(page='NextSong', length=109.08689), Row(page='NextSong', length=131.34322), Row(page='NextSong', length=364.09424), Row(page='NextSong', length=114.1024), Row(page='NextSong', length=405.05424), Row(page='NextSong', length=130.63791), Row(page='NextSong', length=157.51791), Row(page='NextSong', length=302.28853), Row(page='NextSong', length=212.03546), Row(page='NextSong', length=298.73587), Row(page='NextSong', length=372.63628), Row(page='NextSong', length=465.6322), Row(page='NextSong', length=466.18077), Row(page='NextSong', length=451.29098), Row(page='NextSong', length=327.44444), Row(page='NextSong', length=81.31873), Row(page='NextSong', length=326.3473), Row(page='NextSong', length=459.57179), Row(page='NextSong', length=148.11383), Row(page='NextSong', length=820.68853), Row(page='NextSong', length=132.07465), Row(page='NextSong', length=536.21506), Row(page='NextSong', length=459.75465), Row(page='NextSong', length=478.69342), Row(page='NextSong', length=339.66975), Row(page='NextSong', length=487.94077), Row(page='NextSong', length=394.762), Row(page='NextSong', length=365.92281), Row(page='NextSong', length=489.09016), Row(page='NextSong', length=52.89751), Row(page='NextSong', length=101.01506), Row(page='NextSong', length=68.8322), Row(page='NextSong', length=431.882), Row(page='NextSong', length=57.7824), Row(page='NextSong', length=129.51465), Row(page='NextSong', length=336.09098), Row(page='NextSong', length=499.87873), Row(page='NextSong', length=48.45669), Row(page='NextSong', length=376.18893), Row(page='NextSong', length=541.57016), Row(page='NextSong', length=60.47302), Row(page='NextSong', length=774.42567), Row(page='NextSong', length=375.32689), Row(page='NextSong', length=35.65669), Row(page='NextSong', length=105.09016), Row(page='NextSong', length=225.17506), Row(page='NextSong', length=191.16363), Row(page='NextSong', length=251.34975), Row(page='NextSong', length=296.202), Row(page='NextSong', length=231.28771), Row(page='NextSong', length=263.73179), Row(page='NextSong', length=255.79057), Row(page='NextSong', length=244.68853), Row(page='NextSong', length=209.42322), Row(page='NextSong', length=265.19465), Row(page='NextSong', length=466.80771), Row(page='NextSong', length=288.60036), Row(page='NextSong', length=136.54159), Row(page='NextSong', length=257.4624), Row(page='NextSong', length=225.59302), Row(page='NextSong', length=363.80689), Row(page='NextSong', length=401.76281), Row(page='NextSong', length=183.97995), Row(page='NextSong', length=308.76689), Row(page='NextSong', length=423.54893), Row(page='NextSong', length=286.64118), Row(page='NextSong', length=229.642), Row(page='NextSong', length=259.05587), Row(page='NextSong', length=143.82975), Row(page='NextSong', length=296.12363), Row(page='NextSong', length=583.65342), Row(page='NextSong', length=457.87383), Row(page='NextSong', length=64.10404), Row(page='NextSong', length=140.06812), Row(page='NextSong', length=282.5922), Row(page='NextSong', length=388.10077), Row(page='NextSong', length=244.6624), Row(page='NextSong', length=145.3971), Row(page='NextSong', length=152.842), Row(page='NextSong', length=188.18567), Row(page='NextSong', length=199.70567), Row(page='NextSong', length=280.37179), Row(page='NextSong', length=313.65179), Row(page='NextSong', length=66.66404), Row(page='NextSong', length=316.89098), Row(page='NextSong', length=418.11546), Row(page='NextSong', length=129.54077), Row(page='NextSong', length=399.75138), Row(page='NextSong', length=511.21587), Row(page='NextSong', length=347.84608), Row(page='NextSong', length=521.1424), Row(page='NextSong', length=140.32934), Row(page='NextSong', length=450.24608), Row(page='NextSong', length=345.73016), Row(page='NextSong', length=312.31955), Row(page='NextSong', length=629.49832), Row(page='NextSong', length=533.21098), Row(page='NextSong', length=61.04771), Row(page='NextSong', length=42.50077), Row(page='NextSong', length=162.82077), Row(page='NextSong', length=501.08036), Row(page='NextSong', length=407.45751), Row(page='NextSong', length=483.42159), Row(page='NextSong', length=587.12771), Row(page='NextSong', length=95.86893), Row(page='NextSong', length=356.12689), Row(page='NextSong', length=122.09587), Row(page='NextSong', length=1972.37506), Row(page='NextSong', length=424.01914), Row(page='NextSong', length=535.95383), Row(page='NextSong', length=276.32281), Row(page='NextSong', length=249.36444), Row(page='NextSong', length=353.27955), Row(page='NextSong', length=235.17995), Row(page='NextSong', length=289.01832), Row(page='NextSong', length=299.85914), Row(page='NextSong', length=253.49179), Row(page='NextSong', length=209.81506), Row(page='NextSong', length=198.32118), Row(page='NextSong', length=262.53016), Row(page='NextSong', length=338.72934), Row(page='NextSong', length=220.26404), Row(page='NextSong', length=216.5024), Row(page='NextSong', length=295.49669), Row(page='NextSong', length=171.83302), Row(page='NextSong', length=302.0273), Row(page='NextSong', length=253.28281), Row(page='NextSong', length=201.74322), Row(page='NextSong', length=193.09669), Row(page='NextSong', length=132.88444), Row(page='NextSong', length=161.48853), Row(page='NextSong', length=284.60363), Row(page='NextSong', length=206.8371), Row(page='NextSong', length=199.88853), Row(page='NextSong', length=193.07057), Row(page='NextSong', length=144.24771), Row(page='NextSong', length=209.73669), Row(page='NextSong', length=249.44281), Row(page='NextSong', length=284.1073), Row(page='NextSong', length=213.002), Row(page='NextSong', length=202.52689), Row(page='NextSong', length=197.35465), Row(page='NextSong', length=301.7922), Row(page='NextSong', length=199.28771), Row(page='NextSong', length=664.842), Row(page='NextSong', length=385.59302), Row(page='NextSong', length=123.34975), Row(page='NextSong', length=218.80118), Row(page='NextSong', length=174.602), Row(page='NextSong', length=154.74893), Row(page='NextSong', length=90.87955), Row(page='NextSong', length=233.27302), Row(page='NextSong', length=309.73342), Row(page='NextSong', length=258.95138), Row(page='NextSong', length=160.70485), Row(page='NextSong', length=379.66322), Row(page='NextSong', length=132.93669), Row(page='NextSong', length=487.44444), Row(page='NextSong', length=246.54322), Row(page='NextSong', length=453.04118), Row(page='NextSong', length=823.37914), Row(page='NextSong', length=124.65587), Row(page='NextSong', length=284.83873), Row(page='NextSong', length=300.72118), Row(page='NextSong', length=116.89751), Row(page='NextSong', length=36.20526), Row(page='NextSong', length=67.97016), Row(page='NextSong', length=251.8722), Row(page='NextSong', length=136.88118), Row(page='NextSong', length=650.97098), Row(page='NextSong', length=168.202), Row(page='NextSong', length=320.70485), Row(page='NextSong', length=341.60281), Row(page='NextSong', length=66.0371), Row(page='NextSong', length=345.41669), Row(page='NextSong', length=191.92118), Row(page='NextSong', length=346.77506), Row(page='NextSong', length=1086.64118), Row(page='NextSong', length=164.5971), Row(page='NextSong', length=707.70893), Row(page='NextSong', length=397.21751), Row(page='NextSong', length=311.14404), Row(page='NextSong', length=161.07057), Row(page='NextSong', length=345.96526), Row(page='NextSong', length=382.4322), Row(page='NextSong', length=165.35465), Row(page='NextSong', length=662.67383), Row(page='NextSong', length=444.57751), Row(page='NextSong', length=491.44118), Row(page='NextSong', length=251.95057), Row(page='NextSong', length=821.39383), Row(page='NextSong', length=136.17587), Row(page='NextSong', length=459.25832), Row(page='NextSong', length=464.69179), Row(page='NextSong', length=200.98567), Row(page='NextSong', length=289.95873), Row(page='NextSong', length=282.61832), Row(page='NextSong', length=214.282), Row(page='NextSong', length=324.98893), Row(page='NextSong', length=264.75057), Row(page='NextSong', length=230.47791), Row(page='NextSong', length=212.16608), Row(page='NextSong', length=208.79628), Row(page='NextSong', length=374.90893), Row(page='NextSong', length=227.23873), Row(page='NextSong', length=224.78322), Row(page='NextSong', length=388.5971), Row(page='NextSong', length=165.79873), Row(page='NextSong', length=317.83138), Row(page='NextSong', length=294.94812), Row(page='NextSong', length=275.40853), Row(page='NextSong', length=219.6371), Row(page='NextSong', length=199.75791), Row(page='NextSong', length=359.44444), Row(page='NextSong', length=154.33098), Row(page='NextSong', length=183.84934), Row(page='NextSong', length=193.12281), Row(page='NextSong', length=180.79302), Row(page='NextSong', length=214.25587), Row(page='NextSong', length=169.84771), Row(page='NextSong', length=308.87138), Row(page='NextSong', length=356.88444), Row(page='NextSong', length=193.38404), Row(page='NextSong', length=291.63057), Row(page='NextSong', length=238.2624), Row(page='NextSong', length=186.38322), Row(page='NextSong', length=1054.64118), Row(page='NextSong', length=154.67057), Row(page='NextSong', length=245.91628), Row(page='NextSong', length=315.0624), Row(page='NextSong', length=289.14893), Row(page='NextSong', length=52.68853), Row(page='NextSong', length=340.03546), Row(page='NextSong', length=275.56526), Row(page='NextSong', length=36.64934), Row(page='NextSong', length=285.80526), Row(page='NextSong', length=288.10404), Row(page='NextSong', length=122.48771), Row(page='NextSong', length=513.4624), Row(page='NextSong', length=118.90893), Row(page='NextSong', length=286.87628), Row(page='NextSong', length=89.02485), Row(page='NextSong', length=310.36036), Row(page='NextSong', length=70.1122), Row(page='NextSong', length=290.06322), Row(page='NextSong', length=210.442), Row(page='NextSong', length=118.30812), Row(page='NextSong', length=584.14975), Row(page='NextSong', length=162.14159), Row(page='NextSong', length=106.55302), Row(page='NextSong', length=475.53261), Row(page='NextSong', length=503.19628), Row(page='NextSong', length=512.07791), Row(page='NextSong', length=410.98404), Row(page='NextSong', length=448.28689), Row(page='NextSong', length=26.33098), Row(page='NextSong', length=381.90975), Row(page='NextSong', length=426.86649), Row(page='NextSong', length=343.58812), Row(page='NextSong', length=111.51628), Row(page='NextSong', length=189.64853), Row(page='NextSong', length=327.05261), Row(page='NextSong', length=224.80934), Row(page='NextSong', length=259.44771), Row(page='NextSong', length=170.31791), Row(page='NextSong', length=256.33914), Row(page='NextSong', length=257.88036), Row(page='NextSong', length=253.25669), Row(page='NextSong', length=270.31465), Row(page='NextSong', length=380.26404), Row(page='NextSong', length=211.25179), Row(page='NextSong', length=336.06485), Row(page='NextSong', length=426.60526), Row(page='NextSong', length=119.95383), Row(page='NextSong', length=184.94649), Row(page='NextSong', length=316.682), Row(page='NextSong', length=147.90485), Row(page='NextSong', length=253.1522), Row(page='NextSong', length=328.64608), Row(page='NextSong', length=248.47628), Row(page='NextSong', length=193.61914), Row(page='NextSong', length=289.35791), Row(page='NextSong', length=221.02159), Row(page='NextSong', length=433.52771), Row(page='NextSong', length=200.17587), Row(page='NextSong', length=195.76118), Row(page='NextSong', length=65.88036), Row(page='NextSong', length=140.5122), Row(page='NextSong', length=294.76526), Row(page='NextSong', length=304.27383), Row(page='NextSong', length=521.82159), Row(page='NextSong', length=143.12444), Row(page='NextSong', length=193.69751), Row(page='NextSong', length=191.39873), Row(page='NextSong', length=205.89669), Row(page='NextSong', length=362.1873), Row(page='NextSong', length=444.05506), Row(page='NextSong', length=161.85424), Row(page='NextSong', length=381.80526), Row(page='NextSong', length=451.44771), Row(page='NextSong', length=59.402), Row(page='NextSong', length=409.73016), Row(page='NextSong', length=358.73914), Row(page='NextSong', length=112.19546), Row(page='NextSong', length=61.90975), Row(page='NextSong', length=316.99546), Row(page='NextSong', length=385.30567), Row(page='NextSong', length=408.45016), Row(page='NextSong', length=364.61669), Row(page='NextSong', length=325.09342), Row(page='NextSong', length=290.92526), Row(page='NextSong', length=252.682), Row(page='NextSong', length=167.18322), Row(page='NextSong', length=627.93098), Row(page='NextSong', length=494.13179), Row(page='NextSong', length=646.26893), Row(page='NextSong', length=111.46404), Row(page='NextSong', length=329.50812), Row(page='NextSong', length=302.15791), Row(page='NextSong', length=418.82077), Row(page='NextSong', length=27.16689), Row(page='NextSong', length=444.83873), Row(page='NextSong', length=470.09914), Row(page='NextSong', length=399.56853), Row(page='NextSong', length=610.66404), Row(page='NextSong', length=390.16444), Row(page='NextSong', length=590.602), Row(page='NextSong', length=404.63628), Row(page='NextSong', length=457.79546), Row(page='NextSong', length=445.54404), Row(page='NextSong', length=118.72608), Row(page='NextSong', length=29.43955), Row(page='NextSong', length=76.85179), Row(page='NextSong', length=600.05832), Row(page='NextSong', length=402.9122), Row(page='NextSong', length=236.66893), Row(page='NextSong', length=153.33832), Row(page='NextSong', length=632.94649), Row(page='NextSong', length=214.43873), Row(page='NextSong', length=222.14485), Row(page='NextSong', length=497.47546), Row(page='NextSong', length=278.43873), Row(page='NextSong', length=198.37342), Row(page='NextSong', length=222.01424), Row(page='NextSong', length=212.11383), Row(page='NextSong', length=374.67383), Row(page='NextSong', length=116.97587), Row(page='NextSong', length=266.762), Row(page='NextSong', length=245.99465), Row(page='NextSong', length=322.32444), Row(page='NextSong', length=269.66159), Row(page='NextSong', length=258.58567), Row(page='NextSong', length=255.86893), Row(page='NextSong', length=571.16689), Row(page='NextSong', length=189.70077), Row(page='NextSong', length=198.16444), Row(page='NextSong', length=320.91383), Row(page='NextSong', length=253.77914), Row(page='NextSong', length=284.9171), Row(page='NextSong', length=185.23383), Row(page='NextSong', length=266.9971), Row(page='NextSong', length=423.26159), Row(page='NextSong', length=294.24281), Row(page='NextSong', length=190.61506), Row(page='NextSong', length=319.9473), Row(page='NextSong', length=225.48853), Row(page='NextSong', length=530.07628), Row(page='NextSong', length=328.202), Row(page='NextSong', length=216.89424), Row(page='NextSong', length=484.75383), Row(page='NextSong', length=168.9073), Row(page='NextSong', length=124.13342), Row(page='NextSong', length=336.5873), Row(page='NextSong', length=378.80118), Row(page='NextSong', length=275.80036), Row(page='NextSong', length=419.68281), Row(page='NextSong', length=192.15628), Row(page='NextSong', length=309.60281), Row(page='NextSong', length=333.00853), Row(page='NextSong', length=303.98649), Row(page='NextSong', length=308.47955), Row(page='NextSong', length=393.24689), Row(page='NextSong', length=419.91791), Row(page='NextSong', length=209.57995), Row(page='NextSong', length=45.24363), Row(page='NextSong', length=339.51302), Row(page='NextSong', length=490.4224), Row(page='NextSong', length=163.60444), Row(page='NextSong', length=335.82975), Row(page='NextSong', length=316.65587), Row(page='NextSong', length=290.42893), Row(page='NextSong', length=386.19383), Row(page='NextSong', length=32.70485), Row(page='NextSong', length=127.42485), Row(page='NextSong', length=435.22567), Row(page='NextSong', length=371.85261), Row(page='NextSong', length=286.51057), Row(page='NextSong', length=397.94893), Row(page='NextSong', length=150.90893), Row(page='NextSong', length=587.7024), Row(page='NextSong', length=329.82159), Row(page='NextSong', length=325.82485), Row(page='NextSong', length=510.04036), Row(page='NextSong', length=354.16771), Row(page='NextSong', length=686.8371), Row(page='NextSong', length=295.75791), Row(page='NextSong', length=571.66322), Row(page='NextSong', length=345.20771), Row(page='NextSong', length=55.50975), Row(page='NextSong', length=0.78322), Row(page='NextSong', length=556.32934), Row(page='NextSong', length=358.29506), Row(page='NextSong', length=304.71791), Row(page='NextSong', length=282.64757), Row(page='NextSong', length=382.01424), Row(page='NextSong', length=471.95383), Row(page='NextSong', length=40.48934), Row(page='NextSong', length=105.53424), Row(page='NextSong', length=458.37016), Row(page='NextSong', length=516.10077), Row(page='NextSong', length=469.91628), Row(page='NextSong', length=81.42322), Row(page='NextSong', length=246.80444), Row(page='NextSong', length=210.80771), Row(page='NextSong', length=74.68363), Row(page='NextSong', length=205.45261), Row(page='NextSong', length=302.96771), Row(page='NextSong', length=305.00526), Row(page='NextSong', length=350.53669), Row(page='NextSong', length=317.70077), Row(page='NextSong', length=205.08689), Row(page='NextSong', length=266.29179), Row(page='NextSong', length=200.56771), Row(page='NextSong', length=160.49587), Row(page='NextSong', length=265.24689), Row(page='NextSong', length=376.34567), Row(page='NextSong', length=238.05342), Row(page='NextSong', length=333.58322), Row(page='NextSong', length=192.7571), Row(page='NextSong', length=147.25179), Row(page='NextSong', length=269.19138), Row(page='NextSong', length=437.91628), Row(page='NextSong', length=280.5024), Row(page='NextSong', length=625.00526), Row(page='NextSong', length=342.12526), Row(page='NextSong', length=248.37179), Row(page='NextSong', length=468.68853), Row(page='NextSong', length=490.78812), Row(page='NextSong', length=150.33424), Row(page='NextSong', length=154.27873), Row(page='NextSong', length=140.56444), Row(page='NextSong', length=194.82077), Row(page='NextSong', length=116.16608), Row(page='NextSong', length=331.31057), Row(page='NextSong', length=291.86567), Row(page='NextSong', length=348.682), Row(page='NextSong', length=133.45914), Row(page='NextSong', length=343.61424), Row(page='NextSong', length=396.01587), Row(page='NextSong', length=103.67955), Row(page='NextSong', length=603.24526), Row(page='NextSong', length=454.63465), Row(page='NextSong', length=372.27057), Row(page='NextSong', length=433.13587), Row(page='NextSong', length=82.70322), Row(page='NextSong', length=325.72036), Row(page='NextSong', length=12.43383), Row(page='NextSong', length=397.42649), Row(page='NextSong', length=376.842), Row(page='NextSong', length=383.39873), Row(page='NextSong', length=156.44689), Row(page='NextSong', length=164.80608), Row(page='NextSong', length=42.34404), Row(page='NextSong', length=262.94812), Row(page='NextSong', length=197.01506), Row(page='NextSong', length=24.55465), Row(page='NextSong', length=626.05016), Row(page='NextSong', length=103.94077), Row(page='NextSong', length=152.29342), Row(page='NextSong', length=119.32689), Row(page='NextSong', length=312.37179), Row(page='NextSong', length=437.96853), Row(page='NextSong', length=86.85669), Row(page='NextSong', length=442.80118), Row(page='NextSong', length=327.75791), Row(page='NextSong', length=423.20934), Row(page='NextSong', length=597.91628), Row(page='NextSong', length=503.17016), Row(page='NextSong', length=105.06404), Row(page='NextSong', length=458.1873), Row(page='NextSong', length=154.56608), Row(page='NextSong', length=30.9024), Row(page='NextSong', length=97.17506), Row(page='NextSong', length=415.26812), Row(page='NextSong', length=60.18567), Row(page='NextSong', length=447.11138), Row(page='NextSong', length=564.53179), Row(page='NextSong', length=139.28444), Row(page='NextSong', length=511.84281), Row(page='NextSong', length=250.46159), Row(page='NextSong', length=211.59138), Row(page='NextSong', length=230.08608), Row(page='NextSong', length=209.47546), Row(page='NextSong', length=243.59138), Row(page='NextSong', length=465.24036), Row(page='NextSong', length=167.99302), Row(page='NextSong', length=242.99057), Row(page='NextSong', length=358.66077), Row(page='NextSong', length=144.95302), Row(page='NextSong', length=361.66485), Row(page='NextSong', length=259.3171), Row(page='NextSong', length=274.05016), Row(page='NextSong', length=188.36853), Row(page='NextSong', length=329.53424), Row(page='NextSong', length=208.69179), Row(page='NextSong', length=239.09832), Row(page='NextSong', length=463.72526), Row(page='NextSong', length=180.24444), Row(page='NextSong', length=165.3024), Row(page='NextSong', length=593.6322), Row(page='NextSong', length=178.72934), Row(page='NextSong', length=208.56118), Row(page='NextSong', length=186.17424), Row(page='NextSong', length=262.00771), Row(page='NextSong', length=220.13342), Row(page='NextSong', length=231.41832), Row(page='NextSong', length=140.12036), Row(page='NextSong', length=291.5522), Row(page='NextSong', length=335.35955), Row(page='NextSong', length=292.25751), Row(page='NextSong', length=61.28281), Row(page='NextSong', length=348.39465), Row(page='NextSong', length=252.23791), Row(page='NextSong', length=436.13995), Row(page='NextSong', length=303.01995), Row(page='NextSong', length=184.5024), Row(page='NextSong', length=191.97342), Row(page='NextSong', length=145.76281), Row(page='NextSong', length=184.97261), Row(page='NextSong', length=134.21669), Row(page='NextSong', length=174.94159), Row(page='NextSong', length=233.61261), Row(page='NextSong', length=388.38812), Row(page='NextSong', length=307.9571), Row(page='NextSong', length=466.6771), Row(page='NextSong', length=262.55628), Row(page='NextSong', length=177.10975), Row(page='NextSong', length=412.29016), Row(page='NextSong', length=48.69179), Row(page='NextSong', length=183.2224), Row(page='NextSong', length=374.9873), Row(page='NextSong', length=370.99057), Row(page='NextSong', length=97.74975), Row(page='NextSong', length=384.83546), Row(page='NextSong', length=456.95955), Row(page='NextSong', length=414.71955), Row(page='NextSong', length=299.20608), Row(page='NextSong', length=612.62322), Row(page='NextSong', length=389.14567), Row(page='NextSong', length=447.99955), Row(page='NextSong', length=257.64526), Row(page='NextSong', length=363.65016), Row(page='NextSong', length=554.63138), Row(page='NextSong', length=193.85424), Row(page='NextSong', length=358.24281), Row(page='NextSong', length=158.35383), Row(page='NextSong', length=388.49261), Row(page='NextSong', length=346.17424), Row(page='NextSong', length=379.53261), Row(page='NextSong', length=397.58322), Row(page='NextSong', length=240.5873), Row(page='NextSong', length=58.06975), Row(page='NextSong', length=129.04444), Row(page='NextSong', length=349.36118), Row(page='NextSong', length=414.14485), Row(page='NextSong', length=130.08934), Row(page='NextSong', length=110.10567), Row(page='NextSong', length=101.95546), Row(page='NextSong', length=474.122), Row(page='NextSong', length=381.54404), Row(page='NextSong', length=33.38404), Row(page='NextSong', length=684.2771), Row(page='NextSong', length=1292.14649), Row(page='NextSong', length=320.96608), Row(page='NextSong', length=306.65098), Row(page='NextSong', length=48.56118), Row(page='NextSong', length=451.42159), Row(page='NextSong', length=556.66893), Row(page='NextSong', length=12.66893), Row(page='NextSong', length=153.3122), Row(page='NextSong', length=229.90322), Row(page='NextSong', length=321.54077), Row(page='NextSong', length=291.47383), Row(page='NextSong', length=290.21995), Row(page='NextSong', length=270.96771), Row(page='NextSong', length=238.0273), Row(page='NextSong', length=247.82322), Row(page='NextSong', length=188.96934), Row(page='NextSong', length=151.92771), Row(page='NextSong', length=175.67302), Row(page='NextSong', length=155.11465), Row(page='NextSong', length=145.26649), Row(page='NextSong', length=322.35057), Row(page='NextSong', length=903.67955), Row(page='NextSong', length=209.44934), Row(page='NextSong', length=270.00118), Row(page='NextSong', length=222.09261), Row(page='NextSong', length=466.75546), Row(page='NextSong', length=197.11955), Row(page='NextSong', length=275.27791), Row(page='NextSong', length=468.63628), Row(page='NextSong', length=149.26322), Row(page='NextSong', length=270.86322), Row(page='NextSong', length=227.57832), Row(page='NextSong', length=514.29832), Row(page='NextSong', length=377.59955), Row(page='NextSong', length=308.34893), Row(page='NextSong', length=287.76444), Row(page='NextSong', length=379.08853), Row(page='NextSong', length=268.19873), Row(page='NextSong', length=160.78322), Row(page='NextSong', length=218.38322), Row(page='NextSong', length=184.65914), Row(page='NextSong', length=66.53342), Row(page='NextSong', length=145.94567), Row(page='NextSong', length=78.78485), Row(page='NextSong', length=392.69832), Row(page='NextSong', length=393.9522), Row(page='NextSong', length=324.33587), Row(page='NextSong', length=292.44036), Row(page='NextSong', length=518.08608), Row(page='NextSong', length=130.21995), Row(page='NextSong', length=97.04444), Row(page='NextSong', length=150.7522), Row(page='NextSong', length=381.59628), Row(page='NextSong', length=344.45016), Row(page='NextSong', length=331.96363), Row(page='NextSong', length=144.53506), Row(page='NextSong', length=248.13669), Row(page='NextSong', length=443.74159), Row(page='NextSong', length=35.18649), Row(page='NextSong', length=366.18404), Row(page='NextSong', length=395.38893), Row(page='NextSong', length=421.58975), Row(page='NextSong', length=378.20036), Row(page='NextSong', length=129.69751), Row(page='NextSong', length=109.81832), Row(page='NextSong', length=130.7424), Row(page='NextSong', length=68.85832), Row(page='NextSong', length=707.63057), Row(page='NextSong', length=66.14159), Row(page='NextSong', length=90.90567), Row(page='NextSong', length=475.0624), Row(page='NextSong', length=457.92608), Row(page='NextSong', length=1042.33751), Row(page='NextSong', length=1302.38649), Row(page='NextSong', length=658.65098), Row(page='NextSong', length=113.84118), Row(page='NextSong', length=133.3024), Row(page='NextSong', length=601.33832), Row(page='NextSong', length=524.66893), Row(page='NextSong', length=307.51302), Row(page='NextSong', length=246.93506), Row(page='NextSong', length=272.56118), Row(page='NextSong', length=266.55302), Row(page='NextSong', length=241.42322), Row(page='NextSong', length=214.77832), Row(page='NextSong', length=282.46159), Row(page='NextSong', length=354.29832), Row(page='NextSong', length=228.88444), Row(page='NextSong', length=163.42159), Row(page='NextSong', length=344.24118), Row(page='NextSong', length=230.39955), Row(page='NextSong', length=135.52281), Row(page='NextSong', length=349.3873), Row(page='NextSong', length=220.42077), Row(page='NextSong', length=181.49832), Row(page='NextSong', length=272.66567), Row(page='NextSong', length=213.73342), Row(page='NextSong', length=443.27138), Row(page='NextSong', length=132.8322), Row(page='NextSong', length=198.47791), Row(page='NextSong', length=169.82159), Row(page='NextSong', length=211.30404), Row(page='NextSong', length=275.51302), Row(page='NextSong', length=233.03791), Row(page='NextSong', length=104.01914), Row(page='NextSong', length=242.72934), Row(page='NextSong', length=207.33342), Row(page='NextSong', length=277.55057), Row(page='NextSong', length=234.00444), Row(page='NextSong', length=141.5571), Row(page='NextSong', length=159.97342), Row(page='NextSong', length=271.43791), Row(page='NextSong', length=58.95791), Row(page='NextSong', length=340.79302), Row(page='NextSong', length=150.88281), Row(page='NextSong', length=445.67465), Row(page='NextSong', length=538.61832), Row(page='NextSong', length=176.97914), Row(page='NextSong', length=165.38077), Row(page='NextSong', length=164.10077), Row(page='NextSong', length=249.59955), Row(page='NextSong', length=95.29424), Row(page='NextSong', length=416.96608), Row(page='NextSong', length=330.50077), Row(page='NextSong', length=292.30975), Row(page='NextSong', length=479.4771), Row(page='NextSong', length=36.38812), Row(page='NextSong', length=769.33179), Row(page='NextSong', length=401.89342), Row(page='NextSong', length=50.62485), Row(page='NextSong', length=345.99138), Row(page='NextSong', length=388.0224), Row(page='NextSong', length=714.26567), Row(page='NextSong', length=361.22077), Row(page='NextSong', length=329.56036), Row(page='NextSong', length=115.04281), Row(page='NextSong', length=386.69016), Row(page='NextSong', length=308.1922), Row(page='NextSong', length=117.18485), Row(page='NextSong', length=51.53914), Row(page='NextSong', length=426.73587), Row(page='NextSong', length=416.57424), Row(page='NextSong', length=128.65261), Row(page='NextSong', length=490.39628), Row(page='NextSong', length=519.23546), Row(page='NextSong', length=128.96608), Row(page='NextSong', length=488.17587), Row(page='NextSong', length=216.21506), Row(page='NextSong', length=222.58893), Row(page='NextSong', length=250.87955), Row(page='NextSong', length=192.9922), Row(page='NextSong', length=219.0624), Row(page='NextSong', length=329.63873), Row(page='NextSong', length=259.89179), Row(page='NextSong', length=260.44036), Row(page='NextSong', length=172.77342), Row(page='NextSong', length=385.27955), Row(page='NextSong', length=196.75383), Row(page='NextSong', length=254.98077), Row(page='NextSong', length=278.38649), Row(page='NextSong', length=106.78812), Row(page='NextSong', length=178.05016), Row(page='NextSong', length=215.32689), Row(page='NextSong', length=389.58975), Row(page='NextSong', length=350.77179), Row(page='NextSong', length=212.21832), Row(page='NextSong', length=345.46893), Row(page='NextSong', length=38.68689), Row(page='NextSong', length=291.39546), Row(page='NextSong', length=482.79465), Row(page='NextSong', length=175.90812), Row(page='NextSong', length=238.31465), Row(page='NextSong', length=428.64281), Row(page='NextSong', length=372.45342), Row(page='NextSong', length=461.37424), Row(page='NextSong', length=495.3073), Row(page='NextSong', length=128.05179), Row(page='NextSong', length=398.91546), Row(page='NextSong', length=234.08281), Row(page='NextSong', length=311.58812), Row(page='NextSong', length=332.30322), Row(page='NextSong', length=155.21914), Row(page='NextSong', length=442.06975), Row(page='NextSong', length=200.22812), Row(page='NextSong', length=363.20608), Row(page='NextSong', length=114.57261), Row(page='NextSong', length=373.02812), Row(page='NextSong', length=135.65342), Row(page='NextSong', length=369.18812), Row(page='NextSong', length=131.70893), Row(page='NextSong', length=104.64608), Row(page='NextSong', length=354.14159), Row(page='NextSong', length=394.47465), Row(page='NextSong', length=204.93016), Row(page='NextSong', length=293.79873), Row(page='NextSong', length=398.70649), Row(page='NextSong', length=128.70485), Row(page='NextSong', length=381.75302), Row(page='NextSong', length=392.9073), Row(page='NextSong', length=78.86322), Row(page='NextSong', length=341.75955), Row(page='NextSong', length=320.1824), Row(page='NextSong', length=134.45179), Row(page='NextSong', length=462.65424), Row(page='NextSong', length=288.65261), Row(page='NextSong', length=543.9473), Row(page='NextSong', length=37.27628), Row(page='NextSong', length=419.42159), Row(page='NextSong', length=747.91138), Row(page='NextSong', length=596.13995), Row(page='NextSong', length=450.82077), Row(page='NextSong', length=688.79628), Row(page='NextSong', length=348.49914), Row(page='NextSong', length=290.29832), Row(page='NextSong', length=182.69995), Row(page='NextSong', length=418.63791), Row(page='NextSong', length=353.88036), Row(page='NextSong', length=212.89751), Row(page='NextSong', length=290.48118), Row(page='NextSong', length=192.67873), Row(page='NextSong', length=397.00853), Row(page='NextSong', length=234.81424), Row(page='NextSong', length=334.91546), Row(page='NextSong', length=229.79873), Row(page='NextSong', length=148.55791), Row(page='NextSong', length=300.82567), Row(page='NextSong', length=222.74567), Row(page='NextSong', length=202.91873), Row(page='NextSong', length=131.97016), Row(page='NextSong', length=325.66812), Row(page='NextSong', length=374.49098), Row(page='NextSong', length=329.66485), Row(page='NextSong', length=296.01914), Row(page='NextSong', length=183.7971), Row(page='NextSong', length=93.25669), Row(page='NextSong', length=238.88934), Row(page='NextSong', length=253.70077), Row(page='NextSong', length=270.05342), Row(page='NextSong', length=243.87873), Row(page='NextSong', length=280.78975), Row(page='NextSong', length=294.71302), Row(page='NextSong', length=310.56934), Row(page='NextSong', length=416.7571), Row(page='NextSong', length=150.59546), Row(page='NextSong', length=408.2673), Row(page='NextSong', length=427.59791), Row(page='NextSong', length=180.21832), Row(page='NextSong', length=266.50077), Row(page='NextSong', length=244.97587), Row(page='NextSong', length=110.57587), Row(page='NextSong', length=231.02649), Row(page='NextSong', length=440.71138), Row(page='NextSong', length=279.45751), Row(page='NextSong', length=307.19955), Row(page='NextSong', length=367.69914), Row(page='NextSong', length=273.73669), Row(page='NextSong', length=242.49424), Row(page='NextSong', length=287.37261), Row(page='NextSong', length=112.06485), Row(page='NextSong', length=142.05342), Row(page='NextSong', length=296.77669), Row(page='NextSong', length=209.65832), Row(page='NextSong', length=376.13669), Row(page='NextSong', length=383.55546), Row(page='NextSong', length=112.24771), Row(page='NextSong', length=622.2624), Row(page='NextSong', length=52.87138), Row(page='NextSong', length=275.722), Row(page='NextSong', length=160.26077), Row(page='NextSong', length=207.25506), Row(page='NextSong', length=108.22485), Row(page='NextSong', length=378.33098), Row(page='NextSong', length=428.82567), Row(page='NextSong', length=218.17424), Row(page='NextSong', length=465.10975), Row(page='NextSong', length=80.79628), Row(page='NextSong', length=160.522), Row(page='NextSong', length=180.53179), Row(page='NextSong', length=428.93016), Row(page='NextSong', length=80.56118), Row(page='NextSong', length=86.56934), Row(page='NextSong', length=288.80934), Row(page='NextSong', length=343.03955), Row(page='NextSong', length=64.31302), Row(page='NextSong', length=378.3571), Row(page='NextSong', length=57.67791), Row(page='NextSong', length=362.89261), Row(page='NextSong', length=415.242), Row(page='NextSong', length=464.27383), Row(page='NextSong', length=437.55057), Row(page='NextSong', length=177.42322), Row(page='NextSong', length=325.01506), Row(page='NextSong', length=424.22812), Row(page='NextSong', length=496.63955), Row(page='NextSong', length=576.02567), Row(page='NextSong', length=320.80934), Row(page='NextSong', length=64.05179), Row(page='NextSong', length=369.60608), Row(page='NextSong', length=90.04363), Row(page='NextSong', length=49.55383), Row(page='NextSong', length=698.69669), Row(page='NextSong', length=73.19465), Row(page='NextSong', length=38.922), Row(page='NextSong', length=74.91873), Row(page='NextSong', length=77.21751), Row(page='NextSong', length=35.36934), Row(page='NextSong', length=756.24444), Row(page='NextSong', length=37.53751), Row(page='NextSong', length=213.05424), Row(page='NextSong', length=258.06322), Row(page='NextSong', length=294.63465), Row(page='NextSong', length=155.32363), Row(page='NextSong', length=244.50567), Row(page='NextSong', length=173.21751), Row(page='NextSong', length=267.91138), Row(page='NextSong', length=106.70975), Row(page='NextSong', length=191.55546), Row(page='NextSong', length=237.84444), Row(page='NextSong', length=234.10893), Row(page='NextSong', length=216.42404), Row(page='NextSong', length=497.8673), Row(page='NextSong', length=211.61751), Row(page='NextSong', length=587.10159), Row(page='NextSong', length=220.23791), Row(page='NextSong', length=285.09995), Row(page='NextSong', length=269.26975), Row(page='NextSong', length=290.97751), Row(page='NextSong', length=256.1824), Row(page='NextSong', length=164.04853), Row(page='NextSong', length=395.88526), Row(page='NextSong', length=177.03138), Row(page='NextSong', length=182.62159), Row(page='NextSong', length=215.69261), Row(page='NextSong', length=103.70567), Row(page='NextSong', length=263.00036), Row(page='NextSong', length=226.16771), Row(page='NextSong', length=264.33261), Row(page='NextSong', length=204.09424), Row(page='NextSong', length=84.84526), Row(page='NextSong', length=132.49261), Row(page='NextSong', length=451.21261), Row(page='NextSong', length=667.24526), Row(page='NextSong', length=232.30649), Row(page='NextSong', length=147.09506), Row(page='NextSong', length=306.12853), Row(page='NextSong', length=437.83791), Row(page='NextSong', length=268.43383), Row(page='NextSong', length=143.20281), Row(page='NextSong', length=394.60526), Row(page='NextSong', length=349.43955), Row(page='NextSong', length=428.95628), Row(page='NextSong', length=126.04036), Row(page='NextSong', length=102.39955), Row(page='NextSong', length=273.60608), Row(page='NextSong', length=308.13995), Row(page='NextSong', length=166.37342), Row(page='NextSong', length=193.41016), Row(page='NextSong', length=152.86812), Row(page='NextSong', length=322.7424), Row(page='NextSong', length=145.57995), Row(page='NextSong', length=135.99302), Row(page='NextSong', length=696.39791), Row(page='NextSong', length=85.05424), Row(page='NextSong', length=156.83873), Row(page='NextSong', length=18.9122), Row(page='NextSong', length=360.38485), Row(page='NextSong', length=493.84444), Row(page='NextSong', length=388.28363), Row(page='NextSong', length=311.53587), Row(page='NextSong', length=696.08444), Row(page='NextSong', length=469.41995), Row(page='NextSong', length=751.96036), Row(page='NextSong', length=459.83302), Row(page='NextSong', length=406.02077), Row(page='NextSong', length=401.47546), Row(page='NextSong', length=123.8722), Row(page='NextSong', length=54.25587), Row(page='NextSong', length=396.61669), Row(page='NextSong', length=1242.46159), Row(page='NextSong', length=217.67791), Row(page='NextSong', length=179.46077), Row(page='NextSong', length=244.1922), Row(page='NextSong', length=352.60036), Row(page='NextSong', length=166.05995), Row(page='NextSong', length=250.27873), Row(page='NextSong', length=273.00526), Row(page='NextSong', length=179.77424), Row(page='NextSong', length=349.30893), Row(page='NextSong', length=227.65669), Row(page='NextSong', length=195.29098), Row(page='NextSong', length=152.0322), Row(page='NextSong', length=274.33751), Row(page='NextSong', length=281.02485), Row(page='NextSong', length=208.61342), Row(page='NextSong', length=369.78893), Row(page='NextSong', length=161.88036), Row(page='NextSong', length=168.75057), Row(page='NextSong', length=467.98322), Row(page='NextSong', length=235.04934), Row(page='NextSong', length=360.61995), Row(page='NextSong', length=153.83465), Row(page='NextSong', length=304.90077), Row(page='NextSong', length=476.00281), Row(page='NextSong', length=226.29832), Row(page='NextSong', length=192.41751), Row(page='NextSong', length=290.16771), Row(page='NextSong', length=176.32608), Row(page='NextSong', length=254.45832), Row(page='NextSong', length=288.41751), Row(page='NextSong', length=268.69506), Row(page='NextSong', length=119.58812), Row(page='NextSong', length=192.07791), Row(page='NextSong', length=147.30404), Row(page='NextSong', length=196.98893), Row(page='NextSong', length=188.42077), Row(page='NextSong', length=273.3971), Row(page='NextSong', length=228.30975), Row(page='NextSong', length=256.70485), Row(page='NextSong', length=443.11465), Row(page='NextSong', length=365.53098), Row(page='NextSong', length=339.3824), Row(page='NextSong', length=163.94404), Row(page='NextSong', length=98.66404), Row(page='NextSong', length=288.28689), Row(page='NextSong', length=121.15546), Row(page='NextSong', length=172.14649), Row(page='NextSong', length=386.53342), Row(page='NextSong', length=310.33424), Row(page='NextSong', length=75.91138), Row(page='NextSong', length=97.25342), Row(page='NextSong', length=507.29751), Row(page='NextSong', length=447.37261), Row(page='NextSong', length=88.55465), Row(page='NextSong', length=370.78159), Row(page='NextSong', length=458.60526), Row(page='NextSong', length=121.70404), Row(page='NextSong', length=86.62159), Row(page='NextSong', length=521.89995), Row(page='NextSong', length=423.02649), Row(page='NextSong', length=478.85016), Row(page='NextSong', length=112.1171), Row(page='NextSong', length=88.71138), Row(page='NextSong', length=122.61832), Row(page='NextSong', length=335.69914), Row(page='NextSong', length=132.04853), Row(page='NextSong', length=538.3571), Row(page='NextSong', length=321.85424), Row(page='NextSong', length=360.28036), Row(page='NextSong', length=98.71628), Row(page='NextSong', length=490.23955), Row(page='NextSong', length=46.96771), Row(page='NextSong', length=48.66567), Row(page='NextSong', length=510.35383), Row(page='NextSong', length=111.59465), Row(page='NextSong', length=487.52281), Row(page='NextSong', length=412.18567), Row(page='NextSong', length=65.04444), Row(page='NextSong', length=514.21995), Row(page='NextSong', length=206.52363), Row(page='NextSong', length=372.29669), Row(page='NextSong', length=269.71383), Row(page='NextSong', length=195.89179), Row(page='NextSong', length=164.70159), Row(page='NextSong', length=247.17016), Row(page='NextSong', length=287.52934), Row(page='NextSong', length=571.79383), Row(page='NextSong', length=196.362), Row(page='NextSong', length=223.73832), Row(page='NextSong', length=234.78812), Row(page='NextSong', length=356.10077), Row(page='NextSong', length=326.53016), Row(page='NextSong', length=202.86649), Row(page='NextSong', length=51.27791), Row(page='NextSong', length=280.45016), Row(page='NextSong', length=355.36934), Row(page='NextSong', length=175.82975), Row(page='NextSong', length=171.20608), Row(page='NextSong', length=290.35057), Row(page='NextSong', length=206.44526), Row(page='NextSong', length=169.63873), Row(page='NextSong', length=206.47138), Row(page='NextSong', length=346.67057), Row(page='NextSong', length=169.69098), Row(page='NextSong', length=349.33506), Row(page='NextSong', length=75.41506), Row(page='NextSong', length=192.28689), Row(page='NextSong', length=324.20526), Row(page='NextSong', length=250.22649), Row(page='NextSong', length=278.54322), Row(page='NextSong', length=157.07383), Row(page='NextSong', length=258.84689), Row(page='NextSong', length=358.79138), Row(page='NextSong', length=269.58322), Row(page='NextSong', length=282.80118), Row(page='NextSong', length=197.22404), Row(page='NextSong', length=408.63302), Row(page='NextSong', length=253.80526), Row(page='NextSong', length=138.16118), Row(page='NextSong', length=285.41342), Row(page='NextSong', length=343.27465), Row(page='NextSong', length=147.1473), Row(page='NextSong', length=346.14812), Row(page='NextSong', length=312.92036), Row(page='NextSong', length=570.93179), Row(page='NextSong', length=242.07628), Row(page='NextSong', length=60.9171), Row(page='NextSong', length=96.46975), Row(page='NextSong', length=416.62649), Row(page='NextSong', length=425.97832), Row(page='NextSong', length=741.642), Row(page='NextSong', length=375.45751), Row(page='NextSong', length=445.64853), Row(page='NextSong', length=64.88771), Row(page='NextSong', length=75.96363), Row(page='NextSong', length=921.0771), Row(page='NextSong', length=374.30812), Row(page='NextSong', length=398.88934), Row(page='NextSong', length=377.23383), Row(page='NextSong', length=115.85261), Row(page='NextSong', length=420.30975), Row(page='NextSong', length=329.06404), Row(page='NextSong', length=318.24934), Row(page='NextSong', length=155.45424), Row(page='NextSong', length=59.48036), Row(page='NextSong', length=359.47057), Row(page='NextSong', length=31.86893), Row(page='NextSong', length=91.24526), Row(page='NextSong', length=363.7024), Row(page='NextSong', length=171.02322), Row(page='NextSong', length=167.31383), Row(page='NextSong', length=452.41424), Row(page='NextSong', length=88.60689), Row(page='NextSong', length=547.70893), Row(page='NextSong', length=43.04934), Row(page='NextSong', length=502.7522), Row(page='NextSong', length=351.52934), Row(page='NextSong', length=54.90893), Row(page='NextSong', length=330.44853), Row(page='NextSong', length=246.69995), Row(page='NextSong', length=260.62322), Row(page='NextSong', length=232.14975), Row(page='NextSong', length=273.05751), Row(page='NextSong', length=264.22812), Row(page='NextSong', length=167.36608), Row(page='NextSong', length=171.41506), Row(page='NextSong', length=181.81179), Row(page='NextSong', length=150.64771), Row(page='NextSong', length=96.78322), Row(page='NextSong', length=311.7971), Row(page='NextSong', length=247.11791), Row(page='NextSong', length=221.72689), Row(page='NextSong', length=258.14159), Row(page='NextSong', length=115.22567), Row(page='NextSong', length=287.21587), Row(page='NextSong', length=238.96771), Row(page='NextSong', length=213.62893), Row(page='NextSong', length=253.09995), Row(page='NextSong', length=336.3522), Row(page='NextSong', length=262.5824), Row(page='NextSong', length=142.34077), Row(page='NextSong', length=100.98893), Row(page='NextSong', length=258.40281), Row(page='NextSong', length=252.83873), Row(page='NextSong', length=297.53424), Row(page='NextSong', length=310.25587), Row(page='NextSong', length=372.84526), Row(page='NextSong', length=370.72934), Row(page='NextSong', length=145.78893), Row(page='NextSong', length=205.29587), Row(page='NextSong', length=260.51873), Row(page='NextSong', length=167.52281), Row(page='NextSong', length=344.29342), Row(page='NextSong', length=539.01016), Row(page='NextSong', length=165.58975), Row(page='NextSong', length=220.02893), Row(page='NextSong', length=155.61098), Row(page='NextSong', length=369.31873), Row(page='NextSong', length=208.22159), Row(page='NextSong', length=156.86485), Row(page='NextSong', length=395.59791), Row(page='NextSong', length=22.12526), Row(page='NextSong', length=296.22812), Row(page='NextSong', length=338.80771), Row(page='NextSong', length=96.7571), Row(page='NextSong', length=335.09832), Row(page='NextSong', length=560.61342), Row(page='NextSong', length=390.29506), Row(page='NextSong', length=390.53016), Row(page='NextSong', length=173.71383), Row(page='NextSong', length=127.9473), Row(page='NextSong', length=224.65261), Row(page='NextSong', length=134.53016), Row(page='NextSong', length=188.83873), Row(page='NextSong', length=331.88526), Row(page='NextSong', length=149.62893), Row(page='NextSong', length=573.12608), Row(page='NextSong', length=188.70812), Row(page='NextSong', length=124.89098), Row(page='NextSong', length=368.19546), Row(page='NextSong', length=375.37914), Row(page='NextSong', length=423.07873), Row(page='NextSong', length=123.71546), Row(page='NextSong', length=296.72444), Row(page='NextSong', length=309.75955), Row(page='NextSong', length=433.71057), Row(page='NextSong', length=304.24771), Row(page='NextSong', length=108.09424), Row(page='NextSong', length=158.11873), Row(page='NextSong', length=473.33832), Row(page='NextSong', length=489.1424), Row(page='NextSong', length=552.54159), Row(page='NextSong', length=310.43873), Row(page='NextSong', length=51.06893), Row(page='NextSong', length=207.67302), Row(page='NextSong', length=211.09506), Row(page='NextSong', length=257.93261), Row(page='NextSong', length=367.64689), Row(page='NextSong', length=183.53587), Row(page='NextSong', length=215.82322), Row(page='NextSong', length=205.84444), Row(page='NextSong', length=231.78404), Row(page='NextSong', length=188.60363), Row(page='NextSong', length=126.69342), Row(page='NextSong', length=247.45751), Row(page='NextSong', length=242.9122), Row(page='NextSong', length=326.24281), Row(page='NextSong', length=236.35546), Row(page='NextSong', length=310.15138), Row(page='NextSong', length=285.83138), Row(page='NextSong', length=183.77098), Row(page='NextSong', length=384.7571), Row(page='NextSong', length=303.15057), Row(page='NextSong', length=197.92934), Row(page='NextSong', length=186.25261), Row(page='NextSong', length=245.60281), Row(page='NextSong', length=459.12771), Row(page='NextSong', length=406.36036), Row(page='NextSong', length=65.64526), Row(page='NextSong', length=368.3522), Row(page='NextSong', length=418.0371), Row(page='NextSong', length=154.90567), Row(page='NextSong', length=70.73914), Row(page='NextSong', length=526.44526), Row(page='NextSong', length=458.97098), Row(page='NextSong', length=115.19955), Row(page='NextSong', length=257.41016), Row(page='NextSong', length=316.60363), Row(page='NextSong', length=186.27873), Row(page='NextSong', length=219.61098), Row(page='NextSong', length=288.36526), Row(page='NextSong', length=274.15465), Row(page='NextSong', length=404.47955), Row(page='NextSong', length=430.68036), Row(page='NextSong', length=411.14077), Row(page='NextSong', length=179.48689), Row(page='NextSong', length=359.78404), Row(page='NextSong', length=568.29342), Row(page='NextSong', length=262.50404), Row(page='NextSong', length=219.58485), Row(page='NextSong', length=368.22159), Row(page='NextSong', length=298.89261), Row(page='NextSong', length=391.67955), Row(page='NextSong', length=96.05179), Row(page='NextSong', length=334.99383), Row(page='NextSong', length=171.75465), Row(page='NextSong', length=328.9073), Row(page='NextSong', length=449.61914), Row(page='NextSong', length=516.80608), Row(page='NextSong', length=497.57995), Row(page='NextSong', length=307.12118), Row(page='NextSong', length=410.3571), Row(page='NextSong', length=391.05261), Row(page='NextSong', length=118.62159), Row(page='NextSong', length=389.77261), Row(page='NextSong', length=120.842), Row(page='NextSong', length=511.86893), Row(page='NextSong', length=1381.58975), Row(page='NextSong', length=446.95465), Row(page='NextSong', length=448.36526), Row(page='NextSong', length=89.20771), Row(page='NextSong', length=414.48444), Row(page='NextSong', length=402.96444), Row(page='NextSong', length=88.24118), Row(page='NextSong', length=193.98485), Row(page='NextSong', length=134.39955), Row(page='NextSong', length=1218.01098), Row(page='NextSong', length=282.25261), Row(page='NextSong', length=361.11628), Row(page='NextSong', length=104.75057), Row(page='NextSong', length=166.19057), Row(page='NextSong', length=254.27546), Row(page='NextSong', length=344.5024), Row(page='NextSong', length=235.62404), Row(page='NextSong', length=224.10404), Row(page='NextSong', length=249.99138), Row(page='NextSong', length=216.0322), Row(page='NextSong', length=125.98812), Row(page='NextSong', length=188.29016), Row(page='NextSong', length=461.26975), Row(page='NextSong', length=170.55302), Row(page='NextSong', length=378.98404), Row(page='NextSong', length=290.55955), Row(page='NextSong', length=243.1473), Row(page='NextSong', length=104.59383), Row(page='NextSong', length=228.57098), Row(page='NextSong', length=321.27955), Row(page='NextSong', length=216.16281), Row(page='NextSong', length=251.08853), Row(page='NextSong', length=327.23546), Row(page='NextSong', length=230.73914), Row(page='NextSong', length=279.19628), Row(page='NextSong', length=387.57832), Row(page='NextSong', length=522.9971), Row(page='NextSong', length=367.01995), Row(page='NextSong', length=183.90159), Row(page='NextSong', length=259.57832), Row(page='NextSong', length=296.38485), Row(page='NextSong', length=321.98485), Row(page='NextSong', length=117.36771), Row(page='NextSong', length=254.64118), Row(page='NextSong', length=276.03546), Row(page='NextSong', length=438.30812), Row(page='NextSong', length=351.18975), Row(page='NextSong', length=192.88771), Row(page='NextSong', length=147.61751), Row(page='NextSong', length=179.27791), Row(page='NextSong', length=390.71302), Row(page='NextSong', length=207.22893), Row(page='NextSong', length=280.08444), Row(page='NextSong', length=330.31791), Row(page='NextSong', length=164.12689), Row(page='NextSong', length=401.21424), Row(page='NextSong', length=448.23465), Row(page='NextSong', length=319.76444), Row(page='NextSong', length=433.60608), Row(page='NextSong', length=67.5522), Row(page='NextSong', length=340.27057), Row(page='NextSong', length=129.98485), Row(page='NextSong', length=138.21342), Row(page='NextSong', length=289.802), Row(page='NextSong', length=482.21995), Row(page='NextSong', length=361.27302), Row(page='NextSong', length=442.38322), Row(page='NextSong', length=281.41669), Row(page='NextSong', length=374.80444), Row(page='NextSong', length=478.51057), Row(page='NextSong', length=97.01832), Row(page='NextSong', length=275.82649), Row(page='NextSong', length=414.35383), Row(page='NextSong', length=469.39383), Row(page='NextSong', length=402.02404), Row(page='NextSong', length=175.56853), Row(page='NextSong', length=429.76608), Row(page='NextSong', length=402.72934), Row(page='NextSong', length=450.84689), Row(page='NextSong', length=124.682), Row(page='NextSong', length=529.8673), Row(page='NextSong', length=138.50077), Row(page='NextSong', length=473.88689), Row(page='NextSong', length=354.79465), Row(page='NextSong', length=457.27302), Row(page='NextSong', length=436.03546), Row(page='NextSong', length=660.03546), Row(page='NextSong', length=59.55873), Row(page='NextSong', length=97.41016), Row(page='NextSong', length=344.81587), Row(page='NextSong', length=542.11873), Row(page='NextSong', length=113.94567), Row(page='NextSong', length=632.65914), Row(page='NextSong', length=641.38404), Row(page='NextSong', length=354.63791), Row(page='NextSong', length=204.2771), Row(page='NextSong', length=286.71955), Row(page='NextSong', length=380.23791), Row(page='NextSong', length=227.5522), Row(page='NextSong', length=313.28608), Row(page='NextSong', length=236.93016), Row(page='NextSong', length=208.14322), Row(page='NextSong', length=174.65424), Row(page='NextSong', length=264.48934), Row(page='NextSong', length=184.31955), Row(page='NextSong', length=186.22649), Row(page='NextSong', length=161.59302), Row(page='NextSong', length=209.55383), Row(page='NextSong', length=211.77424), Row(page='NextSong', length=170.21342), Row(page='NextSong', length=203.36281), Row(page='NextSong', length=292.10077), Row(page='NextSong', length=227.73506), Row(page='NextSong', length=110.47138), Row(page='NextSong', length=350.95465), Row(page='NextSong', length=319.05914), Row(page='NextSong', length=285.72689), Row(page='NextSong', length=124.21179), Row(page='NextSong', length=149.39383), Row(page='NextSong', length=125.59628), Row(page='NextSong', length=245.83791), Row(page='NextSong', length=324.72771), Row(page='NextSong', length=494.54975), Row(page='NextSong', length=234.23955), Row(page='NextSong', length=222.48444), Row(page='NextSong', length=106.39628), Row(page='NextSong', length=361.53424), Row(page='NextSong', length=108.66893), Row(page='NextSong', length=119.87546), Row(page='NextSong', length=170.50077), Row(page='NextSong', length=134.71302), Row(page='NextSong', length=328.17587), Row(page='NextSong', length=318.98077), Row(page='NextSong', length=57.80853), Row(page='NextSong', length=160.9922), Row(page='NextSong', length=285.6224), Row(page='NextSong', length=56.78975), Row(page='NextSong', length=315.53261), Row(page='NextSong', length=11.93751), Row(page='NextSong', length=619.57179), Row(page='NextSong', length=108.69506), Row(page='NextSong', length=541.12608), Row(page='NextSong', length=354.53342), Row(page='NextSong', length=465.60608), Row(page='NextSong', length=55.01342), Row(page='NextSong', length=321.43628), Row(page='NextSong', length=340.74077), Row(page='NextSong', length=475.32363), Row(page='NextSong', length=621.29587), Row(page='NextSong', length=469.4722), Row(page='NextSong', length=584.93342), Row(page='NextSong', length=351.05914), Row(page='NextSong', length=695.11791), Row(page='NextSong', length=530.15465), Row(page='NextSong', length=491.20608), Row(page='NextSong', length=49.42322), Row(page='NextSong', length=686.88934), Row(page='NextSong', length=375.58812), Row(page='NextSong', length=189.6224), Row(page='NextSong', length=240.84853), Row(page='NextSong', length=306.07628), Row(page='NextSong', length=91.0624), Row(page='NextSong', length=233.40363), Row(page='NextSong', length=305.44934), Row(page='NextSong', length=225.82812), Row(page='NextSong', length=261.85098), Row(page='NextSong', length=221.09995), Row(page='NextSong', length=231.96689), Row(page='NextSong', length=281.05098), Row(page='NextSong', length=168.01914), Row(page='NextSong', length=416.65261), Row(page='NextSong', length=253.41342), Row(page='NextSong', length=217.5473), Row(page='NextSong', length=222.1971), Row(page='NextSong', length=280.97261), Row(page='NextSong', length=266.97098), Row(page='NextSong', length=448.02567), Row(page='NextSong', length=180.50567), Row(page='NextSong', length=214.88281), Row(page='NextSong', length=304.66567), Row(page='NextSong', length=393.03791), Row(page='NextSong', length=466.54649), Row(page='NextSong', length=166.26893), Row(page='NextSong', length=297.37751), Row(page='NextSong', length=505.59955), Row(page='NextSong', length=299.49342), Row(page='NextSong', length=199.96689), Row(page='NextSong', length=276.53179), Row(page='NextSong', length=570.01751), Row(page='NextSong', length=336.53506), Row(page='NextSong', length=373.05424), Row(page='NextSong', length=387.13424), Row(page='NextSong', length=178.75546), Row(page='NextSong', length=198.42567), Row(page='NextSong', length=63.05914), Row(page='NextSong', length=94.30159), Row(page='NextSong', length=150.80444), Row(page='NextSong', length=68.67546), Row(page='NextSong', length=153.15546), Row(page='NextSong', length=472.52853), Row(page='NextSong', length=140.95628), Row(page='NextSong', length=128.83546), Row(page='NextSong', length=132.15302), Row(page='NextSong', length=137.35138), Row(page='NextSong', length=90.46159), Row(page='NextSong', length=313.91302), Row(page='NextSong', length=309.36771), Row(page='NextSong', length=428.69506), Row(page='NextSong', length=299.93751), Row(page='NextSong', length=284.94322), Row(page='NextSong', length=163.97016), Row(page='NextSong', length=834.66404), Row(page='NextSong', length=246.7522), Row(page='NextSong', length=78.00118), Row(page='NextSong', length=382.58893), Row(page='NextSong', length=128.20853), Row(page='NextSong', length=529.94567), Row(page='NextSong', length=521.22077), Row(page='NextSong', length=113.6322), Row(page='NextSong', length=261.98159), Row(page='NextSong', length=136.51546), Row(page='NextSong', length=377.88689), Row(page='NextSong', length=318.04036), Row(page='NextSong', length=77.40036), Row(page='NextSong', length=691.12118), Row(page='NextSong', length=85.68118), Row(page='NextSong', length=369.89342), Row(page='NextSong', length=123.79383), Row(page='NextSong', length=865.27955), Row(page='NextSong', length=334.73261), Row(page='NextSong', length=411.01016), Row(page='NextSong', length=218.40934), Row(page='NextSong', length=212.27057), Row(page='NextSong', length=249.25995), Row(page='NextSong', length=191.37261), Row(page='NextSong', length=269.29587), Row(page='NextSong', length=137.82159), Row(page='NextSong', length=222.17098), Row(page='NextSong', length=286.6673), Row(page='NextSong', length=179.25179), Row(page='NextSong', length=164.57098), Row(page='NextSong', length=238.41914), Row(page='NextSong', length=194.95138), Row(page='NextSong', length=436.94975), Row(page='NextSong', length=206.70649), Row(page='NextSong', length=179.53914), Row(page='NextSong', length=248.16281), Row(page='NextSong', length=423.10485), Row(page='NextSong', length=378.8273), Row(page='NextSong', length=200.4371), Row(page='NextSong', length=285.04771), Row(page='NextSong', length=234.34404), Row(page='NextSong', length=226.58567), Row(page='NextSong', length=150.83057), Row(page='NextSong', length=232.51546), Row(page='NextSong', length=319.08526), Row(page='NextSong', length=273.78893), Row(page='NextSong', length=103.65342), Row(page='NextSong', length=664.55465), Row(page='NextSong', length=193.56689), Row(page='NextSong', length=335.20281), Row(page='NextSong', length=117.78567), Row(page='NextSong', length=303.20281), Row(page='NextSong', length=131.16036), Row(page='NextSong', length=356.62322), Row(page='NextSong', length=263.99302), Row(page='NextSong', length=275.3824), Row(page='NextSong', length=259.36934), Row(page='NextSong', length=180.55791), Row(page='NextSong', length=172.93016), Row(page='NextSong', length=54.85669), Row(page='NextSong', length=170.65751), Row(page='NextSong', length=202.1873), Row(page='NextSong', length=299.96363), Row(page='NextSong', length=347.92444), Row(page='NextSong', length=164.23138), Row(page='NextSong', length=360.04526), Row(page='NextSong', length=247.95383), Row(page='NextSong', length=107.80689), Row(page='NextSong', length=335.33342), Row(page='NextSong', length=782.0273), Row(page='NextSong', length=178.93832), Row(page='NextSong', length=303.17669), Row(page='NextSong', length=269.16526), Row(page='NextSong', length=404.79302), Row(page='NextSong', length=959.79057), Row(page='NextSong', length=790.62159), Row(page='NextSong', length=37.14567), Row(page='NextSong', length=516.38812), Row(page='NextSong', length=361.24689), Row(page='NextSong', length=161.74975), Row(page='NextSong', length=191.63383), Row(page='NextSong', length=472.29342), Row(page='NextSong', length=358.60853), Row(page='NextSong', length=306.41587), Row(page='NextSong', length=159.73832), Row(page='NextSong', length=160.94358), Row(page='NextSong', length=340.84526), Row(page='NextSong', length=471.14404), Row(page='NextSong', length=669.04771), Row(page='NextSong', length=371.61751), Row(page='NextSong', length=452.93669), Row(page='NextSong', length=395.98975), Row(page='NextSong', length=615.05261), Row(page='NextSong', length=375.06567), Row(page='NextSong', length=438.5171), Row(page='NextSong', length=396.38159), Row(page='NextSong', length=99.76118), Row(page='NextSong', length=612.10077), Row(page='NextSong', length=444.78649), Row(page='NextSong', length=113.37098), Row(page='NextSong', length=462.54975), Row(page='NextSong', length=309.62893), Row(page='NextSong', length=214.12526), Row(page='NextSong', length=290.82077), Row(page='NextSong', length=318.51057), Row(page='NextSong', length=421.56363), Row(page='NextSong', length=269.47873), Row(page='NextSong', length=283.92444), Row(page='NextSong', length=156.23791), Row(page='NextSong', length=96.41751), Row(page='NextSong', length=250.67057), Row(page='NextSong', length=174.18404), Row(page='NextSong', length=393.45587), Row(page='NextSong', length=255.34649), Row(page='NextSong', length=241.03138), Row(page='NextSong', length=308.21832), Row(page='NextSong', length=216.73751), Row(page='NextSong', length=243.98322), Row(page='NextSong', length=263.52281), Row(page='NextSong', length=269.92281), Row(page='NextSong', length=295.99302), Row(page='NextSong', length=359.00036), Row(page='NextSong', length=232.80281), Row(page='NextSong', length=402.54649), Row(page='NextSong', length=189.51791), Row(page='NextSong', length=140.38159), Row(page='NextSong', length=183.50975), Row(page='NextSong', length=310.49098), Row(page='NextSong', length=352.78322), Row(page='NextSong', length=510.64118), Row(page='NextSong', length=266.94485), Row(page='NextSong', length=500.58404), Row(page='NextSong', length=286.11873), Row(page='NextSong', length=349.83138), Row(page='NextSong', length=338.442), Row(page='NextSong', length=191.9473), Row(page='NextSong', length=314.09587), Row(page='NextSong', length=262.1122), Row(page='NextSong', length=407.11791), Row(page='NextSong', length=256.65261), Row(page='NextSong', length=289.27955), Row(page='NextSong', length=318.79791), Row(page='NextSong', length=156.89098), Row(page='NextSong', length=241.29261), Row(page='NextSong', length=124.70812), Row(page='NextSong', length=181.2371), Row(page='NextSong', length=456.41098), Row(page='NextSong', length=346.61832), Row(page='NextSong', length=396.22485), Row(page='NextSong', length=445.41342), Row(page='NextSong', length=149.52444), Row(page='NextSong', length=83.35628), Row(page='NextSong', length=341.4722), Row(page='NextSong', length=175.20281), Row(page='NextSong', length=722.442), Row(page='NextSong', length=281.33832), Row(page='NextSong', length=90.14812), Row(page='NextSong', length=128.93995), Row(page='NextSong', length=306.75546), Row(page='NextSong', length=239.33342), Row(page='NextSong', length=347.61098), Row(page='NextSong', length=619.88526), Row(page='NextSong', length=280.24118), Row(page='NextSong', length=15.85587), Row(page='NextSong', length=498.1024), Row(page='NextSong', length=100.33587), Row(page='NextSong', length=70.5824), Row(page='NextSong', length=448.49587), Row(page='NextSong', length=788.92363), Row(page='NextSong', length=195.7873), Row(page='NextSong', length=655.77751), Row(page='NextSong', length=218.74893), Row(page='NextSong', length=264.25424), Row(page='NextSong', length=249.93914), Row(page='NextSong', length=193.88036), Row(page='NextSong', length=428.72118), Row(page='NextSong', length=343.66649), Row(page='NextSong', length=151.77098), Row(page='NextSong', length=218.8273), Row(page='NextSong', length=178.65098), Row(page='NextSong', length=265.56036), Row(page='NextSong', length=295.96689), Row(page='NextSong', length=360.82893), Row(page='NextSong', length=252.02893), Row(page='NextSong', length=307.27791), Row(page='NextSong', length=483.81342), Row(page='NextSong', length=263.1571), Row(page='NextSong', length=394.97098), Row(page='NextSong', length=194.89914), Row(page='NextSong', length=290.0371), Row(page='NextSong', length=176.50893), Row(page='NextSong', length=270.94159), Row(page='NextSong', length=313.23383), Row(page='NextSong', length=257.2273), Row(page='NextSong', length=299.88526), Row(page='NextSong', length=287.97342), Row(page='NextSong', length=344.94649), Row(page='NextSong', length=255.89506), Row(page='NextSong', length=151.74485), Row(page='NextSong', length=71.07873), Row(page='NextSong', length=221.41342), Row(page='NextSong', length=192.62649), Row(page='NextSong', length=497.08363), Row(page='NextSong', length=347.97669), Row(page='NextSong', length=265.66485), Row(page='NextSong', length=305.13587), Row(page='NextSong', length=205.66159), Row(page='NextSong', length=300.25098), Row(page='NextSong', length=336.37832), Row(page='NextSong', length=533.68118), Row(page='NextSong', length=205.47873), Row(page='NextSong', length=272.06485), Row(page='NextSong', length=315.95057), Row(page='NextSong', length=442.74893), Row(page='NextSong', length=203.17995), Row(page='NextSong', length=11.20608), Row(page='NextSong', length=1118.61506), Row(page='NextSong', length=388.62322), Row(page='NextSong', length=273.31873), Row(page='NextSong', length=297.79546), Row(page='NextSong', length=103.36608), Row(page='NextSong', length=104.51546), Row(page='NextSong', length=287.65995), Row(page='NextSong', length=66.84689), Row(page='NextSong', length=330.23955), Row(page='NextSong', length=314.61832), Row(page='NextSong', length=131.00363), Row(page='NextSong', length=340.11383), Row(page='NextSong', length=568.76363), Row(page='NextSong', length=632.13669), Row(page='NextSong', length=154.5922), Row(page='NextSong', length=331.33669), Row(page='NextSong', length=856.86812), Row(page='NextSong', length=413.59628), Row(page='NextSong', length=705.82812), Row(page='NextSong', length=445.77914), Row(page='NextSong', length=836.85832), Row(page='NextSong', length=53.4722), Row(page='NextSong', length=515.3171), Row(page='NextSong', length=114.85995), Row(page='NextSong', length=103.6273), Row(page='NextSong', length=617.01179), Row(page='NextSong', length=655.35955), Row(page='NextSong', length=493.40036), Row(page='NextSong', length=236.09424), Row(page='NextSong', length=134.922), Row(page='NextSong', length=435.93098), Row(page='NextSong', length=268.48608), Row(page='NextSong', length=217.05098), Row(page='NextSong', length=84.89751), Row(page='NextSong', length=151.48363), Row(page='NextSong', length=160.91383), Row(page='NextSong', length=212.92363), Row(page='NextSong', length=253.75302), Row(page='NextSong', length=237.37424), Row(page='NextSong', length=195.00363), Row(page='NextSong', length=230.3473), Row(page='NextSong', length=375.61424), Row(page='NextSong', length=213.75955), Row(page='NextSong', length=200.80281), Row(page='NextSong', length=357.0673), Row(page='NextSong', length=175.33342), Row(page='NextSong', length=88.92036), Row(page='NextSong', length=171.67628), Row(page='NextSong', length=183.14404), Row(page='NextSong', length=505.91302), Row(page='NextSong', length=302.18404), Row(page='NextSong', length=150.62159), Row(page='NextSong', length=327.52281), Row(page='NextSong', length=232.07138), Row(page='NextSong', length=244.89751), Row(page='NextSong', length=400.06485), Row(page='NextSong', length=259.39546), Row(page='NextSong', length=293.69424), Row(page='NextSong', length=125.6224), Row(page='NextSong', length=278.7522), Row(page='NextSong', length=281.83465), Row(page='NextSong', length=261.53751), Row(page='NextSong', length=122.93179), Row(page='NextSong', length=575.81669), Row(page='NextSong', length=931.16036), Row(page='NextSong', length=328.22812), Row(page='NextSong', length=522.47465), Row(page='NextSong', length=154.85342), Row(page='NextSong', length=167.13098), Row(page='NextSong', length=661.68118), Row(page='NextSong', length=324.10077), Row(page='NextSong', length=122.46159), Row(page='NextSong', length=281.25995), Row(page='NextSong', length=420.54485), Row(page='NextSong', length=194.21995), Row(page='NextSong', length=77.47873), Row(page='NextSong', length=474.01751), Row(page='NextSong', length=400.77016), Row(page='NextSong', length=59.95057), Row(page='NextSong', length=440.86812), Row(page='NextSong', length=382.40608), Row(page='NextSong', length=321.61914), Row(page='NextSong', length=113.08363), Row(page='NextSong', length=109.19138), Row(page='NextSong', length=28.26404), Row(page='NextSong', length=1029.43302), Row(page='NextSong', length=37.45914), Row(page='NextSong', length=283.0624), Row(page='NextSong', length=118.77832), Row(page='NextSong', length=665.28608), Row(page='NextSong', length=415.18975), Row(page='NextSong', length=118.09914), Row(page='NextSong', length=435.01669), Row(page='NextSong', length=255.64757), Row(page='NextSong', length=162.32444), Row(page='NextSong', length=383.03302), Row(page='NextSong', length=392.56771), Row(page='NextSong', length=391.78404), Row(page='NextSong', length=223.92118), Row(page='NextSong', length=166.68689), Row(page='NextSong', length=115.82649), Row(page='NextSong', length=227.34322), Row(page='NextSong', length=268.66893), Row(page='NextSong', length=516.28363), Row(page='NextSong', length=177.68444), Row(page='NextSong', length=274.36363), Row(page='NextSong', length=240.48281), Row(page='NextSong', length=297.9522), Row(page='NextSong', length=220.65587), Row(page='NextSong', length=277.39383), Row(page='NextSong', length=345.3122), Row(page='NextSong', length=226.5073), Row(page='NextSong', length=150.07302), Row(page='NextSong', length=265.45587), Row(page='NextSong', length=299.4673), Row(page='NextSong', length=220.3424), Row(page='NextSong', length=276.47955), Row(page='NextSong', length=62.01424), Row(page='NextSong', length=121.5473), Row(page='NextSong', length=272.1171), Row(page='NextSong', length=71.81016), Row(page='NextSong', length=214.09914), Row(page='NextSong', length=204.69506), Row(page='NextSong', length=18.05016), Row(page='NextSong', length=279.03955), Row(page='NextSong', length=258.66404), Row(page='NextSong', length=198.60853), Row(page='NextSong', length=179.90485), Row(page='NextSong', length=579.83955), Row(page='NextSong', length=170.63138), Row(page='NextSong', length=297.97832), Row(page='NextSong', length=192.39138), Row(page='NextSong', length=344.68526), Row(page='NextSong', length=39.73179), Row(page='NextSong', length=155.58485), Row(page='NextSong', length=329.9522), Row(page='NextSong', length=428.87791), Row(page='NextSong', length=266.08281), Row(page='NextSong', length=417.07057), Row(page='NextSong', length=359.31383), Row(page='NextSong', length=330.70975), Row(page='NextSong', length=157.46567), Row(page='NextSong', length=477.83138), Row(page='NextSong', length=157.93587), Row(page='NextSong', length=375.64036), Row(page='NextSong', length=184.00608), Row(page='NextSong', length=135.8624), Row(page='NextSong', length=392.17587), Row(page='NextSong', length=111.98649), Row(page='NextSong', length=134.76526), Row(page='NextSong', length=105.84771), Row(page='NextSong', length=74.60526), Row(page='NextSong', length=594.80771), Row(page='NextSong', length=584.64608), Row(page='NextSong', length=142.62812), Row(page='NextSong', length=625.34485), Row(page='NextSong', length=153.23383), Row(page='NextSong', length=688.43057), Row(page='NextSong', length=491.17995), Row(page='NextSong', length=66.58567), Row(page='NextSong', length=495.98649), Row(page='NextSong', length=61.85751), Row(page='NextSong', length=328.56771), Row(page='NextSong', length=29.70077), Row(page='NextSong', length=559.15057), Row(page='NextSong', length=101.53751), Row(page='NextSong', length=637.30893), Row(page='NextSong', length=450.92526), Row(page='NextSong', length=116.1922), Row(page='NextSong', length=432.43057), Row(page='NextSong', length=748.06812), Row(page='NextSong', length=106.16118), Row(page='NextSong', length=97.09669), Row(page='NextSong', length=123.81995), Row(page='NextSong', length=505.5473), Row(page='NextSong', length=262.89587), Row(page='NextSong', length=221.43955), Row(page='NextSong', length=267.33669), Row(page='NextSong', length=254.82404), Row(page='NextSong', length=321.09669), Row(page='NextSong', length=229.01506), Row(page='NextSong', length=208.24771), Row(page='NextSong', length=266.52689), Row(page='NextSong', length=293.82485), Row(page='NextSong', length=273.34485), Row(page='NextSong', length=212.79302), Row(page='NextSong', length=146.85995), Row(page='NextSong', length=252.1073), Row(page='NextSong', length=219.32363), Row(page='NextSong', length=179.66975), Row(page='NextSong', length=236.01587), Row(page='NextSong', length=333.34812), Row(page='NextSong', length=251.32363), Row(page='NextSong', length=269.68771), Row(page='NextSong', length=160.31302), Row(page='NextSong', length=160.86159), Row(page='NextSong', length=313.25995), Row(page='NextSong', length=264.12363), Row(page='NextSong', length=293.14567), Row(page='NextSong', length=270.99383), Row(page='NextSong', length=76.042), Row(page='NextSong', length=244.53179), Row(page='NextSong', length=236.95628), Row(page='NextSong', length=364.042), Row(page='NextSong', length=187.68934), Row(page='NextSong', length=181.89016), Row(page='NextSong', length=182.83057), Row(page='NextSong', length=240.09098), Row(page='NextSong', length=278.17751), Row(page='NextSong', length=271.12444), Row(page='NextSong', length=241.99791), Row(page='NextSong', length=228.15302), Row(page='NextSong', length=127.65995), Row(page='NextSong', length=430.18404), Row(page='NextSong', length=280.73751), Row(page='NextSong', length=240.32608), Row(page='NextSong', length=433.31873), Row(page='NextSong', length=505.57342), Row(page='NextSong', length=512.23465), Row(page='NextSong', length=129.33179), Row(page='NextSong', length=161.20118), Row(page='NextSong', length=397.34812), Row(page='NextSong', length=242.05016), Row(page='NextSong', length=329.01179), Row(page='NextSong', length=643.99628), Row(page='NextSong', length=157.83138), Row(page='NextSong', length=341.10649), Row(page='NextSong', length=479.68608), Row(page='NextSong', length=160.05179), Row(page='NextSong', length=183.92771), Row(page='NextSong', length=146.1024), Row(page='NextSong', length=306.57261), Row(page='NextSong', length=144.66567), Row(page='NextSong', length=233.7171), Row(page='NextSong', length=154.72281), Row(page='NextSong', length=391.88853), Row(page='NextSong', length=133.48526), Row(page='NextSong', length=439.27465), Row(page='NextSong', length=1328.87465), Row(page='NextSong', length=234.55302), Row(page='NextSong', length=158.77179), Row(page='NextSong', length=75.33669), Row(page='NextSong', length=362.10893), Row(page='NextSong', length=94.11873), Row(page='NextSong', length=425.16853), Row(page='NextSong', length=109.45261), Row(page='NextSong', length=317.80526), Row(page='NextSong', length=118.7522), Row(page='NextSong', length=155.6371), Row(page='NextSong', length=420.51873), Row(page='NextSong', length=419.63057), Row(page='NextSong', length=38.53016), Row(page='NextSong', length=429.73995), Row(page='NextSong', length=396.72118), Row(page='NextSong', length=443.402), Row(page='NextSong', length=404.4273), Row(page='NextSong', length=339.64363), Row(page='NextSong', length=22.09914), Row(page='NextSong', length=800.83546), Row(page='NextSong', length=225.27955), Row(page='NextSong', length=225.64526), Row(page='NextSong', length=497.13587), Row(page='NextSong', length=247.66649), Row(page='NextSong', length=235.54567), Row(page='NextSong', length=274.72934), Row(page='NextSong', length=187.0624), Row(page='NextSong', length=324.75383), Row(page='NextSong', length=280.11057), Row(page='NextSong', length=169.1424), Row(page='NextSong', length=289.09669), Row(page='NextSong', length=299.80689), Row(page='NextSong', length=192.46975), Row(page='NextSong', length=229.66812), Row(page='NextSong', length=247.61424), Row(page='NextSong', length=260.10077), Row(page='NextSong', length=290.79465), Row(page='NextSong', length=126.24934), Row(page='NextSong', length=233.45587), Row(page='NextSong', length=273.21424), Row(page='NextSong', length=251.45424), Row(page='NextSong', length=219.34975), Row(page='NextSong', length=238.44526), Row(page='NextSong', length=376.31955), Row(page='NextSong', length=267.15383), Row(page='NextSong', length=536.18893), Row(page='NextSong', length=238.28853), Row(page='NextSong', length=308.58404), Row(page='NextSong', length=327.91465), Row(page='NextSong', length=448.83546), Row(page='NextSong', length=362.16118), Row(page='NextSong', length=350.98077), Row(page='NextSong', length=277.41995), Row(page='NextSong', length=281.5473), Row(page='NextSong', length=345.36444), Row(page='NextSong', length=474.48771), Row(page='NextSong', length=333.37424), Row(page='NextSong', length=302.07955), Row(page='NextSong', length=289.17506), Row(page='NextSong', length=92.682), Row(page='NextSong', length=211.22567), Row(page='NextSong', length=309.99465), Row(page='NextSong', length=172.43383), Row(page='NextSong', length=287.45098), Row(page='NextSong', length=261.32853), Row(page='NextSong', length=339.59138), Row(page='NextSong', length=196.62322), Row(page='NextSong', length=501.21098), Row(page='NextSong', length=50.12853), Row(page='NextSong', length=158.85016), Row(page='NextSong', length=87.562), Row(page='NextSong', length=129.17506), Row(page='NextSong', length=334.52363), Row(page='NextSong', length=337.65832), Row(page='NextSong', length=115.77424), Row(page='NextSong', length=380.31628), Row(page='NextSong', length=414.61506), Row(page='NextSong', length=337.00526), Row(page='NextSong', length=428.32934), Row(page='NextSong', length=325.53751), Row(page='NextSong', length=363.25832), Row(page='NextSong', length=152.16281), Row(page='NextSong', length=462.00118), Row(page='NextSong', length=436.81914), Row(page='NextSong', length=416.36526), Row(page='NextSong', length=503.66649), Row(page='NextSong', length=385.4624), Row(page='NextSong', length=301.68771), Row(page='NextSong', length=315.92444), Row(page='NextSong', length=326.68689), Row(page='NextSong', length=67.10812), Row(page='NextSong', length=816.63955), Row(page='NextSong', length=44.35546), Row(page='NextSong', length=15.90812), Row(page='NextSong', length=609.25342), Row(page='NextSong', length=43.96363), Row(page='NextSong', length=393.27302), Row(page='NextSong', length=144.19546), Row(page='NextSong', length=114.83383), Row(page='NextSong', length=56.89424), Row(page='NextSong', length=368.37832), Row(page='NextSong', length=103.49669), Row(page='NextSong', length=503.01342), Row(page='NextSong', length=343.32689), Row(page='NextSong', length=295.3922), Row(page='NextSong', length=251.16689), Row(page='NextSong', length=249.62567), Row(page='NextSong', length=365.24363), Row(page='NextSong', length=319.39873), Row(page='NextSong', length=209.18812), Row(page='NextSong', length=272.01261), Row(page='NextSong', length=223.50322), Row(page='NextSong', length=288.96608), Row(page='NextSong', length=221.962), Row(page='NextSong', length=286.1971), Row(page='NextSong', length=413.41342), Row(page='NextSong', length=295.47057), Row(page='NextSong', length=277.44608), Row(page='NextSong', length=242.38975), Row(page='NextSong', length=242.83383), Row(page='NextSong', length=239.49016), Row(page='NextSong', length=197.48526), Row(page='NextSong', length=286.79791), Row(page='NextSong', length=377.83465), Row(page='NextSong', length=156.52526), Row(page='NextSong', length=214.30812), Row(page='NextSong', length=465.44934), Row(page='NextSong', length=167.94077), Row(page='NextSong', length=254.56281), Row(page='NextSong', length=294.08608), Row(page='NextSong', length=338.31138), Row(page='NextSong', length=174.21016), Row(page='NextSong', length=165.17179), Row(page='NextSong', length=184.34567), Row(page='NextSong', length=84.06159), Row(page='NextSong', length=164.33587), Row(page='NextSong', length=554.78812), Row(page='NextSong', length=131.082), Row(page='NextSong', length=61.98812), Row(page='NextSong', length=462.91546), Row(page='NextSong', length=502.282), Row(page='NextSong', length=401.84118), Row(page='NextSong', length=343.37914), Row(page='NextSong', length=425.24689), Row(page='NextSong', length=414.1971), Row(page='NextSong', length=491.57179), Row(page='NextSong', length=77.26975), Row(page='NextSong', length=106.97098), Row(page='NextSong', length=433.03138), Row(page='NextSong', length=361.56036), Row(page='NextSong', length=411.55873), Row(page='NextSong', length=336.29995), Row(page='NextSong', length=46.57587), Row(page='NextSong', length=321.41016), Row(page='NextSong', length=653.42649), Row(page='NextSong', length=23.48363), Row(page='NextSong', length=476.81261), Row(page='NextSong', length=459.93751), Row(page='NextSong', length=342.17751), Row(page='NextSong', length=453.09342), Row(page='NextSong', length=543.81669), Row(page='NextSong', length=319.55546), Row(page='NextSong', length=610.69016), Row(page='NextSong', length=72.12363), Row(page='NextSong', length=844.40771), Row(page='NextSong', length=78.2624), Row(page='NextSong', length=549.32853), Row(page='NextSong', length=244.13995), Row(page='NextSong', length=245.9424), Row(page='NextSong', length=460.30322), Row(page='NextSong', length=196.49261), Row(page='NextSong', length=199.1571), Row(page='NextSong', length=331.17995), Row(page='NextSong', length=401.52771), Row(page='NextSong', length=141.16526), Row(page='NextSong', length=252.76036), Row(page='NextSong', length=169.50812), Row(page='NextSong', length=150.282), Row(page='NextSong', length=74.10893), Row(page='NextSong', length=189.25669), Row(page='NextSong', length=263.94077), Row(page='NextSong', length=249.41669), Row(page='NextSong', length=266.21342), Row(page='NextSong', length=139.7024), Row(page='NextSong', length=359.02649), Row(page='NextSong', length=298.00444), Row(page='NextSong', length=211.74812), Row(page='NextSong', length=296.95955), Row(page='NextSong', length=184.08444), Row(page='NextSong', length=197.0673), Row(page='NextSong', length=207.09832), Row(page='NextSong', length=239.75138), Row(page='NextSong', length=305.34485), Row(page='NextSong', length=593.8673), Row(page='NextSong', length=482.16771), Row(page='NextSong', length=282.06975), Row(page='NextSong', length=241.31873), Row(page='NextSong', length=202.03057), Row(page='NextSong', length=298.10893), Row(page='NextSong', length=437.68118), Row(page='NextSong', length=104.95955), Row(page='NextSong', length=172.69506), Row(page='NextSong', length=259.26485), Row(page='NextSong', length=346.90567), Row(page='NextSong', length=374.15138), Row(page='NextSong', length=199.07873), Row(page='NextSong', length=244.87138), Row(page='NextSong', length=276.50567), Row(page='NextSong', length=761.49506), Row(page='NextSong', length=468.32281), Row(page='NextSong', length=203.20608), Row(page='NextSong', length=305.24036), Row(page='NextSong', length=164.44036), Row(page='NextSong', length=437.002), Row(page='NextSong', length=448.41751), Row(page='NextSong', length=288.49587), Row(page='NextSong', length=178.38975), Row(page='NextSong', length=31.84281), Row(page='NextSong', length=349.09995), Row(page='NextSong', length=145.42322), Row(page='NextSong', length=130.14159), Row(page='NextSong', length=366.21016), Row(page='NextSong', length=384.93995), Row(page='NextSong', length=250.64444), Row(page='NextSong', length=36.46649), Row(page='NextSong', length=340.29669), Row(page='NextSong', length=398.94159), Row(page='NextSong', length=628.55791), Row(page='NextSong', length=392.61995), Row(page='NextSong', length=103.96689), Row(page='NextSong', length=405.86404), Row(page='NextSong', length=576.05179), Row(page='NextSong', length=42.05669), Row(page='NextSong', length=442.33098), Row(page='NextSong', length=354.7424), Row(page='NextSong', length=557.5571), Row(page='NextSong', length=339.77424), Row(page='NextSong', length=387.29098), Row(page='NextSong', length=349.02159), Row(page='NextSong', length=89.25995), Row(page='NextSong', length=320.60036), Row(page='NextSong', length=48.53506), Row(page='NextSong', length=399.98649), Row(page='NextSong', length=422.81751), Row(page='NextSong', length=365.84444), Row(page='NextSong', length=90.56608), Row(page='NextSong', length=198.19057), Row(page='NextSong', length=223.84281), Row(page='NextSong', length=222.82404), Row(page='NextSong', length=160.02567), Row(page='NextSong', length=101.69424), Row(page='NextSong', length=286.4322), Row(page='NextSong', length=218.90567), Row(page='NextSong', length=256.49587), Row(page='NextSong', length=183.58812), Row(page='NextSong', length=236.30322), Row(page='NextSong', length=152.08444), Row(page='NextSong', length=191.50322), Row(page='NextSong', length=83.19955), Row(page='NextSong', length=251.0624), Row(page='NextSong', length=144.87465), Row(page='NextSong', length=152.65914), Row(page='NextSong', length=271.62077), Row(page='NextSong', length=238.10567), Row(page='NextSong', length=169.09016), Row(page='NextSong', length=151.24853), Row(page='NextSong', length=209.13587), Row(page='NextSong', length=388.98893), Row(page='NextSong', length=125.43955), Row(page='NextSong', length=211.9571), Row(page='NextSong', length=348.08118), Row(page='NextSong', length=279.30077), Row(page='NextSong', length=331.98975), Row(page='NextSong', length=275.59138), Row(page='NextSong', length=384.07791), Row(page='NextSong', length=88.29342), Row(page='NextSong', length=644.15302), Row(page='NextSong', length=157.41342), Row(page='NextSong', length=195.81342), Row(page='NextSong', length=313.96526), Row(page='NextSong', length=254.04036), Row(page='NextSong', length=381.28281), Row(page='NextSong', length=208.01261), Row(page='NextSong', length=592.40444), Row(page='NextSong', length=305.57995), Row(page='NextSong', length=302.52363), Row(page='NextSong', length=287.08526), Row(page='NextSong', length=94.6673), Row(page='NextSong', length=269.7922), Row(page='NextSong', length=49.18812), Row(page='NextSong', length=98.19383), Row(page='NextSong', length=426.55302), Row(page='NextSong', length=542.32771), Row(page='NextSong', length=446.04036), Row(page='NextSong', length=380.44689), Row(page='NextSong', length=392.64608), Row(page='NextSong', length=1121.25342), Row(page='NextSong', length=171.65016), Row(page='NextSong', length=386.82077), Row(page='NextSong', length=327.10485), Row(page='NextSong', length=106.34404), Row(page='NextSong', length=527.67302), Row(page='NextSong', length=564.68853), Row(page='NextSong', length=445.02159), Row(page='NextSong', length=576.9922), Row(page='NextSong', length=129.38404), Row(page='NextSong', length=366.94159), Row(page='NextSong', length=161.802), Row(page='NextSong', length=6.3473), Row(page='NextSong', length=397.76608), Row(page='NextSong', length=315.402), Row(page='NextSong', length=70.53016), Row(page='NextSong', length=294.79138), Row(page='NextSong', length=233.09016), Row(page='NextSong', length=195.10812), Row(page='NextSong', length=121.33832), Row(page='NextSong', length=351.21587), Row(page='NextSong', length=22.36036), Row(page='NextSong', length=330.73587), Row(page='NextSong', length=245.31546), Row(page='NextSong', length=232.88118), Row(page='NextSong', length=217.12934), Row(page='NextSong', length=207.01995), Row(page='NextSong', length=195.47383), Row(page='NextSong', length=207.82975), Row(page='NextSong', length=157.70077), Row(page='NextSong', length=190.4322), Row(page='NextSong', length=214.64771), Row(page='NextSong', length=143.67302), Row(page='NextSong', length=201.42975), Row(page='NextSong', length=354.01098), Row(page='NextSong', length=145.91955), Row(page='NextSong', length=310.46485), Row(page='NextSong', length=270.34077), Row(page='NextSong', length=209.60608), Row(page='NextSong', length=104.07138), Row(page='NextSong', length=280.52853), Row(page='NextSong', length=407.71873), Row(page='NextSong', length=322.2722), Row(page='NextSong', length=102.5824), Row(page='NextSong', length=196.8322), Row(page='NextSong', length=248.39791), Row(page='NextSong', length=161.43628), Row(page='NextSong', length=334.28853), Row(page='NextSong', length=77.34812), Row(page='NextSong', length=151.01342), Row(page='NextSong', length=281.52118), Row(page='NextSong', length=410.43546), Row(page='NextSong', length=274.93832), Row(page='NextSong', length=185.02485), Row(page='NextSong', length=148.1922), Row(page='NextSong', length=290.32444), Row(page='NextSong', length=276.45342), Row(page='NextSong', length=202.55302), Row(page='NextSong', length=310.30812), Row(page='NextSong', length=448.44363), Row(page='NextSong', length=20.06159), Row(page='NextSong', length=74.89261), Row(page='NextSong', length=1199.59465), Row(page='NextSong', length=325.45914), Row(page='NextSong', length=426.70975), Row(page='NextSong', length=234.762), Row(page='NextSong', length=284.78649), Row(page='NextSong', length=117.96853), Row(page='NextSong', length=328.72444), Row(page='NextSong', length=271.56853), Row(page='NextSong', length=75.31057), Row(page='NextSong', length=452.8322), Row(page='NextSong', length=84.87138), Row(page='NextSong', length=96.93995), Row(page='NextSong', length=314.17424), Row(page='NextSong', length=158.79791), Row(page='NextSong', length=362.97098), Row(page='NextSong', length=469.7073), Row(page='NextSong', length=75.36281), Row(page='NextSong', length=513.802), Row(page='NextSong', length=387.082), Row(page='NextSong', length=463.56853), Row(page='NextSong', length=92.83873), Row(page='NextSong', length=818.75546), Row(page='NextSong', length=505.23383), Row(page='NextSong', length=116.29669), Row(page='NextSong', length=76.35546), Row(page='NextSong', length=585.42975), Row(page='NextSong', length=360.22812), Row(page='NextSong', length=55.06567), Row(page='NextSong', length=336.56118), Row(page='NextSong', length=367.98649), Row(page='NextSong', length=154.22649), Row(page='NextSong', length=272.40444), Row(page='NextSong', length=272.45669), Row(page='NextSong', length=191.42485), Row(page='NextSong', length=216.31955), Row(page='NextSong', length=288.9922), Row(page='NextSong', length=266.1873), Row(page='NextSong', length=273.99791), Row(page='NextSong', length=449.33179), Row(page='NextSong', length=297.58649), Row(page='NextSong', length=312.21506), Row(page='NextSong', length=197.66812), Row(page='NextSong', length=140.64281), Row(page='NextSong', length=219.03628), Row(page='NextSong', length=198.66077), Row(page='NextSong', length=319.4771), Row(page='NextSong', length=206.65424), Row(page='NextSong', length=216.68526), Row(page='NextSong', length=304.48281), Row(page='NextSong', length=165.85098), Row(page='NextSong', length=167.8624), Row(page='NextSong', length=333.06077), Row(page='NextSong', length=299.54567), Row(page='NextSong', length=348.89098), Row(page='NextSong', length=142.94159), Row(page='NextSong', length=244.40118), Row(page='NextSong', length=298.57914), Row(page='NextSong', length=242.1024), Row(page='NextSong', length=169.37751), Row(page='NextSong', length=132.91057), Row(page='NextSong', length=458.05669), Row(page='NextSong', length=101.09342), Row(page='NextSong', length=599.11791), Row(page='NextSong', length=264.30649), Row(page='NextSong', length=220.682), Row(page='NextSong', length=26.93179), Row(page='NextSong', length=272.19546), Row(page='NextSong', length=277.08036), Row(page='NextSong', length=71.99302), Row(page='NextSong', length=350.30159), Row(page='NextSong', length=161.04444), Row(page='NextSong', length=405.91628), Row(page='NextSong', length=344.18893), Row(page='NextSong', length=419.39546), Row(page='NextSong', length=125.51791), Row(page='NextSong', length=114.28526), Row(page='NextSong', length=158.37995), Row(page='NextSong', length=322.87302), Row(page='NextSong', length=599.30077), Row(page='NextSong', length=306.33751), Row(page='NextSong', length=365.66159), Row(page='NextSong', length=305.26649), Row(page='NextSong', length=1278.22322), Row(page='NextSong', length=387.60444), Row(page='NextSong', length=681.482), Row(page='NextSong', length=415.97342), Row(page='NextSong', length=141.45261), Row(page='NextSong', length=102.79138), Row(page='NextSong', length=459.65016), Row(page='NextSong', length=113.76281), Row(page='NextSong', length=354.32444), Row(page='NextSong', length=344.65914), Row(page='NextSong', length=15.38567), Row(page='NextSong', length=489.53424), Row(page='NextSong', length=283.53261), Row(page='NextSong', length=419.70893), Row(page='NextSong', length=28.02893), Row(page='NextSong', length=485.8771), Row(page='NextSong', length=119.61424), Row(page='NextSong', length=408.89424), Row(page='NextSong', length=82.99057), Row(page='NextSong', length=330.81424), Row(page='NextSong', length=55.66649), Row(page='NextSong', length=260.46649), Row(page='NextSong', length=202.13506), Row(page='NextSong', length=283.66322), Row(page='NextSong', length=333.03465), Row(page='NextSong', length=322.89914), Row(page='NextSong', length=221.70077), Row(page='NextSong', length=298.78812), Row(page='NextSong', length=229.14567), Row(page='NextSong', length=261.11955), Row(page='NextSong', length=302.99383), Row(page='NextSong', length=329.29914), Row(page='NextSong', length=131.3171), Row(page='NextSong', length=104.98567), Row(page='NextSong', length=272.14322), Row(page='NextSong', length=315.81995), Row(page='NextSong', length=279.82322), Row(page='NextSong', length=316.26404), Row(page='NextSong', length=206.10567), Row(page='NextSong', length=260.88444), Row(page='NextSong', length=277.57669), Row(page='NextSong', length=210.38975), Row(page='NextSong', length=270.52363), Row(page='NextSong', length=363.31057), Row(page='NextSong', length=180.06159), Row(page='NextSong', length=460.2771), Row(page='NextSong', length=313.41669), Row(page='NextSong', length=265.11628), Row(page='NextSong', length=109.92281), Row(page='NextSong', length=241.3971), Row(page='NextSong', length=269.06077), Row(page='NextSong', length=226.32444), Row(page='NextSong', length=244.71465), Row(page='NextSong', length=382.11873), Row(page='NextSong', length=397.06077), Row(page='NextSong', length=120.42404), Row(page='NextSong', length=398.2624), Row(page='NextSong', length=387.49995), Row(page='NextSong', length=416.522), Row(page='NextSong', length=419.29098), Row(page='NextSong', length=149.08036), Row(page='NextSong', length=338.62485), Row(page='NextSong', length=128.41751), Row(page='NextSong', length=53.99465), Row(page='NextSong', length=391.96689), Row(page='NextSong', length=344.39791), Row(page='NextSong', length=152.92036), Row(page='NextSong', length=602.80118), Row(page='NextSong', length=128.39138), Row(page='NextSong', length=135.60118), Row(page='NextSong', length=180.74077), Row(page='NextSong', length=501.13261), Row(page='NextSong', length=366.8371), Row(page='NextSong', length=373.7073), Row(page='NextSong', length=141.76608), Row(page='NextSong', length=512.522), Row(page='NextSong', length=470.83057), Row(page='NextSong', length=537.91302), Row(page='NextSong', length=85.60281), Row(page='NextSong', length=166.21669), Row(page='NextSong', length=337.03138), Row(page='NextSong', length=109.26975), Row(page='NextSong', length=85.02812), Row(page='NextSong', length=130.95138), Row(page='NextSong', length=525.00853), Row(page='NextSong', length=328.25424), Row(page='NextSong', length=143.85587), Row(page='NextSong', length=326.922), Row(page='NextSong', length=552.48934), Row(page='NextSong', length=418.89914), Row(page='NextSong', length=432.16934), Row(page='NextSong', length=201.7171), Row(page='NextSong', length=755.43465), Row(page='NextSong', length=189.85751), Row(page='NextSong', length=196.93669), Row(page='NextSong', length=220.52526), Row(page='NextSong', length=168.46322), Row(page='NextSong', length=263.60118), Row(page='NextSong', length=146.442), Row(page='NextSong', length=126.82404), Row(page='NextSong', length=274.49424), Row(page='NextSong', length=313.39057), Row(page='NextSong', length=247.69261), Row(page='NextSong', length=371.35628), Row(page='NextSong', length=245.28934), Row(page='NextSong', length=223.97342), Row(page='NextSong', length=214.15138), Row(page='NextSong', length=187.19302), Row(page='NextSong', length=406.17751), Row(page='NextSong', length=84.13995), Row(page='NextSong', length=223.39873), Row(page='NextSong', length=202.29179), Row(page='NextSong', length=138.13506), Row(page='NextSong', length=242.28526), Row(page='NextSong', length=195.082), Row(page='NextSong', length=259.21261), Row(page='NextSong', length=137.19465), Row(page='NextSong', length=355.52608), Row(page='NextSong', length=264.07138), Row(page='NextSong', length=75.02322), Row(page='NextSong', length=351.81669), Row(page='NextSong', length=353.74975), Row(page='NextSong', length=457.76934), Row(page='NextSong', length=245.18485), Row(page='NextSong', length=328.95955), Row(page='NextSong', length=279.90159), Row(page='NextSong', length=224.33914), Row(page='NextSong', length=137.24689), Row(page='NextSong', length=166.76526), Row(page='NextSong', length=99.60444), Row(page='NextSong', length=219.68934), Row(page='NextSong', length=93.72689), Row(page='NextSong', length=537.86077), Row(page='NextSong', length=363.62404), Row(page='NextSong', length=195.68281), Row(page='NextSong', length=252.31628), Row(page='NextSong', length=348.13342), Row(page='NextSong', length=33.69751), Row(page='NextSong', length=74.65751), Row(page='NextSong', length=358.97424), Row(page='NextSong', length=178.41587), Row(page='NextSong', length=202.89261), Row(page='NextSong', length=620.85179), Row(page='NextSong', length=151.69261), Row(page='NextSong', length=328.54159), Row(page='NextSong', length=106.63138), Row(page='NextSong', length=459.33669), Row(page='NextSong', length=572.70812), Row(page='NextSong', length=376.0322), Row(page='NextSong', length=365.37424), Row(page='NextSong', length=273.08363), Row(page='NextSong', length=94.37995), Row(page='NextSong', length=582.73914), Row(page='NextSong', length=68.98893), Row(page='NextSong', length=412.21179), Row(page='NextSong', length=555.4673), Row(page='NextSong', length=125.3873), Row(page='NextSong', length=346.27873), Row(page='NextSong', length=74.00444), Row(page='NextSong', length=390.19057), Row(page='NextSong', length=313.80853), Row(page='NextSong', length=297.7171), Row(page='NextSong', length=327.65342), Row(page='NextSong', length=1017.73016), Row(page='NextSong', length=416.86159), Row(page='NextSong', length=330.63138), Row(page='NextSong', length=543.29424), Row(page='NextSong', length=403.51302), Row(page='NextSong', length=69.51138), Row(page='NextSong', length=357.40689), Row(page='NextSong', length=348.57751), Row(page='NextSong', length=390.13832), Row(page='NextSong', length=199.33995), Row(page='NextSong', length=272.87465), Row(page='NextSong', length=259.99628), Row(page='NextSong', length=224.05179), Row(page='NextSong', length=187.53261), Row(page='NextSong', length=250.51383), Row(page='NextSong', length=371.53914), Row(page='NextSong', length=218.87955), Row(page='NextSong', length=441.05098), Row(page='NextSong', length=237.34812), Row(page='NextSong', length=383.34649), Row(page='NextSong', length=304.40444), Row(page='NextSong', length=260.85832), Row(page='NextSong', length=229.04118), Row(page='NextSong', length=206.15791), Row(page='NextSong', length=195.02975), Row(page='NextSong', length=238.13179), Row(page='NextSong', length=280.31955), Row(page='NextSong', length=341.78567), Row(page='NextSong', length=184.68526), Row(page='NextSong', length=236.25098), Row(page='NextSong', length=430.44526), Row(page='NextSong', length=200.46322), Row(page='NextSong', length=184.42404), Row(page='NextSong', length=323.76118), Row(page='NextSong', length=277.52444), Row(page='NextSong', length=261.58975), Row(page='NextSong', length=357.01506), Row(page='NextSong', length=625.47546), Row(page='NextSong', length=70.50404), Row(page='NextSong', length=274.54649), Row(page='NextSong', length=241.50159), Row(page='NextSong', length=127.68608), Row(page='NextSong', length=405.41995), Row(page='NextSong', length=162.0371), Row(page='NextSong', length=157.12608), Row(page='NextSong', length=148.50567), Row(page='NextSong', length=72.61995), Row(page='NextSong', length=219.92444), Row(page='NextSong', length=157.1522), Row(page='NextSong', length=39.60118), Row(page='NextSong', length=224.39138), Row(page='NextSong', length=672.57424), Row(page='NextSong', length=285.1522), Row(page='NextSong', length=376.97261), Row(page='NextSong', length=241.44934), Row(page='NextSong', length=292.93669), Row(page='NextSong', length=457.16853), Row(page='NextSong', length=401.3971), Row(page='NextSong', length=112.03873), Row(page='NextSong', length=286.45832), Row(page='NextSong', length=351.45098), Row(page='NextSong', length=84.71465), Row(page='NextSong', length=82.52036), Row(page='NextSong', length=61.64853), Row(page='NextSong', length=408.24118), Row(page='NextSong', length=297.74322), Row(page='NextSong', length=353.802), Row(page='NextSong', length=140.25098), Row(page='NextSong', length=343.11791), Row(page='NextSong', length=357.92934), Row(page='NextSong', length=154.04363), Row(page='NextSong', length=138.03057), Row(page='NextSong', length=401.97179), Row(page='NextSong', length=44.40771), Row(page='NextSong', length=463.41179), Row(page='NextSong', length=407.84934), Row(page='NextSong', length=417.12281), Row(page='NextSong', length=350.9024), Row(page='NextSong', length=322.95138), Row(page='NextSong', length=337.42322), Row(page='NextSong', length=122.90567), Row(page='NextSong', length=411.402), Row(page='NextSong', length=491.28444), Row(page='NextSong', length=195.83955), Row(page='NextSong', length=232.69832), Row(page='NextSong', length=287.81669), Row(page='NextSong', length=359.13098), Row(page='NextSong', length=200.07138), Row(page='NextSong', length=160.1824), Row(page='NextSong', length=263.23546), Row(page='NextSong', length=346.69669), Row(page='NextSong', length=152.24118), Row(page='NextSong', length=352.62649), Row(page='NextSong', length=318.17098), Row(page='NextSong', length=157.33506), Row(page='NextSong', length=208.8224), Row(page='NextSong', length=129.802), Row(page='NextSong', length=209.68444), Row(page='NextSong', length=432.53506), Row(page='NextSong', length=206.13179), Row(page='NextSong', length=148.6624), Row(page='NextSong', length=252.36853), Row(page='NextSong', length=272.09098), Row(page='NextSong', length=203.65016), Row(page='NextSong', length=146.05016), Row(page='NextSong', length=212.40118), Row(page='NextSong', length=180.84526), Row(page='NextSong', length=235.91138), Row(page='NextSong', length=163.7873), Row(page='NextSong', length=169.16853), Row(page='NextSong', length=195.18649), Row(page='NextSong', length=304.09098), Row(page='NextSong', length=140.69506), Row(page='NextSong', length=582.1122), Row(page='NextSong', length=246.15138), Row(page='NextSong', length=216.63302), Row(page='NextSong', length=188.682), Row(page='NextSong', length=97.30567), Row(page='NextSong', length=338.75546), Row(page='NextSong', length=184.05832), Row(page='NextSong', length=57.15546), Row(page='NextSong', length=463.25506), Row(page='NextSong', length=414.9024), Row(page='NextSong', length=284.44689), Row(page='NextSong', length=148.71465), Row(page='NextSong', length=147.06893), Row(page='NextSong', length=455.07873), Row(page='NextSong', length=309.68118), Row(page='NextSong', length=136.61995), Row(page='NextSong', length=320.93995), Row(page='NextSong', length=281.49506), Row(page='NextSong', length=346.53995), Row(page='NextSong', length=461.58322), Row(page='NextSong', length=437.78567), Row(page='NextSong', length=413.49179), Row(page='NextSong', length=400.71791), Row(page='NextSong', length=98.58567), Row(page='NextSong', length=296.69832), Row(page='NextSong', length=880.56118), Row(page='NextSong', length=676.23138), Row(page='NextSong', length=168.51546), Row(page='NextSong', length=77.5571), Row(page='NextSong', length=109.11302), Row(page='NextSong', length=345.91302), Row(page='NextSong', length=542.1971), Row(page='NextSong', length=101.04118), Row(page='NextSong', length=404.06159), Row(page='NextSong', length=563.64363), Row(page='NextSong', length=645.66812), Row(page='NextSong', length=612.362), Row(page='NextSong', length=364.25098), Row(page='NextSong', length=390.55628), Row(page='NextSong', length=441.41669), Row(page='NextSong', length=36.93669), Row(page='NextSong', length=318.77179), Row(page='NextSong', length=384.96608), Row(page='NextSong', length=497.21424), Row(page='NextSong', length=448.07791), Row(page='NextSong', length=144.71791), Row(page='NextSong', length=444.42077), Row(page='NextSong', length=514.37669), Row(page='NextSong', length=337.97179), Row(page='NextSong', length=403.66975), Row(page='NextSong', length=62.82404), Row(page='NextSong', length=391.02649), Row(page='NextSong', length=58.14812), Row(page='NextSong', length=35.63057), Row(page='NextSong', length=194.0371), Row(page='NextSong', length=208.66567), Row(page='NextSong', length=231.8624), Row(page='NextSong', length=197.09342), Row(page='NextSong', length=267.44118), Row(page='NextSong', length=244.24444), Row(page='NextSong', length=255.55546), Row(page='NextSong', length=260.67546), Row(page='NextSong', length=499.06893), Row(page='NextSong', length=258.16771), Row(page='NextSong', length=333.21751), Row(page='NextSong', length=243.33016), Row(page='NextSong', length=194.63791), Row(page='NextSong', length=256.05179), Row(page='NextSong', length=239.82975), Row(page='NextSong', length=395.83302), Row(page='NextSong', length=475.03628), Row(page='NextSong', length=183.11791), Row(page='NextSong', length=232.56771), Row(page='NextSong', length=246.85669), Row(page='NextSong', length=188.00281), Row(page='NextSong', length=228.67546), Row(page='NextSong', length=116.74077), Row(page='NextSong', length=304.3522), Row(page='NextSong', length=212.94975), Row(page='NextSong', length=239.01995), Row(page='NextSong', length=171.78077), Row(page='NextSong', length=382.85016), Row(page='NextSong', length=321.82812), Row(page='NextSong', length=222.40608), Row(page='NextSong', length=367.12444), Row(page='NextSong', length=200.28036), Row(page='NextSong', length=178.49424), Row(page='NextSong', length=318.82404), Row(page='NextSong', length=479.29424), Row(page='NextSong', length=187.21914), Row(page='NextSong', length=134.37342), Row(page='NextSong', length=337.57995), Row(page='NextSong', length=266.39628), Row(page='NextSong', length=329.58649), Row(page='NextSong', length=606.06649), Row(page='NextSong', length=352.10404), Row(page='NextSong', length=369.81506), Row(page='NextSong', length=310.77832), Row(page='NextSong', length=282.74893), Row(page='NextSong', length=196.85832), Row(page='NextSong', length=160.7571), Row(page='NextSong', length=120.99873), Row(page='NextSong', length=439.03955), Row(page='NextSong', length=131.13424), Row(page='NextSong', length=120.11057), Row(page='NextSong', length=1071.882), Row(page='NextSong', length=42.08281), Row(page='NextSong', length=390.00771), Row(page='NextSong', length=282.93179), Row(page='NextSong', length=146.07628), Row(page='NextSong', length=292.85832), Row(page='NextSong', length=440.78975), Row(page='NextSong', length=253.43955), Row(page='NextSong', length=98.84689), Row(page='NextSong', length=146.96444), Row(page='NextSong', length=116.08771), Row(page='NextSong', length=200.33261), Row(page='NextSong', length=54.43873), Row(page='NextSong', length=477.02159), Row(page='NextSong', length=363.67628), Row(page='NextSong', length=325.35465), Row(page='NextSong', length=136.75057), Row(page='NextSong', length=274.02404), Row(page='NextSong', length=310.7522), Row(page='NextSong', length=87.35302), Row(page='NextSong', length=112.27383), Row(page='NextSong', length=296.46322), Row(page='NextSong', length=369.68444), Row(page='NextSong', length=437.99465), Row(page='NextSong', length=373.49832), Row(page='NextSong', length=551.3922), Row(page='NextSong', length=439.2224), Row(page='NextSong', length=250.20036), Row(page='NextSong', length=30.92853), Row(page='NextSong', length=385.72363), Row(page='NextSong', length=494.96771), Row(page='NextSong', length=1029.642), Row(page='NextSong', length=340.76689), Row(page='NextSong', length=502.90893), Row(page='NextSong', length=446.32771), Row(page='NextSong', length=119.35302), Row(page='NextSong', length=420.62322), Row(page='NextSong', length=32.28689), Row(page='NextSong', length=430.10567), Row(page='NextSong', length=519.41832), Row(page='NextSong', length=554.60526), Row(page='NextSong', length=448.05179), Row(page='NextSong', length=81.91955), Row(page='NextSong', length=119.71873), Row(page='NextSong', length=248.58077), Row(page='NextSong', length=177.50159), Row(page='NextSong', length=183.64036), Row(page='NextSong', length=222.24934), Row(page='NextSong', length=232.202), Row(page='NextSong', length=371.66975), Row(page='NextSong', length=246.04689), Row(page='NextSong', length=243.53914), Row(page='NextSong', length=219.74159), Row(page='NextSong', length=240.74404), Row(page='NextSong', length=204.48608), Row(page='NextSong', length=206.18404), Row(page='NextSong', length=439.77098), Row(page='NextSong', length=1141.52444), Row(page='NextSong', length=304.77016), Row(page='NextSong', length=314.51383), Row(page='NextSong', length=219.53261), Row(page='NextSong', length=175.22893), Row(page='NextSong', length=271.01995), Row(page='NextSong', length=306.28526), Row(page='NextSong', length=327.54893), Row(page='NextSong', length=287.7122), Row(page='NextSong', length=194.53342), Row(page='NextSong', length=194.06322), Row(page='NextSong', length=276.4273), Row(page='NextSong', length=734.53669), Row(page='NextSong', length=260.362), Row(page='NextSong', length=227.94404), Row(page='NextSong', length=430.34077), Row(page='NextSong', length=321.93261), Row(page='NextSong', length=166.24281), Row(page='NextSong', length=430.86322), Row(page='NextSong', length=473.41669), Row(page='NextSong', length=339.9571), Row(page='NextSong', length=406.5171), Row(page='NextSong', length=229.19791), Row(page='NextSong', length=250.80118), Row(page='NextSong', length=127.00689), Row(page='NextSong', length=592.06485), Row(page='NextSong', length=49.26649), Row(page='NextSong', length=381.41342), Row(page='NextSong', length=130.40281), Row(page='NextSong', length=366.23628), Row(page='NextSong', length=317.12608), Row(page='NextSong', length=267.88526), Row(page='NextSong', length=331.41506), Row(page='NextSong', length=404.53179), Row(page='NextSong', length=285.98812), Row(page='NextSong', length=106.08281), Row(page='NextSong', length=337.13587), Row(page='NextSong', length=329.22077), Row(page='NextSong', length=122.77506), Row(page='NextSong', length=315.6371), Row(page='NextSong', length=70.08608), Row(page='NextSong', length=351.79057), Row(page='NextSong', length=178.1024), Row(page='NextSong', length=120.97261), Row(page='NextSong', length=71.8624), Row(page='NextSong', length=517.90322), Row(page='NextSong', length=123.89832), Row(page='NextSong', length=411.29751), Row(page='NextSong', length=334.2624), Row(page='NextSong', length=29.90975), Row(page='NextSong', length=622.15791), Row(page='NextSong', length=409.80853), Row(page='NextSong', length=366.65424), Row(page='NextSong', length=11.25832), Row(page='NextSong', length=79.77751), Row(page='NextSong', length=390.08608), Row(page='NextSong', length=176.03873), Row(page='NextSong', length=679.81016), Row(page='NextSong', length=361.76934), Row(page='NextSong', length=91.71546), Row(page='NextSong', length=303.41179), Row(page='NextSong', length=147.3824), Row(page='NextSong', length=516.17914), Row(page='NextSong', length=621.87057), Row(page='NextSong', length=505.33832), Row(page='NextSong', length=664.0322), Row(page='NextSong', length=459.72853), Row(page='NextSong', length=233.32526), Row(page='NextSong', length=218.04363), Row(page='NextSong', length=138.44853), Row(page='NextSong', length=168.12363), Row(page='NextSong', length=220.39465), Row(page='NextSong', length=235.36281), Row(page='NextSong', length=234.86649), Row(page='NextSong', length=286.30159), Row(page='NextSong', length=215.11791), Row(page='NextSong', length=329.79546), Row(page='NextSong', length=130.45506), Row(page='NextSong', length=261.82485), Row(page='NextSong', length=187.66322), Row(page='NextSong', length=978.442), Row(page='NextSong', length=254.79791), Row(page='NextSong', length=160.23465), Row(page='NextSong', length=257.43628), Row(page='NextSong', length=422.16444), Row(page='NextSong', length=176.19546), Row(page='NextSong', length=267.54567), Row(page='NextSong', length=233.63873), Row(page='NextSong', length=250.122), Row(page='NextSong', length=222.77179), Row(page='NextSong', length=371.43465), Row(page='NextSong', length=300.77342), Row(page='NextSong', length=434.41587), Row(page='NextSong', length=262.26893), Row(page='NextSong', length=427.31057), Row(page='NextSong', length=43.51955), Row(page='NextSong', length=662.90893), Row(page='NextSong', length=293.48526), Row(page='NextSong', length=264.4371), Row(page='NextSong', length=351.29424), Row(page='NextSong', length=229.95546), Row(page='NextSong', length=656.97914), Row(page='NextSong', length=263.10485), Row(page='NextSong', length=272.97914), Row(page='NextSong', length=163.44771), Row(page='NextSong', length=408.97261), Row(page='NextSong', length=104.09751), Row(page='NextSong', length=415.79057), Row(page='NextSong', length=140.9824), Row(page='NextSong', length=287.86893), Row(page='NextSong', length=388.64934), Row(page='NextSong', length=337.162), Row(page='NextSong', length=150.22975), Row(page='NextSong', length=291.13424), Row(page='NextSong', length=11.49342), Row(page='NextSong', length=284.23791), Row(page='NextSong', length=52.13995), Row(page='NextSong', length=92.9171), Row(page='NextSong', length=145.81506), Row(page='NextSong', length=89.36444), Row(page='NextSong', length=1147.71546), Row(page='NextSong', length=156.29016), Row(page='NextSong', length=414.69342), Row(page='NextSong', length=452.20526), Row(page='NextSong', length=354.2722), Row(page='NextSong', length=130.76853), Row(page='NextSong', length=298.05669), Row(page='NextSong', length=121.18159), Row(page='NextSong', length=315.68934), Row(page='NextSong', length=323.26485), Row(page='NextSong', length=73.89995), Row(page='NextSong', length=163.39546), Row(page='NextSong', length=370.25914), Row(page='NextSong', length=155.71546), Row(page='NextSong', length=117.73342), Row(page='NextSong', length=589.37424), Row(page='NextSong', length=571.11465), Row(page='NextSong', length=154.61832), Row(page='NextSong', length=163.16036), Row(page='NextSong', length=552.95955), Row(page='NextSong', length=272.95302), Row(page='NextSong', length=300.85179), Row(page='NextSong', length=225.51465), Row(page='NextSong', length=240.43057), Row(page='NextSong', length=146.25914), Row(page='NextSong', length=229.98159), Row(page='NextSong', length=208.97914), Row(page='NextSong', length=175.17669), Row(page='NextSong', length=228.46649), Row(page='NextSong', length=74.31791), Row(page='NextSong', length=179.85261), Row(page='NextSong', length=212.87138), Row(page='NextSong', length=284.21179), Row(page='NextSong', length=153.52118), Row(page='NextSong', length=133.22404), Row(page='NextSong', length=334.34077), Row(page='NextSong', length=257.59302), Row(page='NextSong', length=242.52036), Row(page='NextSong', length=317.54404), Row(page='NextSong', length=281.93914), Row(page='NextSong', length=326.86975), Row(page='NextSong', length=342.30812), Row(page='NextSong', length=123.95057), Row(page='NextSong', length=325.27628), Row(page='NextSong', length=271.82975), Row(page='NextSong', length=147.722), Row(page='NextSong', length=560.22159), Row(page='NextSong', length=417.69751), Row(page='NextSong', length=424.4371), Row(page='NextSong', length=241.18812), Row(page='NextSong', length=491.98975), Row(page='NextSong', length=255.4771), Row(page='NextSong', length=163.47383), Row(page='NextSong', length=266.81424), Row(page='NextSong', length=286.40608), Row(page='NextSong', length=181.31546), Row(page='NextSong', length=93.77914), Row(page='NextSong', length=349.17832), Row(page='NextSong', length=41.11628), Row(page='NextSong', length=243.27791), Row(page='NextSong', length=232.4371), Row(page='NextSong', length=444.47302), Row(page='NextSong', length=410.74893), Row(page='NextSong', length=408.86812), Row(page='NextSong', length=278.12526), Row(page='NextSong', length=424.17587), Row(page='NextSong', length=307.35628), Row(page='NextSong', length=245.21098), Row(page='NextSong', length=483.83955), Row(page='NextSong', length=213.10649), Row(page='NextSong', length=115.61751), Row(page='NextSong', length=401.68444), Row(page='NextSong', length=344.99873), Row(page='NextSong', length=527.882), Row(page='NextSong', length=471.45751), Row(page='NextSong', length=426.4224), Row(page='NextSong', length=466.70322), Row(page='NextSong', length=561.00526), Row(page='NextSong', length=438.02077), Row(page='NextSong', length=333.73995), Row(page='NextSong', length=716.77342), Row(page='NextSong', length=498.9122), Row(page='NextSong', length=623.90812), Row(page='NextSong', length=162.66404), Row(page='NextSong', length=158.87628), Row(page='NextSong', length=363.28444), Row(page='NextSong', length=100.67546), Row(page='NextSong', length=333.45261), Row(page='NextSong', length=61.12608), Row(page='NextSong', length=449.35791), Row(page='NextSong', length=398.65424), Row(page='NextSong', length=573.04771), Row(page='NextSong', length=445.70077), Row(page='NextSong', length=441.91302), Row(page='NextSong', length=329.92608), Row(page='NextSong', length=58.98404), Row(page='NextSong', length=277.15873), Row(page='NextSong', length=279.48363), Row(page='NextSong', length=289.4624), Row(page='NextSong', length=284.3424), Row(page='NextSong', length=279.09179), Row(page='NextSong', length=195.99628), Row(page='NextSong', length=162.76853), Row(page='NextSong', length=363.38893), Row(page='NextSong', length=192.86159), Row(page='NextSong', length=279.14404), Row(page='NextSong', length=116.40118), Row(page='NextSong', length=277.10649), Row(page='NextSong', length=283.14077), Row(page='NextSong', length=115.66975), Row(page='NextSong', length=535.71873), Row(page='NextSong', length=267.12771), Row(page='NextSong', length=259.02975), Row(page='NextSong', length=255.68608), Row(page='NextSong', length=90.22649), Row(page='NextSong', length=37.66812), Row(page='NextSong', length=368.79628), Row(page='NextSong', length=311.19628), Row(page='NextSong', length=206.36689), Row(page='NextSong', length=151.53587), Row(page='NextSong', length=161.14893), Row(page='NextSong', length=156.94322), Row(page='NextSong', length=179.06893), Row(page='NextSong', length=265.84771), Row(page='NextSong', length=159.68608), Row(page='NextSong', length=248.76363), Row(page='NextSong', length=321.2273), Row(page='NextSong', length=334.62812), Row(page='NextSong', length=162.92526), Row(page='NextSong', length=431.25506), Row(page='NextSong', length=375.97995), Row(page='NextSong', length=213.41995), Row(page='NextSong', length=350.58893), Row(page='NextSong', length=385.43628), Row(page='NextSong', length=367.41179), Row(page='NextSong', length=245.4722), Row(page='NextSong', length=165.82485), Row(page='NextSong', length=378.122), Row(page='NextSong', length=64.1824), Row(page='NextSong', length=307.22567), Row(page='NextSong', length=424.25424), Row(page='NextSong', length=19.64363), Row(page='NextSong', length=147.43465), Row(page='NextSong', length=364.14649), Row(page='NextSong', length=477.54404), Row(page='NextSong', length=376.68526), Row(page='NextSong', length=335.22893), Row(page='NextSong', length=422.00771), Row(page='NextSong', length=348.70812), Row(page='NextSong', length=50.46812), Row(page='NextSong', length=347.95057), Row(page='NextSong', length=616.41098), Row(page='NextSong', length=326.03383), Row(page='NextSong', length=85.57669), Row(page='NextSong', length=353.12281), Row(page='NextSong', length=578.61179), Row(page='NextSong', length=408.0322), Row(page='NextSong', length=455.26159), Row(page='NextSong', length=138.57914), Row(page='NextSong', length=1077.26322), Row(page='NextSong', length=460.09424), Row(page='NextSong', length=173.60934), Row(page='NextSong', length=354.87302), Row(page='NextSong', length=129.43628), Row(page='NextSong', length=77.13914), Row(page='NextSong', length=121.7824), Row(page='NextSong', length=86.90893), Row(page='NextSong', length=430.70649), Row(page='NextSong', length=420.15302), Row(page='NextSong', length=185.44281), Row(page='NextSong', length=208.84853), Row(page='NextSong', length=163.18649), Row(page='NextSong', length=201.97832), Row(page='NextSong', length=238.47138), Row(page='NextSong', length=280.39791), Row(page='NextSong', length=151.562), Row(page='NextSong', length=205.63546), Row(page='NextSong', length=105.22077), Row(page='NextSong', length=184.37179), Row(page='NextSong', length=235.33669), Row(page='NextSong', length=201.92608), Row(page='NextSong', length=358.19057), Row(page='NextSong', length=318.4322), Row(page='NextSong', length=274.65098), Row(page='NextSong', length=261.40689), Row(page='NextSong', length=474.67057), Row(page='NextSong', length=164.38812), Row(page='NextSong', length=199.10485), Row(page='NextSong', length=267.93751), Row(page='NextSong', length=306.05016), Row(page='NextSong', length=239.12444), Row(page='NextSong', length=197.40689), Row(page='NextSong', length=209.21424), Row(page='NextSong', length=338.36363), Row(page='NextSong', length=153.73016), Row(page='NextSong', length=219.48036), Row(page='NextSong', length=254.11873), Row(page='NextSong', length=326.71302), Row(page='NextSong', length=328.46322), Row(page='NextSong', length=232.01914), Row(page='NextSong', length=380.682), Row(page='NextSong', length=155.27138), Row(page='NextSong', length=264.98567), Row(page='NextSong', length=92.65587), Row(page='NextSong', length=286.04036), Row(page='NextSong', length=195.63057), Row(page='NextSong', length=144.56118), Row(page='NextSong', length=146.52036), Row(page='NextSong', length=120.16281), Row(page='NextSong', length=344.00608), Row(page='NextSong', length=358.05995), Row(page='NextSong', length=225.04444), Row(page='NextSong', length=238.94159), Row(page='NextSong', length=310.04689), Row(page='NextSong', length=219.42812), Row(page='NextSong', length=291.26485), Row(page='NextSong', length=129.48853), Row(page='NextSong', length=159.50322), Row(page='NextSong', length=109.40036), Row(page='NextSong', length=158.24934), Row(page='NextSong', length=186.56608), Row(page='NextSong', length=87.84934), Row(page='NextSong', length=133.8771), Row(page='NextSong', length=331.54567), Row(page='NextSong', length=391.54893), Row(page='NextSong', length=118.49098), Row(page='NextSong', length=244.16608), Row(page='NextSong', length=163.52608), Row(page='NextSong', length=380.08118), Row(page='NextSong', length=387.34322), Row(page='NextSong', length=116.92363), Row(page='NextSong', length=531.9571), Row(page='NextSong', length=324.93669), Row(page='NextSong', length=315.37587), Row(page='NextSong', length=412.682), Row(page='NextSong', length=312.86812), Row(page='NextSong', length=306.99057), Row(page='NextSong', length=261.66812), Row(page='NextSong', length=350.35383), Row(page='NextSong', length=565.21098), Row(page='NextSong', length=321.95873), Row(page='NextSong', length=323.39546), Row(page='NextSong', length=311.2224), Row(page='NextSong', length=64.57424), Row(page='NextSong', length=48.14322), Row(page='NextSong', length=867.81342), Row(page='NextSong', length=386.40281), Row(page='NextSong', length=605.1522), Row(page='NextSong', length=1239.95383), Row(page='NextSong', length=360.80281), Row(page='NextSong', length=400.92689), Row(page='NextSong', length=652.85179), Row(page='NextSong', length=232.61995), Row(page='NextSong', length=264.09751), Row(page='NextSong', length=235.59791), Row(page='NextSong', length=319.37261), Row(page='NextSong', length=157.88363), Row(page='NextSong', length=129.4624), Row(page='NextSong', length=194.84689), Row(page='NextSong', length=205.06077), Row(page='NextSong', length=217.86077), Row(page='NextSong', length=241.81506), Row(page='NextSong', length=307.53914), Row(page='NextSong', length=142.73261), Row(page='NextSong', length=222.11873), Row(page='NextSong', length=203.25832), Row(page='NextSong', length=197.45914), Row(page='NextSong', length=132.33587), Row(page='NextSong', length=157.67465), Row(page='NextSong', length=172.19873), Row(page='NextSong', length=206.54975), Row(page='NextSong', length=317.09995), Row(page='NextSong', length=298.86649), Row(page='NextSong', length=361.35138), Row(page='NextSong', length=205.34812), Row(page='NextSong', length=183.24853), Row(page='NextSong', length=734.37995), Row(page='NextSong', length=577.07057), Row(page='NextSong', length=541.67465), Row(page='NextSong', length=451.05587), Row(page='NextSong', length=320.20853), Row(page='NextSong', length=404.89751), Row(page='NextSong', length=270.47138), Row(page='NextSong', length=132.41424), Row(page='NextSong', length=509.72689), Row(page='NextSong', length=413.64853), Row(page='NextSong', length=326.47791), Row(page='NextSong', length=149.68118), Row(page='NextSong', length=137.89995), Row(page='NextSong', length=61.75302), Row(page='NextSong', length=428.79955), Row(page='NextSong', length=164.77995), Row(page='NextSong', length=326.45179), Row(page='NextSong', length=122.72281), Row(page='NextSong', length=499.33016), Row(page='NextSong', length=154.25261), Row(page='NextSong', length=393.42975), Row(page='NextSong', length=405.44608), Row(page='NextSong', length=105.92608), Row(page='NextSong', length=331.57179), Row(page='NextSong', length=147.33016), Row(page='NextSong', length=80.8224), Row(page='NextSong', length=328.61995), Row(page='NextSong', length=193.59302), Row(page='NextSong', length=91.66322), Row(page='NextSong', length=435.66975), Row(page='NextSong', length=386.5073), Row(page='NextSong', length=366.602), Row(page='NextSong', length=91.402), Row(page='NextSong', length=489.29914), Row(page='NextSong', length=104.30649), Row(page='NextSong', length=435.87873), Row(page='NextSong', length=418.29832), Row(page='NextSong', length=153.93914), Row(page='NextSong', length=396.7473), Row(page='NextSong', length=552.80281), Row(page='NextSong', length=297.06404), Row(page='NextSong', length=308.61016), Row(page='NextSong', length=431.33342), Row(page='NextSong', length=336.66567), Row(page='NextSong', length=97.98485), Row(page='NextSong', length=317.33506), Row(page='NextSong', length=119.50975), Row(page='NextSong', length=318.71955), Row(page='NextSong', length=595.53914), Row(page='NextSong', length=379.48036), Row(page='NextSong', length=15.12444), Row(page='NextSong', length=198.94812), Row(page='NextSong', length=258.55955), Row(page='NextSong', length=181.02812), Row(page='NextSong', length=287.13751), Row(page='NextSong', length=277.18485), Row(page='NextSong', length=210.6771), Row(page='NextSong', length=177.8673), Row(page='NextSong', length=285.75302), Row(page='NextSong', length=327.78404), Row(page='NextSong', length=280.13669), Row(page='NextSong', length=211.80036), Row(page='NextSong', length=225.61914), Row(page='NextSong', length=198.73914), Row(page='NextSong', length=295.20934), Row(page='NextSong', length=262.37342), Row(page='NextSong', length=140.45995), Row(page='NextSong', length=194.48118), Row(page='NextSong', length=308.32281), Row(page='NextSong', length=247.90159), Row(page='NextSong', length=271.25506), Row(page='NextSong', length=177.3971), Row(page='NextSong', length=294.50404), Row(page='NextSong', length=92.29016), Row(page='NextSong', length=203.02322), Row(page='NextSong', length=256.78322), Row(page='NextSong', length=37.40689), Row(page='NextSong', length=188.26404), Row(page='NextSong', length=123.55873), Row(page='NextSong', length=253.54404), Row(page='NextSong', length=270.54975), Row(page='NextSong', length=368.66567), Row(page='NextSong', length=299.2322), Row(page='NextSong', length=228.07465), Row(page='NextSong', length=536.842), Row(page='NextSong', length=268.9824), Row(page='NextSong', length=157.23057), Row(page='NextSong', length=211.48689), Row(page='NextSong', length=273.44934), Row(page='NextSong', length=237.26975), Row(page='NextSong', length=348.94322), Row(page='NextSong', length=462.39302), Row(page='NextSong', length=243.74812), Row(page='NextSong', length=332.66893), Row(page='NextSong', length=353.69751), Row(page='NextSong', length=406.12526), Row(page='NextSong', length=114.99057), Row(page='NextSong', length=149.18485), Row(page='NextSong', length=183.09179), Row(page='NextSong', length=300.79955), Row(page='NextSong', length=98.11546), Row(page='NextSong', length=367.51628), Row(page='NextSong', length=365.16526), Row(page='NextSong', length=370.85995), Row(page='NextSong', length=99.29098), Row(page='NextSong', length=367.90812), Row(page='NextSong', length=334.18404), Row(page='NextSong', length=493.81832), Row(page='NextSong', length=405.73342), Row(page='NextSong', length=186.98404), Row(page='NextSong', length=132.12689), Row(page='NextSong', length=173.7922), Row(page='NextSong', length=146.62485), Row(page='NextSong', length=33.12281), Row(page='NextSong', length=298.70975), Row(page='NextSong', length=571.81995), Row(page='NextSong', length=436.24444), Row(page='NextSong', length=573.02159), Row(page='NextSong', length=634.67057), Row(page='NextSong', length=446.30159), Row(page='NextSong', length=281.7824), Row(page='NextSong', length=612.70159), Row(page='NextSong', length=333.89669), Row(page='NextSong', length=438.36036), Row(page='NextSong', length=114.15465), Row(page='NextSong', length=563.06893), Row(page='NextSong', length=538.33098), Row(page='NextSong', length=149.28934), Row(page='NextSong', length=146.80771), Row(page='NextSong', length=548.72771), Row(page='NextSong', length=397.19138), Row(page='NextSong', length=67.29098), Row(page='NextSong', length=374.64771), Row(page='NextSong', length=367.82975), Row(page='NextSong', length=294.39955), Row(page='NextSong', length=114.02404), Row(page='NextSong', length=420.64934), Row(page='NextSong', length=381.98812), Row(page='NextSong', length=53.9424), Row(page='NextSong', length=151.7971), Row(page='NextSong', length=58.56608), Row(page='NextSong', length=372.68853), Row(page='NextSong', length=614.81751), Row(page='NextSong', length=226.21995), Row(page='NextSong', length=240.45669), Row(page='NextSong', length=251.61098), Row(page='NextSong', length=210.41587), Row(page='NextSong', length=411.6371), Row(page='NextSong', length=219.29751), Row(page='NextSong', length=201.63873), Row(page='NextSong', length=548.64934), Row(page='NextSong', length=269.40036), Row(page='NextSong', length=253.17832), Row(page='NextSong', length=136.12363), Row(page='NextSong', length=347.71546), Row(page='NextSong', length=189.23057), Row(page='NextSong', length=214.80444), Row(page='NextSong', length=257.25342), Row(page='NextSong', length=271.80363), Row(page='NextSong', length=188.76036), Row(page='NextSong', length=230.89587), Row(page='NextSong', length=187.34975), Row(page='NextSong', length=258.69016), Row(page='NextSong', length=209.91955), Row(page='NextSong', length=272.74404), Row(page='NextSong', length=51.82649), Row(page='NextSong', length=438.09914), Row(page='NextSong', length=193.74975), Row(page='NextSong', length=29.98812), Row(page='NextSong', length=194.66404), Row(page='NextSong', length=185.65179), Row(page='NextSong', length=37.11955), Row(page='NextSong', length=172.45995), Row(page='NextSong', length=331.20608), Row(page='NextSong', length=292.41424), Row(page='NextSong', length=141.24363), Row(page='NextSong', length=471.40526), Row(page='NextSong', length=322.63791), Row(page='NextSong', length=436.06159), Row(page='NextSong', length=374.09914), Row(page='NextSong', length=423.44444), Row(page='NextSong', length=160.93995), Row(page='NextSong', length=135.41832), Row(page='NextSong', length=265.35138), Row(page='NextSong', length=317.3873), Row(page='NextSong', length=352.39138), Row(page='NextSong', length=154.69669), Row(page='NextSong', length=154.51383), Row(page='NextSong', length=95.4771), Row(page='NextSong', length=162.61179), Row(page='NextSong', length=262.39955), Row(page='NextSong', length=304.8224), Row(page='NextSong', length=306.83383), Row(page='NextSong', length=483.05587), Row(page='NextSong', length=133.43302), Row(page='NextSong', length=322.29832), Row(page='NextSong', length=123.21914), Row(page='NextSong', length=347.402), Row(page='NextSong', length=519.94077), Row(page='NextSong', length=149.15873), Row(page='NextSong', length=196.38812), Row(page='NextSong', length=44.90404), Row(page='NextSong', length=278.15138), Row(page='NextSong', length=75.98975), Row(page='NextSong', length=302.54975), Row(page='NextSong', length=1665.17506), Row(page='NextSong', length=465.37098), Row(page='NextSong', length=652.30322), Row(page='NextSong', length=353.82812), Row(page='NextSong', length=398.62812), Row(page='NextSong', length=328.59383), Row(page='NextSong', length=470.07302), Row(page='NextSong', length=349.28281), Row(page='NextSong', length=144.79628), Row(page='NextSong', length=469.13261), Row(page='NextSong', length=329.84771), Row(page='NextSong', length=373.68118), Row(page='NextSong', length=341.49832), Row(page='NextSong', length=474.69669), Row(page='NextSong', length=387.44771), Row(page='NextSong', length=146.65098), Row(page='NextSong', length=258.48118), Row(page='NextSong', length=205.94893), Row(page='NextSong', length=289.69751), Row(page='NextSong', length=242.70322), Row(page='NextSong', length=255.37261), Row(page='NextSong', length=177.94567), Row(page='NextSong', length=695.37914), Row(page='NextSong', length=309.49832), Row(page='NextSong', length=180.58404), Row(page='NextSong', length=56.37179), Row(page='NextSong', length=255.05914), Row(page='NextSong', length=406.88281), Row(page='NextSong', length=248.86812), Row(page='NextSong', length=252.62975), Row(page='NextSong', length=233.01179), Row(page='NextSong', length=205.5571), Row(page='NextSong', length=465.68444), Row(page='NextSong', length=352.1824), Row(page='NextSong', length=151.35302), Row(page='NextSong', length=215.64036), Row(page='NextSong', length=62.32771), Row(page='NextSong', length=334.23628), Row(page='NextSong', length=453.0673), Row(page='NextSong', length=346.46159), Row(page='NextSong', length=432.48281), Row(page='NextSong', length=327.02649), Row(page='NextSong', length=283.84608), Row(page='NextSong', length=291.44771), Row(page='NextSong', length=230.16444), Row(page='NextSong', length=150.46485), Row(page='NextSong', length=541.02159), Row(page='NextSong', length=148.37506), Row(page='NextSong', length=375.27465), Row(page='NextSong', length=165.32853), Row(page='NextSong', length=949.60281), Row(page='NextSong', length=296.17587), Row(page='NextSong', length=160.73098), Row(page='NextSong', length=351.42485), Row(page='NextSong', length=107.17995), Row(page='NextSong', length=540.31628), Row(page='NextSong', length=309.34159), Row(page='NextSong', length=472.89424), Row(page='NextSong', length=392.88118), Row(page='NextSong', length=200.77669), Row(page='NextSong', length=401.65832), Row(page='NextSong', length=392.72444), Row(page='NextSong', length=550.5824), Row(page='NextSong', length=320.46975), Row(page='NextSong', length=94.79791), Row(page='NextSong', length=382.35383), Row(page='NextSong', length=351.76444), Row(page='NextSong', length=650.37016), Row(page='NextSong', length=386.08934), Row(page='NextSong', length=441.86077), Row(page='NextSong', length=77.66159), Row(page='NextSong', length=554.21342), Row(page='NextSong', length=455.41832), Row(page='NextSong', length=465.57995), Row(page='NextSong', length=534.12526), Row(page='NextSong', length=649.61261), Row(page='NextSong', length=414.32771), Row(page='NextSong', length=88.45016), Row(page='NextSong', length=610.53342), Row(page='NextSong', length=269.03465), Row(page='NextSong', length=260.77995), Row(page='NextSong', length=156.18567), Row(page='NextSong', length=204.43383), Row(page='NextSong', length=289.74975), Row(page='NextSong', length=155.95057), Row(page='NextSong', length=237.50485), Row(page='NextSong', length=594.20689), Row(page='NextSong', length=346.122), Row(page='NextSong', length=323.68281), Row(page='NextSong', length=308.63628), Row(page='NextSong', length=252.26404), Row(page='NextSong', length=179.61751), Row(page='NextSong', length=208.87465), Row(page='NextSong', length=262.79138), Row(page='NextSong', length=179.722), Row(page='NextSong', length=159.7122), Row(page='NextSong', length=162.58567), Row(page='NextSong', length=256.02567), Row(page='NextSong', length=342.93506), Row(page='NextSong', length=210.28526), Row(page='NextSong', length=250.74893), Row(page='NextSong', length=281.99138), Row(page='NextSong', length=267.28444), Row(page='NextSong', length=252.15955), Row(page='NextSong', length=395.75465), Row(page='NextSong', length=193.01832), Row(page='NextSong', length=390.60853), Row(page='NextSong', length=376.94649), Row(page='NextSong', length=174.75873), Row(page='NextSong', length=172.56444), Row(page='NextSong', length=296.82893), Row(page='NextSong', length=237.06077), Row(page='NextSong', length=290.76853), Row(page='NextSong', length=142.91546), Row(page='NextSong', length=381.33506), Row(page='NextSong', length=186.72281), Row(page='NextSong', length=296.07138), Row(page='NextSong', length=162.35057), Row(page='NextSong', length=180.81914), Row(page='NextSong', length=265.37751), Row(page='NextSong', length=168.17587), Row(page='NextSong', length=351.08526), Row(page='NextSong', length=286.74567), Row(page='NextSong', length=522.55302), Row(page='NextSong', length=352.28689), Row(page='NextSong', length=436.29669), Row(page='NextSong', length=171.15383), Row(page='NextSong', length=100.72771), Row(page='NextSong', length=365.97506), Row(page='NextSong', length=277.26322), Row(page='NextSong', length=355.99628), Row(page='NextSong', length=70.03383), Row(page='NextSong', length=16.45669), Row(page='NextSong', length=337.55383), Row(page='NextSong', length=511.97342), Row(page='NextSong', length=445.98812), Row(page='NextSong', length=445.3873), Row(page='NextSong', length=295.1571), Row(page='NextSong', length=416.07791), Row(page='NextSong', length=305.78893), Row(page='NextSong', length=176.43057), Row(page='NextSong', length=118.36036), Row(page='NextSong', length=163.63057), Row(page='NextSong', length=108.12036), Row(page='NextSong', length=433.68444), Row(page='NextSong', length=341.57669), Row(page='NextSong', length=73.7171), Row(page='NextSong', length=273.84118), Row(page='NextSong', length=518.47791), Row(page='NextSong', length=422.97424), Row(page='NextSong', length=169.61261), Row(page='NextSong', length=168.25424), Row(page='NextSong', length=155.19302), Row(page='NextSong', length=108.38159), Row(page='NextSong', length=515.42159), Row(page='NextSong', length=420.0224), Row(page='NextSong', length=534.83057), Row(page='NextSong', length=49.94567), Row(page='NextSong', length=343.87546), Row(page='NextSong', length=117.2371), Row(page='NextSong', length=152.55465), Row(page='NextSong', length=470.9873), Row(page='NextSong', length=597.36771), Row(page='NextSong', length=74.39628), Row(page='NextSong', length=455.1571), Row(page='NextSong', length=374.93506), Row(page='NextSong', length=480.28689), Row(page='NextSong', length=437.39383), Row(page='NextSong', length=659.19955), Row(page='NextSong', length=461.60934), Row(page='NextSong', length=77.71383), Row(page='NextSong', length=85.55057), Row(page='NextSong', length=457.1424), Row(page='NextSong', length=442.61832), Row(page='NextSong', length=687.09832), Row(page='NextSong', length=432.69179), Row(page='NextSong', length=282.53995), Row(page='NextSong', length=181.05424), Row(page='NextSong', length=225.88036), Row(page='NextSong', length=201.35138), Row(page='NextSong', length=260.12689), Row(page='NextSong', length=86.22975), Row(page='NextSong', length=277.86404), Row(page='NextSong', length=191.18975), Row(page='NextSong', length=185.10322), Row(page='NextSong', length=142.31465), Row(page='NextSong', length=230.84363), Row(page='NextSong', length=307.09506), Row(page='NextSong', length=292.88444), Row(page='NextSong', length=305.99791), Row(page='NextSong', length=82.46812), Row(page='NextSong', length=551.07873), Row(page='NextSong', length=109.42649), Row(page='NextSong', length=197.642), Row(page='NextSong', length=283.68934), Row(page='NextSong', length=235.31057), Row(page='NextSong', length=428.45995), Row(page='NextSong', length=91.89832), Row(page='NextSong', length=132.62322), Row(page='NextSong', length=254.6673), Row(page='NextSong', length=241.00526), Row(page='NextSong', length=337.84118), Row(page='NextSong', length=275.90485), Row(page='NextSong', length=129.61914), Row(page='NextSong', length=644.91057), Row(page='NextSong', length=292.28363), Row(page='NextSong', length=305.84118), Row(page='NextSong', length=217.33832), Row(page='NextSong', length=2594.87302), Row(page='NextSong', length=282.122), Row(page='NextSong', length=457.06404), Row(page='NextSong', length=164.85832), Row(page='NextSong', length=279.97995), Row(page='NextSong', length=198.00771), Row(page='NextSong', length=248.2673), Row(page='NextSong', length=234.50077), Row(page='NextSong', length=181.44608), Row(page='NextSong', length=152.47628), Row(page='NextSong', length=119.7971), Row(page='NextSong', length=497.89342), Row(page='NextSong', length=355.10812), Row(page='NextSong', length=26.90567), Row(page='NextSong', length=234.44853), Row(page='NextSong', length=136.22812), Row(page='NextSong', length=126.35383), Row(page='NextSong', length=165.22404), Row(page='NextSong', length=91.6371), Row(page='NextSong', length=122.17424), Row(page='NextSong', length=114.07628), Row(page='NextSong', length=2743.09179), Row(page='NextSong', length=425.42975), Row(page='NextSong', length=194.29832), Row(page='NextSong', length=348.31628), Row(page='NextSong', length=492.61669), Row(page='NextSong', length=170.70975), Row(page='NextSong', length=408.11057), Row(page='NextSong', length=346.33098), Row(page='NextSong', length=119.97995), Row(page='NextSong', length=423.8624), Row(page='NextSong', length=528.14322), Row(page='NextSong', length=674.79465), Row(page='NextSong', length=72.09751), Row(page='NextSong', length=632.45016), Row(page='NextSong', length=102.37342), Row(page='NextSong', length=636.60363), Row(page='NextSong', length=499.9571), Row(page='NextSong', length=201.53424), Row(page='NextSong', length=48.03873), Row(page='NextSong', length=337.73669), Row(page='NextSong', length=697.96526), Row(page='NextSong', length=101.82485), Row(page='NextSong', length=608.54812), Row(page='NextSong', length=638.4322), Row(page='NextSong', length=531.40853), Row(page='NextSong', length=201.37751), Row(page='NextSong', length=32.73098), Row(page='NextSong', length=493.11302), Row(page='NextSong', length=617.35138), Row(page='NextSong', length=417.72363), Row(page='NextSong', length=482.87302), Row(page='NextSong', length=43.17995), Row(page='NextSong', length=391.70567), Row(page='NextSong', length=37.3024), Row(page='NextSong', length=223.60771), Row(page='NextSong', length=213.28934), Row(page='NextSong', length=677.61587), Row(page='NextSong', length=289.90649), Row(page='NextSong', length=223.42485), Row(page='NextSong', length=319.03302), Row(page='NextSong', length=269.87057), Row(page='NextSong', length=277.65506), Row(page='NextSong', length=165.69424), Row(page='NextSong', length=265.74322), Row(page='NextSong', length=263.07873), Row(page='NextSong', length=453.66812), Row(page='NextSong', length=239.0722), Row(page='NextSong', length=209.24036), Row(page='NextSong', length=240.90077), Row(page='NextSong', length=244.21832), Row(page='NextSong', length=117.15873), Row(page='NextSong', length=241.52771), Row(page='NextSong', length=222.79791), Row(page='NextSong', length=173.84444), Row(page='NextSong', length=160.33914), Row(page='NextSong', length=341.15873), Row(page='NextSong', length=257.72363), Row(page='NextSong', length=402.25914), Row(page='NextSong', length=271.882), Row(page='NextSong', length=247.43138), Row(page='NextSong', length=74.762), Row(page='NextSong', length=192.57424), Row(page='NextSong', length=182.36036), Row(page='NextSong', length=587.38893), Row(page='NextSong', length=421.642), Row(page='NextSong', length=175.49016), Row(page='NextSong', length=226.87302), Row(page='NextSong', length=267.80689), Row(page='NextSong', length=240.69179), Row(page='NextSong', length=114.49424), Row(page='NextSong', length=372.08771), Row(page='NextSong', length=147.64363), Row(page='NextSong', length=192.93995), Row(page='NextSong', length=292.07465), Row(page='NextSong', length=403.06893), Row(page='NextSong', length=208.53506), Row(page='NextSong', length=367.882), Row(page='NextSong', length=333.76608), Row(page='NextSong', length=110.81098), Row(page='NextSong', length=96.88771), Row(page='NextSong', length=196.0224), Row(page='NextSong', length=298.94485), Row(page='NextSong', length=151.37914), Row(page='NextSong', length=78.70649), Row(page='NextSong', length=142.54975), Row(page='NextSong', length=385.07057), Row(page='NextSong', length=98.16771), Row(page='NextSong', length=123.03628), Row(page='NextSong', length=96.67873), Row(page='NextSong', length=52.32281), Row(page='NextSong', length=385.04444), Row(page='NextSong', length=412.57751), Row(page='NextSong', length=59.79383), Row(page='NextSong', length=176.90077), Row(page='NextSong', length=52.00934), Row(page='NextSong', length=357.85098), Row(page='NextSong', length=744.14975), Row(page='NextSong', length=202.97098), Row(page='NextSong', length=304.22159), Row(page='NextSong', length=39.23546), Row(page='NextSong', length=426.44853), Row(page='NextSong', length=543.99955), Row(page='NextSong', length=155.81995), Row(page='NextSong', length=382.71955), Row(page='NextSong', length=60.31628), Row(page='NextSong', length=305.162), Row(page='NextSong', length=339.85261), Row(page='NextSong', length=372.81914), Row(page='NextSong', length=70.19057), Row(page='NextSong', length=435.04281), Row(page='NextSong', length=47.15057), Row(page='NextSong', length=501.83791), Row(page='NextSong', length=399.22893), Row(page='NextSong', length=435.27791), Row(page='NextSong', length=392.30649), Row(page='NextSong', length=1276.57751), Row(page='NextSong', length=355.082), Row(page='NextSong', length=223.58159), Row(page='NextSong', length=241.76281), Row(page='NextSong', length=261.92934), Row(page='NextSong', length=243.77424), Row(page='NextSong', length=192.44363), Row(page='NextSong', length=171.88526), Row(page='NextSong', length=144.84853), Row(page='NextSong', length=334.94159), Row(page='NextSong', length=112.66567), Row(page='NextSong', length=216.39791), Row(page='NextSong', length=312.63302), Row(page='NextSong', length=195.57832), Row(page='NextSong', length=366.86322), Row(page='NextSong', length=170.762), Row(page='NextSong', length=133.61587), Row(page='NextSong', length=392.09751), Row(page='NextSong', length=269.34812), Row(page='NextSong', length=231.75791), Row(page='NextSong', length=78.602), Row(page='NextSong', length=135.23546), Row(page='NextSong', length=400.66567), Row(page='NextSong', length=212.97587), Row(page='NextSong', length=269.5571), Row(page='NextSong', length=217.96526), Row(page='NextSong', length=273.26649), Row(page='NextSong', length=197.8771), Row(page='NextSong', length=246.59546), Row(page='NextSong', length=162.06322), Row(page='NextSong', length=174.8371), Row(page='NextSong', length=258.32444), Row(page='NextSong', length=353.4624), Row(page='NextSong', length=278.20363), Row(page='NextSong', length=141.34812), Row(page='NextSong', length=330.26567), Row(page='NextSong', length=155.08853), Row(page='NextSong', length=502.56934), Row(page='NextSong', length=462.49751), Row(page='NextSong', length=150.72608), Row(page='NextSong', length=174.36689), Row(page='NextSong', length=458.00444), Row(page='NextSong', length=128.33914), Row(page='NextSong', length=320.13016), Row(page='NextSong', length=262.32118), Row(page='NextSong', length=39.70567), Row(page='NextSong', length=325.77261), Row(page='NextSong', length=335.17669), Row(page='NextSong', length=409.96526), Row(page='NextSong', length=500.40118), Row(page='NextSong', length=1048.842), Row(page='NextSong', length=288.44363), Row(page='NextSong', length=124.18567), Row(page='NextSong', length=653.66159), Row(page='NextSong', length=85.86404), Row(page='NextSong', length=358.94812), Row(page='NextSong', length=353.95873), Row(page='NextSong', length=117.99465), Row(page='NextSong', length=356.96281), Row(page='NextSong', length=480.70485), Row(page='NextSong', length=378.46159), Row(page='NextSong', length=146.78159), Row(page='NextSong', length=66.21995), Row(page='NextSong', length=99.23873), Row(page='NextSong', length=351.34649), Row(page='NextSong', length=347.68934), Row(page='NextSong', length=48.95302), Row(page='NextSong', length=46.15791), Row(page='NextSong', length=121.12934), Row(page='NextSong', length=266.86649), Row(page='NextSong', length=220.15955), Row(page='NextSong', length=185.3122), Row(page='NextSong', length=316.70812), Row(page='NextSong', length=343.71873), Row(page='NextSong', length=125.28281), Row(page='NextSong', length=272.50893), Row(page='NextSong', length=369.24036), Row(page='NextSong', length=140.79955), Row(page='NextSong', length=464.92689), Row(page='NextSong', length=258.82077), Row(page='NextSong', length=182.72608), Row(page='NextSong', length=231.6273), Row(page='NextSong', length=311.11791), Row(page='NextSong', length=214.83057), Row(page='NextSong', length=149.55057), Row(page='NextSong', length=218.64444), Row(page='NextSong', length=127.55546), Row(page='NextSong', length=229.53751), Row(page='NextSong', length=297.82159), Row(page='NextSong', length=175.46404), Row(page='NextSong', length=244.37506), Row(page='NextSong', length=222.98077), Row(page='NextSong', length=246.5171), Row(page='NextSong', length=496.22159), Row(page='NextSong', length=320.54812), Row(page='NextSong', length=393.11628), Row(page='NextSong', length=273.68444), Row(page='NextSong', length=279.27465), Row(page='NextSong', length=194.24608), Row(page='NextSong', length=243.722), Row(page='NextSong', length=113.68444), Row(page='NextSong', length=830.11873), Row(page='NextSong', length=174.81098), Row(page='NextSong', length=348.86485), Row(page='NextSong', length=88.0322), Row(page='NextSong', length=324.25751), Row(page='NextSong', length=573.20444), Row(page='NextSong', length=373.26322), Row(page='NextSong', length=519.31383), Row(page='NextSong', length=400.3522), Row(page='NextSong', length=176.79628), Row(page='NextSong', length=136.59383), Row(page='NextSong', length=106.47465), Row(page='NextSong', length=346.98404), Row(page='NextSong', length=280.81587), Row(page='NextSong', length=507.8722), Row(page='NextSong', length=162.24608), Row(page='NextSong', length=377.25995), Row(page='NextSong', length=305.29261), Row(page='NextSong', length=444.29016), Row(page='NextSong', length=394.63138), Row(page='NextSong', length=512.83546), Row(page='NextSong', length=671.9473), Row(page='NextSong', length=338.6771), Row(page='NextSong', length=388.04853), Row(page='NextSong', length=353.30567), Row(page='NextSong', length=506.27873), Row(page='NextSong', length=1151.92118), Row(page='NextSong', length=296.41098), Row(page='NextSong', length=162.29832), Row(page='NextSong', length=659.61751), Row(page='NextSong', length=436.40118), Row(page='NextSong', length=359.70567), Row(page='NextSong', length=359.65342), Row(page='NextSong', length=91.68934), Row(page='NextSong', length=1119.9473), Row(page='NextSong', length=415.92118), Row(page='NextSong', length=551.1571), Row(page='NextSong', length=384.23465), Row(page='NextSong', length=312.99873), Row(page='NextSong', length=227.39546), Row(page='NextSong', length=279.43138), Row(page='NextSong', length=309.86404), Row(page='NextSong', length=247.71873), Row(page='NextSong', length=302.05342), Row(page='NextSong', length=152.76363), Row(page='NextSong', length=225.54077), Row(page='NextSong', length=179.1473), Row(page='NextSong', length=449.4624), Row(page='NextSong', length=182.07302), Row(page='NextSong', length=261.09342), Row(page='NextSong', length=189.90975), Row(page='NextSong', length=413.90975), Row(page='NextSong', length=362.78812), Row(page='NextSong', length=310.9873), Row(page='NextSong', length=127.18975), Row(page='NextSong', length=92.99546), Row(page='NextSong', length=252.57751), Row(page='NextSong', length=371.98322), Row(page='NextSong', length=118.22975), Row(page='NextSong', length=264.72444), Row(page='NextSong', length=401.03138), Row(page='NextSong', length=213.89016), Row(page='NextSong', length=360.46322), Row(page='NextSong', length=323.02975), Row(page='NextSong', length=228.98893), Row(page='NextSong', length=146.88608), Row(page='NextSong', length=137.01179), Row(page='NextSong', length=278.93506), Row(page='NextSong', length=357.19791), Row(page='NextSong', length=593.3971), Row(page='NextSong', length=313.46893), Row(page='NextSong', length=294.45179), Row(page='NextSong', length=397.92281), Row(page='NextSong', length=461.29587), Row(page='NextSong', length=210.96444), Row(page='NextSong', length=376.39791), Row(page='NextSong', length=253.83138), Row(page='NextSong', length=181.15873), Row(page='NextSong', length=138.81424), Row(page='NextSong', length=131.05587), Row(page='NextSong', length=349.49179), Row(page='NextSong', length=350.61506), Row(page='NextSong', length=362.55302), Row(page='NextSong', length=511.92118), Row(page='NextSong', length=123.19302), Row(page='NextSong', length=406.72608), Row(page='NextSong', length=389.27628), Row(page='NextSong', length=114.46812), Row(page='NextSong', length=378.72281), Row(page='NextSong', length=440.21506), Row(page='NextSong', length=131.83955), Row(page='NextSong', length=479.50322), Row(page='NextSong', length=106.4224), Row(page='NextSong', length=515.81342), Row(page='NextSong', length=166.32118), Row(page='NextSong', length=120.2673), Row(page='NextSong', length=370.20689), Row(page='NextSong', length=747.25832), Row(page='NextSong', length=44.93016), Row(page='NextSong', length=56.55465), Row(page='NextSong', length=339.61751), Row(page='NextSong', length=368.87465), Row(page='NextSong', length=336.1171), Row(page='NextSong', length=331.44118), Row(page='NextSong', length=558.23628), Row(page='NextSong', length=427.62404), Row(page='NextSong', length=221.23057), Row(page='NextSong', length=288.93995), Row(page='NextSong', length=263.78404), Row(page='NextSong', length=137.06404), Row(page='NextSong', length=220.78649), Row(page='NextSong', length=191.89506), Row(page='NextSong', length=255.18975), Row(page='NextSong', length=176.61342), Row(page='NextSong', length=222.95465), Row(page='NextSong', length=152.11057), Row(page='NextSong', length=227.16036), Row(page='NextSong', length=130.82077), Row(page='NextSong', length=314.56608), Row(page='NextSong', length=266.16118), Row(page='NextSong', length=403.90485), Row(page='NextSong', length=256.23465), Row(page='NextSong', length=287.29424), Row(page='NextSong', length=334.75873), Row(page='NextSong', length=204.7473), Row(page='NextSong', length=211.69587), Row(page='NextSong', length=406.62159), Row(page='NextSong', length=173.92281), Row(page='NextSong', length=182.30812), Row(page='NextSong', length=436.63628), Row(page='NextSong', length=274.20689), Row(page='NextSong', length=210.15465), Row(page='NextSong', length=76.66893), Row(page='NextSong', length=176.3522), Row(page='NextSong', length=312.76363), Row(page='NextSong', length=360.95955), Row(page='NextSong', length=263.88853), Row(page='NextSong', length=498.88608), Row(page='NextSong', length=227.70893), Row(page='NextSong', length=307.80036), Row(page='NextSong', length=437.49832), Row(page='NextSong', length=323.70893), Row(page='NextSong', length=36.30975), Row(page='NextSong', length=146.18077), Row(page='NextSong', length=291.52608), Row(page='NextSong', length=37.642), Row(page='NextSong', length=419.89179), Row(page='NextSong', length=158.1971), Row(page='NextSong', length=367.49016), Row(page='NextSong', length=279.53587), Row(page='NextSong', length=433.78893), Row(page='NextSong', length=197.19791), Row(page='NextSong', length=477.67465), Row(page='NextSong', length=322.69016), Row(page='NextSong', length=458.9971), Row(page='NextSong', length=131.36934), Row(page='NextSong', length=336.90077), Row(page='NextSong', length=342.80444), Row(page='NextSong', length=47.17669), Row(page='NextSong', length=497.99791), Row(page='NextSong', length=13.63546), Row(page='NextSong', length=415.68608), Row(page='NextSong', length=585.09016), Row(page='NextSong', length=93.36118), Row(page='NextSong', length=306.96444), Row(page='NextSong', length=82.54649), Row(page='NextSong', length=327.07873), Row(page='NextSong', length=528.19546), Row(page='NextSong', length=136.9073), Row(page='NextSong', length=1086.69342), Row(page='NextSong', length=231.26159), Row(page='NextSong', length=238.86322), Row(page='NextSong', length=164.362), Row(page='NextSong', length=457.19465), Row(page='NextSong', length=317.30893), Row(page='NextSong', length=226.97751), Row(page='NextSong', length=226.95138), Row(page='NextSong', length=398.49751), Row(page='NextSong', length=196.28363), Row(page='NextSong', length=159.55546), Row(page='NextSong', length=90.09587), Row(page='NextSong', length=305.97179), Row(page='NextSong', length=190.45832), Row(page='NextSong', length=241.94567), Row(page='NextSong', length=173.73995), Row(page='NextSong', length=214.54322), Row(page='NextSong', length=408.18893), Row(page='NextSong', length=979.56526), Row(page='NextSong', length=275.69587), Row(page='NextSong', length=482.24608), Row(page='NextSong', length=218.61832), Row(page='NextSong', length=332.69506), Row(page='NextSong', length=228.8322), Row(page='NextSong', length=216.29342), Row(page='NextSong', length=191.45098), Row(page='NextSong', length=374.12526), Row(page='NextSong', length=199.57506), Row(page='NextSong', length=126.98077), Row(page='NextSong', length=178.88608), Row(page='NextSong', length=368.24771), Row(page='NextSong', length=163.10812), Row(page='NextSong', length=304.50893), Row(page='NextSong', length=207.882), Row(page='NextSong', length=175.01995), Row(page='NextSong', length=377.36444), Row(page='NextSong', length=396.2771), Row(page='NextSong', length=516.12689), Row(page='NextSong', length=369.03138), Row(page='NextSong', length=341.2371), Row(page='NextSong', length=214.36036), Row(page='NextSong', length=155.53261), Row(page='NextSong', length=263.81016), Row(page='NextSong', length=362.05669), Row(page='NextSong', length=291.16036), Row(page='NextSong', length=393.29914), Row(page='NextSong', length=279.71873), Row(page='NextSong', length=388.85832), Row(page='NextSong', length=371.01669), Row(page='NextSong', length=31.45098), Row(page='NextSong', length=290.01098), Row(page='NextSong', length=171.80689), Row(page='NextSong', length=264.28036), Row(page='NextSong', length=436.55791), Row(page='NextSong', length=420.44036), Row(page='NextSong', length=130.24608), Row(page='NextSong', length=56.60689), Row(page='NextSong', length=782.70649), Row(page='NextSong', length=708.49261), Row(page='NextSong', length=66.61179), Row(page='NextSong', length=21.26322), Row(page='NextSong', length=44.12036), Row(page='NextSong', length=448.60036), Row(page='NextSong', length=348.99546), Row(page='NextSong', length=163.57832), Row(page='NextSong', length=111.75138), Row(page='NextSong', length=406.38649), Row(page='NextSong', length=323.57832), Row(page='NextSong', length=603.42812), Row(page='NextSong', length=367.62077), Row(page='NextSong', length=441.28608), Row(page='NextSong', length=467.40853), Row(page='NextSong', length=374.04689), Row(page='NextSong', length=208.74404), Row(page='NextSong', length=192.91383), Row(page='NextSong', length=240.40444), Row(page='NextSong', length=143.35955), Row(page='NextSong', length=247.30077), Row(page='NextSong', length=248.18893), Row(page='NextSong', length=301.92281), Row(page='NextSong', length=186.90567), Row(page='NextSong', length=323.97016), Row(page='NextSong', length=251.89832), Row(page='NextSong', length=157.49179), Row(page='NextSong', length=431.01995), Row(page='NextSong', length=510.98077), Row(page='NextSong', length=270.88934), Row(page='NextSong', length=228.23138), Row(page='NextSong', length=218.48771), Row(page='NextSong', length=251.50649), Row(page='NextSong', length=283.95057), Row(page='NextSong', length=220.31628), Row(page='NextSong', length=506.74893), Row(page='NextSong', length=410.06975), Row(page='NextSong', length=318.56281), Row(page='NextSong', length=169.53424), Row(page='NextSong', length=216.2673), Row(page='NextSong', length=338.23302), Row(page='NextSong', length=219.27138), Row(page='NextSong', length=187.92444), Row(page='NextSong', length=175.38567), Row(page='NextSong', length=324.0224), Row(page='NextSong', length=353.41016), Row(page='NextSong', length=368.92689), Row(page='NextSong', length=261.48526), Row(page='NextSong', length=210.46812), Row(page='NextSong', length=199.91465), Row(page='NextSong', length=371.40853), Row(page='NextSong', length=2390.20363), Row(page='NextSong', length=151.71873), Row(page='NextSong', length=93.57016), Row(page='NextSong', length=348.73424), Row(page='NextSong', length=307.40853), Row(page='NextSong', length=313.15546), Row(page='NextSong', length=287.05914), Row(page='NextSong', length=267.04934), Row(page='NextSong', length=140.87791), Row(page='NextSong', length=321.12281), Row(page='NextSong', length=324.17914), Row(page='NextSong', length=129.72363), Row(page='NextSong', length=314.8273), Row(page='NextSong', length=478.01424), Row(page='NextSong', length=117.05424), Row(page='NextSong', length=94.22322), Row(page='NextSong', length=844.61669), Row(page='NextSong', length=133.56363), Row(page='NextSong', length=279.58812), Row(page='NextSong', length=52.27057), Row(page='NextSong', length=1140.87138), Row(page='NextSong', length=107.2322), Row(page='NextSong', length=748.72118), Row(page='NextSong', length=305.94567), Row(page='NextSong', length=130.71628), Row(page='NextSong', length=482.66404), Row(page='NextSong', length=533.91628), Row(page='NextSong', length=62.09261), Row(page='NextSong', length=98.37669), Row(page='NextSong', length=287.89506), Row(page='NextSong', length=108.5122), Row(page='NextSong', length=578.45506), Row(page='NextSong', length=35.05587), Row(page='NextSong', length=612.67546), Row(page='NextSong', length=48.84853), Row(page='NextSong', length=45.53098), Row(page='NextSong', length=264.95955), Row(page='NextSong', length=243.43465), Row(page='NextSong', length=208.92689), Row(page='NextSong', length=244.63628), Row(page='NextSong', length=61.33506), Row(page='NextSong', length=264.69832), Row(page='NextSong', length=90.17424), Row(page='NextSong', length=97.85424), Row(page='NextSong', length=270.602), Row(page='NextSong', length=171.38893), Row(page='NextSong', length=142.00118), Row(page='NextSong', length=189.83138), Row(page='NextSong', length=328.98567), Row(page='NextSong', length=651.59791), Row(page='NextSong', length=77.19138), Row(page='NextSong', length=325.74649), Row(page='NextSong', length=306.1024), Row(page='NextSong', length=89.15546), Row(page='NextSong', length=187.71546), Row(page='NextSong', length=196.72771), Row(page='NextSong', length=344.89424), Row(page='NextSong', length=271.93424), Row(page='NextSong', length=186.67057), Row(page='NextSong', length=376.92036), Row(page='NextSong', length=358.50404), Row(page='NextSong', length=187.01016), Row(page='NextSong', length=79.28118), Row(page='NextSong', length=108.45995), Row(page='NextSong', length=160.28689), Row(page='NextSong', length=156.81261), Row(page='NextSong', length=385.51465), Row(page='NextSong', length=279.95383), Row(page='NextSong', length=380.15955), Row(page='NextSong', length=338.57261), Row(page='NextSong', length=294.13832), Row(page='NextSong', length=77.29587), Row(page='NextSong', length=138.91873), Row(page='NextSong', length=259.63057), Row(page='NextSong', length=342.36036), Row(page='NextSong', length=283.81995), Row(page='NextSong', length=311.562), Row(page='NextSong', length=481.85424), Row(page='NextSong', length=93.59628), Row(page='NextSong', length=266.23955), Row(page='NextSong', length=342.90893), Row(page='NextSong', length=340.94975), Row(page='NextSong', length=424.35873), Row(page='NextSong', length=404.68853), Row(page='NextSong', length=55.82322), Row(page='NextSong', length=293.61587), Row(page='NextSong', length=295.83628), Row(page='NextSong', length=256.28689), Row(page='NextSong', length=376.81587), Row(page='NextSong', length=65.77587), Row(page='NextSong', length=372.53179), Row(page='NextSong', length=50.59873), Row(page='NextSong', length=91.55873), Row(page='NextSong', length=348.36853), Row(page='NextSong', length=371.25179), Row(page='NextSong', length=129.64526), Row(page='NextSong', length=62.51057), Row(page='NextSong', length=514.14159), Row(page='NextSong', length=333.40036), Row(page='NextSong', length=413.72689), Row(page='NextSong', length=440.63302), Row(page='NextSong', length=447.9473), Row(page='NextSong', length=795.79383), Row(page='NextSong', length=367.77751), Row(page='NextSong', length=88.94649), Row(page='NextSong', length=104.82893), Row(page='NextSong', length=344.86812), Row(page='NextSong', length=290.58567), Row(page='NextSong', length=225.2273), Row(page='NextSong', length=189.28281), Row(page='NextSong', length=237.87057), Row(page='NextSong', length=225.20118), Row(page='NextSong', length=324.88444), Row(page='NextSong', length=247.87546), Row(page='NextSong', length=340.61016), Row(page='NextSong', length=296.56771), Row(page='NextSong', length=196.25751), Row(page='NextSong', length=351.58159), Row(page='NextSong', length=36.17914), Row(page='NextSong', length=235.51955), Row(page='NextSong', length=289.04444), Row(page='NextSong', length=170.16118), Row(page='NextSong', length=199.52281), Row(page='NextSong', length=255.52934), Row(page='NextSong', length=200.69832), Row(page='NextSong', length=354.37669), Row(page='NextSong', length=137.03791), Row(page='NextSong', length=182.09914), Row(page='NextSong', length=107.96363), Row(page='NextSong', length=149.44608), Row(page='NextSong', length=317.41342), Row(page='NextSong', length=179.69587), Row(page='NextSong', length=130.42893), Row(page='NextSong', length=383.79057), Row(page='NextSong', length=482.08934), Row(page='NextSong', length=318.87628), Row(page='NextSong', length=433.00526), Row(page='NextSong', length=383.05914), Row(page='NextSong', length=429.34812), Row(page='NextSong', length=313.7824), Row(page='NextSong', length=181.55057), Row(page='NextSong', length=55.17016), Row(page='NextSong', length=160.07791), Row(page='NextSong', length=124.02893), Row(page='NextSong', length=162.89914), Row(page='NextSong', length=44.82567), Row(page='NextSong', length=204.30322), Row(page='NextSong', length=373.4722), Row(page='NextSong', length=444.76036), Row(page='NextSong', length=73.56036), Row(page='NextSong', length=591.3073), Row(page='NextSong', length=128.73098), Row(page='NextSong', length=91.21914), Row(page='NextSong', length=559.20281), Row(page='NextSong', length=112.77016), Row(page='NextSong', length=61.80526), Row(page='NextSong', length=322.21995), Row(page='NextSong', length=133.92934), Row(page='NextSong', length=582.71302), Row(page='NextSong', length=145.73669), Row(page='NextSong', length=598.22975), Row(page='NextSong', length=87.97995), Row(page='NextSong', length=468.6624), Row(page='NextSong', length=339.722), Row(page='NextSong', length=279.84934), Row(page='NextSong', length=421.92934), Row(page='NextSong', length=230.79138), Row(page='NextSong', length=257.09669), Row(page='NextSong', length=283.32363), Row(page='NextSong', length=82.80771), Row(page='NextSong', length=343.24853), Row(page='NextSong', length=473.23383), Row(page='NextSong', length=304.63955), Row(page='NextSong', length=259.18649), Row(page='NextSong', length=327.88853), Row(page='NextSong', length=364.87791), Row(page='NextSong', length=172.40771), Row(page='NextSong', length=27.01016), Row(page='NextSong', length=212.32281), Row(page='NextSong', length=617.87383), Row(page='NextSong', length=391.41832), Row(page='NextSong', length=289.56689), Row(page='NextSong', length=192.83546), Row(page='NextSong', length=428.7473), Row(page='NextSong', length=334.96771), Row(page='NextSong', length=218.95791), Row(page='NextSong', length=259.83955), Row(page='NextSong', length=197.25016), Row(page='NextSong', length=244.29669), Row(page='NextSong', length=176.14322), Row(page='NextSong', length=312.89424), Row(page='NextSong', length=93.43955), Row(page='NextSong', length=89.23383), Row(page='NextSong', length=321.04444), Row(page='NextSong', length=353.43628), Row(page='NextSong', length=147.80036), Row(page='NextSong', length=107.57179), Row(page='NextSong', length=49.89342), Row(page='NextSong', length=250.98404), Row(page='NextSong', length=161.90649), Row(page='NextSong', length=198.84363), Row(page='NextSong', length=156.49914), Row(page='NextSong', length=436.45342), Row(page='NextSong', length=521.74322), Row(page='NextSong', length=323.23873), Row(page='NextSong', length=201.87383), Row(page='NextSong', length=493.97506), Row(page='NextSong', length=301.50485), Row(page='NextSong', length=177.05751), Row(page='NextSong', length=251.76771), Row(page='NextSong', length=332.95628), Row(page='NextSong', length=420.25751), Row(page='NextSong', length=367.38567), Row(page='NextSong', length=277.60281), Row(page='NextSong', length=353.90649), Row(page='NextSong', length=164.07465), Row(page='NextSong', length=390.32118), Row(page='NextSong', length=566.72608), Row(page='NextSong', length=348.05506), Row(page='NextSong', length=638.45832), Row(page='NextSong', length=475.402), Row(page='NextSong', length=283.55873), Row(page='NextSong', length=347.21914), Row(page='NextSong', length=456.01914), Row(page='NextSong', length=135.91465), Row(page='NextSong', length=104.85506), Row(page='NextSong', length=46.07955), Row(page='NextSong', length=356.64934), Row(page='NextSong', length=290.14159), Row(page='NextSong', length=333.71383), Row(page='NextSong', length=493.322), Row(page='NextSong', length=383.08526), Row(page='NextSong', length=381.93587), Row(page='NextSong', length=421.3024), Row(page='NextSong', length=467.46077), Row(page='NextSong', length=345.62567), Row(page='NextSong', length=337.60608), Row(page='NextSong', length=57.83465), Row(page='NextSong', length=398.18404), Row(page='NextSong', length=218.85342), Row(page='NextSong', length=447.79057), Row(page='NextSong', length=194.92526), Row(page='NextSong', length=231.60118), Row(page='NextSong', length=234.89261), Row(page='NextSong', length=250.53995), Row(page='NextSong', length=275.48689), Row(page='NextSong', length=227.7873), Row(page='NextSong', length=295.13098), Row(page='NextSong', length=318.37995), Row(page='NextSong', length=241.6322), Row(page='NextSong', length=209.78893), Row(page='NextSong', length=200.12363), Row(page='NextSong', length=214.93506), Row(page='NextSong', length=229.38077), Row(page='NextSong', length=328.41098), Row(page='NextSong', length=271.3073), Row(page='NextSong', length=145.52771), Row(page='NextSong', length=488.64608), Row(page='NextSong', length=434.15465), Row(page='NextSong', length=228.41424), Row(page='NextSong', length=222.69342), Row(page='NextSong', length=278.56934), Row(page='NextSong', length=225.67138), Row(page='NextSong', length=185.28608), Row(page='NextSong', length=263.54893), Row(page='NextSong', length=445.23057), Row(page='NextSong', length=252.55138), Row(page='NextSong', length=360.48934), Row(page='NextSong', length=297.63873), Row(page='NextSong', length=183.40526), Row(page='NextSong', length=423.73179), Row(page='NextSong', length=257.82812), Row(page='NextSong', length=167.47057), Row(page='NextSong', length=270.57587), Row(page='NextSong', length=248.89424), Row(page='NextSong', length=335.56853), Row(page='NextSong', length=295.28771), Row(page='NextSong', length=73.45587), Row(page='NextSong', length=199.54893), Row(page='NextSong', length=369.71057), Row(page='NextSong', length=242.96444), Row(page='NextSong', length=364.35546), Row(page='NextSong', length=181.73342), Row(page='NextSong', length=368.1171), Row(page='NextSong', length=204.22485), Row(page='NextSong', length=291.81342), Row(page='NextSong', length=159.52934), Row(page='NextSong', length=308.92363), Row(page='NextSong', length=106.03057), Row(page='NextSong', length=132.98893), Row(page='NextSong', length=309.08036), Row(page='NextSong', length=59.16689), Row(page='NextSong', length=467.30404), Row(page='NextSong', length=100.70159), Row(page='NextSong', length=329.11628), Row(page='NextSong', length=28.21179), Row(page='NextSong', length=500.4273), Row(page='NextSong', length=337.26649), Row(page='NextSong', length=379.27138), Row(page='NextSong', length=322.5073), Row(page='NextSong', length=332.64281), Row(page='NextSong', length=263.3922), Row(page='NextSong', length=511.34649), Row(page='NextSong', length=70.71302), Row(page='NextSong', length=293.27628), Row(page='NextSong', length=51.46077), Row(page='NextSong', length=496.27383), Row(page='NextSong', length=386.11546), Row(page='NextSong', length=101.58975), Row(page='NextSong', length=137.09016), Row(page='NextSong', length=404.61016), Row(page='NextSong', length=184.73751), Row(page='NextSong', length=164.98893), Row(page='NextSong', length=190.40608), Row(page='NextSong', length=205.81832), Row(page='NextSong', length=278.72608), Row(page='NextSong', length=178.23302), Row(page='NextSong', length=201.89995), Row(page='NextSong', length=148.4273), Row(page='NextSong', length=219.402), Row(page='NextSong', length=223.65995), Row(page='NextSong', length=241.34485), Row(page='NextSong', length=301.19138), Row(page='NextSong', length=303.85587), Row(page='NextSong', length=340.53179), Row(page='NextSong', length=263.20934), Row(page='NextSong', length=309.52444), Row(page='NextSong', length=229.92934), Row(page='NextSong', length=179.64363), Row(page='NextSong', length=347.74159), Row(page='NextSong', length=214.62159), Row(page='NextSong', length=246.17751), Row(page='NextSong', length=342.88281), Row(page='NextSong', length=308.00934), Row(page='NextSong', length=342.56934), Row(page='NextSong', length=275.22567), Row(page='NextSong', length=595.27791), Row(page='NextSong', length=320.522), Row(page='NextSong', length=204.82567), Row(page='NextSong', length=242.54649), Row(page='NextSong', length=335.98649), Row(page='NextSong', length=256.07791), Row(page='NextSong', length=341.41995), Row(page='NextSong', length=402.78159), Row(page='NextSong', length=104.35873), Row(page='NextSong', length=225.95873), Row(page='NextSong', length=299.91138), Row(page='NextSong', length=179.04281), Row(page='NextSong', length=34.06322), Row(page='NextSong', length=294.03383), Row(page='NextSong', length=242.12853), Row(page='NextSong', length=103.47057), Row(page='NextSong', length=479.32036), Row(page='NextSong', length=123.42812), Row(page='NextSong', length=67.52608), Row(page='NextSong', length=204.87791), Row(page='NextSong', length=133.77261), Row(page='NextSong', length=363.96363), Row(page='NextSong', length=129.35791), Row(page='NextSong', length=49.68444), Row(page='NextSong', length=138.1873), Row(page='NextSong', length=518.89587), Row(page='NextSong', length=106.84036), Row(page='NextSong', length=334.68036), Row(page='NextSong', length=450.79465), Row(page='NextSong', length=199.00036), Row(page='NextSong', length=807.18322), Row(page='NextSong', length=281.73016), Row(page='NextSong', length=144.09098), Row(page='NextSong', length=103.31383), Row(page='NextSong', length=363.33669), Row(page='NextSong', length=332.72118), Row(page='NextSong', length=413.04771), Row(page='NextSong', length=353.61914), Row(page='NextSong', length=311.50975), Row(page='NextSong', length=122.56608), Row(page='NextSong', length=563.35628), Row(page='NextSong', length=509.25669), Row(page='NextSong', length=451.16036), Row(page='NextSong', length=326.97424), Row(page='NextSong', length=122.25261), Row(page='NextSong', length=449.01832), Row(page='NextSong', length=185.88689), Row(page='NextSong', length=345.83465), Row(page='NextSong', length=206.57587), Row(page='NextSong', length=224.88771), Row(page='NextSong', length=161.01832), Row(page='NextSong', length=240.22159), Row(page='NextSong', length=236.5122), Row(page='NextSong', length=237.7922), Row(page='NextSong', length=261.74649), Row(page='NextSong', length=247.562), Row(page='NextSong', length=308.11383), Row(page='NextSong', length=156.99546), Row(page='NextSong', length=210.05016), Row(page='NextSong', length=153.12934), Row(page='NextSong', length=33.802), Row(page='NextSong', length=322.48118), Row(page='NextSong', length=340.4273), Row(page='NextSong', length=380.21179), Row(page='NextSong', length=142.8371), Row(page='NextSong', length=113.21424), Row(page='NextSong', length=336.14322), Row(page='NextSong', length=329.76934), Row(page='NextSong', length=176.24771), Row(page='NextSong', length=335.3073), Row(page='NextSong', length=171.44118), Row(page='NextSong', length=463.3073), Row(page='NextSong', length=217.41669), Row(page='NextSong', length=355.3171), Row(page='NextSong', length=218.77506), Row(page='NextSong', length=467.64363), Row(page='NextSong', length=277.81179), Row(page='NextSong', length=272.71791), Row(page='NextSong', length=192.1824), Row(page='NextSong', length=382.27546), Row(page='NextSong', length=256.20853), Row(page='NextSong', length=243.93098), Row(page='NextSong', length=310.59546), Row(page='NextSong', length=29.02159), Row(page='NextSong', length=450.76853), Row(page='NextSong', length=410.80118), Row(page='NextSong', length=76.72118), Row(page='NextSong', length=139.98975), Row(page='NextSong', length=338.83383), Row(page='NextSong', length=126.22322), Row(page='NextSong', length=34.0371), Row(page='NextSong', length=496.53506), Row(page='NextSong', length=439.90159), Row(page='NextSong', length=77.84444), Row(page='NextSong', length=506.87955), Row(page='NextSong', length=31.32036), Row(page='NextSong', length=315.14077), Row(page='NextSong', length=137.61261), Row(page='NextSong', length=440.42404), Row(page='NextSong', length=90.61832), Row(page='NextSong', length=376.78975), Row(page='NextSong', length=76.32934), Row(page='NextSong', length=370.83383), Row(page='NextSong', length=81.81506), Row(page='NextSong', length=397.66159), Row(page='NextSong', length=407.87546), Row(page='NextSong', length=451.52608), Row(page='NextSong', length=444.55138), Row(page='NextSong', length=28.99546), Row(page='NextSong', length=412.05506), Row(page='NextSong', length=120.13669), Row(page='NextSong', length=336.74404), Row(page='NextSong', length=190.14485), Row(page='NextSong', length=260.28363), Row(page='NextSong', length=127.52934), Row(page='NextSong', length=210.99057), Row(page='NextSong', length=209.52771), Row(page='NextSong', length=197.53751), Row(page='NextSong', length=212.6624), Row(page='NextSong', length=161.51465), Row(page='NextSong', length=267.65016), Row(page='NextSong', length=248.21506), Row(page='NextSong', length=288.23465), Row(page='NextSong', length=369.162), Row(page='NextSong', length=288.73098), Row(page='NextSong', length=250.90567), Row(page='NextSong', length=234.4224), Row(page='NextSong', length=311.92771), Row(page='NextSong', length=303.25506), Row(page='NextSong', length=264.54159), Row(page='NextSong', length=139.31057), Row(page='NextSong', length=627.9571), Row(page='NextSong', length=158.40608), Row(page='NextSong', length=148.06159), Row(page='NextSong', length=298.23955), Row(page='NextSong', length=119.40526), Row(page='NextSong', length=298.81424), Row(page='NextSong', length=363.41506), Row(page='NextSong', length=265.9522), Row(page='NextSong', length=176.95302), Row(page='NextSong', length=243.06893), Row(page='NextSong', length=280.42404), Row(page='NextSong', length=254.35383), Row(page='NextSong', length=201.01179), Row(page='NextSong', length=452.62322), Row(page='NextSong', length=454.89587), Row(page='NextSong', length=202.60526), Row(page='NextSong', length=109.73995), Row(page='NextSong', length=129.59302), Row(page='NextSong', length=330.94485), Row(page='NextSong', length=298.08281), Row(page='NextSong', length=269.11302), Row(page='NextSong', length=162.63791), Row(page='NextSong', length=421.43302), Row(page='NextSong', length=379.0624), Row(page='NextSong', length=170.91873), Row(page='NextSong', length=426.03057), Row(page='NextSong', length=552.85506), Row(page='NextSong', length=339.48689), Row(page='NextSong', length=501.02812), Row(page='NextSong', length=310.02077), Row(page='NextSong', length=160.41751), Row(page='NextSong', length=579.23873), Row(page='NextSong', length=41.01179), Row(page='NextSong', length=382.53669), Row(page='NextSong', length=381.43955), Row(page='NextSong', length=439.562), Row(page='NextSong', length=41.19465), Row(page='NextSong', length=472.16281), Row(page='NextSong', length=483.16036), Row(page='NextSong', length=72.17587), Row(page='NextSong', length=705.69751), Row(page='NextSong', length=163.082), Row(page='NextSong', length=415.4771), Row(page='NextSong', length=150.02077), Row(page='NextSong', length=415.37261), Row(page='NextSong', length=84.16608), Row(page='NextSong', length=311.64036), Row(page='NextSong', length=308.79302), Row(page='NextSong', length=650.94485), Row(page='NextSong', length=276.24444), Row(page='NextSong', length=99.42159), Row(page='NextSong', length=531.59138), Row(page='NextSong', length=251.42812), Row(page='NextSong', length=234.97098), Row(page='NextSong', length=233.74322), Row(page='NextSong', length=201.69098), Row(page='NextSong', length=312.24118), Row(page='NextSong', length=112.16934), Row(page='NextSong', length=209.76281), Row(page='NextSong', length=213.13261), Row(page='NextSong', length=142.2624), Row(page='NextSong', length=224.86159), Row(page='NextSong', length=247.74485), Row(page='NextSong', length=188.31628), Row(page='NextSong', length=250.3571), Row(page='NextSong', length=216.47628), Row(page='NextSong', length=219.71546), Row(page='NextSong', length=297.84771), Row(page='NextSong', length=206.00118), Row(page='NextSong', length=228.10077), Row(page='NextSong', length=243.19955), Row(page='NextSong', length=346.30485), Row(page='NextSong', length=188.86485), Row(page='NextSong', length=151.03955), Row(page='NextSong', length=221.49179), Row(page='NextSong', length=369.13587), Row(page='NextSong', length=319.29424), Row(page='NextSong', length=168.22812), Row(page='NextSong', length=460.12036), Row(page='NextSong', length=170.84036), Row(page='NextSong', length=138.26567), Row(page='NextSong', length=190.98077), Row(page='NextSong', length=92.00281), Row(page='NextSong', length=144.48281), Row(page='NextSong', length=281.20771), Row(page='NextSong', length=217.18159), Row(page='NextSong', length=438.7522), Row(page='NextSong', length=123.68934), Row(page='NextSong', length=163.81342), Row(page='NextSong', length=193.72363), Row(page='NextSong', length=160.67873), Row(page='NextSong', length=462.23628), Row(page='NextSong', length=268.7473), Row(page='NextSong', length=262.08608), Row(page='NextSong', length=242.02404), Row(page='NextSong', length=154.20036), Row(page='NextSong', length=179.93098), Row(page='NextSong', length=348.02893), Row(page='NextSong', length=344.05832), Row(page='NextSong', length=377.44281), Row(page='NextSong', length=398.31465), Row(page='NextSong', length=138.23955), Row(page='NextSong', length=272.22159), Row(page='NextSong', length=151.84934), Row(page='NextSong', length=72.54159), Row(page='NextSong', length=111.15057), Row(page='NextSong', length=484.93669), Row(page='NextSong', length=96.10404), Row(page='NextSong', length=313.5473), Row(page='NextSong', length=158.51057), Row(page='NextSong', length=331.85914), Row(page='NextSong', length=304.97914), Row(page='NextSong', length=170.13506), Row(page='NextSong', length=642.82077), Row(page='NextSong', length=120.31955), Row(page='NextSong', length=300.22485), Row(page='NextSong', length=382.56281), Row(page='NextSong', length=396.90404), Row(page='NextSong', length=418.2722), Row(page='NextSong', length=306.38975), Row(page='NextSong', length=50.96444), Row(page='NextSong', length=480.13016), Row(page='NextSong', length=311.40526), Row(page='NextSong', length=343.82322), Row(page='NextSong', length=437.36771), Row(page='NextSong', length=363.02322), Row(page='NextSong', length=469.57669), Row(page='NextSong', length=65.90649), Row(page='NextSong', length=371.93098), Row(page='NextSong', length=412.3424), Row(page='NextSong', length=494.73261), Row(page='NextSong', length=118.67383), Row(page='NextSong', length=367.75138), Row(page='NextSong', length=136.41098), Row(page='NextSong', length=124.26404), Row(page='NextSong', length=437.9424), Row(page='NextSong', length=179.59138), Row(page='NextSong', length=456.51546), Row(page='NextSong', length=141.53098), Row(page='NextSong', length=551.99302), Row(page='NextSong', length=393.19465), Row(page='NextSong', length=415.08526), Row(page='NextSong', length=75.04934), Row(page='NextSong', length=379.71546), Row(page='NextSong', length=410.04363), Row(page='NextSong', length=50.99057), Row(page='NextSong', length=536.94649), Row(page='NextSong', length=898.53342), Row(page='NextSong', length=612.25751), Row(page='NextSong', length=527.93424), Row(page='NextSong', length=631.64036), Row(page='NextSong', length=380.49914), Row(page='NextSong', length=65.33179), Row(page='NextSong', length=538.93179), Row(page='NextSong', length=464.79628), Row(page='NextSong', length=196.51873), Row(page='NextSong', length=293.66812), Row(page='NextSong', length=117.52444), Row(page='NextSong', length=278.09914), Row(page='NextSong', length=257.77587), Row(page='NextSong', length=269.00853), Row(page='NextSong', length=261.79873), Row(page='NextSong', length=315.66322), Row(page='NextSong', length=173.40036), Row(page='NextSong', length=202.94485), Row(page='NextSong', length=253.6224), Row(page='NextSong', length=222.37995), Row(page='NextSong', length=265.42975), Row(page='NextSong', length=206.34077), Row(page='NextSong', length=392.04526), Row(page='NextSong', length=262.66077), Row(page='NextSong', length=494.81098), Row(page='NextSong', length=287.39873), Row(page='NextSong', length=230.53016), Row(page='NextSong', length=216.34567), Row(page='NextSong', length=395.33669), Row(page='NextSong', length=541.09995), Row(page='NextSong', length=381.83138), Row(page='NextSong', length=187.97669), Row(page='NextSong', length=145.13587), Row(page='NextSong', length=316.21179), Row(page='NextSong', length=419.94404), Row(page='NextSong', length=224.62649), Row(page='NextSong', length=149.75955), Row(page='NextSong', length=315.01016), Row(page='NextSong', length=413.25669), Row(page='NextSong', length=464.3522), Row(page='NextSong', length=541.98812), Row(page='NextSong', length=283.45424), Row(page='NextSong', length=120.34567), Row(page='NextSong', length=231.54893), Row(page='NextSong', length=299.31057), Row(page='NextSong', length=263.67955), Row(page='NextSong', length=654.91546), Row(page='NextSong', length=345.0771), Row(page='NextSong', length=352.13016), Row(page='NextSong', length=262.63465), Row(page='NextSong', length=266.31791), Row(page='NextSong', length=384.1824), Row(page='NextSong', length=473.12934), Row(page='NextSong', length=311.09179), Row(page='NextSong', length=152.05832), Row(page='NextSong', length=269.13914), Row(page='NextSong', length=99.44771), Row(page='NextSong', length=373.18485), Row(page='NextSong', length=102.29506), Row(page='NextSong', length=591.28118), Row(page='NextSong', length=97.93261), Row(page='NextSong', length=135.47057), Row(page='NextSong', length=338.02404), Row(page='NextSong', length=334.31465), Row(page='NextSong', length=153.7824), Row(page='NextSong', length=383.11138), Row(page='NextSong', length=382.64118), Row(page='NextSong', length=369.08363), Row(page='NextSong', length=43.36281), Row(page='NextSong', length=417.95873), Row(page='NextSong', length=358.39955), Row(page='NextSong', length=370.28526), Row(page='NextSong', length=80.3522), Row(page='NextSong', length=421.82485), Row(page='NextSong', length=53.73342), Row(page='NextSong', length=356.85832), Row(page='NextSong', length=363.36281), Row(page='NextSong', length=208.29995), Row(page='NextSong', length=229.85098), Row(page='NextSong', length=218.53995), Row(page='NextSong', length=245.73342), Row(page='NextSong', length=241.162), Row(page='NextSong', length=520.77669), Row(page='NextSong', length=187.03628), Row(page='NextSong', length=220.81261), Row(page='NextSong', length=243.66975), Row(page='NextSong', length=311.74485), Row(page='NextSong', length=298.13506), Row(page='NextSong', length=232.09751), Row(page='NextSong', length=171.31057), Row(page='NextSong', length=293.35465), Row(page='NextSong', length=257.38404), Row(page='NextSong', length=148.24444), Row(page='NextSong', length=690.52036), Row(page='NextSong', length=195.3171), Row(page='NextSong', length=193.33179), Row(page='NextSong', length=324.96281), Row(page='NextSong', length=310.64771), Row(page='NextSong', length=281.67791), Row(page='NextSong', length=374.56934), Row(page='NextSong', length=248.60689), Row(page='NextSong', length=407.37914), Row(page='NextSong', length=219.01016), Row(page='NextSong', length=189.33506), Row(page='NextSong', length=101.22404), Row(page='NextSong', length=462.88934), Row(page='NextSong', length=91.32363), Row(page='NextSong', length=310.69995), Row(page='NextSong', length=261.56363), Row(page='NextSong', length=318.14485), Row(page='NextSong', length=319.92118), Row(page='NextSong', length=467.93098), Row(page='NextSong', length=251.58485), Row(page='NextSong', length=156.78649), Row(page='NextSong', length=49.162), Row(page='NextSong', length=216.58077), Row(page='NextSong', length=73.50812), Row(page='NextSong', length=376.52853), Row(page='NextSong', length=275.74812), Row(page='NextSong', length=312.42404), Row(page='NextSong', length=262.60853), Row(page='NextSong', length=302.75873), Row(page='NextSong', length=186.61832), Row(page='NextSong', length=361.42975), Row(page='NextSong', length=705.41016), Row(page='NextSong', length=206.49751), Row(page='NextSong', length=332.56444), Row(page='NextSong', length=288.39138), Row(page='NextSong', length=315.55873), Row(page='NextSong', length=182.22975), Row(page='NextSong', length=353.14893), Row(page='NextSong', length=167.67955), Row(page='NextSong', length=429.66159), Row(page='NextSong', length=316.52526), Row(page='NextSong', length=74.4224), Row(page='NextSong', length=401.05751), Row(page='NextSong', length=158.74567), Row(page='NextSong', length=113.13587), Row(page='NextSong', length=455.75791), Row(page='NextSong', length=425.22077), Row(page='NextSong', length=379.24526), Row(page='NextSong', length=88.73751), Row(page='NextSong', length=601.67791), Row(page='NextSong', length=313.70404), Row(page='NextSong', length=619.38893), Row(page='NextSong', length=370.1024), Row(page='NextSong', length=99.21261), Row(page='NextSong', length=602.93179), Row(page='NextSong', length=248.73751), Row(page='NextSong', length=360.75057), Row(page='NextSong', length=227.47383), Row(page='NextSong', length=199.94077), Row(page='NextSong', length=414.6673), Row(page='NextSong', length=323.73506), Row(page='NextSong', length=199.47057), Row(page='NextSong', length=253.20444), Row(page='NextSong', length=445.51791), Row(page='NextSong', length=330.55302), Row(page='NextSong', length=331.38893), Row(page='NextSong', length=259.23873), Row(page='NextSong', length=171.54567), Row(page='NextSong', length=391.10485), Row(page='NextSong', length=131.57832), Row(page='NextSong', length=293.32853), Row(page='NextSong', length=226.11546), Row(page='NextSong', length=210.20689), Row(page='NextSong', length=303.80363), Row(page='NextSong', length=146.36363), Row(page='NextSong', length=190.92853), Row(page='NextSong', length=197.95546), Row(page='NextSong', length=186.33098), Row(page='NextSong', length=117.26322), Row(page='NextSong', length=613.77261), Row(page='NextSong', length=246.62159), Row(page='NextSong', length=181.7073), Row(page='NextSong', length=169.79546), Row(page='NextSong', length=322.55955), Row(page='NextSong', length=323.81342), Row(page='NextSong', length=286.77179), Row(page='NextSong', length=142.36689), Row(page='NextSong', length=255.29424), Row(page='NextSong', length=406.59546), Row(page='NextSong', length=156.15955), Row(page='NextSong', length=25.39057), Row(page='NextSong', length=314.22649), Row(page='NextSong', length=100.91057), Row(page='NextSong', length=394.55302), Row(page='NextSong', length=338.12853), Row(page='NextSong', length=104.33261), Row(page='NextSong', length=139.93751), Row(page='NextSong', length=139.4673), Row(page='NextSong', length=540.29016), Row(page='NextSong', length=527.20281), Row(page='NextSong', length=55.71873), Row(page='NextSong', length=680.72444), Row(page='NextSong', length=54.59546), Row(page='NextSong', length=136.56771), Row(page='NextSong', length=610.21995), Row(page='NextSong', length=184.24118), Row(page='NextSong', length=168.28036), Row(page='NextSong', length=117.83791), Row(page='NextSong', length=435.64363), Row(page='NextSong', length=495.0722), Row(page='NextSong', length=324.38812), Row(page='NextSong', length=441.93914), Row(page='NextSong', length=414.92853), Row(page='NextSong', length=407.06567), Row(page='NextSong', length=79.20281), Row(page='NextSong', length=444.3424), Row(page='NextSong', length=69.90322), Row(page='NextSong', length=418.53342), Row(page='NextSong', length=456.98567), Row(page='NextSong', length=711.23546), Row(page='NextSong', length=320.41751), Row(page='NextSong', length=539.34975), Row(page='NextSong', length=560.43057), Row(page='NextSong', length=62.06649), Row(page='NextSong', length=415.32036), Row(page='NextSong', length=123.11465), Row(page='NextSong', length=394.00444), Row(page='NextSong', length=251.97669), Row(page='NextSong', length=173.76608), Row(page='NextSong', length=232.77669), Row(page='NextSong', length=250.69669), Row(page='NextSong', length=330.21342), Row(page='NextSong', length=174.68036), Row(page='NextSong', length=259.00363), Row(page='NextSong', length=315.32363), Row(page='NextSong', length=304.53506), Row(page='NextSong', length=223.05914), Row(page='NextSong', length=277.36771), Row(page='NextSong', length=231.57506), Row(page='NextSong', length=313.02485), Row(page='NextSong', length=325.11955), Row(page='NextSong', length=234.13506), Row(page='NextSong', length=365.26975), Row(page='NextSong', length=224.31302), Row(page='NextSong', length=225.72363), Row(page='NextSong', length=430.57587), Row(page='NextSong', length=122.74893), Row(page='NextSong', length=217.88689), Row(page='NextSong', length=292.70159), Row(page='NextSong', length=490.1873), Row(page='NextSong', length=241.08363), Row(page='NextSong', length=448.88771), Row(page='NextSong', length=543.84281), Row(page='NextSong', length=290.61179), Row(page='NextSong', length=146.9122), Row(page='NextSong', length=205.24363), Row(page='NextSong', length=397.26975), Row(page='NextSong', length=189.77914), Row(page='NextSong', length=313.10322), Row(page='NextSong', length=304.29995), Row(page='NextSong', length=457.50812), Row(page='NextSong', length=298.52689), Row(page='NextSong', length=450.14159), Row(page='NextSong', length=105.50812), Row(page='NextSong', length=134.63465), Row(page='NextSong', length=391.1571), Row(page='NextSong', length=374.46485), Row(page='NextSong', length=475.68934), Row(page='NextSong', length=109.76608), Row(page='NextSong', length=423.6273), Row(page='NextSong', length=356.44036), Row(page='NextSong', length=285.02159), Row(page='NextSong', length=393.53424), Row(page='NextSong', length=11.36281), Row(page='NextSong', length=451.18649), Row(page='NextSong', length=424.54159), Row(page='NextSong', length=342.09914), Row(page='NextSong', length=360.72444), Row(page='NextSong', length=159.65995), Row(page='NextSong', length=535.87546), Row(page='NextSong', length=550.53016), Row(page='NextSong', length=38.86975), Row(page='NextSong', length=453.92934), Row(page='NextSong', length=314.46159), Row(page='NextSong', length=417.4624), Row(page='NextSong', length=515.10812), Row(page='NextSong', length=444.02893), Row(page='NextSong', length=383.42485), Row(page='NextSong', length=406.77832), Row(page='NextSong', length=407.32689), Row(page='NextSong', length=83.53914), Row(page='NextSong', length=107.20608), Row(page='NextSong', length=295.52281), Row(page='NextSong', length=66.37669), Row(page='NextSong', length=437.08036), Row(page='NextSong', length=380.62975), Row(page='NextSong', length=472.63302), Row(page='NextSong', length=109.68771), Row(page='NextSong', length=406.7522), Row(page='NextSong', length=626.25914), Row(page='NextSong', length=69.98159), Row(page='NextSong', length=561.44934), Row(page='NextSong', length=395.78077), Row(page='NextSong', length=470.80444), Row(page='NextSong', length=536.42404), Row(page='NextSong', length=590.91546), Row(page='NextSong', length=139.17995), Row(page='NextSong', length=252.21179), Row(page='NextSong', length=222.6673), Row(page='NextSong', length=215.90159), Row(page='NextSong', length=205.60934), Row(page='NextSong', length=356.33587), Row(page='NextSong', length=215.84934), Row(page='NextSong', length=156.73424), Row(page='NextSong', length=530.1024), Row(page='NextSong', length=319.32036), Row(page='NextSong', length=260.30975), Row(page='NextSong', length=447.42485), Row(page='NextSong', length=322.16771), Row(page='NextSong', length=452.38812), Row(page='NextSong', length=190.58893), Row(page='NextSong', length=265.58649), Row(page='NextSong', length=242.36363), Row(page='NextSong', length=397.60934), Row(page='NextSong', length=292.57098), Row(page='NextSong', length=307.722), Row(page='NextSong', length=253.72689), Row(page='NextSong', length=231.33995), Row(page='NextSong', length=205.21751), Row(page='NextSong', length=245.02812), Row(page='NextSong', length=233.82159), Row(page='NextSong', length=398.602), Row(page='NextSong', length=192.60036), Row(page='NextSong', length=345.59955), Row(page='NextSong', length=270.8371), Row(page='NextSong', length=414.30159), Row(page='NextSong', length=580.51873), Row(page='NextSong', length=292.33587), Row(page='NextSong', length=317.85751), Row(page='NextSong', length=142.47138), Row(page='NextSong', length=174.73261), Row(page='NextSong', length=263.47057), Row(page='NextSong', length=147.93098), Row(page='NextSong', length=128.02567), Row(page='NextSong', length=371.09506), Row(page='NextSong', length=124.83873), Row(page='NextSong', length=129.20118), Row(page='NextSong', length=591.82975), Row(page='NextSong', length=285.57016), Row(page='NextSong', length=342.85669), Row(page='NextSong', length=152.99873), Row(page='NextSong', length=262.24281), Row(page='NextSong', length=396.042), Row(page='NextSong', length=185.73016), Row(page='NextSong', length=524.48608), Row(page='NextSong', length=403.87873), Row(page='NextSong', length=322.19383), Row(page='NextSong', length=291.29098), Row(page='NextSong', length=296.48934), Row(page='NextSong', length=304.45669), Row(page='NextSong', length=301.66159), Row(page='NextSong', length=180.29669), Row(page='NextSong', length=368.5873), Row(page='NextSong', length=289.20118), Row(page='NextSong', length=190.48444), Row(page='NextSong', length=386.24608), Row(page='NextSong', length=431.72526), Row(page='NextSong', length=339.93098), Row(page='NextSong', length=352.73098), Row(page='NextSong', length=107.7024), Row(page='NextSong', length=515.36934), Row(page='NextSong', length=85.99465), Row(page='NextSong', length=136.85506), Row(page='NextSong', length=144.63955), Row(page='NextSong', length=110.88934), Row(page='NextSong', length=331.25832), Row(page='NextSong', length=418.42893), Row(page='NextSong', length=343.84934), Row(page='NextSong', length=445.30893), Row(page='NextSong', length=364.5122), Row(page='NextSong', length=465.8673), Row(page='NextSong', length=392.38485), Row(page='NextSong', length=67.23873), Row(page='NextSong', length=338.9122), Row(page='NextSong', length=523.28444), Row(page='NextSong', length=116.21832), Row(page='NextSong', length=379.89832), Row(page='NextSong', length=2.16771), Row(page='NextSong', length=265.7171), Row(page='NextSong', length=181.34159), Row(page='NextSong', length=209.34485), Row(page='NextSong', length=219.89832), Row(page='NextSong', length=169.24689), Row(page='NextSong', length=249.52118), Row(page='NextSong', length=189.88363), Row(page='NextSong', length=180.03546), Row(page='NextSong', length=286.27546), Row(page='NextSong', length=355.65669), Row(page='NextSong', length=190.06649), Row(page='NextSong', length=133.25016), Row(page='NextSong', length=186.64444), Row(page='NextSong', length=223.89506), Row(page='NextSong', length=214.69995), Row(page='NextSong', length=188.13342), Row(page='NextSong', length=333.16526), Row(page='NextSong', length=223.37261), Row(page='NextSong', length=348.23791), Row(page='NextSong', length=263.6273), Row(page='NextSong', length=521.11628), Row(page='NextSong', length=273.37098), Row(page='NextSong', length=259.082), Row(page='NextSong', length=219.45424), Row(page='NextSong', length=324.67546), Row(page='NextSong', length=140.22485), Row(page='NextSong', length=278.62159), Row(page='NextSong', length=165.642), Row(page='NextSong', length=236.82567), Row(page='NextSong', length=292.91057), Row(page='NextSong', length=148.79302), Row(page='NextSong', length=182.90893), Row(page='NextSong', length=261.27628), Row(page='NextSong', length=160.62649), Row(page='NextSong', length=158.17098), Row(page='NextSong', length=230.05995), Row(page='NextSong', length=331.59791), Row(page='NextSong', length=195.70893), Row(page='NextSong', length=518.05995), Row(page='NextSong', length=221.33506), Row(page='NextSong', length=338.41587), Row(page='NextSong', length=387.02975), Row(page='NextSong', length=170.57914), Row(page='NextSong', length=104.38485), Row(page='NextSong', length=136.25424), Row(page='NextSong', length=520.80281), Row(page='NextSong', length=203.28444), Row(page='NextSong', length=287.63383), Row(page='NextSong', length=187.37587), Row(page='NextSong', length=251.66322), Row(page='NextSong', length=511.32036), Row(page='NextSong', length=557.13914), Row(page='NextSong', length=180.92363), Row(page='NextSong', length=351.9473), Row(page='NextSong', length=300.43383), Row(page='NextSong', length=343.43138), Row(page='NextSong', length=421.04118), Row(page='NextSong', length=273.50159), Row(page='NextSong', length=298.26567), Row(page='NextSong', length=31.50322), Row(page='NextSong', length=409.93914), Row(page='NextSong', length=301.40036), Row(page='NextSong', length=158.53669), Row(page='NextSong', length=140.19873), Row(page='NextSong', length=272.24771), Row(page='NextSong', length=96.02567), Row(page='NextSong', length=26.3571), Row(page='NextSong', length=374.43873), Row(page='NextSong', length=96.26077), Row(page='NextSong', length=460.40771), Row(page='NextSong', length=139.02322), Row(page='NextSong', length=372.79302), Row(page='NextSong', length=329.45587), Row(page='NextSong', length=34.40281), Row(page='NextSong', length=330.47465), Row(page='NextSong', length=364.22485), Row(page='NextSong', length=82.65098), Row(page='NextSong', length=457.63873), Row(page='NextSong', length=580.04853), Row(page='NextSong', length=381.46567), Row(page='NextSong', length=93.41342), Row(page='NextSong', length=239.3073), Row(page='NextSong', length=186.14812), Row(page='NextSong', length=300.19873), Row(page='NextSong', length=240.95302), Row(page='NextSong', length=324.44036), Row(page='NextSong', length=176.09098), Row(page='NextSong', length=223.7122), Row(page='NextSong', length=258.7424), Row(page='NextSong', length=142.15791), Row(page='NextSong', length=238.23628), Row(page='NextSong', length=283.03628), Row(page='NextSong', length=164.46649), Row(page='NextSong', length=221.98812), Row(page='NextSong', length=443.58485), Row(page='NextSong', length=325.51138), Row(page='NextSong', length=142.23628), Row(page='NextSong', length=249.49506), Row(page='NextSong', length=26.56608), Row(page='NextSong', length=206.75873), Row(page='NextSong', length=275.85261), Row(page='NextSong', length=284.62975), Row(page='NextSong', length=202.762), Row(page='NextSong', length=317.64853), Row(page='NextSong', length=206.21016), Row(page='NextSong', length=120.00608), Row(page='NextSong', length=248.29342), Row(page='NextSong', length=374.88281), Row(page='NextSong', length=405.10649), Row(page='NextSong', length=435.51302), Row(page='NextSong', length=161.33179), Row(page='NextSong', length=151.66649), Row(page='NextSong', length=149.36771), Row(page='NextSong', length=190.82404), Row(page='NextSong', length=125.20444), Row(page='NextSong', length=389.98159), Row(page='NextSong', length=173.5571), Row(page='NextSong', length=226.63791), Row(page='NextSong', length=107.88526), Row(page='NextSong', length=365.45261), Row(page='NextSong', length=505.05098), Row(page='NextSong', length=317.962), Row(page='NextSong', length=213.68118), Row(page='NextSong', length=142.28853), Row(page='NextSong', length=191.81669), Row(page='NextSong', length=204.40771), Row(page='NextSong', length=387.23873), Row(page='NextSong', length=285.962), Row(page='NextSong', length=299.04934), Row(page='NextSong', length=293.58975), Row(page='NextSong', length=535.35302), Row(page='NextSong', length=144.50893), Row(page='NextSong', length=296.80281), Row(page='NextSong', length=375.17016), Row(page='NextSong', length=463.98649), Row(page='NextSong', length=123.01016), Row(page='NextSong', length=483.49995), Row(page='NextSong', length=183.562), Row(page='NextSong', length=385.25342), Row(page='NextSong', length=359.6273), Row(page='NextSong', length=572.76036), Row(page='NextSong', length=51.3824), Row(page='NextSong', length=347.29751), Row(page='NextSong', length=162.5073), Row(page='NextSong', length=291.18649), Row(page='NextSong', length=81.3971), Row(page='NextSong', length=423.99302), Row(page='NextSong', length=464.74404), Row(page='NextSong', length=932.98893), Row(page='NextSong', length=1278.45832), Row(page='NextSong', length=474.5922), Row(page='NextSong', length=532.13995), Row(page='NextSong', length=76.12036), Row(page='NextSong', length=150.25587), Row(page='NextSong', length=446.48444), Row(page='NextSong', length=35.70893), Row(page='NextSong', length=516.93669), Row(page='NextSong', length=60.89098), Row(page='NextSong', length=65.20118), Row(page='NextSong', length=1099.78077), Row(page='NextSong', length=534.5171), Row(page='NextSong', length=567.06567), Row(page='NextSong', length=411.50649), Row(page='NextSong', length=278.22975), Row(page='NextSong', length=303.62077), Row(page='NextSong', length=199.23546), Row(page='NextSong', length=371.90485), Row(page='NextSong', length=149.49832), Row(page='NextSong', length=206.88934), Row(page='NextSong', length=249.67791), Row(page='NextSong', length=150.49098), Row(page='NextSong', length=174.34077), Row(page='NextSong', length=336.16934), Row(page='NextSong', length=221.64853), Row(page='NextSong', length=186.69669), Row(page='NextSong', length=287.73832), Row(page='NextSong', length=99.47383), Row(page='NextSong', length=285.70077), Row(page='NextSong', length=235.4673), Row(page='NextSong', length=177.97179), Row(page='NextSong', length=177.65832), Row(page='NextSong', length=364.72118), Row(page='NextSong', length=211.90485), Row(page='NextSong', length=306.54649), Row(page='NextSong', length=189.09995), Row(page='NextSong', length=184.16281), Row(page='NextSong', length=252.52526), Row(page='NextSong', length=322.42893), Row(page='NextSong', length=258.29832), Row(page='NextSong', length=221.80526), Row(page='NextSong', length=384.05179), Row(page='NextSong', length=413.67465), Row(page='NextSong', length=189.12608), Row(page='NextSong', length=506.09587), Row(page='NextSong', length=400.8224), Row(page='NextSong', length=294.53016), Row(page='NextSong', length=267.4673), Row(page='NextSong', length=241.21424), Row(page='NextSong', length=73.87383), Row(page='NextSong', length=420.75383), Row(page='NextSong', length=200.30649), Row(page='NextSong', length=181.60281), Row(page='NextSong', length=967.36608), Row(page='NextSong', length=147.9571), Row(page='NextSong', length=452.54485), Row(page='NextSong', length=228.80608), Row(page='NextSong', length=150.93506), Row(page='NextSong', length=320.31302), Row(page='NextSong', length=538.30485), Row(page='NextSong', length=72.95955), Row(page='NextSong', length=343.19628), Row(page='NextSong', length=115.27791), Row(page='NextSong', length=396.32934), Row(page='NextSong', length=373.21098), Row(page='NextSong', length=57.70404), Row(page='NextSong', length=606.1971), Row(page='NextSong', length=353.51465), Row(page='NextSong', length=423.70567), Row(page='NextSong', length=22.25587), Row(page='NextSong', length=134.05995), Row(page='NextSong', length=108.2771), Row(page='NextSong', length=406.20363), Row(page='NextSong', length=547.26485), Row(page='NextSong', length=461.7922), Row(page='NextSong', length=571.8722), Row(page='NextSong', length=41.9522), Row(page='NextSong', length=146.59873), Row(page='NextSong', length=528.48281), Row(page='NextSong', length=329.37751), Row(page='NextSong', length=536.34567), Row(page='NextSong', length=358.08608), Row(page='NextSong', length=476.23791), Row(page='NextSong', length=43.88526), Row(page='NextSong', length=1117.36118), Row(page='NextSong', length=482.76853), Row(page='NextSong', length=426.37016), Row(page='NextSong', length=559.33342), Row(page='NextSong', length=460.25098), Row(page='NextSong', length=433.18812), Row(page='NextSong', length=110.78485), Row(page='NextSong', length=535.53587), Row(page='NextSong', length=23.50975), Row(page='NextSong', length=636.9171), Row(page='NextSong', length=201.50812), Row(page='NextSong', length=146.99057), Row(page='NextSong', length=268.85179), Row(page='NextSong', length=215.30077), Row(page='NextSong', length=276.97587), Row(page='NextSong', length=208.77016), Row(page='NextSong', length=247.97995), Row(page='NextSong', length=265.53424), Row(page='NextSong', length=271.38567), Row(page='NextSong', length=178.62485), Row(page='NextSong', length=291.94404), Row(page='NextSong', length=222.04036), Row(page='NextSong', length=232.46322), Row(page='NextSong', length=315.11465), Row(page='NextSong', length=455.8624), Row(page='NextSong', length=298.97098), Row(page='NextSong', length=262.922), Row(page='NextSong', length=240.87465), Row(page='NextSong', length=171.49342), Row(page='NextSong', length=351.73832), Row(page='NextSong', length=232.17587), Row(page='NextSong', length=265.09016), Row(page='NextSong', length=374.96118), Row(page='NextSong', length=192.96608), Row(page='NextSong', length=509.36118), Row(page='NextSong', length=253.46567), Row(page='NextSong', length=425.01179), Row(page='NextSong', length=329.7171), Row(page='NextSong', length=154.46159), Row(page='NextSong', length=221.46567), Row(page='NextSong', length=230.13832), Row(page='NextSong', length=308.97587), Row(page='NextSong', length=194.32444), Row(page='NextSong', length=164.15302), Row(page='NextSong', length=371.33016), Row(page='NextSong', length=239.38567), Row(page='NextSong', length=691.77424), Row(page='NextSong', length=243.9571), Row(page='NextSong', length=557.94893), Row(page='NextSong', length=314.30485), Row(page='NextSong', length=171.59791), Row(page='NextSong', length=140.042), Row(page='NextSong', length=504.24118), Row(page='NextSong', length=410.53995), Row(page='NextSong', length=166.81751), Row(page='NextSong', length=308.40118), Row(page='NextSong', length=268.35546), Row(page='NextSong', length=90.98404), Row(page='NextSong', length=367.56853), Row(page='NextSong', length=306.85995), Row(page='NextSong', length=540.99546), Row(page='NextSong', length=214.33424), Row(page='NextSong', length=101.0673), Row(page='NextSong', length=320.28689), Row(page='NextSong', length=734.48444), Row(page='NextSong', length=108.19873), Row(page='NextSong', length=138.60526), Row(page='NextSong', length=76.56444), Row(page='NextSong', length=155.14077), Row(page='NextSong', length=150.85669), Row(page='NextSong', length=38.24281), Row(page='NextSong', length=323.60444), Row(page='NextSong', length=331.49342), Row(page='NextSong', length=102.73914), Row(page='NextSong', length=118.07302), Row(page='NextSong', length=561.29261), Row(page='NextSong', length=77.60934), Row(page='NextSong', length=132.46649), Row(page='NextSong', length=411.37587), Row(page='NextSong', length=40.69832), Row(page='NextSong', length=382.9024), Row(page='NextSong', length=428.01587), Row(page='NextSong', length=64.36526), Row(page='NextSong', length=417.35791), Row(page='NextSong', length=369.52771), Row(page='NextSong', length=556.72118), Row(page='NextSong', length=1059.81342), Row(page='NextSong', length=118.54322), Row(page='NextSong', length=102.68689), Row(page='NextSong', length=111.35955), Row(page='NextSong', length=130.89914), Row(page='NextSong', length=377.10322), Row(page='NextSong', length=199.65342), Row(page='NextSong', length=274.1024), Row(page='NextSong', length=256.91383), Row(page='NextSong', length=174.52363), Row(page='NextSong', length=328.12363), Row(page='NextSong', length=165.98159), Row(page='NextSong', length=40.80281), Row(page='NextSong', length=223.86893), Row(page='NextSong', length=358.68689), Row(page='NextSong', length=287.16363), Row(page='NextSong', length=213.60281), Row(page='NextSong', length=247.58812), Row(page='NextSong', length=290.89914), Row(page='NextSong', length=245.26322), Row(page='NextSong', length=312.29342), Row(page='NextSong', length=244.58404), Row(page='NextSong', length=173.322), Row(page='NextSong', length=264.9073), Row(page='NextSong', length=259.16036), Row(page='NextSong', length=114.12853), Row(page='NextSong', length=201.29914), Row(page='NextSong', length=206.68036), Row(page='NextSong', length=225.4624), Row(page='NextSong', length=177.29261), Row(page='NextSong', length=174.23628), Row(page='NextSong', length=282.01751), Row(page='NextSong', length=299.15383), Row(page='NextSong', length=217.25995), Row(page='NextSong', length=446.64118), Row(page='NextSong', length=303.56853), Row(page='NextSong', length=87.14404), Row(page='NextSong', length=234.16118), Row(page='NextSong', length=215.06567), Row(page='NextSong', length=162.7424), Row(page='NextSong', length=319.89506), Row(page='NextSong', length=377.12934), Row(page='NextSong', length=821.05424), Row(page='NextSong', length=241.71057), Row(page='NextSong', length=398.00118), Row(page='NextSong', length=308.89751), Row(page='NextSong', length=315.48036), Row(page='NextSong', length=480.1824), Row(page='NextSong', length=153.41669), Row(page='NextSong', length=493.37424), Row(page='NextSong', length=281.18159), Row(page='NextSong', length=131.52608), Row(page='NextSong', length=331.65016), Row(page='NextSong', length=278.25587), Row(page='NextSong', length=21.91628), Row(page='NextSong', length=142.49751), Row(page='NextSong', length=71.47057), Row(page='NextSong', length=325.92934), Row(page='NextSong', length=654.52363), Row(page='NextSong', length=167.78404), Row(page='NextSong', length=77.08689), Row(page='NextSong', length=483.89179), Row(page='NextSong', length=118.38649), Row(page='NextSong', length=316.76036), Row(page='NextSong', length=694.25587), Row(page='NextSong', length=643.5522), Row(page='NextSong', length=297.27302), Row(page='NextSong', length=153.88689), Row(page='NextSong', length=401.31873), Row(page='NextSong', length=55.45751), Row(page='NextSong', length=374.02077), Row(page='NextSong', length=350.06649), Row(page='NextSong', length=80.14322), Row(page='NextSong', length=633.83465), Row(page='NextSong', length=2310.79138), Row(page='NextSong', length=394.86649), Row(page='NextSong', length=896.65261), Row(page='NextSong', length=89.3122), Row(page='NextSong', length=127.50322), Row(page='NextSong', length=360.07138), Row(page='NextSong', length=479.60771), Row(page='NextSong', length=422.5824), Row(page='NextSong', length=586.86649), Row(page='NextSong', length=63.39873), Row(page='NextSong', length=430.2624), Row(page='NextSong', length=202.37016), Row(page='NextSong', length=224.41751), Row(page='NextSong', length=207.77751), Row(page='NextSong', length=284.02893), Row(page='NextSong', length=338.96444), Row(page='NextSong', length=298.65751), Row(page='NextSong', length=215.43138), Row(page='NextSong', length=174.86322), Row(page='NextSong', length=214.67383), Row(page='NextSong', length=255.65995), Row(page='NextSong', length=205.19138), Row(page='NextSong', length=363.10159), Row(page='NextSong', length=134.42567), Row(page='NextSong', length=248.55465), Row(page='NextSong', length=571.03628), Row(page='NextSong', length=300.5122), Row(page='NextSong', length=138.9971), Row(page='NextSong', length=235.83302), Row(page='NextSong', length=178.99057), Row(page='NextSong', length=293.43302), Row(page='NextSong', length=260.91057), Row(page='NextSong', length=211.93098), Row(page='NextSong', length=207.38567), Row(page='NextSong', length=237.47873), Row(page='NextSong', length=334.70649), Row(page='NextSong', length=236.14649), Row(page='NextSong', length=440.842), Row(page='NextSong', length=78.49751), Row(page='NextSong', length=498.33751), Row(page='NextSong', length=198.86975), Row(page='NextSong', length=292.17914), Row(page='NextSong', length=407.92771), Row(page='NextSong', length=555.51955), Row(page='NextSong', length=402.23302), Row(page='NextSong', length=187.6371), Row(page='NextSong', length=487.05261), Row(page='NextSong', length=64.7571), Row(page='NextSong', length=394.81424), Row(page='NextSong', length=317.28281), Row(page='NextSong', length=177.55383), Row(page='NextSong', length=219.8722), Row(page='NextSong', length=292.8322), Row(page='NextSong', length=280.47628), Row(page='NextSong', length=152.39791), Row(page='NextSong', length=92.15955), Row(page='NextSong', length=169.56036), Row(page='NextSong', length=369.57995), Row(page='NextSong', length=351.99955), Row(page='NextSong', length=449.38404), Row(page='NextSong', length=293.642), Row(page='NextSong', length=473.25995), Row(page='NextSong', length=262.3473), Row(page='NextSong', length=52.71465), Row(page='NextSong', length=450.69016), Row(page='NextSong', length=428.14649), Row(page='NextSong', length=347.48036), Row(page='NextSong', length=376.55465), Row(page='NextSong', length=78.57587), Row(page='NextSong', length=71.36608), Row(page='NextSong', length=510.06649), Row(page='NextSong', length=391.94077), Row(page='NextSong', length=113.47546), Row(page='NextSong', length=109.7922), Row(page='NextSong', length=670.06649), Row(page='NextSong', length=403.61751), Row(page='NextSong', length=150.43873), Row(page='NextSong', length=449.72363), Row(page='NextSong', length=509.67465), Row(page='NextSong', length=388.54485), Row(page='NextSong', length=481.82812), Row(page='NextSong', length=421.32853), Row(page='NextSong', length=62.87628), Row(page='NextSong', length=323.99628), Row(page='NextSong', length=200.75057), Row(page='NextSong', length=162.87302), Row(page='NextSong', length=227.68281), Row(page='NextSong', length=185.20771), Row(page='NextSong', length=276.81914), Row(page='NextSong', length=326.60853), Row(page='NextSong', length=236.22485), Row(page='NextSong', length=317.57016), Row(page='NextSong', length=94.71955), Row(page='NextSong', length=237.08689), Row(page='NextSong', length=207.5424), Row(page='NextSong', length=172.53832), Row(page='NextSong', length=108.14649), Row(page='NextSong', length=332.01587), Row(page='NextSong', length=218.01751), Row(page='NextSong', length=381.17832), Row(page='NextSong', length=140.2771), Row(page='NextSong', length=289.77587), Row(page='NextSong', length=179.3824), Row(page='NextSong', length=216.97261), Row(page='NextSong', length=209.08363), Row(page='NextSong', length=320.44363), Row(page='NextSong', length=325.0673), Row(page='NextSong', length=167.60118), Row(page='NextSong', length=147.12118), Row(page='NextSong', length=272.37832), Row(page='NextSong', length=115.93098), Row(page='NextSong', length=157.28281), Row(page='NextSong', length=346.06975), Row(page='NextSong', length=397.47873), Row(page='NextSong', length=376.63302), Row(page='NextSong', length=213.21098), Row(page='NextSong', length=158.09261), Row(page='NextSong', length=429.42649), Row(page='NextSong', length=86.59546), Row(page='NextSong', length=444.62975), Row(page='NextSong', length=377.3122), Row(page='NextSong', length=363.4673), Row(page='NextSong', length=550.922), Row(page='NextSong', length=129.12281), Row(page='NextSong', length=137.40363), Row(page='NextSong', length=205.16526), Row(page='NextSong', length=548.85832), Row(page='NextSong', length=741.98159), Row(page='NextSong', length=401.42322), Row(page='NextSong', length=359.1571), Row(page='NextSong', length=184.18893), Row(page='NextSong', length=61.46567), Row(page='NextSong', length=401.94567), Row(page='NextSong', length=56.65914), Row(page='NextSong', length=427.83302), Row(page='NextSong', length=442.87955), Row(page='NextSong', length=140.53832), Row(page='NextSong', length=274.9122), Row(page='NextSong', length=339.17342), Row(page='NextSong', length=125.17832), Row(page='NextSong', length=49.05751), Row(page='NextSong', length=312.05832), Row(page='NextSong', length=616.77669), Row(page='NextSong', length=50.93832), Row(page='NextSong', length=402.6771), Row(page='NextSong', length=165.53751), Row(page='NextSong', length=645.82485), Row(page='NextSong', length=471.66649), Row(page='NextSong', length=98.7424), Row(page='NextSong', length=467.9571), Row(page='NextSong', length=89.62567), Row(page='NextSong', length=467.51302), Row(page='NextSong', length=646.71302), Row(page='NextSong', length=467.01669), Row(page='NextSong', length=538.87955), Row(page='NextSong', length=184.92036), Row(page='NextSong', length=319.73832), Row(page='NextSong', length=210.31138), Row(page='NextSong', length=165.01506), Row(page='NextSong', length=399.51628), Row(page='NextSong', length=238.73261), Row(page='NextSong', length=206.2624), Row(page='NextSong', length=141.00853), Row(page='NextSong', length=218.33098), Row(page='NextSong', length=298.21342), Row(page='NextSong', length=367.20281), Row(page='NextSong', length=164.88444), Row(page='NextSong', length=288.91383), Row(page='NextSong', length=245.34159), Row(page='NextSong', length=508.00281), Row(page='NextSong', length=268.79955), Row(page='NextSong', length=50.85995), Row(page='NextSong', length=306.78159), Row(page='NextSong', length=358.03383), Row(page='NextSong', length=250.30485), Row(page='NextSong', length=263.70567), Row(page='NextSong', length=141.11302), Row(page='NextSong', length=182.80444), Row(page='NextSong', length=322.0371), Row(page='NextSong', length=109.50485), Row(page='NextSong', length=330.97098), Row(page='NextSong', length=194.79465), Row(page='NextSong', length=255.00689), Row(page='NextSong', length=112.87465), Row(page='NextSong', length=169.76934), Row(page='NextSong', length=53.10649), Row(page='NextSong', length=103.60118), Row(page='NextSong', length=302.88934), Row(page='NextSong', length=887.87546), Row(page='NextSong', length=347.45424), Row(page='NextSong', length=344.842), Row(page='NextSong', length=218.30485), Row(page='NextSong', length=125.1522), Row(page='NextSong', length=44.56444), Row(page='NextSong', length=121.73016), Row(page='NextSong', length=1001.61261), Row(page='NextSong', length=363.85914), Row(page='NextSong', length=345.10322), Row(page='NextSong', length=310.54322), Row(page='NextSong', length=126.64118), Row(page='NextSong', length=368.45669), Row(page='NextSong', length=139.91138), Row(page='NextSong', length=375.43138), Row(page='NextSong', length=374.7522), Row(page='NextSong', length=457.40363), Row(page='NextSong', length=371.27791), Row(page='NextSong', length=434.38975), Row(page='NextSong', length=331.80689), Row(page='NextSong', length=328.38485), Row(page='NextSong', length=76.17261), Row(page='NextSong', length=364.2771), Row(page='NextSong', length=427.36281), Row(page='NextSong', length=101.11955), Row(page='NextSong', length=489.06404), Row(page='NextSong', length=92.57751), Row(page='NextSong', length=457.9522), Row(page='NextSong', length=73.63873), Row(page='NextSong', length=454.94812), Row(page='NextSong', length=64.15628), Row(page='NextSong', length=634.14812), Row(page='NextSong', length=91.34975), Row(page='NextSong', length=116.6624), Row(page='NextSong', length=174.41914), Row(page='NextSong', length=217.91302), Row(page='NextSong', length=78.47138), Row(page='NextSong', length=166.86975), Row(page='NextSong', length=351.86893), Row(page='NextSong', length=253.64853), Row(page='NextSong', length=212.08771), Row(page='NextSong', length=195.26485), Row(page='NextSong', length=201.32526), Row(page='NextSong', length=264.35873), Row(page='NextSong', length=547.44771), Row(page='NextSong', length=223.32036), Row(page='NextSong', length=169.9522), Row(page='NextSong', length=195.21261), Row(page='NextSong', length=255.7122), Row(page='NextSong', length=182.33424), Row(page='NextSong', length=295.6273), Row(page='NextSong', length=247.53587), Row(page='NextSong', length=391.31383), Row(page='NextSong', length=272.69179), Row(page='NextSong', length=178.18077), Row(page='NextSong', length=89.10322), Row(page='NextSong', length=92.31628), Row(page='NextSong', length=506.51383), Row(page='NextSong', length=179.09506), Row(page='NextSong', length=176.29995), Row(page='NextSong', length=205.7922), Row(page='NextSong', length=254.40608), Row(page='NextSong', length=434.65098), Row(page='NextSong', length=542.58893), Row(page='NextSong', length=221.93587), Row(page='NextSong', length=418.06322), Row(page='NextSong', length=148.58404), Row(page='NextSong', length=143.0722), Row(page='NextSong', length=323.21261), Row(page='NextSong', length=191.60771), Row(page='NextSong', length=143.28118), Row(page='NextSong', length=200.25424), Row(page='NextSong', length=198.68689), Row(page='NextSong', length=312.73751), Row(page='NextSong', length=97.61914), Row(page='NextSong', length=355.02975), Row(page='NextSong', length=451.39546), Row(page='NextSong', length=571.08853), Row(page='NextSong', length=116.68853), Row(page='NextSong', length=143.62077), Row(page='NextSong', length=63.84281), Row(page='NextSong', length=81.37098), Row(page='NextSong', length=387.65669), Row(page='NextSong', length=100.57098), Row(page='NextSong', length=86.38649), Row(page='NextSong', length=198.55628), Row(page='NextSong', length=396.14649), Row(page='NextSong', length=118.59546), Row(page='NextSong', length=200.01914), Row(page='NextSong', length=227.00363), Row(page='NextSong', length=146.93832), Row(page='NextSong', length=153.70404), Row(page='NextSong', length=350.85016), Row(page='NextSong', length=456.69832), Row(page='NextSong', length=373.83791), Row(page='NextSong', length=388.07465), Row(page='NextSong', length=450.01098), Row(page='NextSong', length=86.72608), Row(page='NextSong', length=326.26893), Row(page='NextSong', length=387.70893), Row(page='NextSong', length=28.9171), Row(page='NextSong', length=592.95302), Row(page='NextSong', length=485.61587), Row(page='NextSong', length=540.60363), Row(page='NextSong', length=392.01914), Row(page='NextSong', length=507.58485), Row(page='NextSong', length=1359.5424), Row(page='NextSong', length=311.77098), Row(page='NextSong', length=580.10077), Row(page='NextSong', length=215.14404), Row(page='NextSong', length=283.71546), Row(page='NextSong', length=227.18649), Row(page='NextSong', length=156.65587), Row(page='NextSong', length=284.15955), Row(page='NextSong', length=309.39383), Row(page='NextSong', length=315.89832), Row(page='NextSong', length=240.8224), Row(page='NextSong', length=387.39546), Row(page='NextSong', length=188.62975), Row(page='NextSong', length=296.30649), Row(page='NextSong', length=199.20934), Row(page='NextSong', length=394.65751), Row(page='NextSong', length=211.66975), Row(page='NextSong', length=376.58077), Row(page='NextSong', length=191.73832), Row(page='NextSong', length=288.54812), Row(page='NextSong', length=291.76118), Row(page='NextSong', length=270.15791), Row(page='NextSong', length=155.402), Row(page='NextSong', length=122.30485), Row(page='NextSong', length=318.85016), Row(page='NextSong', length=227.10812), Row(page='NextSong', length=234.47465), Row(page='NextSong', length=216.18893), Row(page='NextSong', length=200.61995), Row(page='NextSong', length=257.98485), Row(page='NextSong', length=261.19791), Row(page='NextSong', length=227.02975), Row(page='NextSong', length=453.79873), Row(page='NextSong', length=208.45669), Row(page='NextSong', length=67.082), Row(page='NextSong', length=370.31138), Row(page='NextSong', length=280.2673), Row(page='NextSong', length=459.20608), Row(page='NextSong', length=379.50649), Row(page='NextSong', length=100.10077), Row(page='NextSong', length=304.69179), Row(page='NextSong', length=343.74485), Row(page='NextSong', length=282.38322), Row(page='NextSong', length=286.35383), Row(page='NextSong', length=139.2322), Row(page='NextSong', length=146.75546), Row(page='NextSong', length=324.46649), Row(page='NextSong', length=309.7073), Row(page='NextSong', length=94.17098), Row(page='NextSong', length=1049.12934), Row(page='NextSong', length=127.7122), Row(page='NextSong', length=262.76526), Row(page='NextSong', length=71.54893), Row(page='NextSong', length=215.74485), Row(page='NextSong', length=63.55546), Row(page='NextSong', length=126.58893), Row(page='NextSong', length=194.40281), Row(page='NextSong', length=125.33506), Row(page='NextSong', length=374.33424), Row(page='NextSong', length=361.1424), Row(page='NextSong', length=337.10975), Row(page='NextSong', length=72.56771), Row(page='NextSong', length=375.87546), Row(page='NextSong', length=168.38485), Row(page='NextSong', length=419.44771), Row(page='NextSong', length=114.23302), Row(page='NextSong', length=76.14649), Row(page='NextSong', length=353.85424), Row(page='NextSong', length=300.38159), Row(page='NextSong', length=382.06649), Row(page='NextSong', length=159.16363), Row(page='NextSong', length=415.45098), Row(page='NextSong', length=39.18322), Row(page='NextSong', length=454.08608), Row(page='NextSong', length=226.89914), Row(page='NextSong', length=2369.04444), Row(page='NextSong', length=52.4273), Row(page='NextSong', length=70.60853), Row(page='NextSong', length=393.16853), Row(page='NextSong', length=366.91546), Row(page='NextSong', length=498.80771), Row(page='NextSong', length=411.97669), Row(page='NextSong', length=393.37751), Row(page='NextSong', length=505.7824), Row(page='NextSong', length=357.642), Row(page='NextSong', length=342.59546), Row(page='NextSong', length=102.45179), Row(page='NextSong', length=114.18077), Row(page='NextSong', length=345.80853), Row(page='NextSong', length=429.13914), Row(page='NextSong', length=353.48853), Row(page='NextSong', length=419.10812), Row(page='NextSong', length=369.97179), Row(page='NextSong', length=448.20853), Row(page='NextSong', length=374.22975), Row(page='NextSong', length=170.08281), Row(page='NextSong', length=79.85587), Row(page='NextSong', length=361.482), Row(page='NextSong', length=229.8771), Row(page='NextSong', length=224.522), Row(page='NextSong', length=208.3522), Row(page='NextSong', length=231.81016), Row(page='NextSong', length=249.23383), Row(page='NextSong', length=287.42485), Row(page='NextSong', length=151.64036), Row(page='NextSong', length=706.06322), Row(page='NextSong', length=213.44608), Row(page='NextSong', length=198.1122), Row(page='NextSong', length=197.85098), Row(page='NextSong', length=239.64689), Row(page='NextSong', length=221.12608), Row(page='NextSong', length=389.38077), Row(page='NextSong', length=282.40934), Row(page='NextSong', length=735.26812), Row(page='NextSong', length=219.21914), Row(page='NextSong', length=196.91057), Row(page='NextSong', length=274.46812), Row(page='NextSong', length=189.72689), Row(page='NextSong', length=556.82567), Row(page='NextSong', length=170.52689), Row(page='NextSong', length=231.3922), Row(page='NextSong', length=317.04771), Row(page='NextSong', length=792.92036), Row(page='NextSong', length=270.18404), Row(page='NextSong', length=331.83302), Row(page='NextSong', length=305.47546), Row(page='NextSong', length=160.44363), Row(page='NextSong', length=145.37098), Row(page='NextSong', length=389.85098), Row(page='NextSong', length=74.29179), Row(page='NextSong', length=324.8322), Row(page='NextSong', length=380.76036), Row(page='NextSong', length=745.87383), Row(page='NextSong', length=303.35955), Row(page='NextSong', length=347.66322), Row(page='NextSong', length=149.60281), Row(page='NextSong', length=473.59955), Row(page='NextSong', length=99.68281), Row(page='NextSong', length=472.31955), Row(page='NextSong', length=196.64934), Row(page='NextSong', length=354.89914), Row(page='NextSong', length=238.91546), Row(page='NextSong', length=399.09832), Row(page='NextSong', length=500.45342), Row(page='NextSong', length=361.01179), Row(page='NextSong', length=193.4624), Row(page='NextSong', length=384.15628), Row(page='NextSong', length=328.28036), Row(page='NextSong', length=152.2673), Row(page='NextSong', length=481.802), Row(page='NextSong', length=349.98812), Row(page='NextSong', length=484.30975), Row(page='NextSong', length=349.90975), Row(page='NextSong', length=121.05098), Row(page='NextSong', length=357.56363), Row(page='NextSong', length=446.01424), Row(page='NextSong', length=55.92771), Row(page='NextSong', length=328.33261), Row(page='NextSong', length=377.99138), Row(page='NextSong', length=362.29179), Row(page='NextSong', length=573.46567), Row(page='NextSong', length=158.56281), Row(page='NextSong', length=385.01832), Row(page='NextSong', length=46.99383), Row(page='NextSong', length=42.97098), Row(page='NextSong', length=420.77995), Row(page='NextSong', length=26.61832), Row(page='NextSong', length=282.8273), Row(page='NextSong', length=42.03057), Row(page='NextSong', length=256.15628), Row(page='NextSong', length=134.3473), Row(page='NextSong', length=217.20771), Row(page='NextSong', length=233.9522), Row(page='NextSong', length=128.49587), Row(page='NextSong', length=265.76934), Row(page='NextSong', length=143.59465), Row(page='NextSong', length=432.56118), Row(page='NextSong', length=237.5571), Row(page='NextSong', length=225.41016), Row(page='NextSong', length=442.56608), Row(page='NextSong', length=163.89179), Row(page='NextSong', length=124.44689), Row(page='NextSong', length=183.17016), Row(page='NextSong', length=347.81995), Row(page='NextSong', length=175.882), Row(page='NextSong', length=226.66404), Row(page='NextSong', length=169.87383), Row(page='NextSong', length=310.07302), Row(page='NextSong', length=60.73424), Row(page='NextSong', length=187.11465), Row(page='NextSong', length=193.20118), Row(page='NextSong', length=104.25424), Row(page='NextSong', length=73.01179), Row(page='NextSong', length=199.8624), Row(page='NextSong', length=380.42077), Row(page='NextSong', length=234.39628), Row(page='NextSong', length=186.20036), Row(page='NextSong', length=231.47057), Row(page='NextSong', length=174.05342), Row(page='NextSong', length=120.39791), Row(page='NextSong', length=365.34812), Row(page='NextSong', length=472.11057), Row(page='NextSong', length=268.17261), Row(page='NextSong', length=325.8771), Row(page='NextSong', length=143.25506), Row(page='NextSong', length=359.3922), Row(page='NextSong', length=143.01995), Row(page='NextSong', length=394.57914), Row(page='NextSong', length=134.29506), Row(page='NextSong', length=295.41832), Row(page='NextSong', length=345.28608), Row(page='NextSong', length=59.97669), Row(page='NextSong', length=405.9424), Row(page='NextSong', length=475.16689), Row(page='NextSong', length=133.14567), Row(page='NextSong', length=108.48608), Row(page='NextSong', length=411.0624), Row(page='NextSong', length=297.45587), Row(page='NextSong', length=462.2624), Row(page='NextSong', length=220.94322), Row(page='NextSong', length=502.09914), Row(page='NextSong', length=117.44608), Row(page='NextSong', length=117.13261), Row(page='NextSong', length=383.97342), Row(page='NextSong', length=436.61016), Row(page='NextSong', length=68.57098), Row(page='NextSong', length=89.93914), Row(page='NextSong', length=407.19628), Row(page='NextSong', length=382.95465), Row(page='NextSong', length=166.84363), Row(page='NextSong', length=453.43302), Row(page='NextSong', length=445.1522), Row(page='NextSong', length=87.90159), Row(page='NextSong', length=580.5971), Row(page='NextSong', length=716.66893), Row(page='NextSong', length=268.61669), Row(page='NextSong', length=227.52608), Row(page='NextSong', length=236.9824), Row(page='NextSong', length=306.46812), Row(page='NextSong', length=222.61506), Row(page='NextSong', length=179.40853), Row(page='NextSong', length=252.08118), Row(page='NextSong', length=386.14159), Row(page='NextSong', length=114.65098), Row(page='NextSong', length=259.81342), Row(page='NextSong', length=183.35302), Row(page='NextSong', length=301.81832), Row(page='NextSong', length=192.20853), Row(page='NextSong', length=325.38077), Row(page='NextSong', length=186.51383), Row(page='NextSong', length=216.08444), Row(page='NextSong', length=245.78567), Row(page='NextSong', length=311.17016), Row(page='NextSong', length=297.35138), Row(page='NextSong', length=180.6624), Row(page='NextSong', length=427.57179), Row(page='NextSong', length=191.58159), Row(page='NextSong', length=293.45914), Row(page='NextSong', length=233.06404), Row(page='NextSong', length=311.03955), Row(page='NextSong', length=84.63628), Row(page='NextSong', length=208.90077), Row(page='NextSong', length=521.63873), Row(page='NextSong', length=219.79383), Row(page='NextSong', length=389.25016), Row(page='NextSong', length=135.26159), Row(page='NextSong', length=695.74485), Row(page='NextSong', length=52.11383), Row(page='NextSong', length=116.87138), Row(page='NextSong', length=336.8224), Row(page='NextSong', length=202.63138), Row(page='NextSong', length=416.05179), Row(page='NextSong', length=122.8273), Row(page='NextSong', length=62.1971), Row(page='NextSong', length=443.24526), Row(page='NextSong', length=553.19465), Row(page='NextSong', length=79.64689), Row(page='NextSong', length=472.0322), Row(page='NextSong', length=100.362), Row(page='NextSong', length=358.37342), Row(page='NextSong', length=425.92608), Row(page='NextSong', length=339.30404), Row(page='NextSong', length=351.68608), Row(page='NextSong', length=366.31465), Row(page='NextSong', length=107.31057), Row(page='NextSong', length=831.37261), Row(page='NextSong', length=69.95546), Row(page='NextSong', length=165.45914), Row(page='NextSong', length=671.97342), Row(page='NextSong', length=95.08526), Row(page='NextSong', length=80.37832), Row(page='NextSong', length=63.08526), Row(page='NextSong', length=359.49669), Row(page='NextSong', length=47.67302), Row(page='NextSong', length=562.57261), Row(page='NextSong', length=519.99302), Row(page='NextSong', length=375.90159), Row(page='NextSong', length=22.59546), Row(page='NextSong', length=344.47628), Row(page='NextSong', length=115.30404), Row(page='NextSong', length=76.90404), Row(page='NextSong', length=573.6224), Row(page='NextSong', length=480.86159), Row(page='NextSong', length=98.76853), Row(page='NextSong', length=51.51302), Row(page='NextSong', length=468.00934), Row(page='NextSong', length=139.20608), Row(page='NextSong', length=173.66159), Row(page='NextSong', length=182.282), Row(page='NextSong', length=258.42893), Row(page='NextSong', length=399.69914), Row(page='NextSong', length=216.92036), Row(page='NextSong', length=276.92363), Row(page='NextSong', length=282.27873), Row(page='NextSong', length=36.67546), Row(page='NextSong', length=389.35465), Row(page='NextSong', length=191.08526), Row(page='NextSong', length=267.57179), Row(page='NextSong', length=199.3922), Row(page='NextSong', length=399.46404), Row(page='NextSong', length=268.64281), Row(page='NextSong', length=226.76853), Row(page='NextSong', length=168.09751), Row(page='NextSong', length=305.05751), Row(page='NextSong', length=245.86404), Row(page='NextSong', length=195.16036), Row(page='NextSong', length=276.08771), Row(page='NextSong', length=242.78159), Row(page='NextSong', length=172.85179), Row(page='NextSong', length=167.73179), Row(page='NextSong', length=181.52444), Row(page='NextSong', length=261.3024), Row(page='NextSong', length=190.74567), Row(page='NextSong', length=133.51138), Row(page='NextSong', length=132.25751), Row(page='NextSong', length=344.13669), Row(page='NextSong', length=290.63791), Row(page='NextSong', length=248.00608), Row(page='NextSong', length=205.03465), Row(page='NextSong', length=172.09424), Row(page='NextSong', length=454.47791), Row(page='NextSong', length=196.46649), Row(page='NextSong', length=269.42649), Row(page='NextSong', length=363.72853), Row(page='NextSong', length=298.9971), Row(page='NextSong', length=444.13342), Row(page='NextSong', length=43.44118), Row(page='NextSong', length=600.73751), Row(page='NextSong', length=134.16444), Row(page='NextSong', length=316.49914), Row(page='NextSong', length=339.12118), Row(page='NextSong', length=323.18649), Row(page='NextSong', length=322.08934), Row(page='NextSong', length=299.36281), Row(page='NextSong', length=150.41261), Row(page='NextSong', length=327.28771), Row(page='NextSong', length=91.48036), Row(page='NextSong', length=310.85669), Row(page='NextSong', length=367.28118), Row(page='NextSong', length=933.0673), Row(page='NextSong', length=281.91302), Row(page='NextSong', length=348.52526), Row(page='NextSong', length=396.93016), Row(page='NextSong', length=352.07791), Row(page='NextSong', length=340.34893), Row(page='NextSong', length=126.17098), Row(page='NextSong', length=179.98322), Row(page='NextSong', length=376.05832), Row(page='NextSong', length=120.47628), Row(page='NextSong', length=124.9171), Row(page='NextSong', length=323.10812), Row(page='NextSong', length=352.26077), Row(page='NextSong', length=427.85914), Row(page='NextSong', length=289.59302), Row(page='NextSong', length=133.38077), Row(page='NextSong', length=109.53098), Row(page='NextSong', length=117.86404), Row(page='NextSong', length=32.49587), Row(page='NextSong', length=401.24036), Row(page='NextSong', length=1932.72118), Row(page='NextSong', length=471.58812), Row(page='NextSong', length=50.88608), Row(page='NextSong', length=346.48771), Row(page='NextSong', length=372.00934), Row(page='NextSong', length=67.49995), Row(page='NextSong', length=513.04444), Row(page='NextSong', length=79.80363), Row(page='NextSong', length=284.81261), Row(page='NextSong', length=246.90893), Row(page='NextSong', length=208.09098), Row(page='NextSong', length=232.25424), Row(page='NextSong', length=131.99628), Row(page='NextSong', length=176.92689), Row(page='NextSong', length=468.16608), Row(page='NextSong', length=211.04281), Row(page='NextSong', length=230.66077), Row(page='NextSong', length=242.6771), Row(page='NextSong', length=174.96771), Row(page='NextSong', length=195.44771), Row(page='NextSong', length=109.29587), Row(page='NextSong', length=290.7424), Row(page='NextSong', length=77.89669), Row(page='NextSong', length=319.26812), Row(page='NextSong', length=233.19465), Row(page='NextSong', length=303.882), Row(page='NextSong', length=357.66812), Row(page='NextSong', length=186.46159), Row(page='NextSong', length=326.21669), Row(page='NextSong', length=161.35791), Row(page='NextSong', length=255.63383), Row(page='NextSong', length=240.01261), Row(page='NextSong', length=361.06404), Row(page='NextSong', length=324.70159), Row(page='NextSong', length=221.90975), Row(page='NextSong', length=165.04118), Row(page='NextSong', length=133.53751), Row(page='NextSong', length=121.49506), Row(page='NextSong', length=288.15628), Row(page='NextSong', length=89.12934), Row(page='NextSong', length=288.57424), Row(page='NextSong', length=139.54567), Row(page='NextSong', length=294.73914), Row(page='NextSong', length=234.21342), Row(page='NextSong', length=200.59383), Row(page='NextSong', length=74.23955), Row(page='NextSong', length=370.80771), Row(page='NextSong', length=54.67383), Row(page='NextSong', length=289.48853), Row(page='NextSong', length=369.29261), Row(page='NextSong', length=102.66077), Row(page='NextSong', length=138.68363), Row(page='NextSong', length=160.39138), Row(page='NextSong', length=453.53751), Row(page='NextSong', length=400.5873), Row(page='NextSong', length=414.79791), Row(page='NextSong', length=362.34404), Row(page='NextSong', length=60.60363), Row(page='NextSong', length=516.96281), Row(page='NextSong', length=365.06077), Row(page='NextSong', length=431.17669), Row(page='NextSong', length=660.37506), Row(page='NextSong', length=141.63546), Row(page='NextSong', length=341.39383), Row(page='NextSong', length=1001.74322), Row(page='NextSong', length=276.11383), Row(page='NextSong', length=436.21832), Row(page='NextSong', length=706.29832), Row(page='NextSong', length=438.15138), Row(page='NextSong', length=417.64526), Row(page='NextSong', length=603.95057), Row(page='NextSong', length=423.36608), Row(page='NextSong', length=576.26077), Row(page='NextSong', length=463.77751), Row(page='NextSong', length=484.15302), Row(page='NextSong', length=209.8673), Row(page='NextSong', length=237.21751), Row(page='NextSong', length=155.03628), Row(page='NextSong', length=314.5922), Row(page='NextSong', length=194.45506), Row(page='NextSong', length=141.13914), Row(page='NextSong', length=244.84526), Row(page='NextSong', length=409.75628), Row(page='NextSong', length=150.17751), Row(page='NextSong', length=151.95383), Row(page='NextSong', length=95.65995), Row(page='NextSong', length=170.86649), Row(page='NextSong', length=136.07138), Row(page='NextSong', length=106.52689), Row(page='NextSong', length=173.81832), Row(page='NextSong', length=281.46893), Row(page='NextSong', length=423.81016), Row(page='NextSong', length=292.54485), Row(page='NextSong', length=412.94322), Row(page='NextSong', length=401.78893), Row(page='NextSong', length=419.81342), Row(page='NextSong', length=357.38077), Row(page='NextSong', length=171.96363), Row(page='NextSong', length=127.60771), Row(page='NextSong', length=369.00526), Row(page='NextSong', length=354.45506), Row(page='NextSong', length=339.56526), Row(page='NextSong', length=374.5171), Row(page='NextSong', length=121.0771), Row(page='NextSong', length=425.76934), Row(page='NextSong', length=107.51955), Row(page='NextSong', length=290.45506), Row(page='NextSong', length=675.73506), Row(page='NextSong', length=632.55465), Row(page='NextSong', length=115.09506), Row(page='NextSong', length=600.89424), Row(page='NextSong', length=451.47383), Row(page='NextSong', length=307.56526), Row(page='NextSong', length=466.9122), Row(page='NextSong', length=140.35546), Row(page='NextSong', length=131.65669), Row(page='NextSong', length=378.30485), Row(page='NextSong', length=98.89914), Row(page='NextSong', length=138.47465), Row(page='NextSong', length=135.00036), Row(page='NextSong', length=33.90649), Row(page='NextSong', length=95.99955), Row(page='NextSong', length=446.92853), Row(page='NextSong', length=432.8224), Row(page='NextSong', length=120.60689), Row(page='NextSong', length=354.24608), Row(page='NextSong', length=274.57261), Row(page='NextSong', length=379.03628), Row(page='NextSong', length=395.12771), Row(page='NextSong', length=288.62649), Row(page='NextSong', length=282.33098), Row(page='NextSong', length=166.16444), Row(page='NextSong', length=162.55955), Row(page='NextSong', length=171.07546), Row(page='NextSong', length=207.41179), Row(page='NextSong', length=239.93424), Row(page='NextSong', length=239.96036), Row(page='NextSong', length=260.23138), Row(page='NextSong', length=181.13261), Row(page='NextSong', length=180.1922), Row(page='NextSong', length=356.28363), Row(page='NextSong', length=187.48036), Row(page='NextSong', length=239.04608), Row(page='NextSong', length=220.70812), Row(page='NextSong', length=317.1522), Row(page='NextSong', length=274.96444), Row(page='NextSong', length=179.80036), Row(page='NextSong', length=195.49995), Row(page='NextSong', length=167.10485), Row(page='NextSong', length=70.16444), Row(page='NextSong', length=256.46975), Row(page='NextSong', length=697.80853), Row(page='NextSong', length=457.66485), Row(page='NextSong', length=282.90567), Row(page='NextSong', length=346.38322), Row(page='NextSong', length=420.20526), Row(page='NextSong', length=316.78649), Row(page='NextSong', length=166.97424), Row(page='NextSong', length=309.65506), Row(page='NextSong', length=298.60526), Row(page='NextSong', length=330.16118), Row(page='NextSong', length=274.23302), Row(page='NextSong', length=442.43546), Row(page='NextSong', length=135.05261), Row(page='NextSong', length=325.32853), Row(page='NextSong', length=599.24853), Row(page='NextSong', length=22.17751), Row(page='NextSong', length=161.67138), Row(page='NextSong', length=416.26077), Row(page='NextSong', length=182.5171), Row(page='NextSong', length=275.06893), Row(page='NextSong', length=85.65506), Row(page='NextSong', length=386.32444), Row(page='NextSong', length=145.34485), Row(page='NextSong', length=540.21179), Row(page='NextSong', length=55.11791), Row(page='NextSong', length=602.8273), Row(page='NextSong', length=352.70485), Row(page='NextSong', length=392.82893), Row(page='NextSong', length=995.13424), Row(page='NextSong', length=412.13342), Row(page='NextSong', length=345.75628), Row(page='NextSong', length=69.8771), Row(page='NextSong', length=410.51383), Row(page='NextSong', length=71.65342), Row(page='NextSong', length=315.76771), Row(page='NextSong', length=387.26485), Row(page='NextSong', length=377.5473), Row(page='NextSong', length=38.39955), Row(page='NextSong', length=203.91138), Row(page='NextSong', length=372.76689), Row(page='NextSong', length=181.68118), Row(page='NextSong', length=204.72118), Row(page='NextSong', length=204.53832), Row(page='NextSong', length=257.74975), Row(page='NextSong', length=133.98159), Row(page='NextSong', length=260.49261), Row(page='NextSong', length=264.6722), Row(page='NextSong', length=313.0771), Row(page='NextSong', length=285.36118), Row(page='NextSong', length=169.27302), Row(page='NextSong', length=305.81506), Row(page='NextSong', length=263.49669), Row(page='NextSong', length=229.74649), Row(page='NextSong', length=176.5873), Row(page='NextSong', length=335.01995), Row(page='NextSong', length=342.43873), Row(page='NextSong', length=245.96853), Row(page='NextSong', length=287.92118), Row(page='NextSong', length=224.36526), Row(page='NextSong', length=315.08853), Row(page='NextSong', length=105.19465), Row(page='NextSong', length=46.05342), Row(page='NextSong', length=174.54975), Row(page='NextSong', length=96.1824), Row(page='NextSong', length=316.42077), Row(page='NextSong', length=222.4322), Row(page='NextSong', length=449.12281), Row(page='NextSong', length=242.88608), Row(page='NextSong', length=232.04526), Row(page='NextSong', length=105.1424), Row(page='NextSong', length=165.74649), Row(page='NextSong', length=476.83873), Row(page='NextSong', length=315.16689), Row(page='NextSong', length=245.2371), Row(page='NextSong', length=411.68934), Row(page='NextSong', length=323.36934), Row(page='NextSong', length=176.48281), Row(page='NextSong', length=131.18649), Row(page='NextSong', length=139.07546), Row(page='NextSong', length=161.12281), Row(page='NextSong', length=159.86893), Row(page='NextSong', length=159.34649), Row(page='NextSong', length=277.31546), Row(page='NextSong', length=353.38404), Row(page='NextSong', length=46.44526), Row(page='NextSong', length=188.15955), Row(page='NextSong', length=321.17506), Row(page='NextSong', length=334.00118), Row(page='NextSong', length=166.73914), Row(page='NextSong', length=345.44281), Row(page='NextSong', length=180.47955), Row(page='NextSong', length=532.61016), Row(page='NextSong', length=318.40608), Row(page='NextSong', length=376.16281), Row(page='NextSong', length=423.28771), Row(page='NextSong', length=649.66485), Row(page='NextSong', length=558.15791), Row(page='NextSong', length=354.35057), Row(page='NextSong', length=94.82404), Row(page='NextSong', length=686.602), Row(page='NextSong', length=307.59138), Row(page='NextSong', length=69.48526), Row(page='NextSong', length=158.6673), Row(page='NextSong', length=56.00608), Row(page='NextSong', length=430.52363), Row(page='NextSong', length=717.81832), Row(page='NextSong', length=544.60036), Row(page='NextSong', length=1178.67057), Row(page='NextSong', length=123.37587), Row(page='NextSong', length=392.25424), Row(page='NextSong', length=256.10404), Row(page='NextSong', length=224.70485), Row(page='NextSong', length=327.96689), Row(page='NextSong', length=129.88036), Row(page='NextSong', length=177.13587), Row(page='NextSong', length=309.2371), Row(page='NextSong', length=370.6771), Row(page='NextSong', length=241.26649), Row(page='NextSong', length=283.76771), Row(page='NextSong', length=278.64771), Row(page='NextSong', length=283.58485), Row(page='NextSong', length=245.89016), Row(page='NextSong', length=207.04608), Row(page='NextSong', length=231.70567), Row(page='NextSong', length=162.53342), Row(page='NextSong', length=196.54485), Row(page='NextSong', length=249.86077), Row(page='NextSong', length=249.83465), Row(page='NextSong', length=240.06485), Row(page='NextSong', length=300.90404), Row(page='NextSong', length=58.51383), Row(page='NextSong', length=487.60118), Row(page='NextSong', length=272.29995), Row(page='NextSong', length=331.15383), Row(page='NextSong', length=137.84771), Row(page='NextSong', length=280.60689), Row(page='NextSong', length=215.24853), Row(page='NextSong', length=232.9073), Row(page='NextSong', length=126.37995), Row(page='NextSong', length=272.5873), Row(page='NextSong', length=74.08281), Row(page='NextSong', length=480.39138), Row(page='NextSong', length=175.62077), Row(page='NextSong', length=256.39138), Row(page='NextSong', length=462.07955), Row(page='NextSong', length=331.67628), Row(page='NextSong', length=408.81587), Row(page='NextSong', length=395.07546), Row(page='NextSong', length=145.99791), Row(page='NextSong', length=297.92608), Row(page='NextSong', length=234.73587), Row(page='NextSong', length=421.40689), Row(page='NextSong', length=349.20444), Row(page='NextSong', length=470.04689), Row(page='NextSong', length=1258.05669), Row(page='NextSong', length=294.00771), Row(page='NextSong', length=141.66159), Row(page='NextSong', length=349.80526), Row(page='NextSong', length=54.38649), Row(page='NextSong', length=125.36118), Row(page='NextSong', length=378.38322), Row(page='NextSong', length=236.43383), Row(page='NextSong', length=293.51138), Row(page='NextSong', length=80.61342), Row(page='NextSong', length=386.7424), Row(page='NextSong', length=540.00281), Row(page='NextSong', length=664.16281), Row(page='NextSong', length=362.03057), Row(page='NextSong', length=315.50649), Row(page='NextSong', length=396.95628), Row(page='NextSong', length=122.5922), Row(page='NextSong', length=21.65506), Row(page='NextSong', length=108.53832), Row(page='NextSong', length=369.05751), Row(page='NextSong', length=449.95873), Row(page='NextSong', length=142.86322), Row(page='NextSong', length=135.1571), Row(page='NextSong', length=137.63873), Row(page='NextSong', length=327.81016), Row(page='NextSong', length=74.70975), Row(page='NextSong', length=617.06404), Row(page='NextSong', length=128.15628), Row(page='NextSong', length=755.19955), Row(page='NextSong', length=24.60689), Row(page='NextSong', length=138.08281), Row(page='NextSong', length=460.72118), Row(page='NextSong', length=365.68771), Row(page='NextSong', length=356.0224), Row(page='NextSong', length=265.89995), Row(page='NextSong', length=297.482), Row(page='NextSong', length=235.80689), Row(page='NextSong', length=223.00689), Row(page='NextSong', length=166.79138), Row(page='NextSong', length=232.93342), Row(page='NextSong', length=270.49751), Row(page='NextSong', length=250.95791), Row(page='NextSong', length=248.31955), Row(page='NextSong', length=217.99138), Row(page='NextSong', length=172.64281), Row(page='NextSong', length=442.46159), Row(page='NextSong', length=330.89261), Row(page='NextSong', length=73.16853), Row(page='NextSong', length=236.45995), Row(page='NextSong', length=195.05587), Row(page='NextSong', length=294.37342), Row(page='NextSong', length=133.85098), Row(page='NextSong', length=276.6624), Row(page='NextSong', length=472.24118), Row(page='NextSong', length=176.06485), Row(page='NextSong', length=204.14649), Row(page='NextSong', length=512.80934), Row(page='NextSong', length=141.06077), Row(page='NextSong', length=131.23873), Row(page='NextSong', length=391.81016), Row(page='NextSong', length=255.32036), Row(page='NextSong', length=414.85016), Row(page='NextSong', length=227.3171), Row(page='NextSong', length=371.3824), Row(page='NextSong', length=210.78159), Row(page='NextSong', length=479.76444), Row(page='NextSong', length=196.44036), Row(page='NextSong', length=186.48771), Row(page='NextSong', length=278.5171), Row(page='NextSong', length=285.3873), Row(page='NextSong', length=454.45179), Row(page='NextSong', length=686.0273), Row(page='NextSong', length=335.90812), Row(page='NextSong', length=377.86077), Row(page='NextSong', length=280.05832), Row(page='NextSong', length=75.62404), Row(page='NextSong', length=249.12934), Row(page='NextSong', length=287.58159), Row(page='NextSong', length=139.41506), Row(page='NextSong', length=266.60526), Row(page='NextSong', length=516.41424), Row(page='NextSong', length=461.42649), Row(page='NextSong', length=377.52118), Row(page='NextSong', length=282.98404), Row(page='NextSong', length=293.53751), Row(page='NextSong', length=391.57506), Row(page='NextSong', length=423.23546), Row(page='NextSong', length=349.23057), Row(page='NextSong', length=112.01261), Row(page='NextSong', length=301.37424), Row(page='NextSong', length=363.98975), Row(page='NextSong', length=93.51791), Row(page='NextSong', length=379.402), Row(page='NextSong', length=123.97669), Row(page='NextSong', length=51.66975), Row(page='NextSong', length=56.5024), Row(page='NextSong', length=96.86159), Row(page='NextSong', length=92.60363), Row(page='NextSong', length=113.8673), Row(page='NextSong', length=518.13832)]\n",
      "[Row(page='Thumbs Up', length=None)]\n",
      "[Row(page='Help', length=None)]\n",
      "[Row(page='Upgrade', length=None)]\n",
      "[Row(page='Error', length=None)]\n",
      "[Row(page='Submit Upgrade', length=None)]\n"
     ]
    }
   ],
   "source": [
    "for page in user_log_valid.select(\"page\").distinct().collect():\n",
    "    print(user_log_valid.select(\"page\",\"length\").where(user_log_valid.page == page[0]).distinct().collect())"
   ]
  },
  {
   "cell_type": "code",
   "execution_count": 435,
   "metadata": {},
   "outputs": [
    {
     "name": "stdout",
     "output_type": "stream",
     "text": [
      "+---------+-------------+-------------+--------+-------+--------------------+\n",
      "|sessionId|itemInSession|           ts|    page| length|                song|\n",
      "+---------+-------------+-------------+--------+-------+--------------------+\n",
      "|     1599|           47|1542579601000|NextSong|0.78322|La Danza De Las S...|\n",
      "|      294|          263|1541135356000|NextSong|2.16771|You Can't Fix Stupid|\n",
      "|      609|           45|1539203952000|NextSong|4.04853|               Solar|\n",
      "|     2166|          320|1542989477000|NextSong|4.04853|               Solar|\n",
      "|      112|           62|1539266340000|NextSong| 4.8322|               Intro|\n",
      "+---------+-------------+-------------+--------+-------+--------------------+\n",
      "only showing top 5 rows\n",
      "\n"
     ]
    }
   ],
   "source": [
    "user_log_valid\\\n",
    ".select(\"sessionId\", \"itemInSession\", \"ts\", \"page\", \"length\", \"song\")\\\n",
    ".where((user_log_valid.page == \"NextSong\"))\\\n",
    ".sort(\"length\")\\\n",
    ".show(5)"
   ]
  },
  {
   "cell_type": "markdown",
   "metadata": {},
   "source": [
    "Now, we understand that the length column is used only for the page NextSong and correspond to the lenght of the song played."
   ]
  },
  {
   "cell_type": "code",
   "execution_count": null,
   "metadata": {},
   "outputs": [],
   "source": []
  },
  {
   "cell_type": "code",
   "execution_count": null,
   "metadata": {},
   "outputs": [],
   "source": []
  },
  {
   "cell_type": "markdown",
   "metadata": {},
   "source": [
    "# Exploratory Data Analysis\n",
    "When you're working with the full dataset, perform EDA by loading a small subset of the data and doing basic manipulations within Spark. In this workspace, you are already provided a small subset of data you can explore.\n",
    "\n",
    "### Define Churn\n",
    "\n",
    "Once you've done some preliminary analysis, create a column `Churn` to use as the label for your model. I suggest using the `Cancellation Confirmation` events to define your churn, which happen for both paid and free users. As a bonus task, you can also look into the `Downgrade` events.\n",
    "\n",
    "### Explore Data\n",
    "Once you've defined churn, perform some exploratory data analysis to observe the behavior for users who stayed vs users who churned. You can start by exploring aggregates on these two groups of users, observing how much of a specific action they experienced per a certain time unit or number of songs played."
   ]
  },
  {
   "cell_type": "markdown",
   "metadata": {},
   "source": [
    "### Let's have a quick look at some metrics like number of session, number of songs played, etc."
   ]
  },
  {
   "cell_type": "code",
   "execution_count": 436,
   "metadata": {},
   "outputs": [
    {
     "name": "stdout",
     "output_type": "stream",
     "text": [
      "+---------+------------------+\n",
      "|sessionId|max(itemInSession)|\n",
      "+---------+------------------+\n",
      "|     1840|              1321|\n",
      "|      316|              1099|\n",
      "|      635|               889|\n",
      "+---------+------------------+\n",
      "only showing top 3 rows\n",
      "\n",
      "+------+------------------+\n",
      "|userId|total_songs_played|\n",
      "+------+------------------+\n",
      "|    39|              8002|\n",
      "|    92|              5945|\n",
      "|   140|              5664|\n",
      "+------+------------------+\n",
      "only showing top 3 rows\n",
      "\n",
      "+------+--------------------+\n",
      "|userId|total_seconds_played|\n",
      "+------+--------------------+\n",
      "|    39|  1991154.9155799907|\n",
      "|    92|   1491493.286370003|\n",
      "|   140|  1410075.4463299962|\n",
      "+------+--------------------+\n",
      "only showing top 3 rows\n",
      "\n",
      "+------+-----------+\n",
      "|userId|nb_sessions|\n",
      "+------+-----------+\n",
      "|    39|        107|\n",
      "|    92|         86|\n",
      "|200023|         76|\n",
      "+------+-----------+\n",
      "only showing top 3 rows\n",
      "\n"
     ]
    }
   ],
   "source": [
    "# check for the longest session in terms of itemInSession\n",
    "user_log_valid \\\n",
    ".select(\"sessionId\", \"itemInSession\")\\\n",
    ".groupby(\"sessionId\")\\\n",
    ".agg({'itemInSession':'max'})\\\n",
    ".sort(F.desc('max(itemInSession)'))\\\n",
    ".show(3)\n",
    "\n",
    "# check for the users who listen to the most songs\n",
    "user_log_valid\\\n",
    ".where(user_log_valid[\"page\"] == \"NextSong\")\\\n",
    ".groupby(\"userId\")\\\n",
    ".agg({\"page\" : \"count\"})\\\n",
    ".withColumnRenamed(\"count(page)\", \"total_songs_played\")\\\n",
    ".sort(F.desc('total_songs_played'))\\\n",
    ".show(3)\n",
    "\n",
    "# check for the users who listen the longest\n",
    "user_log_valid\\\n",
    ".where(user_log_valid[\"page\"] == \"NextSong\")\\\n",
    ".groupby(\"userId\")\\\n",
    ".agg({\"length\" : \"sum\"})\\\n",
    ".withColumnRenamed(\"sum(length)\", \"total_seconds_played\")\\\n",
    ".sort(F.desc('total_seconds_played'))\\\n",
    ".show(3)\n",
    "\n",
    "# check for the user who had the most sessions\n",
    "user_log_valid\\\n",
    ".groupby(\"userId\")\\\n",
    ".agg(F.countDistinct(\"sessionId\"))\\\n",
    ".withColumnRenamed(\"count(DISTINCT sessionId)\", \"nb_sessions\")\\\n",
    ".sort(F.desc('nb_sessions'))\\\n",
    ".show(3)"
   ]
  },
  {
   "cell_type": "markdown",
   "metadata": {},
   "source": [
    "### UserAgent contains OS information"
   ]
  },
  {
   "cell_type": "code",
   "execution_count": 437,
   "metadata": {},
   "outputs": [
    {
     "data": {
      "text/plain": [
       "Row(userAgent='\"Mozilla/5.0 (Windows NT 6.1; WOW64) AppleWebKit/537.36 (KHTML, like Gecko) Chrome/36.0.1985.143 Safari/537.36\"', nb_users=24)"
      ]
     },
     "execution_count": 437,
     "metadata": {},
     "output_type": "execute_result"
    }
   ],
   "source": [
    "# useragent looks like containing quite a lot of information\n",
    "user_log_valid\\\n",
    ".groupby(\"userAgent\")\\\n",
    ".agg(F.countDistinct(\"userId\"))\\\n",
    ".withColumnRenamed(\"count(DISTINCT userId)\", \"nb_users\")\\\n",
    ".sort(F.desc('nb_users'))\\\n",
    ".collect()[0]"
   ]
  },
  {
   "cell_type": "code",
   "execution_count": 438,
   "metadata": {},
   "outputs": [],
   "source": [
    "# add an OS column (get that info from the userAgent text)\n",
    "# we need to find the string between the first parenthesis and the first semi colon\n",
    "import re\n",
    "os_udf = udf(lambda x: re.findall('\\(([^\\);]*)[;|\\)]', x)[0] , StringType())\n",
    "# we had a column with the OS\n",
    "user_log_valid = user_log_valid.withColumn(\"OS\", os_udf(user_log_valid.userAgent))"
   ]
  },
  {
   "cell_type": "code",
   "execution_count": 439,
   "metadata": {},
   "outputs": [
    {
     "data": {
      "text/plain": [
       "Row(artist='Martha Tilston', auth='Logged In', firstName='Colin', gender='M', itemInSession=50, lastName='Freeman', length=277.89016, level='paid', location='Bakersfield, CA', method='PUT', page='NextSong', registration=1538173362000, sessionId=29, song='Rockpools', status=200, ts=1538352117000, userAgent='Mozilla/5.0 (Windows NT 6.1; WOW64; rv:31.0) Gecko/20100101 Firefox/31.0', userId='30', OS='Windows NT 6.1')"
      ]
     },
     "execution_count": 439,
     "metadata": {},
     "output_type": "execute_result"
    }
   ],
   "source": [
    "user_log_valid.head()"
   ]
  },
  {
   "cell_type": "code",
   "execution_count": 440,
   "metadata": {},
   "outputs": [
    {
     "name": "stdout",
     "output_type": "stream",
     "text": [
      "+--------------+---------+\n",
      "|            OS|count(OS)|\n",
      "+--------------+---------+\n",
      "|     Macintosh|   102749|\n",
      "|Windows NT 6.1|    99382|\n",
      "|Windows NT 6.3|    18530|\n",
      "|          iPad|    11381|\n",
      "|        iPhone|    11192|\n",
      "|    compatible|    10684|\n",
      "|           X11|     8961|\n",
      "|Windows NT 5.1|     7406|\n",
      "|Windows NT 6.2|     5427|\n",
      "|Windows NT 6.0|     2442|\n",
      "+--------------+---------+\n",
      "\n"
     ]
    }
   ],
   "source": [
    "user_log_valid\\\n",
    ".groupBy(\"OS\")\\\n",
    ".agg({\"OS\":\"count\"})\\\n",
    ".sort(F.desc('count(OS)'))\\\n",
    ".show()"
   ]
  },
  {
   "cell_type": "markdown",
   "metadata": {},
   "source": [
    "There are still quite a lot of different OS. I'm not sure this will be relevant to use them all as features later on. Why not grouping them by OS family ? To do that, I would like to use a dictionary. That will be good for me to remmeber how to replace values using a dict + encapsulate in a user defined function."
   ]
  },
  {
   "cell_type": "code",
   "execution_count": 441,
   "metadata": {},
   "outputs": [],
   "source": [
    "# build a dict to group all Windows together, all Apple together, etc.\n",
    "OS_dict = {\n",
    "    'iPad':'Apple',\n",
    "    'X11':'Unix-Like',\n",
    "    'Windows NT 6.3':'Windows',\n",
    "    'iPhone':'Apple',\n",
    "    'Windows NT 6.2':'Windows',\n",
    "    'Macintosh':'Apple',\n",
    "    'Windows NT 5.1':'Windows',\n",
    "    'compatible':'Windows',\n",
    "    'Windows NT 6.0':'Windows',\n",
    "    'Windows NT 6.1':'Windows'\n",
    "}"
   ]
  },
  {
   "cell_type": "code",
   "execution_count": 442,
   "metadata": {},
   "outputs": [],
   "source": [
    "# create a user define function to get the OS family and add in a new colmun\n",
    "os_family_udf = udf(lambda x: OS_dict.get(x), StringType())\n",
    "user_log_valid = user_log_valid.withColumn(\"OS_family\", os_family_udf(user_log_valid.OS))"
   ]
  },
  {
   "cell_type": "code",
   "execution_count": 443,
   "metadata": {},
   "outputs": [
    {
     "name": "stdout",
     "output_type": "stream",
     "text": [
      "+---------+----------------+\n",
      "|OS_family|count(OS_family)|\n",
      "+---------+----------------+\n",
      "|  Windows|          143871|\n",
      "|    Apple|          125322|\n",
      "|Unix-Like|            8961|\n",
      "+---------+----------------+\n",
      "\n"
     ]
    }
   ],
   "source": [
    "user_log_valid\\\n",
    ".groupBy(\"OS_family\")\\\n",
    ".agg({\"OS_family\":\"count\"})\\\n",
    ".sort(F.desc('count(OS_family)'))\\\n",
    ".show()"
   ]
  },
  {
   "cell_type": "markdown",
   "metadata": {},
   "source": [
    "### Let's concentrate on the churn aspect now\n",
    "We will base our analysis on the event when a user is confirming the cancellation.\n",
    "We are lucky, there is a dedicted page for this."
   ]
  },
  {
   "cell_type": "code",
   "execution_count": 444,
   "metadata": {},
   "outputs": [
    {
     "name": "stdout",
     "output_type": "stream",
     "text": [
      "+------+---------+---------+--------------------+----+\n",
      "|userId|sessionId|firstname|                page|song|\n",
      "+------+---------+---------+--------------------+----+\n",
      "|    18|      514|   Adriel|Cancellation Conf...|null|\n",
      "|    32|      540|    Diego|Cancellation Conf...|null|\n",
      "|   125|      174|    Mason|Cancellation Conf...|null|\n",
      "|   105|      508|Alexander|Cancellation Conf...|null|\n",
      "|    17|      797|    Kayla|Cancellation Conf...|null|\n",
      "+------+---------+---------+--------------------+----+\n",
      "only showing top 5 rows\n",
      "\n"
     ]
    }
   ],
   "source": [
    "user_log_valid \\\n",
    ".select([\"userId\", \"sessionId\", \"firstname\", \"page\", \"song\"]) \\\n",
    ".where(user_log_valid.page == \"Cancellation Confirmation\") \\\n",
    ".show(5)"
   ]
  },
  {
   "cell_type": "code",
   "execution_count": 445,
   "metadata": {},
   "outputs": [
    {
     "name": "stdout",
     "output_type": "stream",
     "text": [
      "+------+---------+---------+----------------+----+\n",
      "|userId|sessionId|firstname|            page|song|\n",
      "+------+---------+---------+----------------+----+\n",
      "|   131|      249|     Kael|Submit Downgrade|null|\n",
      "|    38|      313|   Calvin|Submit Downgrade|null|\n",
      "|   141|      479|  Kaylenn|Submit Downgrade|null|\n",
      "|    30|      532|    Colin|Submit Downgrade|null|\n",
      "|    20|      378|  Destiny|Submit Downgrade|null|\n",
      "+------+---------+---------+----------------+----+\n",
      "only showing top 5 rows\n",
      "\n"
     ]
    }
   ],
   "source": [
    "user_log_valid \\\n",
    ".select([\"userId\", \"sessionId\", \"firstname\", \"page\", \"song\"]) \\\n",
    ".where(user_log_valid.page == \"Submit Downgrade\") \\\n",
    ".show(5)"
   ]
  },
  {
   "cell_type": "markdown",
   "metadata": {},
   "source": [
    "Like we did for the OS family, I sugguest to use some user defined function to introduce new columns with the relevant information for both downgrade and cancellation events."
   ]
  },
  {
   "cell_type": "code",
   "execution_count": 446,
   "metadata": {},
   "outputs": [],
   "source": [
    "flag_downgrade_event = udf(lambda x: 1 if x == \"Submit Downgrade\" else 0, IntegerType())\n",
    "flag_cancellation_event = udf(lambda x: 1 if x == \"Cancellation Confirmation\" else 0, IntegerType())"
   ]
  },
  {
   "cell_type": "code",
   "execution_count": 447,
   "metadata": {},
   "outputs": [],
   "source": [
    "user_log_valid = user_log_valid.withColumn(\"downgrade\", flag_downgrade_event(\"page\"))\n",
    "user_log_valid = user_log_valid.withColumn(\"churn\", flag_cancellation_event(\"page\"))"
   ]
  },
  {
   "cell_type": "code",
   "execution_count": 448,
   "metadata": {},
   "outputs": [
    {
     "data": {
      "text/plain": [
       "[Row(artist='Martha Tilston', auth='Logged In', firstName='Colin', gender='M', itemInSession=50, lastName='Freeman', length=277.89016, level='paid', location='Bakersfield, CA', method='PUT', page='NextSong', registration=1538173362000, sessionId=29, song='Rockpools', status=200, ts=1538352117000, userAgent='Mozilla/5.0 (Windows NT 6.1; WOW64; rv:31.0) Gecko/20100101 Firefox/31.0', userId='30', OS='Windows NT 6.1', OS_family='Windows', downgrade=0, churn=0)]"
      ]
     },
     "execution_count": 448,
     "metadata": {},
     "output_type": "execute_result"
    }
   ],
   "source": [
    "user_log_valid.head(1)"
   ]
  },
  {
   "cell_type": "code",
   "execution_count": 449,
   "metadata": {},
   "outputs": [
    {
     "name": "stdout",
     "output_type": "stream",
     "text": [
      "+------+-------------+--------------------+-----+-----+---------+\n",
      "|userId|           ts|                page|level|churn|downgrade|\n",
      "+------+-------------+--------------------+-----+-----+---------+\n",
      "|    18|1538943990000|Cancellation Conf...| paid|    1|        0|\n",
      "+------+-------------+--------------------+-----+-----+---------+\n",
      "\n"
     ]
    }
   ],
   "source": [
    "user_log_valid \\\n",
    ".select([\"userId\", \"ts\", \"page\", \"level\", \"churn\", \"downgrade\"]) \\\n",
    ".filter(user_log_valid.userId == \"18\").filter(user_log_valid.churn == \"1\") \\\n",
    ".sort(\"ts\") \\\n",
    ".show()"
   ]
  },
  {
   "cell_type": "code",
   "execution_count": 450,
   "metadata": {},
   "outputs": [
    {
     "name": "stdout",
     "output_type": "stream",
     "text": [
      "+------+-------------+----------------+-----+-----+---------+\n",
      "|userId|           ts|            page|level|churn|downgrade|\n",
      "+------+-------------+----------------+-----+-----+---------+\n",
      "|   131|1538393619000|Submit Downgrade| paid|    0|        1|\n",
      "|   131|1542671497000|Submit Downgrade| paid|    0|        1|\n",
      "+------+-------------+----------------+-----+-----+---------+\n",
      "\n"
     ]
    }
   ],
   "source": [
    "user_log_valid \\\n",
    ".select([\"userId\", \"ts\", \"page\", \"level\", \"churn\", \"downgrade\"]) \\\n",
    ".filter(user_log_valid.userId == '131').filter(user_log_valid.downgrade == \"1\") \\\n",
    ".sort(\"ts\") \\\n",
    ".show()"
   ]
  },
  {
   "cell_type": "code",
   "execution_count": 451,
   "metadata": {},
   "outputs": [
    {
     "name": "stdout",
     "output_type": "stream",
     "text": [
      "+------+----------------+---------+--------+-------------+---------+\n",
      "|userID|page            |firstName|lastName|ts           |auth     |\n",
      "+------+----------------+---------+--------+-------------+---------+\n",
      "|131   |Submit Downgrade|Kael     |Baker   |1538393619000|Logged In|\n",
      "|38    |Submit Downgrade|Calvin   |Marshall|1538516445000|Logged In|\n",
      "|141   |Submit Downgrade|Kaylenn  |Jenkins |1538835479000|Logged In|\n",
      "|30    |Submit Downgrade|Colin    |Freeman |1538995454000|Logged In|\n",
      "|20    |Submit Downgrade|Destiny  |Herring |1538997356000|Logged In|\n",
      "+------+----------------+---------+--------+-------------+---------+\n",
      "only showing top 5 rows\n",
      "\n"
     ]
    }
   ],
   "source": [
    "downgrade_logs = user_log_valid.filter(user_log_valid.downgrade == \"1\")\n",
    "downgrade_logs.select(['userID','page', 'firstName', 'lastName','ts', 'auth']).show(5, False)"
   ]
  },
  {
   "cell_type": "code",
   "execution_count": 452,
   "metadata": {},
   "outputs": [
    {
     "name": "stdout",
     "output_type": "stream",
     "text": [
      "+------+-------------------------+---------+--------+-------------+---------+\n",
      "|userID|page                     |firstName|lastName|ts           |auth     |\n",
      "+------+-------------------------+---------+--------+-------------+---------+\n",
      "|18    |Cancellation Confirmation|Adriel   |Mendoza |1538943990000|Cancelled|\n",
      "|32    |Cancellation Confirmation|Diego    |Mckee   |1539033046000|Cancelled|\n",
      "|125   |Cancellation Confirmation|Mason    |Hart    |1539318918000|Cancelled|\n",
      "|105   |Cancellation Confirmation|Alexander|Garcia  |1539375441000|Cancelled|\n",
      "|17    |Cancellation Confirmation|Kayla    |Johnson |1539465584000|Cancelled|\n",
      "+------+-------------------------+---------+--------+-------------+---------+\n",
      "only showing top 5 rows\n",
      "\n"
     ]
    }
   ],
   "source": [
    "churn_logs = user_log_valid.filter(user_log_valid.churn == \"1\")\n",
    "churn_logs.select(['userID','page', 'firstName', 'lastName','ts', 'auth']).show(5, False)"
   ]
  },
  {
   "cell_type": "code",
   "execution_count": 453,
   "metadata": {},
   "outputs": [
    {
     "data": {
      "text/plain": [
       "(52, 49)"
      ]
     },
     "execution_count": 453,
     "metadata": {},
     "output_type": "execute_result"
    }
   ],
   "source": [
    "user_ids_who_churn = [user_ids['userID'] for user_ids in churn_logs.select('userID').distinct().collect()]\n",
    "user_ids_who_downgraded = [user_ids['userID'] for user_ids in downgrade_logs.select('userID').distinct().collect()]\n",
    "len(user_ids_who_churn), len(user_ids_who_downgraded)"
   ]
  },
  {
   "cell_type": "code",
   "execution_count": 454,
   "metadata": {},
   "outputs": [
    {
     "data": {
      "text/plain": [
       "['54', '100025', '100009', '100015', '103', '100012', '200020', '200011', '12']"
      ]
     },
     "execution_count": 454,
     "metadata": {},
     "output_type": "execute_result"
    }
   ],
   "source": [
    "user_ids_who_did_both = [x for x in user_ids_who_churn if x in user_ids_who_downgraded]\n",
    "user_ids_who_did_both"
   ]
  },
  {
   "cell_type": "code",
   "execution_count": 455,
   "metadata": {},
   "outputs": [
    {
     "data": {
      "text/plain": [
       "173"
      ]
     },
     "execution_count": 455,
     "metadata": {},
     "output_type": "execute_result"
    }
   ],
   "source": [
    "user_ids_all = [user_ids['userId'] for user_ids in user_log_valid.select('userId').distinct().collect()]\n",
    "user_ids_who_didnt_churn = [user_ids for user_ids in user_ids_all if user_ids not in user_ids_who_churn]\n",
    "len(user_ids_who_didnt_churn)"
   ]
  },
  {
   "cell_type": "code",
   "execution_count": 456,
   "metadata": {},
   "outputs": [
    {
     "data": {
      "text/plain": [
       "True"
      ]
     },
     "execution_count": 456,
     "metadata": {},
     "output_type": "execute_result"
    }
   ],
   "source": [
    "#total number of unique user ID\n",
    "(52+173) == user_log_valid.select('userId').distinct().count()"
   ]
  },
  {
   "cell_type": "markdown",
   "metadata": {},
   "source": [
    "### Let's add a phase and a flag for churned user"
   ]
  },
  {
   "cell_type": "code",
   "execution_count": 457,
   "metadata": {},
   "outputs": [],
   "source": [
    "windowval = Window.partitionBy(\"userId\").orderBy(desc(\"ts\")).rangeBetween(Window.unboundedPreceding, 0)"
   ]
  },
  {
   "cell_type": "code",
   "execution_count": 458,
   "metadata": {},
   "outputs": [],
   "source": [
    "user_log_valid = user_log_valid.withColumn(\"downgrade_phase\", F.sum(\"downgrade\").over(windowval))\n",
    "user_log_valid = user_log_valid.withColumn(\"churned_user\", F.max('churn').over(Window.partitionBy(\"userId\")))"
   ]
  },
  {
   "cell_type": "code",
   "execution_count": 459,
   "metadata": {},
   "outputs": [
    {
     "data": {
      "text/plain": [
       "<bound method DataFrame.filter of DataFrame[artist: string, auth: string, firstName: string, gender: string, itemInSession: bigint, lastName: string, length: double, level: string, location: string, method: string, page: string, registration: bigint, sessionId: bigint, song: string, status: bigint, ts: bigint, userAgent: string, userId: string, OS: string, OS_family: string, downgrade: int, churn: int, downgrade_phase: bigint, churned_user: int]>"
      ]
     },
     "execution_count": 459,
     "metadata": {},
     "output_type": "execute_result"
    }
   ],
   "source": [
    "user_log_valid.filter"
   ]
  },
  {
   "cell_type": "code",
   "execution_count": 460,
   "metadata": {},
   "outputs": [
    {
     "data": {
      "text/plain": [
       "[Row(userId='18', ts=1538499917000, level='paid', churn=0, downgrade=0, downgrade_phase=0, churned_user=1),\n",
       " Row(userId='18', ts=1538499933000, level='paid', churn=0, downgrade=0, downgrade_phase=0, churned_user=1),\n",
       " Row(userId='18', ts=1538500208000, level='paid', churn=0, downgrade=0, downgrade_phase=0, churned_user=1),\n",
       " Row(userId='18', ts=1538500476000, level='paid', churn=0, downgrade=0, downgrade_phase=0, churned_user=1),\n",
       " Row(userId='18', ts=1538500654000, level='paid', churn=0, downgrade=0, downgrade_phase=0, churned_user=1),\n",
       " Row(userId='18', ts=1538500842000, level='paid', churn=0, downgrade=0, downgrade_phase=0, churned_user=1),\n",
       " Row(userId='18', ts=1538500856000, level='paid', churn=0, downgrade=0, downgrade_phase=0, churned_user=1),\n",
       " Row(userId='18', ts=1538501009000, level='paid', churn=0, downgrade=0, downgrade_phase=0, churned_user=1),\n",
       " Row(userId='18', ts=1538501340000, level='paid', churn=0, downgrade=0, downgrade_phase=0, churned_user=1),\n",
       " Row(userId='18', ts=1538501587000, level='paid', churn=0, downgrade=0, downgrade_phase=0, churned_user=1),\n",
       " Row(userId='18', ts=1538501740000, level='paid', churn=0, downgrade=0, downgrade_phase=0, churned_user=1),\n",
       " Row(userId='18', ts=1538501984000, level='paid', churn=0, downgrade=0, downgrade_phase=0, churned_user=1),\n",
       " Row(userId='18', ts=1538502021000, level='paid', churn=0, downgrade=0, downgrade_phase=0, churned_user=1),\n",
       " Row(userId='18', ts=1538502124000, level='paid', churn=0, downgrade=0, downgrade_phase=0, churned_user=1),\n",
       " Row(userId='18', ts=1538502356000, level='paid', churn=0, downgrade=0, downgrade_phase=0, churned_user=1),\n",
       " Row(userId='18', ts=1538502626000, level='paid', churn=0, downgrade=0, downgrade_phase=0, churned_user=1),\n",
       " Row(userId='18', ts=1538502928000, level='paid', churn=0, downgrade=0, downgrade_phase=0, churned_user=1),\n",
       " Row(userId='18', ts=1538503097000, level='paid', churn=0, downgrade=0, downgrade_phase=0, churned_user=1),\n",
       " Row(userId='18', ts=1538503298000, level='paid', churn=0, downgrade=0, downgrade_phase=0, churned_user=1),\n",
       " Row(userId='18', ts=1538503521000, level='paid', churn=0, downgrade=0, downgrade_phase=0, churned_user=1),\n",
       " Row(userId='18', ts=1538503702000, level='paid', churn=0, downgrade=0, downgrade_phase=0, churned_user=1),\n",
       " Row(userId='18', ts=1538503941000, level='paid', churn=0, downgrade=0, downgrade_phase=0, churned_user=1),\n",
       " Row(userId='18', ts=1538503942000, level='paid', churn=0, downgrade=0, downgrade_phase=0, churned_user=1),\n",
       " Row(userId='18', ts=1538504166000, level='paid', churn=0, downgrade=0, downgrade_phase=0, churned_user=1),\n",
       " Row(userId='18', ts=1538504390000, level='paid', churn=0, downgrade=0, downgrade_phase=0, churned_user=1),\n",
       " Row(userId='18', ts=1538504654000, level='paid', churn=0, downgrade=0, downgrade_phase=0, churned_user=1),\n",
       " Row(userId='18', ts=1538505044000, level='paid', churn=0, downgrade=0, downgrade_phase=0, churned_user=1),\n",
       " Row(userId='18', ts=1538505045000, level='paid', churn=0, downgrade=0, downgrade_phase=0, churned_user=1),\n",
       " Row(userId='18', ts=1538505098000, level='paid', churn=0, downgrade=0, downgrade_phase=0, churned_user=1),\n",
       " Row(userId='18', ts=1538505438000, level='paid', churn=0, downgrade=0, downgrade_phase=0, churned_user=1),\n",
       " Row(userId='18', ts=1538505646000, level='paid', churn=0, downgrade=0, downgrade_phase=0, churned_user=1),\n",
       " Row(userId='18', ts=1538506015000, level='paid', churn=0, downgrade=0, downgrade_phase=0, churned_user=1),\n",
       " Row(userId='18', ts=1538506324000, level='paid', churn=0, downgrade=0, downgrade_phase=0, churned_user=1),\n",
       " Row(userId='18', ts=1538506325000, level='paid', churn=0, downgrade=0, downgrade_phase=0, churned_user=1),\n",
       " Row(userId='18', ts=1538506468000, level='paid', churn=0, downgrade=0, downgrade_phase=0, churned_user=1),\n",
       " Row(userId='18', ts=1538506519000, level='paid', churn=0, downgrade=0, downgrade_phase=0, churned_user=1),\n",
       " Row(userId='18', ts=1538506764000, level='paid', churn=0, downgrade=0, downgrade_phase=0, churned_user=1),\n",
       " Row(userId='18', ts=1538506956000, level='paid', churn=0, downgrade=0, downgrade_phase=0, churned_user=1),\n",
       " Row(userId='18', ts=1538506989000, level='paid', churn=0, downgrade=0, downgrade_phase=0, churned_user=1),\n",
       " Row(userId='18', ts=1538507272000, level='paid', churn=0, downgrade=0, downgrade_phase=0, churned_user=1),\n",
       " Row(userId='18', ts=1538507446000, level='paid', churn=0, downgrade=0, downgrade_phase=0, churned_user=1),\n",
       " Row(userId='18', ts=1538507644000, level='paid', churn=0, downgrade=0, downgrade_phase=0, churned_user=1),\n",
       " Row(userId='18', ts=1538507888000, level='paid', churn=0, downgrade=0, downgrade_phase=0, churned_user=1),\n",
       " Row(userId='18', ts=1538508543000, level='paid', churn=0, downgrade=0, downgrade_phase=0, churned_user=1),\n",
       " Row(userId='18', ts=1538508768000, level='paid', churn=0, downgrade=0, downgrade_phase=0, churned_user=1),\n",
       " Row(userId='18', ts=1538509002000, level='paid', churn=0, downgrade=0, downgrade_phase=0, churned_user=1),\n",
       " Row(userId='18', ts=1538509242000, level='paid', churn=0, downgrade=0, downgrade_phase=0, churned_user=1),\n",
       " Row(userId='18', ts=1538509447000, level='paid', churn=0, downgrade=0, downgrade_phase=0, churned_user=1),\n",
       " Row(userId='18', ts=1538509595000, level='paid', churn=0, downgrade=0, downgrade_phase=0, churned_user=1),\n",
       " Row(userId='18', ts=1538509761000, level='paid', churn=0, downgrade=0, downgrade_phase=0, churned_user=1),\n",
       " Row(userId='18', ts=1538509885000, level='paid', churn=0, downgrade=0, downgrade_phase=0, churned_user=1),\n",
       " Row(userId='18', ts=1538510122000, level='paid', churn=0, downgrade=0, downgrade_phase=0, churned_user=1),\n",
       " Row(userId='18', ts=1538510384000, level='paid', churn=0, downgrade=0, downgrade_phase=0, churned_user=1),\n",
       " Row(userId='18', ts=1538510648000, level='paid', churn=0, downgrade=0, downgrade_phase=0, churned_user=1),\n",
       " Row(userId='18', ts=1538510860000, level='paid', churn=0, downgrade=0, downgrade_phase=0, churned_user=1),\n",
       " Row(userId='18', ts=1538510861000, level='paid', churn=0, downgrade=0, downgrade_phase=0, churned_user=1),\n",
       " Row(userId='18', ts=1538511080000, level='paid', churn=0, downgrade=0, downgrade_phase=0, churned_user=1),\n",
       " Row(userId='18', ts=1538511198000, level='paid', churn=0, downgrade=0, downgrade_phase=0, churned_user=1),\n",
       " Row(userId='18', ts=1538511199000, level='paid', churn=0, downgrade=0, downgrade_phase=0, churned_user=1),\n",
       " Row(userId='18', ts=1538511375000, level='paid', churn=0, downgrade=0, downgrade_phase=0, churned_user=1),\n",
       " Row(userId='18', ts=1538511583000, level='paid', churn=0, downgrade=0, downgrade_phase=0, churned_user=1),\n",
       " Row(userId='18', ts=1538512085000, level='paid', churn=0, downgrade=0, downgrade_phase=0, churned_user=1),\n",
       " Row(userId='18', ts=1538512086000, level='paid', churn=0, downgrade=0, downgrade_phase=0, churned_user=1),\n",
       " Row(userId='18', ts=1538512087000, level='paid', churn=0, downgrade=0, downgrade_phase=0, churned_user=1),\n",
       " Row(userId='18', ts=1538512286000, level='paid', churn=0, downgrade=0, downgrade_phase=0, churned_user=1),\n",
       " Row(userId='18', ts=1538512287000, level='paid', churn=0, downgrade=0, downgrade_phase=0, churned_user=1),\n",
       " Row(userId='18', ts=1538512433000, level='paid', churn=0, downgrade=0, downgrade_phase=0, churned_user=1),\n",
       " Row(userId='18', ts=1538512827000, level='paid', churn=0, downgrade=0, downgrade_phase=0, churned_user=1),\n",
       " Row(userId='18', ts=1538513224000, level='paid', churn=0, downgrade=0, downgrade_phase=0, churned_user=1),\n",
       " Row(userId='18', ts=1538513331000, level='paid', churn=0, downgrade=0, downgrade_phase=0, churned_user=1),\n",
       " Row(userId='18', ts=1538513581000, level='paid', churn=0, downgrade=0, downgrade_phase=0, churned_user=1),\n",
       " Row(userId='18', ts=1538513831000, level='paid', churn=0, downgrade=0, downgrade_phase=0, churned_user=1),\n",
       " Row(userId='18', ts=1538513832000, level='paid', churn=0, downgrade=0, downgrade_phase=0, churned_user=1),\n",
       " Row(userId='18', ts=1538514091000, level='paid', churn=0, downgrade=0, downgrade_phase=0, churned_user=1),\n",
       " Row(userId='18', ts=1538514342000, level='paid', churn=0, downgrade=0, downgrade_phase=0, churned_user=1),\n",
       " Row(userId='18', ts=1538514577000, level='paid', churn=0, downgrade=0, downgrade_phase=0, churned_user=1),\n",
       " Row(userId='18', ts=1538514828000, level='paid', churn=0, downgrade=0, downgrade_phase=0, churned_user=1),\n",
       " Row(userId='18', ts=1538515355000, level='paid', churn=0, downgrade=0, downgrade_phase=0, churned_user=1),\n",
       " Row(userId='18', ts=1538515356000, level='paid', churn=0, downgrade=0, downgrade_phase=0, churned_user=1),\n",
       " Row(userId='18', ts=1538515590000, level='paid', churn=0, downgrade=0, downgrade_phase=0, churned_user=1),\n",
       " Row(userId='18', ts=1538515785000, level='paid', churn=0, downgrade=0, downgrade_phase=0, churned_user=1),\n",
       " Row(userId='18', ts=1538516044000, level='paid', churn=0, downgrade=0, downgrade_phase=0, churned_user=1),\n",
       " Row(userId='18', ts=1538516470000, level='paid', churn=0, downgrade=0, downgrade_phase=0, churned_user=1),\n",
       " Row(userId='18', ts=1538516670000, level='paid', churn=0, downgrade=0, downgrade_phase=0, churned_user=1),\n",
       " Row(userId='18', ts=1538516896000, level='paid', churn=0, downgrade=0, downgrade_phase=0, churned_user=1),\n",
       " Row(userId='18', ts=1538517035000, level='paid', churn=0, downgrade=0, downgrade_phase=0, churned_user=1),\n",
       " Row(userId='18', ts=1538517261000, level='paid', churn=0, downgrade=0, downgrade_phase=0, churned_user=1),\n",
       " Row(userId='18', ts=1538517477000, level='paid', churn=0, downgrade=0, downgrade_phase=0, churned_user=1),\n",
       " Row(userId='18', ts=1538517546000, level='paid', churn=0, downgrade=0, downgrade_phase=0, churned_user=1),\n",
       " Row(userId='18', ts=1538517554000, level='paid', churn=0, downgrade=0, downgrade_phase=0, churned_user=1),\n",
       " Row(userId='18', ts=1538517567000, level='paid', churn=0, downgrade=0, downgrade_phase=0, churned_user=1),\n",
       " Row(userId='18', ts=1538517818000, level='paid', churn=0, downgrade=0, downgrade_phase=0, churned_user=1),\n",
       " Row(userId='18', ts=1538517819000, level='paid', churn=0, downgrade=0, downgrade_phase=0, churned_user=1),\n",
       " Row(userId='18', ts=1538518184000, level='paid', churn=0, downgrade=0, downgrade_phase=0, churned_user=1),\n",
       " Row(userId='18', ts=1538518201000, level='paid', churn=0, downgrade=0, downgrade_phase=0, churned_user=1),\n",
       " Row(userId='18', ts=1538518412000, level='paid', churn=0, downgrade=0, downgrade_phase=0, churned_user=1),\n",
       " Row(userId='18', ts=1538518644000, level='paid', churn=0, downgrade=0, downgrade_phase=0, churned_user=1),\n",
       " Row(userId='18', ts=1538518840000, level='paid', churn=0, downgrade=0, downgrade_phase=0, churned_user=1),\n",
       " Row(userId='18', ts=1538519056000, level='paid', churn=0, downgrade=0, downgrade_phase=0, churned_user=1),\n",
       " Row(userId='18', ts=1538519320000, level='paid', churn=0, downgrade=0, downgrade_phase=0, churned_user=1),\n",
       " Row(userId='18', ts=1538519521000, level='paid', churn=0, downgrade=0, downgrade_phase=0, churned_user=1),\n",
       " Row(userId='18', ts=1538519888000, level='paid', churn=0, downgrade=0, downgrade_phase=0, churned_user=1),\n",
       " Row(userId='18', ts=1538520362000, level='paid', churn=0, downgrade=0, downgrade_phase=0, churned_user=1),\n",
       " Row(userId='18', ts=1538520658000, level='paid', churn=0, downgrade=0, downgrade_phase=0, churned_user=1),\n",
       " Row(userId='18', ts=1538520747000, level='paid', churn=0, downgrade=0, downgrade_phase=0, churned_user=1),\n",
       " Row(userId='18', ts=1538520878000, level='paid', churn=0, downgrade=0, downgrade_phase=0, churned_user=1),\n",
       " Row(userId='18', ts=1538521122000, level='paid', churn=0, downgrade=0, downgrade_phase=0, churned_user=1),\n",
       " Row(userId='18', ts=1538521130000, level='paid', churn=0, downgrade=0, downgrade_phase=0, churned_user=1),\n",
       " Row(userId='18', ts=1538521283000, level='paid', churn=0, downgrade=0, downgrade_phase=0, churned_user=1),\n",
       " Row(userId='18', ts=1538521541000, level='paid', churn=0, downgrade=0, downgrade_phase=0, churned_user=1),\n",
       " Row(userId='18', ts=1538521623000, level='paid', churn=0, downgrade=0, downgrade_phase=0, churned_user=1),\n",
       " Row(userId='18', ts=1538521839000, level='paid', churn=0, downgrade=0, downgrade_phase=0, churned_user=1),\n",
       " Row(userId='18', ts=1538522039000, level='paid', churn=0, downgrade=0, downgrade_phase=0, churned_user=1),\n",
       " Row(userId='18', ts=1538522221000, level='paid', churn=0, downgrade=0, downgrade_phase=0, churned_user=1),\n",
       " Row(userId='18', ts=1538522402000, level='paid', churn=0, downgrade=0, downgrade_phase=0, churned_user=1),\n",
       " Row(userId='18', ts=1538522669000, level='paid', churn=0, downgrade=0, downgrade_phase=0, churned_user=1),\n",
       " Row(userId='18', ts=1538522855000, level='paid', churn=0, downgrade=0, downgrade_phase=0, churned_user=1),\n",
       " Row(userId='18', ts=1538523055000, level='paid', churn=0, downgrade=0, downgrade_phase=0, churned_user=1),\n",
       " Row(userId='18', ts=1538523319000, level='paid', churn=0, downgrade=0, downgrade_phase=0, churned_user=1),\n",
       " Row(userId='18', ts=1538523360000, level='paid', churn=0, downgrade=0, downgrade_phase=0, churned_user=1),\n",
       " Row(userId='18', ts=1538523361000, level='paid', churn=0, downgrade=0, downgrade_phase=0, churned_user=1),\n",
       " Row(userId='18', ts=1538548365000, level='paid', churn=0, downgrade=0, downgrade_phase=0, churned_user=1),\n",
       " Row(userId='18', ts=1538548859000, level='paid', churn=0, downgrade=0, downgrade_phase=0, churned_user=1),\n",
       " Row(userId='18', ts=1538549078000, level='paid', churn=0, downgrade=0, downgrade_phase=0, churned_user=1),\n",
       " Row(userId='18', ts=1538549296000, level='paid', churn=0, downgrade=0, downgrade_phase=0, churned_user=1),\n",
       " Row(userId='18', ts=1538549656000, level='paid', churn=0, downgrade=0, downgrade_phase=0, churned_user=1),\n",
       " Row(userId='18', ts=1538549851000, level='paid', churn=0, downgrade=0, downgrade_phase=0, churned_user=1),\n",
       " Row(userId='18', ts=1538549852000, level='paid', churn=0, downgrade=0, downgrade_phase=0, churned_user=1),\n",
       " Row(userId='18', ts=1538550227000, level='paid', churn=0, downgrade=0, downgrade_phase=0, churned_user=1),\n",
       " Row(userId='18', ts=1538550320000, level='paid', churn=0, downgrade=0, downgrade_phase=0, churned_user=1),\n",
       " Row(userId='18', ts=1538550569000, level='paid', churn=0, downgrade=0, downgrade_phase=0, churned_user=1),\n",
       " Row(userId='18', ts=1538550570000, level='paid', churn=0, downgrade=0, downgrade_phase=0, churned_user=1),\n",
       " Row(userId='18', ts=1538550785000, level='paid', churn=0, downgrade=0, downgrade_phase=0, churned_user=1),\n",
       " Row(userId='18', ts=1538550956000, level='paid', churn=0, downgrade=0, downgrade_phase=0, churned_user=1),\n",
       " Row(userId='18', ts=1538551183000, level='paid', churn=0, downgrade=0, downgrade_phase=0, churned_user=1),\n",
       " Row(userId='18', ts=1538551464000, level='paid', churn=0, downgrade=0, downgrade_phase=0, churned_user=1),\n",
       " Row(userId='18', ts=1538551677000, level='paid', churn=0, downgrade=0, downgrade_phase=0, churned_user=1),\n",
       " Row(userId='18', ts=1538551897000, level='paid', churn=0, downgrade=0, downgrade_phase=0, churned_user=1),\n",
       " Row(userId='18', ts=1538552221000, level='paid', churn=0, downgrade=0, downgrade_phase=0, churned_user=1),\n",
       " Row(userId='18', ts=1538552536000, level='paid', churn=0, downgrade=0, downgrade_phase=0, churned_user=1),\n",
       " Row(userId='18', ts=1538552767000, level='paid', churn=0, downgrade=0, downgrade_phase=0, churned_user=1),\n",
       " Row(userId='18', ts=1538553141000, level='paid', churn=0, downgrade=0, downgrade_phase=0, churned_user=1),\n",
       " Row(userId='18', ts=1538553462000, level='paid', churn=0, downgrade=0, downgrade_phase=0, churned_user=1),\n",
       " Row(userId='18', ts=1538553677000, level='paid', churn=0, downgrade=0, downgrade_phase=0, churned_user=1),\n",
       " Row(userId='18', ts=1538554058000, level='paid', churn=0, downgrade=0, downgrade_phase=0, churned_user=1),\n",
       " Row(userId='18', ts=1538554059000, level='paid', churn=0, downgrade=0, downgrade_phase=0, churned_user=1),\n",
       " Row(userId='18', ts=1538554143000, level='paid', churn=0, downgrade=0, downgrade_phase=0, churned_user=1),\n",
       " Row(userId='18', ts=1538554317000, level='paid', churn=0, downgrade=0, downgrade_phase=0, churned_user=1),\n",
       " Row(userId='18', ts=1538554360000, level='paid', churn=0, downgrade=0, downgrade_phase=0, churned_user=1),\n",
       " Row(userId='18', ts=1538554505000, level='paid', churn=0, downgrade=0, downgrade_phase=0, churned_user=1),\n",
       " Row(userId='18', ts=1538554525000, level='paid', churn=0, downgrade=0, downgrade_phase=0, churned_user=1),\n",
       " Row(userId='18', ts=1538572176000, level='paid', churn=0, downgrade=0, downgrade_phase=0, churned_user=1),\n",
       " Row(userId='18', ts=1538572462000, level='paid', churn=0, downgrade=0, downgrade_phase=0, churned_user=1),\n",
       " Row(userId='18', ts=1538572728000, level='paid', churn=0, downgrade=0, downgrade_phase=0, churned_user=1),\n",
       " Row(userId='18', ts=1538572729000, level='paid', churn=0, downgrade=0, downgrade_phase=0, churned_user=1),\n",
       " Row(userId='18', ts=1538572917000, level='paid', churn=0, downgrade=0, downgrade_phase=0, churned_user=1),\n",
       " Row(userId='18', ts=1538573091000, level='paid', churn=0, downgrade=0, downgrade_phase=0, churned_user=1),\n",
       " Row(userId='18', ts=1538573296000, level='paid', churn=0, downgrade=0, downgrade_phase=0, churned_user=1),\n",
       " Row(userId='18', ts=1538573520000, level='paid', churn=0, downgrade=0, downgrade_phase=0, churned_user=1),\n",
       " Row(userId='18', ts=1538573727000, level='paid', churn=0, downgrade=0, downgrade_phase=0, churned_user=1),\n",
       " Row(userId='18', ts=1538573804000, level='paid', churn=0, downgrade=0, downgrade_phase=0, churned_user=1),\n",
       " Row(userId='18', ts=1538573977000, level='paid', churn=0, downgrade=0, downgrade_phase=0, churned_user=1),\n",
       " Row(userId='18', ts=1538574144000, level='paid', churn=0, downgrade=0, downgrade_phase=0, churned_user=1),\n",
       " Row(userId='18', ts=1538574355000, level='paid', churn=0, downgrade=0, downgrade_phase=0, churned_user=1),\n",
       " Row(userId='18', ts=1538574945000, level='paid', churn=0, downgrade=0, downgrade_phase=0, churned_user=1),\n",
       " Row(userId='18', ts=1538575180000, level='paid', churn=0, downgrade=0, downgrade_phase=0, churned_user=1),\n",
       " Row(userId='18', ts=1538575405000, level='paid', churn=0, downgrade=0, downgrade_phase=0, churned_user=1),\n",
       " Row(userId='18', ts=1538575618000, level='paid', churn=0, downgrade=0, downgrade_phase=0, churned_user=1),\n",
       " Row(userId='18', ts=1538575909000, level='paid', churn=0, downgrade=0, downgrade_phase=0, churned_user=1),\n",
       " Row(userId='18', ts=1538576129000, level='paid', churn=0, downgrade=0, downgrade_phase=0, churned_user=1),\n",
       " Row(userId='18', ts=1538576161000, level='paid', churn=0, downgrade=0, downgrade_phase=0, churned_user=1),\n",
       " Row(userId='18', ts=1538576280000, level='paid', churn=0, downgrade=0, downgrade_phase=0, churned_user=1),\n",
       " Row(userId='18', ts=1538576506000, level='paid', churn=0, downgrade=0, downgrade_phase=0, churned_user=1),\n",
       " Row(userId='18', ts=1538576768000, level='paid', churn=0, downgrade=0, downgrade_phase=0, churned_user=1),\n",
       " Row(userId='18', ts=1538577014000, level='paid', churn=0, downgrade=0, downgrade_phase=0, churned_user=1),\n",
       " Row(userId='18', ts=1538577322000, level='paid', churn=0, downgrade=0, downgrade_phase=0, churned_user=1),\n",
       " Row(userId='18', ts=1538577796000, level='paid', churn=0, downgrade=0, downgrade_phase=0, churned_user=1),\n",
       " Row(userId='18', ts=1538578066000, level='paid', churn=0, downgrade=0, downgrade_phase=0, churned_user=1),\n",
       " Row(userId='18', ts=1538578304000, level='paid', churn=0, downgrade=0, downgrade_phase=0, churned_user=1),\n",
       " Row(userId='18', ts=1538578528000, level='paid', churn=0, downgrade=0, downgrade_phase=0, churned_user=1),\n",
       " Row(userId='18', ts=1538578702000, level='paid', churn=0, downgrade=0, downgrade_phase=0, churned_user=1),\n",
       " Row(userId='18', ts=1538579145000, level='paid', churn=0, downgrade=0, downgrade_phase=0, churned_user=1),\n",
       " Row(userId='18', ts=1538579397000, level='paid', churn=0, downgrade=0, downgrade_phase=0, churned_user=1),\n",
       " Row(userId='18', ts=1538579603000, level='paid', churn=0, downgrade=0, downgrade_phase=0, churned_user=1),\n",
       " Row(userId='18', ts=1538579783000, level='paid', churn=0, downgrade=0, downgrade_phase=0, churned_user=1),\n",
       " Row(userId='18', ts=1538580012000, level='paid', churn=0, downgrade=0, downgrade_phase=0, churned_user=1),\n",
       " Row(userId='18', ts=1538580280000, level='paid', churn=0, downgrade=0, downgrade_phase=0, churned_user=1),\n",
       " Row(userId='18', ts=1538580546000, level='paid', churn=0, downgrade=0, downgrade_phase=0, churned_user=1),\n",
       " Row(userId='18', ts=1538580606000, level='paid', churn=0, downgrade=0, downgrade_phase=0, churned_user=1),\n",
       " Row(userId='18', ts=1538580775000, level='paid', churn=0, downgrade=0, downgrade_phase=0, churned_user=1),\n",
       " Row(userId='18', ts=1538580776000, level='paid', churn=0, downgrade=0, downgrade_phase=0, churned_user=1),\n",
       " Row(userId='18', ts=1538580843000, level='paid', churn=0, downgrade=0, downgrade_phase=0, churned_user=1),\n",
       " Row(userId='18', ts=1538581020000, level='paid', churn=0, downgrade=0, downgrade_phase=0, churned_user=1),\n",
       " Row(userId='18', ts=1538581472000, level='paid', churn=0, downgrade=0, downgrade_phase=0, churned_user=1),\n",
       " Row(userId='18', ts=1538581473000, level='paid', churn=0, downgrade=0, downgrade_phase=0, churned_user=1),\n",
       " Row(userId='18', ts=1538581730000, level='paid', churn=0, downgrade=0, downgrade_phase=0, churned_user=1),\n",
       " Row(userId='18', ts=1538581941000, level='paid', churn=0, downgrade=0, downgrade_phase=0, churned_user=1),\n",
       " Row(userId='18', ts=1538582130000, level='paid', churn=0, downgrade=0, downgrade_phase=0, churned_user=1),\n",
       " Row(userId='18', ts=1538582358000, level='paid', churn=0, downgrade=0, downgrade_phase=0, churned_user=1),\n",
       " Row(userId='18', ts=1538582402000, level='paid', churn=0, downgrade=0, downgrade_phase=0, churned_user=1),\n",
       " Row(userId='18', ts=1538582723000, level='paid', churn=0, downgrade=0, downgrade_phase=0, churned_user=1),\n",
       " Row(userId='18', ts=1538583595000, level='paid', churn=0, downgrade=0, downgrade_phase=0, churned_user=1),\n",
       " Row(userId='18', ts=1538583827000, level='paid', churn=0, downgrade=0, downgrade_phase=0, churned_user=1),\n",
       " Row(userId='18', ts=1538584047000, level='paid', churn=0, downgrade=0, downgrade_phase=0, churned_user=1),\n",
       " Row(userId='18', ts=1538584373000, level='paid', churn=0, downgrade=0, downgrade_phase=0, churned_user=1),\n",
       " Row(userId='18', ts=1538584593000, level='paid', churn=0, downgrade=0, downgrade_phase=0, churned_user=1),\n",
       " Row(userId='18', ts=1538584886000, level='paid', churn=0, downgrade=0, downgrade_phase=0, churned_user=1),\n",
       " Row(userId='18', ts=1538585377000, level='paid', churn=0, downgrade=0, downgrade_phase=0, churned_user=1),\n",
       " Row(userId='18', ts=1538585544000, level='paid', churn=0, downgrade=0, downgrade_phase=0, churned_user=1),\n",
       " Row(userId='18', ts=1538585623000, level='paid', churn=0, downgrade=0, downgrade_phase=0, churned_user=1),\n",
       " Row(userId='18', ts=1538585758000, level='paid', churn=0, downgrade=0, downgrade_phase=0, churned_user=1),\n",
       " Row(userId='18', ts=1538586034000, level='paid', churn=0, downgrade=0, downgrade_phase=0, churned_user=1),\n",
       " Row(userId='18', ts=1538586247000, level='paid', churn=0, downgrade=0, downgrade_phase=0, churned_user=1),\n",
       " Row(userId='18', ts=1538586442000, level='paid', churn=0, downgrade=0, downgrade_phase=0, churned_user=1),\n",
       " Row(userId='18', ts=1538586493000, level='paid', churn=0, downgrade=0, downgrade_phase=0, churned_user=1),\n",
       " Row(userId='18', ts=1538586494000, level='paid', churn=0, downgrade=0, downgrade_phase=0, churned_user=1),\n",
       " Row(userId='18', ts=1538586495000, level='paid', churn=0, downgrade=0, downgrade_phase=0, churned_user=1),\n",
       " Row(userId='18', ts=1538586601000, level='paid', churn=0, downgrade=0, downgrade_phase=0, churned_user=1),\n",
       " Row(userId='18', ts=1538586833000, level='paid', churn=0, downgrade=0, downgrade_phase=0, churned_user=1),\n",
       " Row(userId='18', ts=1538587017000, level='paid', churn=0, downgrade=0, downgrade_phase=0, churned_user=1),\n",
       " Row(userId='18', ts=1538587217000, level='paid', churn=0, downgrade=0, downgrade_phase=0, churned_user=1),\n",
       " Row(userId='18', ts=1538587432000, level='paid', churn=0, downgrade=0, downgrade_phase=0, churned_user=1),\n",
       " Row(userId='18', ts=1538587647000, level='paid', churn=0, downgrade=0, downgrade_phase=0, churned_user=1),\n",
       " Row(userId='18', ts=1538587958000, level='paid', churn=0, downgrade=0, downgrade_phase=0, churned_user=1),\n",
       " Row(userId='18', ts=1538588109000, level='paid', churn=0, downgrade=0, downgrade_phase=0, churned_user=1),\n",
       " Row(userId='18', ts=1538588535000, level='paid', churn=0, downgrade=0, downgrade_phase=0, churned_user=1),\n",
       " Row(userId='18', ts=1538588772000, level='paid', churn=0, downgrade=0, downgrade_phase=0, churned_user=1),\n",
       " Row(userId='18', ts=1538589098000, level='paid', churn=0, downgrade=0, downgrade_phase=0, churned_user=1),\n",
       " Row(userId='18', ts=1538589110000, level='paid', churn=0, downgrade=0, downgrade_phase=0, churned_user=1),\n",
       " Row(userId='18', ts=1538589417000, level='paid', churn=0, downgrade=0, downgrade_phase=0, churned_user=1),\n",
       " Row(userId='18', ts=1538589516000, level='paid', churn=0, downgrade=0, downgrade_phase=0, churned_user=1),\n",
       " Row(userId='18', ts=1538717270000, level='paid', churn=0, downgrade=0, downgrade_phase=0, churned_user=1),\n",
       " Row(userId='18', ts=1538717499000, level='paid', churn=0, downgrade=0, downgrade_phase=0, churned_user=1),\n",
       " Row(userId='18', ts=1538717738000, level='paid', churn=0, downgrade=0, downgrade_phase=0, churned_user=1),\n",
       " Row(userId='18', ts=1538717956000, level='paid', churn=0, downgrade=0, downgrade_phase=0, churned_user=1),\n",
       " Row(userId='18', ts=1538718224000, level='paid', churn=0, downgrade=0, downgrade_phase=0, churned_user=1),\n",
       " Row(userId='18', ts=1538718462000, level='paid', churn=0, downgrade=0, downgrade_phase=0, churned_user=1),\n",
       " Row(userId='18', ts=1538718839000, level='paid', churn=0, downgrade=0, downgrade_phase=0, churned_user=1),\n",
       " Row(userId='18', ts=1538719048000, level='paid', churn=0, downgrade=0, downgrade_phase=0, churned_user=1),\n",
       " Row(userId='18', ts=1538719467000, level='paid', churn=0, downgrade=0, downgrade_phase=0, churned_user=1),\n",
       " Row(userId='18', ts=1538719802000, level='paid', churn=0, downgrade=0, downgrade_phase=0, churned_user=1),\n",
       " Row(userId='18', ts=1538720095000, level='paid', churn=0, downgrade=0, downgrade_phase=0, churned_user=1),\n",
       " Row(userId='18', ts=1538720331000, level='paid', churn=0, downgrade=0, downgrade_phase=0, churned_user=1),\n",
       " Row(userId='18', ts=1538720613000, level='paid', churn=0, downgrade=0, downgrade_phase=0, churned_user=1),\n",
       " Row(userId='18', ts=1538721049000, level='paid', churn=0, downgrade=0, downgrade_phase=0, churned_user=1),\n",
       " Row(userId='18', ts=1538721304000, level='paid', churn=0, downgrade=0, downgrade_phase=0, churned_user=1),\n",
       " Row(userId='18', ts=1538721523000, level='paid', churn=0, downgrade=0, downgrade_phase=0, churned_user=1),\n",
       " Row(userId='18', ts=1538721783000, level='paid', churn=0, downgrade=0, downgrade_phase=0, churned_user=1),\n",
       " Row(userId='18', ts=1538722015000, level='paid', churn=0, downgrade=0, downgrade_phase=0, churned_user=1),\n",
       " Row(userId='18', ts=1538722239000, level='paid', churn=0, downgrade=0, downgrade_phase=0, churned_user=1),\n",
       " Row(userId='18', ts=1538722598000, level='paid', churn=0, downgrade=0, downgrade_phase=0, churned_user=1),\n",
       " Row(userId='18', ts=1538722781000, level='paid', churn=0, downgrade=0, downgrade_phase=0, churned_user=1),\n",
       " Row(userId='18', ts=1538723325000, level='paid', churn=0, downgrade=0, downgrade_phase=0, churned_user=1),\n",
       " Row(userId='18', ts=1538723544000, level='paid', churn=0, downgrade=0, downgrade_phase=0, churned_user=1),\n",
       " Row(userId='18', ts=1538723863000, level='paid', churn=0, downgrade=0, downgrade_phase=0, churned_user=1),\n",
       " Row(userId='18', ts=1538724128000, level='paid', churn=0, downgrade=0, downgrade_phase=0, churned_user=1),\n",
       " Row(userId='18', ts=1538724361000, level='paid', churn=0, downgrade=0, downgrade_phase=0, churned_user=1),\n",
       " Row(userId='18', ts=1538724529000, level='paid', churn=0, downgrade=0, downgrade_phase=0, churned_user=1),\n",
       " Row(userId='18', ts=1538724823000, level='paid', churn=0, downgrade=0, downgrade_phase=0, churned_user=1),\n",
       " Row(userId='18', ts=1538725064000, level='paid', churn=0, downgrade=0, downgrade_phase=0, churned_user=1),\n",
       " Row(userId='18', ts=1538725719000, level='paid', churn=0, downgrade=0, downgrade_phase=0, churned_user=1),\n",
       " Row(userId='18', ts=1538725969000, level='paid', churn=0, downgrade=0, downgrade_phase=0, churned_user=1),\n",
       " Row(userId='18', ts=1538726200000, level='paid', churn=0, downgrade=0, downgrade_phase=0, churned_user=1),\n",
       " Row(userId='18', ts=1538726452000, level='paid', churn=0, downgrade=0, downgrade_phase=0, churned_user=1),\n",
       " Row(userId='18', ts=1538726619000, level='paid', churn=0, downgrade=0, downgrade_phase=0, churned_user=1),\n",
       " Row(userId='18', ts=1538726976000, level='paid', churn=0, downgrade=0, downgrade_phase=0, churned_user=1),\n",
       " Row(userId='18', ts=1538727277000, level='paid', churn=0, downgrade=0, downgrade_phase=0, churned_user=1),\n",
       " Row(userId='18', ts=1538727518000, level='paid', churn=0, downgrade=0, downgrade_phase=0, churned_user=1),\n",
       " Row(userId='18', ts=1538727731000, level='paid', churn=0, downgrade=0, downgrade_phase=0, churned_user=1),\n",
       " Row(userId='18', ts=1538727940000, level='paid', churn=0, downgrade=0, downgrade_phase=0, churned_user=1),\n",
       " Row(userId='18', ts=1538728158000, level='paid', churn=0, downgrade=0, downgrade_phase=0, churned_user=1),\n",
       " Row(userId='18', ts=1538728377000, level='paid', churn=0, downgrade=0, downgrade_phase=0, churned_user=1),\n",
       " Row(userId='18', ts=1538728553000, level='paid', churn=0, downgrade=0, downgrade_phase=0, churned_user=1),\n",
       " Row(userId='18', ts=1538728757000, level='paid', churn=0, downgrade=0, downgrade_phase=0, churned_user=1),\n",
       " Row(userId='18', ts=1538728981000, level='paid', churn=0, downgrade=0, downgrade_phase=0, churned_user=1),\n",
       " Row(userId='18', ts=1538729280000, level='paid', churn=0, downgrade=0, downgrade_phase=0, churned_user=1),\n",
       " Row(userId='18', ts=1538729535000, level='paid', churn=0, downgrade=0, downgrade_phase=0, churned_user=1),\n",
       " Row(userId='18', ts=1538729536000, level='paid', churn=0, downgrade=0, downgrade_phase=0, churned_user=1),\n",
       " Row(userId='18', ts=1538729862000, level='paid', churn=0, downgrade=0, downgrade_phase=0, churned_user=1),\n",
       " Row(userId='18', ts=1538729863000, level='paid', churn=0, downgrade=0, downgrade_phase=0, churned_user=1),\n",
       " Row(userId='18', ts=1538729892000, level='paid', churn=0, downgrade=0, downgrade_phase=0, churned_user=1),\n",
       " Row(userId='18', ts=1538729959000, level='paid', churn=0, downgrade=0, downgrade_phase=0, churned_user=1),\n",
       " Row(userId='18', ts=1538730141000, level='paid', churn=0, downgrade=0, downgrade_phase=0, churned_user=1),\n",
       " Row(userId='18', ts=1538730293000, level='paid', churn=0, downgrade=0, downgrade_phase=0, churned_user=1),\n",
       " Row(userId='18', ts=1538730493000, level='paid', churn=0, downgrade=0, downgrade_phase=0, churned_user=1),\n",
       " Row(userId='18', ts=1538730745000, level='paid', churn=0, downgrade=0, downgrade_phase=0, churned_user=1),\n",
       " Row(userId='18', ts=1538730963000, level='paid', churn=0, downgrade=0, downgrade_phase=0, churned_user=1),\n",
       " Row(userId='18', ts=1538731141000, level='paid', churn=0, downgrade=0, downgrade_phase=0, churned_user=1),\n",
       " Row(userId='18', ts=1538731430000, level='paid', churn=0, downgrade=0, downgrade_phase=0, churned_user=1),\n",
       " Row(userId='18', ts=1538731677000, level='paid', churn=0, downgrade=0, downgrade_phase=0, churned_user=1),\n",
       " Row(userId='18', ts=1538732124000, level='paid', churn=0, downgrade=0, downgrade_phase=0, churned_user=1),\n",
       " Row(userId='18', ts=1538732346000, level='paid', churn=0, downgrade=0, downgrade_phase=0, churned_user=1),\n",
       " Row(userId='18', ts=1538732568000, level='paid', churn=0, downgrade=0, downgrade_phase=0, churned_user=1),\n",
       " Row(userId='18', ts=1538732828000, level='paid', churn=0, downgrade=0, downgrade_phase=0, churned_user=1),\n",
       " Row(userId='18', ts=1538733001000, level='paid', churn=0, downgrade=0, downgrade_phase=0, churned_user=1),\n",
       " Row(userId='18', ts=1538733166000, level='paid', churn=0, downgrade=0, downgrade_phase=0, churned_user=1),\n",
       " Row(userId='18', ts=1538733337000, level='paid', churn=0, downgrade=0, downgrade_phase=0, churned_user=1),\n",
       " Row(userId='18', ts=1538733556000, level='paid', churn=0, downgrade=0, downgrade_phase=0, churned_user=1),\n",
       " Row(userId='18', ts=1538733830000, level='paid', churn=0, downgrade=0, downgrade_phase=0, churned_user=1),\n",
       " Row(userId='18', ts=1538734029000, level='paid', churn=0, downgrade=0, downgrade_phase=0, churned_user=1),\n",
       " Row(userId='18', ts=1538734214000, level='paid', churn=0, downgrade=0, downgrade_phase=0, churned_user=1),\n",
       " Row(userId='18', ts=1538734246000, level='paid', churn=0, downgrade=0, downgrade_phase=0, churned_user=1),\n",
       " Row(userId='18', ts=1538734489000, level='paid', churn=0, downgrade=0, downgrade_phase=0, churned_user=1),\n",
       " Row(userId='18', ts=1538734493000, level='paid', churn=0, downgrade=0, downgrade_phase=0, churned_user=1),\n",
       " Row(userId='18', ts=1538734771000, level='paid', churn=0, downgrade=0, downgrade_phase=0, churned_user=1),\n",
       " Row(userId='18', ts=1538735040000, level='paid', churn=0, downgrade=0, downgrade_phase=0, churned_user=1),\n",
       " Row(userId='18', ts=1538735305000, level='paid', churn=0, downgrade=0, downgrade_phase=0, churned_user=1),\n",
       " Row(userId='18', ts=1538735464000, level='paid', churn=0, downgrade=0, downgrade_phase=0, churned_user=1),\n",
       " Row(userId='18', ts=1538735898000, level='paid', churn=0, downgrade=0, downgrade_phase=0, churned_user=1),\n",
       " Row(userId='18', ts=1538735899000, level='paid', churn=0, downgrade=0, downgrade_phase=0, churned_user=1),\n",
       " Row(userId='18', ts=1538736248000, level='paid', churn=0, downgrade=0, downgrade_phase=0, churned_user=1),\n",
       " Row(userId='18', ts=1538736263000, level='paid', churn=0, downgrade=0, downgrade_phase=0, churned_user=1),\n",
       " Row(userId='18', ts=1538736485000, level='paid', churn=0, downgrade=0, downgrade_phase=0, churned_user=1),\n",
       " Row(userId='18', ts=1538736805000, level='paid', churn=0, downgrade=0, downgrade_phase=0, churned_user=1),\n",
       " Row(userId='18', ts=1538736985000, level='paid', churn=0, downgrade=0, downgrade_phase=0, churned_user=1),\n",
       " Row(userId='18', ts=1538737265000, level='paid', churn=0, downgrade=0, downgrade_phase=0, churned_user=1),\n",
       " Row(userId='18', ts=1538737503000, level='paid', churn=0, downgrade=0, downgrade_phase=0, churned_user=1),\n",
       " Row(userId='18', ts=1538737939000, level='paid', churn=0, downgrade=0, downgrade_phase=0, churned_user=1),\n",
       " Row(userId='18', ts=1538738177000, level='paid', churn=0, downgrade=0, downgrade_phase=0, churned_user=1),\n",
       " Row(userId='18', ts=1538738525000, level='paid', churn=0, downgrade=0, downgrade_phase=0, churned_user=1),\n",
       " Row(userId='18', ts=1538738705000, level='paid', churn=0, downgrade=0, downgrade_phase=0, churned_user=1),\n",
       " Row(userId='18', ts=1538738906000, level='paid', churn=0, downgrade=0, downgrade_phase=0, churned_user=1),\n",
       " Row(userId='18', ts=1538739280000, level='paid', churn=0, downgrade=0, downgrade_phase=0, churned_user=1),\n",
       " Row(userId='18', ts=1538739763000, level='paid', churn=0, downgrade=0, downgrade_phase=0, churned_user=1),\n",
       " Row(userId='18', ts=1538740477000, level='paid', churn=0, downgrade=0, downgrade_phase=0, churned_user=1),\n",
       " Row(userId='18', ts=1538740753000, level='paid', churn=0, downgrade=0, downgrade_phase=0, churned_user=1),\n",
       " Row(userId='18', ts=1538740953000, level='paid', churn=0, downgrade=0, downgrade_phase=0, churned_user=1),\n",
       " Row(userId='18', ts=1538741336000, level='paid', churn=0, downgrade=0, downgrade_phase=0, churned_user=1),\n",
       " Row(userId='18', ts=1538741544000, level='paid', churn=0, downgrade=0, downgrade_phase=0, churned_user=1),\n",
       " Row(userId='18', ts=1538741589000, level='paid', churn=0, downgrade=0, downgrade_phase=0, churned_user=1),\n",
       " Row(userId='18', ts=1538741857000, level='paid', churn=0, downgrade=0, downgrade_phase=0, churned_user=1),\n",
       " Row(userId='18', ts=1538741858000, level='paid', churn=0, downgrade=0, downgrade_phase=0, churned_user=1),\n",
       " Row(userId='18', ts=1538741859000, level='paid', churn=0, downgrade=0, downgrade_phase=0, churned_user=1),\n",
       " Row(userId='18', ts=1538742162000, level='paid', churn=0, downgrade=0, downgrade_phase=0, churned_user=1),\n",
       " Row(userId='18', ts=1538742422000, level='paid', churn=0, downgrade=0, downgrade_phase=0, churned_user=1),\n",
       " Row(userId='18', ts=1538742717000, level='paid', churn=0, downgrade=0, downgrade_phase=0, churned_user=1),\n",
       " Row(userId='18', ts=1538742946000, level='paid', churn=0, downgrade=0, downgrade_phase=0, churned_user=1),\n",
       " Row(userId='18', ts=1538743156000, level='paid', churn=0, downgrade=0, downgrade_phase=0, churned_user=1),\n",
       " Row(userId='18', ts=1538743335000, level='paid', churn=0, downgrade=0, downgrade_phase=0, churned_user=1),\n",
       " Row(userId='18', ts=1538743555000, level='paid', churn=0, downgrade=0, downgrade_phase=0, churned_user=1),\n",
       " Row(userId='18', ts=1538743784000, level='paid', churn=0, downgrade=0, downgrade_phase=0, churned_user=1),\n",
       " Row(userId='18', ts=1538744032000, level='paid', churn=0, downgrade=0, downgrade_phase=0, churned_user=1),\n",
       " Row(userId='18', ts=1538744033000, level='paid', churn=0, downgrade=0, downgrade_phase=0, churned_user=1),\n",
       " Row(userId='18', ts=1538744384000, level='paid', churn=0, downgrade=0, downgrade_phase=0, churned_user=1),\n",
       " Row(userId='18', ts=1538744637000, level='paid', churn=0, downgrade=0, downgrade_phase=0, churned_user=1),\n",
       " Row(userId='18', ts=1538744914000, level='paid', churn=0, downgrade=0, downgrade_phase=0, churned_user=1),\n",
       " Row(userId='18', ts=1538745178000, level='paid', churn=0, downgrade=0, downgrade_phase=0, churned_user=1),\n",
       " Row(userId='18', ts=1538745466000, level='paid', churn=0, downgrade=0, downgrade_phase=0, churned_user=1),\n",
       " Row(userId='18', ts=1538745675000, level='paid', churn=0, downgrade=0, downgrade_phase=0, churned_user=1),\n",
       " Row(userId='18', ts=1538745964000, level='paid', churn=0, downgrade=0, downgrade_phase=0, churned_user=1),\n",
       " Row(userId='18', ts=1538746197000, level='paid', churn=0, downgrade=0, downgrade_phase=0, churned_user=1),\n",
       " Row(userId='18', ts=1538746412000, level='paid', churn=0, downgrade=0, downgrade_phase=0, churned_user=1),\n",
       " Row(userId='18', ts=1538746644000, level='paid', churn=0, downgrade=0, downgrade_phase=0, churned_user=1),\n",
       " Row(userId='18', ts=1538746954000, level='paid', churn=0, downgrade=0, downgrade_phase=0, churned_user=1),\n",
       " Row(userId='18', ts=1538747397000, level='paid', churn=0, downgrade=0, downgrade_phase=0, churned_user=1),\n",
       " Row(userId='18', ts=1538747633000, level='paid', churn=0, downgrade=0, downgrade_phase=0, churned_user=1),\n",
       " Row(userId='18', ts=1538747649000, level='paid', churn=0, downgrade=0, downgrade_phase=0, churned_user=1),\n",
       " Row(userId='18', ts=1538747913000, level='paid', churn=0, downgrade=0, downgrade_phase=0, churned_user=1),\n",
       " Row(userId='18', ts=1538748073000, level='paid', churn=0, downgrade=0, downgrade_phase=0, churned_user=1),\n",
       " Row(userId='18', ts=1538748313000, level='paid', churn=0, downgrade=0, downgrade_phase=0, churned_user=1),\n",
       " Row(userId='18', ts=1538748314000, level='paid', churn=0, downgrade=0, downgrade_phase=0, churned_user=1),\n",
       " Row(userId='18', ts=1538748502000, level='paid', churn=0, downgrade=0, downgrade_phase=0, churned_user=1),\n",
       " Row(userId='18', ts=1538748692000, level='paid', churn=0, downgrade=0, downgrade_phase=0, churned_user=1),\n",
       " Row(userId='18', ts=1538748842000, level='paid', churn=0, downgrade=0, downgrade_phase=0, churned_user=1),\n",
       " Row(userId='18', ts=1538749178000, level='paid', churn=0, downgrade=0, downgrade_phase=0, churned_user=1),\n",
       " Row(userId='18', ts=1538749322000, level='paid', churn=0, downgrade=0, downgrade_phase=0, churned_user=1),\n",
       " Row(userId='18', ts=1538749529000, level='paid', churn=0, downgrade=0, downgrade_phase=0, churned_user=1),\n",
       " Row(userId='18', ts=1538749555000, level='paid', churn=0, downgrade=0, downgrade_phase=0, churned_user=1),\n",
       " Row(userId='18', ts=1538749728000, level='paid', churn=0, downgrade=0, downgrade_phase=0, churned_user=1),\n",
       " Row(userId='18', ts=1538749729000, level='paid', churn=0, downgrade=0, downgrade_phase=0, churned_user=1),\n",
       " Row(userId='18', ts=1538749925000, level='paid', churn=0, downgrade=0, downgrade_phase=0, churned_user=1),\n",
       " Row(userId='18', ts=1538750136000, level='paid', churn=0, downgrade=0, downgrade_phase=0, churned_user=1),\n",
       " Row(userId='18', ts=1538750337000, level='paid', churn=0, downgrade=0, downgrade_phase=0, churned_user=1),\n",
       " Row(userId='18', ts=1538750541000, level='paid', churn=0, downgrade=0, downgrade_phase=0, churned_user=1),\n",
       " Row(userId='18', ts=1538750746000, level='paid', churn=0, downgrade=0, downgrade_phase=0, churned_user=1),\n",
       " Row(userId='18', ts=1538750965000, level='paid', churn=0, downgrade=0, downgrade_phase=0, churned_user=1),\n",
       " Row(userId='18', ts=1538750966000, level='paid', churn=0, downgrade=0, downgrade_phase=0, churned_user=1),\n",
       " Row(userId='18', ts=1538751219000, level='paid', churn=0, downgrade=0, downgrade_phase=0, churned_user=1),\n",
       " Row(userId='18', ts=1538751387000, level='paid', churn=0, downgrade=0, downgrade_phase=0, churned_user=1),\n",
       " Row(userId='18', ts=1538751623000, level='paid', churn=0, downgrade=0, downgrade_phase=0, churned_user=1),\n",
       " Row(userId='18', ts=1538751848000, level='paid', churn=0, downgrade=0, downgrade_phase=0, churned_user=1),\n",
       " Row(userId='18', ts=1538751849000, level='paid', churn=0, downgrade=0, downgrade_phase=0, churned_user=1),\n",
       " Row(userId='18', ts=1538752069000, level='paid', churn=0, downgrade=0, downgrade_phase=0, churned_user=1),\n",
       " Row(userId='18', ts=1538752179000, level='paid', churn=0, downgrade=0, downgrade_phase=0, churned_user=1),\n",
       " Row(userId='18', ts=1538752264000, level='paid', churn=0, downgrade=0, downgrade_phase=0, churned_user=1),\n",
       " Row(userId='18', ts=1538752560000, level='paid', churn=0, downgrade=0, downgrade_phase=0, churned_user=1),\n",
       " Row(userId='18', ts=1538752741000, level='paid', churn=0, downgrade=0, downgrade_phase=0, churned_user=1),\n",
       " Row(userId='18', ts=1538752783000, level='paid', churn=0, downgrade=0, downgrade_phase=0, churned_user=1),\n",
       " Row(userId='18', ts=1538753015000, level='paid', churn=0, downgrade=0, downgrade_phase=0, churned_user=1),\n",
       " Row(userId='18', ts=1538753163000, level='paid', churn=0, downgrade=0, downgrade_phase=0, churned_user=1),\n",
       " Row(userId='18', ts=1538753168000, level='paid', churn=0, downgrade=0, downgrade_phase=0, churned_user=1),\n",
       " Row(userId='18', ts=1538753403000, level='paid', churn=0, downgrade=0, downgrade_phase=0, churned_user=1),\n",
       " Row(userId='18', ts=1538753614000, level='paid', churn=0, downgrade=0, downgrade_phase=0, churned_user=1),\n",
       " Row(userId='18', ts=1538753847000, level='paid', churn=0, downgrade=0, downgrade_phase=0, churned_user=1),\n",
       " Row(userId='18', ts=1538754155000, level='paid', churn=0, downgrade=0, downgrade_phase=0, churned_user=1),\n",
       " Row(userId='18', ts=1538754340000, level='paid', churn=0, downgrade=0, downgrade_phase=0, churned_user=1),\n",
       " Row(userId='18', ts=1538754469000, level='paid', churn=0, downgrade=0, downgrade_phase=0, churned_user=1),\n",
       " Row(userId='18', ts=1538754708000, level='paid', churn=0, downgrade=0, downgrade_phase=0, churned_user=1),\n",
       " Row(userId='18', ts=1538754709000, level='paid', churn=0, downgrade=0, downgrade_phase=0, churned_user=1),\n",
       " Row(userId='18', ts=1538755009000, level='paid', churn=0, downgrade=0, downgrade_phase=0, churned_user=1),\n",
       " Row(userId='18', ts=1538755165000, level='paid', churn=0, downgrade=0, downgrade_phase=0, churned_user=1),\n",
       " Row(userId='18', ts=1538755406000, level='paid', churn=0, downgrade=0, downgrade_phase=0, churned_user=1),\n",
       " Row(userId='18', ts=1538755699000, level='paid', churn=0, downgrade=0, downgrade_phase=0, churned_user=1),\n",
       " Row(userId='18', ts=1538755953000, level='paid', churn=0, downgrade=0, downgrade_phase=0, churned_user=1),\n",
       " Row(userId='18', ts=1538756188000, level='paid', churn=0, downgrade=0, downgrade_phase=0, churned_user=1),\n",
       " Row(userId='18', ts=1538756446000, level='paid', churn=0, downgrade=0, downgrade_phase=0, churned_user=1),\n",
       " Row(userId='18', ts=1538756649000, level='paid', churn=0, downgrade=0, downgrade_phase=0, churned_user=1),\n",
       " Row(userId='18', ts=1538756908000, level='paid', churn=0, downgrade=0, downgrade_phase=0, churned_user=1),\n",
       " Row(userId='18', ts=1538757214000, level='paid', churn=0, downgrade=0, downgrade_phase=0, churned_user=1),\n",
       " Row(userId='18', ts=1538757516000, level='paid', churn=0, downgrade=0, downgrade_phase=0, churned_user=1),\n",
       " Row(userId='18', ts=1538757526000, level='paid', churn=0, downgrade=0, downgrade_phase=0, churned_user=1),\n",
       " Row(userId='18', ts=1538923274000, level='paid', churn=0, downgrade=0, downgrade_phase=0, churned_user=1),\n",
       " Row(userId='18', ts=1538923542000, level='paid', churn=0, downgrade=0, downgrade_phase=0, churned_user=1),\n",
       " Row(userId='18', ts=1538923713000, level='paid', churn=0, downgrade=0, downgrade_phase=0, churned_user=1),\n",
       " Row(userId='18', ts=1538923714000, level='paid', churn=0, downgrade=0, downgrade_phase=0, churned_user=1),\n",
       " Row(userId='18', ts=1538923920000, level='paid', churn=0, downgrade=0, downgrade_phase=0, churned_user=1),\n",
       " Row(userId='18', ts=1538923920000, level='paid', churn=0, downgrade=0, downgrade_phase=0, churned_user=1),\n",
       " Row(userId='18', ts=1538924164000, level='paid', churn=0, downgrade=0, downgrade_phase=0, churned_user=1),\n",
       " Row(userId='18', ts=1538924424000, level='paid', churn=0, downgrade=0, downgrade_phase=0, churned_user=1),\n",
       " Row(userId='18', ts=1538924683000, level='paid', churn=0, downgrade=0, downgrade_phase=0, churned_user=1),\n",
       " Row(userId='18', ts=1538924946000, level='paid', churn=0, downgrade=0, downgrade_phase=0, churned_user=1),\n",
       " Row(userId='18', ts=1538925240000, level='paid', churn=0, downgrade=0, downgrade_phase=0, churned_user=1),\n",
       " Row(userId='18', ts=1538925471000, level='paid', churn=0, downgrade=0, downgrade_phase=0, churned_user=1),\n",
       " Row(userId='18', ts=1538925616000, level='paid', churn=0, downgrade=0, downgrade_phase=0, churned_user=1),\n",
       " Row(userId='18', ts=1538925835000, level='paid', churn=0, downgrade=0, downgrade_phase=0, churned_user=1),\n",
       " Row(userId='18', ts=1538926112000, level='paid', churn=0, downgrade=0, downgrade_phase=0, churned_user=1),\n",
       " Row(userId='18', ts=1538926374000, level='paid', churn=0, downgrade=0, downgrade_phase=0, churned_user=1),\n",
       " Row(userId='18', ts=1538926532000, level='paid', churn=0, downgrade=0, downgrade_phase=0, churned_user=1),\n",
       " Row(userId='18', ts=1538926551000, level='paid', churn=0, downgrade=0, downgrade_phase=0, churned_user=1),\n",
       " Row(userId='18', ts=1538926552000, level='paid', churn=0, downgrade=0, downgrade_phase=0, churned_user=1),\n",
       " Row(userId='18', ts=1538926692000, level='paid', churn=0, downgrade=0, downgrade_phase=0, churned_user=1),\n",
       " Row(userId='18', ts=1538926693000, level='paid', churn=0, downgrade=0, downgrade_phase=0, churned_user=1),\n",
       " Row(userId='18', ts=1538926767000, level='paid', churn=0, downgrade=0, downgrade_phase=0, churned_user=1),\n",
       " Row(userId='18', ts=1538926933000, level='paid', churn=0, downgrade=0, downgrade_phase=0, churned_user=1),\n",
       " Row(userId='18', ts=1538927141000, level='paid', churn=0, downgrade=0, downgrade_phase=0, churned_user=1),\n",
       " Row(userId='18', ts=1538927386000, level='paid', churn=0, downgrade=0, downgrade_phase=0, churned_user=1),\n",
       " Row(userId='18', ts=1538927635000, level='paid', churn=0, downgrade=0, downgrade_phase=0, churned_user=1),\n",
       " Row(userId='18', ts=1538927860000, level='paid', churn=0, downgrade=0, downgrade_phase=0, churned_user=1),\n",
       " Row(userId='18', ts=1538927866000, level='paid', churn=0, downgrade=0, downgrade_phase=0, churned_user=1),\n",
       " Row(userId='18', ts=1538928140000, level='paid', churn=0, downgrade=0, downgrade_phase=0, churned_user=1),\n",
       " Row(userId='18', ts=1538928485000, level='paid', churn=0, downgrade=0, downgrade_phase=0, churned_user=1),\n",
       " Row(userId='18', ts=1538928680000, level='paid', churn=0, downgrade=0, downgrade_phase=0, churned_user=1),\n",
       " Row(userId='18', ts=1538928923000, level='paid', churn=0, downgrade=0, downgrade_phase=0, churned_user=1),\n",
       " Row(userId='18', ts=1538929155000, level='paid', churn=0, downgrade=0, downgrade_phase=0, churned_user=1),\n",
       " Row(userId='18', ts=1538929368000, level='paid', churn=0, downgrade=0, downgrade_phase=0, churned_user=1),\n",
       " Row(userId='18', ts=1538929542000, level='paid', churn=0, downgrade=0, downgrade_phase=0, churned_user=1),\n",
       " Row(userId='18', ts=1538929842000, level='paid', churn=0, downgrade=0, downgrade_phase=0, churned_user=1),\n",
       " Row(userId='18', ts=1538929843000, level='paid', churn=0, downgrade=0, downgrade_phase=0, churned_user=1),\n",
       " Row(userId='18', ts=1538930128000, level='paid', churn=0, downgrade=0, downgrade_phase=0, churned_user=1),\n",
       " Row(userId='18', ts=1538930367000, level='paid', churn=0, downgrade=0, downgrade_phase=0, churned_user=1),\n",
       " Row(userId='18', ts=1538930560000, level='paid', churn=0, downgrade=0, downgrade_phase=0, churned_user=1),\n",
       " Row(userId='18', ts=1538930972000, level='paid', churn=0, downgrade=0, downgrade_phase=0, churned_user=1),\n",
       " Row(userId='18', ts=1538931191000, level='paid', churn=0, downgrade=0, downgrade_phase=0, churned_user=1),\n",
       " Row(userId='18', ts=1538931427000, level='paid', churn=0, downgrade=0, downgrade_phase=0, churned_user=1),\n",
       " Row(userId='18', ts=1538931784000, level='paid', churn=0, downgrade=0, downgrade_phase=0, churned_user=1),\n",
       " Row(userId='18', ts=1538932081000, level='paid', churn=0, downgrade=0, downgrade_phase=0, churned_user=1),\n",
       " Row(userId='18', ts=1538932385000, level='paid', churn=0, downgrade=0, downgrade_phase=0, churned_user=1),\n",
       " Row(userId='18', ts=1538932386000, level='paid', churn=0, downgrade=0, downgrade_phase=0, churned_user=1),\n",
       " Row(userId='18', ts=1538932962000, level='paid', churn=0, downgrade=0, downgrade_phase=0, churned_user=1),\n",
       " Row(userId='18', ts=1538933022000, level='paid', churn=0, downgrade=0, downgrade_phase=0, churned_user=1),\n",
       " Row(userId='18', ts=1538933111000, level='paid', churn=0, downgrade=0, downgrade_phase=0, churned_user=1),\n",
       " Row(userId='18', ts=1538933271000, level='paid', churn=0, downgrade=0, downgrade_phase=0, churned_user=1),\n",
       " Row(userId='18', ts=1538933603000, level='paid', churn=0, downgrade=0, downgrade_phase=0, churned_user=1),\n",
       " Row(userId='18', ts=1538934035000, level='paid', churn=0, downgrade=0, downgrade_phase=0, churned_user=1),\n",
       " Row(userId='18', ts=1538934238000, level='paid', churn=0, downgrade=0, downgrade_phase=0, churned_user=1),\n",
       " Row(userId='18', ts=1538934522000, level='paid', churn=0, downgrade=0, downgrade_phase=0, churned_user=1),\n",
       " Row(userId='18', ts=1538934831000, level='paid', churn=0, downgrade=0, downgrade_phase=0, churned_user=1),\n",
       " Row(userId='18', ts=1538935042000, level='paid', churn=0, downgrade=0, downgrade_phase=0, churned_user=1),\n",
       " Row(userId='18', ts=1538935216000, level='paid', churn=0, downgrade=0, downgrade_phase=0, churned_user=1),\n",
       " Row(userId='18', ts=1538935253000, level='paid', churn=0, downgrade=0, downgrade_phase=0, churned_user=1),\n",
       " Row(userId='18', ts=1538935254000, level='paid', churn=0, downgrade=0, downgrade_phase=0, churned_user=1),\n",
       " Row(userId='18', ts=1538935378000, level='paid', churn=0, downgrade=0, downgrade_phase=0, churned_user=1),\n",
       " Row(userId='18', ts=1538935683000, level='paid', churn=0, downgrade=0, downgrade_phase=0, churned_user=1),\n",
       " Row(userId='18', ts=1538935875000, level='paid', churn=0, downgrade=0, downgrade_phase=0, churned_user=1),\n",
       " Row(userId='18', ts=1538935997000, level='paid', churn=0, downgrade=0, downgrade_phase=0, churned_user=1),\n",
       " Row(userId='18', ts=1538936263000, level='paid', churn=0, downgrade=0, downgrade_phase=0, churned_user=1),\n",
       " Row(userId='18', ts=1538936537000, level='paid', churn=0, downgrade=0, downgrade_phase=0, churned_user=1),\n",
       " Row(userId='18', ts=1538936770000, level='paid', churn=0, downgrade=0, downgrade_phase=0, churned_user=1),\n",
       " Row(userId='18', ts=1538937074000, level='paid', churn=0, downgrade=0, downgrade_phase=0, churned_user=1),\n",
       " Row(userId='18', ts=1538937268000, level='paid', churn=0, downgrade=0, downgrade_phase=0, churned_user=1),\n",
       " Row(userId='18', ts=1538937497000, level='paid', churn=0, downgrade=0, downgrade_phase=0, churned_user=1),\n",
       " Row(userId='18', ts=1538937553000, level='paid', churn=0, downgrade=0, downgrade_phase=0, churned_user=1),\n",
       " Row(userId='18', ts=1538937697000, level='paid', churn=0, downgrade=0, downgrade_phase=0, churned_user=1),\n",
       " Row(userId='18', ts=1538937891000, level='paid', churn=0, downgrade=0, downgrade_phase=0, churned_user=1),\n",
       " Row(userId='18', ts=1538938096000, level='paid', churn=0, downgrade=0, downgrade_phase=0, churned_user=1),\n",
       " Row(userId='18', ts=1538938452000, level='paid', churn=0, downgrade=0, downgrade_phase=0, churned_user=1),\n",
       " Row(userId='18', ts=1538938727000, level='paid', churn=0, downgrade=0, downgrade_phase=0, churned_user=1),\n",
       " Row(userId='18', ts=1538938728000, level='paid', churn=0, downgrade=0, downgrade_phase=0, churned_user=1),\n",
       " Row(userId='18', ts=1538938966000, level='paid', churn=0, downgrade=0, downgrade_phase=0, churned_user=1),\n",
       " Row(userId='18', ts=1538939164000, level='paid', churn=0, downgrade=0, downgrade_phase=0, churned_user=1),\n",
       " Row(userId='18', ts=1538939386000, level='paid', churn=0, downgrade=0, downgrade_phase=0, churned_user=1),\n",
       " Row(userId='18', ts=1538939387000, level='paid', churn=0, downgrade=0, downgrade_phase=0, churned_user=1),\n",
       " Row(userId='18', ts=1538939637000, level='paid', churn=0, downgrade=0, downgrade_phase=0, churned_user=1),\n",
       " Row(userId='18', ts=1538939856000, level='paid', churn=0, downgrade=0, downgrade_phase=0, churned_user=1),\n",
       " Row(userId='18', ts=1538939978000, level='paid', churn=0, downgrade=0, downgrade_phase=0, churned_user=1),\n",
       " Row(userId='18', ts=1538940231000, level='paid', churn=0, downgrade=0, downgrade_phase=0, churned_user=1),\n",
       " Row(userId='18', ts=1538940279000, level='paid', churn=0, downgrade=0, downgrade_phase=0, churned_user=1),\n",
       " Row(userId='18', ts=1538940518000, level='paid', churn=0, downgrade=0, downgrade_phase=0, churned_user=1),\n",
       " Row(userId='18', ts=1538940816000, level='paid', churn=0, downgrade=0, downgrade_phase=0, churned_user=1),\n",
       " Row(userId='18', ts=1538941085000, level='paid', churn=0, downgrade=0, downgrade_phase=0, churned_user=1),\n",
       " Row(userId='18', ts=1538941297000, level='paid', churn=0, downgrade=0, downgrade_phase=0, churned_user=1),\n",
       " Row(userId='18', ts=1538941482000, level='paid', churn=0, downgrade=0, downgrade_phase=0, churned_user=1),\n",
       " Row(userId='18', ts=1538941694000, level='paid', churn=0, downgrade=0, downgrade_phase=0, churned_user=1),\n",
       " Row(userId='18', ts=1538942030000, level='paid', churn=0, downgrade=0, downgrade_phase=0, churned_user=1),\n",
       " Row(userId='18', ts=1538942425000, level='paid', churn=0, downgrade=0, downgrade_phase=0, churned_user=1),\n",
       " Row(userId='18', ts=1538942663000, level='paid', churn=0, downgrade=0, downgrade_phase=0, churned_user=1),\n",
       " Row(userId='18', ts=1538942837000, level='paid', churn=0, downgrade=0, downgrade_phase=0, churned_user=1),\n",
       " Row(userId='18', ts=1538943117000, level='paid', churn=0, downgrade=0, downgrade_phase=0, churned_user=1),\n",
       " Row(userId='18', ts=1538943440000, level='paid', churn=0, downgrade=0, downgrade_phase=0, churned_user=1),\n",
       " Row(userId='18', ts=1538943726000, level='paid', churn=0, downgrade=0, downgrade_phase=0, churned_user=1),\n",
       " Row(userId='18', ts=1538943739000, level='paid', churn=0, downgrade=0, downgrade_phase=0, churned_user=1),\n",
       " Row(userId='18', ts=1538943740000, level='paid', churn=0, downgrade=0, downgrade_phase=0, churned_user=1),\n",
       " Row(userId='18', ts=1538943990000, level='paid', churn=1, downgrade=0, downgrade_phase=0, churned_user=1)]"
      ]
     },
     "execution_count": 460,
     "metadata": {},
     "output_type": "execute_result"
    }
   ],
   "source": [
    "user_log_valid \\\n",
    ".select([\"userId\", \"ts\", \"level\", \"churn\", \"downgrade\", \"downgrade_phase\",\"churned_user\"]) \\\n",
    ".filter(user_log_valid.userId == \"18\") \\\n",
    ".sort(\"ts\") \\\n",
    ".collect()"
   ]
  },
  {
   "cell_type": "code",
   "execution_count": 461,
   "metadata": {},
   "outputs": [],
   "source": [
    "get_hour = udf(lambda x: datetime.datetime.fromtimestamp(x / 1000.0).hour)"
   ]
  },
  {
   "cell_type": "code",
   "execution_count": 462,
   "metadata": {},
   "outputs": [],
   "source": [
    "user_log_valid = user_log_valid.withColumn(\"hour\", get_hour(user_log_valid.ts))"
   ]
  },
  {
   "cell_type": "code",
   "execution_count": 463,
   "metadata": {},
   "outputs": [
    {
     "data": {
      "text/plain": [
       "Row(artist=None, auth='Logged In', firstName='Darianna', gender='F', itemInSession=34, lastName='Carpenter', length=None, level='free', location='Bridgeport-Stamford-Norwalk, CT', method='PUT', page='Logout', registration=1538016340000, sessionId=187, song=None, status=307, ts=1542823952000, userAgent='\"Mozilla/5.0 (iPhone; CPU iPhone OS 7_1_2 like Mac OS X) AppleWebKit/537.51.2 (KHTML, like Gecko) Version/7.0 Mobile/11D257 Safari/9537.53\"', userId='100010', OS='iPhone', OS_family='Apple', downgrade=0, churn=0, downgrade_phase=0, churned_user=0, hour='18')"
      ]
     },
     "execution_count": 463,
     "metadata": {},
     "output_type": "execute_result"
    }
   ],
   "source": [
    "user_log_valid.head()"
   ]
  },
  {
   "cell_type": "markdown",
   "metadata": {},
   "source": [
    "### Compare the users based on their churned status\n",
    "Now that we have a churned flag, we will be able to compare the two set of population: user cho churned versus user who didn't churn"
   ]
  },
  {
   "cell_type": "markdown",
   "metadata": {},
   "source": [
    "#### OS Family"
   ]
  },
  {
   "cell_type": "code",
   "execution_count": 464,
   "metadata": {},
   "outputs": [],
   "source": [
    "#let's look at the OS_family from user who churn versus user who didn't"
   ]
  },
  {
   "cell_type": "code",
   "execution_count": 465,
   "metadata": {},
   "outputs": [],
   "source": [
    "OS_family_churn = user_log_valid \\\n",
    ".select(\"userId\",\"OS_family\") \\\n",
    ".where(user_log_valid.userId.isin(user_ids_who_churn)) \\\n",
    ".dropDuplicates() \\\n",
    ".groupby(\"OS_family\") \\\n",
    ".agg({\"OS_family\":\"count\"}) \\\n",
    ".orderBy(desc(\"count(OS_family)\")) \\\n",
    ".withColumnRenamed(\"count(OS_family)\", \"OS_family_churn\")\n",
    "\n",
    "OS_family_not_churn = user_log_valid \\\n",
    ".select(\"userId\",\"OS_family\") \\\n",
    ".where(user_log_valid.userId.isin(user_ids_who_didnt_churn)) \\\n",
    ".dropDuplicates() \\\n",
    ".groupby(\"OS_family\") \\\n",
    ".agg({\"OS_family\":\"count\"}) \\\n",
    ".orderBy(desc(\"count(OS_family)\")) \\\n",
    ".withColumnRenamed(\"count(OS_family)\", \"OS_family_not_churn\")\n"
   ]
  },
  {
   "cell_type": "code",
   "execution_count": 466,
   "metadata": {},
   "outputs": [],
   "source": [
    "data_OS = OS_family_churn.join(OS_family_not_churn,'OS_family','outer').fillna(0)"
   ]
  },
  {
   "cell_type": "code",
   "execution_count": 467,
   "metadata": {},
   "outputs": [],
   "source": [
    "def ratio_OS_family(x, y):\n",
    "    return x / (x + y)\n",
    "\n",
    "ratio_udf = udf(ratio_OS_family , FloatType())\n",
    "\n",
    "data_OS = data_OS.withColumn(\"ratio\", ratio_udf(\"OS_family_churn\", \"OS_family_not_churn\"))"
   ]
  },
  {
   "cell_type": "code",
   "execution_count": 468,
   "metadata": {},
   "outputs": [
    {
     "name": "stdout",
     "output_type": "stream",
     "text": [
      "+---------+---------------+-------------------+----------+\n",
      "|OS_family|OS_family_churn|OS_family_not_churn|     ratio|\n",
      "+---------+---------------+-------------------+----------+\n",
      "|Unix-Like|              5|                  7|0.41666666|\n",
      "|    Apple|             23|                 79| 0.2254902|\n",
      "|  Windows|             24|                 87|0.21621622|\n",
      "+---------+---------------+-------------------+----------+\n",
      "\n"
     ]
    }
   ],
   "source": [
    "data_OS.show(data_OS.count())"
   ]
  },
  {
   "cell_type": "markdown",
   "metadata": {},
   "source": [
    "#### Gender"
   ]
  },
  {
   "cell_type": "code",
   "execution_count": 469,
   "metadata": {},
   "outputs": [
    {
     "data": {
      "text/plain": [
       "[Row(gender='F', count=104), Row(gender='M', count=121)]"
      ]
     },
     "execution_count": 469,
     "metadata": {},
     "output_type": "execute_result"
    }
   ],
   "source": [
    "user_log_valid\\\n",
    ".dropDuplicates(['userId','gender'])\\\n",
    ".groupby(['gender'])\\\n",
    ".count()\\\n",
    ".collect()"
   ]
  },
  {
   "cell_type": "code",
   "execution_count": 470,
   "metadata": {},
   "outputs": [
    {
     "name": "stdout",
     "output_type": "stream",
     "text": [
      "+------------+------+-----+\n",
      "|churned_user|gender|count|\n",
      "+------------+------+-----+\n",
      "|           1|     F|   20|\n",
      "|           0|     M|   89|\n",
      "|           1|     M|   32|\n",
      "|           0|     F|   84|\n",
      "+------------+------+-----+\n",
      "\n"
     ]
    }
   ],
   "source": [
    "user_log_valid.dropDuplicates(['userId']).groupby(['churned_user','gender']).count().show()"
   ]
  },
  {
   "cell_type": "code",
   "execution_count": 471,
   "metadata": {},
   "outputs": [
    {
     "data": {
      "text/plain": [
       "True"
      ]
     },
     "execution_count": 471,
     "metadata": {},
     "output_type": "execute_result"
    }
   ],
   "source": [
    "(20+89+32+84) == user_log_valid.select('userId').distinct().count()"
   ]
  },
  {
   "cell_type": "markdown",
   "metadata": {},
   "source": [
    "#### Level of account (Paid/Free)"
   ]
  },
  {
   "cell_type": "code",
   "execution_count": 472,
   "metadata": {},
   "outputs": [
    {
     "name": "stdout",
     "output_type": "stream",
     "text": [
      "+------------+-----+-----+\n",
      "|churned_user|level|count|\n",
      "+------------+-----+-----+\n",
      "|           0| free|  133|\n",
      "|           0| paid|   40|\n",
      "|           1| paid|    8|\n",
      "|           1| free|   44|\n",
      "+------------+-----+-----+\n",
      "\n"
     ]
    }
   ],
   "source": [
    "user_log_valid.dropDuplicates(['userId']).groupby(['churned_user','level']).count().show()"
   ]
  },
  {
   "cell_type": "code",
   "execution_count": 473,
   "metadata": {},
   "outputs": [
    {
     "data": {
      "text/plain": [
       "0.24858757062146894"
      ]
     },
     "execution_count": 473,
     "metadata": {},
     "output_type": "execute_result"
    }
   ],
   "source": [
    "44/(133+44)"
   ]
  },
  {
   "cell_type": "code",
   "execution_count": 474,
   "metadata": {},
   "outputs": [
    {
     "data": {
      "text/plain": [
       "0.16666666666666666"
      ]
     },
     "execution_count": 474,
     "metadata": {},
     "output_type": "execute_result"
    }
   ],
   "source": [
    "8/(40+8)"
   ]
  },
  {
   "cell_type": "markdown",
   "metadata": {},
   "source": [
    "#### Thumbs Up and Thumbs Down"
   ]
  },
  {
   "cell_type": "code",
   "execution_count": 475,
   "metadata": {},
   "outputs": [
    {
     "name": "stdout",
     "output_type": "stream",
     "text": [
      "+------------+---------+-----+\n",
      "|churned_user|     page|count|\n",
      "+------------+---------+-----+\n",
      "|           0|Thumbs Up|10692|\n",
      "|           1|Thumbs Up| 1859|\n",
      "+------------+---------+-----+\n",
      "\n"
     ]
    }
   ],
   "source": [
    "user_log_valid\\\n",
    ".filter(user_log_valid.page == 'Thumbs Up')\\\n",
    ".groupby(['churned_user','page'])\\\n",
    ".count()\\\n",
    ".show()"
   ]
  },
  {
   "cell_type": "code",
   "execution_count": 476,
   "metadata": {},
   "outputs": [
    {
     "data": {
      "text/plain": [
       "0.1481156879929886"
      ]
     },
     "execution_count": 476,
     "metadata": {},
     "output_type": "execute_result"
    }
   ],
   "source": [
    "1859/(1859+10692)"
   ]
  },
  {
   "cell_type": "code",
   "execution_count": 477,
   "metadata": {},
   "outputs": [
    {
     "name": "stdout",
     "output_type": "stream",
     "text": [
      "+------------+-----------+-----+\n",
      "|churned_user|       page|count|\n",
      "+------------+-----------+-----+\n",
      "|           0|Thumbs Down| 2050|\n",
      "|           1|Thumbs Down|  496|\n",
      "+------------+-----------+-----+\n",
      "\n"
     ]
    }
   ],
   "source": [
    "user_log_valid\\\n",
    ".filter(user_log_valid.page == 'Thumbs Down')\\\n",
    ".groupby(['churned_user','page'])\\\n",
    ".count()\\\n",
    ".show()"
   ]
  },
  {
   "cell_type": "code",
   "execution_count": 478,
   "metadata": {},
   "outputs": [
    {
     "data": {
      "text/plain": [
       "0.194815396700707"
      ]
     },
     "execution_count": 478,
     "metadata": {},
     "output_type": "execute_result"
    }
   ],
   "source": [
    "496/(496+2050)"
   ]
  },
  {
   "cell_type": "code",
   "execution_count": 479,
   "metadata": {},
   "outputs": [
    {
     "name": "stdout",
     "output_type": "stream",
     "text": [
      "+------------+--------+------+\n",
      "|churned_user|    page| count|\n",
      "+------------+--------+------+\n",
      "|           0|NextSong|191714|\n",
      "|           1|NextSong| 36394|\n",
      "+------------+--------+------+\n",
      "\n"
     ]
    }
   ],
   "source": [
    "user_log_valid\\\n",
    ".filter(user_log_valid.page == 'NextSong')\\\n",
    ".groupby(['churned_user','page'])\\\n",
    ".count()\\\n",
    ".show()"
   ]
  },
  {
   "cell_type": "code",
   "execution_count": 480,
   "metadata": {},
   "outputs": [
    {
     "data": {
      "text/plain": [
       "0.15954723201290616"
      ]
     },
     "execution_count": 480,
     "metadata": {},
     "output_type": "execute_result"
    }
   ],
   "source": [
    "36394/(36394+191714)"
   ]
  },
  {
   "cell_type": "markdown",
   "metadata": {},
   "source": [
    "#### Number of songs and average registration time"
   ]
  },
  {
   "cell_type": "code",
   "execution_count": 481,
   "metadata": {},
   "outputs": [
    {
     "name": "stdout",
     "output_type": "stream",
     "text": [
      "+------------+-----------+\n",
      "|churned_user|count(song)|\n",
      "+------------+-----------+\n",
      "|           1|      36394|\n",
      "|           0|     191714|\n",
      "+------------+-----------+\n",
      "\n"
     ]
    }
   ],
   "source": [
    "user_log_valid\\\n",
    ".select('userID','song', 'churned_user') \\\n",
    ".groupBy('churned_user') \\\n",
    ".agg({'song':'count'})\\\n",
    ".show()"
   ]
  },
  {
   "cell_type": "code",
   "execution_count": 482,
   "metadata": {},
   "outputs": [
    {
     "name": "stdout",
     "output_type": "stream",
     "text": [
      "+------------+-------------------+\n",
      "|churned_user|      avg(lifetime)|\n",
      "+------------+-------------------+\n",
      "|           1|4.951237788461538E9|\n",
      "|           0|7.484021514450867E9|\n",
      "+------------+-------------------+\n",
      "\n"
     ]
    }
   ],
   "source": [
    "user_log_valid\\\n",
    ".select('userId','registration','ts','churned_user')\\\n",
    ".withColumn('lifetime',(user_log_valid.ts - user_log_valid.registration))\\\n",
    ".groupBy('churned_user','userId')\\\n",
    ".agg({'lifetime':'max'})\\\n",
    ".withColumnRenamed('max(lifetime)','lifetime') \\\n",
    ".select('userId', 'churned_user',  'lifetime') \\\n",
    ".groupby('churned_user')\\\n",
    ".agg({'lifetime':'avg'})\\\n",
    ".show()\n"
   ]
  },
  {
   "cell_type": "code",
   "execution_count": 483,
   "metadata": {},
   "outputs": [
    {
     "data": {
      "text/plain": [
       "0.3981612017774274"
      ]
     },
     "execution_count": 483,
     "metadata": {},
     "output_type": "execute_result"
    }
   ],
   "source": [
    "4.951237788461538/(4.951237788461538+7.484021514450867)"
   ]
  },
  {
   "cell_type": "markdown",
   "metadata": {},
   "source": [
    "#### Add to Playlist"
   ]
  },
  {
   "cell_type": "code",
   "execution_count": 484,
   "metadata": {},
   "outputs": [
    {
     "name": "stdout",
     "output_type": "stream",
     "text": [
      "+------------+---------------+-----+\n",
      "|churned_user|           page|count|\n",
      "+------------+---------------+-----+\n",
      "|           0|Add to Playlist| 5488|\n",
      "|           1|Add to Playlist| 1038|\n",
      "+------------+---------------+-----+\n",
      "\n"
     ]
    }
   ],
   "source": [
    "user_log_valid\\\n",
    ".filter(user_log_valid.page == 'Add to Playlist')\\\n",
    ".groupby(['churned_user','page'])\\\n",
    ".count()\\\n",
    ".show()"
   ]
  },
  {
   "cell_type": "code",
   "execution_count": 485,
   "metadata": {},
   "outputs": [
    {
     "data": {
      "text/plain": [
       "0.1590560833588722"
      ]
     },
     "execution_count": 485,
     "metadata": {},
     "output_type": "execute_result"
    }
   ],
   "source": [
    "1038/(1038+5488)"
   ]
  },
  {
   "cell_type": "markdown",
   "metadata": {},
   "source": [
    "#### Add a friend"
   ]
  },
  {
   "cell_type": "code",
   "execution_count": 486,
   "metadata": {},
   "outputs": [
    {
     "name": "stdout",
     "output_type": "stream",
     "text": [
      "+------------+----------+-----+\n",
      "|churned_user|      page|count|\n",
      "+------------+----------+-----+\n",
      "|           0|Add Friend| 3641|\n",
      "|           1|Add Friend|  636|\n",
      "+------------+----------+-----+\n",
      "\n"
     ]
    }
   ],
   "source": [
    "user_log_valid\\\n",
    ".filter(user_log_valid.page == 'Add Friend')\\\n",
    ".groupby(['churned_user','page'])\\\n",
    ".count()\\\n",
    ".show()"
   ]
  },
  {
   "cell_type": "code",
   "execution_count": 487,
   "metadata": {},
   "outputs": [
    {
     "data": {
      "text/plain": [
       "0.14870236146831892"
      ]
     },
     "execution_count": 487,
     "metadata": {},
     "output_type": "execute_result"
    }
   ],
   "source": [
    "636/(636+3641)"
   ]
  },
  {
   "cell_type": "markdown",
   "metadata": {},
   "source": [
    "Exploring couple of features, we see that the proportion of churned users versus non churned user is not always the same.\n",
    "It appears that having a free or paid account weight much more than numbers of Thumbs Up for exemple.\n",
    "We will use those features for the next chapter"
   ]
  },
  {
   "cell_type": "markdown",
   "metadata": {},
   "source": [
    "### Visualisation\n",
    "Tables are nice, but it could be good to plot some of those data to convey the information associated with them.\n"
   ]
  },
  {
   "cell_type": "code",
   "execution_count": 488,
   "metadata": {},
   "outputs": [],
   "source": [
    "df_OS = data_OS.toPandas()"
   ]
  },
  {
   "cell_type": "code",
   "execution_count": 489,
   "metadata": {
    "scrolled": true
   },
   "outputs": [
    {
     "data": {
      "text/html": [
       "<div>\n",
       "<style scoped>\n",
       "    .dataframe tbody tr th:only-of-type {\n",
       "        vertical-align: middle;\n",
       "    }\n",
       "\n",
       "    .dataframe tbody tr th {\n",
       "        vertical-align: top;\n",
       "    }\n",
       "\n",
       "    .dataframe thead th {\n",
       "        text-align: right;\n",
       "    }\n",
       "</style>\n",
       "<table border=\"1\" class=\"dataframe\">\n",
       "  <thead>\n",
       "    <tr style=\"text-align: right;\">\n",
       "      <th></th>\n",
       "      <th>OS_family</th>\n",
       "      <th>OS_family_churn</th>\n",
       "      <th>OS_family_not_churn</th>\n",
       "      <th>ratio</th>\n",
       "    </tr>\n",
       "  </thead>\n",
       "  <tbody>\n",
       "    <tr>\n",
       "      <th>0</th>\n",
       "      <td>Unix-Like</td>\n",
       "      <td>5</td>\n",
       "      <td>7</td>\n",
       "      <td>0.416667</td>\n",
       "    </tr>\n",
       "    <tr>\n",
       "      <th>1</th>\n",
       "      <td>Apple</td>\n",
       "      <td>23</td>\n",
       "      <td>79</td>\n",
       "      <td>0.225490</td>\n",
       "    </tr>\n",
       "    <tr>\n",
       "      <th>2</th>\n",
       "      <td>Windows</td>\n",
       "      <td>24</td>\n",
       "      <td>87</td>\n",
       "      <td>0.216216</td>\n",
       "    </tr>\n",
       "  </tbody>\n",
       "</table>\n",
       "</div>"
      ],
      "text/plain": [
       "   OS_family  OS_family_churn  OS_family_not_churn     ratio\n",
       "0  Unix-Like                5                    7  0.416667\n",
       "1      Apple               23                   79  0.225490\n",
       "2    Windows               24                   87  0.216216"
      ]
     },
     "execution_count": 489,
     "metadata": {},
     "output_type": "execute_result"
    }
   ],
   "source": [
    "df_OS"
   ]
  },
  {
   "cell_type": "code",
   "execution_count": 490,
   "metadata": {},
   "outputs": [],
   "source": [
    "df_OS = df_OS.drop(axis=1,labels='ratio')\n",
    "df_OS.columns = ['OS_family','churn','not churn']"
   ]
  },
  {
   "cell_type": "code",
   "execution_count": 491,
   "metadata": {},
   "outputs": [
    {
     "data": {
      "image/png": "[encoded data removed]",
      "text/plain": [
       "<matplotlib.figure.Figure at 0x7fc6279b1160>"
      ]
     },
     "metadata": {
      "needs_background": "light"
     },
     "output_type": "display_data"
    }
   ],
   "source": [
    "ax = df_OS.plot(kind='bar')\n",
    "ax.set_xticklabels(['Unix','Apple', 'Windows'], rotation=0)\n",
    "plt.ylabel('User count')\n",
    "plt.title('Operating System of user');"
   ]
  },
  {
   "cell_type": "code",
   "execution_count": 492,
   "metadata": {},
   "outputs": [],
   "source": [
    "df_gender = user_log_valid\\\n",
    ".dropDuplicates(['userId'])\\\n",
    ".groupby(['churned_user','gender'])\\\n",
    ".count()\\\n",
    ".toPandas()"
   ]
  },
  {
   "cell_type": "code",
   "execution_count": 493,
   "metadata": {},
   "outputs": [],
   "source": [
    "df_gender = df_gender.sort_values(['gender', 'churned_user'], ascending = False)"
   ]
  },
  {
   "cell_type": "code",
   "execution_count": 494,
   "metadata": {},
   "outputs": [
    {
     "data": {
      "text/html": [
       "<div>\n",
       "<style scoped>\n",
       "    .dataframe tbody tr th:only-of-type {\n",
       "        vertical-align: middle;\n",
       "    }\n",
       "\n",
       "    .dataframe tbody tr th {\n",
       "        vertical-align: top;\n",
       "    }\n",
       "\n",
       "    .dataframe thead th {\n",
       "        text-align: right;\n",
       "    }\n",
       "</style>\n",
       "<table border=\"1\" class=\"dataframe\">\n",
       "  <thead>\n",
       "    <tr style=\"text-align: right;\">\n",
       "      <th></th>\n",
       "      <th>churned_user</th>\n",
       "      <th>gender</th>\n",
       "      <th>count</th>\n",
       "    </tr>\n",
       "  </thead>\n",
       "  <tbody>\n",
       "    <tr>\n",
       "      <th>2</th>\n",
       "      <td>1</td>\n",
       "      <td>M</td>\n",
       "      <td>32</td>\n",
       "    </tr>\n",
       "    <tr>\n",
       "      <th>1</th>\n",
       "      <td>0</td>\n",
       "      <td>M</td>\n",
       "      <td>89</td>\n",
       "    </tr>\n",
       "    <tr>\n",
       "      <th>0</th>\n",
       "      <td>1</td>\n",
       "      <td>F</td>\n",
       "      <td>20</td>\n",
       "    </tr>\n",
       "    <tr>\n",
       "      <th>3</th>\n",
       "      <td>0</td>\n",
       "      <td>F</td>\n",
       "      <td>84</td>\n",
       "    </tr>\n",
       "  </tbody>\n",
       "</table>\n",
       "</div>"
      ],
      "text/plain": [
       "   churned_user gender  count\n",
       "2             1      M     32\n",
       "1             0      M     89\n",
       "0             1      F     20\n",
       "3             0      F     84"
      ]
     },
     "execution_count": 494,
     "metadata": {},
     "output_type": "execute_result"
    }
   ],
   "source": [
    "df_gender"
   ]
  },
  {
   "cell_type": "code",
   "execution_count": 495,
   "metadata": {},
   "outputs": [
    {
     "data": {
      "image/png": "[encoded data removed]",
      "text/plain": [
       "<matplotlib.figure.Figure at 0x7fc624bb8cc0>"
      ]
     },
     "metadata": {
      "needs_background": "light"
     },
     "output_type": "display_data"
    }
   ],
   "source": [
    "ax = df_gender['count'].plot(kind='bar')\n",
    "ax.set_xticklabels(['churn M','not churn M','churn F','not churn F'], rotation=0)\n",
    "plt.ylabel('User count')\n",
    "plt.title('gender of user');"
   ]
  },
  {
   "cell_type": "code",
   "execution_count": 496,
   "metadata": {},
   "outputs": [
    {
     "data": {
      "text/plain": [
       "<matplotlib.axes._subplots.AxesSubplot at 0x7fc627937da0>"
      ]
     },
     "execution_count": 496,
     "metadata": {},
     "output_type": "execute_result"
    },
    {
     "data": {
      "image/png": "[encoded data removed]",
      "text/plain": [
       "<matplotlib.figure.Figure at 0x7fc624a9a4e0>"
      ]
     },
     "metadata": {
      "needs_background": "light"
     },
     "output_type": "display_data"
    }
   ],
   "source": [
    "sns.barplot(x='gender',y='count',hue='churned_user',data=df_gender)"
   ]
  },
  {
   "cell_type": "code",
   "execution_count": 497,
   "metadata": {},
   "outputs": [],
   "source": [
    "df_account = user_log_valid\\\n",
    ".dropDuplicates(['userId'])\\\n",
    ".groupby(['churned_user','level'])\\\n",
    ".count()\\\n",
    ".toPandas()"
   ]
  },
  {
   "cell_type": "code",
   "execution_count": 498,
   "metadata": {},
   "outputs": [
    {
     "data": {
      "text/html": [
       "<div>\n",
       "<style scoped>\n",
       "    .dataframe tbody tr th:only-of-type {\n",
       "        vertical-align: middle;\n",
       "    }\n",
       "\n",
       "    .dataframe tbody tr th {\n",
       "        vertical-align: top;\n",
       "    }\n",
       "\n",
       "    .dataframe thead th {\n",
       "        text-align: right;\n",
       "    }\n",
       "</style>\n",
       "<table border=\"1\" class=\"dataframe\">\n",
       "  <thead>\n",
       "    <tr style=\"text-align: right;\">\n",
       "      <th></th>\n",
       "      <th>churned_user</th>\n",
       "      <th>level</th>\n",
       "      <th>count</th>\n",
       "    </tr>\n",
       "  </thead>\n",
       "  <tbody>\n",
       "    <tr>\n",
       "      <th>2</th>\n",
       "      <td>1</td>\n",
       "      <td>paid</td>\n",
       "      <td>8</td>\n",
       "    </tr>\n",
       "    <tr>\n",
       "      <th>1</th>\n",
       "      <td>0</td>\n",
       "      <td>paid</td>\n",
       "      <td>40</td>\n",
       "    </tr>\n",
       "    <tr>\n",
       "      <th>3</th>\n",
       "      <td>1</td>\n",
       "      <td>free</td>\n",
       "      <td>44</td>\n",
       "    </tr>\n",
       "    <tr>\n",
       "      <th>0</th>\n",
       "      <td>0</td>\n",
       "      <td>free</td>\n",
       "      <td>133</td>\n",
       "    </tr>\n",
       "  </tbody>\n",
       "</table>\n",
       "</div>"
      ],
      "text/plain": [
       "   churned_user level  count\n",
       "2             1  paid      8\n",
       "1             0  paid     40\n",
       "3             1  free     44\n",
       "0             0  free    133"
      ]
     },
     "execution_count": 498,
     "metadata": {},
     "output_type": "execute_result"
    }
   ],
   "source": [
    "df_account = df_account.sort_values(['level', 'churned_user'], ascending = False)\n",
    "df_account"
   ]
  },
  {
   "cell_type": "code",
   "execution_count": 499,
   "metadata": {},
   "outputs": [
    {
     "data": {
      "image/png": "[encoded data removed]",
      "text/plain": [
       "<matplotlib.figure.Figure at 0x7fc6280d6278>"
      ]
     },
     "metadata": {
      "needs_background": "light"
     },
     "output_type": "display_data"
    }
   ],
   "source": [
    "ax = df_account['count'].plot(kind='bar')\n",
    "ax.set_xticklabels(['churn paid','not churn paid','churn free','not churn free'], rotation=0)\n",
    "plt.ylabel('User count')\n",
    "plt.title('User account type');"
   ]
  },
  {
   "cell_type": "code",
   "execution_count": 500,
   "metadata": {},
   "outputs": [
    {
     "data": {
      "text/plain": [
       "<matplotlib.axes._subplots.AxesSubplot at 0x7fc6261cda20>"
      ]
     },
     "execution_count": 500,
     "metadata": {},
     "output_type": "execute_result"
    },
    {
     "data": {
      "image/png": "[encoded data removed]",
      "text/plain": [
       "<matplotlib.figure.Figure at 0x7fc624b83f98>"
      ]
     },
     "metadata": {
      "needs_background": "light"
     },
     "output_type": "display_data"
    }
   ],
   "source": [
    "sns.barplot(x='level',y='count',hue='churned_user',data=df_account)"
   ]
  },
  {
   "cell_type": "code",
   "execution_count": 501,
   "metadata": {},
   "outputs": [
    {
     "data": {
      "image/png": "[encoded data removed]",
      "text/plain": [
       "<matplotlib.figure.Figure at 0x7fc6277ebd30>"
      ]
     },
     "metadata": {
      "needs_background": "light"
     },
     "output_type": "display_data"
    }
   ],
   "source": [
    "df_friends = user_log_valid\\\n",
    ".filter(user_log_valid.page == 'Add Friend')\\\n",
    ".groupby(['churned_user'])\\\n",
    ".count()\\\n",
    ".toPandas()\n",
    "\n",
    "ax = df_friends['count'].plot(kind='bar')\n",
    "ax.set_xticklabels(['churn','not churn'], rotation=0)\n",
    "plt.ylabel('User count')\n",
    "plt.title('Nb of friends added by user');"
   ]
  },
  {
   "cell_type": "code",
   "execution_count": 502,
   "metadata": {},
   "outputs": [
    {
     "data": {
      "image/png": "[encoded data removed]",
      "text/plain": [
       "<matplotlib.figure.Figure at 0x7fc62774e4a8>"
      ]
     },
     "metadata": {
      "needs_background": "light"
     },
     "output_type": "display_data"
    }
   ],
   "source": [
    "df_thumbsUp = user_log_valid\\\n",
    ".filter(user_log_valid.page == 'Thumbs Up')\\\n",
    ".groupby(['churned_user'])\\\n",
    ".count()\\\n",
    ".toPandas()\n",
    "\n",
    "ax = df_thumbsUp['count'].plot(kind='bar')\n",
    "ax.set_xticklabels(['churn','not churn'], rotation=0)\n",
    "plt.ylabel('User count')\n",
    "plt.title('Nb of Thumbs Up by user');"
   ]
  },
  {
   "cell_type": "code",
   "execution_count": 503,
   "metadata": {},
   "outputs": [
    {
     "data": {
      "image/png": "[encoded data removed]",
      "text/plain": [
       "<matplotlib.figure.Figure at 0x7fc627aa39b0>"
      ]
     },
     "metadata": {
      "needs_background": "light"
     },
     "output_type": "display_data"
    }
   ],
   "source": [
    "df_thumbsDown = user_log_valid\\\n",
    ".filter(user_log_valid.page == 'Thumbs Down')\\\n",
    ".groupby(['churned_user'])\\\n",
    ".count()\\\n",
    ".toPandas()\n",
    "\n",
    "ax = df_thumbsDown['count'].plot(kind='bar')\n",
    "ax.set_xticklabels(['churn','not churn'], rotation=0)\n",
    "plt.ylabel('User count')\n",
    "plt.title('Nb of Thumbs Down by user');"
   ]
  },
  {
   "cell_type": "code",
   "execution_count": 504,
   "metadata": {},
   "outputs": [
    {
     "data": {
      "image/png": "[encoded data removed]",
      "text/plain": [
       "<matplotlib.figure.Figure at 0x7fc627fa7b00>"
      ]
     },
     "metadata": {
      "needs_background": "light"
     },
     "output_type": "display_data"
    }
   ],
   "source": [
    "df_registrationTime = user_log_valid\\\n",
    ".select('userId','registration','ts','churned_user')\\\n",
    ".withColumn('lifetime',(user_log_valid.ts - user_log_valid.registration))\\\n",
    ".groupBy('churned_user','userId')\\\n",
    ".agg({'lifetime':'max'})\\\n",
    ".withColumnRenamed('max(lifetime)','lifetime') \\\n",
    ".select('userId', 'churned_user',  'lifetime') \\\n",
    ".groupby('churned_user')\\\n",
    ".agg({'lifetime':'avg'})\\\n",
    ".toPandas()\n",
    "\n",
    "ax = df_registrationTime['avg(lifetime)'].plot(kind='bar')\n",
    "ax.set_xticklabels(['churn','not churn'], rotation=0)\n",
    "plt.ylabel('time')\n",
    "plt.title('Average registration time by user');"
   ]
  },
  {
   "cell_type": "code",
   "execution_count": null,
   "metadata": {},
   "outputs": [],
   "source": []
  },
  {
   "cell_type": "code",
   "execution_count": null,
   "metadata": {},
   "outputs": [],
   "source": []
  },
  {
   "cell_type": "code",
   "execution_count": null,
   "metadata": {},
   "outputs": [],
   "source": []
  },
  {
   "cell_type": "code",
   "execution_count": null,
   "metadata": {},
   "outputs": [],
   "source": []
  },
  {
   "cell_type": "code",
   "execution_count": null,
   "metadata": {},
   "outputs": [],
   "source": []
  },
  {
   "cell_type": "markdown",
   "metadata": {},
   "source": [
    "# Feature Engineering\n",
    "Once you've familiarized yourself with the data, build out the features you find promising to train your model on. To work with the full dataset, you can follow the following steps.\n",
    "- Write a script to extract the necessary features from the smaller subset of data\n",
    "- Ensure that your script is scalable, using the best practices discussed in Lesson 3\n",
    "- Try your script on the full data set, debugging your script if necessary\n",
    "\n",
    "If you are working in the classroom workspace, you can just extract features based on the small subset of data contained here. Be sure to transfer over this work to the larger dataset when you work on your Spark cluster."
   ]
  },
  {
   "cell_type": "raw",
   "metadata": {},
   "source": []
  },
  {
   "cell_type": "markdown",
   "metadata": {},
   "source": [
    "Let's build a spark dataframe based on the small dataset with userid being the key, and features the columns.\n",
    "- max item in session\n",
    "- total songs played\n",
    "- total time spent listening songs\n",
    "- total number of session\n",
    "- OS family\n",
    "- gender\n",
    "- thumbs up\n",
    "- thumbs down\n",
    "- number of songs added to playlist\n",
    "- number of friends added\n",
    "- registration time\n"
   ]
  },
  {
   "cell_type": "code",
   "execution_count": 505,
   "metadata": {},
   "outputs": [],
   "source": [
    "dfs_maxItemInSession = user_log_valid \\\n",
    ".select('userId','sessionId', 'itemInSession')\\\n",
    ".groupby('sessionId','userId')\\\n",
    ".agg({'itemInSession':'max'})\\\n",
    ".withColumnRenamed('max(itemInSession)','maxItemInSession') \\\n",
    ".select('userId','maxItemInSession')\\\n",
    ".groupby('userId')\\\n",
    ".agg({'maxItemInSession':'max'})\\\n",
    ".withColumnRenamed('max(maxItemInSession)','maxItemInSession')\n"
   ]
  },
  {
   "cell_type": "code",
   "execution_count": 506,
   "metadata": {},
   "outputs": [
    {
     "name": "stdout",
     "output_type": "stream",
     "text": [
      "+------+----------------+\n",
      "|userId|maxItemInSession|\n",
      "+------+----------------+\n",
      "|    18|             184|\n",
      "+------+----------------+\n",
      "\n"
     ]
    }
   ],
   "source": [
    "dfs_maxItemInSession.filter(dfs_maxItemInSession.userId == '18').show(3)"
   ]
  },
  {
   "cell_type": "code",
   "execution_count": 507,
   "metadata": {},
   "outputs": [],
   "source": [
    "dfs_totalSongsPlayed = user_log_valid\\\n",
    ".where(user_log_valid[\"page\"] == \"NextSong\")\\\n",
    ".groupby(\"userId\")\\\n",
    ".agg({\"page\" : \"count\"})\\\n",
    ".withColumnRenamed(\"count(page)\", \"totalSongsPlayed\")"
   ]
  },
  {
   "cell_type": "code",
   "execution_count": 508,
   "metadata": {},
   "outputs": [
    {
     "name": "stdout",
     "output_type": "stream",
     "text": [
      "+------+----------------+\n",
      "|userId|totalSongsPlayed|\n",
      "+------+----------------+\n",
      "|100010|             275|\n",
      "|200002|             387|\n",
      "|   125|               8|\n",
      "+------+----------------+\n",
      "only showing top 3 rows\n",
      "\n"
     ]
    }
   ],
   "source": [
    "dfs_totalSongsPlayed.show(3)"
   ]
  },
  {
   "cell_type": "code",
   "execution_count": 509,
   "metadata": {},
   "outputs": [],
   "source": [
    "dfs_totalTimePlayed = user_log_valid\\\n",
    ".where(user_log_valid[\"page\"] == \"NextSong\")\\\n",
    ".groupby(\"userId\")\\\n",
    ".agg({\"length\" : \"sum\"})\\\n",
    ".withColumnRenamed(\"sum(length)\", \"totalTimePlayed\")"
   ]
  },
  {
   "cell_type": "code",
   "execution_count": 510,
   "metadata": {},
   "outputs": [
    {
     "name": "stdout",
     "output_type": "stream",
     "text": [
      "+------+------------------+\n",
      "|userId|   totalTimePlayed|\n",
      "+------+------------------+\n",
      "|100010| 66940.89735000003|\n",
      "|200002| 94008.87593999993|\n",
      "|   125|2089.1131000000005|\n",
      "+------+------------------+\n",
      "only showing top 3 rows\n",
      "\n"
     ]
    }
   ],
   "source": [
    "dfs_totalTimePlayed.show(3)"
   ]
  },
  {
   "cell_type": "code",
   "execution_count": 511,
   "metadata": {},
   "outputs": [],
   "source": [
    "dfs_totalNumberSessions = user_log_valid\\\n",
    ".groupby(\"userId\")\\\n",
    ".agg(F.countDistinct(\"sessionId\"))\\\n",
    ".withColumnRenamed(\"count(DISTINCT sessionId)\", \"totalNbSessions\")"
   ]
  },
  {
   "cell_type": "code",
   "execution_count": 512,
   "metadata": {},
   "outputs": [
    {
     "name": "stdout",
     "output_type": "stream",
     "text": [
      "+------+---------------+\n",
      "|userId|totalNbSessions|\n",
      "+------+---------------+\n",
      "|100010|              7|\n",
      "|200002|              6|\n",
      "|   125|              1|\n",
      "+------+---------------+\n",
      "only showing top 3 rows\n",
      "\n"
     ]
    }
   ],
   "source": [
    "dfs_totalNumberSessions.show(3)"
   ]
  },
  {
   "cell_type": "code",
   "execution_count": 513,
   "metadata": {},
   "outputs": [],
   "source": [
    "dfs_OSFamily = user_log_valid\\\n",
    ".select('userId','OS_family')\\\n",
    ".dropDuplicates()"
   ]
  },
  {
   "cell_type": "code",
   "execution_count": 514,
   "metadata": {},
   "outputs": [
    {
     "name": "stdout",
     "output_type": "stream",
     "text": [
      "+------+---------+\n",
      "|userId|OS_family|\n",
      "+------+---------+\n",
      "|    71|    Apple|\n",
      "|   116|    Apple|\n",
      "|200008|  Windows|\n",
      "+------+---------+\n",
      "only showing top 3 rows\n",
      "\n"
     ]
    }
   ],
   "source": [
    "dfs_OSFamily.show(3)"
   ]
  },
  {
   "cell_type": "code",
   "execution_count": 515,
   "metadata": {},
   "outputs": [],
   "source": [
    "OS_families = dfs_OSFamily.select(\"OS_family\").distinct().rdd.flatMap(lambda x: x).collect()"
   ]
  },
  {
   "cell_type": "code",
   "execution_count": 516,
   "metadata": {},
   "outputs": [],
   "source": [
    "OS_family = [F.when(F.col(\"OS_family\") == OS, 1).otherwise(0).alias(OS) for OS in OS_families]"
   ]
  },
  {
   "cell_type": "code",
   "execution_count": 517,
   "metadata": {},
   "outputs": [],
   "source": [
    "dfs_OSFamily = dfs_OSFamily.select('userID',*OS_family)"
   ]
  },
  {
   "cell_type": "code",
   "execution_count": 518,
   "metadata": {},
   "outputs": [
    {
     "name": "stdout",
     "output_type": "stream",
     "text": [
      "+------+---------+-----+-------+\n",
      "|userID|Unix-Like|Apple|Windows|\n",
      "+------+---------+-----+-------+\n",
      "|    71|        0|    1|      0|\n",
      "|   116|        0|    1|      0|\n",
      "|200008|        0|    0|      1|\n",
      "+------+---------+-----+-------+\n",
      "only showing top 3 rows\n",
      "\n"
     ]
    }
   ],
   "source": [
    "dfs_OSFamily.show(3)"
   ]
  },
  {
   "cell_type": "code",
   "execution_count": 519,
   "metadata": {},
   "outputs": [],
   "source": [
    "dfs_gender = user_log_valid\\\n",
    ".select('userId', 'gender')\\\n",
    ".dropDuplicates()\\\n",
    ".replace({'M':'1', 'F':'0'}, subset='gender')"
   ]
  },
  {
   "cell_type": "code",
   "execution_count": 520,
   "metadata": {},
   "outputs": [
    {
     "name": "stdout",
     "output_type": "stream",
     "text": [
      "+------+------+\n",
      "|userId|gender|\n",
      "+------+------+\n",
      "|    44|     0|\n",
      "|    46|     0|\n",
      "|    41|     0|\n",
      "+------+------+\n",
      "only showing top 3 rows\n",
      "\n"
     ]
    }
   ],
   "source": [
    "dfs_gender.show(3)"
   ]
  },
  {
   "cell_type": "code",
   "execution_count": 521,
   "metadata": {},
   "outputs": [],
   "source": [
    "dfs_thumbsUp = user_log_valid\\\n",
    ".select('userId','page')\\\n",
    ".where(user_log_valid['page'] == 'Thumbs Up')\\\n",
    ".groupby('userId')\\\n",
    ".agg(F.count('page'))\\\n",
    ".withColumnRenamed(\"count(page)\", \"nbThumbsUp\")"
   ]
  },
  {
   "cell_type": "code",
   "execution_count": 522,
   "metadata": {},
   "outputs": [
    {
     "name": "stdout",
     "output_type": "stream",
     "text": [
      "+------+----------+\n",
      "|userId|nbThumbsUp|\n",
      "+------+----------+\n",
      "|100010|        17|\n",
      "|200002|        21|\n",
      "|    51|       100|\n",
      "+------+----------+\n",
      "only showing top 3 rows\n",
      "\n"
     ]
    }
   ],
   "source": [
    "dfs_thumbsUp.show(3)"
   ]
  },
  {
   "cell_type": "code",
   "execution_count": 523,
   "metadata": {},
   "outputs": [],
   "source": [
    "dfs_thumbsDown = user_log_valid\\\n",
    ".select('userId','page')\\\n",
    ".where(user_log_valid['page'] == 'Thumbs Down')\\\n",
    ".groupby('userId')\\\n",
    ".agg(F.count('page'))\\\n",
    ".withColumnRenamed(\"count(page)\", \"nbThumbsDown\")"
   ]
  },
  {
   "cell_type": "code",
   "execution_count": 524,
   "metadata": {},
   "outputs": [
    {
     "name": "stdout",
     "output_type": "stream",
     "text": [
      "+------+------------+\n",
      "|userId|nbThumbsDown|\n",
      "+------+------------+\n",
      "|100010|           5|\n",
      "|200002|           6|\n",
      "|    51|          21|\n",
      "+------+------------+\n",
      "only showing top 3 rows\n",
      "\n"
     ]
    }
   ],
   "source": [
    "dfs_thumbsDown.show(3)"
   ]
  },
  {
   "cell_type": "code",
   "execution_count": 525,
   "metadata": {},
   "outputs": [],
   "source": [
    "dfs_addToPlaylist = user_log_valid\\\n",
    ".select('userId','page')\\\n",
    ".where(user_log_valid['page'] == 'Add to Playlist')\\\n",
    ".groupby('userId')\\\n",
    ".agg(F.count('page'))\\\n",
    ".withColumnRenamed(\"count(page)\", \"nbAddPlaylist\")"
   ]
  },
  {
   "cell_type": "code",
   "execution_count": 526,
   "metadata": {},
   "outputs": [
    {
     "name": "stdout",
     "output_type": "stream",
     "text": [
      "+------+-------------+\n",
      "|userId|nbAddPlaylist|\n",
      "+------+-------------+\n",
      "|100010|            7|\n",
      "|200002|            8|\n",
      "|    51|           52|\n",
      "+------+-------------+\n",
      "only showing top 3 rows\n",
      "\n"
     ]
    }
   ],
   "source": [
    "dfs_addToPlaylist.show(3)"
   ]
  },
  {
   "cell_type": "code",
   "execution_count": 527,
   "metadata": {},
   "outputs": [],
   "source": [
    "dfs_addFriends = user_log_valid\\\n",
    ".select('userId','page')\\\n",
    ".where(user_log_valid['page'] == 'Add Friend')\\\n",
    ".groupby('userId')\\\n",
    ".agg(F.count('page'))\\\n",
    ".withColumnRenamed(\"count(page)\", \"nbAddFriend\")"
   ]
  },
  {
   "cell_type": "code",
   "execution_count": 528,
   "metadata": {},
   "outputs": [
    {
     "name": "stdout",
     "output_type": "stream",
     "text": [
      "+------+-----------+\n",
      "|userId|nbAddFriend|\n",
      "+------+-----------+\n",
      "|100010|          4|\n",
      "|200002|          4|\n",
      "|    51|         28|\n",
      "+------+-----------+\n",
      "only showing top 3 rows\n",
      "\n"
     ]
    }
   ],
   "source": [
    "dfs_addFriends.show(3)"
   ]
  },
  {
   "cell_type": "code",
   "execution_count": 529,
   "metadata": {},
   "outputs": [],
   "source": [
    "dfs_registrationTime = user_log_valid\\\n",
    ".select('userId','registration','ts')\\\n",
    ".withColumn('lifetime',(user_log_valid.ts - user_log_valid.registration)/1000)\\\n",
    ".groupBy('userId')\\\n",
    ".agg({'lifetime':'max'})\\\n",
    ".withColumnRenamed('max(lifetime)','lifetime') \\\n",
    ".select('userId', 'lifetime')"
   ]
  },
  {
   "cell_type": "code",
   "execution_count": 530,
   "metadata": {},
   "outputs": [
    {
     "name": "stdout",
     "output_type": "stream",
     "text": [
      "+------+---------+\n",
      "|userId| lifetime|\n",
      "+------+---------+\n",
      "|100010|4807612.0|\n",
      "|200002|6054448.0|\n",
      "|   125|6161779.0|\n",
      "+------+---------+\n",
      "only showing top 3 rows\n",
      "\n"
     ]
    }
   ],
   "source": [
    "dfs_registrationTime.show(3)"
   ]
  },
  {
   "cell_type": "code",
   "execution_count": 531,
   "metadata": {},
   "outputs": [],
   "source": [
    "dfs_churned = user_log_valid\\\n",
    ".select('userId','churned_user')\\\n",
    ".dropDuplicates()"
   ]
  },
  {
   "cell_type": "code",
   "execution_count": 532,
   "metadata": {},
   "outputs": [
    {
     "name": "stdout",
     "output_type": "stream",
     "text": [
      "+------+------------+\n",
      "|userId|churned_user|\n",
      "+------+------------+\n",
      "|100010|           0|\n",
      "|200002|           0|\n",
      "|   125|           1|\n",
      "+------+------------+\n",
      "only showing top 3 rows\n",
      "\n"
     ]
    }
   ],
   "source": [
    "dfs_churned.show(3)"
   ]
  },
  {
   "cell_type": "code",
   "execution_count": 533,
   "metadata": {},
   "outputs": [],
   "source": [
    "dfs = dfs_maxItemInSession\\\n",
    ".join(dfs_totalSongsPlayed,on='userId')\\\n",
    ".join(dfs_totalTimePlayed,on='userId')\\\n",
    ".join(dfs_totalNumberSessions,on='userId')\\\n",
    ".join(dfs_OSFamily,on='userId')\\\n",
    ".join(dfs_gender,on='userId')\\\n",
    ".join(dfs_thumbsUp,on='userId')\\\n",
    ".join(dfs_addToPlaylist,on='userId')\\\n",
    ".join(dfs_addFriends,on='userId')\\\n",
    ".join(dfs_registrationTime,on='userId')\\\n",
    ".join(dfs_churned,on='userId')"
   ]
  },
  {
   "cell_type": "code",
   "execution_count": 534,
   "metadata": {},
   "outputs": [
    {
     "name": "stdout",
     "output_type": "stream",
     "text": [
      "+------+----------------+----------------+------------------+---------------+---------+-----+-------+------+----------+-------------+-----------+-----------+------------+\n",
      "|userId|maxItemInSession|totalSongsPlayed|   totalTimePlayed|totalNbSessions|Unix-Like|Apple|Windows|gender|nbThumbsUp|nbAddPlaylist|nbAddFriend|   lifetime|churned_user|\n",
      "+------+----------------+----------------+------------------+---------------+---------+-----+-------+------+----------+-------------+-----------+-----------+------------+\n",
      "|100010|             111|             275| 66940.89735000003|              7|        0|    1|      0|     0|        17|            7|          4|  4807612.0|           0|\n",
      "|200002|             157|             387| 94008.87593999993|              6|        0|    1|      0|     1|        21|            8|          4|  6054448.0|           0|\n",
      "|   124|             530|            4079|1012312.0927899999|             29|        0|    1|      0|     0|       171|          118|         74|1.1366431E7|           0|\n",
      "+------+----------------+----------------+------------------+---------------+---------+-----+-------+------+----------+-------------+-----------+-----------+------------+\n",
      "only showing top 3 rows\n",
      "\n"
     ]
    }
   ],
   "source": [
    "dfs.show(3)"
   ]
  },
  {
   "cell_type": "code",
   "execution_count": 535,
   "metadata": {},
   "outputs": [],
   "source": [
    "# As it is really long to come back at this point I decide to save this spark dataframe in a csv file\n",
    "dfs.write.mode('overwrite').csv('dfs.csv',sep=';',header=True)\n"
   ]
  },
  {
   "cell_type": "code",
   "execution_count": null,
   "metadata": {},
   "outputs": [],
   "source": []
  },
  {
   "cell_type": "markdown",
   "metadata": {},
   "source": [
    "# Modeling\n",
    "Split the full dataset into train, test, and validation sets. Test out several of the machine learning methods you learned. Evaluate the accuracy of the various models, tuning parameters as necessary. Determine your winning model based on test accuracy and report results on the validation set. Since the churned users are a fairly small subset, I suggest using F1 score as the metric to optimize."
   ]
  },
  {
   "cell_type": "code",
   "execution_count": 536,
   "metadata": {},
   "outputs": [
    {
     "data": {
      "text/plain": [
       "'2.4.3'"
      ]
     },
     "execution_count": 536,
     "metadata": {},
     "output_type": "execute_result"
    }
   ],
   "source": [
    "spark.sparkContext.version"
   ]
  },
  {
   "cell_type": "markdown",
   "metadata": {},
   "source": [
    "The modeling will be done in several steps.\n",
    "- VectorAssembler transformer to combine all features into a single vector which can be use with linear regression and decision tree ML models\n",
    "- Normalizer to make sure our features are standardized before passed to any ML model or StandardScaler to have standard deviation and 0 mean\n",
    "- a classifier: DecisionTreeClassifier, RandomForestClassifier, GBTClassifier (https://spark.apache.org/docs/2.4.3/ml-classification-regression.html)\n",
    "\n"
   ]
  },
  {
   "cell_type": "code",
   "execution_count": 537,
   "metadata": {},
   "outputs": [],
   "source": [
    "from pyspark.ml.feature import VectorAssembler, StandardScaler\n",
    "from pyspark.ml.classification import RandomForestClassifier, DecisionTreeClassifier, GBTClassifier\n",
    "from pyspark.ml import Pipeline\n",
    "from pyspark.ml.evaluation import MulticlassClassificationEvaluator\n",
    "from pyspark.ml.tuning import ParamGridBuilder, CrossValidator"
   ]
  },
  {
   "cell_type": "code",
   "execution_count": 538,
   "metadata": {},
   "outputs": [],
   "source": [
    "# Now that we have saved the spark dataframe in a csv file, we can start again from here by loading this csv file\n",
    "# looking at the doc, infershema looks nice ;=)\n",
    "dfs = spark.read.csv('dfs.csv', sep=';', header=True, inferSchema=True)"
   ]
  },
  {
   "cell_type": "code",
   "execution_count": 539,
   "metadata": {},
   "outputs": [
    {
     "name": "stdout",
     "output_type": "stream",
     "text": [
      "root\n",
      " |-- userId: integer (nullable = true)\n",
      " |-- maxItemInSession: integer (nullable = true)\n",
      " |-- totalSongsPlayed: integer (nullable = true)\n",
      " |-- totalTimePlayed: double (nullable = true)\n",
      " |-- totalNbSessions: integer (nullable = true)\n",
      " |-- Unix-Like: integer (nullable = true)\n",
      " |-- Apple: integer (nullable = true)\n",
      " |-- Windows: integer (nullable = true)\n",
      " |-- gender: integer (nullable = true)\n",
      " |-- nbThumbsUp: integer (nullable = true)\n",
      " |-- nbAddPlaylist: integer (nullable = true)\n",
      " |-- nbAddFriend: integer (nullable = true)\n",
      " |-- lifetime: double (nullable = true)\n",
      " |-- churned_user: integer (nullable = true)\n",
      "\n"
     ]
    }
   ],
   "source": [
    "dfs.printSchema()"
   ]
  },
  {
   "cell_type": "code",
   "execution_count": 540,
   "metadata": {},
   "outputs": [],
   "source": [
    "inColumns = [col for col in dfs.columns if col not in ['userId','churned_user']]"
   ]
  },
  {
   "cell_type": "code",
   "execution_count": 541,
   "metadata": {},
   "outputs": [
    {
     "data": {
      "text/plain": [
       "['maxItemInSession',\n",
       " 'totalSongsPlayed',\n",
       " 'totalTimePlayed',\n",
       " 'totalNbSessions',\n",
       " 'Unix-Like',\n",
       " 'Apple',\n",
       " 'Windows',\n",
       " 'gender',\n",
       " 'nbThumbsUp',\n",
       " 'nbAddPlaylist',\n",
       " 'nbAddFriend',\n",
       " 'lifetime']"
      ]
     },
     "execution_count": 541,
     "metadata": {},
     "output_type": "execute_result"
    }
   ],
   "source": [
    "inColumns"
   ]
  },
  {
   "cell_type": "code",
   "execution_count": 542,
   "metadata": {},
   "outputs": [],
   "source": [
    "# Train-test split\n",
    "train, test = dfs.randomSplit([0.6, 0.4], seed=42)\n",
    "#test, val = temp.randomSplit([0.5, 0.5], seed=42)"
   ]
  },
  {
   "cell_type": "code",
   "execution_count": 543,
   "metadata": {},
   "outputs": [],
   "source": [
    "assembler = VectorAssembler(inputCols=inColumns , outputCol='vectorAssemblerFeatures')\n",
    "scaler = StandardScaler(inputCol='vectorAssemblerFeatures', outputCol='standardScalerFeatures')"
   ]
  },
  {
   "cell_type": "markdown",
   "metadata": {},
   "source": [
    "### Random Forest Classifier"
   ]
  },
  {
   "cell_type": "code",
   "execution_count": 544,
   "metadata": {},
   "outputs": [],
   "source": [
    "randomForestClassifier = RandomForestClassifier(featuresCol='standardScalerFeatures', labelCol='churned_user')\n",
    "pipeline = Pipeline(stages=[assembler, scaler, randomForestClassifier])"
   ]
  },
  {
   "cell_type": "code",
   "execution_count": 545,
   "metadata": {},
   "outputs": [],
   "source": [
    "model = pipeline.fit(train)\n",
    "preds = model.transform(test)"
   ]
  },
  {
   "cell_type": "code",
   "execution_count": 546,
   "metadata": {},
   "outputs": [
    {
     "name": "stdout",
     "output_type": "stream",
     "text": [
      "+------+------------+----------+\n",
      "|userId|churned_user|prediction|\n",
      "+------+------------+----------+\n",
      "|     6|           0|       0.0|\n",
      "|     7|           0|       0.0|\n",
      "|    13|           0|       0.0|\n",
      "+------+------------+----------+\n",
      "only showing top 3 rows\n",
      "\n"
     ]
    }
   ],
   "source": [
    "preds.select('userId','churned_user','prediction').show(3)"
   ]
  },
  {
   "cell_type": "code",
   "execution_count": 547,
   "metadata": {},
   "outputs": [],
   "source": [
    "evaluator = MulticlassClassificationEvaluator(\n",
    "    labelCol=\"churned_user\", \n",
    "    predictionCol=\"prediction\", \n",
    "    metricName=\"f1\")"
   ]
  },
  {
   "cell_type": "code",
   "execution_count": 548,
   "metadata": {},
   "outputs": [
    {
     "name": "stdout",
     "output_type": "stream",
     "text": [
      "f1_score = 0.6777435130673146\n",
      "accuracy = 0.7195121951219512\n"
     ]
    }
   ],
   "source": [
    "f1 = evaluator.evaluate(preds)\n",
    "print('f1_score = {}'.format(f1))\n",
    "\n",
    "p = preds['prediction','churned_user'].toPandas()\n",
    "accuracy = np.sum(p['prediction'] == p['churned_user'])/len(p)\n",
    "print('accuracy = {}'.format(accuracy))"
   ]
  },
  {
   "cell_type": "markdown",
   "metadata": {},
   "source": [
    "### Decision Tree Classifier"
   ]
  },
  {
   "cell_type": "code",
   "execution_count": 549,
   "metadata": {},
   "outputs": [],
   "source": [
    "decisionTreeClassifier = DecisionTreeClassifier(featuresCol='standardScalerFeatures', labelCol='churned_user')\n",
    "pipeline = Pipeline(stages=[assembler, scaler, decisionTreeClassifier])\n",
    "model = pipeline.fit(train)\n",
    "preds = model.transform(test)"
   ]
  },
  {
   "cell_type": "code",
   "execution_count": 550,
   "metadata": {},
   "outputs": [
    {
     "name": "stdout",
     "output_type": "stream",
     "text": [
      "f1_score = 0.6535937120168543\n",
      "accuracy = 0.6707317073170732\n"
     ]
    }
   ],
   "source": [
    "f1 = evaluator.evaluate(preds)\n",
    "print('f1_score = {}'.format(f1))\n",
    "\n",
    "p = preds['prediction','churned_user'].toPandas()\n",
    "accuracy = np.sum(p['prediction'] == p['churned_user'])/len(p)\n",
    "print('accuracy = {}'.format(accuracy))"
   ]
  },
  {
   "cell_type": "markdown",
   "metadata": {},
   "source": [
    "### Gradient Boosted Tree Classifier"
   ]
  },
  {
   "cell_type": "code",
   "execution_count": 551,
   "metadata": {},
   "outputs": [],
   "source": [
    "GBTClassifier = GBTClassifier(featuresCol='standardScalerFeatures', labelCol='churned_user')\n",
    "pipeline = Pipeline(stages=[assembler, scaler, GBTClassifier])\n",
    "model = pipeline.fit(train)\n",
    "preds = model.transform(test)"
   ]
  },
  {
   "cell_type": "code",
   "execution_count": 552,
   "metadata": {},
   "outputs": [
    {
     "name": "stdout",
     "output_type": "stream",
     "text": [
      "f1_score = 0.6535937120168543\n",
      "accuracy = 0.6707317073170732\n"
     ]
    }
   ],
   "source": [
    "f1 = evaluator.evaluate(preds)\n",
    "print('f1_score = {}'.format(f1))\n",
    "\n",
    "p = preds['prediction','churned_user'].toPandas()\n",
    "accuracy = np.sum(p['prediction'] == p['churned_user'])/len(p)\n",
    "print('accuracy = {}'.format(accuracy))"
   ]
  },
  {
   "cell_type": "markdown",
   "metadata": {},
   "source": [
    "### Random Forest optimization with crossvalidator"
   ]
  },
  {
   "cell_type": "code",
   "execution_count": 553,
   "metadata": {},
   "outputs": [],
   "source": [
    "pipeline = Pipeline(stages=[assembler, scaler, randomForestClassifier])"
   ]
  },
  {
   "cell_type": "code",
   "execution_count": 554,
   "metadata": {},
   "outputs": [],
   "source": [
    "# https://spark.apache.org/docs/2.4.3/mllib-ensembles.html#random-forests\n",
    "# https://spark.apache.org/docs/2.4.3/api/python/pyspark.ml.html#module-pyspark.ml.tuning\n",
    "param_grid = ParamGridBuilder()\\\n",
    ".addGrid(randomForestClassifier.impurity, ['gini','entropy'])\\\n",
    ".addGrid(randomForestClassifier.numTrees, [40, 50, 60])\\\n",
    ".addGrid(randomForestClassifier.maxDepth, [10, 15])\\\n",
    ".build()\n",
    "\n",
    "cv = CrossValidator(estimator=pipeline,\n",
    "                    estimatorParamMaps = param_grid, \n",
    "                    evaluator = evaluator,\n",
    "                    numFolds=2)"
   ]
  },
  {
   "cell_type": "code",
   "execution_count": 555,
   "metadata": {},
   "outputs": [],
   "source": [
    "model = cv.fit(train)\n",
    "preds = model.transform(test)"
   ]
  },
  {
   "cell_type": "code",
   "execution_count": 556,
   "metadata": {},
   "outputs": [
    {
     "data": {
      "text/plain": [
       "0.7245479917485742"
      ]
     },
     "execution_count": 556,
     "metadata": {},
     "output_type": "execute_result"
    }
   ],
   "source": [
    "evaluator.evaluate(preds)"
   ]
  },
  {
   "cell_type": "code",
   "execution_count": 557,
   "metadata": {},
   "outputs": [
    {
     "data": {
      "text/plain": [
       "{Param(parent='RandomForestClassifier_a38a87543ebd', name='cacheNodeIds', doc='If false, the algorithm will pass trees to executors to match instances with nodes. If true, the algorithm will cache node IDs for each instance. Caching can speed up training of deeper trees.'): False,\n",
       " Param(parent='RandomForestClassifier_a38a87543ebd', name='checkpointInterval', doc='set checkpoint interval (>= 1) or disable checkpoint (-1). E.g. 10 means that the cache will get checkpointed every 10 iterations. Note: this setting will be ignored if the checkpoint directory is not set in the SparkContext'): 10,\n",
       " Param(parent='RandomForestClassifier_a38a87543ebd', name='featureSubsetStrategy', doc='The number of features to consider for splits at each tree node. Supported options: auto, all, onethird, sqrt, log2, (0.0-1.0], [1-n].'): 'auto',\n",
       " Param(parent='RandomForestClassifier_a38a87543ebd', name='featuresCol', doc='features column name'): 'standardScalerFeatures',\n",
       " Param(parent='RandomForestClassifier_a38a87543ebd', name='impurity', doc='Criterion used for information gain calculation (case-insensitive). Supported options: entropy, gini'): 'gini',\n",
       " Param(parent='RandomForestClassifier_a38a87543ebd', name='labelCol', doc='label column name'): 'churned_user',\n",
       " Param(parent='RandomForestClassifier_a38a87543ebd', name='maxBins', doc='Max number of bins for discretizing continuous features.  Must be >=2 and >= number of categories for any categorical feature.'): 32,\n",
       " Param(parent='RandomForestClassifier_a38a87543ebd', name='maxDepth', doc='Maximum depth of the tree. (>= 0) E.g., depth 0 means 1 leaf node; depth 1 means 1 internal node + 2 leaf nodes.'): 10,\n",
       " Param(parent='RandomForestClassifier_a38a87543ebd', name='maxMemoryInMB', doc='Maximum memory in MB allocated to histogram aggregation.'): 256,\n",
       " Param(parent='RandomForestClassifier_a38a87543ebd', name='minInfoGain', doc='Minimum information gain for a split to be considered at a tree node.'): 0.0,\n",
       " Param(parent='RandomForestClassifier_a38a87543ebd', name='minInstancesPerNode', doc='Minimum number of instances each child must have after split.  If a split causes the left or right child to have fewer than minInstancesPerNode, the split will be discarded as invalid. Should be >= 1.'): 1,\n",
       " Param(parent='RandomForestClassifier_a38a87543ebd', name='numTrees', doc='Number of trees to train (>= 1)'): 40,\n",
       " Param(parent='RandomForestClassifier_a38a87543ebd', name='predictionCol', doc='prediction column name'): 'prediction',\n",
       " Param(parent='RandomForestClassifier_a38a87543ebd', name='probabilityCol', doc='Column name for predicted class conditional probabilities. Note: Not all models output well-calibrated probability estimates! These probabilities should be treated as confidences, not precise probabilities'): 'probability',\n",
       " Param(parent='RandomForestClassifier_a38a87543ebd', name='rawPredictionCol', doc='raw prediction (a.k.a. confidence) column name'): 'rawPrediction',\n",
       " Param(parent='RandomForestClassifier_a38a87543ebd', name='seed', doc='random seed'): -6461976027915248824,\n",
       " Param(parent='RandomForestClassifier_a38a87543ebd', name='subsamplingRate', doc='Fraction of the training data used for learning each decision tree, in range (0, 1].'): 1.0}"
      ]
     },
     "execution_count": 557,
     "metadata": {},
     "output_type": "execute_result"
    }
   ],
   "source": [
    "model.bestModel.stages[2].extractParamMap()"
   ]
  },
  {
   "cell_type": "code",
   "execution_count": 558,
   "metadata": {},
   "outputs": [
    {
     "data": {
      "text/plain": [
       "SparseVector(12, {0: 0.1321, 1: 0.1062, 2: 0.0751, 3: 0.0719, 4: 0.0041, 5: 0.0204, 6: 0.0135, 7: 0.016, 8: 0.1148, 9: 0.0944, 10: 0.0971, 11: 0.2544})"
      ]
     },
     "execution_count": 558,
     "metadata": {},
     "output_type": "execute_result"
    }
   ],
   "source": [
    "model.bestModel.stages[2].featureImportances"
   ]
  },
  {
   "cell_type": "code",
   "execution_count": 559,
   "metadata": {},
   "outputs": [
    {
     "data": {
      "text/plain": [
       "array([ 0,  1,  2,  3,  4,  5,  6,  7,  8,  9, 10, 11])"
      ]
     },
     "execution_count": 559,
     "metadata": {},
     "output_type": "execute_result"
    }
   ],
   "source": [
    "np.arange(len(inColumns))"
   ]
  },
  {
   "cell_type": "code",
   "execution_count": 560,
   "metadata": {},
   "outputs": [
    {
     "data": {
      "image/png": "[encoded data removed]",
      "text/plain": [
       "<matplotlib.figure.Figure at 0x7fc62c3d5518>"
      ]
     },
     "metadata": {
      "needs_background": "light"
     },
     "output_type": "display_data"
    }
   ],
   "source": [
    "import matplotlib.pyplot as plt\n",
    "feat_imp = model.bestModel.stages[2].featureImportances.values\n",
    "y_pos = np.arange(len(inColumns))\n",
    " \n",
    "plt.barh(y_pos, feat_imp, align='center')\n",
    "plt.yticks(y_pos, inColumns)\n",
    "plt.xlabel('Importance Score')\n",
    "plt.title('Feature Importances');"
   ]
  },
  {
   "cell_type": "markdown",
   "metadata": {},
   "source": [
    "# Conclusion\n",
    "We have loaded and cleaned the data.\n",
    "We have looked at some of the information available to us and made our choice on the one We decided to keep as relevant features.\n",
    "Finally, we have build some model to predict on who will churn. This has been done with the help of a vector of feature, a scaler and a classifier. All of them have been added to a pipeline has we have learned during this Udacity training.\n",
    "This has been quite some efforts to make this project, but a very instructive one, epecially learning the Spark syntax and understand its capabilities.\n",
    "Thank you."
   ]
  },
  {
   "cell_type": "markdown",
   "metadata": {},
   "source": [
    "# Final Steps\n",
    "Clean up your code, adding comments and renaming variables to make the code easier to read and maintain. Refer to the Spark Project Overview page and Data Scientist Capstone Project Rubric to make sure you are including all components of the capstone project and meet all expectations. Remember, this includes thorough documentation in a README file in a Github repository, as well as a web app or blog post."
   ]
  },
  {
   "cell_type": "code",
   "execution_count": null,
   "metadata": {},
   "outputs": [],
   "source": []
  }
 ],
 "metadata": {
  "kernelspec": {
   "display_name": "Python 3",
   "language": "python",
   "name": "python3"
  },
  "language_info": {
   "codemirror_mode": {
    "name": "ipython",
    "version": 3
   },
   "file_extension": ".py",
   "mimetype": "text/x-python",
   "name": "python",
   "nbconvert_exporter": "python",
   "pygments_lexer": "ipython3",
   "version": "3.6.3"
  }
 },
 "nbformat": 4,
 "nbformat_minor": 2
}
